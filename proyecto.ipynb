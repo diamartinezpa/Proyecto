{
 "cells": [
  {
   "cell_type": "markdown",
   "id": "250365ef-a608-42c7-b24e-7d8365981de3",
   "metadata": {},
   "source": [
    "### **<p style=\"text-align: center;\">Comparación modelo logístico clásico con modelos de redes neuronales en modelos de originación en el sistema financiero</p>**\n",
    "##### Autor:Diego Andrés Martínez Parada"
   ]
  },
  {
   "cell_type": "markdown",
   "id": "50a5ef86-3e20-4431-9e42-b6423b5fadd0",
   "metadata": {},
   "source": [
    "**Introducción:**\n",
    "\n",
    "En el ámbito del aprendizaje automático y la estadística, la selección del modelo adecuado es crucial para la precisión y la eficacia de las predicciones. Entre los modelos más utilizados en la clasificación binaria, se encuentran el modelo logístico clásico, el modelo logístico optimizado mediante descenso del gradiente, y las redes neuronales. Cada uno de estos enfoques tiene sus propias ventajas y limitaciones, y la elección del modelo puede depender de factores como la complejidad del problema, la cantidad de datos disponibles y los recursos computacionales.\n",
    "\n",
    "El modelo logístico clásico, basado en la regresión logística, es ampliamente conocido por su simplicidad y su capacidad para ofrecer interpretaciones claras. Este modelo utiliza una función sigmoidea para modelar la probabilidad de una clase binaria y se ajusta utilizando técnicas de máxima verosimilitud. Su eficiencia y facilidad de implementación lo convierten en una herramienta fundamental en la práctica estadística y en la ciencia de datos.\n",
    "\n",
    "Por otro lado, el modelo logístico mediante descenso del gradiente representa una evolución significativa del enfoque clásico. Aunque la regresión logística sigue siendo el núcleo del modelo, el descenso del gradiente es un método de optimización utilizado para ajustar los parámetros del modelo. Este enfoque permite una optimización más eficiente y puede manejar problemas de alta dimensionalidad y grandes conjuntos de datos, ofreciendo flexibilidad adicional en términos de ajuste y regularización.\n",
    "\n",
    "En contraste, las redes neuronales han emergido como una poderosa herramienta para la clasificación y la predicción en problemas complejos. A través de múltiples capas de neuronas, las redes neuronales pueden modelar relaciones no lineales y capturar patrones complejos en los datos. Las técnicas de aprendizaje profundo, una extensión de las redes neuronales, han demostrado ser particularmente efectivas en la extracción de características y en la mejora del rendimiento predictivo.\n",
    "\n",
    "El objetivo de este trabajo es comparar estos tres enfoques en términos de su capacidad predictiva por medio de las métricas de desempeño y los backtesting utilizados ampliamente en el sector financiero en un conjunto de datos que provee el Banco para realizar originación en un producto de microcrédito, el **evento** se toma como aquellos créditos que tuvieron una mora de más de 30 días en los 12 meses siguientes a partir de la fecha de la primera cuota. La comparación se centrará en cómo cada modelo maneja el ajuste de parámetros, la interpretación de resultados, y la capacidad para generalizar a datos no vistos. "
   ]
  },
  {
   "cell_type": "code",
   "execution_count": 428,
   "id": "ec967776-9b5f-490b-89d2-9a0578ca7fc4",
   "metadata": {
    "tags": []
   },
   "outputs": [
    {
     "name": "stdout",
     "output_type": "stream",
     "text": [
      "The autoreload extension is already loaded. To reload it, use:\n",
      "  %reload_ext autoreload\n"
     ]
    }
   ],
   "source": [
    "## Caragar librerias necesiarias para el modelamiento\n",
    "from matplotlib import pyplot as plt\n",
    "import os\n",
    "import pickle\n",
    "import random\n",
    "import seaborn as sns\n",
    "import pandas as pd                                 #Procesamiento de datos.\n",
    "import numpy as np                                  #Álgebra lineal.\n",
    "import math                                         #Para calcular función piso y techo.\n",
    "import seaborn as sns\n",
    "seed=42\n",
    "random.seed(seed)\n",
    "np.random.seed(seed)\n",
    "import copy\n",
    "import h5py #\n",
    "import scipy\n",
    "from PIL import Image\n",
    "from scipy import ndimage\n",
    "\n",
    "%matplotlib inline\n",
    "%load_ext autoreload\n",
    "%autoreload 2\n",
    "\n",
    "from sklearn import model_selection \n",
    "from sklearn.preprocessing import MinMaxScaler, LabelEncoder\n",
    "from sklearn.model_selection import train_test_split, cross_validate, StratifiedKFold, cross_val_predict\n",
    "from sklearn.linear_model import LogisticRegression\n",
    "from sklearn.metrics import accuracy_score, precision_score, recall_score, f1_score, roc_auc_score, log_loss, confusion_matrix"
   ]
  },
  {
   "cell_type": "code",
   "execution_count": 429,
   "id": "4d33287e-1a80-4f78-995d-60d9cbf0f263",
   "metadata": {
    "tags": []
   },
   "outputs": [],
   "source": [
    "# Cargar los datos\n",
    "datos = pd.read_excel('BASE_CALIFICADA_VAR_COMPLETA.xlsx', sheet_name='Sheet1')\n",
    "#list(datos.columns)"
   ]
  },
  {
   "cell_type": "markdown",
   "id": "1d0aae37-00c1-4cc4-80ea-f3f61beed796",
   "metadata": {},
   "source": [
    "**Conjunto de datos y características**\n",
    "\n",
    "El conjunto de datos cuenta con los siguientes identificadores y variables, las variables Dummy se generaron a partir de las variables cuantitativas y cortes hechos por binning e information value. El último valor llamado **Probabilidad** se refiere a los valores calculados por un modelo de regresión logística clásica, este se obtuvo por medio de validación cruzada (10 fold) y se comprobó que las variables que allí se usaron pasaran pruebas VIF para evitar multicolinealidad. Este último modelo puede ser encontrado en el archivo **codigo_modelo.ipynb** las gráficas descriptivas se pueden encontrar en *\n",
    "**AUX_STEPWISE_VARIABLES.ipynb**. El modelo fue construido para un producto Bancario en Agosto de 2024.\n",
    "\n",
    "|NOMBRE|TIPO|\n",
    "|------|----|\n",
    "|CREDITO|Llave|\n",
    "|EVENTO|Mora 30-12|\n",
    "|SCORE|Cuantitava dada por el BURO|\n",
    "|EDAD|Cuantitativa|\n",
    "|NUMERO_HIJOS|Cuantitativa|\n",
    "|PERSONAS_A_CARGO|Cuantitativa|\n",
    "|EXPERIENCIA_ACTIVIDAD|Cuantitativa (Meses)|\n",
    "|ANTIGUEDAD_NEGOCIO|Cuantitativa (Meses)|\n",
    "|TIEMPO_LOCAL|Cuantitativa (Meses)|\n",
    "|TIEMPO_VIVIR_VIVIENDA|Cuantitativa (Meses)|\n",
    "|VENTAS|Cuantitativa (SMLV)|\n",
    "|COSTO_DE_VENTAS|Cuantitativa (SMLV)|\n",
    "|UTILIDAD_BRUTA|Cuantitativa (SMLV)|\n",
    "|REMUNERACION_PERSONAL|Cuantitativa (SMLV)|\n",
    "|CUOTAS_FINANCIERAS|Cuantitativa (SMLV)|\n",
    "|TOTAL_GASTOS|Cuantitativa (SMLV)|\n",
    "|UTILIDAD_MICROEMPRESA|Cuantitativa (SMLV)|\n",
    "|INGRESOS_FAMILIARES|Cuantitativa (SMLV)|\n",
    "|EGRESOS_FAMILIARES|Cuantitativa (SMLV)|\n",
    "|BANCOS|Cuantitativa (SMLV)|\n",
    "|ACTIVOS_TOTAL|Cuantitativa (SMLV)|\n",
    "|OBLIGACIONES_FINANCIERAS|Cuantitativa (SMLV)|\n",
    "|TOTAL_PASIVOS|Cuantitativa (SMLV)|\n",
    "|TOTAL_PATRIMONIO|Cuantitativa (SMLV)|\n",
    "|TIPO_VINCULACION_1|Dummy|\n",
    "|NUMERO_HIJOS_1_TIPO_VINCULACION_1|Dummy|\n",
    "|EDAD_3_TIPO_VINCULACION_1|Dummy|\n",
    "|TIPO_VIVIENDA_1_TIPO_VINCULACION_1|Dummy|\n",
    "|ANTIGUEDAD_NEGOCIO_1_TIPO_VINCULACION_1|Dummy|\n",
    "|TIPO_VIVIENDA_1|Dummy|\n",
    "|SCORE_3_TIPO_VINCULACION_1|Dummy|\n",
    "|TIPO_VIVIENDA_1_EDAD_3|Dummy|\n",
    "|SCORE_1_ACTIVOS_TOTAL_1|Dummy|\n",
    "|SCORE_1|Dummy|\n",
    "|VENTAS_2_TIPO_VINCULACION_1|Dummy|\n",
    "|ACTIVOS_TOTAL_1|Dummy|\n",
    "|RAZON_PASIVOS_ACTIVOS_2_TIPO_VINCULACION_1|Dummy|\n",
    "|CIUDAD_1_ACTIVOS_TOTAL_1|Dummy|\n",
    "|SCORE_1_TOTAL_PASIVOS_1|Dummy|\n",
    "|ACTIVOS_TOTAL_2_TIPO_VINCULACION_1|Dummy|\n",
    "|TOTAL_PASIVOS_1_ACTIVOS_TOTAL_1|Dummy|\n",
    "|ESTADO_CIVIL_1_ACTIVOS_TOTAL_1|Dummy|\n",
    "|SCORE_4|Dummy|\n",
    "|VENTAS_2_ACTIVOS_TOTAL_1|Dummy|\n",
    "|ANTIGUEDAD_NEGOCIO_1|Dummy|\n",
    "|ACTIVOS_TOTAL_3|Dummy|\n",
    "|ACTIVOS_TOTAL_1_TIPO_VIVIENDA_3|Dummy|\n",
    "|ANTIGUEDAD_NEGOCIO_1_EDAD_3|Dummy|\n",
    "|SCORE_4_EDAD_3|Dummy|\n",
    "|TIPO_VIVIENDA_1_RAZON_PASIVOS_ACTIVOS_2|Dummy|\n",
    "|NUMERO_HIJOS_1_EDAD_3|Dummy|\n",
    "|SCORE_3|Dummy|\n",
    "|SCORE_3_EDAD_3|Dummy|\n",
    "|CIUDAD_1_TIPO_VINCULACION_1|Dummy|\n",
    "|ESTADO_CIVIL_3_TIPO_VINCULACION_1|Dummy|\n",
    "|SCORE_4_TIPO_VINCULACION_1|Dummy|\n",
    "|TIPO_VIVIENDA_3|Dummy|\n",
    "|EDAD_3|Dummy|\n",
    "|SCORE_1_TIPO_VIVIENDA_3|Dummy|\n",
    "|TOTAL_PASIVOS_2_TIPO_VINCULACION_1|Dummy|\n",
    "|ACTIVOS_TOTAL_1_GENERO_1|Dummy|\n",
    "|VENTAS_2_TIPO_VIVIENDA_3|Dummy|\n",
    "|ACTIVOS_TOTAL_3_EDAD_3|Dummy|\n",
    "|SCORE_1_GENERO_1|Dummy|\n",
    "|ESTADO_CIVIL_1_TOTAL_PASIVOS_1|Dummy|\n",
    "|TOTAL_PASIVOS_1_TIPO_VIVIENDA_3|Dummy|\n",
    "|TOTAL_PASIVOS_1_TIPO_VINCULACION_1|Dummy|\n",
    "|ESTADO_CIVIL_1_TIPO_VIVIENDA_3|Dummy|\n",
    "|TIPO_VIVIENDA_1_ESTADO_CIVIL_3|Dummy|\n",
    "|CIUDAD_1_TOTAL_PASIVOS_1|Dummy|\n",
    "|CIIU_2_ACTIVOS_TOTAL_1|Dummy|\n",
    "|ANTIGUEDAD_NEGOCIO_1_RAZON_PASIVOS_ACTIVOS_2|Dummy|\n",
    "|ESTADO_CIVIL_1_TIPO_VINCULACION_1|Dummy|\n",
    "|ACTIVOS_TOTAL_3_TIPO_VINCULACION_1|Dummy|\n",
    "|ANTIGUEDAD_NEGOCIO_1_ESTADO_CIVIL_3|Dummy|\n",
    "|ACTIVOS_TOTAL_3_RAZON_PASIVOS_ACTIVOS_2|Dummy|\n",
    "|SCORE_4_RAZON_PASIVOS_ACTIVOS_2|Dummy|\n",
    "|EDAD_2_ACTIVOS_TOTAL_1|Dummy|\n",
    "|ESTADO_CIVIL_3|Dummy|\n",
    "|RAZON_PASIVOS_ACTIVOS_2_EDAD_3|Dummy|\n",
    "|EDAD_3_ESTADO_CIVIL_3|Dummy|\n",
    "|NUMERO_HIJOS_1_ESTADO_CIVIL_3|Dummy|\n",
    "|NUMERO_HIJOS_1|Dummy|\n",
    "|CIUDAD_1_TIPO_VIVIENDA_3|Dummy|\n",
    "|ACTIVOS_TOTAL_2_EDAD_3|Dummy|\n",
    "|GENERO_1_TIPO_VINCULACION_1|Dummy|\n",
    "|VENTAS_2_TOTAL_PASIVOS_1|Dummy|\n",
    "|CIIU_2_TOTAL_PASIVOS_1|Dummy|\n",
    "|TOTAL_PASIVOS_1|Dummy|\n",
    "|CIIU_2_TIPO_VINCULACION_1|Dummy|\n",
    "|EDAD_1_ACTIVOS_TOTAL_1|Dummy|\n",
    "|TIPO_VIVIENDA_3_GENERO_1|Dummy|\n",
    "|EDAD_1|Dummy|\n",
    "|ESTADO_CIVIL_1_GENERO_1|Dummy|\n",
    "|EDAD_2_TIPO_VIVIENDA_3|Dummy|\n",
    "|SCORE_2_ACTIVOS_TOTAL_1|Dummy|\n",
    "|SCORE_3_RAZON_PASIVOS_ACTIVOS_2|Dummy|\n",
    "|ACTIVOS_TOTAL_3_GENERO_1|Dummy|\n",
    "|TOTAL_PASIVOS_2_EDAD_3|Dummy|\n",
    "|ESTADO_CIVIL_1|Dummy|\n",
    "|CIIU_2_TIPO_VIVIENDA_3|Dummy|\n",
    "|SCORE_3_ESTADO_CIVIL_3|Dummy|\n",
    "|SCORE_2_TIPO_VIVIENDA_3|Dummy|\n",
    "|CIUDAD_3_TIPO_VINCULACION_1|Dummy|\n",
    "|TOTAL_PASIVOS_3_TIPO_VINCULACION_1|Dummy|\n",
    "|CIUDAD_3_EDAD_3|Dummy|\n",
    "|TOTAL_PASIVOS_1_GENERO_1|Dummy|\n",
    "|EDAD_1_TOTAL_PASIVOS_1|Dummy|\n",
    "|NUMERO_HIJOS_1_RAZON_PASIVOS_ACTIVOS_2|Dummy|\n",
    "|SCORE_4_ESTADO_CIVIL_3|Dummy|\n",
    "|ACTIVOS_TOTAL_1_TIPO_VINCULACION_1|Dummy|\n",
    "|CIIU_6|Dummy|\n",
    "|ACTIVOS_TOTAL_2_ESTADO_CIVIL_3|Dummy|\n",
    "|TOTAL_PASIVOS_3|Dummy|\n",
    "|RAZON_PASIVOS_ACTIVOS_2_ESTADO_CIVIL_3|Dummy|\n",
    "|CIIU_6_EDAD_3|Dummy|\n",
    "|ACTIVOS_TOTAL_2|Dummy|\n",
    "|EDAD_2_TOTAL_PASIVOS_1|Dummy|\n",
    "|TOTAL_PASIVOS_3_EDAD_3|Dummy|\n",
    "|TOTAL_PASIVOS_2_RAZON_PASIVOS_ACTIVOS_2|Dummy|\n",
    "|VENTAS_2_ESTADO_CIVIL_3|Dummy|\n",
    "|TIPO_VIVIENDA_1_GENERO_1|Dummy|\n",
    "|EDAD_2_TIPO_VINCULACION_1|Dummy|\n",
    "|SCORE_2_TOTAL_PASIVOS_1|Dummy|\n",
    "|EDAD_2|Dummy|\n",
    "|CIIU_2_GENERO_1|Dummy|\n",
    "|SCORE_1_RAZON_PASIVOS_ACTIVOS_2|Dummy|\n",
    "|SCORE_2|Dummy|\n",
    "|SCORE_2_GENERO_1|Dummy|\n",
    "|TOTAL_PASIVOS_3_RAZON_PASIVOS_ACTIVOS_2|Dummy|\n",
    "|TOTAL_PASIVOS_2_ESTADO_CIVIL_3|Dummy|\n",
    "|SCORE_4_TOTAL_PASIVOS_1|Dummy|\n",
    "|ACTIVOS_TOTAL_3_ESTADO_CIVIL_3|Dummy|\n",
    "|SCORE_4_GENERO_1|Dummy|\n",
    "|CIIU_6_TIPO_VINCULACION_1|Dummy|\n",
    "|VENTAS_2_GENERO_1|Dummy|\n",
    "|CIUDAD_3_ESTADO_CIVIL_3|Dummy|\n",
    "|FECHA_DESEMBOLSO|Dummy|\n",
    "|**PROBABILIDAD**|*Probabilidad modelo clásico*|\n",
    "\n",
    "**Descripción general y evento**\n",
    "\n",
    "<img src=\"images/exclusiones_evento.PNG\" style=\"width:900px;height:600px;\">\n"
   ]
  },
  {
   "cell_type": "markdown",
   "id": "5eb95e9c-f68c-473f-9a59-fd6f3ecb2ecf",
   "metadata": {},
   "source": [
    "#### **Descriptiva variables dummy usadas en modelo logístico clásico, definición y betas**\n",
    "\n",
    "<img src=\"images/variables_selec_betas.PNG\" style=\"width:900px;height:400px;\">\n",
    "\n",
    "<img src=\"images/descrip1.PNG\" style=\"width:900px;height:500px;\">\n",
    "\n",
    "<img src=\"images/descrip2.PNG\" style=\"width:900px;height:500px;\">\n",
    "\n",
    "<img src=\"images/descrip3.PNG\" style=\"width:900px;height:500px;\">\n",
    "\n",
    "<img src=\"images/descrip4.PNG\" style=\"width:900px;height:500px;\">\n",
    "\n",
    "<img src=\"images/descrip5.PNG\" style=\"width:900px;height:500px;\">\n",
    "\n",
    "<img src=\"images/descrip6.PNG\" style=\"width:900px;height:500px;\">\n",
    "\n",
    "<img src=\"images/descrip7.PNG\" style=\"width:900px;height:500px;\">\n",
    "\n",
    "<img src=\"images/descrip8.PNG\" style=\"width:900px;height:500px;\">"
   ]
  },
  {
   "cell_type": "code",
   "execution_count": 441,
   "id": "f3248fd6-0947-4f52-af13-876af66d0a05",
   "metadata": {
    "tags": []
   },
   "outputs": [
    {
     "data": {
      "text/html": [
       "<div>\n",
       "<style scoped>\n",
       "    .dataframe tbody tr th:only-of-type {\n",
       "        vertical-align: middle;\n",
       "    }\n",
       "\n",
       "    .dataframe tbody tr th {\n",
       "        vertical-align: top;\n",
       "    }\n",
       "\n",
       "    .dataframe thead th {\n",
       "        text-align: right;\n",
       "    }\n",
       "</style>\n",
       "<table border=\"1\" class=\"dataframe\">\n",
       "  <thead>\n",
       "    <tr style=\"text-align: right;\">\n",
       "      <th></th>\n",
       "      <th>count</th>\n",
       "      <th>mean</th>\n",
       "      <th>std</th>\n",
       "      <th>min</th>\n",
       "      <th>25%</th>\n",
       "      <th>50%</th>\n",
       "      <th>75%</th>\n",
       "      <th>max</th>\n",
       "    </tr>\n",
       "  </thead>\n",
       "  <tbody>\n",
       "    <tr>\n",
       "      <th>SCORE</th>\n",
       "      <td>19005.0</td>\n",
       "      <td>675.932176</td>\n",
       "      <td>140.740458</td>\n",
       "      <td>0.000000</td>\n",
       "      <td>614.000000</td>\n",
       "      <td>684.000000</td>\n",
       "      <td>762.000000</td>\n",
       "      <td>999.000000</td>\n",
       "    </tr>\n",
       "    <tr>\n",
       "      <th>EDAD</th>\n",
       "      <td>19005.0</td>\n",
       "      <td>43.366626</td>\n",
       "      <td>13.852775</td>\n",
       "      <td>18.252055</td>\n",
       "      <td>32.254795</td>\n",
       "      <td>42.750685</td>\n",
       "      <td>54.027397</td>\n",
       "      <td>78.723288</td>\n",
       "    </tr>\n",
       "    <tr>\n",
       "      <th>NUMERO_HIJOS</th>\n",
       "      <td>19005.0</td>\n",
       "      <td>1.842147</td>\n",
       "      <td>1.524107</td>\n",
       "      <td>0.000000</td>\n",
       "      <td>1.000000</td>\n",
       "      <td>2.000000</td>\n",
       "      <td>3.000000</td>\n",
       "      <td>63.000000</td>\n",
       "    </tr>\n",
       "    <tr>\n",
       "      <th>PERSONAS_A_CARGO</th>\n",
       "      <td>19005.0</td>\n",
       "      <td>0.858037</td>\n",
       "      <td>1.008201</td>\n",
       "      <td>0.000000</td>\n",
       "      <td>0.000000</td>\n",
       "      <td>1.000000</td>\n",
       "      <td>1.000000</td>\n",
       "      <td>41.000000</td>\n",
       "    </tr>\n",
       "    <tr>\n",
       "      <th>EXPERIENCIA_ACTIVIDAD</th>\n",
       "      <td>19005.0</td>\n",
       "      <td>118.873612</td>\n",
       "      <td>97.250653</td>\n",
       "      <td>6.000000</td>\n",
       "      <td>48.000000</td>\n",
       "      <td>96.000000</td>\n",
       "      <td>144.000000</td>\n",
       "      <td>720.000000</td>\n",
       "    </tr>\n",
       "    <tr>\n",
       "      <th>ANTIGUEDAD_NEGOCIO</th>\n",
       "      <td>19005.0</td>\n",
       "      <td>112.255827</td>\n",
       "      <td>93.659085</td>\n",
       "      <td>1.000000</td>\n",
       "      <td>48.000000</td>\n",
       "      <td>84.000000</td>\n",
       "      <td>132.000000</td>\n",
       "      <td>969.000000</td>\n",
       "    </tr>\n",
       "    <tr>\n",
       "      <th>TIEMPO_LOCAL</th>\n",
       "      <td>19005.0</td>\n",
       "      <td>98.997264</td>\n",
       "      <td>86.776537</td>\n",
       "      <td>1.000000</td>\n",
       "      <td>36.000000</td>\n",
       "      <td>60.000000</td>\n",
       "      <td>120.000000</td>\n",
       "      <td>996.000000</td>\n",
       "    </tr>\n",
       "    <tr>\n",
       "      <th>TIEMPO_VIVIR_VIVIENDA</th>\n",
       "      <td>19005.0</td>\n",
       "      <td>0.091713</td>\n",
       "      <td>1.730640</td>\n",
       "      <td>0.000000</td>\n",
       "      <td>0.000000</td>\n",
       "      <td>0.000000</td>\n",
       "      <td>0.000000</td>\n",
       "      <td>96.000000</td>\n",
       "    </tr>\n",
       "    <tr>\n",
       "      <th>VENTAS</th>\n",
       "      <td>19005.0</td>\n",
       "      <td>12.304378</td>\n",
       "      <td>12.398696</td>\n",
       "      <td>0.242150</td>\n",
       "      <td>5.008112</td>\n",
       "      <td>8.207957</td>\n",
       "      <td>14.584063</td>\n",
       "      <td>140.887548</td>\n",
       "    </tr>\n",
       "    <tr>\n",
       "      <th>COSTO_DE_VENTAS</th>\n",
       "      <td>19005.0</td>\n",
       "      <td>7.963319</td>\n",
       "      <td>9.764124</td>\n",
       "      <td>0.000000</td>\n",
       "      <td>2.395088</td>\n",
       "      <td>4.800000</td>\n",
       "      <td>9.530516</td>\n",
       "      <td>124.534528</td>\n",
       "    </tr>\n",
       "    <tr>\n",
       "      <th>UTILIDAD_BRUTA</th>\n",
       "      <td>19005.0</td>\n",
       "      <td>4.334844</td>\n",
       "      <td>3.472537</td>\n",
       "      <td>0.000000</td>\n",
       "      <td>2.201368</td>\n",
       "      <td>3.241789</td>\n",
       "      <td>5.100000</td>\n",
       "      <td>47.146697</td>\n",
       "    </tr>\n",
       "    <tr>\n",
       "      <th>REMUNERACION_PERSONAL</th>\n",
       "      <td>19005.0</td>\n",
       "      <td>0.461036</td>\n",
       "      <td>1.034494</td>\n",
       "      <td>0.000000</td>\n",
       "      <td>0.000000</td>\n",
       "      <td>0.000000</td>\n",
       "      <td>0.600000</td>\n",
       "      <td>16.510259</td>\n",
       "    </tr>\n",
       "    <tr>\n",
       "      <th>CUOTAS_FINANCIERAS</th>\n",
       "      <td>19005.0</td>\n",
       "      <td>0.623788</td>\n",
       "      <td>0.988215</td>\n",
       "      <td>0.000000</td>\n",
       "      <td>0.000000</td>\n",
       "      <td>0.287279</td>\n",
       "      <td>0.817808</td>\n",
       "      <td>27.410000</td>\n",
       "    </tr>\n",
       "    <tr>\n",
       "      <th>TOTAL_GASTOS</th>\n",
       "      <td>19005.0</td>\n",
       "      <td>1.688215</td>\n",
       "      <td>2.068251</td>\n",
       "      <td>0.000000</td>\n",
       "      <td>0.450000</td>\n",
       "      <td>0.993000</td>\n",
       "      <td>2.104000</td>\n",
       "      <td>30.251333</td>\n",
       "    </tr>\n",
       "    <tr>\n",
       "      <th>UTILIDAD_MICROEMPRESA</th>\n",
       "      <td>19005.0</td>\n",
       "      <td>2.644857</td>\n",
       "      <td>1.846118</td>\n",
       "      <td>0.000000</td>\n",
       "      <td>1.570000</td>\n",
       "      <td>2.165060</td>\n",
       "      <td>3.129571</td>\n",
       "      <td>30.973247</td>\n",
       "    </tr>\n",
       "    <tr>\n",
       "      <th>INGRESOS_FAMILIARES</th>\n",
       "      <td>19005.0</td>\n",
       "      <td>0.006327</td>\n",
       "      <td>0.091218</td>\n",
       "      <td>0.000000</td>\n",
       "      <td>0.000000</td>\n",
       "      <td>0.000000</td>\n",
       "      <td>0.000000</td>\n",
       "      <td>7.250000</td>\n",
       "    </tr>\n",
       "    <tr>\n",
       "      <th>EGRESOS_FAMILIARES</th>\n",
       "      <td>19005.0</td>\n",
       "      <td>0.913534</td>\n",
       "      <td>0.495839</td>\n",
       "      <td>0.000000</td>\n",
       "      <td>0.605376</td>\n",
       "      <td>0.804000</td>\n",
       "      <td>1.091000</td>\n",
       "      <td>9.686019</td>\n",
       "    </tr>\n",
       "    <tr>\n",
       "      <th>BANCOS</th>\n",
       "      <td>19005.0</td>\n",
       "      <td>0.012899</td>\n",
       "      <td>0.402301</td>\n",
       "      <td>0.000000</td>\n",
       "      <td>0.000000</td>\n",
       "      <td>0.000000</td>\n",
       "      <td>0.000000</td>\n",
       "      <td>31.919835</td>\n",
       "    </tr>\n",
       "    <tr>\n",
       "      <th>ACTIVOS_TOTAL</th>\n",
       "      <td>19005.0</td>\n",
       "      <td>45.564005</td>\n",
       "      <td>60.295627</td>\n",
       "      <td>0.000000</td>\n",
       "      <td>9.500000</td>\n",
       "      <td>22.013679</td>\n",
       "      <td>57.696753</td>\n",
       "      <td>500.000000</td>\n",
       "    </tr>\n",
       "    <tr>\n",
       "      <th>OBLIGACIONES_FINANCIERAS</th>\n",
       "      <td>19005.0</td>\n",
       "      <td>9.475543</td>\n",
       "      <td>16.142621</td>\n",
       "      <td>0.000000</td>\n",
       "      <td>0.000000</td>\n",
       "      <td>2.751710</td>\n",
       "      <td>11.155000</td>\n",
       "      <td>116.221200</td>\n",
       "    </tr>\n",
       "    <tr>\n",
       "      <th>TOTAL_PASIVOS</th>\n",
       "      <td>19005.0</td>\n",
       "      <td>9.677038</td>\n",
       "      <td>16.394108</td>\n",
       "      <td>0.000000</td>\n",
       "      <td>0.000000</td>\n",
       "      <td>2.902504</td>\n",
       "      <td>11.406000</td>\n",
       "      <td>205.689655</td>\n",
       "    </tr>\n",
       "    <tr>\n",
       "      <th>TOTAL_PATRIMONIO</th>\n",
       "      <td>19005.0</td>\n",
       "      <td>36.665540</td>\n",
       "      <td>52.493372</td>\n",
       "      <td>0.000000</td>\n",
       "      <td>7.443000</td>\n",
       "      <td>16.700000</td>\n",
       "      <td>44.027359</td>\n",
       "      <td>486.900000</td>\n",
       "    </tr>\n",
       "  </tbody>\n",
       "</table>\n",
       "</div>"
      ],
      "text/plain": [
       "                            count        mean         std        min  \\\n",
       "SCORE                     19005.0  675.932176  140.740458   0.000000   \n",
       "EDAD                      19005.0   43.366626   13.852775  18.252055   \n",
       "NUMERO_HIJOS              19005.0    1.842147    1.524107   0.000000   \n",
       "PERSONAS_A_CARGO          19005.0    0.858037    1.008201   0.000000   \n",
       "EXPERIENCIA_ACTIVIDAD     19005.0  118.873612   97.250653   6.000000   \n",
       "ANTIGUEDAD_NEGOCIO        19005.0  112.255827   93.659085   1.000000   \n",
       "TIEMPO_LOCAL              19005.0   98.997264   86.776537   1.000000   \n",
       "TIEMPO_VIVIR_VIVIENDA     19005.0    0.091713    1.730640   0.000000   \n",
       "VENTAS                    19005.0   12.304378   12.398696   0.242150   \n",
       "COSTO_DE_VENTAS           19005.0    7.963319    9.764124   0.000000   \n",
       "UTILIDAD_BRUTA            19005.0    4.334844    3.472537   0.000000   \n",
       "REMUNERACION_PERSONAL     19005.0    0.461036    1.034494   0.000000   \n",
       "CUOTAS_FINANCIERAS        19005.0    0.623788    0.988215   0.000000   \n",
       "TOTAL_GASTOS              19005.0    1.688215    2.068251   0.000000   \n",
       "UTILIDAD_MICROEMPRESA     19005.0    2.644857    1.846118   0.000000   \n",
       "INGRESOS_FAMILIARES       19005.0    0.006327    0.091218   0.000000   \n",
       "EGRESOS_FAMILIARES        19005.0    0.913534    0.495839   0.000000   \n",
       "BANCOS                    19005.0    0.012899    0.402301   0.000000   \n",
       "ACTIVOS_TOTAL             19005.0   45.564005   60.295627   0.000000   \n",
       "OBLIGACIONES_FINANCIERAS  19005.0    9.475543   16.142621   0.000000   \n",
       "TOTAL_PASIVOS             19005.0    9.677038   16.394108   0.000000   \n",
       "TOTAL_PATRIMONIO          19005.0   36.665540   52.493372   0.000000   \n",
       "\n",
       "                                 25%         50%         75%         max  \n",
       "SCORE                     614.000000  684.000000  762.000000  999.000000  \n",
       "EDAD                       32.254795   42.750685   54.027397   78.723288  \n",
       "NUMERO_HIJOS                1.000000    2.000000    3.000000   63.000000  \n",
       "PERSONAS_A_CARGO            0.000000    1.000000    1.000000   41.000000  \n",
       "EXPERIENCIA_ACTIVIDAD      48.000000   96.000000  144.000000  720.000000  \n",
       "ANTIGUEDAD_NEGOCIO         48.000000   84.000000  132.000000  969.000000  \n",
       "TIEMPO_LOCAL               36.000000   60.000000  120.000000  996.000000  \n",
       "TIEMPO_VIVIR_VIVIENDA       0.000000    0.000000    0.000000   96.000000  \n",
       "VENTAS                      5.008112    8.207957   14.584063  140.887548  \n",
       "COSTO_DE_VENTAS             2.395088    4.800000    9.530516  124.534528  \n",
       "UTILIDAD_BRUTA              2.201368    3.241789    5.100000   47.146697  \n",
       "REMUNERACION_PERSONAL       0.000000    0.000000    0.600000   16.510259  \n",
       "CUOTAS_FINANCIERAS          0.000000    0.287279    0.817808   27.410000  \n",
       "TOTAL_GASTOS                0.450000    0.993000    2.104000   30.251333  \n",
       "UTILIDAD_MICROEMPRESA       1.570000    2.165060    3.129571   30.973247  \n",
       "INGRESOS_FAMILIARES         0.000000    0.000000    0.000000    7.250000  \n",
       "EGRESOS_FAMILIARES          0.605376    0.804000    1.091000    9.686019  \n",
       "BANCOS                      0.000000    0.000000    0.000000   31.919835  \n",
       "ACTIVOS_TOTAL               9.500000   22.013679   57.696753  500.000000  \n",
       "OBLIGACIONES_FINANCIERAS    0.000000    2.751710   11.155000  116.221200  \n",
       "TOTAL_PASIVOS               0.000000    2.902504   11.406000  205.689655  \n",
       "TOTAL_PATRIMONIO            7.443000   16.700000   44.027359  486.900000  "
      ]
     },
     "execution_count": 441,
     "metadata": {},
     "output_type": "execute_result"
    }
   ],
   "source": [
    "df=datos[datos['FECHA_DESEMBOLSO'] < '2023-04-01'] ## El modelo originar se entreno hasta marzo de 2023\n",
    "df.iloc[:, 2:24].describe().T"
   ]
  },
  {
   "cell_type": "markdown",
   "id": "ab1c8a14-b2a3-47b0-9a8a-5b34c9f783f8",
   "metadata": {},
   "source": [
    "## Métodos: entrada, salida, arquitectura de la red y métrica de evaluación del modelo\n",
    "\n",
    "Primeramente se incluirán todas las variables dummy y las variables cuantitativas dado que no es necesario en este tipo de modelos el cumplimiento de supuestos, posteriormente se tomara para comparar métricas las mismas variables que se tomaron en el modelo clásico (cumplimiento de supuestos). El primer modelo que entrenaremos es el modelo logístico. Luego iremos avanzando con modelos de deep learning con una capa, dos y más capas y diferentes hiperparámetros."
   ]
  },
  {
   "cell_type": "markdown",
   "id": "54a2f75b-3aac-4368-ade1-8da3122e64e9",
   "metadata": {
    "tags": []
   },
   "source": [
    "#### Logistic Regression with a Neural Network mindset"
   ]
  },
  {
   "cell_type": "code",
   "execution_count": 443,
   "id": "e1fea35a-6637-48ce-94d7-fe00cb72d1fd",
   "metadata": {
    "tags": []
   },
   "outputs": [],
   "source": [
    "list_cuantis=list(datos.columns)[2:24]\n",
    "#list_cuantis\n",
    "list_cualis=['EVENTO']+list(datos.columns)[24:137]\n",
    "#list_cualis\n",
    "df1=df.drop(columns=[\"CREDITO\",\"FECHA_DESEMBOLSO\", \"PROBABILIDAD\"])"
   ]
  },
  {
   "cell_type": "code",
   "execution_count": 444,
   "id": "738ae186-2bcb-4ca9-8a68-2d746ebfe878",
   "metadata": {
    "tags": []
   },
   "outputs": [
    {
     "name": "stdout",
     "output_type": "stream",
     "text": [
      "0    13767\n",
      "1     5238\n",
      "Name: EVENTO, dtype: int64\n"
     ]
    }
   ],
   "source": [
    "cualis=list_cualis\n",
    "cuantis=list_cuantis\n",
    "\n",
    "scaler = MinMaxScaler()\n",
    "scaler.fit(df1[cuantis])\n",
    "df1[cuantis] = scaler.transform(df1[cuantis])\n",
    "for i in cualis:\n",
    "    labelencoder = LabelEncoder()\n",
    "    df1[i] = labelencoder.fit_transform(df1[i])\n",
    "    \n",
    "print(df1['EVENTO'].value_counts())\n",
    "\n",
    "X=df1.drop(columns=[\"EVENTO\"])\n",
    "y=df1[\"EVENTO\"]\n",
    "\n",
    "train_size=0.8\n",
    "train, test = model_selection.train_test_split(df1,train_size=int(train_size*len(df1)), stratify=df1['EVENTO'], random_state=seed)"
   ]
  },
  {
   "cell_type": "code",
   "execution_count": 446,
   "id": "d2fee90b-af4c-42c9-a31c-85649768043e",
   "metadata": {
    "tags": []
   },
   "outputs": [],
   "source": [
    "# Definiendo conjuntos de entrenamiento y test (evento/no evento)\n",
    "train_set_x_orig=train.drop(columns=[\"EVENTO\"])\n",
    "train_set_y=train[\"EVENTO\"]\n",
    "test_set_x_orig=test.drop(columns=[\"EVENTO\"])\n",
    "test_set_y=test[\"EVENTO\"]\n",
    "classes = np.array([0, 1])\n",
    "classes = classes.astype(str)\n",
    "\n",
    "train_set_x_orig_array=train_set_x_orig.to_numpy()\n",
    "test_set_x_orig_array=test_set_x_orig.to_numpy()\n",
    "train_set_y_array=train_set_y.to_numpy()\n",
    "train_set_y_array=train_set_y_array.reshape(1, -1)\n",
    "test_set_y_array=test_set_y.to_numpy()\n",
    "test_set_y_array=test_set_y_array.reshape(1, -1)\n",
    "\n",
    "indices = train_set_x_orig.index"
   ]
  },
  {
   "cell_type": "code",
   "execution_count": 449,
   "id": "e5141073-279e-40f9-aca2-12504d7995ca",
   "metadata": {
    "tags": []
   },
   "outputs": [
    {
     "name": "stdout",
     "output_type": "stream",
     "text": [
      "SCORE                             0.942943\n",
      "EDAD                              0.248550\n",
      "NUMERO_HIJOS                      0.047619\n",
      "PERSONAS_A_CARGO                  0.048780\n",
      "EXPERIENCIA_ACTIVIDAD             0.663866\n",
      "                                    ...   \n",
      "ACTIVOS_TOTAL_3_ESTADO_CIVIL_3    0.000000\n",
      "SCORE_4_GENERO_1                  1.000000\n",
      "CIIU_6_TIPO_VINCULACION_1         0.000000\n",
      "VENTAS_2_GENERO_1                 1.000000\n",
      "CIUDAD_3_ESTADO_CIVIL_3           0.000000\n",
      "Name: 6762, Length: 135, dtype: float64\n",
      "\n",
      "Cero representa no tener el evento 1 representa tenerlo, es decir haber caido en mora 30 días en 12 meses\n",
      "Se obseva si tiene o no el evento para el individuo que se encuentra en el índices\n",
      " EVENTO: 0\n"
     ]
    }
   ],
   "source": [
    "# Ejemplo de un individuo en el conjunto de entrenamiento con índice original\n",
    "index = 6762\n",
    "print(train_set_x_orig.loc[index])\n",
    "print(\"\\nCero representa no tener el evento 1 representa tenerlo, es decir haber caido en mora 30 días en 12 meses\")\n",
    "print(\"Se obseva si tiene o no el evento para el individuo que se encuentra en el índices\\n EVENTO:\", train_set_y.loc[index])"
   ]
  },
  {
   "cell_type": "code",
   "execution_count": 450,
   "id": "34807e08-b3cb-40b4-ad23-9810ec16b7bb",
   "metadata": {
    "tags": []
   },
   "outputs": [
    {
     "name": "stdout",
     "output_type": "stream",
     "text": [
      "Número de muestras de entrenamiento: m_train = 15204\n",
      "Número de muestras de test m_test = 3801\n",
      "Cantidad de características de cada individuo = 135\n",
      "train_set_x tamaño: (15204, 135)\n",
      "train_set_y tamaño: (1, 15204)\n",
      "test_set_x tamaño: (3801, 135)\n",
      "test_set_y tamaño: (1, 3801)\n"
     ]
    }
   ],
   "source": [
    "#Verificación de tamaños\n",
    "m_train=train_set_x_orig.shape[0]\n",
    "m_test=test_set_x_orig.shape[0]\n",
    "num_px=train_set_x_orig.loc[index].shape[0]\n",
    "\n",
    "print (\"Número de muestras de entrenamiento: m_train = \" + str(m_train))\n",
    "print (\"Número de muestras de test m_test = \" + str(m_test))\n",
    "print (\"Cantidad de características de cada individuo = \" + str(num_px))\n",
    "print (\"train_set_x tamaño: \" + str(train_set_x_orig_array.shape))\n",
    "print (\"train_set_y tamaño: \" + str(train_set_y_array.shape))\n",
    "print (\"test_set_x tamaño: \" + str(test_set_x_orig_array.shape))\n",
    "print (\"test_set_y tamaño: \" + str(test_set_y_array.shape))"
   ]
  },
  {
   "cell_type": "code",
   "execution_count": 451,
   "id": "9af768be-c795-45b6-8487-1a0b835133e1",
   "metadata": {
    "tags": []
   },
   "outputs": [],
   "source": [
    "train_set_x_flatten=train_set_x_orig_array.reshape(train_set_x_orig_array.shape[0],-1).T\n",
    "test_set_x_flatten=test_set_x_orig_array.reshape(test_set_x_orig_array.shape[0],-1).T"
   ]
  },
  {
   "cell_type": "code",
   "execution_count": 452,
   "id": "05083ec1-8b42-4b57-93b8-19c70ac89582",
   "metadata": {
    "tags": []
   },
   "outputs": [
    {
     "name": "stdout",
     "output_type": "stream",
     "text": [
      "train_set_x_flatten shape: (135, 15204)\n",
      "train_set_y shape: (1, 15204)\n",
      "test_set_x_flatten shape: (135, 3801)\n",
      "test_set_y shape: (1, 3801)\n"
     ]
    }
   ],
   "source": [
    "print (\"train_set_x_flatten shape: \" + str(train_set_x_flatten.shape))\n",
    "print (\"train_set_y shape: \" + str(train_set_y_array.shape))\n",
    "print (\"test_set_x_flatten shape: \" + str(test_set_x_flatten.shape))\n",
    "print (\"test_set_y shape: \" + str(test_set_y_array.shape))"
   ]
  },
  {
   "cell_type": "markdown",
   "id": "ebf95967-1d30-4354-a601-dd46662a4696",
   "metadata": {
    "tags": []
   },
   "source": [
    "### Funciones necesarias\n",
    "###### Se toman de los laboratorios realizados en la clase de Redes Neuronales con el profesor Arles Rodriguez"
   ]
  },
  {
   "cell_type": "code",
   "execution_count": 456,
   "id": "048bfe38-c49f-4f42-83b3-bfdd1a27a73e",
   "metadata": {
    "tags": []
   },
   "outputs": [],
   "source": [
    "## Función Sigmoide\n",
    "def sigmoid(z):\n",
    "    \"\"\"\n",
    "    Compute the sigmoid of z\n",
    "\n",
    "    Arguments:\n",
    "    z -- A scalar or numpy array of any size.\n",
    "\n",
    "    Return:\n",
    "    s -- sigmoid(z)\n",
    "    \"\"\"\n",
    "    s=1/(1+np.exp(-z))\n",
    "    return s\n",
    "\n",
    "## Inicializar parametros\n",
    "def initialize_with_zeros(dim):\n",
    "    \"\"\"\n",
    "    This function creates a vector of zeros of shape (dim, 1) for w and initializes b to 0.\n",
    "    \n",
    "    Argument:\n",
    "    dim -- size of the w vector we want (or number of parameters in this case)\n",
    "    \n",
    "    Returns:\n",
    "    w -- initialized vector of shape (dim, 1)\n",
    "    b -- initialized scalar (corresponds to the bias) of type float\n",
    "    \"\"\"\n",
    "    w=np.zeros((dim,1))\n",
    "    b=0.0\n",
    "    return w, b\n",
    "\n",
    "def propagate(w, b, X, Y):\n",
    "    \"\"\"\n",
    "    Implement the cost function and its gradient for the propagation explained above\n",
    "\n",
    "    Arguments:\n",
    "    w -- weights, a numpy array of size (num_px * num_px * 3, 1)\n",
    "    b -- bias, a scalar\n",
    "    X -- data of size (num_px * num_px * 3, number of examples)\n",
    "    Y -- true \"label\" vector (containing 0 if non-cat, 1 if cat) of size (1, number of examples)\n",
    "\n",
    "    Return:\n",
    "    cost -- negative log-likelihood cost for logistic regression\n",
    "    dw -- gradient of the loss with respect to w, thus same shape as w\n",
    "    db -- gradient of the loss with respect to b, thus same shape as b\n",
    "    \n",
    "    Tips:\n",
    "    - Write your code step by step for the propagation. np.log(), np.dot()\n",
    "    \"\"\"\n",
    "    \n",
    "    m = X.shape[1]\n",
    "    \n",
    "    # FORWARD PROPAGATION (FROM X TO COST)\n",
    "    A=sigmoid(np.dot(w.T,X)+b)\n",
    "    cost=-1/m*np.sum(Y*np.log(A)+(1-Y)*np.log(1-A))\n",
    "    # BACKWARD PROPAGATION (TO FIND GRAD)\n",
    "    dw=1/m*np.dot(X,(A-Y).T)\n",
    "    db=1/m*np.sum(A-Y)\n",
    "    cost = np.squeeze(np.array(cost))\n",
    "   \n",
    "    grads = {\"dw\": dw,\n",
    "             \"db\": db}\n",
    "    \n",
    "    return grads, cost\n",
    "\n",
    "def optimize(w, b, X, Y, num_iterations=100, learning_rate=0.009, print_cost=False):\n",
    "    \"\"\"\n",
    "    This function optimizes w and b by running a gradient descent algorithm\n",
    "    \n",
    "    Arguments:\n",
    "    w -- weights, a numpy array of size (num_px * num_px * 3, 1)\n",
    "    b -- bias, a scalar\n",
    "    X -- data of shape (num-_px * num_px * 3, number of examples)\n",
    "    Y -- true \"label\" vector (containing 0 if non-cat, 1 if cat), of shape (1, number of examples)\n",
    "    num_iterations -- number of iterations of the optimization loop\n",
    "    learning_rate -- learning rate of the gradient descent update rule\n",
    "    print_cost -- True to print the loss every 100 steps\n",
    "    \n",
    "    Returns:\n",
    "    params -- dictionary containing the weights w and bias b\n",
    "    grads -- dictionary containing the gradients of the weights and bias with respect to the cost function\n",
    "    costs -- list of all the costs computed during the optimization, this will be used to plot the learning curve.\n",
    "    \n",
    "    Tips:\n",
    "    You basically need to write down two steps and iterate through them:\n",
    "        1) Calculate the cost and the gradient for the current parameters. Use propagate().\n",
    "        2) Update the parameters using gradient descent rule for w and b.\n",
    "    \"\"\"\n",
    "    \n",
    "    w = copy.deepcopy(w)\n",
    "    b = copy.deepcopy(b)\n",
    "    \n",
    "    costs = []\n",
    "    \n",
    "    for i in range(num_iterations):\n",
    "        # Cost and gradient calculation \n",
    "        grads, cost=propagate(w,b,X,Y)\n",
    "       \n",
    "        # Retrieve derivatives from grads\n",
    "        dw = grads[\"dw\"]\n",
    "        db = grads[\"db\"]\n",
    "        \n",
    "        # update rule \n",
    "        w=w-learning_rate*dw\n",
    "        b=b-learning_rate*db\n",
    "       \n",
    "        # Record the costs\n",
    "        if i % 100 == 0:\n",
    "            costs.append(cost)\n",
    "        \n",
    "            # Print the cost every 100 training iterations\n",
    "            if print_cost:\n",
    "                print (\"Cost after iteration %i: %f\" %(i, cost))\n",
    "    \n",
    "    params = {\"w\": w,\n",
    "              \"b\": b}\n",
    "    \n",
    "    grads = {\"dw\": dw,\n",
    "             \"db\": db}\n",
    "    \n",
    "    return params, grads, costs"
   ]
  },
  {
   "cell_type": "markdown",
   "id": "0f6dd16a-b027-42de-85fc-01b908c97a57",
   "metadata": {
    "tags": []
   },
   "source": [
    "##### Se modifica la siguiente función dado que queremos ver los valores de probabilidad que nos da la función sigmoide, es decir pedimos que retorne la matriz A"
   ]
  },
  {
   "cell_type": "code",
   "execution_count": 457,
   "id": "711fd10c-dfe8-45a5-b0d5-2fe2d5fd9d59",
   "metadata": {
    "tags": []
   },
   "outputs": [],
   "source": [
    "def predict(w, b, X):\n",
    "    '''\n",
    "    Predict whether the label is 0 or 1 using learned logistic regression parameters (w, b)\n",
    "    \n",
    "    Arguments:\n",
    "    w -- weights, a numpy array of size (num_px * num_px * 3, 1)\n",
    "    b -- bias, a scalar\n",
    "    X -- data of size (num_px * num_px * 3, number of examples)\n",
    "    \n",
    "    Returns:\n",
    "    Y_prediction -- a numpy array (vector) containing all predictions (0/1) for the examples in X\n",
    "    '''\n",
    "    \n",
    "    m = X.shape[1]\n",
    "    Y_prediction = np.zeros((1, m))\n",
    "    w = w.reshape(X.shape[0], 1)\n",
    "    \n",
    "    # Compute vector \"A\" predicting the probabilities\n",
    "    A=sigmoid(np.dot(w.T,X)+b)\n",
    "    for i in range(A.shape[1]):\n",
    "        \n",
    "        if A[0,i]>0.5:\n",
    "            Y_prediction[0,i]=1\n",
    "        else:\n",
    "            Y_prediction[0,i]=0\n",
    "            \n",
    "   \n",
    "    return Y_prediction, A"
   ]
  },
  {
   "cell_type": "code",
   "execution_count": 458,
   "id": "ceb7eb3b-6345-4adf-8f20-e6ab0fbae5b0",
   "metadata": {
    "tags": []
   },
   "outputs": [],
   "source": [
    "def model(X_train, Y_train, X_test, Y_test, num_iterations=2000, learning_rate=0.5, print_cost=False):\n",
    "    \"\"\"\n",
    "    Builds the logistic regression model by calling the function you've implemented previously\n",
    "    \n",
    "    Arguments:\n",
    "    X_train -- training set represented by a numpy array of shape (num_px * num_px * 3, m_train)\n",
    "    Y_train -- training labels represented by a numpy array (vector) of shape (1, m_train)\n",
    "    X_test -- test set represented by a numpy array of shape (num_px * num_px * 3, m_test)\n",
    "    Y_test -- test labels represented by a numpy array (vector) of shape (1, m_test)\n",
    "    num_iterations -- hyperparameter representing the number of iterations to optimize the parameters\n",
    "    learning_rate -- hyperparameter representing the learning rate used in the update rule of optimize()\n",
    "    print_cost -- Set to True to print the cost every 100 iterations\n",
    "    \n",
    "    Returns:\n",
    "    d -- dictionary containing information about the model.\n",
    "    \"\"\"\n",
    "\n",
    "    w,b= initialize_with_zeros(X_train.shape[0])\n",
    "    params, grads, costs = optimize(w, b, X_train, Y_train, num_iterations, learning_rate, print_cost)\n",
    "    w=params[\"w\"]\n",
    "    b=params[\"b\"]\n",
    "    \n",
    "    Y_prediction_test, A_test=predict(w, b, X_test)\n",
    "    Y_prediction_train, A_train=predict(w, b, X_train)\n",
    "\n",
    "    # Print train/test Errors\n",
    "    if print_cost:\n",
    "        print(\"train accuracy: {} %\".format(100 - np.mean(np.abs(Y_prediction_train - Y_train)) * 100))\n",
    "        print(\"test accuracy: {} %\".format(100 - np.mean(np.abs(Y_prediction_test - Y_test)) * 100))\n",
    "\n",
    "    \n",
    "    d = {\"costs\": costs,\n",
    "         \"Y_prediction_test\": Y_prediction_test, \n",
    "         \"Y_prediction_train\" : Y_prediction_train,  \n",
    "         \"w\" : w, \n",
    "         \"b\" : b,\n",
    "         \"learning_rate\" : learning_rate,\n",
    "         \"num_iterations\": num_iterations}\n",
    "    \n",
    "    return d, A_test, A_train"
   ]
  },
  {
   "cell_type": "markdown",
   "id": "3b8a738c-8d06-4d61-87a5-531d539da9d2",
   "metadata": {
    "tags": []
   },
   "source": [
    "#### Entrenamiento"
   ]
  },
  {
   "cell_type": "code",
   "execution_count": 459,
   "id": "d6011316-c2a1-4681-98c9-09165b6e53e0",
   "metadata": {
    "tags": []
   },
   "outputs": [
    {
     "name": "stdout",
     "output_type": "stream",
     "text": [
      "Cost after iteration 0: 0.693147\n",
      "Cost after iteration 100: 0.590593\n",
      "Cost after iteration 200: 0.569886\n",
      "Cost after iteration 300: 0.562521\n",
      "Cost after iteration 400: 0.558612\n",
      "Cost after iteration 500: 0.556080\n",
      "Cost after iteration 600: 0.554273\n",
      "Cost after iteration 700: 0.552906\n",
      "Cost after iteration 800: 0.551825\n",
      "Cost after iteration 900: 0.550939\n",
      "Cost after iteration 1000: 0.550192\n",
      "Cost after iteration 1100: 0.549548\n",
      "Cost after iteration 1200: 0.548982\n",
      "Cost after iteration 1300: 0.548478\n",
      "Cost after iteration 1400: 0.548024\n",
      "Cost after iteration 1500: 0.547612\n",
      "Cost after iteration 1600: 0.547235\n",
      "Cost after iteration 1700: 0.546888\n",
      "Cost after iteration 1800: 0.546568\n",
      "Cost after iteration 1900: 0.546272\n",
      "train accuracy: 72.62562483556958 %\n",
      "test accuracy: 72.5598526703499 %\n"
     ]
    }
   ],
   "source": [
    "logistic_regression_model = model(train_set_x_flatten, train_set_y_array, test_set_x_flatten, test_set_y_array, num_iterations=2000, learning_rate=0.005, print_cost=True)"
   ]
  },
  {
   "cell_type": "code",
   "execution_count": 460,
   "id": "958be5da-5edb-4587-9689-42027dd34180",
   "metadata": {
    "tags": []
   },
   "outputs": [],
   "source": [
    "logistic_regression_model_1=logistic_regression_model[0]\n",
    "A_test=logistic_regression_model[1]\n",
    "A_train=logistic_regression_model[2]"
   ]
  },
  {
   "cell_type": "code",
   "execution_count": 461,
   "id": "406c6c7e-721f-426b-bc02-50b2bcb5c54b",
   "metadata": {
    "tags": []
   },
   "outputs": [
    {
     "name": "stdout",
     "output_type": "stream",
     "text": [
      "\n",
      "El individuo tenia las siguientes características en las variables:\n",
      "\n",
      "[0.62562563 0.77102211 0.         0.02439024 0.05882353 0.04855372\n",
      " 0.04723618 0.         0.06699014 0.0613048  0.04304524 0.\n",
      " 0.00999892 0.0170644  0.04885572 0.         0.09545455 0.\n",
      " 0.         0.00778483 0.00439868 0.         0.         0.\n",
      " 0.         0.         0.         0.         0.         0.\n",
      " 0.         0.         0.         1.         0.         0.\n",
      " 0.         0.         1.         1.         0.         1.\n",
      " 0.         0.         0.         0.         0.         0.\n",
      " 0.         0.         0.         0.         0.         0.\n",
      " 0.         1.         0.         0.         1.         0.\n",
      " 0.         0.         1.         0.         0.         0.\n",
      " 0.         0.         0.         0.         0.         0.\n",
      " 0.         0.         0.         0.         0.         0.\n",
      " 0.         0.         0.         0.         0.         0.\n",
      " 1.         0.         1.         0.         0.         0.\n",
      " 0.         1.         0.         1.         0.         0.\n",
      " 0.         1.         0.         0.         0.         0.\n",
      " 0.         0.         1.         0.         0.         0.\n",
      " 0.         0.         0.         0.         0.         0.\n",
      " 0.         0.         0.         0.         0.         0.\n",
      " 0.         1.         0.         0.         0.         1.\n",
      " 1.         0.         0.         0.         0.         0.\n",
      " 0.         1.         0.        ]\n",
      "\n",
      "El individuo tenia el siguiente EVENTO:\n",
      "\n",
      "0\n",
      "\n",
      "El individuo según el modelo tiene la siguiente predicción del EVENTO :\n",
      "\n",
      "0\n",
      "\n",
      "El individuo según el modelo tiene el siguiente valor de probabilidad:\n",
      "\n",
      "[0.43060157]\n"
     ]
    }
   ],
   "source": [
    "index = 7\n",
    "print(\"\\nEl individuo tenia las siguientes características en las variables:\\n\")\n",
    "print(test_set_x_flatten[:, index])\n",
    "print(\"\\nEl individuo tenia el siguiente EVENTO:\\n\")\n",
    "print(test_set_y_array[0,index])\n",
    "print(\"\\nEl individuo según el modelo tiene la siguiente predicción del EVENTO :\\n\")\n",
    "print(int(logistic_regression_model_1['Y_prediction_test'][0,index]))\n",
    "print(\"\\nEl individuo según el modelo tiene el siguiente valor de probabilidad:\\n\")\n",
    "print(A_test[:,index])"
   ]
  },
  {
   "cell_type": "code",
   "execution_count": 463,
   "id": "bf20df3d-5416-44b0-909b-2913b67f7635",
   "metadata": {
    "tags": []
   },
   "outputs": [
    {
     "data": {
      "image/png": "[encoded data removed]",
      "text/plain": [
       "<Figure size 800x600 with 1 Axes>"
      ]
     },
     "metadata": {},
     "output_type": "display_data"
    }
   ],
   "source": [
    "# Plot learning curve (with costs)\n",
    "plt.figure(figsize=(8, 6)) \n",
    "costs = np.squeeze(logistic_regression_model_1['costs'])\n",
    "plt.plot(costs)\n",
    "plt.ylabel('cost')\n",
    "plt.xlabel('iterations (per hundreds)')\n",
    "plt.title(\"Learning rate =\" + str(logistic_regression_model_1[\"learning_rate\"]))\n",
    "plt.show()"
   ]
  },
  {
   "cell_type": "markdown",
   "id": "008e5950-2f96-4139-a284-925a5029f25e",
   "metadata": {},
   "source": [
    "#### Observamos diferentes valores de tasas de aprendizaje y la función de costo"
   ]
  },
  {
   "cell_type": "code",
   "execution_count": 466,
   "id": "f9d8fc84-797a-4331-863e-5ade351179e0",
   "metadata": {
    "tags": []
   },
   "outputs": [
    {
     "name": "stdout",
     "output_type": "stream",
     "text": [
      "Training a model with learning rate: 0.01\n",
      "\n",
      "-------------------------------------------------------\n",
      "\n",
      "Training a model with learning rate: 0.005\n",
      "\n",
      "-------------------------------------------------------\n",
      "\n",
      "Training a model with learning rate: 0.001\n",
      "\n",
      "-------------------------------------------------------\n",
      "\n",
      "Training a model with learning rate: 0.0001\n",
      "\n",
      "-------------------------------------------------------\n",
      "\n"
     ]
    },
    {
     "data": {
      "image/png": "[encoded data removed]",
      "text/plain": [
       "<Figure size 800x600 with 1 Axes>"
      ]
     },
     "metadata": {},
     "output_type": "display_data"
    }
   ],
   "source": [
    "learning_rates = [0.01, 0.005, 0.001, 0.0001]\n",
    "models = {}\n",
    "\n",
    "for lr in learning_rates:\n",
    "    print (\"Training a model with learning rate: \" + str(lr))\n",
    "    logistic_regression_model=model(train_set_x_flatten, train_set_y_array, test_set_x_flatten, test_set_y_array, num_iterations=1500, learning_rate=lr, print_cost=False)\n",
    "    models[str(lr)] = logistic_regression_model[0]\n",
    "    print ('\\n' + \"-------------------------------------------------------\" + '\\n')\n",
    "\n",
    "plt.figure(figsize=(8, 6)) \n",
    "for lr in learning_rates:\n",
    "    plt.plot(np.squeeze(models[str(lr)][\"costs\"]), label=str(models[str(lr)][\"learning_rate\"]))\n",
    "\n",
    "plt.ylabel('cost')\n",
    "plt.xlabel('iterations (hundreds)')\n",
    "\n",
    "legend = plt.legend(loc='upper center', shadow=True)\n",
    "frame = legend.get_frame()\n",
    "frame.set_facecolor('0.90')\n",
    "plt.show()"
   ]
  },
  {
   "cell_type": "markdown",
   "id": "fc31d49b-d25a-4aa1-bab4-eeed38c015ec",
   "metadata": {
    "tags": []
   },
   "source": [
    "#### De acuerdo al gráfico una tasa de aprendizaje de **0.01** resulta con un costo menor que la que probamos inicialmente, por lo que generamos predicciones con esta tasa de aprendizaje"
   ]
  },
  {
   "cell_type": "code",
   "execution_count": 467,
   "id": "6605f2f6-bf84-482e-86da-9847444673c5",
   "metadata": {
    "tags": []
   },
   "outputs": [
    {
     "name": "stdout",
     "output_type": "stream",
     "text": [
      "Cost after iteration 0: 0.693147\n",
      "Cost after iteration 100: 0.569823\n",
      "Cost after iteration 200: 0.558596\n",
      "Cost after iteration 300: 0.554265\n",
      "Cost after iteration 400: 0.551820\n",
      "Cost after iteration 500: 0.550190\n",
      "Cost after iteration 600: 0.548980\n",
      "Cost after iteration 700: 0.548022\n",
      "Cost after iteration 800: 0.547234\n",
      "Cost after iteration 900: 0.546567\n",
      "Cost after iteration 1000: 0.545995\n",
      "Cost after iteration 1100: 0.545496\n",
      "Cost after iteration 1200: 0.545057\n",
      "Cost after iteration 1300: 0.544667\n",
      "Cost after iteration 1400: 0.544318\n",
      "Cost after iteration 1500: 0.544004\n",
      "Cost after iteration 1600: 0.543718\n",
      "Cost after iteration 1700: 0.543457\n",
      "Cost after iteration 1800: 0.543218\n",
      "Cost after iteration 1900: 0.542998\n",
      "train accuracy: 72.71112865035516 %\n",
      "test accuracy: 72.63877926861352 %\n"
     ]
    }
   ],
   "source": [
    "logistic_regression_model = model(train_set_x_flatten, train_set_y_array, test_set_x_flatten, test_set_y_array, num_iterations=2000, learning_rate=0.01, print_cost=True)"
   ]
  },
  {
   "cell_type": "markdown",
   "id": "c8a8ea97-04d8-40bf-914b-225534ee088c",
   "metadata": {},
   "source": [
    "#### Se observa que el accuracy mejora de 72.56% a 72.64% en test con la nueva tasa de aprendizaje"
   ]
  },
  {
   "cell_type": "code",
   "execution_count": 468,
   "id": "6fb8ad8f-b014-4a5c-87b0-a625883ba8ce",
   "metadata": {
    "tags": []
   },
   "outputs": [
    {
     "data": {
      "text/plain": [
       "(1, 15204)"
      ]
     },
     "execution_count": 468,
     "metadata": {},
     "output_type": "execute_result"
    }
   ],
   "source": [
    "logistic_regression_model_1=logistic_regression_model[0]\n",
    "A_test=logistic_regression_model[1]\n",
    "A_train=logistic_regression_model[2]\n",
    "A_train.shape"
   ]
  },
  {
   "cell_type": "code",
   "execution_count": 478,
   "id": "ff6f91c7-6f92-4bf5-9503-c3fdff0411ca",
   "metadata": {
    "tags": []
   },
   "outputs": [
    {
     "name": "stdout",
     "output_type": "stream",
     "text": [
      "\n",
      "El individuo tenia las siguientes características en las variables:\n",
      "\n",
      "[0.62562563 0.77102211 0.         0.02439024 0.05882353 0.04855372\n",
      " 0.04723618 0.         0.06699014 0.0613048  0.04304524 0.\n",
      " 0.00999892 0.0170644  0.04885572 0.         0.09545455 0.\n",
      " 0.         0.00778483 0.00439868 0.         0.         0.\n",
      " 0.         0.         0.         0.         0.         0.\n",
      " 0.         0.         0.         1.         0.         0.\n",
      " 0.         0.         1.         1.         0.         1.\n",
      " 0.         0.         0.         0.         0.         0.\n",
      " 0.         0.         0.         0.         0.         0.\n",
      " 0.         1.         0.         0.         1.         0.\n",
      " 0.         0.         1.         0.         0.         0.\n",
      " 0.         0.         0.         0.         0.         0.\n",
      " 0.         0.         0.         0.         0.         0.\n",
      " 0.         0.         0.         0.         0.         0.\n",
      " 1.         0.         1.         0.         0.         0.\n",
      " 0.         1.         0.         1.         0.         0.\n",
      " 0.         1.         0.         0.         0.         0.\n",
      " 0.         0.         1.         0.         0.         0.\n",
      " 0.         0.         0.         0.         0.         0.\n",
      " 0.         0.         0.         0.         0.         0.\n",
      " 0.         1.         0.         0.         0.         1.\n",
      " 1.         0.         0.         0.         0.         0.\n",
      " 0.         1.         0.        ]\n",
      "\n",
      "El individuo tenia el siguiente EVENTO:\n",
      "\n",
      "0\n",
      "\n",
      "El individuo según el modelo tiene la siguiente predicción del EVENTO :\n",
      "\n",
      "0\n",
      "\n",
      "El individuo según el modelo tiene el siguiente valor de probabilidad:\n",
      "\n",
      "[0.43276101]\n"
     ]
    }
   ],
   "source": [
    "index = 7\n",
    "print(\"\\nEl individuo tenia las siguientes características en las variables:\\n\")\n",
    "print(test_set_x_flatten[:, index])\n",
    "print(\"\\nEl individuo tenia el siguiente EVENTO:\\n\")\n",
    "print(test_set_y_array[0,index])\n",
    "print(\"\\nEl individuo según el modelo tiene la siguiente predicción del EVENTO :\\n\")\n",
    "print(int(logistic_regression_model_1['Y_prediction_test'][0,index]))\n",
    "print(\"\\nEl individuo según el modelo tiene el siguiente valor de probabilidad:\\n\")\n",
    "print(A_test[:,index])"
   ]
  },
  {
   "cell_type": "markdown",
   "id": "3d824aa0-0576-49df-a4bd-7b2b08fc9e3d",
   "metadata": {
    "tags": []
   },
   "source": [
    "##### Se prepara el dataset con los valores obtenidos para generar la comparación con el modelo logístico clásico, se tomará un threshold de 0.5"
   ]
  },
  {
   "cell_type": "code",
   "execution_count": 480,
   "id": "4bbdd70e-ff3f-4749-a513-409c109ae899",
   "metadata": {
    "tags": []
   },
   "outputs": [],
   "source": [
    "a=pd.Series(A_train.flatten())\n",
    "a.index=train_set_x_orig.index\n",
    "train_set_x_orig['PROBABILIDAD_LRN']=a\n",
    "#train_set_x_orig\n",
    "\n",
    "a=pd.Series(A_test.flatten())\n",
    "a.index=test_set_x_orig.index\n",
    "test_set_x_orig['PROBABILIDAD_LRN']=a\n",
    "#test_set_x_orig\n",
    "\n",
    "df_aux_1 = pd.merge(train_set_x_orig, df[['CREDITO','EVENTO','FECHA_DESEMBOLSO','PROBABILIDAD']], left_index=True, right_index=True)\n",
    "#df_aux_1\n",
    "df_aux_2 = pd.merge(test_set_x_orig, df[['CREDITO','EVENTO','FECHA_DESEMBOLSO','PROBABILIDAD']], left_index=True, right_index=True)\n",
    "#df_aux_2\n",
    "df_aux_2['y_pred_LR'] = np.where(df_aux_2['PROBABILIDAD'] >= 0.5, 1, 0)\n",
    "df_aux_2['y_pred_LRN'] = np.where(df_aux_2['PROBABILIDAD_LRN'] >= 0.5, 1, 0)"
   ]
  },
  {
   "cell_type": "markdown",
   "id": "cd3a2ab0-f51f-4c33-90b9-8a854ef4932d",
   "metadata": {
    "tags": []
   },
   "source": [
    "#### Algunas métricas de evaluación:"
   ]
  },
  {
   "cell_type": "code",
   "execution_count": 481,
   "id": "c58a902f-fa7b-469c-a700-765557f121cc",
   "metadata": {
    "tags": []
   },
   "outputs": [],
   "source": [
    "def calMetrics(cm):\n",
    "  #Se toman de esta forma los valores para que la clase positiva sea {1}\n",
    "  TN = cm[0,0]\n",
    "  TP = cm[1,1]\n",
    "  FN = cm[1,0]\n",
    "  FP = cm[0,1]\n",
    "  acc = round(((TP + TN) / (TP + TN + FP + FN))*100,2)          #Accuracy\n",
    "  err = round((1 - ((TP + TN) / (TP + TN + FP + FN)))*100,2)    #Tasa de error \n",
    "  se = round((TP / (TP + FN))*100,2)                            #Sensibilidad o Recall\n",
    "  sp = round((TN / ( TN + FP))*100,2)                          #Especificidad \n",
    "  prec = round((TP / (TP + FP))*100,2)                          #Precision\n",
    "  FPR = round((FP / (FP + TN))*100,2)                           #Tasa de falsos positivos\n",
    "  return acc,err,se,sp,prec,FPR\n",
    "\n",
    "#Métricas de evaluación con librerias \n",
    "def calMetrics2(y_val, y_pred_labels):\n",
    "    accuracy = accuracy_score(y_val, y_pred_labels)\n",
    "    precision = precision_score(y_val, y_pred_labels)\n",
    "    recall = recall_score(y_val, y_pred_labels)\n",
    "    f1 = round(f1_score(y_val, y_pred_labels)*100,2)\n",
    "    roc_auc = round(roc_auc_score(y_val, y_pred_labels)*100,2)\n",
    "    logloss = round(log_loss(y_val, y_pred_labels),2)\n",
    "    conf_matrix = confusion_matrix(y_val, y_pred_labels)\n",
    "    return accuracy,precision,recall,f1,roc_auc,logloss"
   ]
  },
  {
   "cell_type": "markdown",
   "id": "0e96beb5-6bad-4df6-ba60-b67a9c3dfb82",
   "metadata": {
    "tags": []
   },
   "source": [
    "#### Métricas de desempeño para el modelo regresión logística con validación cruzada"
   ]
  },
  {
   "cell_type": "code",
   "execution_count": 482,
   "id": "f0ff151e-1924-432b-a628-3c60faae86c7",
   "metadata": {
    "tags": []
   },
   "outputs": [],
   "source": [
    "cm=confusion_matrix(df_aux_2['EVENTO'], df_aux_2['y_pred_LR'])\n",
    "\n",
    "acc, err, se, sp, prec, FPR =calMetrics(cm)\n",
    "accuracy, precision, recall, f1, roc_auc, logloss=calMetrics2(df_aux_2['EVENTO'], df_aux_2['y_pred_LR'])\n",
    "    \n",
    "matrix={\n",
    "        \"Acc\": acc,\n",
    "        \"Err\": err,\n",
    "        \"Re\": se,\n",
    "        \"Sp\": sp,\n",
    "        \"Pre\": prec,\n",
    "        \"FPR\": FPR,\n",
    "        \"F1\":f1,\n",
    "        \"ROC_AUC\": roc_auc,\n",
    "        \"Log_Loss\": logloss\n",
    "    }"
   ]
  },
  {
   "cell_type": "code",
   "execution_count": 483,
   "id": "ce8d992d-a553-4c9f-9c70-82772e242280",
   "metadata": {
    "tags": []
   },
   "outputs": [
    {
     "data": {
      "text/plain": [
       "{'Acc': 72.74,\n",
       " 'Err': 27.26,\n",
       " 'Re': 11.26,\n",
       " 'Sp': 96.15,\n",
       " 'Pre': 52.68,\n",
       " 'FPR': 3.85,\n",
       " 'F1': 18.55,\n",
       " 'ROC_AUC': 53.7,\n",
       " 'Log_Loss': 9.82}"
      ]
     },
     "execution_count": 483,
     "metadata": {},
     "output_type": "execute_result"
    }
   ],
   "source": [
    "matrix"
   ]
  },
  {
   "cell_type": "code",
   "execution_count": 486,
   "id": "dadad6a0-427b-4cf5-add6-66d68d36f866",
   "metadata": {
    "tags": []
   },
   "outputs": [
    {
     "data": {
      "text/plain": [
       "<Axes: >"
      ]
     },
     "execution_count": 486,
     "metadata": {},
     "output_type": "execute_result"
    },
    {
     "data": {
      "image/png": "[encoded data removed]",
      "text/plain": [
       "<Figure size 800x600 with 2 Axes>"
      ]
     },
     "metadata": {},
     "output_type": "display_data"
    }
   ],
   "source": [
    "plt.figure(figsize=(8, 6))\n",
    "cm = confusion_matrix(df_aux_2['EVENTO'], df_aux_2['y_pred_LR'])\n",
    "sns.heatmap(cm, annot=True, cmap='viridis', fmt='g')"
   ]
  },
  {
   "cell_type": "markdown",
   "id": "d8b133ba-9216-47eb-ae1a-ccf36063a4d9",
   "metadata": {},
   "source": [
    "#### Métricas de desempeño modelo propuesto"
   ]
  },
  {
   "cell_type": "code",
   "execution_count": 487,
   "id": "446aa049-1476-4fdb-af8c-2c8318d7e85a",
   "metadata": {
    "tags": []
   },
   "outputs": [],
   "source": [
    "cm=confusion_matrix(df_aux_2['EVENTO'], df_aux_2['y_pred_LRN'])\n",
    "\n",
    "acc, err, se, sp, prec, FPR =calMetrics(cm)\n",
    "accuracy, precision, recall, f1, roc_auc, logloss=calMetrics2(df_aux_2['EVENTO'], df_aux_2['y_pred_LRN'])\n",
    "    \n",
    "matrix={\n",
    "        \"Acc\": acc,\n",
    "        \"Err\": err,\n",
    "        \"Re\": se,\n",
    "        \"Sp\": sp,\n",
    "        \"Pre\": prec,\n",
    "        \"FPR\": FPR,\n",
    "        \"F1\":f1,\n",
    "        \"ROC_AUC\": roc_auc,\n",
    "        \"Log_Loss\": logloss\n",
    "    }"
   ]
  },
  {
   "cell_type": "code",
   "execution_count": 488,
   "id": "a2e1ca50-a9ca-4632-85e5-7a52869af6a2",
   "metadata": {
    "tags": []
   },
   "outputs": [
    {
     "data": {
      "text/plain": [
       "{'Acc': 72.64,\n",
       " 'Err': 27.36,\n",
       " 'Re': 8.11,\n",
       " 'Sp': 97.2,\n",
       " 'Pre': 52.47,\n",
       " 'FPR': 2.8,\n",
       " 'F1': 14.05,\n",
       " 'ROC_AUC': 52.66,\n",
       " 'Log_Loss': 9.86}"
      ]
     },
     "execution_count": 488,
     "metadata": {},
     "output_type": "execute_result"
    }
   ],
   "source": [
    "matrix"
   ]
  },
  {
   "cell_type": "code",
   "execution_count": 489,
   "id": "98b19e96-4d28-4d4f-8281-d5c3c67f13b0",
   "metadata": {
    "tags": []
   },
   "outputs": [
    {
     "data": {
      "text/plain": [
       "<Axes: >"
      ]
     },
     "execution_count": 489,
     "metadata": {},
     "output_type": "execute_result"
    },
    {
     "data": {
      "image/png": "[encoded data removed]",
      "text/plain": [
       "<Figure size 800x600 with 2 Axes>"
      ]
     },
     "metadata": {},
     "output_type": "display_data"
    }
   ],
   "source": [
    "plt.figure(figsize=(8, 6))\n",
    "cm = confusion_matrix(df_aux_2['EVENTO'], df_aux_2['y_pred_LRN'])\n",
    "sns.heatmap(cm, annot=True, cmap='viridis', fmt='g')"
   ]
  },
  {
   "cell_type": "markdown",
   "id": "309abe2a-0b8e-4827-942c-b7e719323d18",
   "metadata": {},
   "source": [
    "##### Al generar las metricas con sus respectivas matrices de confusión, observamos que el modelo de regresión logística clásico con validación cruzada tiene un mejor comportamiento en el test que el modelo propuesto de regresión logística con optimización por medio del descenso del gradiente. Se tomaron todas las variables cuantitativas que se tenían sumado a las categóricas que son una recategorización por medio de binning (frecuencias) de las variables cuantitativas sumado a las variables categóricas. \n",
    "+ Métricas modelo logístico clásico con validación cruzada\n",
    "|Métrica|Valor|\n",
    "|-------|-----|\n",
    "|Acc| 72.74|\n",
    " |Err| 27.26|\n",
    " |Re| 11.26|\n",
    " |Sp| 96.15|\n",
    " |Pre| 52.68|\n",
    " |FPR| 3.85|\n",
    " |F1| 18.55|\n",
    " |ROC_AUC| 53.7|\n",
    " |Log_Loss| 9.82|\n",
    " \n",
    "  + Métricas modelo propuesto, logístico redes neuronales con todas las variables disponibles\n",
    "\n",
    "|Métrica|Valor|\n",
    "|-------|-----|\n",
    " |Acc| 72.64|\n",
    " |Err| 27.36|\n",
    " |Re| 8.11|\n",
    " |Sp| 97.2|\n",
    " |Pre| 52.47|\n",
    " |FPR| 2.8|\n",
    " |F1| 14.05|\n",
    " |ROC_AUC| 52.66|\n",
    " |Log_Loss| 9.86|"
   ]
  },
  {
   "cell_type": "markdown",
   "id": "0c483bab-9b65-4fcb-8e52-017cbd55e403",
   "metadata": {
    "tags": []
   },
   "source": [
    "### Realizamos el mismo ejercicio pero igualando las variables que se tuvieron en cuenta en el desarrollo del modelo logístico con validación cruzada"
   ]
  },
  {
   "cell_type": "code",
   "execution_count": 522,
   "id": "0cdd75d8-9f2f-4821-89d3-c32870bfd1f0",
   "metadata": {
    "tags": []
   },
   "outputs": [],
   "source": [
    "df=datos[datos['FECHA_DESEMBOLSO'] < '2023-04-01']"
   ]
  },
  {
   "cell_type": "code",
   "execution_count": 523,
   "id": "3d63a837-55be-4576-b189-16755f2b6387",
   "metadata": {
    "tags": []
   },
   "outputs": [],
   "source": [
    "#list_cuantis=list(datos.columns)[2:24]\n",
    "#list_cuantis"
   ]
  },
  {
   "cell_type": "markdown",
   "id": "557c2b6b-2fd9-484f-9fab-af4a4ab98a09",
   "metadata": {},
   "source": [
    "##### Variables usadas en el modelo logístico clásico, no tienen problemas de multicolinealidad y todas son variables dummy"
   ]
  },
  {
   "cell_type": "code",
   "execution_count": 553,
   "id": "237d202b-3cf5-49d4-91be-dcd0fde05143",
   "metadata": {
    "tags": []
   },
   "outputs": [],
   "source": [
    "variables=['EVENTO', 'ACTIVOS_TOTAL_3',\n",
    " 'ANTIGUEDAD_NEGOCIO_1',\n",
    " 'ANTIGUEDAD_NEGOCIO_1_TIPO_VINCULACION_1',\n",
    " 'CIIU_2_GENERO_1',\n",
    " 'CIUDAD_1_ACTIVOS_TOTAL_1',\n",
    " 'CIUDAD_1_TIPO_VIVIENDA_3',\n",
    " 'CIUDAD_1_TOTAL_PASIVOS_1',\n",
    " 'CIUDAD_3_EDAD_3',\n",
    " 'CIUDAD_3_TIPO_VINCULACION_1',\n",
    " 'EDAD_2_TIPO_VINCULACION_1',\n",
    " 'EDAD_3_TIPO_VINCULACION_1',\n",
    " 'ESTADO_CIVIL_1',\n",
    " 'ESTADO_CIVIL_1_TIPO_VINCULACION_1',\n",
    " 'SCORE_1',\n",
    " 'SCORE_3',\n",
    " 'SCORE_4',\n",
    " 'TIPO_VIVIENDA_1',\n",
    " 'TIPO_VIVIENDA_3',\n",
    " 'TOTAL_PASIVOS_1',\n",
    " #'TOTAL_PASIVOS_1_ACTIVOS_TOTAL_1',\n",
    " 'TOTAL_PASIVOS_2_RAZON_PASIVOS_ACTIVOS_2']"
   ]
  },
  {
   "cell_type": "code",
   "execution_count": 554,
   "id": "5e8e5213-f35b-4d36-983f-ef3653f00b67",
   "metadata": {
    "tags": []
   },
   "outputs": [],
   "source": [
    "list_cualis=variables\n",
    "df1=df[variables]\n",
    "#list_cualis"
   ]
  },
  {
   "cell_type": "code",
   "execution_count": 555,
   "id": "574a5292-2c36-4b92-a25e-24518742bfc8",
   "metadata": {
    "scrolled": true,
    "tags": []
   },
   "outputs": [
    {
     "name": "stdout",
     "output_type": "stream",
     "text": [
      "0    13767\n",
      "1     5238\n",
      "Name: EVENTO, dtype: int64\n"
     ]
    },
    {
     "name": "stderr",
     "output_type": "stream",
     "text": [
      "C:\\Users\\MathStath\\AppData\\Local\\Temp\\ipykernel_10152\\1938324706.py:9: SettingWithCopyWarning: \n",
      "A value is trying to be set on a copy of a slice from a DataFrame.\n",
      "Try using .loc[row_indexer,col_indexer] = value instead\n",
      "\n",
      "See the caveats in the documentation: https://pandas.pydata.org/pandas-docs/stable/user_guide/indexing.html#returning-a-view-versus-a-copy\n",
      "  df1[i] = labelencoder.fit_transform(df1[i])\n",
      "C:\\Users\\MathStath\\AppData\\Local\\Temp\\ipykernel_10152\\1938324706.py:9: SettingWithCopyWarning: \n",
      "A value is trying to be set on a copy of a slice from a DataFrame.\n",
      "Try using .loc[row_indexer,col_indexer] = value instead\n",
      "\n",
      "See the caveats in the documentation: https://pandas.pydata.org/pandas-docs/stable/user_guide/indexing.html#returning-a-view-versus-a-copy\n",
      "  df1[i] = labelencoder.fit_transform(df1[i])\n",
      "C:\\Users\\MathStath\\AppData\\Local\\Temp\\ipykernel_10152\\1938324706.py:9: SettingWithCopyWarning: \n",
      "A value is trying to be set on a copy of a slice from a DataFrame.\n",
      "Try using .loc[row_indexer,col_indexer] = value instead\n",
      "\n",
      "See the caveats in the documentation: https://pandas.pydata.org/pandas-docs/stable/user_guide/indexing.html#returning-a-view-versus-a-copy\n",
      "  df1[i] = labelencoder.fit_transform(df1[i])\n",
      "C:\\Users\\MathStath\\AppData\\Local\\Temp\\ipykernel_10152\\1938324706.py:9: SettingWithCopyWarning: \n",
      "A value is trying to be set on a copy of a slice from a DataFrame.\n",
      "Try using .loc[row_indexer,col_indexer] = value instead\n",
      "\n",
      "See the caveats in the documentation: https://pandas.pydata.org/pandas-docs/stable/user_guide/indexing.html#returning-a-view-versus-a-copy\n",
      "  df1[i] = labelencoder.fit_transform(df1[i])\n",
      "C:\\Users\\MathStath\\AppData\\Local\\Temp\\ipykernel_10152\\1938324706.py:9: SettingWithCopyWarning: \n",
      "A value is trying to be set on a copy of a slice from a DataFrame.\n",
      "Try using .loc[row_indexer,col_indexer] = value instead\n",
      "\n",
      "See the caveats in the documentation: https://pandas.pydata.org/pandas-docs/stable/user_guide/indexing.html#returning-a-view-versus-a-copy\n",
      "  df1[i] = labelencoder.fit_transform(df1[i])\n",
      "C:\\Users\\MathStath\\AppData\\Local\\Temp\\ipykernel_10152\\1938324706.py:9: SettingWithCopyWarning: \n",
      "A value is trying to be set on a copy of a slice from a DataFrame.\n",
      "Try using .loc[row_indexer,col_indexer] = value instead\n",
      "\n",
      "See the caveats in the documentation: https://pandas.pydata.org/pandas-docs/stable/user_guide/indexing.html#returning-a-view-versus-a-copy\n",
      "  df1[i] = labelencoder.fit_transform(df1[i])\n",
      "C:\\Users\\MathStath\\AppData\\Local\\Temp\\ipykernel_10152\\1938324706.py:9: SettingWithCopyWarning: \n",
      "A value is trying to be set on a copy of a slice from a DataFrame.\n",
      "Try using .loc[row_indexer,col_indexer] = value instead\n",
      "\n",
      "See the caveats in the documentation: https://pandas.pydata.org/pandas-docs/stable/user_guide/indexing.html#returning-a-view-versus-a-copy\n",
      "  df1[i] = labelencoder.fit_transform(df1[i])\n",
      "C:\\Users\\MathStath\\AppData\\Local\\Temp\\ipykernel_10152\\1938324706.py:9: SettingWithCopyWarning: \n",
      "A value is trying to be set on a copy of a slice from a DataFrame.\n",
      "Try using .loc[row_indexer,col_indexer] = value instead\n",
      "\n",
      "See the caveats in the documentation: https://pandas.pydata.org/pandas-docs/stable/user_guide/indexing.html#returning-a-view-versus-a-copy\n",
      "  df1[i] = labelencoder.fit_transform(df1[i])\n",
      "C:\\Users\\MathStath\\AppData\\Local\\Temp\\ipykernel_10152\\1938324706.py:9: SettingWithCopyWarning: \n",
      "A value is trying to be set on a copy of a slice from a DataFrame.\n",
      "Try using .loc[row_indexer,col_indexer] = value instead\n",
      "\n",
      "See the caveats in the documentation: https://pandas.pydata.org/pandas-docs/stable/user_guide/indexing.html#returning-a-view-versus-a-copy\n",
      "  df1[i] = labelencoder.fit_transform(df1[i])\n",
      "C:\\Users\\MathStath\\AppData\\Local\\Temp\\ipykernel_10152\\1938324706.py:9: SettingWithCopyWarning: \n",
      "A value is trying to be set on a copy of a slice from a DataFrame.\n",
      "Try using .loc[row_indexer,col_indexer] = value instead\n",
      "\n",
      "See the caveats in the documentation: https://pandas.pydata.org/pandas-docs/stable/user_guide/indexing.html#returning-a-view-versus-a-copy\n",
      "  df1[i] = labelencoder.fit_transform(df1[i])\n",
      "C:\\Users\\MathStath\\AppData\\Local\\Temp\\ipykernel_10152\\1938324706.py:9: SettingWithCopyWarning: \n",
      "A value is trying to be set on a copy of a slice from a DataFrame.\n",
      "Try using .loc[row_indexer,col_indexer] = value instead\n",
      "\n",
      "See the caveats in the documentation: https://pandas.pydata.org/pandas-docs/stable/user_guide/indexing.html#returning-a-view-versus-a-copy\n",
      "  df1[i] = labelencoder.fit_transform(df1[i])\n",
      "C:\\Users\\MathStath\\AppData\\Local\\Temp\\ipykernel_10152\\1938324706.py:9: SettingWithCopyWarning: \n",
      "A value is trying to be set on a copy of a slice from a DataFrame.\n",
      "Try using .loc[row_indexer,col_indexer] = value instead\n",
      "\n",
      "See the caveats in the documentation: https://pandas.pydata.org/pandas-docs/stable/user_guide/indexing.html#returning-a-view-versus-a-copy\n",
      "  df1[i] = labelencoder.fit_transform(df1[i])\n",
      "C:\\Users\\MathStath\\AppData\\Local\\Temp\\ipykernel_10152\\1938324706.py:9: SettingWithCopyWarning: \n",
      "A value is trying to be set on a copy of a slice from a DataFrame.\n",
      "Try using .loc[row_indexer,col_indexer] = value instead\n",
      "\n",
      "See the caveats in the documentation: https://pandas.pydata.org/pandas-docs/stable/user_guide/indexing.html#returning-a-view-versus-a-copy\n",
      "  df1[i] = labelencoder.fit_transform(df1[i])\n",
      "C:\\Users\\MathStath\\AppData\\Local\\Temp\\ipykernel_10152\\1938324706.py:9: SettingWithCopyWarning: \n",
      "A value is trying to be set on a copy of a slice from a DataFrame.\n",
      "Try using .loc[row_indexer,col_indexer] = value instead\n",
      "\n",
      "See the caveats in the documentation: https://pandas.pydata.org/pandas-docs/stable/user_guide/indexing.html#returning-a-view-versus-a-copy\n",
      "  df1[i] = labelencoder.fit_transform(df1[i])\n",
      "C:\\Users\\MathStath\\AppData\\Local\\Temp\\ipykernel_10152\\1938324706.py:9: SettingWithCopyWarning: \n",
      "A value is trying to be set on a copy of a slice from a DataFrame.\n",
      "Try using .loc[row_indexer,col_indexer] = value instead\n",
      "\n",
      "See the caveats in the documentation: https://pandas.pydata.org/pandas-docs/stable/user_guide/indexing.html#returning-a-view-versus-a-copy\n",
      "  df1[i] = labelencoder.fit_transform(df1[i])\n",
      "C:\\Users\\MathStath\\AppData\\Local\\Temp\\ipykernel_10152\\1938324706.py:9: SettingWithCopyWarning: \n",
      "A value is trying to be set on a copy of a slice from a DataFrame.\n",
      "Try using .loc[row_indexer,col_indexer] = value instead\n",
      "\n",
      "See the caveats in the documentation: https://pandas.pydata.org/pandas-docs/stable/user_guide/indexing.html#returning-a-view-versus-a-copy\n",
      "  df1[i] = labelencoder.fit_transform(df1[i])\n",
      "C:\\Users\\MathStath\\AppData\\Local\\Temp\\ipykernel_10152\\1938324706.py:9: SettingWithCopyWarning: \n",
      "A value is trying to be set on a copy of a slice from a DataFrame.\n",
      "Try using .loc[row_indexer,col_indexer] = value instead\n",
      "\n",
      "See the caveats in the documentation: https://pandas.pydata.org/pandas-docs/stable/user_guide/indexing.html#returning-a-view-versus-a-copy\n",
      "  df1[i] = labelencoder.fit_transform(df1[i])\n",
      "C:\\Users\\MathStath\\AppData\\Local\\Temp\\ipykernel_10152\\1938324706.py:9: SettingWithCopyWarning: \n",
      "A value is trying to be set on a copy of a slice from a DataFrame.\n",
      "Try using .loc[row_indexer,col_indexer] = value instead\n",
      "\n",
      "See the caveats in the documentation: https://pandas.pydata.org/pandas-docs/stable/user_guide/indexing.html#returning-a-view-versus-a-copy\n",
      "  df1[i] = labelencoder.fit_transform(df1[i])\n",
      "C:\\Users\\MathStath\\AppData\\Local\\Temp\\ipykernel_10152\\1938324706.py:9: SettingWithCopyWarning: \n",
      "A value is trying to be set on a copy of a slice from a DataFrame.\n",
      "Try using .loc[row_indexer,col_indexer] = value instead\n",
      "\n",
      "See the caveats in the documentation: https://pandas.pydata.org/pandas-docs/stable/user_guide/indexing.html#returning-a-view-versus-a-copy\n",
      "  df1[i] = labelencoder.fit_transform(df1[i])\n",
      "C:\\Users\\MathStath\\AppData\\Local\\Temp\\ipykernel_10152\\1938324706.py:9: SettingWithCopyWarning: \n",
      "A value is trying to be set on a copy of a slice from a DataFrame.\n",
      "Try using .loc[row_indexer,col_indexer] = value instead\n",
      "\n",
      "See the caveats in the documentation: https://pandas.pydata.org/pandas-docs/stable/user_guide/indexing.html#returning-a-view-versus-a-copy\n",
      "  df1[i] = labelencoder.fit_transform(df1[i])\n",
      "C:\\Users\\MathStath\\AppData\\Local\\Temp\\ipykernel_10152\\1938324706.py:9: SettingWithCopyWarning: \n",
      "A value is trying to be set on a copy of a slice from a DataFrame.\n",
      "Try using .loc[row_indexer,col_indexer] = value instead\n",
      "\n",
      "See the caveats in the documentation: https://pandas.pydata.org/pandas-docs/stable/user_guide/indexing.html#returning-a-view-versus-a-copy\n",
      "  df1[i] = labelencoder.fit_transform(df1[i])\n"
     ]
    }
   ],
   "source": [
    "cualis=list_cualis\n",
    "#cuantis=list_cuantis\n",
    "\n",
    "#scaler = MinMaxScaler()\n",
    "#scaler.fit(df1[cuantis])\n",
    "#df1[cuantis] = scaler.transform(df1[cuantis])\n",
    "for i in cualis:\n",
    "    labelencoder = LabelEncoder()\n",
    "    df1[i] = labelencoder.fit_transform(df1[i])\n",
    "    \n",
    "print(df1['EVENTO'].value_counts())\n",
    "\n",
    "X=df1.drop(columns=[\"EVENTO\"])\n",
    "y=df1[\"EVENTO\"]\n",
    "\n",
    "train_size=0.8\n",
    "train, test = model_selection.train_test_split(df1,train_size=int(train_size*len(df1)), stratify=df1['EVENTO'], random_state=seed)"
   ]
  },
  {
   "cell_type": "code",
   "execution_count": 556,
   "id": "72ed5c2d-b4dd-41f0-8ac6-c59c64889cbe",
   "metadata": {
    "tags": []
   },
   "outputs": [],
   "source": [
    "# Loading the data (evento/no evento)\n",
    "train_set_x_orig=train.drop(columns=[\"EVENTO\"])\n",
    "train_set_y=train[\"EVENTO\"]\n",
    "test_set_x_orig=test.drop(columns=[\"EVENTO\"])\n",
    "test_set_y=test[\"EVENTO\"]\n",
    "classes = np.array([0, 1])\n",
    "classes = classes.astype(str)\n",
    "\n",
    "train_set_x_orig_array=train_set_x_orig.to_numpy()\n",
    "test_set_x_orig_array=test_set_x_orig.to_numpy()\n",
    "train_set_y_array=train_set_y.to_numpy()\n",
    "train_set_y_array=train_set_y_array.reshape(1, -1)\n",
    "test_set_y_array=test_set_y.to_numpy()\n",
    "test_set_y_array=test_set_y_array.reshape(1, -1)"
   ]
  },
  {
   "cell_type": "code",
   "execution_count": 557,
   "id": "9e44593d-e32f-46a3-b326-c7724f53db7f",
   "metadata": {
    "tags": []
   },
   "outputs": [],
   "source": [
    "indices = train_set_x_orig.index"
   ]
  },
  {
   "cell_type": "code",
   "execution_count": 558,
   "id": "4b740332-2ef6-45fd-b3ee-b75d764d3655",
   "metadata": {
    "tags": []
   },
   "outputs": [
    {
     "name": "stdout",
     "output_type": "stream",
     "text": [
      "ACTIVOS_TOTAL_3                            0\n",
      "ANTIGUEDAD_NEGOCIO_1                       1\n",
      "ANTIGUEDAD_NEGOCIO_1_TIPO_VINCULACION_1    1\n",
      "CIIU_2_GENERO_1                            0\n",
      "CIUDAD_1_ACTIVOS_TOTAL_1                   0\n",
      "CIUDAD_1_TIPO_VIVIENDA_3                   0\n",
      "CIUDAD_1_TOTAL_PASIVOS_1                   1\n",
      "CIUDAD_3_EDAD_3                            0\n",
      "CIUDAD_3_TIPO_VINCULACION_1                0\n",
      "EDAD_2_TIPO_VINCULACION_1                  1\n",
      "EDAD_3_TIPO_VINCULACION_1                  0\n",
      "ESTADO_CIVIL_1                             0\n",
      "ESTADO_CIVIL_1_TIPO_VINCULACION_1          0\n",
      "SCORE_1                                    0\n",
      "SCORE_3                                    0\n",
      "SCORE_4                                    1\n",
      "TIPO_VIVIENDA_1                            1\n",
      "TIPO_VIVIENDA_3                            0\n",
      "TOTAL_PASIVOS_1                            1\n",
      "TOTAL_PASIVOS_2_RAZON_PASIVOS_ACTIVOS_2    0\n",
      "Name: 6762, dtype: int64\n",
      "\n",
      "Cero representa no tener el evento\n",
      "Se obseva si tiene o no el evento para el individuo que se encuentra en los índices\n",
      " 0\n"
     ]
    }
   ],
   "source": [
    "# Ejemplo de un individuo en el conjunto de entrenamiento con índice original\n",
    "index = 6762\n",
    "print(train_set_x_orig.loc[index])\n",
    "print(\"\\nCero representa no tener el evento\")\n",
    "print(\"Se obseva si tiene o no el evento para el individuo que se encuentra en los índices\\n\", train_set_y.loc[index])"
   ]
  },
  {
   "cell_type": "code",
   "execution_count": 559,
   "id": "b02aeb0a-a524-4e46-bd9e-f82c0ad7df1f",
   "metadata": {
    "tags": []
   },
   "outputs": [
    {
     "name": "stdout",
     "output_type": "stream",
     "text": [
      "Número de muestras de entrenamiento: m_train = 15204\n",
      "Número de muestras de test m_test = 3801\n",
      "Cantidad de características de cada individuo = 20\n",
      "train_set_x tamaño: (15204, 20)\n",
      "train_set_y tamaño: (1, 15204)\n",
      "test_set_x tamaño: (3801, 20)\n",
      "test_set_y tamaño: (1, 3801)\n"
     ]
    }
   ],
   "source": [
    "#Verificación de tamaños\n",
    "m_train=train_set_x_orig.shape[0]\n",
    "m_test=test_set_x_orig.shape[0]\n",
    "num_px=train_set_x_orig.loc[index].shape[0]\n",
    "\n",
    "print (\"Número de muestras de entrenamiento: m_train = \" + str(m_train))\n",
    "print (\"Número de muestras de test m_test = \" + str(m_test))\n",
    "print (\"Cantidad de características de cada individuo = \" + str(num_px))\n",
    "print (\"train_set_x tamaño: \" + str(train_set_x_orig_array.shape))\n",
    "print (\"train_set_y tamaño: \" + str(train_set_y_array.shape))\n",
    "print (\"test_set_x tamaño: \" + str(test_set_x_orig_array.shape))\n",
    "print (\"test_set_y tamaño: \" + str(test_set_y_array.shape))"
   ]
  },
  {
   "cell_type": "code",
   "execution_count": 560,
   "id": "310e0e10-342a-427d-a192-d3af190dcfae",
   "metadata": {
    "tags": []
   },
   "outputs": [],
   "source": [
    "train_set_x_flatten=train_set_x_orig_array.reshape(train_set_x_orig_array.shape[0],-1).T\n",
    "test_set_x_flatten=test_set_x_orig_array.reshape(test_set_x_orig_array.shape[0],-1).T"
   ]
  },
  {
   "cell_type": "code",
   "execution_count": 561,
   "id": "53d5a28f-3fb3-40ec-a32a-f5e4183d7f00",
   "metadata": {
    "tags": []
   },
   "outputs": [
    {
     "name": "stdout",
     "output_type": "stream",
     "text": [
      "train_set_x_flatten shape: (20, 15204)\n",
      "train_set_y shape: (1, 15204)\n",
      "test_set_x_flatten shape: (20, 3801)\n",
      "test_set_y shape: (1, 3801)\n"
     ]
    }
   ],
   "source": [
    "print (\"train_set_x_flatten shape: \" + str(train_set_x_flatten.shape))\n",
    "print (\"train_set_y shape: \" + str(train_set_y_array.shape))\n",
    "print (\"test_set_x_flatten shape: \" + str(test_set_x_flatten.shape))\n",
    "print (\"test_set_y shape: \" + str(test_set_y_array.shape))"
   ]
  },
  {
   "cell_type": "code",
   "execution_count": 562,
   "id": "3946cc96-67fe-4e04-b6ac-3dc19d7d46d2",
   "metadata": {
    "tags": []
   },
   "outputs": [
    {
     "name": "stdout",
     "output_type": "stream",
     "text": [
      "Cost after iteration 0: 0.693147\n",
      "Cost after iteration 100: 0.638711\n",
      "Cost after iteration 200: 0.609833\n",
      "Cost after iteration 300: 0.593635\n",
      "Cost after iteration 400: 0.583930\n",
      "Cost after iteration 500: 0.577692\n",
      "Cost after iteration 600: 0.573395\n",
      "Cost after iteration 700: 0.570239\n",
      "Cost after iteration 800: 0.567790\n",
      "Cost after iteration 900: 0.565806\n",
      "Cost after iteration 1000: 0.564144\n",
      "Cost after iteration 1100: 0.562718\n",
      "Cost after iteration 1200: 0.561473\n",
      "Cost after iteration 1300: 0.560373\n",
      "Cost after iteration 1400: 0.559392\n",
      "Cost after iteration 1500: 0.558512\n",
      "Cost after iteration 1600: 0.557718\n",
      "Cost after iteration 1700: 0.556998\n",
      "Cost after iteration 1800: 0.556343\n",
      "Cost after iteration 1900: 0.555745\n",
      "train accuracy: 72.44146277295448 %\n",
      "test accuracy: 72.42830833991056 %\n"
     ]
    }
   ],
   "source": [
    "logistic_regression_model = model(train_set_x_flatten, train_set_y_array, test_set_x_flatten, test_set_y_array, num_iterations=2000, learning_rate=0.005, print_cost=True)"
   ]
  },
  {
   "cell_type": "code",
   "execution_count": 563,
   "id": "1be5908b-6fb4-430b-b7b9-4628927ffe0d",
   "metadata": {
    "tags": []
   },
   "outputs": [],
   "source": [
    "logistic_regression_model_1=logistic_regression_model[0]\n",
    "A_test=logistic_regression_model[1]\n",
    "A_train=logistic_regression_model[2]"
   ]
  },
  {
   "cell_type": "code",
   "execution_count": 564,
   "id": "5cf87313-edd3-4365-8167-888756f38851",
   "metadata": {
    "tags": []
   },
   "outputs": [
    {
     "name": "stdout",
     "output_type": "stream",
     "text": [
      "\n",
      "El individuo tenia las siguientes características en las variables:\n",
      "\n",
      "[0 0 0 0 0 0 0 0 0 0 0 1 0 0 0 0 0 0 1 0]\n",
      "\n",
      "El individuo tenia el siguiente EVENTO:\n",
      "\n",
      "0\n",
      "\n",
      "El individuo según el modelo tiene la siguiente predicción del EVENTO :\n",
      "\n",
      "0\n",
      "\n",
      "El individuo según el modelo tiene el siguiente valor de probabilidad:\n",
      "\n",
      "[0.37731888]\n"
     ]
    }
   ],
   "source": [
    "index = 7\n",
    "print(\"\\nEl individuo tenia las siguientes características en las variables:\\n\")\n",
    "print(test_set_x_flatten[:, index])\n",
    "print(\"\\nEl individuo tenia el siguiente EVENTO:\\n\")\n",
    "print(test_set_y_array[0,index])\n",
    "print(\"\\nEl individuo según el modelo tiene la siguiente predicción del EVENTO :\\n\")\n",
    "print(int(logistic_regression_model_1['Y_prediction_test'][0,index]))\n",
    "print(\"\\nEl individuo según el modelo tiene el siguiente valor de probabilidad:\\n\")\n",
    "print(A_test[:,index])"
   ]
  },
  {
   "cell_type": "code",
   "execution_count": 565,
   "id": "6ba8dbaf-aa2a-454b-ad0c-80e9ac2befda",
   "metadata": {
    "tags": []
   },
   "outputs": [
    {
     "data": {
      "image/png": "[encoded data removed]",
      "text/plain": [
       "<Figure size 800x600 with 1 Axes>"
      ]
     },
     "metadata": {},
     "output_type": "display_data"
    }
   ],
   "source": [
    "# Plot learning curve (with costs)\n",
    "plt.figure(figsize=(8, 6))\n",
    "costs = np.squeeze(logistic_regression_model_1['costs'])\n",
    "plt.plot(costs)\n",
    "plt.ylabel('cost')\n",
    "plt.xlabel('iterations (per hundreds)')\n",
    "plt.title(\"Learning rate =\" + str(logistic_regression_model_1[\"learning_rate\"]))\n",
    "plt.show()"
   ]
  },
  {
   "cell_type": "markdown",
   "id": "0c22f082-1673-40a6-a640-0018b546b4d9",
   "metadata": {},
   "source": [
    "#### Observamos diferentes valores de tasas de aprendizaje y la función de costo"
   ]
  },
  {
   "cell_type": "code",
   "execution_count": 566,
   "id": "febb3d11-3056-4cf2-98e4-d4d306be8d74",
   "metadata": {
    "tags": []
   },
   "outputs": [
    {
     "name": "stdout",
     "output_type": "stream",
     "text": [
      "Training a model with learning rate: 0.01\n",
      "\n",
      "-------------------------------------------------------\n",
      "\n",
      "Training a model with learning rate: 0.005\n",
      "\n",
      "-------------------------------------------------------\n",
      "\n",
      "Training a model with learning rate: 0.001\n",
      "\n",
      "-------------------------------------------------------\n",
      "\n",
      "Training a model with learning rate: 0.0001\n",
      "\n",
      "-------------------------------------------------------\n",
      "\n"
     ]
    },
    {
     "data": {
      "image/png": "[encoded data removed]",
      "text/plain": [
       "<Figure size 800x600 with 1 Axes>"
      ]
     },
     "metadata": {},
     "output_type": "display_data"
    }
   ],
   "source": [
    "learning_rates = [0.01, 0.005, 0.001, 0.0001]\n",
    "models = {}\n",
    "\n",
    "for lr in learning_rates:\n",
    "    print (\"Training a model with learning rate: \" + str(lr))\n",
    "    logistic_regression_model=model(train_set_x_flatten, train_set_y_array, test_set_x_flatten, test_set_y_array, num_iterations=1500, learning_rate=lr, print_cost=False)\n",
    "    models[str(lr)] = logistic_regression_model[0]\n",
    "    print ('\\n' + \"-------------------------------------------------------\" + '\\n')\n",
    "plt.figure(figsize=(8, 6))\n",
    "for lr in learning_rates:\n",
    "    plt.plot(np.squeeze(models[str(lr)][\"costs\"]), label=str(models[str(lr)][\"learning_rate\"]))\n",
    "\n",
    "plt.ylabel('cost')\n",
    "plt.xlabel('iterations (hundreds)')\n",
    "\n",
    "legend = plt.legend(loc='upper center', shadow=True)\n",
    "frame = legend.get_frame()\n",
    "frame.set_facecolor('0.90')\n",
    "plt.show()"
   ]
  },
  {
   "cell_type": "markdown",
   "id": "bcebf59b-e8e7-4735-b2fc-c703b27d26bc",
   "metadata": {
    "tags": []
   },
   "source": [
    "#### De acuerdo al gráfico una tasa de aprendizaje de 0.01 resulta con un costo menor que la que probamos inicialmente, por lo que generamos predicciones con esta tasa de aprendizaje"
   ]
  },
  {
   "cell_type": "code",
   "execution_count": 567,
   "id": "6ed3e89a-d30d-497b-a843-313e313dfc9a",
   "metadata": {
    "tags": []
   },
   "outputs": [
    {
     "name": "stdout",
     "output_type": "stream",
     "text": [
      "Cost after iteration 0: 0.693147\n",
      "Cost after iteration 100: 0.609770\n",
      "Cost after iteration 200: 0.583893\n",
      "Cost after iteration 300: 0.573375\n",
      "Cost after iteration 400: 0.567779\n",
      "Cost after iteration 500: 0.564137\n",
      "Cost after iteration 600: 0.561468\n",
      "Cost after iteration 700: 0.559388\n",
      "Cost after iteration 800: 0.557714\n",
      "Cost after iteration 900: 0.556339\n",
      "Cost after iteration 1000: 0.555194\n",
      "Cost after iteration 1100: 0.554228\n",
      "Cost after iteration 1200: 0.553403\n",
      "Cost after iteration 1300: 0.552691\n",
      "Cost after iteration 1400: 0.552069\n",
      "Cost after iteration 1500: 0.551521\n",
      "Cost after iteration 1600: 0.551034\n",
      "Cost after iteration 1700: 0.550596\n",
      "Cost after iteration 1800: 0.550199\n",
      "Cost after iteration 1900: 0.549838\n",
      "train accuracy: 72.69797421731124 %\n",
      "test accuracy: 72.8492501973165 %\n"
     ]
    }
   ],
   "source": [
    "logistic_regression_model = model(train_set_x_flatten, train_set_y_array, test_set_x_flatten, test_set_y_array, num_iterations=2000, learning_rate=0.01, print_cost=True)"
   ]
  },
  {
   "cell_type": "markdown",
   "id": "5e43c586-8a10-47b0-9e7b-82f5d559d8be",
   "metadata": {},
   "source": [
    "#### Se observa que el accuracy mejora levemente con esta tasa de aprendizaje"
   ]
  },
  {
   "cell_type": "code",
   "execution_count": 568,
   "id": "4cabcd15-dbbe-4c3a-8358-629e81e1d5b5",
   "metadata": {
    "tags": []
   },
   "outputs": [],
   "source": [
    "logistic_regression_model_1=logistic_regression_model[0]\n",
    "A_test=logistic_regression_model[1]\n",
    "A_train=logistic_regression_model[2]"
   ]
  },
  {
   "cell_type": "code",
   "execution_count": 569,
   "id": "73ec165b-1dc7-48fd-af85-5449ffb4161c",
   "metadata": {
    "tags": []
   },
   "outputs": [
    {
     "data": {
      "text/plain": [
       "(1, 15204)"
      ]
     },
     "execution_count": 569,
     "metadata": {},
     "output_type": "execute_result"
    }
   ],
   "source": [
    "A_train.shape"
   ]
  },
  {
   "cell_type": "code",
   "execution_count": 570,
   "id": "698bb369-9db9-4133-ab51-4768ce167e68",
   "metadata": {
    "tags": []
   },
   "outputs": [
    {
     "name": "stdout",
     "output_type": "stream",
     "text": [
      "\n",
      "El individuo tenia las siguientes características en las variables:\n",
      "\n",
      "[0 0 0 0 0 0 0 0 0 0 0 1 0 0 0 0 0 0 1 0]\n",
      "\n",
      "El individuo tenia el siguiente EVENTO:\n",
      "\n",
      "0\n",
      "\n",
      "El individuo según el modelo tiene la siguiente predicción del EVENTO :\n",
      "\n",
      "0\n",
      "\n",
      "El individuo según el modelo tiene el siguiente valor de probabilidad:\n",
      "\n",
      "[0.38294425]\n"
     ]
    }
   ],
   "source": [
    "index = 7\n",
    "print(\"\\nEl individuo tenia las siguientes características en las variables:\\n\")\n",
    "print(test_set_x_flatten[:, index])\n",
    "print(\"\\nEl individuo tenia el siguiente EVENTO:\\n\")\n",
    "print(test_set_y_array[0,index])\n",
    "print(\"\\nEl individuo según el modelo tiene la siguiente predicción del EVENTO :\\n\")\n",
    "print(int(logistic_regression_model_1['Y_prediction_test'][0,index]))\n",
    "print(\"\\nEl individuo según el modelo tiene el siguiente valor de probabilidad:\\n\")\n",
    "print(A_test[:,index])"
   ]
  },
  {
   "cell_type": "code",
   "execution_count": 571,
   "id": "72d7d672-cb03-498f-adcc-6cd7259a4c26",
   "metadata": {
    "tags": []
   },
   "outputs": [
    {
     "data": {
      "text/html": [
       "<div>\n",
       "<style scoped>\n",
       "    .dataframe tbody tr th:only-of-type {\n",
       "        vertical-align: middle;\n",
       "    }\n",
       "\n",
       "    .dataframe tbody tr th {\n",
       "        vertical-align: top;\n",
       "    }\n",
       "\n",
       "    .dataframe thead th {\n",
       "        text-align: right;\n",
       "    }\n",
       "</style>\n",
       "<table border=\"1\" class=\"dataframe\">\n",
       "  <thead>\n",
       "    <tr style=\"text-align: right;\">\n",
       "      <th></th>\n",
       "      <th>ACTIVOS_TOTAL_3</th>\n",
       "      <th>ANTIGUEDAD_NEGOCIO_1</th>\n",
       "      <th>ANTIGUEDAD_NEGOCIO_1_TIPO_VINCULACION_1</th>\n",
       "      <th>CIIU_2_GENERO_1</th>\n",
       "      <th>CIUDAD_1_ACTIVOS_TOTAL_1</th>\n",
       "      <th>CIUDAD_1_TIPO_VIVIENDA_3</th>\n",
       "      <th>CIUDAD_1_TOTAL_PASIVOS_1</th>\n",
       "      <th>CIUDAD_3_EDAD_3</th>\n",
       "      <th>CIUDAD_3_TIPO_VINCULACION_1</th>\n",
       "      <th>EDAD_2_TIPO_VINCULACION_1</th>\n",
       "      <th>...</th>\n",
       "      <th>ESTADO_CIVIL_1</th>\n",
       "      <th>ESTADO_CIVIL_1_TIPO_VINCULACION_1</th>\n",
       "      <th>SCORE_1</th>\n",
       "      <th>SCORE_3</th>\n",
       "      <th>SCORE_4</th>\n",
       "      <th>TIPO_VIVIENDA_1</th>\n",
       "      <th>TIPO_VIVIENDA_3</th>\n",
       "      <th>TOTAL_PASIVOS_1</th>\n",
       "      <th>TOTAL_PASIVOS_2_RAZON_PASIVOS_ACTIVOS_2</th>\n",
       "      <th>PROBABILIDAD_LRN</th>\n",
       "    </tr>\n",
       "  </thead>\n",
       "  <tbody>\n",
       "    <tr>\n",
       "      <th>9156</th>\n",
       "      <td>0</td>\n",
       "      <td>0</td>\n",
       "      <td>0</td>\n",
       "      <td>0</td>\n",
       "      <td>0</td>\n",
       "      <td>0</td>\n",
       "      <td>0</td>\n",
       "      <td>0</td>\n",
       "      <td>0</td>\n",
       "      <td>0</td>\n",
       "      <td>...</td>\n",
       "      <td>1</td>\n",
       "      <td>0</td>\n",
       "      <td>0</td>\n",
       "      <td>1</td>\n",
       "      <td>0</td>\n",
       "      <td>1</td>\n",
       "      <td>0</td>\n",
       "      <td>1</td>\n",
       "      <td>0</td>\n",
       "      <td>0.237036</td>\n",
       "    </tr>\n",
       "    <tr>\n",
       "      <th>15017</th>\n",
       "      <td>0</td>\n",
       "      <td>1</td>\n",
       "      <td>0</td>\n",
       "      <td>0</td>\n",
       "      <td>0</td>\n",
       "      <td>0</td>\n",
       "      <td>0</td>\n",
       "      <td>0</td>\n",
       "      <td>0</td>\n",
       "      <td>0</td>\n",
       "      <td>...</td>\n",
       "      <td>1</td>\n",
       "      <td>0</td>\n",
       "      <td>0</td>\n",
       "      <td>0</td>\n",
       "      <td>0</td>\n",
       "      <td>0</td>\n",
       "      <td>0</td>\n",
       "      <td>1</td>\n",
       "      <td>0</td>\n",
       "      <td>0.321308</td>\n",
       "    </tr>\n",
       "    <tr>\n",
       "      <th>1807</th>\n",
       "      <td>0</td>\n",
       "      <td>1</td>\n",
       "      <td>1</td>\n",
       "      <td>0</td>\n",
       "      <td>0</td>\n",
       "      <td>0</td>\n",
       "      <td>1</td>\n",
       "      <td>0</td>\n",
       "      <td>0</td>\n",
       "      <td>0</td>\n",
       "      <td>...</td>\n",
       "      <td>0</td>\n",
       "      <td>0</td>\n",
       "      <td>0</td>\n",
       "      <td>0</td>\n",
       "      <td>0</td>\n",
       "      <td>1</td>\n",
       "      <td>0</td>\n",
       "      <td>1</td>\n",
       "      <td>0</td>\n",
       "      <td>0.167034</td>\n",
       "    </tr>\n",
       "    <tr>\n",
       "      <th>17987</th>\n",
       "      <td>0</td>\n",
       "      <td>0</td>\n",
       "      <td>0</td>\n",
       "      <td>0</td>\n",
       "      <td>1</td>\n",
       "      <td>1</td>\n",
       "      <td>0</td>\n",
       "      <td>0</td>\n",
       "      <td>0</td>\n",
       "      <td>0</td>\n",
       "      <td>...</td>\n",
       "      <td>0</td>\n",
       "      <td>0</td>\n",
       "      <td>0</td>\n",
       "      <td>0</td>\n",
       "      <td>0</td>\n",
       "      <td>0</td>\n",
       "      <td>1</td>\n",
       "      <td>0</td>\n",
       "      <td>0</td>\n",
       "      <td>0.453956</td>\n",
       "    </tr>\n",
       "    <tr>\n",
       "      <th>16056</th>\n",
       "      <td>0</td>\n",
       "      <td>1</td>\n",
       "      <td>0</td>\n",
       "      <td>0</td>\n",
       "      <td>0</td>\n",
       "      <td>0</td>\n",
       "      <td>0</td>\n",
       "      <td>0</td>\n",
       "      <td>0</td>\n",
       "      <td>0</td>\n",
       "      <td>...</td>\n",
       "      <td>1</td>\n",
       "      <td>0</td>\n",
       "      <td>0</td>\n",
       "      <td>1</td>\n",
       "      <td>0</td>\n",
       "      <td>0</td>\n",
       "      <td>1</td>\n",
       "      <td>0</td>\n",
       "      <td>0</td>\n",
       "      <td>0.281220</td>\n",
       "    </tr>\n",
       "    <tr>\n",
       "      <th>...</th>\n",
       "      <td>...</td>\n",
       "      <td>...</td>\n",
       "      <td>...</td>\n",
       "      <td>...</td>\n",
       "      <td>...</td>\n",
       "      <td>...</td>\n",
       "      <td>...</td>\n",
       "      <td>...</td>\n",
       "      <td>...</td>\n",
       "      <td>...</td>\n",
       "      <td>...</td>\n",
       "      <td>...</td>\n",
       "      <td>...</td>\n",
       "      <td>...</td>\n",
       "      <td>...</td>\n",
       "      <td>...</td>\n",
       "      <td>...</td>\n",
       "      <td>...</td>\n",
       "      <td>...</td>\n",
       "      <td>...</td>\n",
       "      <td>...</td>\n",
       "    </tr>\n",
       "    <tr>\n",
       "      <th>10780</th>\n",
       "      <td>0</td>\n",
       "      <td>0</td>\n",
       "      <td>0</td>\n",
       "      <td>0</td>\n",
       "      <td>0</td>\n",
       "      <td>0</td>\n",
       "      <td>0</td>\n",
       "      <td>0</td>\n",
       "      <td>0</td>\n",
       "      <td>0</td>\n",
       "      <td>...</td>\n",
       "      <td>0</td>\n",
       "      <td>0</td>\n",
       "      <td>0</td>\n",
       "      <td>1</td>\n",
       "      <td>0</td>\n",
       "      <td>0</td>\n",
       "      <td>1</td>\n",
       "      <td>1</td>\n",
       "      <td>0</td>\n",
       "      <td>0.312358</td>\n",
       "    </tr>\n",
       "    <tr>\n",
       "      <th>13058</th>\n",
       "      <td>0</td>\n",
       "      <td>0</td>\n",
       "      <td>0</td>\n",
       "      <td>0</td>\n",
       "      <td>0</td>\n",
       "      <td>0</td>\n",
       "      <td>0</td>\n",
       "      <td>0</td>\n",
       "      <td>0</td>\n",
       "      <td>0</td>\n",
       "      <td>...</td>\n",
       "      <td>1</td>\n",
       "      <td>0</td>\n",
       "      <td>0</td>\n",
       "      <td>0</td>\n",
       "      <td>0</td>\n",
       "      <td>0</td>\n",
       "      <td>1</td>\n",
       "      <td>1</td>\n",
       "      <td>0</td>\n",
       "      <td>0.402300</td>\n",
       "    </tr>\n",
       "    <tr>\n",
       "      <th>6806</th>\n",
       "      <td>0</td>\n",
       "      <td>0</td>\n",
       "      <td>0</td>\n",
       "      <td>0</td>\n",
       "      <td>1</td>\n",
       "      <td>1</td>\n",
       "      <td>1</td>\n",
       "      <td>0</td>\n",
       "      <td>0</td>\n",
       "      <td>0</td>\n",
       "      <td>...</td>\n",
       "      <td>1</td>\n",
       "      <td>0</td>\n",
       "      <td>0</td>\n",
       "      <td>0</td>\n",
       "      <td>0</td>\n",
       "      <td>0</td>\n",
       "      <td>1</td>\n",
       "      <td>1</td>\n",
       "      <td>0</td>\n",
       "      <td>0.464620</td>\n",
       "    </tr>\n",
       "    <tr>\n",
       "      <th>11785</th>\n",
       "      <td>0</td>\n",
       "      <td>0</td>\n",
       "      <td>0</td>\n",
       "      <td>0</td>\n",
       "      <td>0</td>\n",
       "      <td>0</td>\n",
       "      <td>0</td>\n",
       "      <td>0</td>\n",
       "      <td>0</td>\n",
       "      <td>0</td>\n",
       "      <td>...</td>\n",
       "      <td>1</td>\n",
       "      <td>0</td>\n",
       "      <td>0</td>\n",
       "      <td>1</td>\n",
       "      <td>0</td>\n",
       "      <td>0</td>\n",
       "      <td>0</td>\n",
       "      <td>1</td>\n",
       "      <td>0</td>\n",
       "      <td>0.305350</td>\n",
       "    </tr>\n",
       "    <tr>\n",
       "      <th>15069</th>\n",
       "      <td>0</td>\n",
       "      <td>1</td>\n",
       "      <td>0</td>\n",
       "      <td>0</td>\n",
       "      <td>0</td>\n",
       "      <td>0</td>\n",
       "      <td>0</td>\n",
       "      <td>0</td>\n",
       "      <td>0</td>\n",
       "      <td>0</td>\n",
       "      <td>...</td>\n",
       "      <td>1</td>\n",
       "      <td>0</td>\n",
       "      <td>0</td>\n",
       "      <td>1</td>\n",
       "      <td>0</td>\n",
       "      <td>1</td>\n",
       "      <td>0</td>\n",
       "      <td>1</td>\n",
       "      <td>0</td>\n",
       "      <td>0.191593</td>\n",
       "    </tr>\n",
       "  </tbody>\n",
       "</table>\n",
       "<p>3801 rows × 21 columns</p>\n",
       "</div>"
      ],
      "text/plain": [
       "       ACTIVOS_TOTAL_3  ANTIGUEDAD_NEGOCIO_1  \\\n",
       "9156                 0                     0   \n",
       "15017                0                     1   \n",
       "1807                 0                     1   \n",
       "17987                0                     0   \n",
       "16056                0                     1   \n",
       "...                ...                   ...   \n",
       "10780                0                     0   \n",
       "13058                0                     0   \n",
       "6806                 0                     0   \n",
       "11785                0                     0   \n",
       "15069                0                     1   \n",
       "\n",
       "       ANTIGUEDAD_NEGOCIO_1_TIPO_VINCULACION_1  CIIU_2_GENERO_1  \\\n",
       "9156                                         0                0   \n",
       "15017                                        0                0   \n",
       "1807                                         1                0   \n",
       "17987                                        0                0   \n",
       "16056                                        0                0   \n",
       "...                                        ...              ...   \n",
       "10780                                        0                0   \n",
       "13058                                        0                0   \n",
       "6806                                         0                0   \n",
       "11785                                        0                0   \n",
       "15069                                        0                0   \n",
       "\n",
       "       CIUDAD_1_ACTIVOS_TOTAL_1  CIUDAD_1_TIPO_VIVIENDA_3  \\\n",
       "9156                          0                         0   \n",
       "15017                         0                         0   \n",
       "1807                          0                         0   \n",
       "17987                         1                         1   \n",
       "16056                         0                         0   \n",
       "...                         ...                       ...   \n",
       "10780                         0                         0   \n",
       "13058                         0                         0   \n",
       "6806                          1                         1   \n",
       "11785                         0                         0   \n",
       "15069                         0                         0   \n",
       "\n",
       "       CIUDAD_1_TOTAL_PASIVOS_1  CIUDAD_3_EDAD_3  CIUDAD_3_TIPO_VINCULACION_1  \\\n",
       "9156                          0                0                            0   \n",
       "15017                         0                0                            0   \n",
       "1807                          1                0                            0   \n",
       "17987                         0                0                            0   \n",
       "16056                         0                0                            0   \n",
       "...                         ...              ...                          ...   \n",
       "10780                         0                0                            0   \n",
       "13058                         0                0                            0   \n",
       "6806                          1                0                            0   \n",
       "11785                         0                0                            0   \n",
       "15069                         0                0                            0   \n",
       "\n",
       "       EDAD_2_TIPO_VINCULACION_1  ...  ESTADO_CIVIL_1  \\\n",
       "9156                           0  ...               1   \n",
       "15017                          0  ...               1   \n",
       "1807                           0  ...               0   \n",
       "17987                          0  ...               0   \n",
       "16056                          0  ...               1   \n",
       "...                          ...  ...             ...   \n",
       "10780                          0  ...               0   \n",
       "13058                          0  ...               1   \n",
       "6806                           0  ...               1   \n",
       "11785                          0  ...               1   \n",
       "15069                          0  ...               1   \n",
       "\n",
       "       ESTADO_CIVIL_1_TIPO_VINCULACION_1  SCORE_1  SCORE_3  SCORE_4  \\\n",
       "9156                                   0        0        1        0   \n",
       "15017                                  0        0        0        0   \n",
       "1807                                   0        0        0        0   \n",
       "17987                                  0        0        0        0   \n",
       "16056                                  0        0        1        0   \n",
       "...                                  ...      ...      ...      ...   \n",
       "10780                                  0        0        1        0   \n",
       "13058                                  0        0        0        0   \n",
       "6806                                   0        0        0        0   \n",
       "11785                                  0        0        1        0   \n",
       "15069                                  0        0        1        0   \n",
       "\n",
       "       TIPO_VIVIENDA_1  TIPO_VIVIENDA_3  TOTAL_PASIVOS_1  \\\n",
       "9156                 1                0                1   \n",
       "15017                0                0                1   \n",
       "1807                 1                0                1   \n",
       "17987                0                1                0   \n",
       "16056                0                1                0   \n",
       "...                ...              ...              ...   \n",
       "10780                0                1                1   \n",
       "13058                0                1                1   \n",
       "6806                 0                1                1   \n",
       "11785                0                0                1   \n",
       "15069                1                0                1   \n",
       "\n",
       "       TOTAL_PASIVOS_2_RAZON_PASIVOS_ACTIVOS_2  PROBABILIDAD_LRN  \n",
       "9156                                         0          0.237036  \n",
       "15017                                        0          0.321308  \n",
       "1807                                         0          0.167034  \n",
       "17987                                        0          0.453956  \n",
       "16056                                        0          0.281220  \n",
       "...                                        ...               ...  \n",
       "10780                                        0          0.312358  \n",
       "13058                                        0          0.402300  \n",
       "6806                                         0          0.464620  \n",
       "11785                                        0          0.305350  \n",
       "15069                                        0          0.191593  \n",
       "\n",
       "[3801 rows x 21 columns]"
      ]
     },
     "execution_count": 571,
     "metadata": {},
     "output_type": "execute_result"
    }
   ],
   "source": [
    "a=pd.Series(A_train.flatten())\n",
    "a.index=train_set_x_orig.index\n",
    "train_set_x_orig['PROBABILIDAD_LRN']=a\n",
    "train_set_x_orig\n",
    "\n",
    "a=pd.Series(A_test.flatten())\n",
    "a.index=test_set_x_orig.index\n",
    "test_set_x_orig['PROBABILIDAD_LRN']=a\n",
    "test_set_x_orig"
   ]
  },
  {
   "cell_type": "code",
   "execution_count": 572,
   "id": "9051bffc-7b01-4639-9ef2-d4f70df6ce47",
   "metadata": {
    "tags": []
   },
   "outputs": [],
   "source": [
    "df_aux_1 = pd.merge(train_set_x_orig, df[['CREDITO','EVENTO','FECHA_DESEMBOLSO','PROBABILIDAD']], left_index=True, right_index=True)\n",
    "#df_aux_1\n",
    "df_aux_2 = pd.merge(test_set_x_orig, df[['CREDITO','EVENTO','FECHA_DESEMBOLSO','PROBABILIDAD']], left_index=True, right_index=True)\n",
    "#df_aux_2 \n",
    "df_aux_2['y_pred_LR'] = np.where(df_aux_2['PROBABILIDAD'] >= 0.5, 1, 0)\n",
    "df_aux_2['y_pred_LRN'] = np.where(df_aux_2['PROBABILIDAD_LRN'] >= 0.5, 1, 0)"
   ]
  },
  {
   "cell_type": "code",
   "execution_count": 573,
   "id": "84415a06-3d21-4896-a037-d51a4593fc95",
   "metadata": {
    "tags": []
   },
   "outputs": [],
   "source": [
    "#Métricas de evaluación:\n",
    "def calMetrics(cm):\n",
    "  #Se toman de esta forma los valores para que la clase positiva sea {1}\n",
    "  TN = cm[0,0]\n",
    "  TP = cm[1,1]\n",
    "  FN = cm[1,0]\n",
    "  FP = cm[0,1]\n",
    "  acc = round(((TP + TN) / (TP + TN + FP + FN))*100,2)          #Accuracy\n",
    "  err = round((1 - ((TP + TN) / (TP + TN + FP + FN)))*100,2)    #Tasa de error \n",
    "  se = round((TP / (TP + FN))*100,2)                            #Sensibilidad o Recall\n",
    "  sp = round((TN / ( TN + FP))*100,2)                          #Especificidad \n",
    "  prec = round((TP / (TP + FP))*100,2)                          #Precision\n",
    "  FPR = round((FP / (FP + TN))*100,2)                           #Tasa de falsos positivos\n",
    "  return acc,err,se,sp,prec,FPR\n",
    "\n",
    "#Métricas de evaluación con librerias \n",
    "def calMetrics2(y_val, y_pred_labels):\n",
    "    accuracy = accuracy_score(y_val, y_pred_labels)\n",
    "    precision = precision_score(y_val, y_pred_labels)\n",
    "    recall = recall_score(y_val, y_pred_labels)\n",
    "    f1 = round(f1_score(y_val, y_pred_labels)*100,2)\n",
    "    roc_auc = round(roc_auc_score(y_val, y_pred_labels)*100,2)\n",
    "    logloss = round(log_loss(y_val, y_pred_labels),2)\n",
    "    conf_matrix = confusion_matrix(y_val, y_pred_labels)\n",
    "    return accuracy,precision,recall,f1,roc_auc,logloss"
   ]
  },
  {
   "cell_type": "code",
   "execution_count": 574,
   "id": "ac26b090-1d72-42db-bd1e-54efee11d24a",
   "metadata": {
    "tags": []
   },
   "outputs": [],
   "source": [
    "cm=confusion_matrix(df_aux_2['EVENTO'], df_aux_2['y_pred_LR'])\n",
    "\n",
    "acc, err, se, sp, prec, FPR =calMetrics(cm)\n",
    "accuracy, precision, recall, f1, roc_auc, logloss=calMetrics2(df_aux_2['EVENTO'], df_aux_2['y_pred_LR'])\n",
    "    \n",
    "matrix={\n",
    "        \"Acc\": acc,\n",
    "        \"Err\": err,\n",
    "        \"Re\": se,\n",
    "        \"Sp\": sp,\n",
    "        \"Pre\": prec,\n",
    "        \"FPR\": FPR,\n",
    "        \"F1\":f1,\n",
    "        \"ROC_AUC\": roc_auc,\n",
    "        \"Log_Loss\": logloss\n",
    "    }"
   ]
  },
  {
   "cell_type": "code",
   "execution_count": 575,
   "id": "0cf73c83-7e3e-4e3c-a844-0d9feebae5c0",
   "metadata": {
    "tags": []
   },
   "outputs": [
    {
     "data": {
      "text/plain": [
       "{'Acc': 72.74,\n",
       " 'Err': 27.26,\n",
       " 'Re': 11.26,\n",
       " 'Sp': 96.15,\n",
       " 'Pre': 52.68,\n",
       " 'FPR': 3.85,\n",
       " 'F1': 18.55,\n",
       " 'ROC_AUC': 53.7,\n",
       " 'Log_Loss': 9.82}"
      ]
     },
     "execution_count": 575,
     "metadata": {},
     "output_type": "execute_result"
    }
   ],
   "source": [
    "matrix"
   ]
  },
  {
   "cell_type": "code",
   "execution_count": 576,
   "id": "e6e316dc-5776-4381-86f2-4925512d65b4",
   "metadata": {
    "tags": []
   },
   "outputs": [
    {
     "data": {
      "text/plain": [
       "<Axes: >"
      ]
     },
     "execution_count": 576,
     "metadata": {},
     "output_type": "execute_result"
    },
    {
     "data": {
      "image/png": "[encoded data removed]",
      "text/plain": [
       "<Figure size 800x600 with 2 Axes>"
      ]
     },
     "metadata": {},
     "output_type": "display_data"
    }
   ],
   "source": [
    "plt.figure(figsize=(8, 6))\n",
    "cm = confusion_matrix(df_aux_2['EVENTO'], df_aux_2['y_pred_LR'])\n",
    "sns.heatmap(cm, annot=True, cmap='viridis', fmt='g')"
   ]
  },
  {
   "cell_type": "code",
   "execution_count": 577,
   "id": "2de3c891-d154-4201-8818-4c9b1e746d76",
   "metadata": {
    "tags": []
   },
   "outputs": [],
   "source": [
    "cm=confusion_matrix(df_aux_2['EVENTO'], df_aux_2['y_pred_LRN'])\n",
    "\n",
    "acc, err, se, sp, prec, FPR =calMetrics(cm)\n",
    "accuracy, precision, recall, f1, roc_auc, logloss=calMetrics2(df_aux_2['EVENTO'], df_aux_2['y_pred_LRN'])\n",
    "    \n",
    "matrix={\n",
    "        \"Acc\": acc,\n",
    "        \"Err\": err,\n",
    "        \"Re\": se,\n",
    "        \"Sp\": sp,\n",
    "        \"Pre\": prec,\n",
    "        \"FPR\": FPR,\n",
    "        \"F1\":f1,\n",
    "        \"ROC_AUC\": roc_auc,\n",
    "        \"Log_Loss\": logloss\n",
    "    }"
   ]
  },
  {
   "cell_type": "code",
   "execution_count": 578,
   "id": "cdfc1ca3-b398-49cf-879a-86a1245ecdd3",
   "metadata": {
    "tags": []
   },
   "outputs": [
    {
     "data": {
      "text/plain": [
       "{'Acc': 72.85,\n",
       " 'Err': 27.15,\n",
       " 'Re': 3.72,\n",
       " 'Sp': 99.16,\n",
       " 'Pre': 62.9,\n",
       " 'FPR': 0.84,\n",
       " 'F1': 7.03,\n",
       " 'ROC_AUC': 51.44,\n",
       " 'Log_Loss': 9.79}"
      ]
     },
     "execution_count": 578,
     "metadata": {},
     "output_type": "execute_result"
    }
   ],
   "source": [
    "matrix"
   ]
  },
  {
   "cell_type": "code",
   "execution_count": 579,
   "id": "82987e6d-8423-4e5b-a43a-6f7274fee5f3",
   "metadata": {
    "tags": []
   },
   "outputs": [
    {
     "data": {
      "text/plain": [
       "<Axes: >"
      ]
     },
     "execution_count": 579,
     "metadata": {},
     "output_type": "execute_result"
    },
    {
     "data": {
      "image/png": "[encoded data removed]",
      "text/plain": [
       "<Figure size 800x600 with 2 Axes>"
      ]
     },
     "metadata": {},
     "output_type": "display_data"
    }
   ],
   "source": [
    "plt.figure(figsize=(8, 6))\n",
    "cm = confusion_matrix(df_aux_2['EVENTO'], df_aux_2['y_pred_LRN'])\n",
    "sns.heatmap(cm, annot=True, cmap='viridis', fmt='g')"
   ]
  },
  {
   "cell_type": "markdown",
   "id": "0b72ef42-7b6c-483a-8ea3-2ae7be66917e",
   "metadata": {},
   "source": [
    "#### Se observa que el modelo propuesto es bastante malo comparado con el modelo clásico con validación cruzada.\n",
    "\n",
    "+ Métricas modelo logístico clásico con validación cruzada\n",
    "|Métrica|Valor|\n",
    "|-------|-----|\n",
    "|Acc| 72.74|\n",
    " |Err| 27.26|\n",
    " |Re| 11.26|\n",
    " |Sp| 96.15|\n",
    " |Pre| 52.68|\n",
    " |FPR| 3.85|\n",
    " |F1| 18.55|\n",
    " |ROC_AUC| 53.7|\n",
    " |Log_Loss| 9.82|\n",
    " \n",
    "  + Métricas modelo propuesto, logístico redes neuronales con todas las variables disponibles\n",
    "\n",
    "|Métrica|Valor|\n",
    "|-------|-----|\n",
    " |Acc| 72.64|\n",
    " |Err| 27.36|\n",
    " |Re| 8.11|\n",
    " |Sp| 97.2|\n",
    " |Pre| 52.47|\n",
    " |FPR| 2.8|\n",
    " |F1| 14.05|\n",
    " |ROC_AUC| 52.66|\n",
    " |Log_Loss| 9.86|\n",
    " \n",
    "  + Métricas modelo propuesto, logístico redes neuronales con solo las variables que se tomaron para el modelo clásico\n",
    "\n",
    "|Métrica|Valor|\n",
    "|-------|-----|\n",
    " |Acc| 72.85|\n",
    " |Err| 27.15|\n",
    " |Re| 3.72|\n",
    " |Sp| 99.16|\n",
    " |Pre| 62.9|\n",
    " |FPR| 0.84|\n",
    " |F1| 7.03|\n",
    " |ROC_AUC| 51.44|\n",
    " |Log_Loss| 9.79|"
   ]
  },
  {
   "cell_type": "markdown",
   "id": "c2bd02d5-1e82-4eff-ae79-8f823b6d771c",
   "metadata": {},
   "source": [
    "## Deep Neuronal Network"
   ]
  },
  {
   "cell_type": "code",
   "execution_count": 581,
   "id": "ef812567-34a8-4fa4-9bd8-666256eee5e6",
   "metadata": {
    "tags": []
   },
   "outputs": [
    {
     "name": "stdout",
     "output_type": "stream",
     "text": [
      "The autoreload extension is already loaded. To reload it, use:\n",
      "  %reload_ext autoreload\n"
     ]
    }
   ],
   "source": [
    "import time\n",
    "import numpy as np\n",
    "import h5py\n",
    "import matplotlib.pyplot as plt\n",
    "import scipy\n",
    "from PIL import Image\n",
    "from scipy import ndimage\n",
    "from dnn_app_utils_v3 import *\n",
    "\n",
    "%load_ext autoreload\n",
    "%autoreload 2"
   ]
  },
  {
   "cell_type": "code",
   "execution_count": 625,
   "id": "342106bd-4ed7-4314-944f-56e53e0d8b8f",
   "metadata": {
    "tags": []
   },
   "outputs": [],
   "source": [
    "df=datos[datos['FECHA_DESEMBOLSO'] < '2023-04-01']\n",
    "list_cuantis=list(datos.columns)[2:24]\n",
    "#list_cuantis\n",
    "list_cualis=['EVENTO']+list(datos.columns)[24:137]\n",
    "#list_cualis\n",
    "df1=df.drop(columns=[\"CREDITO\",\"FECHA_DESEMBOLSO\", \"PROBABILIDAD\"])"
   ]
  },
  {
   "cell_type": "code",
   "execution_count": 626,
   "id": "03bacf42-2df5-4222-b038-46771a706458",
   "metadata": {
    "scrolled": true,
    "tags": []
   },
   "outputs": [
    {
     "name": "stdout",
     "output_type": "stream",
     "text": [
      "0    13767\n",
      "1     5238\n",
      "Name: EVENTO, dtype: int64\n"
     ]
    }
   ],
   "source": [
    "cualis=list_cualis\n",
    "cuantis=list_cuantis\n",
    "\n",
    "scaler = MinMaxScaler()\n",
    "scaler.fit(df1[cuantis])\n",
    "df1[cuantis] = scaler.transform(df1[cuantis])\n",
    "for i in cualis:\n",
    "    labelencoder = LabelEncoder()\n",
    "    df1[i] = labelencoder.fit_transform(df1[i])\n",
    "    \n",
    "print(df1['EVENTO'].value_counts())\n",
    "\n",
    "X=df1.drop(columns=[\"EVENTO\"])\n",
    "y=df1[\"EVENTO\"]\n",
    "\n",
    "train_size=0.8\n",
    "train, test = model_selection.train_test_split(df1,train_size=int(train_size*len(df1)), stratify=df1['EVENTO'], random_state=seed)"
   ]
  },
  {
   "cell_type": "code",
   "execution_count": 627,
   "id": "70575e84-6fc7-4ea7-8265-c25cefdce819",
   "metadata": {
    "tags": []
   },
   "outputs": [],
   "source": [
    "# Loading the data (evento/no evento)\n",
    "train_set_x_orig=train.drop(columns=[\"EVENTO\"])\n",
    "train_set_y=train[\"EVENTO\"]\n",
    "test_set_x_orig=test.drop(columns=[\"EVENTO\"])\n",
    "test_set_y=test[\"EVENTO\"]\n",
    "classes = np.array([0, 1])\n",
    "classes = classes.astype(str)\n",
    "\n",
    "train_set_x_orig_array=train_set_x_orig.to_numpy()\n",
    "test_set_x_orig_array=test_set_x_orig.to_numpy()\n",
    "train_set_y_array=train_set_y.to_numpy()\n",
    "train_set_y_array=train_set_y_array.reshape(1, -1)\n",
    "test_set_y_array=test_set_y.to_numpy()\n",
    "test_set_y_array=test_set_y_array.reshape(1, -1)"
   ]
  },
  {
   "cell_type": "code",
   "execution_count": 628,
   "id": "0da53297-8bf5-4ac1-9e5c-287327bc2a49",
   "metadata": {
    "tags": []
   },
   "outputs": [
    {
     "name": "stdout",
     "output_type": "stream",
     "text": [
      "SCORE                             0.942943\n",
      "EDAD                              0.248550\n",
      "NUMERO_HIJOS                      0.047619\n",
      "PERSONAS_A_CARGO                  0.048780\n",
      "EXPERIENCIA_ACTIVIDAD             0.663866\n",
      "                                    ...   \n",
      "ACTIVOS_TOTAL_3_ESTADO_CIVIL_3    0.000000\n",
      "SCORE_4_GENERO_1                  1.000000\n",
      "CIIU_6_TIPO_VINCULACION_1         0.000000\n",
      "VENTAS_2_GENERO_1                 1.000000\n",
      "CIUDAD_3_ESTADO_CIVIL_3           0.000000\n",
      "Name: 6762, Length: 135, dtype: float64\n",
      "\n",
      "Cero representa no tener el evento\n",
      "Se obseva si tiene o no el evento para el individuo que se encuentra en los índices\n",
      " 0\n"
     ]
    }
   ],
   "source": [
    "indices = train_set_x_orig.index\n",
    "# Ejemplo de un individuo en el conjunto de entrenamiento con índice original\n",
    "index = 6762\n",
    "print(train_set_x_orig.loc[index])\n",
    "print(\"\\nCero representa no tener el evento\")\n",
    "print(\"Se obseva si tiene o no el evento para el individuo que se encuentra en los índices\\n\", train_set_y.loc[index])"
   ]
  },
  {
   "cell_type": "code",
   "execution_count": 629,
   "id": "2aff2105-bf82-4a8c-af6e-5c39d24b3d6d",
   "metadata": {
    "tags": []
   },
   "outputs": [
    {
     "name": "stdout",
     "output_type": "stream",
     "text": [
      "Número de muestras de entrenamiento: m_train = 15204\n",
      "Número de muestras de test m_test = 3801\n",
      "Cantidad de características de cada individuo = 135\n",
      "train_set_x tamaño: (15204, 135)\n",
      "train_set_y tamaño: (1, 15204)\n",
      "test_set_x tamaño: (3801, 135)\n",
      "test_set_y tamaño: (1, 3801)\n"
     ]
    }
   ],
   "source": [
    "#Verificación de tamaños\n",
    "m_train=train_set_x_orig.shape[0]\n",
    "m_test=test_set_x_orig.shape[0]\n",
    "num_px=train_set_x_orig.loc[index].shape[0]\n",
    "\n",
    "print (\"Número de muestras de entrenamiento: m_train = \" + str(m_train))\n",
    "print (\"Número de muestras de test m_test = \" + str(m_test))\n",
    "print (\"Cantidad de características de cada individuo = \" + str(num_px))\n",
    "print (\"train_set_x tamaño: \" + str(train_set_x_orig_array.shape))\n",
    "print (\"train_set_y tamaño: \" + str(train_set_y_array.shape))\n",
    "print (\"test_set_x tamaño: \" + str(test_set_x_orig_array.shape))\n",
    "print (\"test_set_y tamaño: \" + str(test_set_y_array.shape))"
   ]
  },
  {
   "cell_type": "code",
   "execution_count": 630,
   "id": "78bb93a7-9b72-4f78-a1e1-7bfd68a8dbb0",
   "metadata": {
    "tags": []
   },
   "outputs": [],
   "source": [
    "train_set_x_flatten=train_set_x_orig_array.reshape(train_set_x_orig_array.shape[0],-1).T\n",
    "test_set_x_flatten=test_set_x_orig_array.reshape(test_set_x_orig_array.shape[0],-1).T"
   ]
  },
  {
   "cell_type": "code",
   "execution_count": 631,
   "id": "6ebcb0b1-86e1-4a21-8a70-85a4977b79f4",
   "metadata": {
    "tags": []
   },
   "outputs": [
    {
     "name": "stdout",
     "output_type": "stream",
     "text": [
      "train_set_x_flatten shape: (135, 15204)\n",
      "train_set_y shape: (1, 15204)\n",
      "test_set_x_flatten shape: (135, 3801)\n",
      "test_set_y shape: (1, 3801)\n"
     ]
    }
   ],
   "source": [
    "print (\"train_set_x_flatten shape: \" + str(train_set_x_flatten.shape))\n",
    "print (\"train_set_y shape: \" + str(train_set_y_array.shape))\n",
    "print (\"test_set_x_flatten shape: \" + str(test_set_x_flatten.shape))\n",
    "print (\"test_set_y shape: \" + str(test_set_y_array.shape))"
   ]
  },
  {
   "cell_type": "markdown",
   "id": "9c51b556-ba72-4e3f-8d63-d0b6f8b6b750",
   "metadata": {},
   "source": [
    "#### Tomando dos capas en donde la primera capa tiene 2 neuronas"
   ]
  },
  {
   "cell_type": "code",
   "execution_count": 656,
   "id": "840a6ef5-8562-46df-a788-96f3f2c7bcc2",
   "metadata": {
    "tags": []
   },
   "outputs": [],
   "source": [
    "### CONSTANTS DEFINING THE MODEL ####\n",
    "n_x = 135     \n",
    "n_h = 2\n",
    "n_y = 1\n",
    "layers_dims = (n_x, n_h, n_y)\n",
    "learning_rate = 0.01"
   ]
  },
  {
   "cell_type": "code",
   "execution_count": 657,
   "id": "26924fc0-2bdb-44c9-8442-3c3f850b0245",
   "metadata": {
    "tags": []
   },
   "outputs": [],
   "source": [
    "def two_layer_model(X, Y, layers_dims, learning_rate = 0.01, num_iterations = 3000, print_cost=False):\n",
    "    \"\"\"\n",
    "    Implements a two-layer neural network: LINEAR->RELU->LINEAR->SIGMOID.\n",
    "    \n",
    "    Arguments:\n",
    "    X -- input data, of shape (n_x, number of examples)\n",
    "    Y -- true \"label\" vector (containing 1 if cat, 0 if non-cat), of shape (1, number of examples)\n",
    "    layers_dims -- dimensions of the layers (n_x, n_h, n_y)\n",
    "    num_iterations -- number of iterations of the optimization loop\n",
    "    learning_rate -- learning rate of the gradient descent update rule\n",
    "    print_cost -- If set to True, this will print the cost every 100 iterations \n",
    "    \n",
    "    Returns:\n",
    "    parameters -- a dictionary containing W1, W2, b1, and b2\n",
    "    \"\"\"\n",
    "    \n",
    "    np.random.seed(seed)\n",
    "    grads = {}\n",
    "    costs = []                              # to keep track of the cost\n",
    "    m = X.shape[1]                           # number of examples\n",
    "    (n_x, n_h, n_y) = layers_dims\n",
    "    \n",
    "    # Initialize parameters dictionary, \n",
    "    parameters = initialize_parameters(n_x, n_h, n_y)\n",
    "    \n",
    "    # Get W1, b1, W2 and b2 from the dictionary parameters.\n",
    "    W1 = parameters[\"W1\"]\n",
    "    b1 = parameters[\"b1\"]\n",
    "    W2 = parameters[\"W2\"]\n",
    "    b2 = parameters[\"b2\"]\n",
    "    \n",
    "    # Loop (gradient descent)\n",
    "\n",
    "    for i in range(0, num_iterations):\n",
    "\n",
    "        # Forward propagation: LINEAR -> RELU -> LINEAR -> SIGMOID. Inputs: \"X, W1, b1, W2, b2\". Output: \"A1, cache1, A2, cache2\".\n",
    "        A1, cache1 = linear_activation_forward(X, W1, b1, activation='relu')\n",
    "        A2, cache2 = linear_activation_forward(A1, W2, b2, activation='sigmoid')\n",
    "\n",
    "        \n",
    "        # Compute cost\n",
    "        cost = compute_cost(A2, Y)\n",
    "        \n",
    "        # Initializing backward propagation\n",
    "        dA2 = - (np.divide(Y, A2) - np.divide(1 - Y, 1 - A2))\n",
    "        \n",
    "        # Backward propagation. Inputs: \"dA2, cache2, cache1\". Outputs: \"dA1, dW2, db2; also dA0 (not used), dW1, db1\".\n",
    "        \n",
    "        dA1, dW2, db2 =  linear_activation_backward(dA2, cache2, activation='sigmoid')\n",
    "        dA0, dW1, db1 =  linear_activation_backward(dA1, cache1, activation='relu')\n",
    "        \n",
    "        # Set grads['dWl'] to dW1, grads['db1'] to db1, grads['dW2'] to dW2, grads['db2'] to db2\n",
    "        grads['dW1'] = dW1\n",
    "        grads['db1'] = db1\n",
    "        grads['dW2'] = dW2\n",
    "        grads['db2'] = db2\n",
    "        \n",
    "        # Update parameters.\n",
    "        parameters = update_parameters(parameters, grads, learning_rate)\n",
    "\n",
    "        # Retrieve W1, b1, W2, b2 from parameters\n",
    "        W1 = parameters[\"W1\"]\n",
    "        b1 = parameters[\"b1\"]\n",
    "        W2 = parameters[\"W2\"]\n",
    "        b2 = parameters[\"b2\"]\n",
    "        \n",
    "        # Print the cost every 100 iterations\n",
    "        if print_cost and i % 100 == 0 or i == num_iterations - 1:\n",
    "            print(\"Cost after iteration {}: {}\".format(i, np.squeeze(cost)))\n",
    "        if i % 100 == 0 or i == num_iterations:\n",
    "            costs.append(cost)\n",
    "\n",
    "    return parameters, costs\n",
    "\n",
    "def plot_costs(costs, learning_rate=0.01):\n",
    "    plt.plot(np.squeeze(costs))\n",
    "    plt.ylabel('cost')\n",
    "    plt.xlabel('iterations (per hundreds)')\n",
    "    plt.title(\"Learning rate =\" + str(learning_rate))\n",
    "    plt.show()"
   ]
  },
  {
   "cell_type": "code",
   "execution_count": 658,
   "id": "271b3da1-d7de-460b-9da2-bc252bc712fd",
   "metadata": {
    "tags": []
   },
   "outputs": [
    {
     "name": "stdout",
     "output_type": "stream",
     "text": [
      "Cost after iteration 1: 0.6927947624727784\n",
      "Cost after first iteration: 0.6933003353146253\n"
     ]
    }
   ],
   "source": [
    "parameters, costs = two_layer_model(train_set_x_flatten, train_set_y_array, layers_dims = (n_x, n_h, n_y), num_iterations = 2, print_cost=False)\n",
    "print(\"Cost after first iteration: \" + str(costs[0]))"
   ]
  },
  {
   "cell_type": "code",
   "execution_count": 659,
   "id": "34d72f4d-d90c-45b7-973c-30cbac105426",
   "metadata": {
    "tags": []
   },
   "outputs": [
    {
     "name": "stdout",
     "output_type": "stream",
     "text": [
      "Cost after iteration 0: 0.6933003353146253\n",
      "Cost after iteration 100: 0.653479481841139\n",
      "Cost after iteration 200: 0.6292665539848978\n",
      "Cost after iteration 300: 0.6143767832873587\n",
      "Cost after iteration 400: 0.6051052955643685\n",
      "Cost after iteration 500: 0.5992602472797296\n",
      "Cost after iteration 600: 0.5955307455405333\n",
      "Cost after iteration 700: 0.5931215330465606\n",
      "Cost after iteration 800: 0.5915421270992797\n",
      "Cost after iteration 900: 0.5904846773151139\n",
      "Cost after iteration 1000: 0.5897519049601312\n",
      "Cost after iteration 1100: 0.5892138506595628\n",
      "Cost after iteration 1200: 0.5887814295108289\n",
      "Cost after iteration 1300: 0.5883902462951363\n",
      "Cost after iteration 1400: 0.5879898663483651\n",
      "Cost after iteration 1500: 0.5875359312831286\n",
      "Cost after iteration 1600: 0.5869843409262127\n",
      "Cost after iteration 1700: 0.5862916672311317\n",
      "Cost after iteration 1800: 0.5854136585161265\n",
      "Cost after iteration 1900: 0.5843041904419836\n",
      "Cost after iteration 2000: 0.5829246121752207\n",
      "Cost after iteration 2100: 0.5812423447548881\n",
      "Cost after iteration 2200: 0.5792459958203818\n",
      "Cost after iteration 2300: 0.5769520433410916\n",
      "Cost after iteration 2400: 0.574403537752151\n",
      "Cost after iteration 2499: 0.5716975663797993\n"
     ]
    },
    {
     "data": {
      "image/png": "[encoded data removed]",
      "text/plain": [
       "<Figure size 600x400 with 1 Axes>"
      ]
     },
     "metadata": {},
     "output_type": "display_data"
    }
   ],
   "source": [
    "parameters, costs = two_layer_model(train_set_x_flatten, train_set_y_array, layers_dims = (n_x, n_h, n_y), num_iterations = 2500, print_cost=True)\n",
    "plt.figure(figsize=(6, 4)) \n",
    "plot_costs(costs, learning_rate)"
   ]
  },
  {
   "cell_type": "code",
   "execution_count": 660,
   "id": "4612d1b1-36a3-40c6-bc80-b1e041a762b3",
   "metadata": {
    "tags": []
   },
   "outputs": [
    {
     "name": "stdout",
     "output_type": "stream",
     "text": [
      "Accuracy: 0.7244146277295449\n"
     ]
    }
   ],
   "source": [
    "predictions_train = predict(train_set_x_flatten, train_set_y_array, parameters)"
   ]
  },
  {
   "cell_type": "code",
   "execution_count": 661,
   "id": "5c42553c-f07b-4f25-9d4f-6bde586c3a6c",
   "metadata": {
    "tags": []
   },
   "outputs": [
    {
     "name": "stdout",
     "output_type": "stream",
     "text": [
      "Accuracy: 0.7242830833991056\n"
     ]
    }
   ],
   "source": [
    "predictions_test = predict(test_set_x_flatten, test_set_y_array, parameters)"
   ]
  },
  {
   "cell_type": "code",
   "execution_count": 662,
   "id": "61b8390e-c1fe-49fe-b9b7-7f297a79b518",
   "metadata": {
    "tags": []
   },
   "outputs": [
    {
     "data": {
      "text/plain": [
       "array([[0., 0., 0., ..., 0., 0., 0.]])"
      ]
     },
     "execution_count": 662,
     "metadata": {},
     "output_type": "execute_result"
    }
   ],
   "source": [
    "predictions_test"
   ]
  },
  {
   "cell_type": "code",
   "execution_count": 663,
   "id": "f3758492-7486-4715-b230-92762db571a2",
   "metadata": {
    "tags": []
   },
   "outputs": [
    {
     "name": "stdout",
     "output_type": "stream",
     "text": [
      "¿Hay algún 1 en el arreglo? False\n"
     ]
    }
   ],
   "source": [
    "# Verificar si hay algún 1 en el arreglo\n",
    "has_one = np.any(predictions_test == 1)\n",
    "\n",
    "print(\"¿Hay algún 1 en el arreglo?\", has_one)"
   ]
  },
  {
   "cell_type": "code",
   "execution_count": 664,
   "id": "19fade90-1adb-4c15-bee7-b52d88642590",
   "metadata": {
    "tags": []
   },
   "outputs": [],
   "source": [
    "a=pd.Series(predictions_test.flatten())\n",
    "a.index=df_aux_2.index\n",
    "df_aux_2['y_pred_DNN_1']=a\n",
    "df_aux_2['y_pred_DNN_1'] = df_aux_2['y_pred_DNN_1'].astype(int)"
   ]
  },
  {
   "cell_type": "code",
   "execution_count": 665,
   "id": "b980c1a1-4ce8-4cac-a6d9-6ccb37b5046f",
   "metadata": {
    "tags": []
   },
   "outputs": [
    {
     "name": "stderr",
     "output_type": "stream",
     "text": [
      "C:\\Users\\MathStath\\AppData\\Local\\Temp\\ipykernel_10152\\1709042303.py:12: RuntimeWarning: invalid value encountered in scalar divide\n",
      "  prec = round((TP / (TP + FP))*100,2)                          #Precision\n",
      "C:\\Users\\MathStath\\AppData\\Local\\anaconda3\\Lib\\site-packages\\sklearn\\metrics\\_classification.py:1471: UndefinedMetricWarning: Precision is ill-defined and being set to 0.0 due to no predicted samples. Use `zero_division` parameter to control this behavior.\n",
      "  _warn_prf(average, modifier, msg_start, len(result))\n"
     ]
    }
   ],
   "source": [
    "cm=confusion_matrix(df_aux_2['EVENTO'], df_aux_2['y_pred_DNN_1'])\n",
    "\n",
    "acc, err, se, sp, prec, FPR =calMetrics(cm)\n",
    "accuracy, precision, recall, f1, roc_auc, logloss=calMetrics2(df_aux_2['EVENTO'], df_aux_2['y_pred_DNN_1'])\n",
    "    \n",
    "matrix={\n",
    "        \"Acc\": acc,\n",
    "        \"Err\": err,\n",
    "        \"Re\": se,\n",
    "        \"Sp\": sp,\n",
    "        \"Pre\": prec,\n",
    "        \"FPR\": FPR,\n",
    "        \"F1\":f1,\n",
    "        \"ROC_AUC\": roc_auc,\n",
    "        \"Log_Loss\": logloss\n",
    "    }"
   ]
  },
  {
   "cell_type": "code",
   "execution_count": 666,
   "id": "19fe10ba-98ff-4e85-bd77-7903198489b7",
   "metadata": {
    "tags": []
   },
   "outputs": [
    {
     "data": {
      "text/plain": [
       "{'Acc': 72.43,\n",
       " 'Err': 27.57,\n",
       " 'Re': 0.0,\n",
       " 'Sp': 100.0,\n",
       " 'Pre': nan,\n",
       " 'FPR': 0.0,\n",
       " 'F1': 0.0,\n",
       " 'ROC_AUC': 50.0,\n",
       " 'Log_Loss': 9.94}"
      ]
     },
     "execution_count": 666,
     "metadata": {},
     "output_type": "execute_result"
    }
   ],
   "source": [
    "matrix"
   ]
  },
  {
   "cell_type": "code",
   "execution_count": 667,
   "id": "c418584f-d043-4246-a03e-c197d3771179",
   "metadata": {
    "tags": []
   },
   "outputs": [
    {
     "data": {
      "text/plain": [
       "<Axes: >"
      ]
     },
     "execution_count": 667,
     "metadata": {},
     "output_type": "execute_result"
    },
    {
     "data": {
      "image/png": "[encoded data removed]",
      "text/plain": [
       "<Figure size 800x600 with 2 Axes>"
      ]
     },
     "metadata": {},
     "output_type": "display_data"
    }
   ],
   "source": [
    "plt.figure(figsize=(8, 6))\n",
    "cm = confusion_matrix(df_aux_2['EVENTO'], df_aux_2['y_pred_DNN_1'])\n",
    "sns.heatmap(cm, annot=True, cmap='viridis', fmt='g')"
   ]
  },
  {
   "cell_type": "markdown",
   "id": "a9db441d-c333-42ad-bc1b-ec3ed00d5ffb",
   "metadata": {},
   "source": [
    "##### El comportamiento es muy malo ya que no detecta verdaderos positivos, a continuación tomamos 8 neuronas en la primera capa"
   ]
  },
  {
   "cell_type": "code",
   "execution_count": 668,
   "id": "e95b8b93-8654-4a1c-aa31-988d69dd95b8",
   "metadata": {
    "tags": []
   },
   "outputs": [],
   "source": [
    "### CONSTANTS DEFINING THE MODEL ####\n",
    "n_x = 135     \n",
    "n_h = 8\n",
    "n_y = 1\n",
    "layers_dims = (n_x, n_h, n_y)\n",
    "learning_rate = 0.01"
   ]
  },
  {
   "cell_type": "code",
   "execution_count": 669,
   "id": "24475e7c-5b37-4e6d-930b-0e82101c0fd4",
   "metadata": {
    "tags": []
   },
   "outputs": [],
   "source": [
    "def two_layer_model(X, Y, layers_dims, learning_rate = 0.01, num_iterations = 3000, print_cost=False):\n",
    "    \"\"\"\n",
    "    Implements a two-layer neural network: LINEAR->RELU->LINEAR->SIGMOID.\n",
    "    \n",
    "    Arguments:\n",
    "    X -- input data, of shape (n_x, number of examples)\n",
    "    Y -- true \"label\" vector (containing 1 if cat, 0 if non-cat), of shape (1, number of examples)\n",
    "    layers_dims -- dimensions of the layers (n_x, n_h, n_y)\n",
    "    num_iterations -- number of iterations of the optimization loop\n",
    "    learning_rate -- learning rate of the gradient descent update rule\n",
    "    print_cost -- If set to True, this will print the cost every 100 iterations \n",
    "    \n",
    "    Returns:\n",
    "    parameters -- a dictionary containing W1, W2, b1, and b2\n",
    "    \"\"\"\n",
    "    \n",
    "    np.random.seed(seed)\n",
    "    grads = {}\n",
    "    costs = []                              # to keep track of the cost\n",
    "    m = X.shape[1]                           # number of examples\n",
    "    (n_x, n_h, n_y) = layers_dims\n",
    "    \n",
    "    # Initialize parameters dictionary, \n",
    "    parameters = initialize_parameters(n_x, n_h, n_y)\n",
    "    \n",
    "    # Get W1, b1, W2 and b2 from the dictionary parameters.\n",
    "    W1 = parameters[\"W1\"]\n",
    "    b1 = parameters[\"b1\"]\n",
    "    W2 = parameters[\"W2\"]\n",
    "    b2 = parameters[\"b2\"]\n",
    "    \n",
    "    # Loop (gradient descent)\n",
    "\n",
    "    for i in range(0, num_iterations):\n",
    "\n",
    "        # Forward propagation: LINEAR -> RELU -> LINEAR -> SIGMOID. Inputs: \"X, W1, b1, W2, b2\". Output: \"A1, cache1, A2, cache2\".\n",
    "        A1, cache1 = linear_activation_forward(X, W1, b1, activation='relu')\n",
    "        A2, cache2 = linear_activation_forward(A1, W2, b2, activation='sigmoid')\n",
    "\n",
    "        \n",
    "        # Compute cost\n",
    "        cost = compute_cost(A2, Y)\n",
    "        \n",
    "        # Initializing backward propagation\n",
    "        dA2 = - (np.divide(Y, A2) - np.divide(1 - Y, 1 - A2))\n",
    "        \n",
    "        # Backward propagation. Inputs: \"dA2, cache2, cache1\". Outputs: \"dA1, dW2, db2; also dA0 (not used), dW1, db1\".\n",
    "        \n",
    "        dA1, dW2, db2 =  linear_activation_backward(dA2, cache2, activation='sigmoid')\n",
    "        dA0, dW1, db1 =  linear_activation_backward(dA1, cache1, activation='relu')\n",
    "        \n",
    "        # Set grads['dWl'] to dW1, grads['db1'] to db1, grads['dW2'] to dW2, grads['db2'] to db2\n",
    "        grads['dW1'] = dW1\n",
    "        grads['db1'] = db1\n",
    "        grads['dW2'] = dW2\n",
    "        grads['db2'] = db2\n",
    "        \n",
    "        # Update parameters.\n",
    "        parameters = update_parameters(parameters, grads, learning_rate)\n",
    "\n",
    "        # Retrieve W1, b1, W2, b2 from parameters\n",
    "        W1 = parameters[\"W1\"]\n",
    "        b1 = parameters[\"b1\"]\n",
    "        W2 = parameters[\"W2\"]\n",
    "        b2 = parameters[\"b2\"]\n",
    "        \n",
    "        # Print the cost every 100 iterations\n",
    "        if print_cost and i % 100 == 0 or i == num_iterations - 1:\n",
    "            print(\"Cost after iteration {}: {}\".format(i, np.squeeze(cost)))\n",
    "        if i % 100 == 0 or i == num_iterations:\n",
    "            costs.append(cost)\n",
    "\n",
    "    return parameters, costs\n",
    "\n",
    "def plot_costs(costs, learning_rate=0.01):\n",
    "    plt.plot(np.squeeze(costs))\n",
    "    plt.ylabel('cost')\n",
    "    plt.xlabel('iterations (per hundreds)')\n",
    "    plt.title(\"Learning rate =\" + str(learning_rate))\n",
    "    plt.show()"
   ]
  },
  {
   "cell_type": "code",
   "execution_count": 670,
   "id": "0fd21903-4175-4fab-bb07-e6c77350d6db",
   "metadata": {
    "tags": []
   },
   "outputs": [
    {
     "name": "stdout",
     "output_type": "stream",
     "text": [
      "Cost after iteration 1: 0.6927440604270738\n",
      "Cost after first iteration: 0.6932504688392886\n"
     ]
    }
   ],
   "source": [
    "parameters, costs = two_layer_model(train_set_x_flatten, train_set_y_array, layers_dims = (n_x, n_h, n_y), num_iterations = 2, print_cost=False)\n",
    "print(\"Cost after first iteration: \" + str(costs[0]))"
   ]
  },
  {
   "cell_type": "code",
   "execution_count": 671,
   "id": "52ac04e1-bc34-4117-9413-f34ae6290350",
   "metadata": {
    "tags": []
   },
   "outputs": [
    {
     "name": "stdout",
     "output_type": "stream",
     "text": [
      "Cost after iteration 0: 0.6932504688392886\n",
      "Cost after iteration 100: 0.6533511728546852\n",
      "Cost after iteration 200: 0.6290443164990333\n",
      "Cost after iteration 300: 0.6140080778417063\n",
      "Cost after iteration 400: 0.604505620675459\n",
      "Cost after iteration 500: 0.5983154730727432\n",
      "Cost after iteration 600: 0.5940934615483058\n",
      "Cost after iteration 700: 0.5910028288218857\n",
      "Cost after iteration 800: 0.5885021756991177\n",
      "Cost after iteration 900: 0.5862354475403457\n",
      "Cost after iteration 1000: 0.5839915740460694\n",
      "Cost after iteration 1100: 0.5816918350415566\n",
      "Cost after iteration 1200: 0.5793164265390396\n",
      "Cost after iteration 1300: 0.5768920459830478\n",
      "Cost after iteration 1400: 0.5744729585758914\n",
      "Cost after iteration 1500: 0.5721242451103925\n",
      "Cost after iteration 1600: 0.5698948154735483\n",
      "Cost after iteration 1700: 0.5678059987816887\n",
      "Cost after iteration 1800: 0.5658741959355297\n",
      "Cost after iteration 1900: 0.5641036141119865\n",
      "Cost after iteration 2000: 0.5624875287786779\n",
      "Cost after iteration 2100: 0.5610183363273212\n",
      "Cost after iteration 2200: 0.5596850468720344\n",
      "Cost after iteration 2300: 0.5584771138329291\n",
      "Cost after iteration 2400: 0.5573789059593172\n",
      "Cost after iteration 2499: 0.5563887621733085\n"
     ]
    },
    {
     "data": {
      "image/png": "[encoded data removed]",
      "text/plain": [
       "<Figure size 600x400 with 1 Axes>"
      ]
     },
     "metadata": {},
     "output_type": "display_data"
    }
   ],
   "source": [
    "parameters, costs = two_layer_model(train_set_x_flatten, train_set_y_array, layers_dims = (n_x, n_h, n_y), num_iterations = 2500, print_cost=True)\n",
    "plt.figure(figsize=(6, 4)) \n",
    "plot_costs(costs, learning_rate)"
   ]
  },
  {
   "cell_type": "code",
   "execution_count": 672,
   "id": "1895c8ce-9e8e-4141-bd4e-50e5455f5a8d",
   "metadata": {
    "tags": []
   },
   "outputs": [
    {
     "name": "stdout",
     "output_type": "stream",
     "text": [
      "Accuracy: 0.7244146277295449\n"
     ]
    }
   ],
   "source": [
    "predictions_train = predict(train_set_x_flatten, train_set_y_array, parameters)"
   ]
  },
  {
   "cell_type": "code",
   "execution_count": 673,
   "id": "4540f8a7-7278-42ee-9d95-197e5a04819b",
   "metadata": {
    "tags": []
   },
   "outputs": [
    {
     "name": "stdout",
     "output_type": "stream",
     "text": [
      "Accuracy: 0.7242830833991056\n"
     ]
    }
   ],
   "source": [
    "predictions_test = predict(test_set_x_flatten, test_set_y_array, parameters)"
   ]
  },
  {
   "cell_type": "code",
   "execution_count": 674,
   "id": "66e74330-bdc2-4ac6-81a5-9a2c813ca24e",
   "metadata": {
    "tags": []
   },
   "outputs": [
    {
     "data": {
      "text/plain": [
       "array([[0., 0., 0., ..., 0., 0., 0.]])"
      ]
     },
     "execution_count": 674,
     "metadata": {},
     "output_type": "execute_result"
    }
   ],
   "source": [
    "predictions_test"
   ]
  },
  {
   "cell_type": "code",
   "execution_count": 675,
   "id": "61408866-15fe-41fa-a29e-c89272f03f10",
   "metadata": {
    "tags": []
   },
   "outputs": [
    {
     "name": "stdout",
     "output_type": "stream",
     "text": [
      "¿Hay algún 1 en el arreglo? False\n"
     ]
    }
   ],
   "source": [
    "# Verificar si hay algún 1 en el arreglo\n",
    "has_one = np.any(predictions_test == 1)\n",
    "\n",
    "print(\"¿Hay algún 1 en el arreglo?\", has_one)"
   ]
  },
  {
   "cell_type": "code",
   "execution_count": 676,
   "id": "9e4765c6-c0db-4385-9673-0d97ab764331",
   "metadata": {
    "tags": []
   },
   "outputs": [],
   "source": [
    "a=pd.Series(predictions_test.flatten())\n",
    "a.index=df_aux_2.index\n",
    "df_aux_2['y_pred_DNN_2']=a\n",
    "df_aux_2['y_pred_DNN_2'] = df_aux_2['y_pred_DNN_2'].astype(int)"
   ]
  },
  {
   "cell_type": "code",
   "execution_count": 677,
   "id": "f125f3d9-939a-4a3e-a22e-d92affe59baa",
   "metadata": {
    "tags": []
   },
   "outputs": [
    {
     "name": "stderr",
     "output_type": "stream",
     "text": [
      "C:\\Users\\MathStath\\AppData\\Local\\Temp\\ipykernel_10152\\1709042303.py:12: RuntimeWarning: invalid value encountered in scalar divide\n",
      "  prec = round((TP / (TP + FP))*100,2)                          #Precision\n",
      "C:\\Users\\MathStath\\AppData\\Local\\anaconda3\\Lib\\site-packages\\sklearn\\metrics\\_classification.py:1471: UndefinedMetricWarning: Precision is ill-defined and being set to 0.0 due to no predicted samples. Use `zero_division` parameter to control this behavior.\n",
      "  _warn_prf(average, modifier, msg_start, len(result))\n"
     ]
    }
   ],
   "source": [
    "cm=confusion_matrix(df_aux_2['EVENTO'], df_aux_2['y_pred_DNN_2'])\n",
    "\n",
    "acc, err, se, sp, prec, FPR =calMetrics(cm)\n",
    "accuracy, precision, recall, f1, roc_auc, logloss=calMetrics2(df_aux_2['EVENTO'], df_aux_2['y_pred_DNN_2'])\n",
    "    \n",
    "matrix={\n",
    "        \"Acc\": acc,\n",
    "        \"Err\": err,\n",
    "        \"Re\": se,\n",
    "        \"Sp\": sp,\n",
    "        \"Pre\": prec,\n",
    "        \"FPR\": FPR,\n",
    "        \"F1\":f1,\n",
    "        \"ROC_AUC\": roc_auc,\n",
    "        \"Log_Loss\": logloss\n",
    "    }"
   ]
  },
  {
   "cell_type": "code",
   "execution_count": 678,
   "id": "e1d7ad33-2e4c-4a0e-b132-bb6ec6fde982",
   "metadata": {
    "tags": []
   },
   "outputs": [
    {
     "data": {
      "text/plain": [
       "{'Acc': 72.43,\n",
       " 'Err': 27.57,\n",
       " 'Re': 0.0,\n",
       " 'Sp': 100.0,\n",
       " 'Pre': nan,\n",
       " 'FPR': 0.0,\n",
       " 'F1': 0.0,\n",
       " 'ROC_AUC': 50.0,\n",
       " 'Log_Loss': 9.94}"
      ]
     },
     "execution_count": 678,
     "metadata": {},
     "output_type": "execute_result"
    }
   ],
   "source": [
    "matrix"
   ]
  },
  {
   "cell_type": "code",
   "execution_count": 679,
   "id": "2491b4b2-f640-4f07-bb23-e6dbb8b71496",
   "metadata": {
    "tags": []
   },
   "outputs": [
    {
     "data": {
      "text/plain": [
       "<Axes: >"
      ]
     },
     "execution_count": 679,
     "metadata": {},
     "output_type": "execute_result"
    },
    {
     "data": {
      "image/png": "[encoded data removed]",
      "text/plain": [
       "<Figure size 800x600 with 2 Axes>"
      ]
     },
     "metadata": {},
     "output_type": "display_data"
    }
   ],
   "source": [
    "plt.figure(figsize=(8, 6))\n",
    "cm = confusion_matrix(df_aux_2['EVENTO'], df_aux_2['y_pred_DNN_1'])\n",
    "sns.heatmap(cm, annot=True, cmap='viridis', fmt='g')"
   ]
  },
  {
   "cell_type": "markdown",
   "id": "d2a500df-17eb-43f2-9648-7b33487b3a5f",
   "metadata": {
    "tags": []
   },
   "source": [
    "### Construyendo una red neuronal más profunda, más capas, en este caso duplicamos las capas a 4"
   ]
  },
  {
   "cell_type": "code",
   "execution_count": 706,
   "id": "40331f59-98a4-41e4-8542-b7a8685ed758",
   "metadata": {
    "tags": []
   },
   "outputs": [],
   "source": [
    "### CONSTANTS ###\n",
    "layers_dims = [135, 12, 9, 3, 1] #  4-layer model"
   ]
  },
  {
   "cell_type": "code",
   "execution_count": 707,
   "id": "45e81d07-1d06-442e-ab51-e8555900038a",
   "metadata": {
    "tags": []
   },
   "outputs": [],
   "source": [
    "# GRADED FUNCTION: L_layer_model\n",
    "\n",
    "def L_layer_model(X, Y, layers_dims, learning_rate = 0.01, num_iterations = 3000, print_cost=False):\n",
    "    \"\"\"\n",
    "    Implements a L-layer neural network: [LINEAR->RELU]*(L-1)->LINEAR->SIGMOID.\n",
    "    \n",
    "    Arguments:\n",
    "    X -- input data, of shape (n_x, number of examples)\n",
    "    Y -- true \"label\" vector (containing 1 if cat, 0 if non-cat), of shape (1, number of examples)\n",
    "    layers_dims -- list containing the input size and each layer size, of length (number of layers + 1).\n",
    "    learning_rate -- learning rate of the gradient descent update rule\n",
    "    num_iterations -- number of iterations of the optimization loop\n",
    "    print_cost -- if True, it prints the cost every 100 steps\n",
    "    \n",
    "    Returns:\n",
    "    parameters -- parameters learnt by the model. They can then be used to predict.\n",
    "    \"\"\"\n",
    "\n",
    "    np.random.seed(seed)\n",
    "    costs = []                         # keep track of cost\n",
    "    \n",
    "    # Parameters initialization.\n",
    "    parameters = initialize_parameters_deep(layers_dims)\n",
    "    \n",
    "    # Loop (gradient descent)\n",
    "    for i in range(0, num_iterations):\n",
    "\n",
    "        # Forward propagation: [LINEAR -> RELU]*(L-1) -> LINEAR -> SIGMOID.       \n",
    "        AL, caches = L_model_forward(X, parameters)\n",
    "        \n",
    "        # Compute cost.\n",
    "        cost = compute_cost(AL, Y)\n",
    "\n",
    "        # Backward propagation.\n",
    "        grads = L_model_backward(AL, Y, caches)\n",
    "        \n",
    "        # Update parameters.\n",
    "        parameters = update_parameters(parameters, grads, learning_rate)\n",
    "                \n",
    "        # Print the cost every 100 iterations\n",
    "        if print_cost and i % 100 == 0 or i == num_iterations - 1:\n",
    "            print(\"Cost after iteration {}: {}\".format(i, np.squeeze(cost)))\n",
    "        if i % 100 == 0 or i == num_iterations:\n",
    "            costs.append(cost)\n",
    "    \n",
    "    return parameters, costs"
   ]
  },
  {
   "cell_type": "code",
   "execution_count": 708,
   "id": "9cdc669c-0c4e-4686-af15-d51ac8b39350",
   "metadata": {
    "tags": []
   },
   "outputs": [
    {
     "name": "stdout",
     "output_type": "stream",
     "text": [
      "Cost after iteration 0: 0.6960594970898839\n",
      "Cost after first iteration: 0.6960594970898839\n"
     ]
    }
   ],
   "source": [
    "parameters, costs = L_layer_model(train_set_x_flatten, train_set_y_array, layers_dims, num_iterations = 1, print_cost = False)\n",
    "\n",
    "print(\"Cost after first iteration: \" + str(costs[0]))"
   ]
  },
  {
   "cell_type": "code",
   "execution_count": 709,
   "id": "319e4b89-3175-4c68-be04-800d92315ba2",
   "metadata": {
    "tags": []
   },
   "outputs": [
    {
     "name": "stdout",
     "output_type": "stream",
     "text": [
      "Cost after iteration 0: 0.6960594970898839\n",
      "Cost after iteration 100: 0.607639782645133\n",
      "Cost after iteration 200: 0.5763877931504636\n",
      "Cost after iteration 300: 0.5666236940799277\n",
      "Cost after iteration 400: 0.5614367104532048\n",
      "Cost after iteration 500: 0.5580784383990284\n",
      "Cost after iteration 600: 0.5556710900621379\n",
      "Cost after iteration 700: 0.5537899481881239\n",
      "Cost after iteration 800: 0.5522795125380578\n",
      "Cost after iteration 900: 0.5510498426782587\n",
      "Cost after iteration 1000: 0.5499891695893024\n",
      "Cost after iteration 1100: 0.5490428761679707\n",
      "Cost after iteration 1200: 0.5482128917326153\n",
      "Cost after iteration 1300: 0.5474705423146609\n",
      "Cost after iteration 1400: 0.5468107223177784\n",
      "Cost after iteration 1500: 0.5462045057907916\n",
      "Cost after iteration 1600: 0.5456559009429278\n",
      "Cost after iteration 1700: 0.5451556541215826\n",
      "Cost after iteration 1800: 0.5446920746888704\n",
      "Cost after iteration 1900: 0.5442655772715407\n",
      "Cost after iteration 2000: 0.5438752068800988\n",
      "Cost after iteration 2100: 0.5435263089697708\n",
      "Cost after iteration 2200: 0.5432086967272752\n",
      "Cost after iteration 2300: 0.5429173861484223\n",
      "Cost after iteration 2400: 0.5426476457155701\n",
      "Cost after iteration 2499: 0.5423965955965254\n"
     ]
    }
   ],
   "source": [
    "parameters, costs = L_layer_model(train_set_x_flatten, train_set_y_array, layers_dims, num_iterations = 2500, print_cost = True)"
   ]
  },
  {
   "cell_type": "code",
   "execution_count": 710,
   "id": "c862bb3f-bf63-4697-ae4c-7ee98e8ba239",
   "metadata": {
    "tags": []
   },
   "outputs": [
    {
     "name": "stdout",
     "output_type": "stream",
     "text": [
      "Accuracy: 0.7278347803209683\n"
     ]
    }
   ],
   "source": [
    "pred_train = predict(train_set_x_flatten, train_set_y_array, parameters)"
   ]
  },
  {
   "cell_type": "code",
   "execution_count": 711,
   "id": "946d57b6-3cf2-4a39-9b92-bde3bd4648db",
   "metadata": {
    "tags": []
   },
   "outputs": [
    {
     "name": "stdout",
     "output_type": "stream",
     "text": [
      "Accuracy: 0.7287555906340437\n"
     ]
    }
   ],
   "source": [
    "pred_test = predict(test_set_x_flatten, test_set_y_array, parameters)"
   ]
  },
  {
   "cell_type": "code",
   "execution_count": 712,
   "id": "f9af0ca1-7207-4437-80df-0d43a35ece6b",
   "metadata": {
    "tags": []
   },
   "outputs": [
    {
     "data": {
      "text/plain": [
       "array([[0., 0., 0., ..., 0., 0., 0.]])"
      ]
     },
     "execution_count": 712,
     "metadata": {},
     "output_type": "execute_result"
    }
   ],
   "source": [
    "pred_test"
   ]
  },
  {
   "cell_type": "code",
   "execution_count": 713,
   "id": "51c4b2c1-ea0e-4afe-916c-c62070d818b2",
   "metadata": {
    "tags": []
   },
   "outputs": [
    {
     "name": "stdout",
     "output_type": "stream",
     "text": [
      "¿Hay algún 1 en el arreglo? False\n"
     ]
    }
   ],
   "source": [
    "# Verificar si hay algún 1 en el arreglo\n",
    "has_one = np.any(predictions_test == 1)\n",
    "\n",
    "print(\"¿Hay algún 1 en el arreglo?\", has_one)"
   ]
  },
  {
   "cell_type": "code",
   "execution_count": 714,
   "id": "a06497c2-0dad-4b4b-aca0-226e144dea91",
   "metadata": {
    "tags": []
   },
   "outputs": [
    {
     "name": "stdout",
     "output_type": "stream",
     "text": [
      "\n",
      "El individuo tenia las siguientes características en las variables:\n",
      "\n",
      "[0.62562563 0.77102211 0.         0.02439024 0.05882353 0.04855372\n",
      " 0.04723618 0.         0.06699014 0.0613048  0.04304524 0.\n",
      " 0.00999892 0.0170644  0.04885572 0.         0.09545455 0.\n",
      " 0.         0.00778483 0.00439868 0.         0.         0.\n",
      " 0.         0.         0.         0.         0.         0.\n",
      " 0.         0.         0.         1.         0.         0.\n",
      " 0.         0.         1.         1.         0.         1.\n",
      " 0.         0.         0.         0.         0.         0.\n",
      " 0.         0.         0.         0.         0.         0.\n",
      " 0.         1.         0.         0.         1.         0.\n",
      " 0.         0.         1.         0.         0.         0.\n",
      " 0.         0.         0.         0.         0.         0.\n",
      " 0.         0.         0.         0.         0.         0.\n",
      " 0.         0.         0.         0.         0.         0.\n",
      " 1.         0.         1.         0.         0.         0.\n",
      " 0.         1.         0.         1.         0.         0.\n",
      " 0.         1.         0.         0.         0.         0.\n",
      " 0.         0.         1.         0.         0.         0.\n",
      " 0.         0.         0.         0.         0.         0.\n",
      " 0.         0.         0.         0.         0.         0.\n",
      " 0.         1.         0.         0.         0.         1.\n",
      " 1.         0.         0.         0.         0.         0.\n",
      " 0.         1.         0.        ]\n",
      "\n",
      "El individuo tenia el siguiente EVENTO:\n",
      "\n",
      "0\n",
      "\n",
      "El individuo según el modelo tiene la siguiente predicción del EVENTO :\n",
      "\n",
      "0\n"
     ]
    }
   ],
   "source": [
    "index = 7\n",
    "print(\"\\nEl individuo tenia las siguientes características en las variables:\\n\")\n",
    "print(test_set_x_flatten[:, index])\n",
    "print(\"\\nEl individuo tenia el siguiente EVENTO:\\n\")\n",
    "print(test_set_y_array[0,index])\n",
    "print(\"\\nEl individuo según el modelo tiene la siguiente predicción del EVENTO :\\n\")\n",
    "print(int(pred_test[:,index]))"
   ]
  },
  {
   "cell_type": "code",
   "execution_count": 715,
   "id": "ab9ba9ce-63b3-487d-96da-6127081fbed0",
   "metadata": {
    "tags": []
   },
   "outputs": [],
   "source": [
    "a=pd.Series(pred_test.flatten())\n",
    "a.index=test_set_x_orig.index\n",
    "df_aux_2['y_pred_DNN_2']=a\n",
    "df_aux_2['y_pred_DNN_2']=df_aux_2['y_pred_DNN_2'].astype(int)"
   ]
  },
  {
   "cell_type": "code",
   "execution_count": 716,
   "id": "06d757a7-e7c3-45c1-b163-a0f826921a37",
   "metadata": {
    "tags": []
   },
   "outputs": [],
   "source": [
    "cm=confusion_matrix(df_aux_2['EVENTO'], df_aux_2['y_pred_DNN_2'])\n",
    "\n",
    "acc, err, se, sp, prec, FPR =calMetrics(cm)\n",
    "accuracy, precision, recall, f1, roc_auc, logloss=calMetrics2(df_aux_2['EVENTO'], df_aux_2['y_pred_DNN_2'])\n",
    "    \n",
    "matrix={\n",
    "        \"Acc\": acc,\n",
    "        \"Err\": err,\n",
    "        \"Re\": se,\n",
    "        \"Sp\": sp,\n",
    "        \"Pre\": prec,\n",
    "        \"FPR\": FPR,\n",
    "        \"F1\":f1,\n",
    "        \"ROC_AUC\": roc_auc,\n",
    "        \"Log_Loss\": logloss\n",
    "    }"
   ]
  },
  {
   "cell_type": "code",
   "execution_count": 717,
   "id": "cc10649c-5fd0-4ed1-8214-d830af76c9f0",
   "metadata": {
    "tags": []
   },
   "outputs": [
    {
     "data": {
      "text/plain": [
       "{'Acc': 72.88,\n",
       " 'Err': 27.12,\n",
       " 'Re': 7.16,\n",
       " 'Sp': 97.89,\n",
       " 'Pre': 56.39,\n",
       " 'FPR': 2.11,\n",
       " 'F1': 12.7,\n",
       " 'ROC_AUC': 52.52,\n",
       " 'Log_Loss': 9.78}"
      ]
     },
     "execution_count": 717,
     "metadata": {},
     "output_type": "execute_result"
    }
   ],
   "source": [
    "matrix"
   ]
  },
  {
   "cell_type": "code",
   "execution_count": 718,
   "id": "d7621d8e-dad5-4176-beed-e57da7d946be",
   "metadata": {
    "tags": []
   },
   "outputs": [
    {
     "data": {
      "text/plain": [
       "<Axes: >"
      ]
     },
     "execution_count": 718,
     "metadata": {},
     "output_type": "execute_result"
    },
    {
     "data": {
      "image/png": "[encoded data removed]",
      "text/plain": [
       "<Figure size 800x600 with 2 Axes>"
      ]
     },
     "metadata": {},
     "output_type": "display_data"
    }
   ],
   "source": [
    "plt.figure(figsize=(8, 6))\n",
    "cm = confusion_matrix(df_aux_2['EVENTO'], df_aux_2['y_pred_DNN_2'])\n",
    "sns.heatmap(cm, annot=True, cmap='viridis', fmt='g')"
   ]
  },
  {
   "cell_type": "markdown",
   "id": "52df51e3-fb52-4d1b-8f6f-a924a5f1fece",
   "metadata": {
    "tags": []
   },
   "source": [
    "### Construyendo una red neuronal más profunda, cuatro capas con 12 neuronas las 3 primeras y una la última"
   ]
  },
  {
   "cell_type": "code",
   "execution_count": 719,
   "id": "4a8b9a35-cbc8-457c-8652-5a05503a4d6f",
   "metadata": {
    "tags": []
   },
   "outputs": [],
   "source": [
    "### CONSTANTS ###\n",
    "layers_dims = [135, 12, 12, 12, 1] #  4-layer model"
   ]
  },
  {
   "cell_type": "code",
   "execution_count": 720,
   "id": "4e45c3b2-91d5-4a52-9d5c-54030817f6b3",
   "metadata": {
    "tags": []
   },
   "outputs": [],
   "source": [
    "# GRADED FUNCTION: L_layer_model\n",
    "\n",
    "def L_layer_model(X, Y, layers_dims, learning_rate = 0.01, num_iterations = 3000, print_cost=False):\n",
    "    \"\"\"\n",
    "    Implements a L-layer neural network: [LINEAR->RELU]*(L-1)->LINEAR->SIGMOID.\n",
    "    \n",
    "    Arguments:\n",
    "    X -- input data, of shape (n_x, number of examples)\n",
    "    Y -- true \"label\" vector (containing 1 if cat, 0 if non-cat), of shape (1, number of examples)\n",
    "    layers_dims -- list containing the input size and each layer size, of length (number of layers + 1).\n",
    "    learning_rate -- learning rate of the gradient descent update rule\n",
    "    num_iterations -- number of iterations of the optimization loop\n",
    "    print_cost -- if True, it prints the cost every 100 steps\n",
    "    \n",
    "    Returns:\n",
    "    parameters -- parameters learnt by the model. They can then be used to predict.\n",
    "    \"\"\"\n",
    "\n",
    "    np.random.seed(seed)\n",
    "    costs = []                         # keep track of cost\n",
    "    \n",
    "    # Parameters initialization.\n",
    "    parameters = initialize_parameters_deep(layers_dims)\n",
    "    \n",
    "    # Loop (gradient descent)\n",
    "    for i in range(0, num_iterations):\n",
    "\n",
    "        # Forward propagation: [LINEAR -> RELU]*(L-1) -> LINEAR -> SIGMOID.       \n",
    "        AL, caches = L_model_forward(X, parameters)\n",
    "        \n",
    "        # Compute cost.\n",
    "        cost = compute_cost(AL, Y)\n",
    "\n",
    "        # Backward propagation.\n",
    "        grads = L_model_backward(AL, Y, caches)\n",
    "        \n",
    "        # Update parameters.\n",
    "        parameters = update_parameters(parameters, grads, learning_rate)\n",
    "                \n",
    "        # Print the cost every 100 iterations\n",
    "        if print_cost and i % 100 == 0 or i == num_iterations - 1:\n",
    "            print(\"Cost after iteration {}: {}\".format(i, np.squeeze(cost)))\n",
    "        if i % 100 == 0 or i == num_iterations:\n",
    "            costs.append(cost)\n",
    "    \n",
    "    return parameters, costs"
   ]
  },
  {
   "cell_type": "code",
   "execution_count": 721,
   "id": "19e5dba6-4fc1-45a4-bdb9-07848ade3bc3",
   "metadata": {
    "tags": []
   },
   "outputs": [
    {
     "name": "stdout",
     "output_type": "stream",
     "text": [
      "Cost after iteration 0: 0.6936107918241994\n",
      "Cost after first iteration: 0.6936107918241994\n"
     ]
    }
   ],
   "source": [
    "parameters, costs = L_layer_model(train_set_x_flatten, train_set_y_array, layers_dims, num_iterations = 1, print_cost = False)\n",
    "\n",
    "print(\"Cost after first iteration: \" + str(costs[0]))"
   ]
  },
  {
   "cell_type": "code",
   "execution_count": 722,
   "id": "3eebf7e2-02c2-4843-b62e-524643487b95",
   "metadata": {
    "tags": []
   },
   "outputs": [
    {
     "name": "stdout",
     "output_type": "stream",
     "text": [
      "Cost after iteration 0: 0.6936107918241994\n",
      "Cost after iteration 100: 0.6343487304138667\n",
      "Cost after iteration 200: 0.6056285699780524\n",
      "Cost after iteration 300: 0.5904237874827288\n",
      "Cost after iteration 400: 0.5818178902502897\n",
      "Cost after iteration 500: 0.5764141050602934\n",
      "Cost after iteration 600: 0.5724360394644823\n",
      "Cost after iteration 700: 0.5692005967542194\n",
      "Cost after iteration 800: 0.5664896898500218\n",
      "Cost after iteration 900: 0.5641362076360601\n",
      "Cost after iteration 1000: 0.5621026790740902\n",
      "Cost after iteration 1100: 0.5603342661329638\n",
      "Cost after iteration 1200: 0.5588014201447639\n",
      "Cost after iteration 1300: 0.5574548160802312\n",
      "Cost after iteration 1400: 0.5562602893013997\n",
      "Cost after iteration 1500: 0.5551957862869649\n",
      "Cost after iteration 1600: 0.5542321692959924\n",
      "Cost after iteration 1700: 0.5533550117664479\n",
      "Cost after iteration 1800: 0.5525416650149683\n",
      "Cost after iteration 1900: 0.5517895095703794\n",
      "Cost after iteration 2000: 0.551089197141759\n",
      "Cost after iteration 2100: 0.5504383408686264\n",
      "Cost after iteration 2200: 0.549834725768456\n",
      "Cost after iteration 2300: 0.5492765365367543\n",
      "Cost after iteration 2400: 0.5487579969210069\n",
      "Cost after iteration 2499: 0.5482762699397945\n"
     ]
    }
   ],
   "source": [
    "parameters, costs = L_layer_model(train_set_x_flatten, train_set_y_array, layers_dims, num_iterations = 2500, print_cost = True)"
   ]
  },
  {
   "cell_type": "code",
   "execution_count": 723,
   "id": "f1578df0-78e6-41a6-9000-663a43bfe20e",
   "metadata": {
    "tags": []
   },
   "outputs": [
    {
     "name": "stdout",
     "output_type": "stream",
     "text": [
      "Accuracy: 0.7244146277295449\n"
     ]
    }
   ],
   "source": [
    "pred_train = predict(train_set_x_flatten, train_set_y_array, parameters)"
   ]
  },
  {
   "cell_type": "code",
   "execution_count": 724,
   "id": "eb802ab6-2d8a-4420-8a68-85ee04819eb1",
   "metadata": {
    "tags": []
   },
   "outputs": [
    {
     "name": "stdout",
     "output_type": "stream",
     "text": [
      "Accuracy: 0.7242830833991056\n"
     ]
    }
   ],
   "source": [
    "pred_test = predict(test_set_x_flatten, test_set_y_array, parameters)"
   ]
  },
  {
   "cell_type": "code",
   "execution_count": 725,
   "id": "3b642dfd-44b3-42f3-9474-9ac30c581379",
   "metadata": {
    "tags": []
   },
   "outputs": [
    {
     "data": {
      "text/plain": [
       "array([[0., 0., 0., ..., 0., 0., 0.]])"
      ]
     },
     "execution_count": 725,
     "metadata": {},
     "output_type": "execute_result"
    }
   ],
   "source": [
    "pred_test"
   ]
  },
  {
   "cell_type": "code",
   "execution_count": 731,
   "id": "5776f829-932d-4f2f-9027-36795c2adc1c",
   "metadata": {
    "tags": []
   },
   "outputs": [
    {
     "name": "stdout",
     "output_type": "stream",
     "text": [
      "¿Hay algún 1 en el arreglo? False\n"
     ]
    }
   ],
   "source": [
    "# Verificar si hay algún 1 en el arreglo\n",
    "has_one = np.any(predictions_test == 1)\n",
    "\n",
    "print(\"¿Hay algún 1 en el arreglo?\", has_one)"
   ]
  },
  {
   "cell_type": "code",
   "execution_count": 726,
   "id": "1555f9e3-465d-4e24-9b34-5644b6756eba",
   "metadata": {
    "tags": []
   },
   "outputs": [
    {
     "name": "stdout",
     "output_type": "stream",
     "text": [
      "\n",
      "El individuo tenia las siguientes características en las variables:\n",
      "\n",
      "[0.62562563 0.77102211 0.         0.02439024 0.05882353 0.04855372\n",
      " 0.04723618 0.         0.06699014 0.0613048  0.04304524 0.\n",
      " 0.00999892 0.0170644  0.04885572 0.         0.09545455 0.\n",
      " 0.         0.00778483 0.00439868 0.         0.         0.\n",
      " 0.         0.         0.         0.         0.         0.\n",
      " 0.         0.         0.         1.         0.         0.\n",
      " 0.         0.         1.         1.         0.         1.\n",
      " 0.         0.         0.         0.         0.         0.\n",
      " 0.         0.         0.         0.         0.         0.\n",
      " 0.         1.         0.         0.         1.         0.\n",
      " 0.         0.         1.         0.         0.         0.\n",
      " 0.         0.         0.         0.         0.         0.\n",
      " 0.         0.         0.         0.         0.         0.\n",
      " 0.         0.         0.         0.         0.         0.\n",
      " 1.         0.         1.         0.         0.         0.\n",
      " 0.         1.         0.         1.         0.         0.\n",
      " 0.         1.         0.         0.         0.         0.\n",
      " 0.         0.         1.         0.         0.         0.\n",
      " 0.         0.         0.         0.         0.         0.\n",
      " 0.         0.         0.         0.         0.         0.\n",
      " 0.         1.         0.         0.         0.         1.\n",
      " 1.         0.         0.         0.         0.         0.\n",
      " 0.         1.         0.        ]\n",
      "\n",
      "El individuo tenia el siguiente EVENTO:\n",
      "\n",
      "0\n",
      "\n",
      "El individuo según el modelo tiene la siguiente predicción del EVENTO :\n",
      "\n",
      "0\n"
     ]
    }
   ],
   "source": [
    "index = 7\n",
    "print(\"\\nEl individuo tenia las siguientes características en las variables:\\n\")\n",
    "print(test_set_x_flatten[:, index])\n",
    "print(\"\\nEl individuo tenia el siguiente EVENTO:\\n\")\n",
    "print(test_set_y_array[0,index])\n",
    "print(\"\\nEl individuo según el modelo tiene la siguiente predicción del EVENTO :\\n\")\n",
    "print(int(pred_test[:,index]))"
   ]
  },
  {
   "cell_type": "code",
   "execution_count": 727,
   "id": "8a42717f-18ab-4b1e-8982-a58c2a568b7f",
   "metadata": {
    "tags": []
   },
   "outputs": [],
   "source": [
    "a=pd.Series(pred_test.flatten())\n",
    "a.index=test_set_x_orig.index\n",
    "df_aux_2['y_pred_DNN_3']=a\n",
    "df_aux_2['y_pred_DNN_3']=df_aux_2['y_pred_DNN_3'].astype(int)"
   ]
  },
  {
   "cell_type": "code",
   "execution_count": 728,
   "id": "255b0feb-3c6e-4799-a4cc-bbbe7bbcab1d",
   "metadata": {
    "tags": []
   },
   "outputs": [
    {
     "name": "stderr",
     "output_type": "stream",
     "text": [
      "C:\\Users\\MathStath\\AppData\\Local\\Temp\\ipykernel_10152\\1709042303.py:12: RuntimeWarning: invalid value encountered in scalar divide\n",
      "  prec = round((TP / (TP + FP))*100,2)                          #Precision\n",
      "C:\\Users\\MathStath\\AppData\\Local\\anaconda3\\Lib\\site-packages\\sklearn\\metrics\\_classification.py:1471: UndefinedMetricWarning: Precision is ill-defined and being set to 0.0 due to no predicted samples. Use `zero_division` parameter to control this behavior.\n",
      "  _warn_prf(average, modifier, msg_start, len(result))\n"
     ]
    }
   ],
   "source": [
    "cm=confusion_matrix(df_aux_2['EVENTO'], df_aux_2['y_pred_DNN_3'])\n",
    "\n",
    "acc, err, se, sp, prec, FPR =calMetrics(cm)\n",
    "accuracy, precision, recall, f1, roc_auc, logloss=calMetrics2(df_aux_2['EVENTO'], df_aux_2['y_pred_DNN_3'])\n",
    "    \n",
    "matrix={\n",
    "        \"Acc\": acc,\n",
    "        \"Err\": err,\n",
    "        \"Re\": se,\n",
    "        \"Sp\": sp,\n",
    "        \"Pre\": prec,\n",
    "        \"FPR\": FPR,\n",
    "        \"F1\":f1,\n",
    "        \"ROC_AUC\": roc_auc,\n",
    "        \"Log_Loss\": logloss\n",
    "    }"
   ]
  },
  {
   "cell_type": "code",
   "execution_count": 729,
   "id": "2432c568-8c0d-4ec4-a64f-10ad99a0b4d1",
   "metadata": {
    "tags": []
   },
   "outputs": [
    {
     "data": {
      "text/plain": [
       "{'Acc': 72.43,\n",
       " 'Err': 27.57,\n",
       " 'Re': 0.0,\n",
       " 'Sp': 100.0,\n",
       " 'Pre': nan,\n",
       " 'FPR': 0.0,\n",
       " 'F1': 0.0,\n",
       " 'ROC_AUC': 50.0,\n",
       " 'Log_Loss': 9.94}"
      ]
     },
     "execution_count": 729,
     "metadata": {},
     "output_type": "execute_result"
    }
   ],
   "source": [
    "matrix"
   ]
  },
  {
   "cell_type": "code",
   "execution_count": 730,
   "id": "c570e224-1f82-461a-8d5e-0888fed0b578",
   "metadata": {
    "tags": []
   },
   "outputs": [
    {
     "data": {
      "text/plain": [
       "<Axes: >"
      ]
     },
     "execution_count": 730,
     "metadata": {},
     "output_type": "execute_result"
    },
    {
     "data": {
      "image/png": "[encoded data removed]",
      "text/plain": [
       "<Figure size 800x600 with 2 Axes>"
      ]
     },
     "metadata": {},
     "output_type": "display_data"
    }
   ],
   "source": [
    "plt.figure(figsize=(8, 6))\n",
    "cm = confusion_matrix(df_aux_2['EVENTO'], df_aux_2['y_pred_DNN_3'])\n",
    "sns.heatmap(cm, annot=True, cmap='viridis', fmt='g')"
   ]
  },
  {
   "cell_type": "markdown",
   "id": "cfd9f618-9941-467c-825d-7be05aae4e47",
   "metadata": {},
   "source": [
    "### Modelo secuencial con capas densas\n",
    "##### A continuación probaremos con un modelo con cuatro capas densas con 20 neuronas cada uno, activación RELU y como regularización pondremos un DROPOU del 20% para evitar sobre ajuste y por último tendremos la capa con una neurona y activación sigmoide"
   ]
  },
  {
   "cell_type": "code",
   "execution_count": 775,
   "id": "8d0ee42e-bcf6-4d25-98ba-6d84aa236921",
   "metadata": {
    "tags": []
   },
   "outputs": [],
   "source": [
    "import tensorflow as tf"
   ]
  },
  {
   "cell_type": "code",
   "execution_count": 776,
   "id": "826b39cc-d652-489e-9c3d-ba5f5f5fda24",
   "metadata": {
    "tags": []
   },
   "outputs": [],
   "source": [
    "modelo = tf.keras.models.Sequential()\n",
    "modelo.add( tf.keras.layers.Dense(units=20, activation='relu', input_shape=(135, )))\n",
    "modelo.add(tf.keras.layers.Dense(units=20, activation='relu'))\n",
    "modelo.add(tf.keras.layers.Dense(units=20, activation='relu'))\n",
    "modelo.add( tf.keras.layers.Dropout(0.2))\n",
    "modelo.add(tf.keras.layers.Dense(units=1, activation='sigmoid'))\n",
    "modelo.compile(optimizer='Adam', loss='binary_crossentropy', metrics = ['accuracy'])"
   ]
  },
  {
   "cell_type": "code",
   "execution_count": 777,
   "id": "e4d74c0d-ce6e-44b0-ba90-0845e5e4052c",
   "metadata": {
    "tags": []
   },
   "outputs": [
    {
     "name": "stdout",
     "output_type": "stream",
     "text": [
      "Número de muestras de entrenamiento: m_train = 15204\n",
      "Número de muestras de test m_test = 3801\n",
      "Cantidad de características de cada individuo = 135\n",
      "train_set_x tamaño: (15204, 135)\n",
      "train_set_y tamaño: (1, 15204)\n",
      "test_set_x tamaño: (3801, 135)\n",
      "test_set_y tamaño: (1, 3801)\n"
     ]
    }
   ],
   "source": [
    "print (\"Número de muestras de entrenamiento: m_train = \" + str(m_train))\n",
    "print (\"Número de muestras de test m_test = \" + str(m_test))\n",
    "print (\"Cantidad de características de cada individuo = \" + str(num_px))\n",
    "print (\"train_set_x tamaño: \" + str(train_set_x_orig_array.shape))\n",
    "print (\"train_set_y tamaño: \" + str(train_set_y_array.shape))\n",
    "print (\"test_set_x tamaño: \" + str(test_set_x_orig_array.shape))\n",
    "print (\"test_set_y tamaño: \" + str(test_set_y_array.shape))"
   ]
  },
  {
   "cell_type": "code",
   "execution_count": 778,
   "id": "1f283c96-4c9b-4e9d-b748-22093ba05b9f",
   "metadata": {
    "scrolled": true,
    "tags": []
   },
   "outputs": [
    {
     "name": "stdout",
     "output_type": "stream",
     "text": [
      "Epoch 1/50\n",
      "476/476 [==============================] - 5s 5ms/step - loss: 0.5635 - accuracy: 0.7201\n",
      "Epoch 2/50\n",
      "476/476 [==============================] - 2s 4ms/step - loss: 0.5480 - accuracy: 0.7254\n",
      "Epoch 3/50\n",
      "476/476 [==============================] - 2s 3ms/step - loss: 0.5444 - accuracy: 0.7262\n",
      "Epoch 4/50\n",
      "476/476 [==============================] - 2s 4ms/step - loss: 0.5423 - accuracy: 0.7270\n",
      "Epoch 5/50\n",
      "476/476 [==============================] - 2s 4ms/step - loss: 0.5403 - accuracy: 0.7268\n",
      "Epoch 6/50\n",
      "476/476 [==============================] - 2s 4ms/step - loss: 0.5372 - accuracy: 0.7303\n",
      "Epoch 7/50\n",
      "476/476 [==============================] - 2s 4ms/step - loss: 0.5376 - accuracy: 0.7314\n",
      "Epoch 8/50\n",
      "476/476 [==============================] - 2s 4ms/step - loss: 0.5354 - accuracy: 0.7305\n",
      "Epoch 9/50\n",
      "476/476 [==============================] - 2s 4ms/step - loss: 0.5340 - accuracy: 0.7309\n",
      "Epoch 10/50\n",
      "476/476 [==============================] - 2s 5ms/step - loss: 0.5323 - accuracy: 0.7324\n",
      "Epoch 11/50\n",
      "476/476 [==============================] - 2s 4ms/step - loss: 0.5295 - accuracy: 0.7326\n",
      "Epoch 12/50\n",
      "476/476 [==============================] - 2s 4ms/step - loss: 0.5274 - accuracy: 0.7334\n",
      "Epoch 13/50\n",
      "476/476 [==============================] - 2s 3ms/step - loss: 0.5257 - accuracy: 0.7346\n",
      "Epoch 14/50\n",
      "476/476 [==============================] - 2s 3ms/step - loss: 0.5238 - accuracy: 0.7355\n",
      "Epoch 15/50\n",
      "476/476 [==============================] - 2s 4ms/step - loss: 0.5214 - accuracy: 0.7386\n",
      "Epoch 16/50\n",
      "476/476 [==============================] - 2s 5ms/step - loss: 0.5206 - accuracy: 0.7384\n",
      "Epoch 17/50\n",
      "476/476 [==============================] - 2s 4ms/step - loss: 0.5185 - accuracy: 0.7398\n",
      "Epoch 18/50\n",
      "476/476 [==============================] - 2s 4ms/step - loss: 0.5160 - accuracy: 0.7390\n",
      "Epoch 19/50\n",
      "476/476 [==============================] - 2s 4ms/step - loss: 0.5129 - accuracy: 0.7422\n",
      "Epoch 20/50\n",
      "476/476 [==============================] - 2s 4ms/step - loss: 0.5113 - accuracy: 0.7430\n",
      "Epoch 21/50\n",
      "476/476 [==============================] - 2s 4ms/step - loss: 0.5076 - accuracy: 0.7457\n",
      "Epoch 22/50\n",
      "476/476 [==============================] - 2s 4ms/step - loss: 0.5086 - accuracy: 0.7466\n",
      "Epoch 23/50\n",
      "476/476 [==============================] - 2s 4ms/step - loss: 0.5040 - accuracy: 0.7448\n",
      "Epoch 24/50\n",
      "476/476 [==============================] - 2s 4ms/step - loss: 0.5023 - accuracy: 0.7509\n",
      "Epoch 25/50\n",
      "476/476 [==============================] - 2s 4ms/step - loss: 0.4999 - accuracy: 0.7488\n",
      "Epoch 26/50\n",
      "476/476 [==============================] - 2s 4ms/step - loss: 0.4967 - accuracy: 0.7501\n",
      "Epoch 27/50\n",
      "476/476 [==============================] - 2s 5ms/step - loss: 0.4962 - accuracy: 0.7498\n",
      "Epoch 28/50\n",
      "476/476 [==============================] - 2s 4ms/step - loss: 0.4947 - accuracy: 0.7495\n",
      "Epoch 29/50\n",
      "476/476 [==============================] - 2s 4ms/step - loss: 0.4913 - accuracy: 0.7528\n",
      "Epoch 30/50\n",
      "476/476 [==============================] - 2s 4ms/step - loss: 0.4910 - accuracy: 0.7555\n",
      "Epoch 31/50\n",
      "476/476 [==============================] - 2s 4ms/step - loss: 0.4876 - accuracy: 0.7551\n",
      "Epoch 32/50\n",
      "476/476 [==============================] - 2s 5ms/step - loss: 0.4866 - accuracy: 0.7557\n",
      "Epoch 33/50\n",
      "476/476 [==============================] - 2s 4ms/step - loss: 0.4866 - accuracy: 0.7562\n",
      "Epoch 34/50\n",
      "476/476 [==============================] - 2s 4ms/step - loss: 0.4835 - accuracy: 0.7566\n",
      "Epoch 35/50\n",
      "476/476 [==============================] - 2s 4ms/step - loss: 0.4822 - accuracy: 0.7557\n",
      "Epoch 36/50\n",
      "476/476 [==============================] - 2s 4ms/step - loss: 0.4804 - accuracy: 0.7574\n",
      "Epoch 37/50\n",
      "476/476 [==============================] - 2s 4ms/step - loss: 0.4780 - accuracy: 0.7594\n",
      "Epoch 38/50\n",
      "476/476 [==============================] - 2s 3ms/step - loss: 0.4744 - accuracy: 0.7599\n",
      "Epoch 39/50\n",
      "476/476 [==============================] - 2s 4ms/step - loss: 0.4766 - accuracy: 0.7591\n",
      "Epoch 40/50\n",
      "476/476 [==============================] - 2s 4ms/step - loss: 0.4719 - accuracy: 0.7647\n",
      "Epoch 41/50\n",
      "476/476 [==============================] - 2s 4ms/step - loss: 0.4730 - accuracy: 0.7632\n",
      "Epoch 42/50\n",
      "476/476 [==============================] - 2s 4ms/step - loss: 0.4702 - accuracy: 0.7633\n",
      "Epoch 43/50\n",
      "476/476 [==============================] - 2s 5ms/step - loss: 0.4677 - accuracy: 0.7657\n",
      "Epoch 44/50\n",
      "476/476 [==============================] - 2s 4ms/step - loss: 0.4682 - accuracy: 0.7633\n",
      "Epoch 45/50\n",
      "476/476 [==============================] - 2s 4ms/step - loss: 0.4660 - accuracy: 0.7640\n",
      "Epoch 46/50\n",
      "476/476 [==============================] - 2s 3ms/step - loss: 0.4645 - accuracy: 0.7669\n",
      "Epoch 47/50\n",
      "476/476 [==============================] - 2s 4ms/step - loss: 0.4644 - accuracy: 0.7631\n",
      "Epoch 48/50\n",
      "476/476 [==============================] - 2s 5ms/step - loss: 0.4633 - accuracy: 0.7666\n",
      "Epoch 49/50\n",
      "476/476 [==============================] - 2s 5ms/step - loss: 0.4592 - accuracy: 0.7670\n",
      "Epoch 50/50\n",
      "476/476 [==============================] - 2s 5ms/step - loss: 0.4622 - accuracy: 0.7668\n"
     ]
    }
   ],
   "source": [
    "epoch = modelo.fit(train_set_x_orig_array, train_set_y_array.T, epochs = 50)"
   ]
  },
  {
   "cell_type": "code",
   "execution_count": 779,
   "id": "806fc4c6-56a6-47e2-b16b-1b2e4e67f7ca",
   "metadata": {
    "tags": []
   },
   "outputs": [
    {
     "name": "stdout",
     "output_type": "stream",
     "text": [
      "Model: \"sequential_3\"\n",
      "_________________________________________________________________\n",
      " Layer (type)                Output Shape              Param #   \n",
      "=================================================================\n",
      " dense_12 (Dense)            (None, 20)                2720      \n",
      "                                                                 \n",
      " dense_13 (Dense)            (None, 20)                420       \n",
      "                                                                 \n",
      " dense_14 (Dense)            (None, 20)                420       \n",
      "                                                                 \n",
      " dropout_3 (Dropout)         (None, 20)                0         \n",
      "                                                                 \n",
      " dense_15 (Dense)            (None, 1)                 21        \n",
      "                                                                 \n",
      "=================================================================\n",
      "Total params: 3581 (13.99 KB)\n",
      "Trainable params: 3581 (13.99 KB)\n",
      "Non-trainable params: 0 (0.00 Byte)\n",
      "_________________________________________________________________\n"
     ]
    }
   ],
   "source": [
    "modelo.summary()"
   ]
  },
  {
   "cell_type": "code",
   "execution_count": 780,
   "id": "7addb1b9-303a-4f03-b8d1-e6e1e05ddc39",
   "metadata": {
    "tags": []
   },
   "outputs": [
    {
     "name": "stdout",
     "output_type": "stream",
     "text": [
      "119/119 [==============================] - 1s 3ms/step\n"
     ]
    }
   ],
   "source": [
    "predict=modelo.predict(test_set_x_orig_array)"
   ]
  },
  {
   "cell_type": "code",
   "execution_count": 781,
   "id": "e1f25d60-4f5c-432e-8c75-b1b06376814d",
   "metadata": {
    "tags": []
   },
   "outputs": [
    {
     "data": {
      "text/plain": [
       "(3801, 1)"
      ]
     },
     "execution_count": 781,
     "metadata": {},
     "output_type": "execute_result"
    }
   ],
   "source": [
    "predict.shape"
   ]
  },
  {
   "cell_type": "code",
   "execution_count": 782,
   "id": "36df4b96-d090-4456-bc6d-e47041ff37c2",
   "metadata": {
    "tags": []
   },
   "outputs": [],
   "source": [
    "a=pd.Series(predict.flatten())\n",
    "a.index=df_aux_2.index\n",
    "df_aux_2['PROBABILIDAD_DNN_4']=a\n",
    "df_aux_2\n",
    "\n",
    "df_aux_2['y_pred_DNN_4'] = np.where(df_aux_2['PROBABILIDAD_DNN_4'] >= 0.5, 1, 0)\n",
    "df_aux_2['y_pred_DNN_4'] = df_aux_2['y_pred_DNN_4'].astype(int)"
   ]
  },
  {
   "cell_type": "code",
   "execution_count": 783,
   "id": "fb56aaed-500e-408b-8344-0e3451e4ea1b",
   "metadata": {
    "tags": []
   },
   "outputs": [],
   "source": [
    "cm=confusion_matrix(df_aux_2['EVENTO'], df_aux_2['y_pred_DNN_4'])\n",
    "\n",
    "acc, err, se, sp, prec, FPR =calMetrics(cm)\n",
    "accuracy, precision, recall, f1, roc_auc, logloss=calMetrics2(df_aux_2['EVENTO'], df_aux_2['y_pred_DNN_4'])\n",
    "    \n",
    "matrix={\n",
    "        \"Acc\": acc,\n",
    "        \"Err\": err,\n",
    "        \"Re\": se,\n",
    "        \"Sp\": sp,\n",
    "        \"Pre\": prec,\n",
    "        \"FPR\": FPR,\n",
    "        \"F1\":f1,\n",
    "        \"ROC_AUC\": roc_auc,\n",
    "        \"Log_Loss\": logloss\n",
    "    }"
   ]
  },
  {
   "cell_type": "code",
   "execution_count": 784,
   "id": "311e998f-b570-41af-9bec-e955a94c08f5",
   "metadata": {
    "tags": []
   },
   "outputs": [
    {
     "data": {
      "text/plain": [
       "{'Acc': 71.72,\n",
       " 'Err': 28.28,\n",
       " 'Re': 18.8,\n",
       " 'Sp': 91.86,\n",
       " 'Pre': 46.79,\n",
       " 'FPR': 8.14,\n",
       " 'F1': 26.82,\n",
       " 'ROC_AUC': 55.33,\n",
       " 'Log_Loss': 10.19}"
      ]
     },
     "execution_count": 784,
     "metadata": {},
     "output_type": "execute_result"
    }
   ],
   "source": [
    "matrix"
   ]
  },
  {
   "cell_type": "code",
   "execution_count": 785,
   "id": "e05b399b-2107-4620-a189-24c7a9a00060",
   "metadata": {
    "tags": []
   },
   "outputs": [
    {
     "data": {
      "text/plain": [
       "<Axes: >"
      ]
     },
     "execution_count": 785,
     "metadata": {},
     "output_type": "execute_result"
    },
    {
     "data": {
      "image/png": "[encoded data removed]",
      "text/plain": [
       "<Figure size 800x600 with 2 Axes>"
      ]
     },
     "metadata": {},
     "output_type": "display_data"
    }
   ],
   "source": [
    "plt.figure(figsize=(8, 6))\n",
    "cm = confusion_matrix(df_aux_2['EVENTO'], df_aux_2['y_pred_DNN_4'])\n",
    "sns.heatmap(cm, annot=True, cmap='viridis', fmt='g')"
   ]
  },
  {
   "cell_type": "markdown",
   "id": "ef0deb2c-4113-4735-9fb7-0bc457e64fee",
   "metadata": {},
   "source": [
    "### Segundo modelo secuencial con capas densas\n",
    "##### A continuación probaremos con un modelo con cuatro capas densas con 50 neuronas cada uno, activación RELU y como regularización pondremos un DROPOU del 20% para evitar sobre ajuste y por último tendremos la capa con una neurona y activación sigmoide"
   ]
  },
  {
   "cell_type": "code",
   "execution_count": 786,
   "id": "8b91b5de-ca88-4178-b85f-a8cc67ab5529",
   "metadata": {
    "tags": []
   },
   "outputs": [],
   "source": [
    "import tensorflow as tf"
   ]
  },
  {
   "cell_type": "code",
   "execution_count": 787,
   "id": "4876e88c-6553-43cb-b48b-b138c0e7e248",
   "metadata": {
    "tags": []
   },
   "outputs": [],
   "source": [
    "modelo = tf.keras.models.Sequential()\n",
    "modelo.add( tf.keras.layers.Dense(units=50, activation='relu', input_shape=(135, )))\n",
    "modelo.add(tf.keras.layers.Dense(units=50, activation='relu'))\n",
    "modelo.add(tf.keras.layers.Dense(units=50, activation='relu'))\n",
    "modelo.add( tf.keras.layers.Dropout(0.2))\n",
    "modelo.add(tf.keras.layers.Dense(units=1, activation='sigmoid'))\n",
    "modelo.compile(optimizer='Adam', loss='binary_crossentropy', metrics = ['accuracy'])"
   ]
  },
  {
   "cell_type": "code",
   "execution_count": 788,
   "id": "33fbf532-32ef-4669-a526-92a6c9fcad2b",
   "metadata": {
    "tags": []
   },
   "outputs": [
    {
     "name": "stdout",
     "output_type": "stream",
     "text": [
      "Número de muestras de entrenamiento: m_train = 15204\n",
      "Número de muestras de test m_test = 3801\n",
      "Cantidad de características de cada individuo = 135\n",
      "train_set_x tamaño: (15204, 135)\n",
      "train_set_y tamaño: (1, 15204)\n",
      "test_set_x tamaño: (3801, 135)\n",
      "test_set_y tamaño: (1, 3801)\n"
     ]
    }
   ],
   "source": [
    "print (\"Número de muestras de entrenamiento: m_train = \" + str(m_train))\n",
    "print (\"Número de muestras de test m_test = \" + str(m_test))\n",
    "print (\"Cantidad de características de cada individuo = \" + str(num_px))\n",
    "print (\"train_set_x tamaño: \" + str(train_set_x_orig_array.shape))\n",
    "print (\"train_set_y tamaño: \" + str(train_set_y_array.shape))\n",
    "print (\"test_set_x tamaño: \" + str(test_set_x_orig_array.shape))\n",
    "print (\"test_set_y tamaño: \" + str(test_set_y_array.shape))"
   ]
  },
  {
   "cell_type": "code",
   "execution_count": 789,
   "id": "9a1fecf1-8a70-44a5-83b0-b308177e3b69",
   "metadata": {
    "scrolled": true,
    "tags": []
   },
   "outputs": [
    {
     "name": "stdout",
     "output_type": "stream",
     "text": [
      "Epoch 1/100\n",
      "476/476 [==============================] - 3s 4ms/step - loss: 0.5549 - accuracy: 0.7228\n",
      "Epoch 2/100\n",
      "476/476 [==============================] - 2s 4ms/step - loss: 0.5438 - accuracy: 0.7267\n",
      "Epoch 3/100\n",
      "476/476 [==============================] - 2s 4ms/step - loss: 0.5402 - accuracy: 0.7276\n",
      "Epoch 4/100\n",
      "476/476 [==============================] - 2s 4ms/step - loss: 0.5376 - accuracy: 0.7277\n",
      "Epoch 5/100\n",
      "476/476 [==============================] - 2s 4ms/step - loss: 0.5341 - accuracy: 0.7305\n",
      "Epoch 6/100\n",
      "476/476 [==============================] - 2s 4ms/step - loss: 0.5317 - accuracy: 0.7336\n",
      "Epoch 7/100\n",
      "476/476 [==============================] - 2s 4ms/step - loss: 0.5277 - accuracy: 0.7328\n",
      "Epoch 8/100\n",
      "476/476 [==============================] - 2s 4ms/step - loss: 0.5241 - accuracy: 0.7321\n",
      "Epoch 9/100\n",
      "476/476 [==============================] - 2s 4ms/step - loss: 0.5191 - accuracy: 0.7353\n",
      "Epoch 10/100\n",
      "476/476 [==============================] - 2s 4ms/step - loss: 0.5146 - accuracy: 0.7386\n",
      "Epoch 11/100\n",
      "476/476 [==============================] - 2s 4ms/step - loss: 0.5081 - accuracy: 0.7426\n",
      "Epoch 12/100\n",
      "476/476 [==============================] - 2s 4ms/step - loss: 0.5023 - accuracy: 0.7445\n",
      "Epoch 13/100\n",
      "476/476 [==============================] - 2s 4ms/step - loss: 0.4961 - accuracy: 0.7488\n",
      "Epoch 14/100\n",
      "476/476 [==============================] - 2s 4ms/step - loss: 0.4900 - accuracy: 0.7523\n",
      "Epoch 15/100\n",
      "476/476 [==============================] - 2s 4ms/step - loss: 0.4832 - accuracy: 0.7521\n",
      "Epoch 16/100\n",
      "476/476 [==============================] - 2s 4ms/step - loss: 0.4767 - accuracy: 0.7622\n",
      "Epoch 17/100\n",
      "476/476 [==============================] - 2s 4ms/step - loss: 0.4714 - accuracy: 0.7637\n",
      "Epoch 18/100\n",
      "476/476 [==============================] - 2s 5ms/step - loss: 0.4625 - accuracy: 0.7672\n",
      "Epoch 19/100\n",
      "476/476 [==============================] - 2s 5ms/step - loss: 0.4556 - accuracy: 0.7701\n",
      "Epoch 20/100\n",
      "476/476 [==============================] - 2s 4ms/step - loss: 0.4505 - accuracy: 0.7726\n",
      "Epoch 21/100\n",
      "476/476 [==============================] - 2s 4ms/step - loss: 0.4437 - accuracy: 0.7785\n",
      "Epoch 22/100\n",
      "476/476 [==============================] - 2s 4ms/step - loss: 0.4383 - accuracy: 0.7772\n",
      "Epoch 23/100\n",
      "476/476 [==============================] - 2s 4ms/step - loss: 0.4316 - accuracy: 0.7804\n",
      "Epoch 24/100\n",
      "476/476 [==============================] - 2s 4ms/step - loss: 0.4266 - accuracy: 0.7868\n",
      "Epoch 25/100\n",
      "476/476 [==============================] - 2s 4ms/step - loss: 0.4196 - accuracy: 0.7907\n",
      "Epoch 26/100\n",
      "476/476 [==============================] - 2s 4ms/step - loss: 0.4136 - accuracy: 0.7933\n",
      "Epoch 27/100\n",
      "476/476 [==============================] - 2s 4ms/step - loss: 0.4063 - accuracy: 0.7960\n",
      "Epoch 28/100\n",
      "476/476 [==============================] - 2s 4ms/step - loss: 0.3998 - accuracy: 0.7983\n",
      "Epoch 29/100\n",
      "476/476 [==============================] - 2s 4ms/step - loss: 0.3975 - accuracy: 0.8018\n",
      "Epoch 30/100\n",
      "476/476 [==============================] - 2s 4ms/step - loss: 0.3932 - accuracy: 0.8046\n",
      "Epoch 31/100\n",
      "476/476 [==============================] - 2s 4ms/step - loss: 0.3846 - accuracy: 0.8072\n",
      "Epoch 32/100\n",
      "476/476 [==============================] - 2s 4ms/step - loss: 0.3814 - accuracy: 0.8112\n",
      "Epoch 33/100\n",
      "476/476 [==============================] - 2s 4ms/step - loss: 0.3808 - accuracy: 0.8097\n",
      "Epoch 34/100\n",
      "476/476 [==============================] - 2s 4ms/step - loss: 0.3730 - accuracy: 0.8147\n",
      "Epoch 35/100\n",
      "476/476 [==============================] - 2s 4ms/step - loss: 0.3647 - accuracy: 0.8172\n",
      "Epoch 36/100\n",
      "476/476 [==============================] - 2s 5ms/step - loss: 0.3612 - accuracy: 0.8204\n",
      "Epoch 37/100\n",
      "476/476 [==============================] - 2s 5ms/step - loss: 0.3614 - accuracy: 0.8216\n",
      "Epoch 38/100\n",
      "476/476 [==============================] - 2s 5ms/step - loss: 0.3506 - accuracy: 0.8258\n",
      "Epoch 39/100\n",
      "476/476 [==============================] - 2s 4ms/step - loss: 0.3491 - accuracy: 0.8268\n",
      "Epoch 40/100\n",
      "476/476 [==============================] - 2s 4ms/step - loss: 0.3511 - accuracy: 0.8288\n",
      "Epoch 41/100\n",
      "476/476 [==============================] - 2s 4ms/step - loss: 0.3425 - accuracy: 0.8302\n",
      "Epoch 42/100\n",
      "476/476 [==============================] - 2s 4ms/step - loss: 0.3382 - accuracy: 0.8327\n",
      "Epoch 43/100\n",
      "476/476 [==============================] - 2s 4ms/step - loss: 0.3387 - accuracy: 0.8319\n",
      "Epoch 44/100\n",
      "476/476 [==============================] - 2s 4ms/step - loss: 0.3337 - accuracy: 0.8345\n",
      "Epoch 45/100\n",
      "476/476 [==============================] - 2s 4ms/step - loss: 0.3312 - accuracy: 0.8380\n",
      "Epoch 46/100\n",
      "476/476 [==============================] - 2s 4ms/step - loss: 0.3269 - accuracy: 0.8383\n",
      "Epoch 47/100\n",
      "476/476 [==============================] - 2s 4ms/step - loss: 0.3222 - accuracy: 0.8399\n",
      "Epoch 48/100\n",
      "476/476 [==============================] - 2s 4ms/step - loss: 0.3214 - accuracy: 0.8419\n",
      "Epoch 49/100\n",
      "476/476 [==============================] - 2s 4ms/step - loss: 0.3176 - accuracy: 0.8419\n",
      "Epoch 50/100\n",
      "476/476 [==============================] - 2s 4ms/step - loss: 0.3145 - accuracy: 0.8460\n",
      "Epoch 51/100\n",
      "476/476 [==============================] - 2s 4ms/step - loss: 0.3178 - accuracy: 0.8398\n",
      "Epoch 52/100\n",
      "476/476 [==============================] - 2s 4ms/step - loss: 0.3086 - accuracy: 0.8446\n",
      "Epoch 53/100\n",
      "476/476 [==============================] - 2s 4ms/step - loss: 0.3115 - accuracy: 0.8464\n",
      "Epoch 54/100\n",
      "476/476 [==============================] - 2s 4ms/step - loss: 0.3047 - accuracy: 0.8516\n",
      "Epoch 55/100\n",
      "476/476 [==============================] - 2s 4ms/step - loss: 0.3039 - accuracy: 0.8485\n",
      "Epoch 56/100\n",
      "476/476 [==============================] - 2s 4ms/step - loss: 0.3014 - accuracy: 0.8526\n",
      "Epoch 57/100\n",
      "476/476 [==============================] - 2s 4ms/step - loss: 0.2976 - accuracy: 0.8525\n",
      "Epoch 58/100\n",
      "476/476 [==============================] - 2s 5ms/step - loss: 0.2964 - accuracy: 0.8542\n",
      "Epoch 59/100\n",
      "476/476 [==============================] - 2s 5ms/step - loss: 0.2960 - accuracy: 0.8543\n",
      "Epoch 60/100\n",
      "476/476 [==============================] - 2s 5ms/step - loss: 0.2945 - accuracy: 0.8542\n",
      "Epoch 61/100\n",
      "476/476 [==============================] - 2s 5ms/step - loss: 0.2898 - accuracy: 0.8533\n",
      "Epoch 62/100\n",
      "476/476 [==============================] - 2s 4ms/step - loss: 0.2872 - accuracy: 0.8579\n",
      "Epoch 63/100\n",
      "476/476 [==============================] - 2s 4ms/step - loss: 0.2855 - accuracy: 0.8564\n",
      "Epoch 64/100\n",
      "476/476 [==============================] - 2s 4ms/step - loss: 0.2863 - accuracy: 0.8541\n",
      "Epoch 65/100\n",
      "476/476 [==============================] - 2s 4ms/step - loss: 0.2825 - accuracy: 0.8592\n",
      "Epoch 66/100\n",
      "476/476 [==============================] - 2s 4ms/step - loss: 0.2834 - accuracy: 0.8606\n",
      "Epoch 67/100\n",
      "476/476 [==============================] - 2s 4ms/step - loss: 0.2828 - accuracy: 0.8594\n",
      "Epoch 68/100\n",
      "476/476 [==============================] - 2s 4ms/step - loss: 0.2802 - accuracy: 0.8592\n",
      "Epoch 69/100\n",
      "476/476 [==============================] - 2s 5ms/step - loss: 0.2828 - accuracy: 0.8595\n",
      "Epoch 70/100\n",
      "476/476 [==============================] - 2s 5ms/step - loss: 0.2698 - accuracy: 0.8669\n",
      "Epoch 71/100\n",
      "476/476 [==============================] - 2s 4ms/step - loss: 0.2716 - accuracy: 0.8650\n",
      "Epoch 72/100\n",
      "476/476 [==============================] - 2s 4ms/step - loss: 0.2715 - accuracy: 0.8654\n",
      "Epoch 73/100\n",
      "476/476 [==============================] - 2s 4ms/step - loss: 0.2756 - accuracy: 0.8645\n",
      "Epoch 74/100\n",
      "476/476 [==============================] - 2s 5ms/step - loss: 0.2731 - accuracy: 0.8643\n",
      "Epoch 75/100\n",
      "476/476 [==============================] - 2s 5ms/step - loss: 0.2692 - accuracy: 0.8675\n",
      "Epoch 76/100\n",
      "476/476 [==============================] - 2s 4ms/step - loss: 0.2600 - accuracy: 0.8700\n",
      "Epoch 77/100\n",
      "476/476 [==============================] - 2s 5ms/step - loss: 0.2617 - accuracy: 0.8724\n",
      "Epoch 78/100\n",
      "476/476 [==============================] - 2s 5ms/step - loss: 0.2691 - accuracy: 0.8685\n",
      "Epoch 79/100\n",
      "476/476 [==============================] - 2s 5ms/step - loss: 0.2624 - accuracy: 0.8725\n",
      "Epoch 80/100\n",
      "476/476 [==============================] - 2s 5ms/step - loss: 0.2625 - accuracy: 0.8721\n",
      "Epoch 81/100\n",
      "476/476 [==============================] - 2s 5ms/step - loss: 0.2579 - accuracy: 0.8726\n",
      "Epoch 82/100\n",
      "476/476 [==============================] - 2s 5ms/step - loss: 0.2585 - accuracy: 0.8698\n",
      "Epoch 83/100\n",
      "476/476 [==============================] - 2s 5ms/step - loss: 0.2595 - accuracy: 0.8716\n",
      "Epoch 84/100\n",
      "476/476 [==============================] - 2s 5ms/step - loss: 0.2562 - accuracy: 0.8737\n",
      "Epoch 85/100\n",
      "476/476 [==============================] - 2s 4ms/step - loss: 0.2497 - accuracy: 0.8766\n",
      "Epoch 86/100\n",
      "476/476 [==============================] - 2s 4ms/step - loss: 0.2552 - accuracy: 0.8755\n",
      "Epoch 87/100\n",
      "476/476 [==============================] - 2s 4ms/step - loss: 0.2497 - accuracy: 0.8794\n",
      "Epoch 88/100\n",
      "476/476 [==============================] - 2s 4ms/step - loss: 0.2514 - accuracy: 0.8769\n",
      "Epoch 89/100\n",
      "476/476 [==============================] - 2s 4ms/step - loss: 0.2540 - accuracy: 0.8752\n",
      "Epoch 90/100\n",
      "476/476 [==============================] - 2s 4ms/step - loss: 0.2492 - accuracy: 0.8767\n",
      "Epoch 91/100\n",
      "476/476 [==============================] - 2s 4ms/step - loss: 0.2461 - accuracy: 0.8792\n",
      "Epoch 92/100\n",
      "476/476 [==============================] - 2s 4ms/step - loss: 0.2444 - accuracy: 0.8797\n",
      "Epoch 93/100\n",
      "476/476 [==============================] - 2s 4ms/step - loss: 0.2430 - accuracy: 0.8779\n",
      "Epoch 94/100\n",
      "476/476 [==============================] - 2s 4ms/step - loss: 0.2535 - accuracy: 0.8756\n",
      "Epoch 95/100\n",
      "476/476 [==============================] - 2s 4ms/step - loss: 0.2404 - accuracy: 0.8810\n",
      "Epoch 96/100\n",
      "476/476 [==============================] - 2s 4ms/step - loss: 0.2395 - accuracy: 0.8812\n",
      "Epoch 97/100\n",
      "476/476 [==============================] - 2s 5ms/step - loss: 0.2461 - accuracy: 0.8802\n",
      "Epoch 98/100\n",
      "476/476 [==============================] - 2s 4ms/step - loss: 0.2517 - accuracy: 0.8738\n",
      "Epoch 99/100\n",
      "476/476 [==============================] - 2s 5ms/step - loss: 0.2429 - accuracy: 0.8815\n",
      "Epoch 100/100\n",
      "476/476 [==============================] - 2s 5ms/step - loss: 0.2443 - accuracy: 0.8798\n"
     ]
    }
   ],
   "source": [
    "epoch = modelo.fit(train_set_x_orig_array, train_set_y_array.T, epochs = 100)"
   ]
  },
  {
   "cell_type": "code",
   "execution_count": 790,
   "id": "58b82df2-2630-4dd6-9ad5-a5c8762b26ff",
   "metadata": {
    "tags": []
   },
   "outputs": [
    {
     "name": "stdout",
     "output_type": "stream",
     "text": [
      "Model: \"sequential_4\"\n",
      "_________________________________________________________________\n",
      " Layer (type)                Output Shape              Param #   \n",
      "=================================================================\n",
      " dense_16 (Dense)            (None, 50)                6800      \n",
      "                                                                 \n",
      " dense_17 (Dense)            (None, 50)                2550      \n",
      "                                                                 \n",
      " dense_18 (Dense)            (None, 50)                2550      \n",
      "                                                                 \n",
      " dropout_4 (Dropout)         (None, 50)                0         \n",
      "                                                                 \n",
      " dense_19 (Dense)            (None, 1)                 51        \n",
      "                                                                 \n",
      "=================================================================\n",
      "Total params: 11951 (46.68 KB)\n",
      "Trainable params: 11951 (46.68 KB)\n",
      "Non-trainable params: 0 (0.00 Byte)\n",
      "_________________________________________________________________\n"
     ]
    }
   ],
   "source": [
    "modelo.summary()"
   ]
  },
  {
   "cell_type": "code",
   "execution_count": 791,
   "id": "93e2bccb-4add-4e14-8658-12b3f8d8b3b7",
   "metadata": {
    "tags": []
   },
   "outputs": [
    {
     "name": "stdout",
     "output_type": "stream",
     "text": [
      "119/119 [==============================] - 1s 3ms/step\n"
     ]
    }
   ],
   "source": [
    "predict=modelo.predict(test_set_x_orig_array)"
   ]
  },
  {
   "cell_type": "code",
   "execution_count": 792,
   "id": "0ab3a1e8-0b21-4bf5-8123-e1ae615fa9e2",
   "metadata": {
    "tags": []
   },
   "outputs": [
    {
     "data": {
      "text/plain": [
       "(3801, 1)"
      ]
     },
     "execution_count": 792,
     "metadata": {},
     "output_type": "execute_result"
    }
   ],
   "source": [
    "predict.shape"
   ]
  },
  {
   "cell_type": "code",
   "execution_count": 793,
   "id": "e4592159-11f3-453f-a847-e11571c64f67",
   "metadata": {
    "tags": []
   },
   "outputs": [],
   "source": [
    "a=pd.Series(predict.flatten())\n",
    "a.index=df_aux_2.index\n",
    "df_aux_2['PROBABILIDAD_DNN_5']=a\n",
    "df_aux_2\n",
    "\n",
    "df_aux_2['y_pred_DNN_5'] = np.where(df_aux_2['PROBABILIDAD_DNN_5'] >= 0.5, 1, 0)\n",
    "df_aux_2['y_pred_DNN_5'] = df_aux_2['y_pred_DNN_5'].astype(int)"
   ]
  },
  {
   "cell_type": "code",
   "execution_count": 794,
   "id": "32c6d331-18d6-495f-9a69-d022c23e0acf",
   "metadata": {
    "tags": []
   },
   "outputs": [],
   "source": [
    "cm=confusion_matrix(df_aux_2['EVENTO'], df_aux_2['y_pred_DNN_5'])\n",
    "\n",
    "acc, err, se, sp, prec, FPR =calMetrics(cm)\n",
    "accuracy, precision, recall, f1, roc_auc, logloss=calMetrics2(df_aux_2['EVENTO'], df_aux_2['y_pred_DNN_5'])\n",
    "    \n",
    "matrix={\n",
    "        \"Acc\": acc,\n",
    "        \"Err\": err,\n",
    "        \"Re\": se,\n",
    "        \"Sp\": sp,\n",
    "        \"Pre\": prec,\n",
    "        \"FPR\": FPR,\n",
    "        \"F1\":f1,\n",
    "        \"ROC_AUC\": roc_auc,\n",
    "        \"Log_Loss\": logloss\n",
    "    }"
   ]
  },
  {
   "cell_type": "code",
   "execution_count": 795,
   "id": "e3116bc5-b2d6-40a3-b33d-093be0f91550",
   "metadata": {
    "tags": []
   },
   "outputs": [
    {
     "data": {
      "text/plain": [
       "{'Acc': 66.85,\n",
       " 'Err': 33.15,\n",
       " 'Re': 32.25,\n",
       " 'Sp': 80.02,\n",
       " 'Pre': 38.06,\n",
       " 'FPR': 19.98,\n",
       " 'F1': 34.92,\n",
       " 'ROC_AUC': 56.14,\n",
       " 'Log_Loss': 11.95}"
      ]
     },
     "execution_count": 795,
     "metadata": {},
     "output_type": "execute_result"
    }
   ],
   "source": [
    "matrix"
   ]
  },
  {
   "cell_type": "code",
   "execution_count": 796,
   "id": "caf85b84-0479-4d2f-ab30-4dd09da0fdb1",
   "metadata": {
    "tags": []
   },
   "outputs": [
    {
     "data": {
      "text/plain": [
       "<Axes: >"
      ]
     },
     "execution_count": 796,
     "metadata": {},
     "output_type": "execute_result"
    },
    {
     "data": {
      "image/png": "[encoded data removed]",
      "text/plain": [
       "<Figure size 800x600 with 2 Axes>"
      ]
     },
     "metadata": {},
     "output_type": "display_data"
    }
   ],
   "source": [
    "plt.figure(figsize=(8, 6))\n",
    "cm = confusion_matrix(df_aux_2['EVENTO'], df_aux_2['y_pred_DNN_5'])\n",
    "sns.heatmap(cm, annot=True, cmap='viridis', fmt='g')"
   ]
  },
  {
   "cell_type": "markdown",
   "id": "48d1db81-60c7-43fb-8c41-0e924ffdfb3a",
   "metadata": {},
   "source": [
    "## Resultados:\n",
    "\n",
    "#### Se observa que los modelos secuenciales superan en ROC_AUC al modelo clásico con validación cruzada, sin embargo tienen menor Accuracy.\n",
    "\n",
    "+ Métricas modelo logístico clásico con validación cruzada\n",
    "|Métrica|Valor|\n",
    "|-------|-----|\n",
    "|Acc| 72.74|\n",
    " |Err| 27.26|\n",
    " |Re| 11.26|\n",
    " |Sp| 96.15|\n",
    " |Pre| 52.68|\n",
    " |FPR| 3.85|\n",
    " |F1| 18.55|\n",
    " |ROC_AUC| 53.7|\n",
    " |Log_Loss| 9.82|\n",
    " \n",
    "  + Métricas modelo secuencial con cuatro capas con 20 neuronas y 50 epoca.\n",
    "\n",
    "|Métrica|Valor|\n",
    "|-------|-----|\n",
    " |Acc| 71.72|\n",
    " |Err| 28.28|\n",
    " |Re| 18.8|\n",
    " |Sp| 91.86|\n",
    " |Pre| 46.79|\n",
    " |FPR| 8.14|\n",
    " |F1| 26.82|\n",
    " |ROC_AUC| 55.33|\n",
    " |Log_Loss| 10.19|\n",
    " \n",
    "  + Métricas modelo secuencial con mismas capas 50 neuronas y 100 epocas. \n",
    "\n",
    "|Métrica|Valor|\n",
    "|-------|-----|\n",
    " |Acc| 66.85|\n",
    " |Err| 33.15|\n",
    " |Re| 32.25|\n",
    " |Sp| 80.02|\n",
    " |Pre| 38.06|\n",
    " |FPR| 19.98|\n",
    " |F1| 34.92|\n",
    " |ROC_AUC| 56.14|\n",
    " |Log_Loss| 11.95|"
   ]
  },
  {
   "cell_type": "markdown",
   "id": "013b725d-a417-4822-8d3a-9637b22ebc9d",
   "metadata": {},
   "source": [
    "<img src=\"images/backtest_modelo_clasico.PNG\" style=\"width:900px;height:200px;\">"
   ]
  },
  {
   "cell_type": "code",
   "execution_count": 802,
   "id": "3f4a6d1b-b125-43ba-9bcb-afd2e85c69b4",
   "metadata": {
    "tags": []
   },
   "outputs": [],
   "source": [
    "deciles_train_06 = np.array([0.        , 0.11498571, 0.14727611, 0.18157093, 0.21908788,\n",
    "                    0.25891251, 0.30698539, 0.35528827, 0.40967676, 0.47160332,\n",
    "                    1.        ])"
   ]
  },
  {
   "cell_type": "code",
   "execution_count": 804,
   "id": "54b32a75-2eac-4357-a3ae-5c2fd8c51cdc",
   "metadata": {
    "tags": []
   },
   "outputs": [],
   "source": [
    "# Calcular el número de EVENTOs y no EVENTOs para cada intervalo de decil\n",
    "EVENTOs = []\n",
    "no_EVENTOs = []\n",
    "for i in range(len(deciles) - 1):\n",
    "    intervalo = df_aux_2[(df_aux_2['PROBABILIDAD_DNN_4'] >= deciles[i]) & (df_aux_2['PROBABILIDAD_DNN_4'] < deciles[i+1])]\n",
    "    EVENTOs.append(intervalo['EVENTO'].sum())\n",
    "    no_EVENTOs.append(len(intervalo) - intervalo['EVENTO'].sum())\n",
    "EVENTOs.reverse()\n",
    "no_EVENTOs.reverse()\n",
    "    \n",
    "# Calcular el total de EVENTOs y no EVENTOs\n",
    "total_EVENTOs =df_aux_2['EVENTO'].sum()\n",
    "total_no_EVENTOs = len(df_aux_2) - df_aux_2['EVENTO'].sum()\n",
    "total_bin = [x + y for x, y in zip(EVENTOs,no_EVENTOs)]\n",
    "data = {'Min': np.flip(deciles[0:len(deciles)-1]).tolist(),\n",
    "        'Max': np.flip(deciles[1:len(deciles)]).tolist(),\n",
    "        '0': no_EVENTOs,\n",
    "        '1': EVENTOs,\n",
    "        'total': total_bin}\n",
    "df_resultado = pd.DataFrame(data)"
   ]
  },
  {
   "cell_type": "code",
   "execution_count": 805,
   "id": "7de8e040-2b96-48e3-8604-a7c2bd578da9",
   "metadata": {
    "tags": []
   },
   "outputs": [
    {
     "data": {
      "text/html": [
       "<div>\n",
       "<style scoped>\n",
       "    .dataframe tbody tr th:only-of-type {\n",
       "        vertical-align: middle;\n",
       "    }\n",
       "\n",
       "    .dataframe tbody tr th {\n",
       "        vertical-align: top;\n",
       "    }\n",
       "\n",
       "    .dataframe thead th {\n",
       "        text-align: right;\n",
       "    }\n",
       "</style>\n",
       "<table border=\"1\" class=\"dataframe\">\n",
       "  <thead>\n",
       "    <tr style=\"text-align: right;\">\n",
       "      <th></th>\n",
       "      <th>Min</th>\n",
       "      <th>Max</th>\n",
       "      <th>0</th>\n",
       "      <th>1</th>\n",
       "      <th>total</th>\n",
       "    </tr>\n",
       "  </thead>\n",
       "  <tbody>\n",
       "    <tr>\n",
       "      <th>0</th>\n",
       "      <td>0.471603</td>\n",
       "      <td>1.000000</td>\n",
       "      <td>289</td>\n",
       "      <td>239</td>\n",
       "      <td>528</td>\n",
       "    </tr>\n",
       "    <tr>\n",
       "      <th>1</th>\n",
       "      <td>0.409677</td>\n",
       "      <td>0.471603</td>\n",
       "      <td>204</td>\n",
       "      <td>144</td>\n",
       "      <td>348</td>\n",
       "    </tr>\n",
       "    <tr>\n",
       "      <th>2</th>\n",
       "      <td>0.355288</td>\n",
       "      <td>0.409677</td>\n",
       "      <td>247</td>\n",
       "      <td>128</td>\n",
       "      <td>375</td>\n",
       "    </tr>\n",
       "    <tr>\n",
       "      <th>3</th>\n",
       "      <td>0.306985</td>\n",
       "      <td>0.355288</td>\n",
       "      <td>165</td>\n",
       "      <td>67</td>\n",
       "      <td>232</td>\n",
       "    </tr>\n",
       "    <tr>\n",
       "      <th>4</th>\n",
       "      <td>0.258913</td>\n",
       "      <td>0.306985</td>\n",
       "      <td>179</td>\n",
       "      <td>55</td>\n",
       "      <td>234</td>\n",
       "    </tr>\n",
       "    <tr>\n",
       "      <th>5</th>\n",
       "      <td>0.219088</td>\n",
       "      <td>0.258913</td>\n",
       "      <td>154</td>\n",
       "      <td>50</td>\n",
       "      <td>204</td>\n",
       "    </tr>\n",
       "    <tr>\n",
       "      <th>6</th>\n",
       "      <td>0.181571</td>\n",
       "      <td>0.219088</td>\n",
       "      <td>161</td>\n",
       "      <td>51</td>\n",
       "      <td>212</td>\n",
       "    </tr>\n",
       "    <tr>\n",
       "      <th>7</th>\n",
       "      <td>0.147276</td>\n",
       "      <td>0.181571</td>\n",
       "      <td>142</td>\n",
       "      <td>39</td>\n",
       "      <td>181</td>\n",
       "    </tr>\n",
       "    <tr>\n",
       "      <th>8</th>\n",
       "      <td>0.114986</td>\n",
       "      <td>0.147276</td>\n",
       "      <td>130</td>\n",
       "      <td>57</td>\n",
       "      <td>187</td>\n",
       "    </tr>\n",
       "    <tr>\n",
       "      <th>9</th>\n",
       "      <td>0.000000</td>\n",
       "      <td>0.114986</td>\n",
       "      <td>1082</td>\n",
       "      <td>218</td>\n",
       "      <td>1300</td>\n",
       "    </tr>\n",
       "  </tbody>\n",
       "</table>\n",
       "</div>"
      ],
      "text/plain": [
       "        Min       Max     0    1  total\n",
       "0  0.471603  1.000000   289  239    528\n",
       "1  0.409677  0.471603   204  144    348\n",
       "2  0.355288  0.409677   247  128    375\n",
       "3  0.306985  0.355288   165   67    232\n",
       "4  0.258913  0.306985   179   55    234\n",
       "5  0.219088  0.258913   154   50    204\n",
       "6  0.181571  0.219088   161   51    212\n",
       "7  0.147276  0.181571   142   39    181\n",
       "8  0.114986  0.147276   130   57    187\n",
       "9  0.000000  0.114986  1082  218   1300"
      ]
     },
     "execution_count": 805,
     "metadata": {},
     "output_type": "execute_result"
    }
   ],
   "source": [
    "df_resultado"
   ]
  },
  {
   "cell_type": "markdown",
   "id": "3e405be9-8069-49db-b71a-77ce0697a5a3",
   "metadata": {},
   "source": [
    "<img src=\"images/backtest_modelo_DNN_4.PNG\" style=\"width:900px;height:200px;\">"
   ]
  },
  {
   "cell_type": "code",
   "execution_count": 806,
   "id": "c6a966aa-685a-40b1-b25c-78edbe2d8d8e",
   "metadata": {
    "tags": []
   },
   "outputs": [],
   "source": [
    "# Calcular el número de EVENTOs y no EVENTOs para cada intervalo de decil\n",
    "EVENTOs = []\n",
    "no_EVENTOs = []\n",
    "for i in range(len(deciles) - 1):\n",
    "    intervalo = df_aux_2[(df_aux_2['PROBABILIDAD_DNN_5'] >= deciles[i]) & (df_aux_2['PROBABILIDAD_DNN_5'] < deciles[i+1])]\n",
    "    EVENTOs.append(intervalo['EVENTO'].sum())\n",
    "    no_EVENTOs.append(len(intervalo) - intervalo['EVENTO'].sum())\n",
    "EVENTOs.reverse()\n",
    "no_EVENTOs.reverse()\n",
    "    \n",
    "# Calcular el total de EVENTOs y no EVENTOs\n",
    "total_EVENTOs =df_aux_2['EVENTO'].sum()\n",
    "total_no_EVENTOs = len(df_aux_2) - df_aux_2['EVENTO'].sum()\n",
    "total_bin = [x + y for x, y in zip(EVENTOs,no_EVENTOs)]\n",
    "data = {'Min': np.flip(deciles[0:len(deciles)-1]).tolist(),\n",
    "        'Max': np.flip(deciles[1:len(deciles)]).tolist(),\n",
    "        '0': no_EVENTOs,\n",
    "        '1': EVENTOs,\n",
    "        'total': total_bin}\n",
    "df_resultado = pd.DataFrame(data)"
   ]
  },
  {
   "cell_type": "code",
   "execution_count": 807,
   "id": "352b526e-2373-4d0c-8960-cc29688425d8",
   "metadata": {
    "tags": []
   },
   "outputs": [
    {
     "data": {
      "text/html": [
       "<div>\n",
       "<style scoped>\n",
       "    .dataframe tbody tr th:only-of-type {\n",
       "        vertical-align: middle;\n",
       "    }\n",
       "\n",
       "    .dataframe tbody tr th {\n",
       "        vertical-align: top;\n",
       "    }\n",
       "\n",
       "    .dataframe thead th {\n",
       "        text-align: right;\n",
       "    }\n",
       "</style>\n",
       "<table border=\"1\" class=\"dataframe\">\n",
       "  <thead>\n",
       "    <tr style=\"text-align: right;\">\n",
       "      <th></th>\n",
       "      <th>Min</th>\n",
       "      <th>Max</th>\n",
       "      <th>0</th>\n",
       "      <th>1</th>\n",
       "      <th>total</th>\n",
       "    </tr>\n",
       "  </thead>\n",
       "  <tbody>\n",
       "    <tr>\n",
       "      <th>0</th>\n",
       "      <td>0.471603</td>\n",
       "      <td>1.000000</td>\n",
       "      <td>593</td>\n",
       "      <td>368</td>\n",
       "      <td>961</td>\n",
       "    </tr>\n",
       "    <tr>\n",
       "      <th>1</th>\n",
       "      <td>0.409677</td>\n",
       "      <td>0.471603</td>\n",
       "      <td>72</td>\n",
       "      <td>59</td>\n",
       "      <td>131</td>\n",
       "    </tr>\n",
       "    <tr>\n",
       "      <th>2</th>\n",
       "      <td>0.355288</td>\n",
       "      <td>0.409677</td>\n",
       "      <td>72</td>\n",
       "      <td>39</td>\n",
       "      <td>111</td>\n",
       "    </tr>\n",
       "    <tr>\n",
       "      <th>3</th>\n",
       "      <td>0.306985</td>\n",
       "      <td>0.355288</td>\n",
       "      <td>65</td>\n",
       "      <td>30</td>\n",
       "      <td>95</td>\n",
       "    </tr>\n",
       "    <tr>\n",
       "      <th>4</th>\n",
       "      <td>0.258913</td>\n",
       "      <td>0.306985</td>\n",
       "      <td>73</td>\n",
       "      <td>28</td>\n",
       "      <td>101</td>\n",
       "    </tr>\n",
       "    <tr>\n",
       "      <th>5</th>\n",
       "      <td>0.219088</td>\n",
       "      <td>0.258913</td>\n",
       "      <td>50</td>\n",
       "      <td>17</td>\n",
       "      <td>67</td>\n",
       "    </tr>\n",
       "    <tr>\n",
       "      <th>6</th>\n",
       "      <td>0.181571</td>\n",
       "      <td>0.219088</td>\n",
       "      <td>57</td>\n",
       "      <td>19</td>\n",
       "      <td>76</td>\n",
       "    </tr>\n",
       "    <tr>\n",
       "      <th>7</th>\n",
       "      <td>0.147276</td>\n",
       "      <td>0.181571</td>\n",
       "      <td>52</td>\n",
       "      <td>23</td>\n",
       "      <td>75</td>\n",
       "    </tr>\n",
       "    <tr>\n",
       "      <th>8</th>\n",
       "      <td>0.114986</td>\n",
       "      <td>0.147276</td>\n",
       "      <td>48</td>\n",
       "      <td>15</td>\n",
       "      <td>63</td>\n",
       "    </tr>\n",
       "    <tr>\n",
       "      <th>9</th>\n",
       "      <td>0.000000</td>\n",
       "      <td>0.114986</td>\n",
       "      <td>1665</td>\n",
       "      <td>450</td>\n",
       "      <td>2115</td>\n",
       "    </tr>\n",
       "  </tbody>\n",
       "</table>\n",
       "</div>"
      ],
      "text/plain": [
       "        Min       Max     0    1  total\n",
       "0  0.471603  1.000000   593  368    961\n",
       "1  0.409677  0.471603    72   59    131\n",
       "2  0.355288  0.409677    72   39    111\n",
       "3  0.306985  0.355288    65   30     95\n",
       "4  0.258913  0.306985    73   28    101\n",
       "5  0.219088  0.258913    50   17     67\n",
       "6  0.181571  0.219088    57   19     76\n",
       "7  0.147276  0.181571    52   23     75\n",
       "8  0.114986  0.147276    48   15     63\n",
       "9  0.000000  0.114986  1665  450   2115"
      ]
     },
     "execution_count": 807,
     "metadata": {},
     "output_type": "execute_result"
    }
   ],
   "source": [
    "df_resultado"
   ]
  },
  {
   "cell_type": "markdown",
   "id": "fe2185d9-759c-4818-b12a-d2f6114101d6",
   "metadata": {
    "tags": []
   },
   "source": [
    "<img src=\"images/backtest_modelo_DNN_5.PNG\" style=\"width:900px;height:200px;\">"
   ]
  },
  {
   "cell_type": "markdown",
   "id": "9bd4e04c-8401-460d-b428-1bf91d30ea2f",
   "metadata": {},
   "source": [
    "## Conclusiones:\n",
    "El modelo logistico clásico con validación cruzada obtiene mejores métricas de desempeño que los modelos básicos en redes neuronales, como los son el modelo logístico y redes neuronales con pocas capas (2 y 4 probadas en este trabajo).\n",
    "\n",
    "Frente a los modelos secuenciales con capas densas estos modelo reportan un mejor ROC_AUC que el modelo clásico, es decir tienen mejor predictividad que el modelo logistico clásico, sin embargo el Accuracy es menor.\n",
    "\n",
    "Tomando el apetito de riesgo como el tercer decil, tenemos que el modelo nos acumula 1096 registros y una tasa de malos (evento: 30-12) de 13.1% con el modelo logístico clásico, mientras que en los modelos secuenciales se acumula un 18% en el primer modelo y un 21.7% en el segundo"
   ]
  },
  {
   "cell_type": "code",
   "execution_count": null,
   "id": "aec15cc3-a2f7-4489-8a39-b31c2f2abfcf",
   "metadata": {},
   "outputs": [],
   "source": []
  }
 ],
 "metadata": {
  "kernelspec": {
   "display_name": "Python 3 (ipykernel)",
   "language": "python",
   "name": "python3"
  },
  "language_info": {
   "codemirror_mode": {
    "name": "ipython",
    "version": 3
   },
   "file_extension": ".py",
   "mimetype": "text/x-python",
   "name": "python",
   "nbconvert_exporter": "python",
   "pygments_lexer": "ipython3",
   "version": "3.11.4"
  }
 },
 "nbformat": 4,
 "nbformat_minor": 5
}
