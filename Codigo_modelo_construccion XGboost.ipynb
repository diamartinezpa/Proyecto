{
 "cells": [
  {
   "cell_type": "code",
   "execution_count": 1,
   "id": "6e3ca8a3-f0d9-49f3-8955-1aeb204191c2",
   "metadata": {},
   "outputs": [],
   "source": [
    "import random\n",
    "import pandas as pd\n",
    "import numpy as np\n",
    "import seaborn as sns\n",
    "import joblib\n",
    "import math\n",
    "random.seed(42)\n",
    "np.random.seed(42)\n",
    "seed=42\n",
    "\n",
    "import xgboost as xgb\n",
    "from matplotlib import pyplot as plt\n",
    "from sklearn import model_selection\n",
    "from sklearn.model_selection import train_test_split, cross_validate, StratifiedKFold, cross_val_predict\n",
    "from sklearn.preprocessing import LabelEncoder, RobustScaler, MinMaxScaler\n",
    "\n",
    "from sklearn.metrics import accuracy_score, precision_score, recall_score, f1_score, roc_auc_score, log_loss, confusion_matrix\n",
    "\n",
    "#from imblearn.under_sampling import RandomUnderSampler\n",
    "#from imblearn.over_sampling import SMOTE"
   ]
  },
  {
   "cell_type": "code",
   "execution_count": 432,
   "id": "38606878-0185-4a05-8bf8-7ce94c3556e4",
   "metadata": {},
   "outputs": [],
   "source": [
    "df_Mayo_2023 = pd.read_excel(\"C:/Users/damartinezp/OneDrive - BAN100 S.A/Documentos/Proyectos Borrador/PD_C1/2024_modelo/datos_202305.xlsx\")"
   ]
  },
  {
   "cell_type": "code",
   "execution_count": 94,
   "id": "6f9a33e6-f779-4d6d-b2bd-3538e09b00bf",
   "metadata": {},
   "outputs": [],
   "source": [
    "df_Junio_2023 = pd.read_excel(\"C:/Users/damartinezp/OneDrive - BAN100 S.A/Documentos/Proyectos Borrador/PD_C1/2024_modelo/datos_202306.xlsx\")"
   ]
  },
  {
   "cell_type": "code",
   "execution_count": 95,
   "id": "5805b16d-ac20-46a4-b3fc-22184dd42245",
   "metadata": {},
   "outputs": [],
   "source": [
    "df_Julio_2023 = pd.read_excel(\"C:/Users/damartinezp/OneDrive - BAN100 S.A/Documentos/Proyectos Borrador/PD_C1/2024_modelo/datos_202307.xlsx\")"
   ]
  },
  {
   "cell_type": "code",
   "execution_count": 96,
   "id": "4f781563-5dd7-4a9a-8925-f7c4d348d15b",
   "metadata": {},
   "outputs": [],
   "source": [
    "df_Agosto_2023 = pd.read_excel(\"C:/Users/damartinezp/OneDrive - BAN100 S.A/Documentos/Proyectos Borrador/PD_C1/2024_modelo/datos_202308.xlsx\")"
   ]
  },
  {
   "cell_type": "code",
   "execution_count": 97,
   "id": "5d6a17b5-c423-4fd9-8ecc-6c7565506948",
   "metadata": {},
   "outputs": [],
   "source": [
    "df_Septiembre_2023 = pd.read_excel(\"C:/Users/damartinezp/OneDrive - BAN100 S.A/Documentos/Proyectos Borrador/PD_C1/2024_modelo/datos_202309.xlsx\")"
   ]
  },
  {
   "cell_type": "code",
   "execution_count": 99,
   "id": "012ecc79-eb61-4e75-9fa8-5b9c1381907c",
   "metadata": {},
   "outputs": [],
   "source": [
    "### Ejecutar solo los siguientes dos cuadros cuando se vaya a entrenar con el mes de mayo de 2023 y hacer validación con los meses de junio de 2023 a septiembre de 2023"
   ]
  },
  {
   "cell_type": "code",
   "execution_count": 3,
   "id": "e51c2b46-df2f-428c-bf6c-d454d6fad11d",
   "metadata": {},
   "outputs": [],
   "source": [
    "cast_dias_sistema_2023=df_Mayo_2023[df_Mayo_2023['dias_sistema']>90]\n",
    "cast_dias_sistema_1m_a_2023=df_Mayo_2023[df_Mayo_2023['mora_1_a']>120]\n",
    "cast_dias_sistema_2m_a_2023=df_Mayo_2023[df_Mayo_2023['mora_2_a']>150]\n",
    "df_filt_Mayo_2023=df_Mayo_2023[df_Mayo_2023['dias_sistema']<=90]\n",
    "df_filt_Mayo_2023=df_filt_Mayo_2023[df_filt_Mayo_2023['mora_1_a']<=120]\n",
    "df_filt_Mayo_2023=df_filt_Mayo_2023[df_filt_Mayo_2023['mora_2_a']<=150]\n",
    "percentil_99 = np.percentile(df_filt_Mayo_2023['CUPO'], 99)\n",
    "cupor_2023=df_filt_Mayo_2023[df_filt_Mayo_2023['CUPO'] > percentil_99]\n",
    "df_filt_Mayo_2023['CUPO'] = df_filt_Mayo_2023['CUPO'].apply(lambda x: percentil_99 if x >= percentil_99 else x)\n",
    "df_filt_Mayo_2023 = df_filt_Mayo_2023.reset_index(drop=True)"
   ]
  },
  {
   "cell_type": "code",
   "execution_count": 98,
   "id": "5a105735-9e9d-4400-8e51-9887325e7e73",
   "metadata": {},
   "outputs": [],
   "source": [
    "cast_dias_sistema_Junio_2023=df_Junio_2023[df_Junio_2023['dias_sistema']>90]\n",
    "cast_dias_sistema_1m_a_Junio_2023=df_Junio_2023[df_Junio_2023['mora_1_a']>120]\n",
    "cast_dias_sistema_2m_a_Junio_2023=df_Junio_2023[df_Junio_2023['mora_2_a']>150]\n",
    "df_filt_Junio_2023=df_Junio_2023[df_Junio_2023['dias_sistema']<=90]\n",
    "df_filt_Junio_2023=df_filt_Junio_2023[df_filt_Junio_2023['mora_1_a']<=120]\n",
    "df_filt_Junio_2023=df_filt_Junio_2023[df_filt_Junio_2023['mora_2_a']<=150]\n",
    "percentil_99 = np.percentile(df_filt_Junio_2023['CUPO'], 99)\n",
    "cupor_Junio_2023=df_filt_Junio_2023[df_filt_Junio_2023['CUPO'] > percentil_99]\n",
    "df_filt_Junio_2023['CUPO'] = df_filt_Junio_2023['CUPO'].apply(lambda x: percentil_99 if x >= percentil_99 else x)\n",
    "df_filt_Junio_2023 = df_filt_Junio_2023.reset_index(drop=True)\n",
    "\n",
    "                                        \n",
    "cast_dias_sistema_Julio_2023=df_Julio_2023[df_Julio_2023['dias_sistema']>90]\n",
    "cast_dias_sistema_1m_a_Julio_2023=df_Julio_2023[df_Julio_2023['mora_1_a']>120]\n",
    "cast_dias_sistema_2m_a_Julio_2023=df_Julio_2023[df_Julio_2023['mora_2_a']>150]\n",
    "df_filt_Julio_2023=df_Julio_2023[df_Julio_2023['dias_sistema']<=90]\n",
    "df_filt_Julio_2023=df_filt_Julio_2023[df_filt_Julio_2023['mora_1_a']<=120]\n",
    "df_filt_Julio_2023=df_filt_Julio_2023[df_filt_Julio_2023['mora_2_a']<=150]\n",
    "percentil_99 = np.percentile(df_filt_Julio_2023['CUPO'], 99)\n",
    "cupor_Julio_2023=df_filt_Julio_2023[df_filt_Julio_2023['CUPO'] > percentil_99]\n",
    "df_filt_Julio_2023['CUPO'] = df_filt_Julio_2023['CUPO'].apply(lambda x: percentil_99 if x >= percentil_99 else x)\n",
    "df_filt_Julio_2023 = df_filt_Julio_2023.reset_index(drop=True)\n",
    "\n",
    "\n",
    "cast_dias_sistema_Agosto_2023=df_Agosto_2023[df_Agosto_2023['dias_sistema']>90]\n",
    "cast_dias_sistema_1m_a_Agosto_2023=df_Agosto_2023[df_Agosto_2023['mora_1_a']>120]\n",
    "cast_dias_sistema_2m_a_Agosto_2023=df_Agosto_2023[df_Agosto_2023['mora_2_a']>150]\n",
    "df_filt_Agosto_2023=df_Agosto_2023[df_Agosto_2023['dias_sistema']<=90]\n",
    "df_filt_Agosto_2023=df_filt_Agosto_2023[df_filt_Agosto_2023['mora_1_a']<=120]\n",
    "df_filt_Agosto_2023=df_filt_Agosto_2023[df_filt_Agosto_2023['mora_2_a']<=150]\n",
    "percentil_99 = np.percentile(df_filt_Agosto_2023['CUPO'], 99)\n",
    "cupor_Agosto_2023=df_filt_Agosto_2023[df_filt_Agosto_2023['CUPO'] > percentil_99]\n",
    "df_filt_Agosto_2023['CUPO'] = df_filt_Agosto_2023['CUPO'].apply(lambda x: percentil_99 if x >= percentil_99 else x)\n",
    "df_filt_Agosto_2023 = df_filt_Agosto_2023.reset_index(drop=True)\n",
    "\n",
    "cast_dias_sistema_Septiembre_2023=df_Septiembre_2023[df_Septiembre_2023['dias_sistema']>90]\n",
    "cast_dias_sistema_1m_a_Septiembre_2023=df_Septiembre_2023[df_Septiembre_2023['mora_1_a']>120]\n",
    "cast_dias_sistema_2m_a_Septiembre_2023=df_Septiembre_2023[df_Septiembre_2023['mora_2_a']>150]\n",
    "df_filt_Septiembre_2023=df_Septiembre_2023[df_Septiembre_2023['dias_sistema']<=90]\n",
    "df_filt_Septiembre_2023=df_filt_Septiembre_2023[df_filt_Septiembre_2023['mora_1_a']<=120]\n",
    "df_filt_Septiembre_2023=df_filt_Septiembre_2023[df_filt_Septiembre_2023['mora_2_a']<=150]\n",
    "percentil_99 = np.percentile(df_filt_Septiembre_2023['CUPO'], 99)\n",
    "cupor_Septiembre_2023=df_filt_Septiembre_2023[df_filt_Septiembre_2023['CUPO'] > percentil_99]\n",
    "df_filt_Septiembre_2023['CUPO'] = df_filt_Septiembre_2023['CUPO'].apply(lambda x: percentil_99 if x >= percentil_99 else x)\n",
    "df_filt_Septiembre_2023 = df_filt_Septiembre_2023.reset_index(drop=True)"
   ]
  },
  {
   "cell_type": "code",
   "execution_count": 100,
   "id": "facf4905-dad0-48da-8a01-3e9cfa960859",
   "metadata": {},
   "outputs": [],
   "source": [
    "### Ejecutar el siguiente código cuando se vaya a entrenar con un año, junio 2022 a mayo de 2023 y validación con junio de 2023 a septiembre de 2023"
   ]
  },
  {
   "cell_type": "code",
   "execution_count": 445,
   "id": "53c3d126-0e9f-4eca-93a4-28e2a3d642b5",
   "metadata": {},
   "outputs": [
    {
     "name": "stdout",
     "output_type": "stream",
     "text": [
      "marca_default\n",
      "0    101528\n",
      "1     47824\n",
      "Name: count, dtype: int64\n",
      "0.32020997375328086\n",
      "0.6797900262467191\n",
      "149352\n"
     ]
    }
   ],
   "source": [
    "print(df_filt_Mayo_2023[\"marca_default\"].value_counts())\n",
    "print(df_filt_Mayo_2023[\"marca_default\"].value_counts()[1]/len(df_filt_Mayo_2023))\n",
    "print(1-df_filt_Mayo_2023[\"marca_default\"].value_counts()[1]/len(df_filt_Mayo_2023))\n",
    "print(len(df_filt_Mayo_2023))"
   ]
  },
  {
   "cell_type": "markdown",
   "id": "95b7b5f5-2095-4547-bf16-92d97db8a9e2",
   "metadata": {},
   "source": [
    "##### Correr esta linea solo cuando vayamos a entrenar con Enero"
   ]
  },
  {
   "cell_type": "code",
   "execution_count": 6,
   "id": "8148c129-afce-4452-8a94-b03effd750ff",
   "metadata": {},
   "outputs": [],
   "source": [
    "df=pd.concat([df_filt_Mayo_2023], axis=0)"
   ]
  },
  {
   "cell_type": "code",
   "execution_count": 447,
   "id": "a8fdbc2e-a34c-439b-b275-f7784cdd6192",
   "metadata": {},
   "outputs": [],
   "source": [
    "df=df.reset_index(drop=True)"
   ]
  },
  {
   "cell_type": "markdown",
   "id": "8a3aadef-d0b3-4c4a-b3ec-09d12ed645f9",
   "metadata": {},
   "source": [
    "#### Marca default"
   ]
  },
  {
   "cell_type": "code",
   "execution_count": 448,
   "id": "60efdc59-61bf-4f52-a7af-980501a503e2",
   "metadata": {},
   "outputs": [
    {
     "name": "stdout",
     "output_type": "stream",
     "text": [
      "marca_default\n",
      "0    1342865\n",
      "1     424826\n",
      "Name: count, dtype: int64\n",
      "0.24032820215750378\n",
      "0.7596717978424963\n",
      "1767691\n"
     ]
    }
   ],
   "source": [
    "print(df[\"marca_default\"].value_counts())\n",
    "print(df[\"marca_default\"].value_counts()[1]/len(df))\n",
    "print(1-df[\"marca_default\"].value_counts()[1]/len(df))\n",
    "print(len(df))"
   ]
  },
  {
   "cell_type": "code",
   "execution_count": 449,
   "id": "18826e0d-bd45-479a-a2d8-8f8d1e9af584",
   "metadata": {},
   "outputs": [
    {
     "name": "stdout",
     "output_type": "stream",
     "text": [
      "Cantidad de datos con registros faltantes en alguna de las variables: 0\n",
      "\n",
      "\n",
      " Cantidad de datos con registros completos: 1767691\n"
     ]
    }
   ],
   "source": [
    "registros_completos = df.dropna()\n",
    "registros_faltantes = df[df.isnull().any(axis=1)]\n",
    "print(\"Cantidad de datos con registros faltantes en alguna de las variables:\", len(registros_faltantes))\n",
    "print(\"\\n\\n Cantidad de datos con registros completos:\", len(registros_completos))"
   ]
  },
  {
   "cell_type": "code",
   "execution_count": 450,
   "id": "fc51a434-5ea1-4618-8a8b-8e3fd0fbc600",
   "metadata": {},
   "outputs": [
    {
     "data": {
      "text/html": [
       "<div>\n",
       "<style scoped>\n",
       "    .dataframe tbody tr th:only-of-type {\n",
       "        vertical-align: middle;\n",
       "    }\n",
       "\n",
       "    .dataframe tbody tr th {\n",
       "        vertical-align: top;\n",
       "    }\n",
       "\n",
       "    .dataframe thead th {\n",
       "        text-align: right;\n",
       "    }\n",
       "</style>\n",
       "<table border=\"1\" class=\"dataframe\">\n",
       "  <thead>\n",
       "    <tr style=\"text-align: right;\">\n",
       "      <th></th>\n",
       "      <th>IDENTIFICACION</th>\n",
       "      <th>NUMERO_TARJETA</th>\n",
       "      <th>fecha_corte</th>\n",
       "      <th>dias_sistema</th>\n",
       "      <th>CUPO</th>\n",
       "      <th>mora_1_a</th>\n",
       "      <th>mora_2_a</th>\n",
       "      <th>P_MP6</th>\n",
       "      <th>TP_pp</th>\n",
       "      <th>PR_1_D</th>\n",
       "      <th>PR_O_D</th>\n",
       "      <th>C_AuM</th>\n",
       "      <th>marca_default</th>\n",
       "    </tr>\n",
       "  </thead>\n",
       "  <tbody>\n",
       "  </tbody>\n",
       "</table>\n",
       "</div>"
      ],
      "text/plain": [
       "Empty DataFrame\n",
       "Columns: [IDENTIFICACION, NUMERO_TARJETA, fecha_corte, dias_sistema, CUPO, mora_1_a, mora_2_a, P_MP6, TP_pp, PR_1_D, PR_O_D, C_AuM, marca_default]\n",
       "Index: []"
      ]
     },
     "execution_count": 450,
     "metadata": {},
     "output_type": "execute_result"
    }
   ],
   "source": [
    "registros_faltantes"
   ]
  },
  {
   "cell_type": "code",
   "execution_count": 451,
   "id": "74448023-3ce4-4e3b-aa54-239cf169e794",
   "metadata": {},
   "outputs": [],
   "source": [
    "#df['mora_1_a'].fillna(0, inplace=True)\n",
    "#df['mora_2_a'].fillna(0, inplace=True)"
   ]
  },
  {
   "cell_type": "code",
   "execution_count": 452,
   "id": "72d5019c-e202-408e-aeea-ba38bf2ce046",
   "metadata": {},
   "outputs": [
    {
     "name": "stdout",
     "output_type": "stream",
     "text": [
      "Cantidad de datos con registros faltantes en alguna de las variables: 0\n",
      "\n",
      "\n",
      " Cantidad de datos con registros completos: 1767691\n"
     ]
    }
   ],
   "source": [
    "registros_completos = df.dropna()\n",
    "registros_faltantes = df[df.isnull().any(axis=1)]\n",
    "print(\"Cantidad de datos con registros faltantes en alguna de las variables:\", len(registros_faltantes))\n",
    "print(\"\\n\\n Cantidad de datos con registros completos:\", len(registros_completos))"
   ]
  },
  {
   "cell_type": "code",
   "execution_count": 453,
   "id": "f839bf15-3f87-4c1c-93a9-0d0c9f7eb4b0",
   "metadata": {},
   "outputs": [],
   "source": [
    "df=registros_completos"
   ]
  },
  {
   "cell_type": "code",
   "execution_count": 454,
   "id": "13775d51-35d6-4859-a084-9a6fa93b37ba",
   "metadata": {},
   "outputs": [
    {
     "data": {
      "text/html": [
       "<div>\n",
       "<style scoped>\n",
       "    .dataframe tbody tr th:only-of-type {\n",
       "        vertical-align: middle;\n",
       "    }\n",
       "\n",
       "    .dataframe tbody tr th {\n",
       "        vertical-align: top;\n",
       "    }\n",
       "\n",
       "    .dataframe thead th {\n",
       "        text-align: right;\n",
       "    }\n",
       "</style>\n",
       "<table border=\"1\" class=\"dataframe\">\n",
       "  <thead>\n",
       "    <tr style=\"text-align: right;\">\n",
       "      <th></th>\n",
       "      <th>IDENTIFICACION</th>\n",
       "      <th>NUMERO_TARJETA</th>\n",
       "      <th>fecha_corte</th>\n",
       "      <th>dias_sistema</th>\n",
       "      <th>CUPO</th>\n",
       "      <th>mora_1_a</th>\n",
       "      <th>mora_2_a</th>\n",
       "      <th>P_MP6</th>\n",
       "      <th>TP_pp</th>\n",
       "      <th>PR_1_D</th>\n",
       "      <th>PR_O_D</th>\n",
       "      <th>C_AuM</th>\n",
       "      <th>marca_default</th>\n",
       "    </tr>\n",
       "  </thead>\n",
       "  <tbody>\n",
       "  </tbody>\n",
       "</table>\n",
       "</div>"
      ],
      "text/plain": [
       "Empty DataFrame\n",
       "Columns: [IDENTIFICACION, NUMERO_TARJETA, fecha_corte, dias_sistema, CUPO, mora_1_a, mora_2_a, P_MP6, TP_pp, PR_1_D, PR_O_D, C_AuM, marca_default]\n",
       "Index: []"
      ]
     },
     "execution_count": 454,
     "metadata": {},
     "output_type": "execute_result"
    }
   ],
   "source": [
    "df[df.isnull().any(axis=1)]"
   ]
  },
  {
   "cell_type": "markdown",
   "id": "58bb000e-9b38-4c24-8ceb-f6365166115a",
   "metadata": {},
   "source": [
    "### Aquí se define el threshold del modelo"
   ]
  },
  {
   "cell_type": "code",
   "execution_count": 455,
   "id": "b6fea94e-6509-4b51-b3b7-85a42f83ff6d",
   "metadata": {
    "tags": []
   },
   "outputs": [],
   "source": [
    "#Ajustar para que el modelo clasifique. \n",
    "proba=0.5"
   ]
  },
  {
   "cell_type": "markdown",
   "id": "d97ff750-9653-47a2-9bec-c0fcbb1ce8f3",
   "metadata": {},
   "source": [
    "### Entrenamiento Mayo 2023"
   ]
  },
  {
   "cell_type": "code",
   "execution_count": 456,
   "id": "d217bf28-ec86-4500-b9ad-87915476cce2",
   "metadata": {},
   "outputs": [],
   "source": [
    "variables3=['dias_sistema','P_MP6','TP_pp','CUPO','mora_1_a','PR_O_D','mora_2_a','C_AuM','PR_1_D','marca_default']"
   ]
  },
  {
   "cell_type": "code",
   "execution_count": 457,
   "id": "02a0065c-8dd2-45c7-979e-a6b702bb7e89",
   "metadata": {},
   "outputs": [
    {
     "name": "stderr",
     "output_type": "stream",
     "text": [
      "C:\\Users\\damartinezp\\AppData\\Local\\Temp\\ipykernel_172\\170707402.py:10: SettingWithCopyWarning: \n",
      "A value is trying to be set on a copy of a slice from a DataFrame.\n",
      "Try using .loc[row_indexer,col_indexer] = value instead\n",
      "\n",
      "See the caveats in the documentation: https://pandas.pydata.org/pandas-docs/stable/user_guide/indexing.html#returning-a-view-versus-a-copy\n",
      "  df1[cuantis] = scaler.fit_transform(df1[cuantis])\n"
     ]
    }
   ],
   "source": [
    "#OPCIÓN DE SELECCIÓN DE VARIABLES DE ACUERDO AL STEPWISE\n",
    "df1=df[variables3]\n",
    "df1.describe()\n",
    "\n",
    "#Pruebas VIF \"PR_AGRUP\" , \"P_Dis\"  ,\"FRANJA_0_D\" ,\"P_Dis\" \"FRANJA_31_90_D\",  Cuanti \n",
    "cuantis=[\"dias_sistema\", \"CUPO\", \"mora_1_a\", \"mora_2_a\"]\n",
    "cualis=[\"marca_default\", \"P_MP6\", \"TP_pp\", \"PR_O_D\",\"C_AuM\", \"PR_1_D\"]\n",
    "\n",
    "scaler = MinMaxScaler()\n",
    "df1[cuantis] = scaler.fit_transform(df1[cuantis])\n",
    "\n",
    "#Guarda el escalador de las variables cuantitativas\n",
    "joblib.dump(scaler, 'escalador_minmax_modelo.pkl') \n",
    "\n",
    "for i in cualis:\n",
    "    labelencoder = LabelEncoder()\n",
    "    df1.loc[:, i] = labelencoder.fit_transform(df1[i])\n",
    "\n",
    "train_size=0.8\n",
    "train, test = model_selection.train_test_split(df1,train_size=int(train_size*len(df1)), stratify=df1[\"marca_default\"], random_state=seed)"
   ]
  },
  {
   "cell_type": "code",
   "execution_count": 458,
   "id": "3a4a0611-7f9b-4f8f-885c-5031826b67c4",
   "metadata": {},
   "outputs": [
    {
     "name": "stdout",
     "output_type": "stream",
     "text": [
      "Mínimos de los datos escalados: [    0. 50000.     0.     0.]\n",
      "Máximos de los datos escalados: [9.0e+01 6.6e+06 1.2e+02 1.5e+02]\n",
      "Escala de los datos escalados: [1.11111111e-02 1.52671756e-07 8.33333333e-03 6.66666667e-03]\n",
      "Mínimos deseados: [ 0.         -0.00763359  0.          0.        ]\n"
     ]
    }
   ],
   "source": [
    "# Mostramos los resultados\n",
    "print(\"Mínimos de los datos escalados:\", scaler.data_min_)\n",
    "print(\"Máximos de los datos escalados:\", scaler.data_max_)\n",
    "print(\"Escala de los datos escalados:\", scaler.scale_)\n",
    "print(\"Mínimos deseados:\", scaler.min_)"
   ]
  },
  {
   "cell_type": "code",
   "execution_count": 459,
   "id": "f3ea54c5-ee75-464e-8c95-9e67e8088fc8",
   "metadata": {},
   "outputs": [],
   "source": [
    "#Métricas de evaluación:\n",
    "def calMetrics(cm):\n",
    "  #Se toman de esta forma los valores para que la clase positiva sea {1}\n",
    "  TN = cm[0,0]\n",
    "  TP = cm[1,1]\n",
    "  FN = cm[1,0]\n",
    "  FP = cm[0,1]\n",
    "  acc = round(((TP + TN) / (TP + TN + FP + FN))*100,2)          #Accuracy\n",
    "  err = round((1 - ((TP + TN) / (TP + TN + FP + FN)))*100,2)    #Tasa de error \n",
    "  se = round((TP / (TP + FN))*100,2)                            #Sensibilidad o Recall\n",
    "  sp = round((TN / ( TN + FP))*100,2)                          #Especificidad \n",
    "  prec = round((TP / (TP + FP))*100,2)                          #Precision\n",
    "  FPR = round((FP / (FP + TN))*100,2)                           #Tasa de falsos positivos\n",
    "  return acc,err,se,sp,prec,FPR\n",
    "\n",
    "#Métricas de evaluación con librerias \n",
    "def calMetrics2(y_val_fold, y_pred_labels):\n",
    "    accuracy = accuracy_score(y_val_fold, y_pred_labels)\n",
    "    precision = precision_score(y_val_fold, y_pred_labels)\n",
    "    recall = recall_score(y_val_fold, y_pred_labels)\n",
    "    f1 = round(f1_score(y_val_fold, y_pred_labels)*100,2)\n",
    "    roc_auc = round(roc_auc_score(y_val_fold, y_pred_labels)*100,2)\n",
    "    conf_matrix = confusion_matrix(y_val_fold, y_pred_labels)\n",
    "    return accuracy,precision,recall,f1,roc_auc"
   ]
  },
  {
   "cell_type": "markdown",
   "id": "80bcb806-cc8a-4122-9c17-affe5641d33b",
   "metadata": {
    "tags": []
   },
   "source": [
    "##### Tasa de aprendizaje 0.1 y profundidad 3"
   ]
  },
  {
   "cell_type": "code",
   "execution_count": 460,
   "id": "9ebd2451-dcb5-4bde-a882-0620c2f17d47",
   "metadata": {},
   "outputs": [
    {
     "name": "stderr",
     "output_type": "stream",
     "text": [
      "C:\\Users\\damartinezp\\AppData\\Roaming\\Python\\Python39\\site-packages\\xgboost\\core.py:160: UserWarning: [13:02:55] WARNING: C:\\buildkite-agent\\builds\\buildkite-windows-cpu-autoscaling-group-i-0b3782d1791676daf-1\\xgboost\\xgboost-ci-windows\\src\\c_api\\c_api.cc:1240: Saving into deprecated binary model format, please consider using `json` or `ubj`. Model format will default to JSON in XGBoost 2.2 if not specified.\n",
      "  warnings.warn(smsg, UserWarning)\n",
      "C:\\Users\\damartinezp\\AppData\\Roaming\\Python\\Python39\\site-packages\\xgboost\\core.py:160: UserWarning: [13:03:01] WARNING: C:\\buildkite-agent\\builds\\buildkite-windows-cpu-autoscaling-group-i-0b3782d1791676daf-1\\xgboost\\xgboost-ci-windows\\src\\c_api\\c_api.cc:1240: Saving into deprecated binary model format, please consider using `json` or `ubj`. Model format will default to JSON in XGBoost 2.2 if not specified.\n",
      "  warnings.warn(smsg, UserWarning)\n",
      "C:\\Users\\damartinezp\\AppData\\Roaming\\Python\\Python39\\site-packages\\xgboost\\core.py:160: UserWarning: [13:03:07] WARNING: C:\\buildkite-agent\\builds\\buildkite-windows-cpu-autoscaling-group-i-0b3782d1791676daf-1\\xgboost\\xgboost-ci-windows\\src\\c_api\\c_api.cc:1240: Saving into deprecated binary model format, please consider using `json` or `ubj`. Model format will default to JSON in XGBoost 2.2 if not specified.\n",
      "  warnings.warn(smsg, UserWarning)\n",
      "C:\\Users\\damartinezp\\AppData\\Roaming\\Python\\Python39\\site-packages\\xgboost\\core.py:160: UserWarning: [13:03:14] WARNING: C:\\buildkite-agent\\builds\\buildkite-windows-cpu-autoscaling-group-i-0b3782d1791676daf-1\\xgboost\\xgboost-ci-windows\\src\\c_api\\c_api.cc:1240: Saving into deprecated binary model format, please consider using `json` or `ubj`. Model format will default to JSON in XGBoost 2.2 if not specified.\n",
      "  warnings.warn(smsg, UserWarning)\n",
      "C:\\Users\\damartinezp\\AppData\\Roaming\\Python\\Python39\\site-packages\\xgboost\\core.py:160: UserWarning: [13:03:20] WARNING: C:\\buildkite-agent\\builds\\buildkite-windows-cpu-autoscaling-group-i-0b3782d1791676daf-1\\xgboost\\xgboost-ci-windows\\src\\c_api\\c_api.cc:1240: Saving into deprecated binary model format, please consider using `json` or `ubj`. Model format will default to JSON in XGBoost 2.2 if not specified.\n",
      "  warnings.warn(smsg, UserWarning)\n",
      "C:\\Users\\damartinezp\\AppData\\Roaming\\Python\\Python39\\site-packages\\xgboost\\core.py:160: UserWarning: [13:03:26] WARNING: C:\\buildkite-agent\\builds\\buildkite-windows-cpu-autoscaling-group-i-0b3782d1791676daf-1\\xgboost\\xgboost-ci-windows\\src\\c_api\\c_api.cc:1240: Saving into deprecated binary model format, please consider using `json` or `ubj`. Model format will default to JSON in XGBoost 2.2 if not specified.\n",
      "  warnings.warn(smsg, UserWarning)\n",
      "C:\\Users\\damartinezp\\AppData\\Roaming\\Python\\Python39\\site-packages\\xgboost\\core.py:160: UserWarning: [13:03:33] WARNING: C:\\buildkite-agent\\builds\\buildkite-windows-cpu-autoscaling-group-i-0b3782d1791676daf-1\\xgboost\\xgboost-ci-windows\\src\\c_api\\c_api.cc:1240: Saving into deprecated binary model format, please consider using `json` or `ubj`. Model format will default to JSON in XGBoost 2.2 if not specified.\n",
      "  warnings.warn(smsg, UserWarning)\n",
      "C:\\Users\\damartinezp\\AppData\\Roaming\\Python\\Python39\\site-packages\\xgboost\\core.py:160: UserWarning: [13:03:39] WARNING: C:\\buildkite-agent\\builds\\buildkite-windows-cpu-autoscaling-group-i-0b3782d1791676daf-1\\xgboost\\xgboost-ci-windows\\src\\c_api\\c_api.cc:1240: Saving into deprecated binary model format, please consider using `json` or `ubj`. Model format will default to JSON in XGBoost 2.2 if not specified.\n",
      "  warnings.warn(smsg, UserWarning)\n",
      "C:\\Users\\damartinezp\\AppData\\Roaming\\Python\\Python39\\site-packages\\xgboost\\core.py:160: UserWarning: [13:03:46] WARNING: C:\\buildkite-agent\\builds\\buildkite-windows-cpu-autoscaling-group-i-0b3782d1791676daf-1\\xgboost\\xgboost-ci-windows\\src\\c_api\\c_api.cc:1240: Saving into deprecated binary model format, please consider using `json` or `ubj`. Model format will default to JSON in XGBoost 2.2 if not specified.\n",
      "  warnings.warn(smsg, UserWarning)\n"
     ]
    },
    {
     "name": "stdout",
     "output_type": "stream",
     "text": [
      "     Acc    Err     Re     Sp    Pre   FPR     F1  ROC_AUC\n",
      "0  79.84  20.16  38.99  92.89  63.66  7.11  48.36    65.94\n",
      "1  79.75  20.25  38.30  92.77  62.45  7.23  47.48    65.53\n",
      "2  79.89  20.11  39.75  92.70  63.50  7.30  48.89    66.23\n",
      "3  80.11  19.89  39.36  92.96  63.83  7.04  48.69    66.16\n",
      "4  80.12  19.88  39.34  92.97  63.80  7.03  48.67    66.15\n",
      "5  79.86  20.14  38.63  92.95  63.50  7.05  48.04    65.79\n",
      "6  80.15  19.85  39.30  92.96  63.63  7.04  48.59    66.13\n",
      "7  79.92  20.08  40.06  92.54  62.96  7.46  48.97    66.30\n",
      "8  79.81  20.19  39.47  92.67  63.18  7.33  48.59    66.07\n",
      "9  79.93  20.07  38.58  92.90  63.06  7.10  47.87    65.74\n"
     ]
    },
    {
     "name": "stderr",
     "output_type": "stream",
     "text": [
      "C:\\Users\\damartinezp\\AppData\\Roaming\\Python\\Python39\\site-packages\\xgboost\\core.py:160: UserWarning: [13:03:52] WARNING: C:\\buildkite-agent\\builds\\buildkite-windows-cpu-autoscaling-group-i-0b3782d1791676daf-1\\xgboost\\xgboost-ci-windows\\src\\c_api\\c_api.cc:1240: Saving into deprecated binary model format, please consider using `json` or `ubj`. Model format will default to JSON in XGBoost 2.2 if not specified.\n",
      "  warnings.warn(smsg, UserWarning)\n"
     ]
    },
    {
     "data": {
      "text/plain": [
       "Acc        79.938\n",
       "Err        20.062\n",
       "Re         39.178\n",
       "Sp         92.831\n",
       "Pre        63.357\n",
       "FPR         7.169\n",
       "F1         48.415\n",
       "ROC_AUC    66.004\n",
       "Name: mean, dtype: float64"
      ]
     },
     "execution_count": 460,
     "metadata": {},
     "output_type": "execute_result"
    }
   ],
   "source": [
    "import os\n",
    "\n",
    "# Asegurarse de que el directorio exista\n",
    "save_dir = 'saved_model0/XGBoost01_3/'\n",
    "os.makedirs(save_dir, exist_ok=True)  # Crea el directorio si no existe\n",
    "\n",
    "params = {\n",
    "    \"objective\": \"binary:logistic\",\n",
    "    \"eval_metric\": \"logloss\",\n",
    "    \"eta\": 0.1,\n",
    "    \"max_depth\":3,\n",
    "    \"subsample\":0.8,\n",
    "    \"colsample_bytree\":0.8,\n",
    "    \"seed\":42\n",
    "}\n",
    "\n",
    "num_folds=10\n",
    "kfold=StratifiedKFold(n_splits=num_folds, shuffle=False)\n",
    "\n",
    "np.random.seed(seed)\n",
    "indices = np.random.permutation(len(train))\n",
    "\n",
    "matrixXGBoost=pd.DataFrame()\n",
    "fold_no=1\n",
    "for train_idx, val_idx in kfold.split(train, train[\"marca_default\"]):\n",
    "    \n",
    "    train_indices = indices[train_idx]\n",
    "    val_indices = indices[val_idx]\n",
    "    train_matrix=train.drop([\"marca_default\"], axis=1)\n",
    "\n",
    "    X_train, X_val = train_matrix.iloc[train_indices], train_matrix.iloc[val_indices]\n",
    "    y_train_fold, y_val_fold = train[\"marca_default\"].iloc[train_indices], train[\"marca_default\"].iloc[val_indices]\n",
    "    \n",
    "    dtrain= xgb.DMatrix(X_train, label=y_train_fold)\n",
    "    dval= xgb.DMatrix(X_val, label=y_val_fold)\n",
    "    model=xgb.train(params, dtrain, num_boost_round=100)\n",
    "    \n",
    "    y_pred_proba=model.predict(dval)\n",
    "    y_pred_labels= np.round(y_pred_proba>=0.5).astype(int)\n",
    "    \n",
    "    cm=confusion_matrix(y_val_fold, y_pred_labels)\n",
    "    \n",
    "    acc, err, se, sp, prec, FPR =calMetrics(cm)\n",
    "    accuracy, precision, recall, f1, roc_auc=calMetrics2(y_val_fold, y_pred_labels)\n",
    "    \n",
    "    matrix={\n",
    "        \"Acc\": acc,\n",
    "        \"Err\": err,\n",
    "        \"Re\": se,\n",
    "        \"Sp\": sp,\n",
    "        \"Pre\": prec,\n",
    "        \"FPR\": FPR,\n",
    "        \"F1\":f1,\n",
    "        \"ROC_AUC\": roc_auc\n",
    "    }\n",
    "\n",
    "    matrixXGBoost = pd.concat([matrixXGBoost, pd.DataFrame([matrix])], ignore_index=True)\n",
    "    \n",
    "    model.save_model(f'saved_model0/XGBoost01_3/{fold_no}.model')\n",
    "    \n",
    "    fold_no +=1\n",
    "\n",
    "print(matrixXGBoost)\n",
    "\n",
    "matrixXGBoost.describe().loc['mean']"
   ]
  },
  {
   "cell_type": "markdown",
   "id": "ae244ef8-fe50-49d3-b185-99ccd748ec1c",
   "metadata": {
    "tags": []
   },
   "source": [
    "##### Tasa de aprendizaje 0.1 y profundidad 5"
   ]
  },
  {
   "cell_type": "code",
   "execution_count": 461,
   "id": "35cb1c2d-32ce-4c25-bb5c-fc46b6fd2267",
   "metadata": {},
   "outputs": [
    {
     "name": "stderr",
     "output_type": "stream",
     "text": [
      "C:\\Users\\damartinezp\\AppData\\Roaming\\Python\\Python39\\site-packages\\xgboost\\core.py:160: UserWarning: [13:04:01] WARNING: C:\\buildkite-agent\\builds\\buildkite-windows-cpu-autoscaling-group-i-0b3782d1791676daf-1\\xgboost\\xgboost-ci-windows\\src\\c_api\\c_api.cc:1240: Saving into deprecated binary model format, please consider using `json` or `ubj`. Model format will default to JSON in XGBoost 2.2 if not specified.\n",
      "  warnings.warn(smsg, UserWarning)\n",
      "C:\\Users\\damartinezp\\AppData\\Roaming\\Python\\Python39\\site-packages\\xgboost\\core.py:160: UserWarning: [13:04:09] WARNING: C:\\buildkite-agent\\builds\\buildkite-windows-cpu-autoscaling-group-i-0b3782d1791676daf-1\\xgboost\\xgboost-ci-windows\\src\\c_api\\c_api.cc:1240: Saving into deprecated binary model format, please consider using `json` or `ubj`. Model format will default to JSON in XGBoost 2.2 if not specified.\n",
      "  warnings.warn(smsg, UserWarning)\n",
      "C:\\Users\\damartinezp\\AppData\\Roaming\\Python\\Python39\\site-packages\\xgboost\\core.py:160: UserWarning: [13:04:17] WARNING: C:\\buildkite-agent\\builds\\buildkite-windows-cpu-autoscaling-group-i-0b3782d1791676daf-1\\xgboost\\xgboost-ci-windows\\src\\c_api\\c_api.cc:1240: Saving into deprecated binary model format, please consider using `json` or `ubj`. Model format will default to JSON in XGBoost 2.2 if not specified.\n",
      "  warnings.warn(smsg, UserWarning)\n",
      "C:\\Users\\damartinezp\\AppData\\Roaming\\Python\\Python39\\site-packages\\xgboost\\core.py:160: UserWarning: [13:04:25] WARNING: C:\\buildkite-agent\\builds\\buildkite-windows-cpu-autoscaling-group-i-0b3782d1791676daf-1\\xgboost\\xgboost-ci-windows\\src\\c_api\\c_api.cc:1240: Saving into deprecated binary model format, please consider using `json` or `ubj`. Model format will default to JSON in XGBoost 2.2 if not specified.\n",
      "  warnings.warn(smsg, UserWarning)\n",
      "C:\\Users\\damartinezp\\AppData\\Roaming\\Python\\Python39\\site-packages\\xgboost\\core.py:160: UserWarning: [13:04:34] WARNING: C:\\buildkite-agent\\builds\\buildkite-windows-cpu-autoscaling-group-i-0b3782d1791676daf-1\\xgboost\\xgboost-ci-windows\\src\\c_api\\c_api.cc:1240: Saving into deprecated binary model format, please consider using `json` or `ubj`. Model format will default to JSON in XGBoost 2.2 if not specified.\n",
      "  warnings.warn(smsg, UserWarning)\n",
      "C:\\Users\\damartinezp\\AppData\\Roaming\\Python\\Python39\\site-packages\\xgboost\\core.py:160: UserWarning: [13:04:42] WARNING: C:\\buildkite-agent\\builds\\buildkite-windows-cpu-autoscaling-group-i-0b3782d1791676daf-1\\xgboost\\xgboost-ci-windows\\src\\c_api\\c_api.cc:1240: Saving into deprecated binary model format, please consider using `json` or `ubj`. Model format will default to JSON in XGBoost 2.2 if not specified.\n",
      "  warnings.warn(smsg, UserWarning)\n",
      "C:\\Users\\damartinezp\\AppData\\Roaming\\Python\\Python39\\site-packages\\xgboost\\core.py:160: UserWarning: [13:04:52] WARNING: C:\\buildkite-agent\\builds\\buildkite-windows-cpu-autoscaling-group-i-0b3782d1791676daf-1\\xgboost\\xgboost-ci-windows\\src\\c_api\\c_api.cc:1240: Saving into deprecated binary model format, please consider using `json` or `ubj`. Model format will default to JSON in XGBoost 2.2 if not specified.\n",
      "  warnings.warn(smsg, UserWarning)\n",
      "C:\\Users\\damartinezp\\AppData\\Roaming\\Python\\Python39\\site-packages\\xgboost\\core.py:160: UserWarning: [13:05:00] WARNING: C:\\buildkite-agent\\builds\\buildkite-windows-cpu-autoscaling-group-i-0b3782d1791676daf-1\\xgboost\\xgboost-ci-windows\\src\\c_api\\c_api.cc:1240: Saving into deprecated binary model format, please consider using `json` or `ubj`. Model format will default to JSON in XGBoost 2.2 if not specified.\n",
      "  warnings.warn(smsg, UserWarning)\n",
      "C:\\Users\\damartinezp\\AppData\\Roaming\\Python\\Python39\\site-packages\\xgboost\\core.py:160: UserWarning: [13:05:08] WARNING: C:\\buildkite-agent\\builds\\buildkite-windows-cpu-autoscaling-group-i-0b3782d1791676daf-1\\xgboost\\xgboost-ci-windows\\src\\c_api\\c_api.cc:1240: Saving into deprecated binary model format, please consider using `json` or `ubj`. Model format will default to JSON in XGBoost 2.2 if not specified.\n",
      "  warnings.warn(smsg, UserWarning)\n"
     ]
    },
    {
     "name": "stdout",
     "output_type": "stream",
     "text": [
      "     Acc    Err     Re     Sp    Pre   FPR     F1  ROC_AUC\n",
      "0  80.44  19.56  40.73  93.12  65.42  6.88  50.20    66.93\n",
      "1  80.34  19.66  40.71  92.79  63.93  7.21  49.74    66.75\n",
      "2  80.48  19.52  41.79  92.84  65.07  7.16  50.89    67.31\n",
      "3  80.63  19.37  41.17  93.08  65.25  6.92  50.49    67.13\n",
      "4  80.68  19.32  41.35  93.08  65.31  6.92  50.64    67.21\n",
      "5  80.49  19.51  41.14  92.98  65.03  7.02  50.40    67.06\n",
      "6  80.65  19.35  41.53  92.91  64.75  7.09  50.60    67.22\n",
      "7  80.55  19.45  41.42  92.94  65.01  7.06  50.60    67.18\n",
      "8  80.35  19.65  41.05  92.87  64.74  7.13  50.24    66.96\n",
      "9  80.48  19.52  40.52  93.03  64.60  6.97  49.81    66.78\n"
     ]
    },
    {
     "name": "stderr",
     "output_type": "stream",
     "text": [
      "C:\\Users\\damartinezp\\AppData\\Roaming\\Python\\Python39\\site-packages\\xgboost\\core.py:160: UserWarning: [13:05:16] WARNING: C:\\buildkite-agent\\builds\\buildkite-windows-cpu-autoscaling-group-i-0b3782d1791676daf-1\\xgboost\\xgboost-ci-windows\\src\\c_api\\c_api.cc:1240: Saving into deprecated binary model format, please consider using `json` or `ubj`. Model format will default to JSON in XGBoost 2.2 if not specified.\n",
      "  warnings.warn(smsg, UserWarning)\n"
     ]
    },
    {
     "data": {
      "text/plain": [
       "Acc        80.509\n",
       "Err        19.491\n",
       "Re         41.141\n",
       "Sp         92.964\n",
       "Pre        64.911\n",
       "FPR         7.036\n",
       "F1         50.361\n",
       "ROC_AUC    67.053\n",
       "Name: mean, dtype: float64"
      ]
     },
     "execution_count": 461,
     "metadata": {},
     "output_type": "execute_result"
    }
   ],
   "source": [
    "import os\n",
    "\n",
    "# Asegurarse de que el directorio exista\n",
    "save_dir = 'saved_model0/XGBoost01_5/'\n",
    "os.makedirs(save_dir, exist_ok=True)  # Crea el directorio si no existe\n",
    "params = {\n",
    "    \"objective\": \"binary:logistic\",\n",
    "    \"eval_metric\": \"logloss\",\n",
    "    \"eta\": 0.1,\n",
    "    \"max_depth\":5,\n",
    "    \"subsample\":0.8,\n",
    "    \"colsample_bytree\":0.8,\n",
    "    \"seed\":42\n",
    "}\n",
    "\n",
    "num_folds=10\n",
    "kfold=StratifiedKFold(n_splits=num_folds, shuffle=False)\n",
    "\n",
    "np.random.seed(seed)\n",
    "indices = np.random.permutation(len(train))\n",
    "\n",
    "matrixXGBoost=pd.DataFrame()\n",
    "fold_no=1\n",
    "for train_idx, val_idx in kfold.split(train, train[\"marca_default\"]):\n",
    "    \n",
    "    train_indices = indices[train_idx]\n",
    "    val_indices = indices[val_idx]\n",
    "    train_matrix=train.drop([\"marca_default\"], axis=1)\n",
    "\n",
    "    X_train, X_val = train_matrix.iloc[train_indices], train_matrix.iloc[val_indices]\n",
    "    y_train_fold, y_val_fold = train[\"marca_default\"].iloc[train_indices], train[\"marca_default\"].iloc[val_indices]\n",
    "    \n",
    "    dtrain= xgb.DMatrix(X_train, label=y_train_fold)\n",
    "    dval= xgb.DMatrix(X_val, label=y_val_fold)\n",
    "    model=xgb.train(params, dtrain, num_boost_round=100)\n",
    "    \n",
    "    y_pred_proba=model.predict(dval)\n",
    "    y_pred_labels= np.round(y_pred_proba>=0.5).astype(int)\n",
    "    \n",
    "    cm=confusion_matrix(y_val_fold, y_pred_labels)\n",
    "    \n",
    "    acc, err, se, sp, prec, FPR =calMetrics(cm)\n",
    "    accuracy, precision, recall, f1, roc_auc=calMetrics2(y_val_fold, y_pred_labels)\n",
    "    \n",
    "    matrix={\n",
    "        \"Acc\": acc,\n",
    "        \"Err\": err,\n",
    "        \"Re\": se,\n",
    "        \"Sp\": sp,\n",
    "        \"Pre\": prec,\n",
    "        \"FPR\": FPR,\n",
    "        \"F1\":f1,\n",
    "        \"ROC_AUC\": roc_auc\n",
    "    }\n",
    "\n",
    "    matrixXGBoost = pd.concat([matrixXGBoost, pd.DataFrame([matrix])], ignore_index=True)\n",
    "    \n",
    "    model.save_model(f'saved_model0/XGBoost01_5/{fold_no}.model')\n",
    "    \n",
    "    fold_no +=1\n",
    "\n",
    "print(matrixXGBoost)\n",
    "\n",
    "matrixXGBoost.describe().loc['mean']"
   ]
  },
  {
   "cell_type": "markdown",
   "id": "d45e0a43-e655-4eac-bb80-ba0162a587bd",
   "metadata": {
    "tags": []
   },
   "source": [
    "##### Tasa de aprendizaje 0.1 y profundidad 7"
   ]
  },
  {
   "cell_type": "code",
   "execution_count": 462,
   "id": "9e7ac6ad-24bb-40ff-a3c7-19c21248a704",
   "metadata": {},
   "outputs": [
    {
     "name": "stderr",
     "output_type": "stream",
     "text": [
      "C:\\Users\\damartinezp\\AppData\\Roaming\\Python\\Python39\\site-packages\\xgboost\\core.py:160: UserWarning: [13:05:26] WARNING: C:\\buildkite-agent\\builds\\buildkite-windows-cpu-autoscaling-group-i-0b3782d1791676daf-1\\xgboost\\xgboost-ci-windows\\src\\c_api\\c_api.cc:1240: Saving into deprecated binary model format, please consider using `json` or `ubj`. Model format will default to JSON in XGBoost 2.2 if not specified.\n",
      "  warnings.warn(smsg, UserWarning)\n",
      "C:\\Users\\damartinezp\\AppData\\Roaming\\Python\\Python39\\site-packages\\xgboost\\core.py:160: UserWarning: [13:05:35] WARNING: C:\\buildkite-agent\\builds\\buildkite-windows-cpu-autoscaling-group-i-0b3782d1791676daf-1\\xgboost\\xgboost-ci-windows\\src\\c_api\\c_api.cc:1240: Saving into deprecated binary model format, please consider using `json` or `ubj`. Model format will default to JSON in XGBoost 2.2 if not specified.\n",
      "  warnings.warn(smsg, UserWarning)\n",
      "C:\\Users\\damartinezp\\AppData\\Roaming\\Python\\Python39\\site-packages\\xgboost\\core.py:160: UserWarning: [13:05:44] WARNING: C:\\buildkite-agent\\builds\\buildkite-windows-cpu-autoscaling-group-i-0b3782d1791676daf-1\\xgboost\\xgboost-ci-windows\\src\\c_api\\c_api.cc:1240: Saving into deprecated binary model format, please consider using `json` or `ubj`. Model format will default to JSON in XGBoost 2.2 if not specified.\n",
      "  warnings.warn(smsg, UserWarning)\n",
      "C:\\Users\\damartinezp\\AppData\\Roaming\\Python\\Python39\\site-packages\\xgboost\\core.py:160: UserWarning: [13:05:54] WARNING: C:\\buildkite-agent\\builds\\buildkite-windows-cpu-autoscaling-group-i-0b3782d1791676daf-1\\xgboost\\xgboost-ci-windows\\src\\c_api\\c_api.cc:1240: Saving into deprecated binary model format, please consider using `json` or `ubj`. Model format will default to JSON in XGBoost 2.2 if not specified.\n",
      "  warnings.warn(smsg, UserWarning)\n",
      "C:\\Users\\damartinezp\\AppData\\Roaming\\Python\\Python39\\site-packages\\xgboost\\core.py:160: UserWarning: [13:06:04] WARNING: C:\\buildkite-agent\\builds\\buildkite-windows-cpu-autoscaling-group-i-0b3782d1791676daf-1\\xgboost\\xgboost-ci-windows\\src\\c_api\\c_api.cc:1240: Saving into deprecated binary model format, please consider using `json` or `ubj`. Model format will default to JSON in XGBoost 2.2 if not specified.\n",
      "  warnings.warn(smsg, UserWarning)\n",
      "C:\\Users\\damartinezp\\AppData\\Roaming\\Python\\Python39\\site-packages\\xgboost\\core.py:160: UserWarning: [13:06:14] WARNING: C:\\buildkite-agent\\builds\\buildkite-windows-cpu-autoscaling-group-i-0b3782d1791676daf-1\\xgboost\\xgboost-ci-windows\\src\\c_api\\c_api.cc:1240: Saving into deprecated binary model format, please consider using `json` or `ubj`. Model format will default to JSON in XGBoost 2.2 if not specified.\n",
      "  warnings.warn(smsg, UserWarning)\n",
      "C:\\Users\\damartinezp\\AppData\\Roaming\\Python\\Python39\\site-packages\\xgboost\\core.py:160: UserWarning: [13:06:24] WARNING: C:\\buildkite-agent\\builds\\buildkite-windows-cpu-autoscaling-group-i-0b3782d1791676daf-1\\xgboost\\xgboost-ci-windows\\src\\c_api\\c_api.cc:1240: Saving into deprecated binary model format, please consider using `json` or `ubj`. Model format will default to JSON in XGBoost 2.2 if not specified.\n",
      "  warnings.warn(smsg, UserWarning)\n",
      "C:\\Users\\damartinezp\\AppData\\Roaming\\Python\\Python39\\site-packages\\xgboost\\core.py:160: UserWarning: [13:06:33] WARNING: C:\\buildkite-agent\\builds\\buildkite-windows-cpu-autoscaling-group-i-0b3782d1791676daf-1\\xgboost\\xgboost-ci-windows\\src\\c_api\\c_api.cc:1240: Saving into deprecated binary model format, please consider using `json` or `ubj`. Model format will default to JSON in XGBoost 2.2 if not specified.\n",
      "  warnings.warn(smsg, UserWarning)\n",
      "C:\\Users\\damartinezp\\AppData\\Roaming\\Python\\Python39\\site-packages\\xgboost\\core.py:160: UserWarning: [13:06:42] WARNING: C:\\buildkite-agent\\builds\\buildkite-windows-cpu-autoscaling-group-i-0b3782d1791676daf-1\\xgboost\\xgboost-ci-windows\\src\\c_api\\c_api.cc:1240: Saving into deprecated binary model format, please consider using `json` or `ubj`. Model format will default to JSON in XGBoost 2.2 if not specified.\n",
      "  warnings.warn(smsg, UserWarning)\n"
     ]
    },
    {
     "name": "stdout",
     "output_type": "stream",
     "text": [
      "     Acc    Err     Re     Sp    Pre   FPR     F1  ROC_AUC\n",
      "0  80.93  19.07  41.66  93.48  67.10  6.52  51.40    67.57\n",
      "1  80.74  19.26  40.81  93.28  65.59  6.72  50.31    67.04\n",
      "2  80.86  19.14  42.30  93.17  66.41  6.83  51.68    67.73\n",
      "3  81.08  18.92  41.88  93.45  66.86  6.55  51.50    67.66\n",
      "4  81.13  18.87  41.92  93.49  66.98  6.51  51.57    67.70\n",
      "5  80.89  19.11  41.52  93.39  66.60  6.61  51.15    67.45\n",
      "6  81.13  18.87  41.62  93.52  66.81  6.48  51.29    67.57\n",
      "7  81.04  18.96  41.98  93.40  66.83  6.60  51.57    67.69\n",
      "8  80.86  19.14  41.94  93.27  66.50  6.73  51.44    67.61\n",
      "9  80.88  19.12  40.85  93.45  66.21  6.55  50.52    67.15\n"
     ]
    },
    {
     "name": "stderr",
     "output_type": "stream",
     "text": [
      "C:\\Users\\damartinezp\\AppData\\Roaming\\Python\\Python39\\site-packages\\xgboost\\core.py:160: UserWarning: [13:06:52] WARNING: C:\\buildkite-agent\\builds\\buildkite-windows-cpu-autoscaling-group-i-0b3782d1791676daf-1\\xgboost\\xgboost-ci-windows\\src\\c_api\\c_api.cc:1240: Saving into deprecated binary model format, please consider using `json` or `ubj`. Model format will default to JSON in XGBoost 2.2 if not specified.\n",
      "  warnings.warn(smsg, UserWarning)\n"
     ]
    },
    {
     "data": {
      "text/plain": [
       "Acc        80.954\n",
       "Err        19.046\n",
       "Re         41.648\n",
       "Sp         93.390\n",
       "Pre        66.589\n",
       "FPR         6.610\n",
       "F1         51.243\n",
       "ROC_AUC    67.517\n",
       "Name: mean, dtype: float64"
      ]
     },
     "execution_count": 462,
     "metadata": {},
     "output_type": "execute_result"
    }
   ],
   "source": [
    "import os\n",
    "\n",
    "# Asegurarse de que el directorio exista\n",
    "save_dir = 'saved_model0/XGBoost01_7/'\n",
    "os.makedirs(save_dir, exist_ok=True)  # Crea el directorio si no existe\n",
    "params = {\n",
    "    \"objective\": \"binary:logistic\",\n",
    "    \"eval_metric\": \"logloss\",\n",
    "    \"eta\": 0.1,\n",
    "    \"max_depth\":7,\n",
    "    \"subsample\":0.8,\n",
    "    \"colsample_bytree\":0.8,\n",
    "    \"seed\":42\n",
    "}\n",
    "\n",
    "num_folds=10\n",
    "kfold=StratifiedKFold(n_splits=num_folds, shuffle=False)\n",
    "\n",
    "np.random.seed(seed)\n",
    "indices = np.random.permutation(len(train))\n",
    "\n",
    "matrixXGBoost=pd.DataFrame()\n",
    "fold_no=1\n",
    "for train_idx, val_idx in kfold.split(train, train[\"marca_default\"]):\n",
    "    \n",
    "    train_indices = indices[train_idx]\n",
    "    val_indices = indices[val_idx]\n",
    "    train_matrix=train.drop([\"marca_default\"], axis=1)\n",
    "\n",
    "    X_train, X_val = train_matrix.iloc[train_indices], train_matrix.iloc[val_indices]\n",
    "    y_train_fold, y_val_fold = train[\"marca_default\"].iloc[train_indices], train[\"marca_default\"].iloc[val_indices]\n",
    "    \n",
    "    dtrain= xgb.DMatrix(X_train, label=y_train_fold)\n",
    "    dval= xgb.DMatrix(X_val, label=y_val_fold)\n",
    "    model=xgb.train(params, dtrain, num_boost_round=100)\n",
    "    \n",
    "    y_pred_proba=model.predict(dval)\n",
    "    y_pred_labels= np.round(y_pred_proba>=0.5).astype(int)\n",
    "    \n",
    "    cm=confusion_matrix(y_val_fold, y_pred_labels)\n",
    "    \n",
    "    acc, err, se, sp, prec, FPR =calMetrics(cm)\n",
    "    accuracy, precision, recall, f1, roc_auc=calMetrics2(y_val_fold, y_pred_labels)\n",
    "    \n",
    "    matrix={\n",
    "        \"Acc\": acc,\n",
    "        \"Err\": err,\n",
    "        \"Re\": se,\n",
    "        \"Sp\": sp,\n",
    "        \"Pre\": prec,\n",
    "        \"FPR\": FPR,\n",
    "        \"F1\":f1,\n",
    "        \"ROC_AUC\": roc_auc\n",
    "    }\n",
    "\n",
    "    matrixXGBoost = pd.concat([matrixXGBoost, pd.DataFrame([matrix])], ignore_index=True)\n",
    "    \n",
    "    model.save_model(f'saved_model0/XGBoost01_7/{fold_no}.model')\n",
    "    \n",
    "    fold_no +=1\n",
    "\n",
    "print(matrixXGBoost)\n",
    "\n",
    "matrixXGBoost.describe().loc['mean']"
   ]
  },
  {
   "cell_type": "markdown",
   "id": "2265a846-dfb9-4248-9e05-b36fb76347cd",
   "metadata": {
    "tags": []
   },
   "source": [
    "##### Tasa de aprendizaje 0.1 y profundidad 9"
   ]
  },
  {
   "cell_type": "code",
   "execution_count": 463,
   "id": "fde2ba6b-bc24-49e8-aded-8a0ac6e5095c",
   "metadata": {},
   "outputs": [
    {
     "name": "stderr",
     "output_type": "stream",
     "text": [
      "C:\\Users\\damartinezp\\AppData\\Roaming\\Python\\Python39\\site-packages\\xgboost\\core.py:160: UserWarning: [13:07:06] WARNING: C:\\buildkite-agent\\builds\\buildkite-windows-cpu-autoscaling-group-i-0b3782d1791676daf-1\\xgboost\\xgboost-ci-windows\\src\\c_api\\c_api.cc:1240: Saving into deprecated binary model format, please consider using `json` or `ubj`. Model format will default to JSON in XGBoost 2.2 if not specified.\n",
      "  warnings.warn(smsg, UserWarning)\n",
      "C:\\Users\\damartinezp\\AppData\\Roaming\\Python\\Python39\\site-packages\\xgboost\\core.py:160: UserWarning: [13:07:19] WARNING: C:\\buildkite-agent\\builds\\buildkite-windows-cpu-autoscaling-group-i-0b3782d1791676daf-1\\xgboost\\xgboost-ci-windows\\src\\c_api\\c_api.cc:1240: Saving into deprecated binary model format, please consider using `json` or `ubj`. Model format will default to JSON in XGBoost 2.2 if not specified.\n",
      "  warnings.warn(smsg, UserWarning)\n",
      "C:\\Users\\damartinezp\\AppData\\Roaming\\Python\\Python39\\site-packages\\xgboost\\core.py:160: UserWarning: [13:07:31] WARNING: C:\\buildkite-agent\\builds\\buildkite-windows-cpu-autoscaling-group-i-0b3782d1791676daf-1\\xgboost\\xgboost-ci-windows\\src\\c_api\\c_api.cc:1240: Saving into deprecated binary model format, please consider using `json` or `ubj`. Model format will default to JSON in XGBoost 2.2 if not specified.\n",
      "  warnings.warn(smsg, UserWarning)\n",
      "C:\\Users\\damartinezp\\AppData\\Roaming\\Python\\Python39\\site-packages\\xgboost\\core.py:160: UserWarning: [13:07:42] WARNING: C:\\buildkite-agent\\builds\\buildkite-windows-cpu-autoscaling-group-i-0b3782d1791676daf-1\\xgboost\\xgboost-ci-windows\\src\\c_api\\c_api.cc:1240: Saving into deprecated binary model format, please consider using `json` or `ubj`. Model format will default to JSON in XGBoost 2.2 if not specified.\n",
      "  warnings.warn(smsg, UserWarning)\n",
      "C:\\Users\\damartinezp\\AppData\\Roaming\\Python\\Python39\\site-packages\\xgboost\\core.py:160: UserWarning: [13:07:53] WARNING: C:\\buildkite-agent\\builds\\buildkite-windows-cpu-autoscaling-group-i-0b3782d1791676daf-1\\xgboost\\xgboost-ci-windows\\src\\c_api\\c_api.cc:1240: Saving into deprecated binary model format, please consider using `json` or `ubj`. Model format will default to JSON in XGBoost 2.2 if not specified.\n",
      "  warnings.warn(smsg, UserWarning)\n",
      "C:\\Users\\damartinezp\\AppData\\Roaming\\Python\\Python39\\site-packages\\xgboost\\core.py:160: UserWarning: [13:08:05] WARNING: C:\\buildkite-agent\\builds\\buildkite-windows-cpu-autoscaling-group-i-0b3782d1791676daf-1\\xgboost\\xgboost-ci-windows\\src\\c_api\\c_api.cc:1240: Saving into deprecated binary model format, please consider using `json` or `ubj`. Model format will default to JSON in XGBoost 2.2 if not specified.\n",
      "  warnings.warn(smsg, UserWarning)\n",
      "C:\\Users\\damartinezp\\AppData\\Roaming\\Python\\Python39\\site-packages\\xgboost\\core.py:160: UserWarning: [13:08:16] WARNING: C:\\buildkite-agent\\builds\\buildkite-windows-cpu-autoscaling-group-i-0b3782d1791676daf-1\\xgboost\\xgboost-ci-windows\\src\\c_api\\c_api.cc:1240: Saving into deprecated binary model format, please consider using `json` or `ubj`. Model format will default to JSON in XGBoost 2.2 if not specified.\n",
      "  warnings.warn(smsg, UserWarning)\n",
      "C:\\Users\\damartinezp\\AppData\\Roaming\\Python\\Python39\\site-packages\\xgboost\\core.py:160: UserWarning: [13:08:28] WARNING: C:\\buildkite-agent\\builds\\buildkite-windows-cpu-autoscaling-group-i-0b3782d1791676daf-1\\xgboost\\xgboost-ci-windows\\src\\c_api\\c_api.cc:1240: Saving into deprecated binary model format, please consider using `json` or `ubj`. Model format will default to JSON in XGBoost 2.2 if not specified.\n",
      "  warnings.warn(smsg, UserWarning)\n",
      "C:\\Users\\damartinezp\\AppData\\Roaming\\Python\\Python39\\site-packages\\xgboost\\core.py:160: UserWarning: [13:08:39] WARNING: C:\\buildkite-agent\\builds\\buildkite-windows-cpu-autoscaling-group-i-0b3782d1791676daf-1\\xgboost\\xgboost-ci-windows\\src\\c_api\\c_api.cc:1240: Saving into deprecated binary model format, please consider using `json` or `ubj`. Model format will default to JSON in XGBoost 2.2 if not specified.\n",
      "  warnings.warn(smsg, UserWarning)\n"
     ]
    },
    {
     "name": "stdout",
     "output_type": "stream",
     "text": [
      "     Acc    Err     Re     Sp    Pre   FPR     F1  ROC_AUC\n",
      "0  81.24  18.76  41.60  93.91  68.56  6.09  51.78    67.75\n",
      "1  81.11  18.89  41.04  93.69  67.12  6.31  50.94    67.36\n",
      "2  81.19  18.81  42.26  93.62  67.90  6.38  52.10    67.94\n",
      "3  81.35  18.65  41.91  93.79  68.05  6.21  51.87    67.85\n",
      "4  81.40  18.60  42.07  93.80  68.14  6.20  52.02    67.93\n",
      "5  81.28  18.72  41.67  93.86  68.30  6.14  51.76    67.76\n",
      "6  81.43  18.57  41.66  93.89  68.14  6.11  51.71    67.78\n",
      "7  81.33  18.67  41.68  93.89  68.35  6.11  51.78    67.78\n",
      "8  81.16  18.84  41.89  93.67  67.86  6.33  51.80    67.78\n",
      "9  81.21  18.79  41.35  93.72  67.41  6.28  51.25    67.54\n"
     ]
    },
    {
     "name": "stderr",
     "output_type": "stream",
     "text": [
      "C:\\Users\\damartinezp\\AppData\\Roaming\\Python\\Python39\\site-packages\\xgboost\\core.py:160: UserWarning: [13:08:51] WARNING: C:\\buildkite-agent\\builds\\buildkite-windows-cpu-autoscaling-group-i-0b3782d1791676daf-1\\xgboost\\xgboost-ci-windows\\src\\c_api\\c_api.cc:1240: Saving into deprecated binary model format, please consider using `json` or `ubj`. Model format will default to JSON in XGBoost 2.2 if not specified.\n",
      "  warnings.warn(smsg, UserWarning)\n"
     ]
    },
    {
     "data": {
      "text/plain": [
       "Acc        81.270\n",
       "Err        18.730\n",
       "Re         41.713\n",
       "Sp         93.784\n",
       "Pre        67.983\n",
       "FPR         6.216\n",
       "F1         51.701\n",
       "ROC_AUC    67.747\n",
       "Name: mean, dtype: float64"
      ]
     },
     "execution_count": 463,
     "metadata": {},
     "output_type": "execute_result"
    }
   ],
   "source": [
    "import os\n",
    "\n",
    "# Asegurarse de que el directorio exista\n",
    "save_dir = 'saved_model0/XGBoost01_9/'\n",
    "os.makedirs(save_dir, exist_ok=True)  # Crea el directorio si no existe\n",
    "params = {\n",
    "    \"objective\": \"binary:logistic\",\n",
    "    \"eval_metric\": \"logloss\",\n",
    "    \"eta\": 0.1,\n",
    "    \"max_depth\":9,\n",
    "    \"subsample\":0.8,\n",
    "    \"colsample_bytree\":0.8,\n",
    "    \"seed\":42\n",
    "}\n",
    "\n",
    "num_folds=10\n",
    "kfold=StratifiedKFold(n_splits=num_folds, shuffle=False)\n",
    "\n",
    "np.random.seed(seed)\n",
    "indices = np.random.permutation(len(train))\n",
    "\n",
    "matrixXGBoost=pd.DataFrame()\n",
    "fold_no=1\n",
    "for train_idx, val_idx in kfold.split(train, train[\"marca_default\"]):\n",
    "    \n",
    "    train_indices = indices[train_idx]\n",
    "    val_indices = indices[val_idx]\n",
    "    train_matrix=train.drop([\"marca_default\"], axis=1)\n",
    "\n",
    "    X_train, X_val = train_matrix.iloc[train_indices], train_matrix.iloc[val_indices]\n",
    "    y_train_fold, y_val_fold = train[\"marca_default\"].iloc[train_indices], train[\"marca_default\"].iloc[val_indices]\n",
    "    \n",
    "    dtrain= xgb.DMatrix(X_train, label=y_train_fold)\n",
    "    dval= xgb.DMatrix(X_val, label=y_val_fold)\n",
    "    model=xgb.train(params, dtrain, num_boost_round=100)\n",
    "    \n",
    "    y_pred_proba=model.predict(dval)\n",
    "    y_pred_labels= np.round(y_pred_proba>=0.5).astype(int)\n",
    "    \n",
    "    cm=confusion_matrix(y_val_fold, y_pred_labels)\n",
    "    \n",
    "    acc, err, se, sp, prec, FPR =calMetrics(cm)\n",
    "    accuracy, precision, recall, f1, roc_auc=calMetrics2(y_val_fold, y_pred_labels)\n",
    "    \n",
    "    matrix={\n",
    "        \"Acc\": acc,\n",
    "        \"Err\": err,\n",
    "        \"Re\": se,\n",
    "        \"Sp\": sp,\n",
    "        \"Pre\": prec,\n",
    "        \"FPR\": FPR,\n",
    "        \"F1\":f1,\n",
    "        \"ROC_AUC\": roc_auc\n",
    "    }\n",
    "\n",
    "    matrixXGBoost = pd.concat([matrixXGBoost, pd.DataFrame([matrix])], ignore_index=True)\n",
    "    \n",
    "    model.save_model(f'saved_model0/XGBoost01_9/{fold_no}.model')\n",
    "    \n",
    "    fold_no +=1\n",
    "\n",
    "print(matrixXGBoost)\n",
    "\n",
    "matrixXGBoost.describe().loc['mean']"
   ]
  },
  {
   "cell_type": "markdown",
   "id": "cfdd399d-d678-4a2a-88c5-d23accaa3ca5",
   "metadata": {
    "tags": []
   },
   "source": [
    "##### Tasa de aprendizaje 0.05 y profundidad 3"
   ]
  },
  {
   "cell_type": "code",
   "execution_count": 464,
   "id": "64cb79d5-2939-43f2-9763-eb2ab7d3b022",
   "metadata": {},
   "outputs": [
    {
     "name": "stderr",
     "output_type": "stream",
     "text": [
      "C:\\Users\\damartinezp\\AppData\\Roaming\\Python\\Python39\\site-packages\\xgboost\\core.py:160: UserWarning: [13:32:11] WARNING: C:\\buildkite-agent\\builds\\buildkite-windows-cpu-autoscaling-group-i-0b3782d1791676daf-1\\xgboost\\xgboost-ci-windows\\src\\c_api\\c_api.cc:1240: Saving into deprecated binary model format, please consider using `json` or `ubj`. Model format will default to JSON in XGBoost 2.2 if not specified.\n",
      "  warnings.warn(smsg, UserWarning)\n",
      "C:\\Users\\damartinezp\\AppData\\Roaming\\Python\\Python39\\site-packages\\xgboost\\core.py:160: UserWarning: [13:32:17] WARNING: C:\\buildkite-agent\\builds\\buildkite-windows-cpu-autoscaling-group-i-0b3782d1791676daf-1\\xgboost\\xgboost-ci-windows\\src\\c_api\\c_api.cc:1240: Saving into deprecated binary model format, please consider using `json` or `ubj`. Model format will default to JSON in XGBoost 2.2 if not specified.\n",
      "  warnings.warn(smsg, UserWarning)\n",
      "C:\\Users\\damartinezp\\AppData\\Roaming\\Python\\Python39\\site-packages\\xgboost\\core.py:160: UserWarning: [13:32:23] WARNING: C:\\buildkite-agent\\builds\\buildkite-windows-cpu-autoscaling-group-i-0b3782d1791676daf-1\\xgboost\\xgboost-ci-windows\\src\\c_api\\c_api.cc:1240: Saving into deprecated binary model format, please consider using `json` or `ubj`. Model format will default to JSON in XGBoost 2.2 if not specified.\n",
      "  warnings.warn(smsg, UserWarning)\n",
      "C:\\Users\\damartinezp\\AppData\\Roaming\\Python\\Python39\\site-packages\\xgboost\\core.py:160: UserWarning: [13:32:29] WARNING: C:\\buildkite-agent\\builds\\buildkite-windows-cpu-autoscaling-group-i-0b3782d1791676daf-1\\xgboost\\xgboost-ci-windows\\src\\c_api\\c_api.cc:1240: Saving into deprecated binary model format, please consider using `json` or `ubj`. Model format will default to JSON in XGBoost 2.2 if not specified.\n",
      "  warnings.warn(smsg, UserWarning)\n",
      "C:\\Users\\damartinezp\\AppData\\Roaming\\Python\\Python39\\site-packages\\xgboost\\core.py:160: UserWarning: [13:32:35] WARNING: C:\\buildkite-agent\\builds\\buildkite-windows-cpu-autoscaling-group-i-0b3782d1791676daf-1\\xgboost\\xgboost-ci-windows\\src\\c_api\\c_api.cc:1240: Saving into deprecated binary model format, please consider using `json` or `ubj`. Model format will default to JSON in XGBoost 2.2 if not specified.\n",
      "  warnings.warn(smsg, UserWarning)\n",
      "C:\\Users\\damartinezp\\AppData\\Roaming\\Python\\Python39\\site-packages\\xgboost\\core.py:160: UserWarning: [13:32:41] WARNING: C:\\buildkite-agent\\builds\\buildkite-windows-cpu-autoscaling-group-i-0b3782d1791676daf-1\\xgboost\\xgboost-ci-windows\\src\\c_api\\c_api.cc:1240: Saving into deprecated binary model format, please consider using `json` or `ubj`. Model format will default to JSON in XGBoost 2.2 if not specified.\n",
      "  warnings.warn(smsg, UserWarning)\n",
      "C:\\Users\\damartinezp\\AppData\\Roaming\\Python\\Python39\\site-packages\\xgboost\\core.py:160: UserWarning: [13:32:47] WARNING: C:\\buildkite-agent\\builds\\buildkite-windows-cpu-autoscaling-group-i-0b3782d1791676daf-1\\xgboost\\xgboost-ci-windows\\src\\c_api\\c_api.cc:1240: Saving into deprecated binary model format, please consider using `json` or `ubj`. Model format will default to JSON in XGBoost 2.2 if not specified.\n",
      "  warnings.warn(smsg, UserWarning)\n",
      "C:\\Users\\damartinezp\\AppData\\Roaming\\Python\\Python39\\site-packages\\xgboost\\core.py:160: UserWarning: [13:32:53] WARNING: C:\\buildkite-agent\\builds\\buildkite-windows-cpu-autoscaling-group-i-0b3782d1791676daf-1\\xgboost\\xgboost-ci-windows\\src\\c_api\\c_api.cc:1240: Saving into deprecated binary model format, please consider using `json` or `ubj`. Model format will default to JSON in XGBoost 2.2 if not specified.\n",
      "  warnings.warn(smsg, UserWarning)\n",
      "C:\\Users\\damartinezp\\AppData\\Roaming\\Python\\Python39\\site-packages\\xgboost\\core.py:160: UserWarning: [13:33:00] WARNING: C:\\buildkite-agent\\builds\\buildkite-windows-cpu-autoscaling-group-i-0b3782d1791676daf-1\\xgboost\\xgboost-ci-windows\\src\\c_api\\c_api.cc:1240: Saving into deprecated binary model format, please consider using `json` or `ubj`. Model format will default to JSON in XGBoost 2.2 if not specified.\n",
      "  warnings.warn(smsg, UserWarning)\n"
     ]
    },
    {
     "name": "stdout",
     "output_type": "stream",
     "text": [
      "     Acc    Err     Re     Sp    Pre   FPR     F1  ROC_AUC\n",
      "0  79.46  20.54  32.76  94.38  65.04  5.62  43.57    63.57\n",
      "1  79.45  20.55  32.22  94.28  63.89  5.72  42.84    63.25\n",
      "2  79.43  20.57  32.34  94.46  65.09  5.54  43.21    63.40\n",
      "3  79.56  20.44  32.48  94.42  64.73  5.58  43.26    63.45\n",
      "4  79.63  20.37  32.99  94.33  64.72  5.67  43.70    63.66\n",
      "5  79.47  20.53  32.86  94.27  64.56  5.73  43.55    63.56\n",
      "6  79.75  20.25  32.26  94.64  65.38  5.36  43.20    63.45\n",
      "7  79.54  20.46  33.12  94.23  64.51  5.77  43.77    63.68\n",
      "8  79.34  20.66  32.74  94.19  64.26  5.81  43.38    63.47\n",
      "9  79.47  20.53  31.65  94.49  64.32  5.51  42.43    63.07\n"
     ]
    },
    {
     "name": "stderr",
     "output_type": "stream",
     "text": [
      "C:\\Users\\damartinezp\\AppData\\Roaming\\Python\\Python39\\site-packages\\xgboost\\core.py:160: UserWarning: [13:33:06] WARNING: C:\\buildkite-agent\\builds\\buildkite-windows-cpu-autoscaling-group-i-0b3782d1791676daf-1\\xgboost\\xgboost-ci-windows\\src\\c_api\\c_api.cc:1240: Saving into deprecated binary model format, please consider using `json` or `ubj`. Model format will default to JSON in XGBoost 2.2 if not specified.\n",
      "  warnings.warn(smsg, UserWarning)\n"
     ]
    },
    {
     "data": {
      "text/plain": [
       "Acc        79.510\n",
       "Err        20.490\n",
       "Re         32.542\n",
       "Sp         94.369\n",
       "Pre        64.650\n",
       "FPR         5.631\n",
       "F1         43.291\n",
       "ROC_AUC    63.456\n",
       "Name: mean, dtype: float64"
      ]
     },
     "execution_count": 464,
     "metadata": {},
     "output_type": "execute_result"
    }
   ],
   "source": [
    "import os\n",
    "\n",
    "# Asegurarse de que el directorio exista\n",
    "save_dir = 'saved_model0/XGBoost005_3/'\n",
    "os.makedirs(save_dir, exist_ok=True)  # Crea el directorio si no existe\n",
    "params = {\n",
    "    \"objective\": \"binary:logistic\",\n",
    "    \"eval_metric\": \"logloss\",\n",
    "    \"eta\": 0.05,\n",
    "    \"max_depth\":3,\n",
    "    \"subsample\":0.8,\n",
    "    \"colsample_bytree\":0.8,\n",
    "    \"seed\":42\n",
    "}\n",
    "\n",
    "num_folds=10\n",
    "kfold=StratifiedKFold(n_splits=num_folds, shuffle=False)\n",
    "\n",
    "np.random.seed(seed)\n",
    "indices = np.random.permutation(len(train))\n",
    "\n",
    "matrixXGBoost=pd.DataFrame()\n",
    "fold_no=1\n",
    "for train_idx, val_idx in kfold.split(train, train[\"marca_default\"]):\n",
    "    \n",
    "    train_indices = indices[train_idx]\n",
    "    val_indices = indices[val_idx]\n",
    "    train_matrix=train.drop([\"marca_default\"], axis=1)\n",
    "\n",
    "    X_train, X_val = train_matrix.iloc[train_indices], train_matrix.iloc[val_indices]\n",
    "    y_train_fold, y_val_fold = train[\"marca_default\"].iloc[train_indices], train[\"marca_default\"].iloc[val_indices]\n",
    "    \n",
    "    dtrain= xgb.DMatrix(X_train, label=y_train_fold)\n",
    "    dval= xgb.DMatrix(X_val, label=y_val_fold)\n",
    "    model=xgb.train(params, dtrain, num_boost_round=100)\n",
    "    \n",
    "    y_pred_proba=model.predict(dval)\n",
    "    y_pred_labels= np.round(y_pred_proba>=0.5).astype(int)\n",
    "    \n",
    "    cm=confusion_matrix(y_val_fold, y_pred_labels)\n",
    "    \n",
    "    acc, err, se, sp, prec, FPR =calMetrics(cm)\n",
    "    accuracy, precision, recall, f1, roc_auc=calMetrics2(y_val_fold, y_pred_labels)\n",
    "    \n",
    "    matrix={\n",
    "        \"Acc\": acc,\n",
    "        \"Err\": err,\n",
    "        \"Re\": se,\n",
    "        \"Sp\": sp,\n",
    "        \"Pre\": prec,\n",
    "        \"FPR\": FPR,\n",
    "        \"F1\":f1,\n",
    "        \"ROC_AUC\": roc_auc\n",
    "    }\n",
    "\n",
    "    matrixXGBoost = pd.concat([matrixXGBoost, pd.DataFrame([matrix])], ignore_index=True)\n",
    "    \n",
    "    model.save_model(f'saved_model0/XGBoost005_3/{fold_no}.model')\n",
    "    \n",
    "    fold_no +=1\n",
    "\n",
    "print(matrixXGBoost)\n",
    "\n",
    "matrixXGBoost.describe().loc['mean']"
   ]
  },
  {
   "cell_type": "markdown",
   "id": "c537992c-b254-4e04-b3f0-07ba7b5935ec",
   "metadata": {
    "tags": []
   },
   "source": [
    "##### Tasa de aprendizaje 0.05 y profundidad 5"
   ]
  },
  {
   "cell_type": "code",
   "execution_count": 465,
   "id": "4253d038-4e7b-4ae5-afb1-25565fa4ec69",
   "metadata": {},
   "outputs": [
    {
     "name": "stderr",
     "output_type": "stream",
     "text": [
      "C:\\Users\\damartinezp\\AppData\\Roaming\\Python\\Python39\\site-packages\\xgboost\\core.py:160: UserWarning: [13:33:14] WARNING: C:\\buildkite-agent\\builds\\buildkite-windows-cpu-autoscaling-group-i-0b3782d1791676daf-1\\xgboost\\xgboost-ci-windows\\src\\c_api\\c_api.cc:1240: Saving into deprecated binary model format, please consider using `json` or `ubj`. Model format will default to JSON in XGBoost 2.2 if not specified.\n",
      "  warnings.warn(smsg, UserWarning)\n",
      "C:\\Users\\damartinezp\\AppData\\Roaming\\Python\\Python39\\site-packages\\xgboost\\core.py:160: UserWarning: [13:33:22] WARNING: C:\\buildkite-agent\\builds\\buildkite-windows-cpu-autoscaling-group-i-0b3782d1791676daf-1\\xgboost\\xgboost-ci-windows\\src\\c_api\\c_api.cc:1240: Saving into deprecated binary model format, please consider using `json` or `ubj`. Model format will default to JSON in XGBoost 2.2 if not specified.\n",
      "  warnings.warn(smsg, UserWarning)\n",
      "C:\\Users\\damartinezp\\AppData\\Roaming\\Python\\Python39\\site-packages\\xgboost\\core.py:160: UserWarning: [13:33:30] WARNING: C:\\buildkite-agent\\builds\\buildkite-windows-cpu-autoscaling-group-i-0b3782d1791676daf-1\\xgboost\\xgboost-ci-windows\\src\\c_api\\c_api.cc:1240: Saving into deprecated binary model format, please consider using `json` or `ubj`. Model format will default to JSON in XGBoost 2.2 if not specified.\n",
      "  warnings.warn(smsg, UserWarning)\n",
      "C:\\Users\\damartinezp\\AppData\\Roaming\\Python\\Python39\\site-packages\\xgboost\\core.py:160: UserWarning: [13:33:38] WARNING: C:\\buildkite-agent\\builds\\buildkite-windows-cpu-autoscaling-group-i-0b3782d1791676daf-1\\xgboost\\xgboost-ci-windows\\src\\c_api\\c_api.cc:1240: Saving into deprecated binary model format, please consider using `json` or `ubj`. Model format will default to JSON in XGBoost 2.2 if not specified.\n",
      "  warnings.warn(smsg, UserWarning)\n",
      "C:\\Users\\damartinezp\\AppData\\Roaming\\Python\\Python39\\site-packages\\xgboost\\core.py:160: UserWarning: [13:33:46] WARNING: C:\\buildkite-agent\\builds\\buildkite-windows-cpu-autoscaling-group-i-0b3782d1791676daf-1\\xgboost\\xgboost-ci-windows\\src\\c_api\\c_api.cc:1240: Saving into deprecated binary model format, please consider using `json` or `ubj`. Model format will default to JSON in XGBoost 2.2 if not specified.\n",
      "  warnings.warn(smsg, UserWarning)\n",
      "C:\\Users\\damartinezp\\AppData\\Roaming\\Python\\Python39\\site-packages\\xgboost\\core.py:160: UserWarning: [13:33:54] WARNING: C:\\buildkite-agent\\builds\\buildkite-windows-cpu-autoscaling-group-i-0b3782d1791676daf-1\\xgboost\\xgboost-ci-windows\\src\\c_api\\c_api.cc:1240: Saving into deprecated binary model format, please consider using `json` or `ubj`. Model format will default to JSON in XGBoost 2.2 if not specified.\n",
      "  warnings.warn(smsg, UserWarning)\n",
      "C:\\Users\\damartinezp\\AppData\\Roaming\\Python\\Python39\\site-packages\\xgboost\\core.py:160: UserWarning: [13:34:02] WARNING: C:\\buildkite-agent\\builds\\buildkite-windows-cpu-autoscaling-group-i-0b3782d1791676daf-1\\xgboost\\xgboost-ci-windows\\src\\c_api\\c_api.cc:1240: Saving into deprecated binary model format, please consider using `json` or `ubj`. Model format will default to JSON in XGBoost 2.2 if not specified.\n",
      "  warnings.warn(smsg, UserWarning)\n",
      "C:\\Users\\damartinezp\\AppData\\Roaming\\Python\\Python39\\site-packages\\xgboost\\core.py:160: UserWarning: [13:34:10] WARNING: C:\\buildkite-agent\\builds\\buildkite-windows-cpu-autoscaling-group-i-0b3782d1791676daf-1\\xgboost\\xgboost-ci-windows\\src\\c_api\\c_api.cc:1240: Saving into deprecated binary model format, please consider using `json` or `ubj`. Model format will default to JSON in XGBoost 2.2 if not specified.\n",
      "  warnings.warn(smsg, UserWarning)\n",
      "C:\\Users\\damartinezp\\AppData\\Roaming\\Python\\Python39\\site-packages\\xgboost\\core.py:160: UserWarning: [13:34:18] WARNING: C:\\buildkite-agent\\builds\\buildkite-windows-cpu-autoscaling-group-i-0b3782d1791676daf-1\\xgboost\\xgboost-ci-windows\\src\\c_api\\c_api.cc:1240: Saving into deprecated binary model format, please consider using `json` or `ubj`. Model format will default to JSON in XGBoost 2.2 if not specified.\n",
      "  warnings.warn(smsg, UserWarning)\n"
     ]
    },
    {
     "name": "stdout",
     "output_type": "stream",
     "text": [
      "     Acc    Err     Re     Sp    Pre   FPR     F1  ROC_AUC\n",
      "0  80.15  19.85  40.00  92.97  64.50  7.03  49.38    66.49\n",
      "1  80.06  19.94  39.55  92.78  63.24  7.22  48.67    66.17\n",
      "2  80.26  19.74  40.92  92.83  64.55  7.17  50.08    66.87\n",
      "3  80.45  19.55  40.28  93.12  64.88  6.88  49.70    66.70\n",
      "4  80.46  19.54  40.58  93.02  64.70  6.98  49.87    66.80\n",
      "5  80.24  19.76  39.92  93.04  64.56  6.96  49.33    66.48\n",
      "6  80.46  19.54  40.32  93.04  64.50  6.96  49.62    66.68\n",
      "7  80.29  19.71  40.07  93.03  64.54  6.97  49.44    66.55\n",
      "8  80.13  19.87  40.02  92.92  64.31  7.08  49.33    66.47\n",
      "9  80.26  19.74  39.53  93.04  64.08  6.96  48.90    66.29\n"
     ]
    },
    {
     "name": "stderr",
     "output_type": "stream",
     "text": [
      "C:\\Users\\damartinezp\\AppData\\Roaming\\Python\\Python39\\site-packages\\xgboost\\core.py:160: UserWarning: [13:34:26] WARNING: C:\\buildkite-agent\\builds\\buildkite-windows-cpu-autoscaling-group-i-0b3782d1791676daf-1\\xgboost\\xgboost-ci-windows\\src\\c_api\\c_api.cc:1240: Saving into deprecated binary model format, please consider using `json` or `ubj`. Model format will default to JSON in XGBoost 2.2 if not specified.\n",
      "  warnings.warn(smsg, UserWarning)\n"
     ]
    },
    {
     "data": {
      "text/plain": [
       "Acc        80.276\n",
       "Err        19.724\n",
       "Re         40.119\n",
       "Sp         92.979\n",
       "Pre        64.386\n",
       "FPR         7.021\n",
       "F1         49.432\n",
       "ROC_AUC    66.550\n",
       "Name: mean, dtype: float64"
      ]
     },
     "execution_count": 465,
     "metadata": {},
     "output_type": "execute_result"
    }
   ],
   "source": [
    "import os\n",
    "\n",
    "# Asegurarse de que el directorio exista\n",
    "save_dir = 'saved_model0/XGBoost005_5/'\n",
    "os.makedirs(save_dir, exist_ok=True)  # Crea el directorio si no existe\n",
    "\n",
    "params = {\n",
    "    \"objective\": \"binary:logistic\",\n",
    "    \"eval_metric\": \"logloss\",\n",
    "    \"eta\": 0.05,\n",
    "    \"max_depth\":5,\n",
    "    \"subsample\":0.8,\n",
    "    \"colsample_bytree\":0.8,\n",
    "    \"seed\":42\n",
    "}\n",
    "\n",
    "num_folds=10\n",
    "kfold=StratifiedKFold(n_splits=num_folds, shuffle=False)\n",
    "\n",
    "np.random.seed(seed)\n",
    "indices = np.random.permutation(len(train))\n",
    "\n",
    "matrixXGBoost=pd.DataFrame()\n",
    "fold_no=1\n",
    "for train_idx, val_idx in kfold.split(train, train[\"marca_default\"]):\n",
    "    \n",
    "    train_indices = indices[train_idx]\n",
    "    val_indices = indices[val_idx]\n",
    "    train_matrix=train.drop([\"marca_default\"], axis=1)\n",
    "\n",
    "    X_train, X_val = train_matrix.iloc[train_indices], train_matrix.iloc[val_indices]\n",
    "    y_train_fold, y_val_fold = train[\"marca_default\"].iloc[train_indices], train[\"marca_default\"].iloc[val_indices]\n",
    "    \n",
    "    dtrain= xgb.DMatrix(X_train, label=y_train_fold)\n",
    "    dval= xgb.DMatrix(X_val, label=y_val_fold)\n",
    "    model=xgb.train(params, dtrain, num_boost_round=100)\n",
    "    \n",
    "    y_pred_proba=model.predict(dval)\n",
    "    y_pred_labels= np.round(y_pred_proba>=0.5).astype(int)\n",
    "    \n",
    "    cm=confusion_matrix(y_val_fold, y_pred_labels)\n",
    "    \n",
    "    acc, err, se, sp, prec, FPR =calMetrics(cm)\n",
    "    accuracy, precision, recall, f1, roc_auc=calMetrics2(y_val_fold, y_pred_labels)\n",
    "    \n",
    "    matrix={\n",
    "        \"Acc\": acc,\n",
    "        \"Err\": err,\n",
    "        \"Re\": se,\n",
    "        \"Sp\": sp,\n",
    "        \"Pre\": prec,\n",
    "        \"FPR\": FPR,\n",
    "        \"F1\":f1,\n",
    "        \"ROC_AUC\": roc_auc\n",
    "    }\n",
    "\n",
    "    matrixXGBoost = pd.concat([matrixXGBoost, pd.DataFrame([matrix])], ignore_index=True)\n",
    "    \n",
    "    model.save_model(f'saved_model0/XGBoost005_5/{fold_no}.model')\n",
    "    \n",
    "    fold_no +=1\n",
    "\n",
    "print(matrixXGBoost)\n",
    "\n",
    "matrixXGBoost.describe().loc['mean']"
   ]
  },
  {
   "cell_type": "markdown",
   "id": "45529842-6b75-4fbe-b0cf-9796a8471c07",
   "metadata": {
    "tags": []
   },
   "source": [
    "##### Tasa de aprendizaje 0.05 y profundidad 7"
   ]
  },
  {
   "cell_type": "code",
   "execution_count": 466,
   "id": "c28b73f0-5072-4d66-9ba9-582b012b9c94",
   "metadata": {},
   "outputs": [
    {
     "name": "stderr",
     "output_type": "stream",
     "text": [
      "C:\\Users\\damartinezp\\AppData\\Roaming\\Python\\Python39\\site-packages\\xgboost\\core.py:160: UserWarning: [13:34:36] WARNING: C:\\buildkite-agent\\builds\\buildkite-windows-cpu-autoscaling-group-i-0b3782d1791676daf-1\\xgboost\\xgboost-ci-windows\\src\\c_api\\c_api.cc:1240: Saving into deprecated binary model format, please consider using `json` or `ubj`. Model format will default to JSON in XGBoost 2.2 if not specified.\n",
      "  warnings.warn(smsg, UserWarning)\n",
      "C:\\Users\\damartinezp\\AppData\\Roaming\\Python\\Python39\\site-packages\\xgboost\\core.py:160: UserWarning: [13:34:46] WARNING: C:\\buildkite-agent\\builds\\buildkite-windows-cpu-autoscaling-group-i-0b3782d1791676daf-1\\xgboost\\xgboost-ci-windows\\src\\c_api\\c_api.cc:1240: Saving into deprecated binary model format, please consider using `json` or `ubj`. Model format will default to JSON in XGBoost 2.2 if not specified.\n",
      "  warnings.warn(smsg, UserWarning)\n",
      "C:\\Users\\damartinezp\\AppData\\Roaming\\Python\\Python39\\site-packages\\xgboost\\core.py:160: UserWarning: [13:34:56] WARNING: C:\\buildkite-agent\\builds\\buildkite-windows-cpu-autoscaling-group-i-0b3782d1791676daf-1\\xgboost\\xgboost-ci-windows\\src\\c_api\\c_api.cc:1240: Saving into deprecated binary model format, please consider using `json` or `ubj`. Model format will default to JSON in XGBoost 2.2 if not specified.\n",
      "  warnings.warn(smsg, UserWarning)\n",
      "C:\\Users\\damartinezp\\AppData\\Roaming\\Python\\Python39\\site-packages\\xgboost\\core.py:160: UserWarning: [13:35:06] WARNING: C:\\buildkite-agent\\builds\\buildkite-windows-cpu-autoscaling-group-i-0b3782d1791676daf-1\\xgboost\\xgboost-ci-windows\\src\\c_api\\c_api.cc:1240: Saving into deprecated binary model format, please consider using `json` or `ubj`. Model format will default to JSON in XGBoost 2.2 if not specified.\n",
      "  warnings.warn(smsg, UserWarning)\n",
      "C:\\Users\\damartinezp\\AppData\\Roaming\\Python\\Python39\\site-packages\\xgboost\\core.py:160: UserWarning: [13:35:16] WARNING: C:\\buildkite-agent\\builds\\buildkite-windows-cpu-autoscaling-group-i-0b3782d1791676daf-1\\xgboost\\xgboost-ci-windows\\src\\c_api\\c_api.cc:1240: Saving into deprecated binary model format, please consider using `json` or `ubj`. Model format will default to JSON in XGBoost 2.2 if not specified.\n",
      "  warnings.warn(smsg, UserWarning)\n",
      "C:\\Users\\damartinezp\\AppData\\Roaming\\Python\\Python39\\site-packages\\xgboost\\core.py:160: UserWarning: [13:35:26] WARNING: C:\\buildkite-agent\\builds\\buildkite-windows-cpu-autoscaling-group-i-0b3782d1791676daf-1\\xgboost\\xgboost-ci-windows\\src\\c_api\\c_api.cc:1240: Saving into deprecated binary model format, please consider using `json` or `ubj`. Model format will default to JSON in XGBoost 2.2 if not specified.\n",
      "  warnings.warn(smsg, UserWarning)\n",
      "C:\\Users\\damartinezp\\AppData\\Roaming\\Python\\Python39\\site-packages\\xgboost\\core.py:160: UserWarning: [13:35:36] WARNING: C:\\buildkite-agent\\builds\\buildkite-windows-cpu-autoscaling-group-i-0b3782d1791676daf-1\\xgboost\\xgboost-ci-windows\\src\\c_api\\c_api.cc:1240: Saving into deprecated binary model format, please consider using `json` or `ubj`. Model format will default to JSON in XGBoost 2.2 if not specified.\n",
      "  warnings.warn(smsg, UserWarning)\n",
      "C:\\Users\\damartinezp\\AppData\\Roaming\\Python\\Python39\\site-packages\\xgboost\\core.py:160: UserWarning: [13:35:46] WARNING: C:\\buildkite-agent\\builds\\buildkite-windows-cpu-autoscaling-group-i-0b3782d1791676daf-1\\xgboost\\xgboost-ci-windows\\src\\c_api\\c_api.cc:1240: Saving into deprecated binary model format, please consider using `json` or `ubj`. Model format will default to JSON in XGBoost 2.2 if not specified.\n",
      "  warnings.warn(smsg, UserWarning)\n",
      "C:\\Users\\damartinezp\\AppData\\Roaming\\Python\\Python39\\site-packages\\xgboost\\core.py:160: UserWarning: [13:35:56] WARNING: C:\\buildkite-agent\\builds\\buildkite-windows-cpu-autoscaling-group-i-0b3782d1791676daf-1\\xgboost\\xgboost-ci-windows\\src\\c_api\\c_api.cc:1240: Saving into deprecated binary model format, please consider using `json` or `ubj`. Model format will default to JSON in XGBoost 2.2 if not specified.\n",
      "  warnings.warn(smsg, UserWarning)\n"
     ]
    },
    {
     "name": "stdout",
     "output_type": "stream",
     "text": [
      "     Acc    Err     Re     Sp    Pre   FPR     F1  ROC_AUC\n",
      "0  80.72  19.28  41.55  93.23  66.22  6.77  51.06    67.39\n",
      "1  80.58  19.42  41.06  92.99  64.77  7.01  50.26    67.03\n",
      "2  80.75  19.25  42.05  93.11  66.07  6.89  51.39    67.58\n",
      "3  80.88  19.12  41.54  93.29  66.15  6.71  51.03    67.42\n",
      "4  80.90  19.10  41.50  93.31  66.17  6.69  51.01    67.41\n",
      "5  80.67  19.33  41.42  93.13  65.67  6.87  50.80    67.27\n",
      "6  80.93  19.07  41.73  93.23  65.89  6.77  51.10    67.48\n",
      "7  80.81  19.19  41.84  93.15  65.90  6.85  51.19    67.49\n",
      "8  80.63  19.37  41.65  93.06  65.65  6.94  50.96    67.35\n",
      "9  80.67  19.33  40.96  93.14  65.20  6.86  50.31    67.05\n"
     ]
    },
    {
     "name": "stderr",
     "output_type": "stream",
     "text": [
      "C:\\Users\\damartinezp\\AppData\\Roaming\\Python\\Python39\\site-packages\\xgboost\\core.py:160: UserWarning: [13:36:06] WARNING: C:\\buildkite-agent\\builds\\buildkite-windows-cpu-autoscaling-group-i-0b3782d1791676daf-1\\xgboost\\xgboost-ci-windows\\src\\c_api\\c_api.cc:1240: Saving into deprecated binary model format, please consider using `json` or `ubj`. Model format will default to JSON in XGBoost 2.2 if not specified.\n",
      "  warnings.warn(smsg, UserWarning)\n"
     ]
    },
    {
     "data": {
      "text/plain": [
       "Acc        80.754\n",
       "Err        19.246\n",
       "Re         41.530\n",
       "Sp         93.164\n",
       "Pre        65.769\n",
       "FPR         6.836\n",
       "F1         50.911\n",
       "ROC_AUC    67.347\n",
       "Name: mean, dtype: float64"
      ]
     },
     "execution_count": 466,
     "metadata": {},
     "output_type": "execute_result"
    }
   ],
   "source": [
    "import os\n",
    "\n",
    "# Asegurarse de que el directorio exista\n",
    "save_dir = 'saved_model0/XGBoost005_7/'\n",
    "os.makedirs(save_dir, exist_ok=True)  # Crea el directorio si no existe\n",
    "\n",
    "params = {\n",
    "    \"objective\": \"binary:logistic\",\n",
    "    \"eval_metric\": \"logloss\",\n",
    "    \"eta\": 0.05,\n",
    "    \"max_depth\":7,\n",
    "    \"subsample\":0.8,\n",
    "    \"colsample_bytree\":0.8,\n",
    "    \"seed\":42\n",
    "}\n",
    "\n",
    "num_folds=10\n",
    "kfold=StratifiedKFold(n_splits=num_folds, shuffle=False)\n",
    "\n",
    "np.random.seed(seed)\n",
    "indices = np.random.permutation(len(train))\n",
    "\n",
    "matrixXGBoost=pd.DataFrame()\n",
    "fold_no=1\n",
    "for train_idx, val_idx in kfold.split(train, train[\"marca_default\"]):\n",
    "    \n",
    "    train_indices = indices[train_idx]\n",
    "    val_indices = indices[val_idx]\n",
    "    train_matrix=train.drop([\"marca_default\"], axis=1)\n",
    "\n",
    "    X_train, X_val = train_matrix.iloc[train_indices], train_matrix.iloc[val_indices]\n",
    "    y_train_fold, y_val_fold = train[\"marca_default\"].iloc[train_indices], train[\"marca_default\"].iloc[val_indices]\n",
    "    \n",
    "    dtrain= xgb.DMatrix(X_train, label=y_train_fold)\n",
    "    dval= xgb.DMatrix(X_val, label=y_val_fold)\n",
    "    model=xgb.train(params, dtrain, num_boost_round=100)\n",
    "    \n",
    "    y_pred_proba=model.predict(dval)\n",
    "    y_pred_labels= np.round(y_pred_proba>=0.5).astype(int)\n",
    "    \n",
    "    cm=confusion_matrix(y_val_fold, y_pred_labels)\n",
    "    \n",
    "    acc, err, se, sp, prec, FPR =calMetrics(cm)\n",
    "    accuracy, precision, recall, f1, roc_auc=calMetrics2(y_val_fold, y_pred_labels)\n",
    "    \n",
    "    matrix={\n",
    "        \"Acc\": acc,\n",
    "        \"Err\": err,\n",
    "        \"Re\": se,\n",
    "        \"Sp\": sp,\n",
    "        \"Pre\": prec,\n",
    "        \"FPR\": FPR,\n",
    "        \"F1\":f1,\n",
    "        \"ROC_AUC\": roc_auc\n",
    "    }\n",
    "\n",
    "    matrixXGBoost = pd.concat([matrixXGBoost, pd.DataFrame([matrix])], ignore_index=True)\n",
    "    \n",
    "    model.save_model(f'saved_model0/XGBoost005_7/{fold_no}.model')\n",
    "    \n",
    "    fold_no +=1\n",
    "\n",
    "print(matrixXGBoost)\n",
    "\n",
    "matrixXGBoost.describe().loc['mean']"
   ]
  },
  {
   "cell_type": "markdown",
   "id": "74f3f3dd-4b6e-4d2e-85cf-0447a5fe4e5c",
   "metadata": {
    "tags": []
   },
   "source": [
    "##### Tasa de aprendizaje 0.05 y profundidad 9"
   ]
  },
  {
   "cell_type": "code",
   "execution_count": 467,
   "id": "f4205341-f25b-4193-bd81-4ba99b35d96e",
   "metadata": {},
   "outputs": [
    {
     "name": "stderr",
     "output_type": "stream",
     "text": [
      "C:\\Users\\damartinezp\\AppData\\Roaming\\Python\\Python39\\site-packages\\xgboost\\core.py:160: UserWarning: [13:36:19] WARNING: C:\\buildkite-agent\\builds\\buildkite-windows-cpu-autoscaling-group-i-0b3782d1791676daf-1\\xgboost\\xgboost-ci-windows\\src\\c_api\\c_api.cc:1240: Saving into deprecated binary model format, please consider using `json` or `ubj`. Model format will default to JSON in XGBoost 2.2 if not specified.\n",
      "  warnings.warn(smsg, UserWarning)\n",
      "C:\\Users\\damartinezp\\AppData\\Roaming\\Python\\Python39\\site-packages\\xgboost\\core.py:160: UserWarning: [13:36:30] WARNING: C:\\buildkite-agent\\builds\\buildkite-windows-cpu-autoscaling-group-i-0b3782d1791676daf-1\\xgboost\\xgboost-ci-windows\\src\\c_api\\c_api.cc:1240: Saving into deprecated binary model format, please consider using `json` or `ubj`. Model format will default to JSON in XGBoost 2.2 if not specified.\n",
      "  warnings.warn(smsg, UserWarning)\n",
      "C:\\Users\\damartinezp\\AppData\\Roaming\\Python\\Python39\\site-packages\\xgboost\\core.py:160: UserWarning: [13:36:43] WARNING: C:\\buildkite-agent\\builds\\buildkite-windows-cpu-autoscaling-group-i-0b3782d1791676daf-1\\xgboost\\xgboost-ci-windows\\src\\c_api\\c_api.cc:1240: Saving into deprecated binary model format, please consider using `json` or `ubj`. Model format will default to JSON in XGBoost 2.2 if not specified.\n",
      "  warnings.warn(smsg, UserWarning)\n",
      "C:\\Users\\damartinezp\\AppData\\Roaming\\Python\\Python39\\site-packages\\xgboost\\core.py:160: UserWarning: [13:36:55] WARNING: C:\\buildkite-agent\\builds\\buildkite-windows-cpu-autoscaling-group-i-0b3782d1791676daf-1\\xgboost\\xgboost-ci-windows\\src\\c_api\\c_api.cc:1240: Saving into deprecated binary model format, please consider using `json` or `ubj`. Model format will default to JSON in XGBoost 2.2 if not specified.\n",
      "  warnings.warn(smsg, UserWarning)\n",
      "C:\\Users\\damartinezp\\AppData\\Roaming\\Python\\Python39\\site-packages\\xgboost\\core.py:160: UserWarning: [13:37:11] WARNING: C:\\buildkite-agent\\builds\\buildkite-windows-cpu-autoscaling-group-i-0b3782d1791676daf-1\\xgboost\\xgboost-ci-windows\\src\\c_api\\c_api.cc:1240: Saving into deprecated binary model format, please consider using `json` or `ubj`. Model format will default to JSON in XGBoost 2.2 if not specified.\n",
      "  warnings.warn(smsg, UserWarning)\n",
      "C:\\Users\\damartinezp\\AppData\\Roaming\\Python\\Python39\\site-packages\\xgboost\\core.py:160: UserWarning: [13:37:25] WARNING: C:\\buildkite-agent\\builds\\buildkite-windows-cpu-autoscaling-group-i-0b3782d1791676daf-1\\xgboost\\xgboost-ci-windows\\src\\c_api\\c_api.cc:1240: Saving into deprecated binary model format, please consider using `json` or `ubj`. Model format will default to JSON in XGBoost 2.2 if not specified.\n",
      "  warnings.warn(smsg, UserWarning)\n",
      "C:\\Users\\damartinezp\\AppData\\Roaming\\Python\\Python39\\site-packages\\xgboost\\core.py:160: UserWarning: [13:37:38] WARNING: C:\\buildkite-agent\\builds\\buildkite-windows-cpu-autoscaling-group-i-0b3782d1791676daf-1\\xgboost\\xgboost-ci-windows\\src\\c_api\\c_api.cc:1240: Saving into deprecated binary model format, please consider using `json` or `ubj`. Model format will default to JSON in XGBoost 2.2 if not specified.\n",
      "  warnings.warn(smsg, UserWarning)\n",
      "C:\\Users\\damartinezp\\AppData\\Roaming\\Python\\Python39\\site-packages\\xgboost\\core.py:160: UserWarning: [13:37:51] WARNING: C:\\buildkite-agent\\builds\\buildkite-windows-cpu-autoscaling-group-i-0b3782d1791676daf-1\\xgboost\\xgboost-ci-windows\\src\\c_api\\c_api.cc:1240: Saving into deprecated binary model format, please consider using `json` or `ubj`. Model format will default to JSON in XGBoost 2.2 if not specified.\n",
      "  warnings.warn(smsg, UserWarning)\n",
      "C:\\Users\\damartinezp\\AppData\\Roaming\\Python\\Python39\\site-packages\\xgboost\\core.py:160: UserWarning: [13:38:05] WARNING: C:\\buildkite-agent\\builds\\buildkite-windows-cpu-autoscaling-group-i-0b3782d1791676daf-1\\xgboost\\xgboost-ci-windows\\src\\c_api\\c_api.cc:1240: Saving into deprecated binary model format, please consider using `json` or `ubj`. Model format will default to JSON in XGBoost 2.2 if not specified.\n",
      "  warnings.warn(smsg, UserWarning)\n"
     ]
    },
    {
     "name": "stdout",
     "output_type": "stream",
     "text": [
      "     Acc    Err     Re     Sp    Pre   FPR     F1  ROC_AUC\n",
      "0  81.10  18.90  41.83  93.65  67.78  6.35  51.73    67.74\n",
      "1  80.96  19.04  41.23  93.43  66.35  6.57  50.86    67.33\n",
      "2  81.10  18.90  42.55  93.40  67.32  6.60  52.14    67.98\n",
      "3  81.18  18.82  41.78  93.62  67.38  6.38  51.58    67.70\n",
      "4  81.26  18.74  42.22  93.56  67.39  6.44  51.92    67.89\n",
      "5  81.09  18.91  41.71  93.60  67.41  6.40  51.54    67.66\n",
      "6  81.28  18.72  42.16  93.54  67.18  6.46  51.81    67.85\n",
      "7  81.19  18.81  42.18  93.54  67.41  6.46  51.89    67.86\n",
      "8  81.06  18.94  42.11  93.47  67.28  6.53  51.80    67.79\n",
      "9  81.07  18.93  41.38  93.53  66.77  6.47  51.09    67.46\n"
     ]
    },
    {
     "name": "stderr",
     "output_type": "stream",
     "text": [
      "C:\\Users\\damartinezp\\AppData\\Roaming\\Python\\Python39\\site-packages\\xgboost\\core.py:160: UserWarning: [13:38:17] WARNING: C:\\buildkite-agent\\builds\\buildkite-windows-cpu-autoscaling-group-i-0b3782d1791676daf-1\\xgboost\\xgboost-ci-windows\\src\\c_api\\c_api.cc:1240: Saving into deprecated binary model format, please consider using `json` or `ubj`. Model format will default to JSON in XGBoost 2.2 if not specified.\n",
      "  warnings.warn(smsg, UserWarning)\n"
     ]
    },
    {
     "data": {
      "text/plain": [
       "Acc        81.129\n",
       "Err        18.871\n",
       "Re         41.915\n",
       "Sp         93.534\n",
       "Pre        67.227\n",
       "FPR         6.466\n",
       "F1         51.636\n",
       "ROC_AUC    67.726\n",
       "Name: mean, dtype: float64"
      ]
     },
     "execution_count": 467,
     "metadata": {},
     "output_type": "execute_result"
    }
   ],
   "source": [
    "import os\n",
    "\n",
    "# Asegurarse de que el directorio exista\n",
    "save_dir = 'saved_model0/XGBoost005_9/'\n",
    "os.makedirs(save_dir, exist_ok=True)  # Crea el directorio si no existe\n",
    "\n",
    "params = {\n",
    "    \"objective\": \"binary:logistic\",\n",
    "    \"eval_metric\": \"logloss\",\n",
    "    \"eta\": 0.05,\n",
    "    \"max_depth\":9,\n",
    "    \"subsample\":0.8,\n",
    "    \"colsample_bytree\":0.8,\n",
    "    \"seed\":42\n",
    "}\n",
    "\n",
    "num_folds=10\n",
    "kfold=StratifiedKFold(n_splits=num_folds, shuffle=False)\n",
    "\n",
    "np.random.seed(seed)\n",
    "indices = np.random.permutation(len(train))\n",
    "\n",
    "matrixXGBoost=pd.DataFrame()\n",
    "fold_no=1\n",
    "for train_idx, val_idx in kfold.split(train, train[\"marca_default\"]):\n",
    "    \n",
    "    train_indices = indices[train_idx]\n",
    "    val_indices = indices[val_idx]\n",
    "    train_matrix=train.drop([\"marca_default\"], axis=1)\n",
    "\n",
    "    X_train, X_val = train_matrix.iloc[train_indices], train_matrix.iloc[val_indices]\n",
    "    y_train_fold, y_val_fold = train[\"marca_default\"].iloc[train_indices], train[\"marca_default\"].iloc[val_indices]\n",
    "    \n",
    "    dtrain= xgb.DMatrix(X_train, label=y_train_fold)\n",
    "    dval= xgb.DMatrix(X_val, label=y_val_fold)\n",
    "    model=xgb.train(params, dtrain, num_boost_round=100)\n",
    "    \n",
    "    y_pred_proba=model.predict(dval)\n",
    "    y_pred_labels= np.round(y_pred_proba>=0.5).astype(int)\n",
    "    \n",
    "    cm=confusion_matrix(y_val_fold, y_pred_labels)\n",
    "    \n",
    "    acc, err, se, sp, prec, FPR =calMetrics(cm)\n",
    "    accuracy, precision, recall, f1, roc_auc=calMetrics2(y_val_fold, y_pred_labels)\n",
    "    \n",
    "    matrix={\n",
    "        \"Acc\": acc,\n",
    "        \"Err\": err,\n",
    "        \"Re\": se,\n",
    "        \"Sp\": sp,\n",
    "        \"Pre\": prec,\n",
    "        \"FPR\": FPR,\n",
    "        \"F1\":f1,\n",
    "        \"ROC_AUC\": roc_auc\n",
    "    }\n",
    "\n",
    "    matrixXGBoost = pd.concat([matrixXGBoost, pd.DataFrame([matrix])], ignore_index=True)\n",
    "    \n",
    "    model.save_model(f'saved_model0/XGBoost005_9/{fold_no}.model')\n",
    "    \n",
    "    fold_no +=1\n",
    "\n",
    "print(matrixXGBoost)\n",
    "\n",
    "matrixXGBoost.describe().loc['mean']"
   ]
  },
  {
   "cell_type": "markdown",
   "id": "e76818f8-93d1-4564-a8b1-7ed304cef9ef",
   "metadata": {},
   "source": [
    "## Backtest nuevo modelo "
   ]
  },
  {
   "cell_type": "markdown",
   "id": "25200a63-946b-4662-b4cb-b3dd66388f05",
   "metadata": {},
   "source": [
    "### Backtest Enero 2022 a Mayo 2023 o Junio 2022 a Mayo 2023 (Train y Test)"
   ]
  },
  {
   "cell_type": "code",
   "execution_count": 468,
   "id": "5bbbb4d8-6d68-4277-b490-835e69f7455a",
   "metadata": {},
   "outputs": [
    {
     "data": {
      "text/html": [
       "<div>\n",
       "<style scoped>\n",
       "    .dataframe tbody tr th:only-of-type {\n",
       "        vertical-align: middle;\n",
       "    }\n",
       "\n",
       "    .dataframe tbody tr th {\n",
       "        vertical-align: top;\n",
       "    }\n",
       "\n",
       "    .dataframe thead th {\n",
       "        text-align: right;\n",
       "    }\n",
       "</style>\n",
       "<table border=\"1\" class=\"dataframe\">\n",
       "  <thead>\n",
       "    <tr style=\"text-align: right;\">\n",
       "      <th></th>\n",
       "      <th>dias_sistema</th>\n",
       "      <th>P_MP6</th>\n",
       "      <th>TP_pp</th>\n",
       "      <th>CUPO</th>\n",
       "      <th>mora_1_a</th>\n",
       "      <th>PR_O_D</th>\n",
       "      <th>mora_2_a</th>\n",
       "      <th>C_AuM</th>\n",
       "      <th>PR_1_D</th>\n",
       "      <th>marca_default</th>\n",
       "    </tr>\n",
       "  </thead>\n",
       "  <tbody>\n",
       "    <tr>\n",
       "      <th>count</th>\n",
       "      <td>1.767691e+06</td>\n",
       "      <td>1.767691e+06</td>\n",
       "      <td>1.767691e+06</td>\n",
       "      <td>1.767691e+06</td>\n",
       "      <td>1.767691e+06</td>\n",
       "      <td>1.767691e+06</td>\n",
       "      <td>1.767691e+06</td>\n",
       "      <td>1.767691e+06</td>\n",
       "      <td>1.767691e+06</td>\n",
       "      <td>1.767691e+06</td>\n",
       "    </tr>\n",
       "    <tr>\n",
       "      <th>mean</th>\n",
       "      <td>1.402224e+01</td>\n",
       "      <td>7.134030e-01</td>\n",
       "      <td>2.060615e-01</td>\n",
       "      <td>3.357172e+06</td>\n",
       "      <td>1.212514e+01</td>\n",
       "      <td>1.918129e-01</td>\n",
       "      <td>1.138751e+01</td>\n",
       "      <td>1.255683e-01</td>\n",
       "      <td>3.724622e-01</td>\n",
       "      <td>2.403282e-01</td>\n",
       "    </tr>\n",
       "    <tr>\n",
       "      <th>std</th>\n",
       "      <td>2.596364e+01</td>\n",
       "      <td>4.521717e-01</td>\n",
       "      <td>4.044753e-01</td>\n",
       "      <td>2.100202e+06</td>\n",
       "      <td>2.427810e+01</td>\n",
       "      <td>3.937268e-01</td>\n",
       "      <td>2.492158e+01</td>\n",
       "      <td>3.313623e-01</td>\n",
       "      <td>4.834607e-01</td>\n",
       "      <td>4.272829e-01</td>\n",
       "    </tr>\n",
       "    <tr>\n",
       "      <th>min</th>\n",
       "      <td>0.000000e+00</td>\n",
       "      <td>0.000000e+00</td>\n",
       "      <td>0.000000e+00</td>\n",
       "      <td>5.000000e+04</td>\n",
       "      <td>0.000000e+00</td>\n",
       "      <td>0.000000e+00</td>\n",
       "      <td>0.000000e+00</td>\n",
       "      <td>0.000000e+00</td>\n",
       "      <td>0.000000e+00</td>\n",
       "      <td>0.000000e+00</td>\n",
       "    </tr>\n",
       "    <tr>\n",
       "      <th>25%</th>\n",
       "      <td>0.000000e+00</td>\n",
       "      <td>0.000000e+00</td>\n",
       "      <td>0.000000e+00</td>\n",
       "      <td>1.460000e+06</td>\n",
       "      <td>0.000000e+00</td>\n",
       "      <td>0.000000e+00</td>\n",
       "      <td>0.000000e+00</td>\n",
       "      <td>0.000000e+00</td>\n",
       "      <td>0.000000e+00</td>\n",
       "      <td>0.000000e+00</td>\n",
       "    </tr>\n",
       "    <tr>\n",
       "      <th>50%</th>\n",
       "      <td>0.000000e+00</td>\n",
       "      <td>1.000000e+00</td>\n",
       "      <td>0.000000e+00</td>\n",
       "      <td>3.000000e+06</td>\n",
       "      <td>0.000000e+00</td>\n",
       "      <td>0.000000e+00</td>\n",
       "      <td>0.000000e+00</td>\n",
       "      <td>0.000000e+00</td>\n",
       "      <td>0.000000e+00</td>\n",
       "      <td>0.000000e+00</td>\n",
       "    </tr>\n",
       "    <tr>\n",
       "      <th>75%</th>\n",
       "      <td>1.600000e+01</td>\n",
       "      <td>1.000000e+00</td>\n",
       "      <td>0.000000e+00</td>\n",
       "      <td>5.600000e+06</td>\n",
       "      <td>1.200000e+01</td>\n",
       "      <td>0.000000e+00</td>\n",
       "      <td>1.100000e+01</td>\n",
       "      <td>0.000000e+00</td>\n",
       "      <td>1.000000e+00</td>\n",
       "      <td>0.000000e+00</td>\n",
       "    </tr>\n",
       "    <tr>\n",
       "      <th>max</th>\n",
       "      <td>9.000000e+01</td>\n",
       "      <td>1.000000e+00</td>\n",
       "      <td>1.000000e+00</td>\n",
       "      <td>6.600000e+06</td>\n",
       "      <td>1.200000e+02</td>\n",
       "      <td>1.000000e+00</td>\n",
       "      <td>1.500000e+02</td>\n",
       "      <td>1.000000e+00</td>\n",
       "      <td>1.000000e+00</td>\n",
       "      <td>1.000000e+00</td>\n",
       "    </tr>\n",
       "  </tbody>\n",
       "</table>\n",
       "</div>"
      ],
      "text/plain": [
       "       dias_sistema         P_MP6         TP_pp          CUPO      mora_1_a  \\\n",
       "count  1.767691e+06  1.767691e+06  1.767691e+06  1.767691e+06  1.767691e+06   \n",
       "mean   1.402224e+01  7.134030e-01  2.060615e-01  3.357172e+06  1.212514e+01   \n",
       "std    2.596364e+01  4.521717e-01  4.044753e-01  2.100202e+06  2.427810e+01   \n",
       "min    0.000000e+00  0.000000e+00  0.000000e+00  5.000000e+04  0.000000e+00   \n",
       "25%    0.000000e+00  0.000000e+00  0.000000e+00  1.460000e+06  0.000000e+00   \n",
       "50%    0.000000e+00  1.000000e+00  0.000000e+00  3.000000e+06  0.000000e+00   \n",
       "75%    1.600000e+01  1.000000e+00  0.000000e+00  5.600000e+06  1.200000e+01   \n",
       "max    9.000000e+01  1.000000e+00  1.000000e+00  6.600000e+06  1.200000e+02   \n",
       "\n",
       "             PR_O_D      mora_2_a         C_AuM        PR_1_D  marca_default  \n",
       "count  1.767691e+06  1.767691e+06  1.767691e+06  1.767691e+06   1.767691e+06  \n",
       "mean   1.918129e-01  1.138751e+01  1.255683e-01  3.724622e-01   2.403282e-01  \n",
       "std    3.937268e-01  2.492158e+01  3.313623e-01  4.834607e-01   4.272829e-01  \n",
       "min    0.000000e+00  0.000000e+00  0.000000e+00  0.000000e+00   0.000000e+00  \n",
       "25%    0.000000e+00  0.000000e+00  0.000000e+00  0.000000e+00   0.000000e+00  \n",
       "50%    0.000000e+00  0.000000e+00  0.000000e+00  0.000000e+00   0.000000e+00  \n",
       "75%    0.000000e+00  1.100000e+01  0.000000e+00  1.000000e+00   0.000000e+00  \n",
       "max    1.000000e+00  1.500000e+02  1.000000e+00  1.000000e+00   1.000000e+00  "
      ]
     },
     "execution_count": 468,
     "metadata": {},
     "output_type": "execute_result"
    }
   ],
   "source": [
    "#OPCIÓN DE SELECCIÓN DE VARIABLES DE ACUERDO AL STEPWISE\n",
    "df1=df[variables3]\n",
    "df1.describe()"
   ]
  },
  {
   "cell_type": "code",
   "execution_count": 469,
   "id": "2936bcc9-c787-4418-bdfa-685ffc4b80a0",
   "metadata": {},
   "outputs": [
    {
     "name": "stderr",
     "output_type": "stream",
     "text": [
      "C:\\Users\\damartinezp\\AppData\\Local\\Temp\\ipykernel_172\\425544359.py:6: FutureWarning: Setting an item of incompatible dtype is deprecated and will raise in a future error of pandas. Value '[0.         0.12222222 0.57777778 ... 0.         0.         0.33333333]' has dtype incompatible with int64, please explicitly cast to a compatible dtype first.\n",
      "  df1.loc[:, cuantis] = scaler_cargado.transform(df1[cuantis])\n"
     ]
    }
   ],
   "source": [
    "import joblib\n",
    "scaler_cargado = joblib.load('escalador_minmax_modelo.pkl')\n",
    "#scaler = MinMaxScaler()\n",
    "#scaler.fit(df1[cuantis])\n",
    "df1.loc[:, cuantis] = df1[cuantis].astype(float)  \n",
    "df1.loc[:, cuantis] = scaler_cargado.transform(df1[cuantis])  \n",
    "for i in cualis:\n",
    "    labelencoder = LabelEncoder()\n",
    "    df1.loc[:, i] = labelencoder.fit_transform(df1[i])\n",
    "\n",
    "X=df1.drop(columns=[\"marca_default\"])\n",
    "y=df1[\"marca_default\"]\n",
    "\n",
    "train_size=0.8\n",
    "#train, test2 = model_selection.train_test_split(df2,train_size=int(train_size*len(df2)), stratify=df2[\"marca_default\"], random_state=seed)\n",
    "train, test = model_selection.train_test_split(df1,train_size=int(train_size*len(df1)), stratify=df1[\"marca_default\"], random_state=seed)"
   ]
  },
  {
   "cell_type": "code",
   "execution_count": 470,
   "id": "1c72e7cf-1e0a-490d-8cd3-af5fb950d02f",
   "metadata": {},
   "outputs": [],
   "source": [
    "#Métricas de evaluación:\n",
    "def calMetrics(cm):\n",
    "  #Se toman de esta forma los valores para que la clase positiva sea {1}\n",
    "  TN = cm[0,0]\n",
    "  TP = cm[1,1]\n",
    "  FN = cm[1,0]\n",
    "  FP = cm[0,1]\n",
    "  acc = round(((TP + TN) / (TP + TN + FP + FN))*100,2)          #Accuracy\n",
    "  err = round((1 - ((TP + TN) / (TP + TN + FP + FN)))*100,2)    #Tasa de error saved_model10\n",
    "  se = round((TP / (TP + FN))*100,2)                            #Sensibilidad o Recall\n",
    "  sp = round((TN / ( TN + FP))*100,2)                          #Especificidad \n",
    "  prec = round((TP / (TP + FP))*100,2)                          #Precision\n",
    "  FPR = round((FP / (FP + TN))*100,2)                           #Tasa de falsos positivos\n",
    "  return acc,err,se,sp,prec,FPR\n",
    "\n",
    "#Métricas de evaluación con librerias \n",
    "def calMetrics2(y_val_fold, y_pred_labels):\n",
    "    accuracy = accuracy_score(y_val_fold, y_pred_labels)\n",
    "    precision = precision_score(y_val_fold, y_pred_labels)\n",
    "    recall = recall_score(y_val_fold, y_pred_labels)\n",
    "    f1 = round(f1_score(y_val_fold, y_pred_labels)*100,2)\n",
    "    roc_auc = round(roc_auc_score(y_val_fold, y_pred_labels)*100,2)\n",
    "    conf_matrix = confusion_matrix(y_val_fold, y_pred_labels)\n",
    "    return accuracy,precision,recall,f1,roc_auc"
   ]
  },
  {
   "cell_type": "markdown",
   "id": "1065edfb-cf81-4907-a9fe-c83a96eaa36c",
   "metadata": {
    "tags": []
   },
   "source": [
    "### Cargando modelo: se selecciona el modelo XGBoost Tasa 0.1 y Profundidad 9."
   ]
  },
  {
   "cell_type": "code",
   "execution_count": 471,
   "id": "cbfc71a4-5344-47b4-835f-cf421a79b56c",
   "metadata": {},
   "outputs": [],
   "source": [
    "model_path_1 = f'saved_model0/XGBoost01_9/1.model'\n",
    "model_path_2 = f'saved_model0/XGBoost01_9/2.model'\n",
    "model_path_3 = f'saved_model0/XGBoost01_9/3.model'\n",
    "model_path_4 = f'saved_model0/XGBoost01_9/4.model'\n",
    "model_path_5 = f'saved_model0/XGBoost01_9/5.model'\n",
    "model_path_6 = f'saved_model0/XGBoost01_9/6.model'\n",
    "model_path_7 = f'saved_model0/XGBoost01_9/7.model'\n",
    "model_path_8 = f'saved_model0/XGBoost01_9/8.model'\n",
    "model_path_9 = f'saved_model0/XGBoost01_9/9.model'\n",
    "model_path_10 = f'saved_model0/XGBoost01_9/10.model'\n",
    "\n",
    "model_1 = xgb.Booster()\n",
    "model_1.load_model(model_path_1)\n",
    "\n",
    "model_2 = xgb.Booster()\n",
    "model_2.load_model(model_path_2)\n",
    "\n",
    "model_3 = xgb.Booster()\n",
    "model_3.load_model(model_path_3)\n",
    "\n",
    "model_4 = xgb.Booster()\n",
    "model_4.load_model(model_path_4)\n",
    "\n",
    "model_5 = xgb.Booster()\n",
    "model_5.load_model(model_path_5)\n",
    "\n",
    "model_6 = xgb.Booster()\n",
    "model_6.load_model(model_path_6)\n",
    "\n",
    "model_7 = xgb.Booster()\n",
    "model_7.load_model(model_path_7)\n",
    "\n",
    "model_8 = xgb.Booster()\n",
    "model_8.load_model(model_path_8)\n",
    "\n",
    "model_9 = xgb.Booster()\n",
    "model_9.load_model(model_path_9)\n",
    "\n",
    "model_10 = xgb.Booster()\n",
    "model_10.load_model(model_path_10)"
   ]
  },
  {
   "cell_type": "raw",
   "id": "0570569f-4bfd-4271-a4a2-b60c6b21f760",
   "metadata": {},
   "source": [
    "feature_names_1 = model_1.feature_names\n",
    "print(\"Nombres de las características:\", feature_names_1)"
   ]
  },
  {
   "cell_type": "raw",
   "id": "a9410127-ec77-4b52-8bd3-684cb9c5a333",
   "metadata": {
    "tags": []
   },
   "source": [
    "trees = model_10.get_dump()\n",
    "# Mostrar los primeros 5 árboles\n",
    "for i, tree in enumerate(trees[:5]):\n",
    "    print(f\"Árbol {i+1}:\\n\", tree)"
   ]
  },
  {
   "cell_type": "raw",
   "id": "35289990-9d9e-45d5-9508-1dbd2eb07fe7",
   "metadata": {},
   "source": [
    "importancia = model_10.get_fscore()\n",
    "print(\"Importancia de las características:\", importancia)"
   ]
  },
  {
   "cell_type": "markdown",
   "id": "2a9c959b-897f-4209-a526-be3fef762221",
   "metadata": {},
   "source": [
    "### Observando la muestra de entrenamiento con XGboost"
   ]
  },
  {
   "cell_type": "code",
   "execution_count": 472,
   "id": "d82f8e3d-38f7-4f8d-aa47-f640e62b8c5f",
   "metadata": {},
   "outputs": [],
   "source": [
    "X_train = train.drop(columns=[\"marca_default\"])\n",
    "y_train = train[\"marca_default\"]\n",
    "X_train=X_train.reset_index(drop=True)\n",
    "y_train=y_train.reset_index(drop=True)\n",
    "dtrain= xgb.DMatrix(X_train, label=y_train)"
   ]
  },
  {
   "cell_type": "code",
   "execution_count": 473,
   "id": "1735d199-a489-4ad9-ba0b-8044edcf2016",
   "metadata": {},
   "outputs": [],
   "source": [
    "y_pred_proba_1 = model_1.predict(dtrain)\n",
    "y_pred_proba_2 = model_2.predict(dtrain)\n",
    "y_pred_proba_3 = model_3.predict(dtrain)\n",
    "y_pred_proba_4 = model_4.predict(dtrain)\n",
    "y_pred_proba_5 = model_5.predict(dtrain)\n",
    "y_pred_proba_6 = model_6.predict(dtrain)\n",
    "y_pred_proba_7 = model_7.predict(dtrain)\n",
    "y_pred_proba_8 = model_8.predict(dtrain)\n",
    "y_pred_proba_9 = model_9.predict(dtrain)\n",
    "y_pred_proba_10 = model_10.predict(dtrain)\n",
    "\n",
    "y_pred_proba=(y_pred_proba_1+y_pred_proba_2+y_pred_proba_3+y_pred_proba_4+y_pred_proba_5+y_pred_proba_6\n",
    "             +y_pred_proba_7+y_pred_proba_8+y_pred_proba_9+y_pred_proba_10)/10\n",
    "\n",
    "y_pred_labels = (y_pred_proba > proba).astype(int)"
   ]
  },
  {
   "cell_type": "code",
   "execution_count": 475,
   "id": "9bf52ebc-54cc-4838-9e93-7eb7265a14e5",
   "metadata": {},
   "outputs": [],
   "source": [
    "cm=confusion_matrix(y_train, y_pred_labels)\n",
    "\n",
    "acc, err, se, sp, prec, FPR =calMetrics(cm)\n",
    "accuracy, precision, recall, f1, roc_auc=calMetrics2(y_train, y_pred_labels)\n",
    "    \n",
    "matrix={\n",
    "    \"Acc\": acc,\n",
    "    \"Err\": err,\n",
    "    \"Re\": se,\n",
    "    \"Sp\": sp,\n",
    "    \"Pre\": prec,\n",
    "    \"FPR\": FPR,\n",
    "    \"F1\":f1,\n",
    "    \"ROC_AUC\": roc_auc\n",
    "}"
   ]
  },
  {
   "cell_type": "code",
   "execution_count": 476,
   "id": "663fbe1a-a6d5-4687-8626-6f7b6e478320",
   "metadata": {},
   "outputs": [
    {
     "data": {
      "text/plain": [
       "{'Acc': 81.64,\n",
       " 'Err': 18.36,\n",
       " 'Re': 42.46,\n",
       " 'Sp': 94.04,\n",
       " 'Pre': 69.27,\n",
       " 'FPR': 5.96,\n",
       " 'F1': 52.65,\n",
       " 'ROC_AUC': 68.25}"
      ]
     },
     "execution_count": 476,
     "metadata": {},
     "output_type": "execute_result"
    }
   ],
   "source": [
    "matrix"
   ]
  },
  {
   "cell_type": "code",
   "execution_count": 477,
   "id": "0fd100d3-3754-46e4-9ad5-7316f7e8a5f1",
   "metadata": {},
   "outputs": [
    {
     "data": {
      "text/plain": [
       "<AxesSubplot:>"
      ]
     },
     "execution_count": 477,
     "metadata": {},
     "output_type": "execute_result"
    },
    {
     "data": {
      "image/png": "[encoded data removed]",
      "text/plain": [
       "<Figure size 640x480 with 2 Axes>"
      ]
     },
     "metadata": {},
     "output_type": "display_data"
    }
   ],
   "source": [
    "cm = confusion_matrix(y_train, y_pred_labels)\n",
    "sns.heatmap(cm, annot=True, cmap='viridis', fmt='g')"
   ]
  },
  {
   "cell_type": "code",
   "execution_count": 478,
   "id": "feeb150d-1a45-4793-9c8d-841ee8a288c3",
   "metadata": {},
   "outputs": [],
   "source": [
    "df_output = pd.DataFrame({\"puntaje\": y_pred_proba, \"marca_default\": y_train})\n",
    "df_output.insert(0, \"V1\", range(1, len(df_output) + 1))"
   ]
  },
  {
   "cell_type": "code",
   "execution_count": 479,
   "id": "4b2bc068-65ea-45f0-af15-c4600e879c4b",
   "metadata": {},
   "outputs": [],
   "source": [
    "df_output_01_Train=df_output"
   ]
  },
  {
   "cell_type": "code",
   "execution_count": 480,
   "id": "57d9bb24-4cc8-429a-92e8-9f7fe55fcbed",
   "metadata": {},
   "outputs": [
    {
     "data": {
      "text/html": [
       "<div>\n",
       "<style scoped>\n",
       "    .dataframe tbody tr th:only-of-type {\n",
       "        vertical-align: middle;\n",
       "    }\n",
       "\n",
       "    .dataframe tbody tr th {\n",
       "        vertical-align: top;\n",
       "    }\n",
       "\n",
       "    .dataframe thead th {\n",
       "        text-align: right;\n",
       "    }\n",
       "</style>\n",
       "<table border=\"1\" class=\"dataframe\">\n",
       "  <thead>\n",
       "    <tr style=\"text-align: right;\">\n",
       "      <th></th>\n",
       "      <th>V1</th>\n",
       "      <th>puntaje</th>\n",
       "      <th>marca_default</th>\n",
       "    </tr>\n",
       "  </thead>\n",
       "  <tbody>\n",
       "    <tr>\n",
       "      <th>0</th>\n",
       "      <td>1</td>\n",
       "      <td>0.112029</td>\n",
       "      <td>0</td>\n",
       "    </tr>\n",
       "    <tr>\n",
       "      <th>1</th>\n",
       "      <td>2</td>\n",
       "      <td>0.113158</td>\n",
       "      <td>0</td>\n",
       "    </tr>\n",
       "    <tr>\n",
       "      <th>2</th>\n",
       "      <td>3</td>\n",
       "      <td>0.203849</td>\n",
       "      <td>0</td>\n",
       "    </tr>\n",
       "    <tr>\n",
       "      <th>3</th>\n",
       "      <td>4</td>\n",
       "      <td>0.226405</td>\n",
       "      <td>0</td>\n",
       "    </tr>\n",
       "    <tr>\n",
       "      <th>4</th>\n",
       "      <td>5</td>\n",
       "      <td>0.001849</td>\n",
       "      <td>0</td>\n",
       "    </tr>\n",
       "    <tr>\n",
       "      <th>5</th>\n",
       "      <td>6</td>\n",
       "      <td>0.075975</td>\n",
       "      <td>0</td>\n",
       "    </tr>\n",
       "    <tr>\n",
       "      <th>6</th>\n",
       "      <td>7</td>\n",
       "      <td>0.628416</td>\n",
       "      <td>1</td>\n",
       "    </tr>\n",
       "    <tr>\n",
       "      <th>7</th>\n",
       "      <td>8</td>\n",
       "      <td>0.000732</td>\n",
       "      <td>0</td>\n",
       "    </tr>\n",
       "    <tr>\n",
       "      <th>8</th>\n",
       "      <td>9</td>\n",
       "      <td>0.002065</td>\n",
       "      <td>0</td>\n",
       "    </tr>\n",
       "    <tr>\n",
       "      <th>9</th>\n",
       "      <td>10</td>\n",
       "      <td>0.391505</td>\n",
       "      <td>0</td>\n",
       "    </tr>\n",
       "  </tbody>\n",
       "</table>\n",
       "</div>"
      ],
      "text/plain": [
       "   V1   puntaje  marca_default\n",
       "0   1  0.112029              0\n",
       "1   2  0.113158              0\n",
       "2   3  0.203849              0\n",
       "3   4  0.226405              0\n",
       "4   5  0.001849              0\n",
       "5   6  0.075975              0\n",
       "6   7  0.628416              1\n",
       "7   8  0.000732              0\n",
       "8   9  0.002065              0\n",
       "9  10  0.391505              0"
      ]
     },
     "execution_count": 480,
     "metadata": {},
     "output_type": "execute_result"
    }
   ],
   "source": [
    "df_output_01_Train.head(10)"
   ]
  },
  {
   "cell_type": "code",
   "execution_count": 481,
   "id": "cdcb38a2-d3cf-4835-83cb-866c5fa1adc6",
   "metadata": {},
   "outputs": [],
   "source": [
    "df_output_01_Train.to_csv(\"C:/Users/damartinezp/OneDrive - BAN100 S.A/Documentos/Proyectos Borrador/PD_C1/2024_modelo/saved_model0/datos_salida_XG_01_9_TRAIN.csv\")\n",
    "df_output_01_Train.to_csv(\"C:/Users/damartinezp/OneDrive - BAN100 S.A/Documentos/Proyectos Borrador/PD_C1/2024_modelo/datos_salida_XG_01_9_TRAIN.csv\")"
   ]
  },
  {
   "cell_type": "code",
   "execution_count": 482,
   "id": "3fc46897-3683-43cd-96de-e4504b272516",
   "metadata": {},
   "outputs": [
    {
     "name": "stdout",
     "output_type": "stream",
     "text": [
      "marca_default\n",
      "0    1074291\n",
      "1     339861\n",
      "Name: count, dtype: int64\n"
     ]
    }
   ],
   "source": [
    "print(df_output[\"marca_default\"].value_counts())"
   ]
  },
  {
   "cell_type": "code",
   "execution_count": 483,
   "id": "d0b31e23-6144-403c-ad76-ce6faab0b522",
   "metadata": {},
   "outputs": [],
   "source": [
    "deciles = np.percentile(y_pred_proba, [10, 20, 30, 40, 50, 60, 70, 80, 90, 100])\n",
    "inferior=0\n",
    "superior=1\n",
    "deciles = np.append(inferior,deciles)\n",
    "deciles[-1]=superior\n",
    "# Asignar deciles a cada fila basado en el puntaje\n",
    "df_output[\"decil\"] = pd.cut(df_output[\"puntaje\"], bins=deciles, labels=False, include_lowest=True)\n",
    "# Crear una lista de los intervalos de los deciles\n",
    "intervalos = []\n",
    "for i in range(len(deciles) - 1):\n",
    "    intervalos.append(f\"{deciles[i]} - {deciles[i+1]}\")"
   ]
  },
  {
   "cell_type": "code",
   "execution_count": 484,
   "id": "833662a1-97d3-4bf0-92cc-df25bc39afe7",
   "metadata": {},
   "outputs": [],
   "source": [
    "deciles_train_01=deciles\n",
    "intervalos_train_01=intervalos"
   ]
  },
  {
   "cell_type": "code",
   "execution_count": 485,
   "id": "889ebefe-85f3-4461-93c6-45f31f8a7317",
   "metadata": {},
   "outputs": [],
   "source": [
    "# Calcular el número de eventos y no eventos para cada intervalo de decil\n",
    "eventos = []\n",
    "no_eventos = []\n",
    "intervalo=[]\n",
    "for i in range(len(deciles) - 1):\n",
    "    intervalo = df_output[(df_output['puntaje'] >= deciles[i]) & (df_output['puntaje'] < deciles[i+1])]\n",
    "    eventos.append(intervalo[\"marca_default\"].sum())\n",
    "    no_eventos.append(len(intervalo) - intervalo[\"marca_default\"].sum())\n",
    "eventos.reverse()\n",
    "no_eventos.reverse()\n",
    "    \n",
    "# Calcular el total de eventos y no eventos\n",
    "total_eventos = df_output[\"marca_default\"].sum()\n",
    "total_no_eventos = len(df_output) - df_output[\"marca_default\"].sum()\n",
    "total_bin = [x + y for x, y in zip(eventos,no_eventos)]\n",
    "data = {'Min': np.flip(deciles[0:len(deciles)-1]).tolist(),\n",
    "        'Max': np.flip(deciles[1:len(deciles)]).tolist(),\n",
    "        '0': no_eventos,\n",
    "        '1': eventos,\n",
    "        'total': total_bin}\n",
    "df_resultado = pd.DataFrame(data)"
   ]
  },
  {
   "cell_type": "code",
   "execution_count": 486,
   "id": "dacd0412-2abb-4d7f-9e1c-5aea63dc7c0e",
   "metadata": {},
   "outputs": [
    {
     "name": "stdout",
     "output_type": "stream",
     "text": [
      "        Min       Max       0       1   total\n",
      "0  0.588194  1.000000   33638  107796  141434\n",
      "1  0.414337  0.588194   71517   69880  141397\n",
      "2  0.305586  0.414337   92275   49142  141417\n",
      "3  0.198159  0.305586  108007   33410  141417\n",
      "4  0.125598  0.198159  120589   20906  141495\n",
      "5  0.115702  0.125598  124448   17072  141520\n",
      "6  0.105574  0.115702  126901   15155  142056\n",
      "7  0.086602  0.105574  210235   20782  231017\n",
      "8  0.075975  0.086602   48900    3912   52812\n",
      "9  0.000000  0.075975  137781    1806  139587\n"
     ]
    }
   ],
   "source": [
    "df_resultado_01_train=df_resultado\n",
    "print(df_resultado_01_train)"
   ]
  },
  {
   "cell_type": "markdown",
   "id": "a811cbdb-3cc1-42a7-aca7-0b803782a551",
   "metadata": {},
   "source": [
    "### Observando el conjunto del test"
   ]
  },
  {
   "cell_type": "code",
   "execution_count": 487,
   "id": "c236e6dd-65c9-45f6-8cd8-59e305c1b2cf",
   "metadata": {},
   "outputs": [],
   "source": [
    "X_test = test.drop(columns=[\"marca_default\"])\n",
    "y_test = test[\"marca_default\"]\n",
    "X_test=X_test.reset_index(drop=True)\n",
    "y_test=y_test.reset_index(drop=True)\n",
    "dtest = xgb.DMatrix(X_test, label=y_test)"
   ]
  },
  {
   "cell_type": "code",
   "execution_count": 488,
   "id": "9d0e197d-061e-419e-a8ca-1d76e24595a6",
   "metadata": {},
   "outputs": [],
   "source": [
    "y_pred_proba_1 = model_1.predict(dtest)\n",
    "y_pred_proba_2 = model_2.predict(dtest)\n",
    "y_pred_proba_3 = model_3.predict(dtest)\n",
    "y_pred_proba_4 = model_4.predict(dtest)\n",
    "y_pred_proba_5 = model_5.predict(dtest)\n",
    "y_pred_proba_6 = model_6.predict(dtest)\n",
    "y_pred_proba_7 = model_7.predict(dtest)\n",
    "y_pred_proba_8 = model_8.predict(dtest)\n",
    "y_pred_proba_9 = model_9.predict(dtest)\n",
    "y_pred_proba_10 = model_10.predict(dtest)\n",
    "\n",
    "y_pred_proba=(y_pred_proba_1+y_pred_proba_2+y_pred_proba_3+y_pred_proba_4+y_pred_proba_5+y_pred_proba_6\n",
    "             +y_pred_proba_7+y_pred_proba_8+y_pred_proba_9+y_pred_proba_10)/10\n",
    "\n",
    "y_pred_labels = (y_pred_proba > proba).astype(int)    "
   ]
  },
  {
   "cell_type": "code",
   "execution_count": 489,
   "id": "d0909435-5561-4345-ae2d-d9a0fe935069",
   "metadata": {},
   "outputs": [
    {
     "data": {
      "text/plain": [
       "353539"
      ]
     },
     "execution_count": 489,
     "metadata": {},
     "output_type": "execute_result"
    }
   ],
   "source": [
    "len(y_pred_proba)"
   ]
  },
  {
   "cell_type": "code",
   "execution_count": 490,
   "id": "58b2e4df-f42a-4699-aeda-707fc6812b10",
   "metadata": {},
   "outputs": [],
   "source": [
    "cm=confusion_matrix(y_test, y_pred_labels)\n",
    "\n",
    "acc, err, se, sp, prec, FPR =calMetrics(cm)\n",
    "accuracy, precision, recall, f1, roc_auc=calMetrics2(y_test, y_pred_labels)\n",
    "    \n",
    "matrix={\n",
    "    \"Acc\": acc,\n",
    "    \"Err\": err,\n",
    "    \"Re\": se,\n",
    "    \"Sp\": sp,\n",
    "    \"Pre\": prec,\n",
    "    \"FPR\": FPR,\n",
    "    \"F1\":f1,\n",
    "    \"ROC_AUC\": roc_auc\n",
    "}"
   ]
  },
  {
   "cell_type": "code",
   "execution_count": 491,
   "id": "5ba67450-8f60-439e-87e5-bbd32921cf92",
   "metadata": {},
   "outputs": [
    {
     "data": {
      "text/plain": [
       "{'Acc': 81.24,\n",
       " 'Err': 18.76,\n",
       " 'Re': 41.77,\n",
       " 'Sp': 93.73,\n",
       " 'Pre': 67.81,\n",
       " 'FPR': 6.27,\n",
       " 'F1': 51.7,\n",
       " 'ROC_AUC': 67.75}"
      ]
     },
     "execution_count": 491,
     "metadata": {},
     "output_type": "execute_result"
    }
   ],
   "source": [
    "matrix"
   ]
  },
  {
   "cell_type": "code",
   "execution_count": 492,
   "id": "b993e664-063d-4048-a8eb-cafb84906906",
   "metadata": {},
   "outputs": [
    {
     "data": {
      "text/plain": [
       "<AxesSubplot:>"
      ]
     },
     "execution_count": 492,
     "metadata": {},
     "output_type": "execute_result"
    },
    {
     "data": {
      "image/png": "[encoded data removed]",
      "text/plain": [
       "<Figure size 640x480 with 2 Axes>"
      ]
     },
     "metadata": {},
     "output_type": "display_data"
    }
   ],
   "source": [
    "cm = confusion_matrix(y_test, y_pred_labels)\n",
    "sns.heatmap(cm, annot=True, cmap='viridis', fmt='g')"
   ]
  },
  {
   "cell_type": "code",
   "execution_count": 493,
   "id": "e23648b0-740f-4e86-9283-f705d6106211",
   "metadata": {},
   "outputs": [],
   "source": [
    "df_output = pd.DataFrame({\"puntaje\": y_pred_proba, \"marca_default\": y_test})\n",
    "df_output.insert(0, \"V1\", range(1, len(df_output) + 1))"
   ]
  },
  {
   "cell_type": "code",
   "execution_count": 494,
   "id": "3546565f-91f3-4d4c-bd41-2c742693e254",
   "metadata": {},
   "outputs": [],
   "source": [
    "df_output_01_Test=df_output"
   ]
  },
  {
   "cell_type": "code",
   "execution_count": 495,
   "id": "e86f1223-20d7-42ef-aecf-44d7d63d678a",
   "metadata": {},
   "outputs": [
    {
     "data": {
      "text/html": [
       "<div>\n",
       "<style scoped>\n",
       "    .dataframe tbody tr th:only-of-type {\n",
       "        vertical-align: middle;\n",
       "    }\n",
       "\n",
       "    .dataframe tbody tr th {\n",
       "        vertical-align: top;\n",
       "    }\n",
       "\n",
       "    .dataframe thead th {\n",
       "        text-align: right;\n",
       "    }\n",
       "</style>\n",
       "<table border=\"1\" class=\"dataframe\">\n",
       "  <thead>\n",
       "    <tr style=\"text-align: right;\">\n",
       "      <th></th>\n",
       "      <th>V1</th>\n",
       "      <th>puntaje</th>\n",
       "      <th>marca_default</th>\n",
       "    </tr>\n",
       "  </thead>\n",
       "  <tbody>\n",
       "    <tr>\n",
       "      <th>0</th>\n",
       "      <td>1</td>\n",
       "      <td>0.487380</td>\n",
       "      <td>0</td>\n",
       "    </tr>\n",
       "    <tr>\n",
       "      <th>1</th>\n",
       "      <td>2</td>\n",
       "      <td>0.003463</td>\n",
       "      <td>0</td>\n",
       "    </tr>\n",
       "    <tr>\n",
       "      <th>2</th>\n",
       "      <td>3</td>\n",
       "      <td>0.432099</td>\n",
       "      <td>0</td>\n",
       "    </tr>\n",
       "    <tr>\n",
       "      <th>3</th>\n",
       "      <td>4</td>\n",
       "      <td>0.450601</td>\n",
       "      <td>1</td>\n",
       "    </tr>\n",
       "    <tr>\n",
       "      <th>4</th>\n",
       "      <td>5</td>\n",
       "      <td>0.412690</td>\n",
       "      <td>0</td>\n",
       "    </tr>\n",
       "    <tr>\n",
       "      <th>...</th>\n",
       "      <td>...</td>\n",
       "      <td>...</td>\n",
       "      <td>...</td>\n",
       "    </tr>\n",
       "    <tr>\n",
       "      <th>353534</th>\n",
       "      <td>353535</td>\n",
       "      <td>0.208187</td>\n",
       "      <td>0</td>\n",
       "    </tr>\n",
       "    <tr>\n",
       "      <th>353535</th>\n",
       "      <td>353536</td>\n",
       "      <td>0.352931</td>\n",
       "      <td>0</td>\n",
       "    </tr>\n",
       "    <tr>\n",
       "      <th>353536</th>\n",
       "      <td>353537</td>\n",
       "      <td>0.552563</td>\n",
       "      <td>1</td>\n",
       "    </tr>\n",
       "    <tr>\n",
       "      <th>353537</th>\n",
       "      <td>353538</td>\n",
       "      <td>0.096565</td>\n",
       "      <td>1</td>\n",
       "    </tr>\n",
       "    <tr>\n",
       "      <th>353538</th>\n",
       "      <td>353539</td>\n",
       "      <td>0.344883</td>\n",
       "      <td>0</td>\n",
       "    </tr>\n",
       "  </tbody>\n",
       "</table>\n",
       "<p>353539 rows × 3 columns</p>\n",
       "</div>"
      ],
      "text/plain": [
       "            V1   puntaje  marca_default\n",
       "0            1  0.487380              0\n",
       "1            2  0.003463              0\n",
       "2            3  0.432099              0\n",
       "3            4  0.450601              1\n",
       "4            5  0.412690              0\n",
       "...        ...       ...            ...\n",
       "353534  353535  0.208187              0\n",
       "353535  353536  0.352931              0\n",
       "353536  353537  0.552563              1\n",
       "353537  353538  0.096565              1\n",
       "353538  353539  0.344883              0\n",
       "\n",
       "[353539 rows x 3 columns]"
      ]
     },
     "execution_count": 495,
     "metadata": {},
     "output_type": "execute_result"
    }
   ],
   "source": [
    "df_output_01_Test"
   ]
  },
  {
   "cell_type": "code",
   "execution_count": 496,
   "id": "327a0062-15ca-42b8-89ab-529a2f1e961f",
   "metadata": {},
   "outputs": [],
   "source": [
    "df_output_01_Test.to_csv(\"C:/Users/damartinezp/OneDrive - BAN100 S.A/Documentos/Proyectos Borrador/PD_C1/2024_modelo/saved_model0/datos_salida_XG_01_9_TEST.csv\")\n",
    "df_output_01_Test.to_csv(\"C:/Users/damartinezp/OneDrive - BAN100 S.A/Documentos/Proyectos Borrador/PD_C1/2024_modelo/datos_salida_XG_01_9_TEST.csv\")"
   ]
  },
  {
   "cell_type": "code",
   "execution_count": 497,
   "id": "c2068b3f-351a-4232-be11-3f161e6f95dd",
   "metadata": {},
   "outputs": [
    {
     "name": "stdout",
     "output_type": "stream",
     "text": [
      "marca_default\n",
      "0    268574\n",
      "1     84965\n",
      "Name: count, dtype: int64\n"
     ]
    }
   ],
   "source": [
    "print(df_output[\"marca_default\"].value_counts())"
   ]
  },
  {
   "cell_type": "code",
   "execution_count": 498,
   "id": "e9f6e6d0-2901-486e-a590-69a3b90af40c",
   "metadata": {},
   "outputs": [],
   "source": [
    "deciles=deciles_train_01"
   ]
  },
  {
   "cell_type": "code",
   "execution_count": 499,
   "id": "c24619eb-f1b0-4951-ac41-8252060af99f",
   "metadata": {},
   "outputs": [],
   "source": [
    "# Asignar deciles a cada fila basado en el puntaje\n",
    "df_output[\"decil\"] = pd.cut(df_output[\"puntaje\"], bins=deciles, labels=False, include_lowest=True)\n",
    "# Crear una lista de los intervalos de los deciles\n",
    "intervalos = []\n",
    "for i in range(len(deciles) - 1):\n",
    "    intervalos.append(f\"{deciles[i]} - {deciles[i+1]}\")"
   ]
  },
  {
   "cell_type": "code",
   "execution_count": 500,
   "id": "d21a85c8-68a0-4728-9eb7-0ee18c8fb555",
   "metadata": {},
   "outputs": [],
   "source": [
    "# Calcular el número de eventos y no eventos para cada intervalo de decil\n",
    "eventos = []\n",
    "no_eventos = []\n",
    "intervalo=[]\n",
    "for i in range(len(deciles) - 1):\n",
    "    intervalo = df_output[(df_output['puntaje'] >= deciles[i]) & (df_output['puntaje'] < deciles[i+1])]\n",
    "    eventos.append(intervalo[\"marca_default\"].sum())\n",
    "    no_eventos.append(len(intervalo) - intervalo[\"marca_default\"].sum())\n",
    "eventos.reverse()\n",
    "no_eventos.reverse()\n",
    "    \n",
    "# Calcular el total de eventos y no eventos\n",
    "total_eventos = df_output[\"marca_default\"].sum()\n",
    "total_no_eventos = len(df_output) - df_output[\"marca_default\"].sum()\n",
    "total_bin = [x + y for x, y in zip(eventos,no_eventos)]\n",
    "data = {'Min': np.flip(deciles[0:len(deciles)-1]).tolist(),\n",
    "        'Max': np.flip(deciles[1:len(deciles)]).tolist(),\n",
    "        '0': no_eventos,\n",
    "        '1': eventos,\n",
    "        'total': total_bin}\n",
    "df_resultado = pd.DataFrame(data)"
   ]
  },
  {
   "cell_type": "code",
   "execution_count": 501,
   "id": "b799ccbb-477e-411c-a704-0e3c83b54c09",
   "metadata": {},
   "outputs": [
    {
     "name": "stdout",
     "output_type": "stream",
     "text": [
      "        Min       Max      0      1  total\n",
      "0  0.588194  1.000000   9040  26479  35519\n",
      "1  0.414337  0.588194  18078  17450  35528\n",
      "2  0.305586  0.414337  22827  12512  35339\n",
      "3  0.198159  0.305586  26516   8398  34914\n",
      "4  0.125598  0.198159  29918   5440  35358\n",
      "5  0.115702  0.125598  31066   4253  35319\n",
      "6  0.105574  0.115702  31823   3753  35576\n",
      "7  0.086602  0.105574  52833   5230  58063\n",
      "8  0.075975  0.086602  12241   1005  13246\n",
      "9  0.000000  0.075975  34232    445  34677\n"
     ]
    }
   ],
   "source": [
    "df_resultado_01_test=df_resultado\n",
    "print(df_resultado_01_test)"
   ]
  },
  {
   "cell_type": "markdown",
   "id": "a60a4cc4-4442-4d83-82f8-6108abfaf333",
   "metadata": {},
   "source": [
    "### Backtest modelo reentrenado Enero Junio 2023 a Septiembre 2023"
   ]
  },
  {
   "cell_type": "markdown",
   "id": "b90d058f-ed4b-484a-b1b0-69bb4fe6de05",
   "metadata": {},
   "source": [
    "#### Junio 2023"
   ]
  },
  {
   "cell_type": "code",
   "execution_count": 502,
   "id": "e640cdf7-31fe-49a3-9bde-d1db3a7d6236",
   "metadata": {},
   "outputs": [
    {
     "name": "stdout",
     "output_type": "stream",
     "text": [
      "Cantidad de datos con registros faltantes en alguna de las variables: 0\n",
      "\n",
      "\n",
      " Cantidad de datos con registros completos: 147862\n"
     ]
    }
   ],
   "source": [
    "registros_completos = df_filt_Junio_2023.dropna()\n",
    "registros_faltantes = df_filt_Junio_2023[df_filt_Junio_2023.isnull().any(axis=1)]\n",
    "print(\"Cantidad de datos con registros faltantes en alguna de las variables:\", len(registros_faltantes))\n",
    "print(\"\\n\\n Cantidad de datos con registros completos:\", len(registros_completos))"
   ]
  },
  {
   "cell_type": "code",
   "execution_count": 503,
   "id": "5e9cfe78-e27c-4072-a307-6fe10ba72947",
   "metadata": {},
   "outputs": [
    {
     "data": {
      "text/html": [
       "<div>\n",
       "<style scoped>\n",
       "    .dataframe tbody tr th:only-of-type {\n",
       "        vertical-align: middle;\n",
       "    }\n",
       "\n",
       "    .dataframe tbody tr th {\n",
       "        vertical-align: top;\n",
       "    }\n",
       "\n",
       "    .dataframe thead th {\n",
       "        text-align: right;\n",
       "    }\n",
       "</style>\n",
       "<table border=\"1\" class=\"dataframe\">\n",
       "  <thead>\n",
       "    <tr style=\"text-align: right;\">\n",
       "      <th></th>\n",
       "      <th>IDENTIFICACION</th>\n",
       "      <th>NUMERO_TARJETA</th>\n",
       "      <th>fecha_corte</th>\n",
       "      <th>dias_sistema</th>\n",
       "      <th>CUPO</th>\n",
       "      <th>mora_1_a</th>\n",
       "      <th>mora_2_a</th>\n",
       "      <th>P_MP6</th>\n",
       "      <th>TP_pp</th>\n",
       "      <th>PR_1_D</th>\n",
       "      <th>PR_O_D</th>\n",
       "      <th>C_AuM</th>\n",
       "      <th>marca_default</th>\n",
       "    </tr>\n",
       "  </thead>\n",
       "  <tbody>\n",
       "  </tbody>\n",
       "</table>\n",
       "</div>"
      ],
      "text/plain": [
       "Empty DataFrame\n",
       "Columns: [IDENTIFICACION, NUMERO_TARJETA, fecha_corte, dias_sistema, CUPO, mora_1_a, mora_2_a, P_MP6, TP_pp, PR_1_D, PR_O_D, C_AuM, marca_default]\n",
       "Index: []"
      ]
     },
     "execution_count": 503,
     "metadata": {},
     "output_type": "execute_result"
    }
   ],
   "source": [
    "registros_faltantes"
   ]
  },
  {
   "cell_type": "code",
   "execution_count": 504,
   "id": "cc8f104f-2aad-443e-a43c-f317823fc5cd",
   "metadata": {},
   "outputs": [],
   "source": [
    "#df_filt_Junio_2023['mora_1_a'].fillna(0, inplace=True)\n",
    "#df_filt_Junio_2023['mora_2_a'].fillna(0, inplace=True)"
   ]
  },
  {
   "cell_type": "code",
   "execution_count": 505,
   "id": "231a5d70-1dc6-4ef4-88ac-3616262e3a18",
   "metadata": {},
   "outputs": [
    {
     "name": "stdout",
     "output_type": "stream",
     "text": [
      "Cantidad de datos con registros faltantes en alguna de las variables: 0\n",
      "\n",
      "\n",
      " Cantidad de datos con registros completos: 147862\n"
     ]
    }
   ],
   "source": [
    "registros_completos = df_filt_Junio_2023.dropna()\n",
    "registros_faltantes = df_filt_Junio_2023[df_filt_Junio_2023.isnull().any(axis=1)]\n",
    "print(\"Cantidad de datos con registros faltantes en alguna de las variables:\", len(registros_faltantes))\n",
    "print(\"\\n\\n Cantidad de datos con registros completos:\", len(registros_completos))"
   ]
  },
  {
   "cell_type": "code",
   "execution_count": 506,
   "id": "4ec87fbb-1073-417f-8d7b-097db37b7976",
   "metadata": {},
   "outputs": [],
   "source": [
    "df_Junio_2023=registros_completos"
   ]
  },
  {
   "cell_type": "code",
   "execution_count": 507,
   "id": "b0685fba-e499-4ed5-acb3-7d8836c3c687",
   "metadata": {},
   "outputs": [
    {
     "data": {
      "text/html": [
       "<div>\n",
       "<style scoped>\n",
       "    .dataframe tbody tr th:only-of-type {\n",
       "        vertical-align: middle;\n",
       "    }\n",
       "\n",
       "    .dataframe tbody tr th {\n",
       "        vertical-align: top;\n",
       "    }\n",
       "\n",
       "    .dataframe thead th {\n",
       "        text-align: right;\n",
       "    }\n",
       "</style>\n",
       "<table border=\"1\" class=\"dataframe\">\n",
       "  <thead>\n",
       "    <tr style=\"text-align: right;\">\n",
       "      <th></th>\n",
       "      <th>count</th>\n",
       "      <th>mean</th>\n",
       "      <th>min</th>\n",
       "      <th>25%</th>\n",
       "      <th>50%</th>\n",
       "      <th>75%</th>\n",
       "      <th>max</th>\n",
       "      <th>std</th>\n",
       "    </tr>\n",
       "  </thead>\n",
       "  <tbody>\n",
       "    <tr>\n",
       "      <th>IDENTIFICACION</th>\n",
       "      <td>147862.0</td>\n",
       "      <td>324681181.484573</td>\n",
       "      <td>174229.0</td>\n",
       "      <td>26534728.75</td>\n",
       "      <td>52278042.5</td>\n",
       "      <td>1006517360.25</td>\n",
       "      <td>2000005158.0</td>\n",
       "      <td>462226168.653595</td>\n",
       "    </tr>\n",
       "    <tr>\n",
       "      <th>fecha_corte</th>\n",
       "      <td>147862</td>\n",
       "      <td>2023-06-01 00:00:00</td>\n",
       "      <td>2023-06-01 00:00:00</td>\n",
       "      <td>2023-06-01 00:00:00</td>\n",
       "      <td>2023-06-01 00:00:00</td>\n",
       "      <td>2023-06-01 00:00:00</td>\n",
       "      <td>2023-06-01 00:00:00</td>\n",
       "      <td>NaN</td>\n",
       "    </tr>\n",
       "    <tr>\n",
       "      <th>dias_sistema</th>\n",
       "      <td>147862.0</td>\n",
       "      <td>18.821922</td>\n",
       "      <td>0.0</td>\n",
       "      <td>0.0</td>\n",
       "      <td>0.0</td>\n",
       "      <td>30.0</td>\n",
       "      <td>90.0</td>\n",
       "      <td>27.825371</td>\n",
       "    </tr>\n",
       "    <tr>\n",
       "      <th>CUPO</th>\n",
       "      <td>147862.0</td>\n",
       "      <td>2947265.159027</td>\n",
       "      <td>50000.0</td>\n",
       "      <td>1220000.0</td>\n",
       "      <td>2500000.0</td>\n",
       "      <td>4500000.0</td>\n",
       "      <td>6600000.0</td>\n",
       "      <td>1976804.397567</td>\n",
       "    </tr>\n",
       "    <tr>\n",
       "      <th>mora_1_a</th>\n",
       "      <td>147862.0</td>\n",
       "      <td>13.735158</td>\n",
       "      <td>0.0</td>\n",
       "      <td>0.0</td>\n",
       "      <td>0.0</td>\n",
       "      <td>22.0</td>\n",
       "      <td>119.0</td>\n",
       "      <td>24.0669</td>\n",
       "    </tr>\n",
       "    <tr>\n",
       "      <th>mora_2_a</th>\n",
       "      <td>147862.0</td>\n",
       "      <td>13.460084</td>\n",
       "      <td>0.0</td>\n",
       "      <td>0.0</td>\n",
       "      <td>0.0</td>\n",
       "      <td>16.0</td>\n",
       "      <td>150.0</td>\n",
       "      <td>26.140691</td>\n",
       "    </tr>\n",
       "    <tr>\n",
       "      <th>P_MP6</th>\n",
       "      <td>147862.0</td>\n",
       "      <td>0.619382</td>\n",
       "      <td>0.0</td>\n",
       "      <td>0.0</td>\n",
       "      <td>1.0</td>\n",
       "      <td>1.0</td>\n",
       "      <td>1.0</td>\n",
       "      <td>0.485541</td>\n",
       "    </tr>\n",
       "    <tr>\n",
       "      <th>TP_pp</th>\n",
       "      <td>147862.0</td>\n",
       "      <td>0.252492</td>\n",
       "      <td>0.0</td>\n",
       "      <td>0.0</td>\n",
       "      <td>0.0</td>\n",
       "      <td>1.0</td>\n",
       "      <td>1.0</td>\n",
       "      <td>0.434444</td>\n",
       "    </tr>\n",
       "    <tr>\n",
       "      <th>PR_1_D</th>\n",
       "      <td>147862.0</td>\n",
       "      <td>0.381139</td>\n",
       "      <td>0.0</td>\n",
       "      <td>0.0</td>\n",
       "      <td>0.0</td>\n",
       "      <td>1.0</td>\n",
       "      <td>1.0</td>\n",
       "      <td>0.485668</td>\n",
       "    </tr>\n",
       "    <tr>\n",
       "      <th>PR_O_D</th>\n",
       "      <td>147862.0</td>\n",
       "      <td>0.204535</td>\n",
       "      <td>0.0</td>\n",
       "      <td>0.0</td>\n",
       "      <td>0.0</td>\n",
       "      <td>0.0</td>\n",
       "      <td>1.0</td>\n",
       "      <td>0.403363</td>\n",
       "    </tr>\n",
       "    <tr>\n",
       "      <th>C_AuM</th>\n",
       "      <td>147862.0</td>\n",
       "      <td>0.226015</td>\n",
       "      <td>0.0</td>\n",
       "      <td>0.0</td>\n",
       "      <td>0.0</td>\n",
       "      <td>0.0</td>\n",
       "      <td>1.0</td>\n",
       "      <td>0.41825</td>\n",
       "    </tr>\n",
       "    <tr>\n",
       "      <th>marca_default</th>\n",
       "      <td>147862.0</td>\n",
       "      <td>0.29744</td>\n",
       "      <td>0.0</td>\n",
       "      <td>0.0</td>\n",
       "      <td>0.0</td>\n",
       "      <td>1.0</td>\n",
       "      <td>1.0</td>\n",
       "      <td>0.457133</td>\n",
       "    </tr>\n",
       "  </tbody>\n",
       "</table>\n",
       "</div>"
      ],
      "text/plain": [
       "                   count                 mean                  min  \\\n",
       "IDENTIFICACION  147862.0     324681181.484573             174229.0   \n",
       "fecha_corte       147862  2023-06-01 00:00:00  2023-06-01 00:00:00   \n",
       "dias_sistema    147862.0            18.821922                  0.0   \n",
       "CUPO            147862.0       2947265.159027              50000.0   \n",
       "mora_1_a        147862.0            13.735158                  0.0   \n",
       "mora_2_a        147862.0            13.460084                  0.0   \n",
       "P_MP6           147862.0             0.619382                  0.0   \n",
       "TP_pp           147862.0             0.252492                  0.0   \n",
       "PR_1_D          147862.0             0.381139                  0.0   \n",
       "PR_O_D          147862.0             0.204535                  0.0   \n",
       "C_AuM           147862.0             0.226015                  0.0   \n",
       "marca_default   147862.0              0.29744                  0.0   \n",
       "\n",
       "                                25%                  50%                  75%  \\\n",
       "IDENTIFICACION          26534728.75           52278042.5        1006517360.25   \n",
       "fecha_corte     2023-06-01 00:00:00  2023-06-01 00:00:00  2023-06-01 00:00:00   \n",
       "dias_sistema                    0.0                  0.0                 30.0   \n",
       "CUPO                      1220000.0            2500000.0            4500000.0   \n",
       "mora_1_a                        0.0                  0.0                 22.0   \n",
       "mora_2_a                        0.0                  0.0                 16.0   \n",
       "P_MP6                           0.0                  1.0                  1.0   \n",
       "TP_pp                           0.0                  0.0                  1.0   \n",
       "PR_1_D                          0.0                  0.0                  1.0   \n",
       "PR_O_D                          0.0                  0.0                  0.0   \n",
       "C_AuM                           0.0                  0.0                  0.0   \n",
       "marca_default                   0.0                  0.0                  1.0   \n",
       "\n",
       "                                max               std  \n",
       "IDENTIFICACION         2000005158.0  462226168.653595  \n",
       "fecha_corte     2023-06-01 00:00:00               NaN  \n",
       "dias_sistema                   90.0         27.825371  \n",
       "CUPO                      6600000.0    1976804.397567  \n",
       "mora_1_a                      119.0           24.0669  \n",
       "mora_2_a                      150.0         26.140691  \n",
       "P_MP6                           1.0          0.485541  \n",
       "TP_pp                           1.0          0.434444  \n",
       "PR_1_D                          1.0          0.485668  \n",
       "PR_O_D                          1.0          0.403363  \n",
       "C_AuM                           1.0           0.41825  \n",
       "marca_default                   1.0          0.457133  "
      ]
     },
     "execution_count": 507,
     "metadata": {},
     "output_type": "execute_result"
    }
   ],
   "source": [
    "df_Junio_2023.describe().T"
   ]
  },
  {
   "cell_type": "code",
   "execution_count": 508,
   "id": "4b536aff-9a63-4802-b215-f50c315238d6",
   "metadata": {},
   "outputs": [
    {
     "name": "stderr",
     "output_type": "stream",
     "text": [
      "C:\\Users\\damartinezp\\AppData\\Local\\Temp\\ipykernel_172\\1067089380.py:6: FutureWarning: Setting an item of incompatible dtype is deprecated and will raise in a future error of pandas. Value '[1.         0.66666667 0.57777778 ... 0.12222222 0.12222222 0.33333333]' has dtype incompatible with int64, please explicitly cast to a compatible dtype first.\n",
      "  df1.loc[:, cuantis] = scaler_cargado.transform(df1[cuantis])\n"
     ]
    }
   ],
   "source": [
    "#df_Diciembre.rename(columns={'dias_sistema': 'DIAS_SISTEMA'}, inplace=True)\n",
    "df1=df_Junio_2023[variables3]\n",
    "#scaler = MinMaxScaler()\n",
    "#scaler.fit(df1[cuantis])\n",
    "df1.loc[:, cuantis] = df1[cuantis].astype(float)  \n",
    "df1.loc[:, cuantis] = scaler_cargado.transform(df1[cuantis])  \n",
    "for i in cualis:\n",
    "    labelencoder = LabelEncoder()\n",
    "    df1.loc[:, i] = labelencoder.fit_transform(df1[i])\n",
    "X_test = df1.drop(columns=[\"marca_default\"])\n",
    "y_test = df1[\"marca_default\"]\n",
    "dtest = xgb.DMatrix(X_test, label=y_test)"
   ]
  },
  {
   "cell_type": "code",
   "execution_count": 509,
   "id": "00b9ede4-01bb-43e1-83c3-6e2fc6a09ac9",
   "metadata": {},
   "outputs": [],
   "source": [
    "y_pred_proba_1 = model_1.predict(dtest)\n",
    "y_pred_proba_2 = model_2.predict(dtest)\n",
    "y_pred_proba_3 = model_3.predict(dtest)\n",
    "y_pred_proba_4 = model_4.predict(dtest)\n",
    "y_pred_proba_5 = model_5.predict(dtest)\n",
    "y_pred_proba_6 = model_6.predict(dtest)\n",
    "y_pred_proba_7 = model_7.predict(dtest)\n",
    "y_pred_proba_8 = model_8.predict(dtest)\n",
    "y_pred_proba_9 = model_9.predict(dtest)\n",
    "y_pred_proba_10 = model_10.predict(dtest)\n",
    "\n",
    "y_pred_proba=(y_pred_proba_1+y_pred_proba_2+y_pred_proba_3+y_pred_proba_4+y_pred_proba_5+y_pred_proba_6\n",
    "             +y_pred_proba_7+y_pred_proba_8+y_pred_proba_9+y_pred_proba_10)/10\n",
    "\n",
    "y_pred_labels = (y_pred_proba > proba).astype(int)  \n",
    "\n",
    "cm=confusion_matrix(y_test, y_pred_labels)\n",
    "\n",
    "acc, err, se, sp, prec, FPR =calMetrics(cm)\n",
    "accuracy, precision, recall, f1, roc_auc=calMetrics2(y_test, y_pred_labels)\n",
    "    \n",
    "matrix={\n",
    "    \"Acc\": acc,\n",
    "    \"Err\": err,\n",
    "    \"Re\": se,\n",
    "    \"Sp\": sp,\n",
    "    \"Pre\": prec,\n",
    "    \"FPR\": FPR,\n",
    "    \"F1\":f1,\n",
    "    \"ROC_AUC\": roc_auc\n",
    "}\n"
   ]
  },
  {
   "cell_type": "code",
   "execution_count": 510,
   "id": "803fc3b4-0cd7-47b7-b9b9-33bd28171847",
   "metadata": {},
   "outputs": [
    {
     "data": {
      "text/plain": [
       "{'Acc': 71.37,\n",
       " 'Err': 28.63,\n",
       " 'Re': 35.15,\n",
       " 'Sp': 86.71,\n",
       " 'Pre': 52.82,\n",
       " 'FPR': 13.29,\n",
       " 'F1': 42.21,\n",
       " 'ROC_AUC': 60.93}"
      ]
     },
     "execution_count": 510,
     "metadata": {},
     "output_type": "execute_result"
    }
   ],
   "source": [
    "matrix"
   ]
  },
  {
   "cell_type": "code",
   "execution_count": 511,
   "id": "bf7c2fb7-29ab-441c-8a88-93d85626dda0",
   "metadata": {},
   "outputs": [
    {
     "data": {
      "text/plain": [
       "<AxesSubplot:>"
      ]
     },
     "execution_count": 511,
     "metadata": {},
     "output_type": "execute_result"
    },
    {
     "data": {
      "image/png": "[encoded data removed]",
      "text/plain": [
       "<Figure size 640x480 with 2 Axes>"
      ]
     },
     "metadata": {},
     "output_type": "display_data"
    }
   ],
   "source": [
    "cm = confusion_matrix(y_test, y_pred_labels)\n",
    "sns.heatmap(cm, annot=True, cmap='viridis', fmt='g')"
   ]
  },
  {
   "cell_type": "code",
   "execution_count": 512,
   "id": "addf9a26-de83-4922-8243-725f0d954ce0",
   "metadata": {},
   "outputs": [],
   "source": [
    "df_output = pd.DataFrame({\"puntaje\": y_pred_proba, \"marca_default\": y_test})\n",
    "df_output.insert(0, \"V1\", range(1, len(df_output) + 1))\n",
    "df_output_01_Junio_2023=df_output"
   ]
  },
  {
   "cell_type": "code",
   "execution_count": 513,
   "id": "22732332-4191-4ecb-82bd-c5c3127ad8f5",
   "metadata": {},
   "outputs": [],
   "source": [
    "df_output_01_Junio_2023.to_csv(\"C:/Users/damartinezp/OneDrive - BAN100 S.A/Documentos/Proyectos Borrador/PD_C1/2024_modelo/saved_model0/datos_salida_XG_01_9_Junio_2023.csv\")\n",
    "df_output_01_Junio_2023.to_csv(\"C:/Users/damartinezp/OneDrive - BAN100 S.A/Documentos/Proyectos Borrador/PD_C1/2024_modelo/datos_salida_XG_01_9_Junio_2023.csv\")"
   ]
  },
  {
   "cell_type": "code",
   "execution_count": 514,
   "id": "c4d2814f-1b99-4f06-bdd8-a8fa10e0a2e3",
   "metadata": {},
   "outputs": [
    {
     "data": {
      "text/html": [
       "<div>\n",
       "<style scoped>\n",
       "    .dataframe tbody tr th:only-of-type {\n",
       "        vertical-align: middle;\n",
       "    }\n",
       "\n",
       "    .dataframe tbody tr th {\n",
       "        vertical-align: top;\n",
       "    }\n",
       "\n",
       "    .dataframe thead th {\n",
       "        text-align: right;\n",
       "    }\n",
       "</style>\n",
       "<table border=\"1\" class=\"dataframe\">\n",
       "  <thead>\n",
       "    <tr style=\"text-align: right;\">\n",
       "      <th></th>\n",
       "      <th>V1</th>\n",
       "      <th>puntaje</th>\n",
       "      <th>marca_default</th>\n",
       "    </tr>\n",
       "  </thead>\n",
       "  <tbody>\n",
       "    <tr>\n",
       "      <th>0</th>\n",
       "      <td>1</td>\n",
       "      <td>0.000615</td>\n",
       "      <td>0</td>\n",
       "    </tr>\n",
       "    <tr>\n",
       "      <th>1</th>\n",
       "      <td>2</td>\n",
       "      <td>0.002208</td>\n",
       "      <td>0</td>\n",
       "    </tr>\n",
       "    <tr>\n",
       "      <th>2</th>\n",
       "      <td>3</td>\n",
       "      <td>0.420018</td>\n",
       "      <td>1</td>\n",
       "    </tr>\n",
       "    <tr>\n",
       "      <th>3</th>\n",
       "      <td>4</td>\n",
       "      <td>0.111126</td>\n",
       "      <td>0</td>\n",
       "    </tr>\n",
       "    <tr>\n",
       "      <th>4</th>\n",
       "      <td>5</td>\n",
       "      <td>0.338688</td>\n",
       "      <td>1</td>\n",
       "    </tr>\n",
       "    <tr>\n",
       "      <th>...</th>\n",
       "      <td>...</td>\n",
       "      <td>...</td>\n",
       "      <td>...</td>\n",
       "    </tr>\n",
       "    <tr>\n",
       "      <th>147857</th>\n",
       "      <td>147858</td>\n",
       "      <td>0.379913</td>\n",
       "      <td>0</td>\n",
       "    </tr>\n",
       "    <tr>\n",
       "      <th>147858</th>\n",
       "      <td>147859</td>\n",
       "      <td>0.707644</td>\n",
       "      <td>1</td>\n",
       "    </tr>\n",
       "    <tr>\n",
       "      <th>147859</th>\n",
       "      <td>147860</td>\n",
       "      <td>0.562298</td>\n",
       "      <td>0</td>\n",
       "    </tr>\n",
       "    <tr>\n",
       "      <th>147860</th>\n",
       "      <td>147861</td>\n",
       "      <td>0.605656</td>\n",
       "      <td>1</td>\n",
       "    </tr>\n",
       "    <tr>\n",
       "      <th>147861</th>\n",
       "      <td>147862</td>\n",
       "      <td>0.002332</td>\n",
       "      <td>0</td>\n",
       "    </tr>\n",
       "  </tbody>\n",
       "</table>\n",
       "<p>147862 rows × 3 columns</p>\n",
       "</div>"
      ],
      "text/plain": [
       "            V1   puntaje  marca_default\n",
       "0            1  0.000615              0\n",
       "1            2  0.002208              0\n",
       "2            3  0.420018              1\n",
       "3            4  0.111126              0\n",
       "4            5  0.338688              1\n",
       "...        ...       ...            ...\n",
       "147857  147858  0.379913              0\n",
       "147858  147859  0.707644              1\n",
       "147859  147860  0.562298              0\n",
       "147860  147861  0.605656              1\n",
       "147861  147862  0.002332              0\n",
       "\n",
       "[147862 rows x 3 columns]"
      ]
     },
     "execution_count": 514,
     "metadata": {},
     "output_type": "execute_result"
    }
   ],
   "source": [
    "df_output_01_Junio_2023"
   ]
  },
  {
   "cell_type": "code",
   "execution_count": 515,
   "id": "1ed8f0a6-f6cb-4ad9-ac05-1030793a096d",
   "metadata": {},
   "outputs": [
    {
     "name": "stdout",
     "output_type": "stream",
     "text": [
      "marca_default\n",
      "0    103882\n",
      "1     43980\n",
      "Name: count, dtype: int64\n"
     ]
    }
   ],
   "source": [
    "print(df_output[\"marca_default\"].value_counts())"
   ]
  },
  {
   "cell_type": "code",
   "execution_count": 516,
   "id": "f5fb6b2e-466e-4dde-bbfc-a3aa91b9fe31",
   "metadata": {},
   "outputs": [],
   "source": [
    "deciles=deciles_train_01"
   ]
  },
  {
   "cell_type": "code",
   "execution_count": 517,
   "id": "85832b76-0a46-4af5-abe4-1dc8187f0bde",
   "metadata": {},
   "outputs": [],
   "source": [
    "# Asignar deciles a cada fila basado en el puntaje\n",
    "df_output[\"decil\"] = pd.cut(df_output[\"puntaje\"], bins=deciles, labels=False, include_lowest=True)\n",
    "# Crear una lista de los intervalos de los deciles\n",
    "intervalos = []\n",
    "for i in range(len(deciles) - 1):\n",
    "    intervalos.append(f\"{deciles[i]} - {deciles[i+1]}\")"
   ]
  },
  {
   "cell_type": "code",
   "execution_count": 518,
   "id": "912d2c2c-fde2-45a3-a70a-8d9d0443a035",
   "metadata": {},
   "outputs": [],
   "source": [
    "# Calcular el número de eventos y no eventos para cada intervalo de decil\n",
    "eventos = []\n",
    "no_eventos = []\n",
    "for i in range(len(deciles) - 1):\n",
    "    intervalo = df_output[(df_output['puntaje'] >= deciles[i]) & (df_output['puntaje'] < deciles[i+1])]\n",
    "    eventos.append(intervalo[\"marca_default\"].sum())\n",
    "    no_eventos.append(len(intervalo) - intervalo[\"marca_default\"].sum())\n",
    "eventos.reverse()\n",
    "no_eventos.reverse()\n",
    "    \n",
    "# Calcular el total de eventos y no eventos\n",
    "total_eventos = df_output[\"marca_default\"].sum()\n",
    "total_no_eventos = len(df_output) - df_output[\"marca_default\"].sum()\n",
    "total_bin = [x + y for x, y in zip(eventos,no_eventos)]\n",
    "data = {'Min': np.flip(deciles[0:len(deciles)-1]).tolist(),\n",
    "        'Max': np.flip(deciles[1:len(deciles)]).tolist(),\n",
    "        '0': no_eventos,\n",
    "        '1': eventos,\n",
    "        'total': total_bin}\n",
    "df_resultado = pd.DataFrame(data)"
   ]
  },
  {
   "cell_type": "code",
   "execution_count": 519,
   "id": "8840994f-f3dd-43a9-b1e0-4f282209461a",
   "metadata": {},
   "outputs": [
    {
     "name": "stdout",
     "output_type": "stream",
     "text": [
      "        Min       Max      0      1  total\n",
      "0  0.588194  1.000000  10834   9417  20251\n",
      "1  0.414337  0.588194   6533  13029  19562\n",
      "2  0.305586  0.414337   8397   9440  17837\n",
      "3  0.198159  0.305586   8844   5271  14115\n",
      "4  0.125598  0.198159  11047   1936  12983\n",
      "5  0.115702  0.125598  11352   1424  12776\n",
      "6  0.105574  0.115702   8647   1158   9805\n",
      "7  0.086602  0.105574  13608   1625  15233\n",
      "8  0.075975  0.086602   6982    483   7465\n",
      "9  0.000000  0.075975  17638    197  17835\n"
     ]
    }
   ],
   "source": [
    "df_resultado_01_Junio_2023=df_resultado\n",
    "print(df_resultado_01_Junio_2023)"
   ]
  },
  {
   "cell_type": "markdown",
   "id": "bfc5793a-323f-456c-888f-665ca34dfb4a",
   "metadata": {
    "tags": []
   },
   "source": [
    "#### Julio 2023"
   ]
  },
  {
   "cell_type": "code",
   "execution_count": 520,
   "id": "14f50f86-e176-4e56-a0ff-fd47be52f385",
   "metadata": {},
   "outputs": [
    {
     "name": "stdout",
     "output_type": "stream",
     "text": [
      "Cantidad de datos con registros faltantes en alguna de las variables: 0\n",
      "\n",
      "\n",
      " Cantidad de datos con registros completos: 139654\n"
     ]
    }
   ],
   "source": [
    "registros_completos = df_filt_Julio_2023.dropna()\n",
    "registros_faltantes = df_filt_Julio_2023[df_filt_Julio_2023.isnull().any(axis=1)]\n",
    "print(\"Cantidad de datos con registros faltantes en alguna de las variables:\", len(registros_faltantes))\n",
    "print(\"\\n\\n Cantidad de datos con registros completos:\", len(registros_completos))"
   ]
  },
  {
   "cell_type": "code",
   "execution_count": 521,
   "id": "1f5b3216-1648-43fa-8cb6-7c45ddfdfb8c",
   "metadata": {},
   "outputs": [
    {
     "data": {
      "text/html": [
       "<div>\n",
       "<style scoped>\n",
       "    .dataframe tbody tr th:only-of-type {\n",
       "        vertical-align: middle;\n",
       "    }\n",
       "\n",
       "    .dataframe tbody tr th {\n",
       "        vertical-align: top;\n",
       "    }\n",
       "\n",
       "    .dataframe thead th {\n",
       "        text-align: right;\n",
       "    }\n",
       "</style>\n",
       "<table border=\"1\" class=\"dataframe\">\n",
       "  <thead>\n",
       "    <tr style=\"text-align: right;\">\n",
       "      <th></th>\n",
       "      <th>IDENTIFICACION</th>\n",
       "      <th>NUMERO_TARJETA</th>\n",
       "      <th>fecha_corte</th>\n",
       "      <th>dias_sistema</th>\n",
       "      <th>CUPO</th>\n",
       "      <th>mora_1_a</th>\n",
       "      <th>mora_2_a</th>\n",
       "      <th>P_MP6</th>\n",
       "      <th>TP_pp</th>\n",
       "      <th>PR_1_D</th>\n",
       "      <th>PR_O_D</th>\n",
       "      <th>C_AuM</th>\n",
       "      <th>marca_default</th>\n",
       "    </tr>\n",
       "  </thead>\n",
       "  <tbody>\n",
       "  </tbody>\n",
       "</table>\n",
       "</div>"
      ],
      "text/plain": [
       "Empty DataFrame\n",
       "Columns: [IDENTIFICACION, NUMERO_TARJETA, fecha_corte, dias_sistema, CUPO, mora_1_a, mora_2_a, P_MP6, TP_pp, PR_1_D, PR_O_D, C_AuM, marca_default]\n",
       "Index: []"
      ]
     },
     "execution_count": 521,
     "metadata": {},
     "output_type": "execute_result"
    }
   ],
   "source": [
    "registros_faltantes"
   ]
  },
  {
   "cell_type": "code",
   "execution_count": 522,
   "id": "8164830b-62a6-473e-8d1d-95daff5759b1",
   "metadata": {},
   "outputs": [],
   "source": [
    "#df_filt_Julio_2023['mora_1_a'].fillna(0, inplace=True)\n",
    "#df_filt_Julio_2023['mora_2_a'].fillna(0, inplace=True)"
   ]
  },
  {
   "cell_type": "code",
   "execution_count": 523,
   "id": "dfe1b623-072f-4e79-9974-f2b53b1756c5",
   "metadata": {},
   "outputs": [
    {
     "name": "stdout",
     "output_type": "stream",
     "text": [
      "Cantidad de datos con registros faltantes en alguna de las variables: 0\n",
      "\n",
      "\n",
      " Cantidad de datos con registros completos: 139654\n"
     ]
    }
   ],
   "source": [
    "registros_completos = df_filt_Julio_2023.dropna()\n",
    "registros_faltantes = df_filt_Julio_2023[df_filt_Julio_2023.isnull().any(axis=1)]\n",
    "print(\"Cantidad de datos con registros faltantes en alguna de las variables:\", len(registros_faltantes))\n",
    "print(\"\\n\\n Cantidad de datos con registros completos:\", len(registros_completos))"
   ]
  },
  {
   "cell_type": "code",
   "execution_count": 524,
   "id": "f439febd-97cf-4ae9-8ac7-16bc33b01dbe",
   "metadata": {},
   "outputs": [],
   "source": [
    "df_Julio_2023=registros_completos"
   ]
  },
  {
   "cell_type": "code",
   "execution_count": 525,
   "id": "4e6e9aee-0591-4472-abb8-16355e6e486b",
   "metadata": {},
   "outputs": [
    {
     "data": {
      "text/html": [
       "<div>\n",
       "<style scoped>\n",
       "    .dataframe tbody tr th:only-of-type {\n",
       "        vertical-align: middle;\n",
       "    }\n",
       "\n",
       "    .dataframe tbody tr th {\n",
       "        vertical-align: top;\n",
       "    }\n",
       "\n",
       "    .dataframe thead th {\n",
       "        text-align: right;\n",
       "    }\n",
       "</style>\n",
       "<table border=\"1\" class=\"dataframe\">\n",
       "  <thead>\n",
       "    <tr style=\"text-align: right;\">\n",
       "      <th></th>\n",
       "      <th>count</th>\n",
       "      <th>mean</th>\n",
       "      <th>min</th>\n",
       "      <th>25%</th>\n",
       "      <th>50%</th>\n",
       "      <th>75%</th>\n",
       "      <th>max</th>\n",
       "      <th>std</th>\n",
       "    </tr>\n",
       "  </thead>\n",
       "  <tbody>\n",
       "    <tr>\n",
       "      <th>IDENTIFICACION</th>\n",
       "      <td>139654.0</td>\n",
       "      <td>319582630.055237</td>\n",
       "      <td>174229.0</td>\n",
       "      <td>26428927.25</td>\n",
       "      <td>52121891.0</td>\n",
       "      <td>1005178353.5</td>\n",
       "      <td>2000005158.0</td>\n",
       "      <td>459768105.067405</td>\n",
       "    </tr>\n",
       "    <tr>\n",
       "      <th>fecha_corte</th>\n",
       "      <td>139654</td>\n",
       "      <td>2023-07-01 00:00:00</td>\n",
       "      <td>2023-07-01 00:00:00</td>\n",
       "      <td>2023-07-01 00:00:00</td>\n",
       "      <td>2023-07-01 00:00:00</td>\n",
       "      <td>2023-07-01 00:00:00</td>\n",
       "      <td>2023-07-01 00:00:00</td>\n",
       "      <td>NaN</td>\n",
       "    </tr>\n",
       "    <tr>\n",
       "      <th>dias_sistema</th>\n",
       "      <td>139654.0</td>\n",
       "      <td>19.031084</td>\n",
       "      <td>0.0</td>\n",
       "      <td>0.0</td>\n",
       "      <td>0.0</td>\n",
       "      <td>30.0</td>\n",
       "      <td>90.0</td>\n",
       "      <td>28.971627</td>\n",
       "    </tr>\n",
       "    <tr>\n",
       "      <th>CUPO</th>\n",
       "      <td>139654.0</td>\n",
       "      <td>2988126.733978</td>\n",
       "      <td>50000.0</td>\n",
       "      <td>1300000.0</td>\n",
       "      <td>2500000.0</td>\n",
       "      <td>4590000.0</td>\n",
       "      <td>6600000.0</td>\n",
       "      <td>1976580.582742</td>\n",
       "    </tr>\n",
       "    <tr>\n",
       "      <th>mora_1_a</th>\n",
       "      <td>139654.0</td>\n",
       "      <td>16.416959</td>\n",
       "      <td>0.0</td>\n",
       "      <td>0.0</td>\n",
       "      <td>0.0</td>\n",
       "      <td>27.0</td>\n",
       "      <td>119.0</td>\n",
       "      <td>25.746082</td>\n",
       "    </tr>\n",
       "    <tr>\n",
       "      <th>mora_2_a</th>\n",
       "      <td>139654.0</td>\n",
       "      <td>12.83593</td>\n",
       "      <td>0.0</td>\n",
       "      <td>0.0</td>\n",
       "      <td>0.0</td>\n",
       "      <td>12.0</td>\n",
       "      <td>150.0</td>\n",
       "      <td>24.660703</td>\n",
       "    </tr>\n",
       "    <tr>\n",
       "      <th>P_MP6</th>\n",
       "      <td>139654.0</td>\n",
       "      <td>0.589736</td>\n",
       "      <td>0.0</td>\n",
       "      <td>0.0</td>\n",
       "      <td>1.0</td>\n",
       "      <td>1.0</td>\n",
       "      <td>1.0</td>\n",
       "      <td>0.491883</td>\n",
       "    </tr>\n",
       "    <tr>\n",
       "      <th>TP_pp</th>\n",
       "      <td>139654.0</td>\n",
       "      <td>0.263766</td>\n",
       "      <td>0.0</td>\n",
       "      <td>0.0</td>\n",
       "      <td>0.0</td>\n",
       "      <td>1.0</td>\n",
       "      <td>1.0</td>\n",
       "      <td>0.440676</td>\n",
       "    </tr>\n",
       "    <tr>\n",
       "      <th>PR_1_D</th>\n",
       "      <td>139654.0</td>\n",
       "      <td>0.384278</td>\n",
       "      <td>0.0</td>\n",
       "      <td>0.0</td>\n",
       "      <td>0.0</td>\n",
       "      <td>1.0</td>\n",
       "      <td>1.0</td>\n",
       "      <td>0.486426</td>\n",
       "    </tr>\n",
       "    <tr>\n",
       "      <th>PR_O_D</th>\n",
       "      <td>139654.0</td>\n",
       "      <td>0.203832</td>\n",
       "      <td>0.0</td>\n",
       "      <td>0.0</td>\n",
       "      <td>0.0</td>\n",
       "      <td>0.0</td>\n",
       "      <td>1.0</td>\n",
       "      <td>0.402847</td>\n",
       "    </tr>\n",
       "    <tr>\n",
       "      <th>C_AuM</th>\n",
       "      <td>139654.0</td>\n",
       "      <td>0.227749</td>\n",
       "      <td>0.0</td>\n",
       "      <td>0.0</td>\n",
       "      <td>0.0</td>\n",
       "      <td>0.0</td>\n",
       "      <td>1.0</td>\n",
       "      <td>0.419381</td>\n",
       "    </tr>\n",
       "    <tr>\n",
       "      <th>marca_default</th>\n",
       "      <td>139654.0</td>\n",
       "      <td>0.293755</td>\n",
       "      <td>0.0</td>\n",
       "      <td>0.0</td>\n",
       "      <td>0.0</td>\n",
       "      <td>1.0</td>\n",
       "      <td>1.0</td>\n",
       "      <td>0.455482</td>\n",
       "    </tr>\n",
       "  </tbody>\n",
       "</table>\n",
       "</div>"
      ],
      "text/plain": [
       "                   count                 mean                  min  \\\n",
       "IDENTIFICACION  139654.0     319582630.055237             174229.0   \n",
       "fecha_corte       139654  2023-07-01 00:00:00  2023-07-01 00:00:00   \n",
       "dias_sistema    139654.0            19.031084                  0.0   \n",
       "CUPO            139654.0       2988126.733978              50000.0   \n",
       "mora_1_a        139654.0            16.416959                  0.0   \n",
       "mora_2_a        139654.0             12.83593                  0.0   \n",
       "P_MP6           139654.0             0.589736                  0.0   \n",
       "TP_pp           139654.0             0.263766                  0.0   \n",
       "PR_1_D          139654.0             0.384278                  0.0   \n",
       "PR_O_D          139654.0             0.203832                  0.0   \n",
       "C_AuM           139654.0             0.227749                  0.0   \n",
       "marca_default   139654.0             0.293755                  0.0   \n",
       "\n",
       "                                25%                  50%                  75%  \\\n",
       "IDENTIFICACION          26428927.25           52121891.0         1005178353.5   \n",
       "fecha_corte     2023-07-01 00:00:00  2023-07-01 00:00:00  2023-07-01 00:00:00   \n",
       "dias_sistema                    0.0                  0.0                 30.0   \n",
       "CUPO                      1300000.0            2500000.0            4590000.0   \n",
       "mora_1_a                        0.0                  0.0                 27.0   \n",
       "mora_2_a                        0.0                  0.0                 12.0   \n",
       "P_MP6                           0.0                  1.0                  1.0   \n",
       "TP_pp                           0.0                  0.0                  1.0   \n",
       "PR_1_D                          0.0                  0.0                  1.0   \n",
       "PR_O_D                          0.0                  0.0                  0.0   \n",
       "C_AuM                           0.0                  0.0                  0.0   \n",
       "marca_default                   0.0                  0.0                  1.0   \n",
       "\n",
       "                                max               std  \n",
       "IDENTIFICACION         2000005158.0  459768105.067405  \n",
       "fecha_corte     2023-07-01 00:00:00               NaN  \n",
       "dias_sistema                   90.0         28.971627  \n",
       "CUPO                      6600000.0    1976580.582742  \n",
       "mora_1_a                      119.0         25.746082  \n",
       "mora_2_a                      150.0         24.660703  \n",
       "P_MP6                           1.0          0.491883  \n",
       "TP_pp                           1.0          0.440676  \n",
       "PR_1_D                          1.0          0.486426  \n",
       "PR_O_D                          1.0          0.402847  \n",
       "C_AuM                           1.0          0.419381  \n",
       "marca_default                   1.0          0.455482  "
      ]
     },
     "execution_count": 525,
     "metadata": {},
     "output_type": "execute_result"
    }
   ],
   "source": [
    "df_Julio_2023.describe().T"
   ]
  },
  {
   "cell_type": "code",
   "execution_count": 526,
   "id": "d2efa927-6196-457b-942b-b04175e6c6f1",
   "metadata": {},
   "outputs": [
    {
     "name": "stderr",
     "output_type": "stream",
     "text": [
      "C:\\Users\\damartinezp\\AppData\\Local\\Temp\\ipykernel_172\\829024779.py:4: FutureWarning: Setting an item of incompatible dtype is deprecated and will raise in a future error of pandas. Value '[1.         0.66666667 0.         ... 0.31111111 0.13333333 0.33333333]' has dtype incompatible with int64, please explicitly cast to a compatible dtype first.\n",
      "  df1.loc[:, cuantis] = scaler_cargado.transform(df1[cuantis])\n"
     ]
    }
   ],
   "source": [
    "#df_Diciembre.rename(columns={'dias_sistema': 'DIAS_SISTEMA'}, inplace=True)\n",
    "df1=df_Julio_2023[variables3]\n",
    "df1.loc[:, cuantis] = df1[cuantis].astype(float)  \n",
    "df1.loc[:, cuantis] = scaler_cargado.transform(df1[cuantis])  \n",
    "for i in cualis:\n",
    "    labelencoder = LabelEncoder()\n",
    "    df1.loc[:, i] = labelencoder.fit_transform(df1[i])\n",
    "X_test = df1.drop(columns=[\"marca_default\"])\n",
    "y_test = df1[\"marca_default\"]\n",
    "dtest = xgb.DMatrix(X_test, label=y_test)"
   ]
  },
  {
   "cell_type": "code",
   "execution_count": 527,
   "id": "dc59757b-fcd2-47f6-a173-132195bb641a",
   "metadata": {},
   "outputs": [],
   "source": [
    "y_pred_proba_1 = model_1.predict(dtest)\n",
    "y_pred_proba_2 = model_2.predict(dtest)\n",
    "y_pred_proba_3 = model_3.predict(dtest)\n",
    "y_pred_proba_4 = model_4.predict(dtest)\n",
    "y_pred_proba_5 = model_5.predict(dtest)\n",
    "y_pred_proba_6 = model_6.predict(dtest)\n",
    "y_pred_proba_7 = model_7.predict(dtest)\n",
    "y_pred_proba_8 = model_8.predict(dtest)\n",
    "y_pred_proba_9 = model_9.predict(dtest)\n",
    "y_pred_proba_10 = model_10.predict(dtest)\n",
    "\n",
    "y_pred_proba=(y_pred_proba_1+y_pred_proba_2+y_pred_proba_3+y_pred_proba_4+y_pred_proba_5+y_pred_proba_6\n",
    "             +y_pred_proba_7+y_pred_proba_8+y_pred_proba_9+y_pred_proba_10)/10\n",
    "\n",
    "y_pred_labels = (y_pred_proba > proba).astype(int)  \n",
    "\n",
    "cm=confusion_matrix(y_test, y_pred_labels)\n",
    "\n",
    "acc, err, se, sp, prec, FPR =calMetrics(cm)\n",
    "accuracy, precision, recall, f1, roc_auc=calMetrics2(y_test, y_pred_labels)\n",
    "    \n",
    "matrix={\n",
    "    \"Acc\": acc,\n",
    "    \"Err\": err,\n",
    "    \"Re\": se,\n",
    "    \"Sp\": sp,\n",
    "    \"Pre\": prec,\n",
    "    \"FPR\": FPR,\n",
    "    \"F1\":f1,\n",
    "    \"ROC_AUC\": roc_auc\n",
    "}\n"
   ]
  },
  {
   "cell_type": "code",
   "execution_count": 528,
   "id": "3f18183e-0b97-43f6-9182-7f6e584209b1",
   "metadata": {},
   "outputs": [
    {
     "data": {
      "text/plain": [
       "{'Acc': 72.43,\n",
       " 'Err': 27.57,\n",
       " 'Re': 38.98,\n",
       " 'Sp': 86.34,\n",
       " 'Pre': 54.27,\n",
       " 'FPR': 13.66,\n",
       " 'F1': 45.37,\n",
       " 'ROC_AUC': 62.66}"
      ]
     },
     "execution_count": 528,
     "metadata": {},
     "output_type": "execute_result"
    }
   ],
   "source": [
    "matrix"
   ]
  },
  {
   "cell_type": "code",
   "execution_count": 529,
   "id": "d220560b-adbb-4f88-8d73-0761f5dad884",
   "metadata": {},
   "outputs": [
    {
     "data": {
      "text/plain": [
       "<AxesSubplot:>"
      ]
     },
     "execution_count": 529,
     "metadata": {},
     "output_type": "execute_result"
    },
    {
     "data": {
      "image/png": "[encoded data removed]",
      "text/plain": [
       "<Figure size 640x480 with 2 Axes>"
      ]
     },
     "metadata": {},
     "output_type": "display_data"
    }
   ],
   "source": [
    "cm = confusion_matrix(y_test, y_pred_labels)\n",
    "sns.heatmap(cm, annot=True, cmap='viridis', fmt='g')"
   ]
  },
  {
   "cell_type": "code",
   "execution_count": 530,
   "id": "f338aa00-5581-4efc-8572-988d9d53101a",
   "metadata": {},
   "outputs": [],
   "source": [
    "df_output = pd.DataFrame({\"puntaje\": y_pred_proba, \"marca_default\": y_test})\n",
    "df_output.insert(0, \"V1\", range(1, len(df_output) + 1))\n",
    "df_output_01_Julio_2023=df_output"
   ]
  },
  {
   "cell_type": "code",
   "execution_count": 531,
   "id": "8a9585a0-5bc1-492b-a382-7378742c9a5f",
   "metadata": {},
   "outputs": [],
   "source": [
    "df_output_01_Julio_2023.to_csv(\"C:/Users/damartinezp/OneDrive - BAN100 S.A/Documentos/Proyectos Borrador/PD_C1/2024_modelo/saved_model0/datos_salida_XG_01_9_Julio_2023.csv\")\n",
    "df_output_01_Julio_2023.to_csv(\"C:/Users/damartinezp/OneDrive - BAN100 S.A/Documentos/Proyectos Borrador/PD_C1/2024_modelo/datos_salida_XG_01_9_Julio_2023.csv\")"
   ]
  },
  {
   "cell_type": "code",
   "execution_count": 532,
   "id": "6531ae70-57ad-4539-8e58-0b26af3b4e83",
   "metadata": {},
   "outputs": [
    {
     "name": "stdout",
     "output_type": "stream",
     "text": [
      "marca_default\n",
      "0    98630\n",
      "1    41024\n",
      "Name: count, dtype: int64\n"
     ]
    }
   ],
   "source": [
    "print(df_output[\"marca_default\"].value_counts())"
   ]
  },
  {
   "cell_type": "code",
   "execution_count": 533,
   "id": "5cad729f-398d-479f-9d4f-77cc86f6265c",
   "metadata": {},
   "outputs": [],
   "source": [
    "deciles=deciles_train_01"
   ]
  },
  {
   "cell_type": "code",
   "execution_count": 534,
   "id": "0b69dc9e-3859-4a3b-88d3-c54717eee142",
   "metadata": {},
   "outputs": [],
   "source": [
    "# Asignar deciles a cada fila basado en el puntaje\n",
    "df_output[\"decil\"] = pd.cut(df_output[\"puntaje\"], bins=deciles, labels=False, include_lowest=True)\n",
    "# Crear una lista de los intervalos de los deciles\n",
    "intervalos = []\n",
    "for i in range(len(deciles) - 1):\n",
    "    intervalos.append(f\"{deciles[i]} - {deciles[i+1]}\")"
   ]
  },
  {
   "cell_type": "code",
   "execution_count": 535,
   "id": "905f456b-7f2c-4a44-8310-36426feb86ae",
   "metadata": {},
   "outputs": [],
   "source": [
    "# Calcular el número de eventos y no eventos para cada intervalo de decil\n",
    "eventos = []\n",
    "no_eventos = []\n",
    "for i in range(len(deciles) - 1):\n",
    "    intervalo = df_output[(df_output['puntaje'] >= deciles[i]) & (df_output['puntaje'] < deciles[i+1])]\n",
    "    eventos.append(intervalo[\"marca_default\"].sum())\n",
    "    no_eventos.append(len(intervalo) - intervalo[\"marca_default\"].sum())\n",
    "eventos.reverse()\n",
    "no_eventos.reverse()\n",
    "    \n",
    "# Calcular el total de eventos y no eventos\n",
    "total_eventos = df_output[\"marca_default\"].sum()\n",
    "total_no_eventos = len(df_output) - df_output[\"marca_default\"].sum()\n",
    "total_bin = [x + y for x, y in zip(eventos,no_eventos)]\n",
    "data = {'Min': np.flip(deciles[0:len(deciles)-1]).tolist(),\n",
    "        'Max': np.flip(deciles[1:len(deciles)]).tolist(),\n",
    "        '0': no_eventos,\n",
    "        '1': eventos,\n",
    "        'total': total_bin}\n",
    "df_resultado = pd.DataFrame(data)"
   ]
  },
  {
   "cell_type": "code",
   "execution_count": 536,
   "id": "25b280a8-73e4-45a2-9a87-eb3a930088fe",
   "metadata": {},
   "outputs": [
    {
     "name": "stdout",
     "output_type": "stream",
     "text": [
      "        Min       Max      0      1  total\n",
      "0  0.588194  1.000000   9672  11451  21123\n",
      "1  0.414337  0.588194   7414   9686  17100\n",
      "2  0.305586  0.414337   7671   9192  16863\n",
      "3  0.198159  0.305586   8108   4850  12958\n",
      "4  0.125598  0.198159  10058   1865  11923\n",
      "5  0.115702  0.125598  10600   1165  11765\n",
      "6  0.105574  0.115702   8432    948   9380\n",
      "7  0.086602  0.105574  12885   1303  14188\n",
      "8  0.075975  0.086602   6460    389   6849\n",
      "9  0.000000  0.075975  17330    175  17505\n"
     ]
    }
   ],
   "source": [
    "df_resultado_01_Julio_2023=df_resultado\n",
    "print(df_resultado_01_Julio_2023)"
   ]
  },
  {
   "cell_type": "markdown",
   "id": "98289e9a-7429-4b92-923b-7c11770fa9ba",
   "metadata": {
    "tags": []
   },
   "source": [
    "#### Agosto 2023"
   ]
  },
  {
   "cell_type": "code",
   "execution_count": 537,
   "id": "3f81b1fc-4144-480b-b19d-cd12960d3509",
   "metadata": {},
   "outputs": [
    {
     "name": "stdout",
     "output_type": "stream",
     "text": [
      "Cantidad de datos con registros faltantes en alguna de las variables: 0\n",
      "\n",
      "\n",
      " Cantidad de datos con registros completos: 133181\n"
     ]
    }
   ],
   "source": [
    "registros_completos = df_filt_Agosto_2023.dropna()\n",
    "registros_faltantes = df_filt_Agosto_2023[df_filt_Agosto_2023.isnull().any(axis=1)]\n",
    "print(\"Cantidad de datos con registros faltantes en alguna de las variables:\", len(registros_faltantes))\n",
    "print(\"\\n\\n Cantidad de datos con registros completos:\", len(registros_completos))"
   ]
  },
  {
   "cell_type": "code",
   "execution_count": 538,
   "id": "cc63f906-32e2-484a-820f-179ad0a62366",
   "metadata": {},
   "outputs": [
    {
     "data": {
      "text/html": [
       "<div>\n",
       "<style scoped>\n",
       "    .dataframe tbody tr th:only-of-type {\n",
       "        vertical-align: middle;\n",
       "    }\n",
       "\n",
       "    .dataframe tbody tr th {\n",
       "        vertical-align: top;\n",
       "    }\n",
       "\n",
       "    .dataframe thead th {\n",
       "        text-align: right;\n",
       "    }\n",
       "</style>\n",
       "<table border=\"1\" class=\"dataframe\">\n",
       "  <thead>\n",
       "    <tr style=\"text-align: right;\">\n",
       "      <th></th>\n",
       "      <th>IDENTIFICACION</th>\n",
       "      <th>NUMERO_TARJETA</th>\n",
       "      <th>fecha_corte</th>\n",
       "      <th>dias_sistema</th>\n",
       "      <th>CUPO</th>\n",
       "      <th>mora_1_a</th>\n",
       "      <th>mora_2_a</th>\n",
       "      <th>P_MP6</th>\n",
       "      <th>TP_pp</th>\n",
       "      <th>PR_1_D</th>\n",
       "      <th>PR_O_D</th>\n",
       "      <th>C_AuM</th>\n",
       "      <th>marca_default</th>\n",
       "    </tr>\n",
       "  </thead>\n",
       "  <tbody>\n",
       "  </tbody>\n",
       "</table>\n",
       "</div>"
      ],
      "text/plain": [
       "Empty DataFrame\n",
       "Columns: [IDENTIFICACION, NUMERO_TARJETA, fecha_corte, dias_sistema, CUPO, mora_1_a, mora_2_a, P_MP6, TP_pp, PR_1_D, PR_O_D, C_AuM, marca_default]\n",
       "Index: []"
      ]
     },
     "execution_count": 538,
     "metadata": {},
     "output_type": "execute_result"
    }
   ],
   "source": [
    "registros_faltantes"
   ]
  },
  {
   "cell_type": "code",
   "execution_count": 539,
   "id": "1e5ddaa0-3828-4c2c-a114-4d338d57487f",
   "metadata": {},
   "outputs": [],
   "source": [
    "#df_filt_Agosto_2023['mora_1_a'].fillna(0, inplace=True)\n",
    "#df_filt_Agosto_2023['mora_2_a'].fillna(0, inplace=True)"
   ]
  },
  {
   "cell_type": "code",
   "execution_count": 540,
   "id": "0f23e435-4e52-45c3-b6a1-798ab7b36c4a",
   "metadata": {},
   "outputs": [
    {
     "name": "stdout",
     "output_type": "stream",
     "text": [
      "Cantidad de datos con registros faltantes en alguna de las variables: 0\n",
      "\n",
      "\n",
      " Cantidad de datos con registros completos: 133181\n"
     ]
    }
   ],
   "source": [
    "registros_completos = df_filt_Agosto_2023.dropna()\n",
    "registros_faltantes = df_filt_Agosto_2023[df_filt_Agosto_2023.isnull().any(axis=1)]\n",
    "print(\"Cantidad de datos con registros faltantes en alguna de las variables:\", len(registros_faltantes))\n",
    "print(\"\\n\\n Cantidad de datos con registros completos:\", len(registros_completos))"
   ]
  },
  {
   "cell_type": "code",
   "execution_count": 541,
   "id": "5a3e1f06-fa28-40c2-917f-5a3f7c1b6cd0",
   "metadata": {},
   "outputs": [],
   "source": [
    "df_Agosto_2023=registros_completos"
   ]
  },
  {
   "cell_type": "code",
   "execution_count": 542,
   "id": "ee593495-aa05-47d4-867d-e9c1f15f78e2",
   "metadata": {},
   "outputs": [
    {
     "data": {
      "text/html": [
       "<div>\n",
       "<style scoped>\n",
       "    .dataframe tbody tr th:only-of-type {\n",
       "        vertical-align: middle;\n",
       "    }\n",
       "\n",
       "    .dataframe tbody tr th {\n",
       "        vertical-align: top;\n",
       "    }\n",
       "\n",
       "    .dataframe thead th {\n",
       "        text-align: right;\n",
       "    }\n",
       "</style>\n",
       "<table border=\"1\" class=\"dataframe\">\n",
       "  <thead>\n",
       "    <tr style=\"text-align: right;\">\n",
       "      <th></th>\n",
       "      <th>count</th>\n",
       "      <th>mean</th>\n",
       "      <th>min</th>\n",
       "      <th>25%</th>\n",
       "      <th>50%</th>\n",
       "      <th>75%</th>\n",
       "      <th>max</th>\n",
       "      <th>std</th>\n",
       "    </tr>\n",
       "  </thead>\n",
       "  <tbody>\n",
       "    <tr>\n",
       "      <th>IDENTIFICACION</th>\n",
       "      <td>133181.0</td>\n",
       "      <td>318067373.876551</td>\n",
       "      <td>174229.0</td>\n",
       "      <td>26354465.0</td>\n",
       "      <td>52089355.0</td>\n",
       "      <td>1004611373.0</td>\n",
       "      <td>2000005158.0</td>\n",
       "      <td>459035181.085206</td>\n",
       "    </tr>\n",
       "    <tr>\n",
       "      <th>fecha_corte</th>\n",
       "      <td>133181</td>\n",
       "      <td>2023-08-01 00:00:00</td>\n",
       "      <td>2023-08-01 00:00:00</td>\n",
       "      <td>2023-08-01 00:00:00</td>\n",
       "      <td>2023-08-01 00:00:00</td>\n",
       "      <td>2023-08-01 00:00:00</td>\n",
       "      <td>2023-08-01 00:00:00</td>\n",
       "      <td>NaN</td>\n",
       "    </tr>\n",
       "    <tr>\n",
       "      <th>dias_sistema</th>\n",
       "      <td>133181.0</td>\n",
       "      <td>18.911309</td>\n",
       "      <td>0.0</td>\n",
       "      <td>0.0</td>\n",
       "      <td>0.0</td>\n",
       "      <td>30.0</td>\n",
       "      <td>90.0</td>\n",
       "      <td>28.300308</td>\n",
       "    </tr>\n",
       "    <tr>\n",
       "      <th>CUPO</th>\n",
       "      <td>133181.0</td>\n",
       "      <td>3008215.302078</td>\n",
       "      <td>50000.0</td>\n",
       "      <td>1300000.0</td>\n",
       "      <td>2500000.0</td>\n",
       "      <td>4600000.0</td>\n",
       "      <td>6600000.0</td>\n",
       "      <td>1981980.926488</td>\n",
       "    </tr>\n",
       "    <tr>\n",
       "      <th>mora_1_a</th>\n",
       "      <td>133181.0</td>\n",
       "      <td>17.149774</td>\n",
       "      <td>0.0</td>\n",
       "      <td>0.0</td>\n",
       "      <td>0.0</td>\n",
       "      <td>28.0</td>\n",
       "      <td>120.0</td>\n",
       "      <td>28.356122</td>\n",
       "    </tr>\n",
       "    <tr>\n",
       "      <th>mora_2_a</th>\n",
       "      <td>133181.0</td>\n",
       "      <td>16.063417</td>\n",
       "      <td>0.0</td>\n",
       "      <td>0.0</td>\n",
       "      <td>0.0</td>\n",
       "      <td>21.0</td>\n",
       "      <td>149.0</td>\n",
       "      <td>27.647704</td>\n",
       "    </tr>\n",
       "    <tr>\n",
       "      <th>P_MP6</th>\n",
       "      <td>133181.0</td>\n",
       "      <td>0.605649</td>\n",
       "      <td>0.0</td>\n",
       "      <td>0.0</td>\n",
       "      <td>1.0</td>\n",
       "      <td>1.0</td>\n",
       "      <td>1.0</td>\n",
       "      <td>0.488713</td>\n",
       "    </tr>\n",
       "    <tr>\n",
       "      <th>TP_pp</th>\n",
       "      <td>133181.0</td>\n",
       "      <td>0.286242</td>\n",
       "      <td>0.0</td>\n",
       "      <td>0.0</td>\n",
       "      <td>0.0</td>\n",
       "      <td>1.0</td>\n",
       "      <td>1.0</td>\n",
       "      <td>0.452006</td>\n",
       "    </tr>\n",
       "    <tr>\n",
       "      <th>PR_1_D</th>\n",
       "      <td>133181.0</td>\n",
       "      <td>0.387781</td>\n",
       "      <td>0.0</td>\n",
       "      <td>0.0</td>\n",
       "      <td>0.0</td>\n",
       "      <td>1.0</td>\n",
       "      <td>1.0</td>\n",
       "      <td>0.487246</td>\n",
       "    </tr>\n",
       "    <tr>\n",
       "      <th>PR_O_D</th>\n",
       "      <td>133181.0</td>\n",
       "      <td>0.204451</td>\n",
       "      <td>0.0</td>\n",
       "      <td>0.0</td>\n",
       "      <td>0.0</td>\n",
       "      <td>0.0</td>\n",
       "      <td>1.0</td>\n",
       "      <td>0.403301</td>\n",
       "    </tr>\n",
       "    <tr>\n",
       "      <th>C_AuM</th>\n",
       "      <td>133181.0</td>\n",
       "      <td>0.198752</td>\n",
       "      <td>0.0</td>\n",
       "      <td>0.0</td>\n",
       "      <td>0.0</td>\n",
       "      <td>0.0</td>\n",
       "      <td>1.0</td>\n",
       "      <td>0.399063</td>\n",
       "    </tr>\n",
       "    <tr>\n",
       "      <th>marca_default</th>\n",
       "      <td>133181.0</td>\n",
       "      <td>0.266509</td>\n",
       "      <td>0.0</td>\n",
       "      <td>0.0</td>\n",
       "      <td>0.0</td>\n",
       "      <td>1.0</td>\n",
       "      <td>1.0</td>\n",
       "      <td>0.442135</td>\n",
       "    </tr>\n",
       "  </tbody>\n",
       "</table>\n",
       "</div>"
      ],
      "text/plain": [
       "                   count                 mean                  min  \\\n",
       "IDENTIFICACION  133181.0     318067373.876551             174229.0   \n",
       "fecha_corte       133181  2023-08-01 00:00:00  2023-08-01 00:00:00   \n",
       "dias_sistema    133181.0            18.911309                  0.0   \n",
       "CUPO            133181.0       3008215.302078              50000.0   \n",
       "mora_1_a        133181.0            17.149774                  0.0   \n",
       "mora_2_a        133181.0            16.063417                  0.0   \n",
       "P_MP6           133181.0             0.605649                  0.0   \n",
       "TP_pp           133181.0             0.286242                  0.0   \n",
       "PR_1_D          133181.0             0.387781                  0.0   \n",
       "PR_O_D          133181.0             0.204451                  0.0   \n",
       "C_AuM           133181.0             0.198752                  0.0   \n",
       "marca_default   133181.0             0.266509                  0.0   \n",
       "\n",
       "                                25%                  50%                  75%  \\\n",
       "IDENTIFICACION           26354465.0           52089355.0         1004611373.0   \n",
       "fecha_corte     2023-08-01 00:00:00  2023-08-01 00:00:00  2023-08-01 00:00:00   \n",
       "dias_sistema                    0.0                  0.0                 30.0   \n",
       "CUPO                      1300000.0            2500000.0            4600000.0   \n",
       "mora_1_a                        0.0                  0.0                 28.0   \n",
       "mora_2_a                        0.0                  0.0                 21.0   \n",
       "P_MP6                           0.0                  1.0                  1.0   \n",
       "TP_pp                           0.0                  0.0                  1.0   \n",
       "PR_1_D                          0.0                  0.0                  1.0   \n",
       "PR_O_D                          0.0                  0.0                  0.0   \n",
       "C_AuM                           0.0                  0.0                  0.0   \n",
       "marca_default                   0.0                  0.0                  1.0   \n",
       "\n",
       "                                max               std  \n",
       "IDENTIFICACION         2000005158.0  459035181.085206  \n",
       "fecha_corte     2023-08-01 00:00:00               NaN  \n",
       "dias_sistema                   90.0         28.300308  \n",
       "CUPO                      6600000.0    1981980.926488  \n",
       "mora_1_a                      120.0         28.356122  \n",
       "mora_2_a                      149.0         27.647704  \n",
       "P_MP6                           1.0          0.488713  \n",
       "TP_pp                           1.0          0.452006  \n",
       "PR_1_D                          1.0          0.487246  \n",
       "PR_O_D                          1.0          0.403301  \n",
       "C_AuM                           1.0          0.399063  \n",
       "marca_default                   1.0          0.442135  "
      ]
     },
     "execution_count": 542,
     "metadata": {},
     "output_type": "execute_result"
    }
   ],
   "source": [
    "df_Agosto_2023.describe().T"
   ]
  },
  {
   "cell_type": "code",
   "execution_count": 543,
   "id": "2aab74ca-2869-414a-b068-cc15ed34dba2",
   "metadata": {},
   "outputs": [
    {
     "name": "stderr",
     "output_type": "stream",
     "text": [
      "C:\\Users\\damartinezp\\AppData\\Local\\Temp\\ipykernel_172\\2885264155.py:3: FutureWarning: Setting an item of incompatible dtype is deprecated and will raise in a future error of pandas. Value '[1.         0.66666667 0.         ... 0.65555556 0.         0.33333333]' has dtype incompatible with int64, please explicitly cast to a compatible dtype first.\n",
      "  df1.loc[:, cuantis] = scaler_cargado.transform(df1[cuantis])\n"
     ]
    }
   ],
   "source": [
    "df1=df_Agosto_2023[variables3]\n",
    "df1.loc[:, cuantis] = df1[cuantis].astype(float) \n",
    "df1.loc[:, cuantis] = scaler_cargado.transform(df1[cuantis])  \n",
    "for i in cualis:\n",
    "    labelencoder = LabelEncoder()\n",
    "    df1.loc[:, i] = labelencoder.fit_transform(df1[i])\n",
    "X_test = df1.drop(columns=[\"marca_default\"])\n",
    "y_test = df1[\"marca_default\"]\n",
    "dtest = xgb.DMatrix(X_test, label=y_test)"
   ]
  },
  {
   "cell_type": "code",
   "execution_count": 544,
   "id": "f0c97549-e850-4c96-bf08-ecbb231682d4",
   "metadata": {},
   "outputs": [],
   "source": [
    "y_pred_proba_1 = model_1.predict(dtest)\n",
    "y_pred_proba_2 = model_2.predict(dtest)\n",
    "y_pred_proba_3 = model_3.predict(dtest)\n",
    "y_pred_proba_4 = model_4.predict(dtest)\n",
    "y_pred_proba_5 = model_5.predict(dtest)\n",
    "y_pred_proba_6 = model_6.predict(dtest)\n",
    "y_pred_proba_7 = model_7.predict(dtest)\n",
    "y_pred_proba_8 = model_8.predict(dtest)\n",
    "y_pred_proba_9 = model_9.predict(dtest)\n",
    "y_pred_proba_10 = model_10.predict(dtest)\n",
    "\n",
    "y_pred_proba=(y_pred_proba_1+y_pred_proba_2+y_pred_proba_3+y_pred_proba_4+y_pred_proba_5+y_pred_proba_6\n",
    "             +y_pred_proba_7+y_pred_proba_8+y_pred_proba_9+y_pred_proba_10)/10\n",
    "\n",
    "y_pred_labels = (y_pred_proba > proba).astype(int)  \n",
    "\n",
    "cm=confusion_matrix(y_test, y_pred_labels)\n",
    "\n",
    "acc, err, se, sp, prec, FPR =calMetrics(cm)\n",
    "accuracy, precision, recall, f1, roc_auc=calMetrics2(y_test, y_pred_labels)\n",
    "    \n",
    "matrix={\n",
    "    \"Acc\": acc,\n",
    "    \"Err\": err,\n",
    "    \"Re\": se,\n",
    "    \"Sp\": sp,\n",
    "    \"Pre\": prec,\n",
    "    \"FPR\": FPR,\n",
    "    \"F1\":f1,\n",
    "    \"ROC_AUC\": roc_auc\n",
    "}\n"
   ]
  },
  {
   "cell_type": "code",
   "execution_count": 545,
   "id": "1975228c-4205-4c44-b498-5f1e5216347c",
   "metadata": {},
   "outputs": [
    {
     "data": {
      "text/plain": [
       "{'Acc': 71.42,\n",
       " 'Err': 28.58,\n",
       " 'Re': 25.99,\n",
       " 'Sp': 87.93,\n",
       " 'Pre': 43.89,\n",
       " 'FPR': 12.07,\n",
       " 'F1': 32.65,\n",
       " 'ROC_AUC': 56.96}"
      ]
     },
     "execution_count": 545,
     "metadata": {},
     "output_type": "execute_result"
    }
   ],
   "source": [
    "matrix"
   ]
  },
  {
   "cell_type": "code",
   "execution_count": 546,
   "id": "7dbab317-f40f-41e9-aa88-4cc51598ae5c",
   "metadata": {},
   "outputs": [
    {
     "data": {
      "text/plain": [
       "<AxesSubplot:>"
      ]
     },
     "execution_count": 546,
     "metadata": {},
     "output_type": "execute_result"
    },
    {
     "data": {
      "image/png": "[encoded data removed]",
      "text/plain": [
       "<Figure size 640x480 with 2 Axes>"
      ]
     },
     "metadata": {},
     "output_type": "display_data"
    }
   ],
   "source": [
    "cm = confusion_matrix(y_test, y_pred_labels)\n",
    "sns.heatmap(cm, annot=True, cmap='viridis', fmt='g')"
   ]
  },
  {
   "cell_type": "code",
   "execution_count": 547,
   "id": "d3114d05-d717-42ce-9f91-6989cb9dd904",
   "metadata": {},
   "outputs": [],
   "source": [
    "df_output = pd.DataFrame({\"puntaje\": y_pred_proba, \"marca_default\": y_test})\n",
    "df_output.insert(0, \"V1\", range(1, len(df_output) + 1))\n",
    "df_output_01_Agosto_2023=df_output"
   ]
  },
  {
   "cell_type": "code",
   "execution_count": 548,
   "id": "ff12a817-ac60-4112-9a36-8158a84400c7",
   "metadata": {},
   "outputs": [],
   "source": [
    "df_output_01_Agosto_2023.to_csv(\"C:/Users/damartinezp/OneDrive - BAN100 S.A/Documentos/Proyectos Borrador/PD_C1/2024_modelo/saved_model0/datos_salida_XG_01_9_Agosto_2023.csv\")"
   ]
  },
  {
   "cell_type": "code",
   "execution_count": 549,
   "id": "66c31270-b4a1-4989-a2dc-d239fb309ca0",
   "metadata": {},
   "outputs": [
    {
     "name": "stdout",
     "output_type": "stream",
     "text": [
      "marca_default\n",
      "0    97687\n",
      "1    35494\n",
      "Name: count, dtype: int64\n"
     ]
    }
   ],
   "source": [
    "print(df_output[\"marca_default\"].value_counts())"
   ]
  },
  {
   "cell_type": "code",
   "execution_count": 550,
   "id": "eeb42add-cbcb-42ca-90d4-7a34fd3b17ee",
   "metadata": {},
   "outputs": [],
   "source": [
    "deciles=deciles_train_01"
   ]
  },
  {
   "cell_type": "code",
   "execution_count": 551,
   "id": "663400f8-d779-4620-a98d-e955f445b1a7",
   "metadata": {},
   "outputs": [],
   "source": [
    "# Asignar deciles a cada fila basado en el puntaje\n",
    "df_output[\"decil\"] = pd.cut(df_output[\"puntaje\"], bins=deciles, labels=False, include_lowest=True)\n",
    "# Crear una lista de los intervalos de los deciles\n",
    "intervalos = []\n",
    "for i in range(len(deciles) - 1):\n",
    "    intervalos.append(f\"{deciles[i]} - {deciles[i+1]}\")"
   ]
  },
  {
   "cell_type": "code",
   "execution_count": 552,
   "id": "d1d69927-d401-426a-aeef-a3508a0a4e20",
   "metadata": {},
   "outputs": [],
   "source": [
    "# Calcular el número de eventos y no eventos para cada intervalo de decil\n",
    "eventos = []\n",
    "no_eventos = []\n",
    "for i in range(len(deciles) - 1):\n",
    "    intervalo = df_output[(df_output['puntaje'] >= deciles[i]) & (df_output['puntaje'] < deciles[i+1])]\n",
    "    eventos.append(intervalo[\"marca_default\"].sum())\n",
    "    no_eventos.append(len(intervalo) - intervalo[\"marca_default\"].sum())\n",
    "eventos.reverse()\n",
    "no_eventos.reverse()\n",
    "    \n",
    "# Calcular el total de eventos y no eventos\n",
    "total_eventos = df_output[\"marca_default\"].sum()\n",
    "total_no_eventos = len(df_output) - df_output[\"marca_default\"].sum()\n",
    "total_bin = [x + y for x, y in zip(eventos,no_eventos)]\n",
    "data = {'Min': np.flip(deciles[0:len(deciles)-1]).tolist(),\n",
    "        'Max': np.flip(deciles[1:len(deciles)]).tolist(),\n",
    "        '0': no_eventos,\n",
    "        '1': eventos,\n",
    "        'total': total_bin}\n",
    "df_resultado = pd.DataFrame(data)"
   ]
  },
  {
   "cell_type": "code",
   "execution_count": 553,
   "id": "82960233-ee18-4fd9-a20a-0e39279a55be",
   "metadata": {},
   "outputs": [
    {
     "name": "stdout",
     "output_type": "stream",
     "text": [
      "        Min       Max      0      1  total\n",
      "0  0.588194  1.000000   8650   5677  14327\n",
      "1  0.414337  0.588194   7121   8474  15595\n",
      "2  0.305586  0.414337   9548  11151  20699\n",
      "3  0.198159  0.305586   8844   5703  14547\n",
      "4  0.125598  0.198159   9149   1493  10642\n",
      "5  0.115702  0.125598   9597    847  10444\n",
      "6  0.105574  0.115702   7858    751   8609\n",
      "7  0.086602  0.105574  11838    985  12823\n",
      "8  0.075975  0.086602   5747    278   6025\n",
      "9  0.000000  0.075975  19335    135  19470\n"
     ]
    }
   ],
   "source": [
    "df_resultado_01_Agosto_2023=df_resultado\n",
    "print(df_resultado_01_Agosto_2023)"
   ]
  },
  {
   "cell_type": "markdown",
   "id": "6a61a310-3a4a-4ca2-b423-0936ce49b6b8",
   "metadata": {},
   "source": [
    "### Septiembre 2023"
   ]
  },
  {
   "cell_type": "code",
   "execution_count": 554,
   "id": "a241acb2-d32d-427c-963a-6fae494fe3ae",
   "metadata": {},
   "outputs": [
    {
     "name": "stdout",
     "output_type": "stream",
     "text": [
      "Cantidad de datos con registros faltantes en alguna de las variables: 0\n",
      "\n",
      "\n",
      " Cantidad de datos con registros completos: 114319\n"
     ]
    }
   ],
   "source": [
    "registros_completos = df_filt_Septiembre_2023.dropna()\n",
    "registros_faltantes = df_filt_Septiembre_2023[df_filt_Septiembre_2023.isnull().any(axis=1)]\n",
    "print(\"Cantidad de datos con registros faltantes en alguna de las variables:\", len(registros_faltantes))\n",
    "print(\"\\n\\n Cantidad de datos con registros completos:\", len(registros_completos))"
   ]
  },
  {
   "cell_type": "code",
   "execution_count": 555,
   "id": "96bcb9c3-2772-485e-9690-cec16d43d21a",
   "metadata": {},
   "outputs": [
    {
     "data": {
      "text/html": [
       "<div>\n",
       "<style scoped>\n",
       "    .dataframe tbody tr th:only-of-type {\n",
       "        vertical-align: middle;\n",
       "    }\n",
       "\n",
       "    .dataframe tbody tr th {\n",
       "        vertical-align: top;\n",
       "    }\n",
       "\n",
       "    .dataframe thead th {\n",
       "        text-align: right;\n",
       "    }\n",
       "</style>\n",
       "<table border=\"1\" class=\"dataframe\">\n",
       "  <thead>\n",
       "    <tr style=\"text-align: right;\">\n",
       "      <th></th>\n",
       "      <th>IDENTIFICACION</th>\n",
       "      <th>NUMERO_TARJETA</th>\n",
       "      <th>fecha_corte</th>\n",
       "      <th>dias_sistema</th>\n",
       "      <th>CUPO</th>\n",
       "      <th>mora_1_a</th>\n",
       "      <th>mora_2_a</th>\n",
       "      <th>P_MP6</th>\n",
       "      <th>TP_pp</th>\n",
       "      <th>PR_1_D</th>\n",
       "      <th>PR_O_D</th>\n",
       "      <th>C_AuM</th>\n",
       "      <th>marca_default</th>\n",
       "      <th>mora_1_a_log</th>\n",
       "      <th>mora_2_a_log</th>\n",
       "      <th>dias_sitema_log</th>\n",
       "      <th>dias_sistema_log</th>\n",
       "    </tr>\n",
       "  </thead>\n",
       "  <tbody>\n",
       "  </tbody>\n",
       "</table>\n",
       "</div>"
      ],
      "text/plain": [
       "Empty DataFrame\n",
       "Columns: [IDENTIFICACION, NUMERO_TARJETA, fecha_corte, dias_sistema, CUPO, mora_1_a, mora_2_a, P_MP6, TP_pp, PR_1_D, PR_O_D, C_AuM, marca_default, mora_1_a_log, mora_2_a_log, dias_sitema_log, dias_sistema_log]\n",
       "Index: []"
      ]
     },
     "execution_count": 555,
     "metadata": {},
     "output_type": "execute_result"
    }
   ],
   "source": [
    "registros_faltantes"
   ]
  },
  {
   "cell_type": "code",
   "execution_count": 556,
   "id": "1bd850e7-bd46-4a0b-92b3-eb91fe0535e4",
   "metadata": {},
   "outputs": [],
   "source": [
    "#df_filt_Septiembre_2023['mora_1_a'].fillna(0, inplace=True)\n",
    "#df_filt_Septiembre_2023['mora_2_a'].fillna(0, inplace=True)"
   ]
  },
  {
   "cell_type": "code",
   "execution_count": 557,
   "id": "b458d499-c9fc-432b-988b-7ab330de6d2d",
   "metadata": {},
   "outputs": [
    {
     "name": "stdout",
     "output_type": "stream",
     "text": [
      "Cantidad de datos con registros faltantes en alguna de las variables: 0\n",
      "\n",
      "\n",
      " Cantidad de datos con registros completos: 114319\n"
     ]
    }
   ],
   "source": [
    "registros_completos = df_filt_Septiembre_2023.dropna()\n",
    "registros_faltantes = df_filt_Septiembre_2023[df_filt_Septiembre_2023.isnull().any(axis=1)]\n",
    "print(\"Cantidad de datos con registros faltantes en alguna de las variables:\", len(registros_faltantes))\n",
    "print(\"\\n\\n Cantidad de datos con registros completos:\", len(registros_completos))"
   ]
  },
  {
   "cell_type": "code",
   "execution_count": 558,
   "id": "3542c52f-cc1c-474c-a933-e8fdb7c27eda",
   "metadata": {},
   "outputs": [],
   "source": [
    "df_Septiembre_2023=registros_completos"
   ]
  },
  {
   "cell_type": "code",
   "execution_count": 559,
   "id": "dac2ea70-fd34-4b9a-921c-fc3c42772e65",
   "metadata": {},
   "outputs": [
    {
     "name": "stderr",
     "output_type": "stream",
     "text": [
      "C:\\Users\\damartinezp\\AppData\\Roaming\\Python\\Python39\\site-packages\\numpy\\lib\\function_base.py:4655: RuntimeWarning: invalid value encountered in subtract\n",
      "  diff_b_a = subtract(b, a)\n",
      "C:\\Users\\damartinezp\\AppData\\Roaming\\Python\\Python39\\site-packages\\numpy\\lib\\function_base.py:4655: RuntimeWarning: invalid value encountered in subtract\n",
      "  diff_b_a = subtract(b, a)\n",
      "C:\\Users\\damartinezp\\AppData\\Roaming\\Python\\Python39\\site-packages\\numpy\\lib\\function_base.py:4655: RuntimeWarning: invalid value encountered in subtract\n",
      "  diff_b_a = subtract(b, a)\n",
      "C:\\Users\\damartinezp\\AppData\\Roaming\\Python\\Python39\\site-packages\\numpy\\lib\\function_base.py:4655: RuntimeWarning: invalid value encountered in subtract\n",
      "  diff_b_a = subtract(b, a)\n"
     ]
    },
    {
     "data": {
      "text/html": [
       "<div>\n",
       "<style scoped>\n",
       "    .dataframe tbody tr th:only-of-type {\n",
       "        vertical-align: middle;\n",
       "    }\n",
       "\n",
       "    .dataframe tbody tr th {\n",
       "        vertical-align: top;\n",
       "    }\n",
       "\n",
       "    .dataframe thead th {\n",
       "        text-align: right;\n",
       "    }\n",
       "</style>\n",
       "<table border=\"1\" class=\"dataframe\">\n",
       "  <thead>\n",
       "    <tr style=\"text-align: right;\">\n",
       "      <th></th>\n",
       "      <th>count</th>\n",
       "      <th>mean</th>\n",
       "      <th>min</th>\n",
       "      <th>25%</th>\n",
       "      <th>50%</th>\n",
       "      <th>75%</th>\n",
       "      <th>max</th>\n",
       "      <th>std</th>\n",
       "    </tr>\n",
       "  </thead>\n",
       "  <tbody>\n",
       "    <tr>\n",
       "      <th>IDENTIFICACION</th>\n",
       "      <td>114319.0</td>\n",
       "      <td>314213901.974396</td>\n",
       "      <td>174229.0</td>\n",
       "      <td>25395364.0</td>\n",
       "      <td>51936150.0</td>\n",
       "      <td>1003155895.5</td>\n",
       "      <td>2000005158.0</td>\n",
       "      <td>457239971.143339</td>\n",
       "    </tr>\n",
       "    <tr>\n",
       "      <th>fecha_corte</th>\n",
       "      <td>114319</td>\n",
       "      <td>2023-09-01 00:00:00</td>\n",
       "      <td>2023-09-01 00:00:00</td>\n",
       "      <td>2023-09-01 00:00:00</td>\n",
       "      <td>2023-09-01 00:00:00</td>\n",
       "      <td>2023-09-01 00:00:00</td>\n",
       "      <td>2023-09-01 00:00:00</td>\n",
       "      <td>NaN</td>\n",
       "    </tr>\n",
       "    <tr>\n",
       "      <th>dias_sistema</th>\n",
       "      <td>114319.0</td>\n",
       "      <td>21.807075</td>\n",
       "      <td>0.0</td>\n",
       "      <td>0.0</td>\n",
       "      <td>0.0</td>\n",
       "      <td>42.0</td>\n",
       "      <td>90.0</td>\n",
       "      <td>29.351048</td>\n",
       "    </tr>\n",
       "    <tr>\n",
       "      <th>CUPO</th>\n",
       "      <td>114319.0</td>\n",
       "      <td>3038449.435186</td>\n",
       "      <td>50000.0</td>\n",
       "      <td>1300000.0</td>\n",
       "      <td>2555000.0</td>\n",
       "      <td>4800000.0</td>\n",
       "      <td>6600000.0</td>\n",
       "      <td>2003123.933875</td>\n",
       "    </tr>\n",
       "    <tr>\n",
       "      <th>mora_1_a</th>\n",
       "      <td>114319.0</td>\n",
       "      <td>17.753917</td>\n",
       "      <td>0.0</td>\n",
       "      <td>0.0</td>\n",
       "      <td>0.0</td>\n",
       "      <td>28.0</td>\n",
       "      <td>120.0</td>\n",
       "      <td>27.687081</td>\n",
       "    </tr>\n",
       "    <tr>\n",
       "      <th>mora_2_a</th>\n",
       "      <td>114319.0</td>\n",
       "      <td>18.425135</td>\n",
       "      <td>0.0</td>\n",
       "      <td>0.0</td>\n",
       "      <td>0.0</td>\n",
       "      <td>28.0</td>\n",
       "      <td>150.0</td>\n",
       "      <td>31.888188</td>\n",
       "    </tr>\n",
       "    <tr>\n",
       "      <th>P_MP6</th>\n",
       "      <td>114319.0</td>\n",
       "      <td>0.547188</td>\n",
       "      <td>0.0</td>\n",
       "      <td>0.0</td>\n",
       "      <td>1.0</td>\n",
       "      <td>1.0</td>\n",
       "      <td>1.0</td>\n",
       "      <td>0.49777</td>\n",
       "    </tr>\n",
       "    <tr>\n",
       "      <th>TP_pp</th>\n",
       "      <td>114319.0</td>\n",
       "      <td>0.333742</td>\n",
       "      <td>0.0</td>\n",
       "      <td>0.0</td>\n",
       "      <td>0.0</td>\n",
       "      <td>1.0</td>\n",
       "      <td>1.0</td>\n",
       "      <td>0.471551</td>\n",
       "    </tr>\n",
       "    <tr>\n",
       "      <th>PR_1_D</th>\n",
       "      <td>114319.0</td>\n",
       "      <td>0.427322</td>\n",
       "      <td>0.0</td>\n",
       "      <td>0.0</td>\n",
       "      <td>0.0</td>\n",
       "      <td>1.0</td>\n",
       "      <td>1.0</td>\n",
       "      <td>0.494692</td>\n",
       "    </tr>\n",
       "    <tr>\n",
       "      <th>PR_O_D</th>\n",
       "      <td>114319.0</td>\n",
       "      <td>0.132953</td>\n",
       "      <td>0.0</td>\n",
       "      <td>0.0</td>\n",
       "      <td>0.0</td>\n",
       "      <td>0.0</td>\n",
       "      <td>1.0</td>\n",
       "      <td>0.339525</td>\n",
       "    </tr>\n",
       "    <tr>\n",
       "      <th>C_AuM</th>\n",
       "      <td>114319.0</td>\n",
       "      <td>0.211251</td>\n",
       "      <td>0.0</td>\n",
       "      <td>0.0</td>\n",
       "      <td>0.0</td>\n",
       "      <td>0.0</td>\n",
       "      <td>1.0</td>\n",
       "      <td>0.408198</td>\n",
       "    </tr>\n",
       "    <tr>\n",
       "      <th>marca_default</th>\n",
       "      <td>114319.0</td>\n",
       "      <td>0.241465</td>\n",
       "      <td>0.0</td>\n",
       "      <td>0.0</td>\n",
       "      <td>0.0</td>\n",
       "      <td>0.0</td>\n",
       "      <td>1.0</td>\n",
       "      <td>0.427973</td>\n",
       "    </tr>\n",
       "    <tr>\n",
       "      <th>mora_1_a_log</th>\n",
       "      <td>114319.0</td>\n",
       "      <td>-inf</td>\n",
       "      <td>-inf</td>\n",
       "      <td>NaN</td>\n",
       "      <td>NaN</td>\n",
       "      <td>3.332205</td>\n",
       "      <td>4.787492</td>\n",
       "      <td>NaN</td>\n",
       "    </tr>\n",
       "    <tr>\n",
       "      <th>mora_2_a_log</th>\n",
       "      <td>114319.0</td>\n",
       "      <td>-inf</td>\n",
       "      <td>-inf</td>\n",
       "      <td>NaN</td>\n",
       "      <td>NaN</td>\n",
       "      <td>3.332205</td>\n",
       "      <td>5.010635</td>\n",
       "      <td>NaN</td>\n",
       "    </tr>\n",
       "    <tr>\n",
       "      <th>dias_sitema_log</th>\n",
       "      <td>114319.0</td>\n",
       "      <td>-inf</td>\n",
       "      <td>-inf</td>\n",
       "      <td>NaN</td>\n",
       "      <td>NaN</td>\n",
       "      <td>3.73767</td>\n",
       "      <td>4.49981</td>\n",
       "      <td>NaN</td>\n",
       "    </tr>\n",
       "    <tr>\n",
       "      <th>dias_sistema_log</th>\n",
       "      <td>114319.0</td>\n",
       "      <td>-inf</td>\n",
       "      <td>-inf</td>\n",
       "      <td>NaN</td>\n",
       "      <td>NaN</td>\n",
       "      <td>3.73767</td>\n",
       "      <td>4.49981</td>\n",
       "      <td>NaN</td>\n",
       "    </tr>\n",
       "  </tbody>\n",
       "</table>\n",
       "</div>"
      ],
      "text/plain": [
       "                     count                 mean                  min  \\\n",
       "IDENTIFICACION    114319.0     314213901.974396             174229.0   \n",
       "fecha_corte         114319  2023-09-01 00:00:00  2023-09-01 00:00:00   \n",
       "dias_sistema      114319.0            21.807075                  0.0   \n",
       "CUPO              114319.0       3038449.435186              50000.0   \n",
       "mora_1_a          114319.0            17.753917                  0.0   \n",
       "mora_2_a          114319.0            18.425135                  0.0   \n",
       "P_MP6             114319.0             0.547188                  0.0   \n",
       "TP_pp             114319.0             0.333742                  0.0   \n",
       "PR_1_D            114319.0             0.427322                  0.0   \n",
       "PR_O_D            114319.0             0.132953                  0.0   \n",
       "C_AuM             114319.0             0.211251                  0.0   \n",
       "marca_default     114319.0             0.241465                  0.0   \n",
       "mora_1_a_log      114319.0                 -inf                 -inf   \n",
       "mora_2_a_log      114319.0                 -inf                 -inf   \n",
       "dias_sitema_log   114319.0                 -inf                 -inf   \n",
       "dias_sistema_log  114319.0                 -inf                 -inf   \n",
       "\n",
       "                                  25%                  50%  \\\n",
       "IDENTIFICACION             25395364.0           51936150.0   \n",
       "fecha_corte       2023-09-01 00:00:00  2023-09-01 00:00:00   \n",
       "dias_sistema                      0.0                  0.0   \n",
       "CUPO                        1300000.0            2555000.0   \n",
       "mora_1_a                          0.0                  0.0   \n",
       "mora_2_a                          0.0                  0.0   \n",
       "P_MP6                             0.0                  1.0   \n",
       "TP_pp                             0.0                  0.0   \n",
       "PR_1_D                            0.0                  0.0   \n",
       "PR_O_D                            0.0                  0.0   \n",
       "C_AuM                             0.0                  0.0   \n",
       "marca_default                     0.0                  0.0   \n",
       "mora_1_a_log                      NaN                  NaN   \n",
       "mora_2_a_log                      NaN                  NaN   \n",
       "dias_sitema_log                   NaN                  NaN   \n",
       "dias_sistema_log                  NaN                  NaN   \n",
       "\n",
       "                                  75%                  max               std  \n",
       "IDENTIFICACION           1003155895.5         2000005158.0  457239971.143339  \n",
       "fecha_corte       2023-09-01 00:00:00  2023-09-01 00:00:00               NaN  \n",
       "dias_sistema                     42.0                 90.0         29.351048  \n",
       "CUPO                        4800000.0            6600000.0    2003123.933875  \n",
       "mora_1_a                         28.0                120.0         27.687081  \n",
       "mora_2_a                         28.0                150.0         31.888188  \n",
       "P_MP6                             1.0                  1.0           0.49777  \n",
       "TP_pp                             1.0                  1.0          0.471551  \n",
       "PR_1_D                            1.0                  1.0          0.494692  \n",
       "PR_O_D                            0.0                  1.0          0.339525  \n",
       "C_AuM                             0.0                  1.0          0.408198  \n",
       "marca_default                     0.0                  1.0          0.427973  \n",
       "mora_1_a_log                 3.332205             4.787492               NaN  \n",
       "mora_2_a_log                 3.332205             5.010635               NaN  \n",
       "dias_sitema_log               3.73767              4.49981               NaN  \n",
       "dias_sistema_log              3.73767              4.49981               NaN  "
      ]
     },
     "execution_count": 559,
     "metadata": {},
     "output_type": "execute_result"
    }
   ],
   "source": [
    "df_Septiembre_2023.describe().T"
   ]
  },
  {
   "cell_type": "code",
   "execution_count": 560,
   "id": "3998f9f8-3d31-40c6-903d-55c0bfb218f8",
   "metadata": {},
   "outputs": [
    {
     "name": "stderr",
     "output_type": "stream",
     "text": [
      "C:\\Users\\damartinezp\\AppData\\Local\\Temp\\ipykernel_172\\1321990953.py:3: FutureWarning: Setting an item of incompatible dtype is deprecated and will raise in a future error of pandas. Value '[1.         0.66666667 0.23333333 ... 0.98888889 0.         0.33333333]' has dtype incompatible with int64, please explicitly cast to a compatible dtype first.\n",
      "  df1.loc[:, cuantis] = scaler_cargado.transform(df1[cuantis])\n"
     ]
    }
   ],
   "source": [
    "df1=df_Septiembre_2023[variables3]\n",
    "df1.loc[:, cuantis] = df1[cuantis].astype(float)  \n",
    "df1.loc[:, cuantis] = scaler_cargado.transform(df1[cuantis])  \n",
    "for i in cualis:\n",
    "    labelencoder = LabelEncoder()\n",
    "    df1.loc[:, i] = labelencoder.fit_transform(df1[i])\n",
    "X_test = df1.drop(columns=[\"marca_default\"])\n",
    "y_test = df1[\"marca_default\"]\n",
    "dtest = xgb.DMatrix(X_test, label=y_test)"
   ]
  },
  {
   "cell_type": "code",
   "execution_count": 561,
   "id": "ffab7136-bad0-49c9-b28a-eb95b7e8487b",
   "metadata": {},
   "outputs": [],
   "source": [
    "y_pred_proba_1 = model_1.predict(dtest)\n",
    "y_pred_proba_2 = model_2.predict(dtest)\n",
    "y_pred_proba_3 = model_3.predict(dtest)\n",
    "y_pred_proba_4 = model_4.predict(dtest)\n",
    "y_pred_proba_5 = model_5.predict(dtest)\n",
    "y_pred_proba_6 = model_6.predict(dtest)\n",
    "y_pred_proba_7 = model_7.predict(dtest)\n",
    "y_pred_proba_8 = model_8.predict(dtest)\n",
    "y_pred_proba_9 = model_9.predict(dtest)\n",
    "y_pred_proba_10 = model_10.predict(dtest)\n",
    "\n",
    "y_pred_proba=(y_pred_proba_1+y_pred_proba_2+y_pred_proba_3+y_pred_proba_4+y_pred_proba_5+y_pred_proba_6\n",
    "             +y_pred_proba_7+y_pred_proba_8+y_pred_proba_9+y_pred_proba_10)/10\n",
    "\n",
    "y_pred_labels = (y_pred_proba > proba).astype(int)  "
   ]
  },
  {
   "cell_type": "code",
   "execution_count": 562,
   "id": "80e71ed5-bd61-46dc-9e82-a7c32d6f33c8",
   "metadata": {},
   "outputs": [
    {
     "data": {
      "text/plain": [
       "array([6.1487401e-04, 2.2082001e-03, 6.6551507e-01, ..., 3.6745366e-01,\n",
       "       4.8956910e-01, 2.3321682e-03], dtype=float32)"
      ]
     },
     "execution_count": 562,
     "metadata": {},
     "output_type": "execute_result"
    }
   ],
   "source": [
    "y_pred_proba"
   ]
  },
  {
   "cell_type": "code",
   "execution_count": 563,
   "id": "c3f58153-7698-40e0-99e2-eb4a478e7ca9",
   "metadata": {},
   "outputs": [
    {
     "data": {
      "text/plain": [
       "{'Acc': 75.5,\n",
       " 'Err': 24.5,\n",
       " 'Re': 30.63,\n",
       " 'Sp': 89.78,\n",
       " 'Pre': 48.82,\n",
       " 'FPR': 10.22,\n",
       " 'F1': 37.64,\n",
       " 'ROC_AUC': 60.2}"
      ]
     },
     "execution_count": 563,
     "metadata": {},
     "output_type": "execute_result"
    }
   ],
   "source": [
    "cm=confusion_matrix(y_test, y_pred_labels)\n",
    "\n",
    "acc, err, se, sp, prec, FPR =calMetrics(cm)\n",
    "accuracy, precision, recall, f1, roc_auc=calMetrics2(y_test, y_pred_labels)\n",
    "    \n",
    "matrix={\n",
    "    \"Acc\": acc,\n",
    "    \"Err\": err,\n",
    "    \"Re\": se,\n",
    "    \"Sp\": sp,\n",
    "    \"Pre\": prec,\n",
    "    \"FPR\": FPR,\n",
    "    \"F1\":f1,\n",
    "    \"ROC_AUC\": roc_auc\n",
    "}\n",
    "\n",
    "matrix"
   ]
  },
  {
   "cell_type": "code",
   "execution_count": 564,
   "id": "d22a265f-32c0-4280-87c6-766391f86972",
   "metadata": {},
   "outputs": [
    {
     "data": {
      "text/plain": [
       "<AxesSubplot:>"
      ]
     },
     "execution_count": 564,
     "metadata": {},
     "output_type": "execute_result"
    },
    {
     "data": {
      "image/png": "[encoded data removed]",
      "text/plain": [
       "<Figure size 640x480 with 2 Axes>"
      ]
     },
     "metadata": {},
     "output_type": "display_data"
    }
   ],
   "source": [
    "cm = confusion_matrix(y_test, y_pred_labels)\n",
    "sns.heatmap(cm, annot=True, cmap='viridis', fmt='g')"
   ]
  },
  {
   "cell_type": "code",
   "execution_count": 565,
   "id": "74cb4264-d172-4dce-990d-5399cf96251b",
   "metadata": {},
   "outputs": [],
   "source": [
    "df_output = pd.DataFrame({\"puntaje\": y_pred_proba, \"marca_default\": y_test})\n",
    "df_output.insert(0, \"V1\", range(1, len(df_output) + 1))\n",
    "df_output_01_Septiembre_2023=df_output"
   ]
  },
  {
   "cell_type": "code",
   "execution_count": 566,
   "id": "abc7a4df-4815-42d3-a4e2-5ed8e7c99f4f",
   "metadata": {},
   "outputs": [],
   "source": [
    "df_output_01_Septiembre_2023.to_csv(\"C:/Users/damartinezp/OneDrive - BAN100 S.A/Documentos/Proyectos Borrador/PD_C1/2024_modelo/saved_model0/datos_salida_XG_01_9_Septiembre_2023.csv\")\n",
    "df_output_01_Septiembre_2023.to_csv(\"C:/Users/damartinezp/OneDrive - BAN100 S.A/Documentos/Proyectos Borrador/PD_C1/2024_modelo/datos_salida_XG_01_9_Septiembre_2023.csv\")"
   ]
  },
  {
   "cell_type": "code",
   "execution_count": 567,
   "id": "b8e1e0ac-c423-4c27-b3a5-c0cdb028cebd",
   "metadata": {},
   "outputs": [],
   "source": [
    "deciles=deciles_train_01"
   ]
  },
  {
   "cell_type": "code",
   "execution_count": 568,
   "id": "e784ca19-a63f-4c7d-803c-5729b6618c0b",
   "metadata": {},
   "outputs": [],
   "source": [
    "# Asignar deciles a cada fila basado en el puntaje\n",
    "df_output[\"decil\"] = pd.cut(df_output[\"puntaje\"], bins=deciles, labels=False, include_lowest=True)\n",
    "# Crear una lista de los intervalos de los deciles\n",
    "intervalos = []\n",
    "for i in range(len(deciles) - 1):\n",
    "    intervalos.append(f\"{deciles[i]} - {deciles[i+1]}\")"
   ]
  },
  {
   "cell_type": "code",
   "execution_count": 569,
   "id": "68aeb499-adfe-4588-b5a2-04c090751495",
   "metadata": {},
   "outputs": [],
   "source": [
    "# Calcular el número de eventos y no eventos para cada intervalo de decil\n",
    "eventos = []\n",
    "no_eventos = []\n",
    "for i in range(len(deciles) - 1):\n",
    "    intervalo = df_output[(df_output['puntaje'] >= deciles[i]) & (df_output['puntaje'] < deciles[i+1])]\n",
    "    eventos.append(intervalo[\"marca_default\"].sum())\n",
    "    no_eventos.append(len(intervalo) - intervalo[\"marca_default\"].sum())\n",
    "eventos.reverse()\n",
    "no_eventos.reverse()\n",
    "    \n",
    "# Calcular el total de eventos y no eventos\n",
    "total_eventos = df_output[\"marca_default\"].sum()\n",
    "total_no_eventos = len(df_output) - df_output[\"marca_default\"].sum()\n",
    "total_bin = [x + y for x, y in zip(eventos,no_eventos)]\n",
    "data = {'Min': np.flip(deciles[0:len(deciles)-1]).tolist(),\n",
    "        'Max': np.flip(deciles[1:len(deciles)]).tolist(),\n",
    "        '0': no_eventos,\n",
    "        '1': eventos,\n",
    "        'total': total_bin}\n",
    "df_resultado = pd.DataFrame(data)"
   ]
  },
  {
   "cell_type": "code",
   "execution_count": 570,
   "id": "939d274d-e2de-453b-a244-9e0628e5a1fe",
   "metadata": {},
   "outputs": [
    {
     "name": "stdout",
     "output_type": "stream",
     "text": [
      "        Min       Max      0     1  total\n",
      "0  0.588194  1.000000   5937  4427  10364\n",
      "1  0.414337  0.588194   6974  8680  15654\n",
      "2  0.305586  0.414337  10515  8170  18685\n",
      "3  0.198159  0.305586   9999  3262  13261\n",
      "4  0.125598  0.198159   5488   845   6333\n",
      "5  0.115702  0.125598   7160   501   7661\n",
      "6  0.105574  0.115702   6824   624   7448\n",
      "7  0.086602  0.105574  10410   790  11200\n",
      "8  0.075975  0.086602   4991   205   5196\n",
      "9  0.000000  0.075975  18417   100  18517\n"
     ]
    }
   ],
   "source": [
    "df_resultado_01_Septiembre_2023=df_resultado\n",
    "print(df_resultado_01_Septiembre_2023)"
   ]
  },
  {
   "cell_type": "markdown",
   "id": "c90b9f69-20c6-4f85-9b93-6ce95610dfc3",
   "metadata": {},
   "source": [
    "### Descriptiva"
   ]
  },
  {
   "cell_type": "code",
   "execution_count": 176,
   "id": "751df702-f6e5-4d10-851b-494a49e098f2",
   "metadata": {},
   "outputs": [
    {
     "data": {
      "text/html": [
       "<div>\n",
       "<style scoped>\n",
       "    .dataframe tbody tr th:only-of-type {\n",
       "        vertical-align: middle;\n",
       "    }\n",
       "\n",
       "    .dataframe tbody tr th {\n",
       "        vertical-align: top;\n",
       "    }\n",
       "\n",
       "    .dataframe thead th {\n",
       "        text-align: right;\n",
       "    }\n",
       "</style>\n",
       "<table border=\"1\" class=\"dataframe\">\n",
       "  <thead>\n",
       "    <tr style=\"text-align: right;\">\n",
       "      <th></th>\n",
       "      <th>IDENTIFICACION</th>\n",
       "      <th>NUMERO_TARJETA</th>\n",
       "      <th>fecha_corte</th>\n",
       "      <th>dias_sistema</th>\n",
       "      <th>CUPO</th>\n",
       "      <th>mora_1_a</th>\n",
       "      <th>mora_2_a</th>\n",
       "      <th>P_MP6</th>\n",
       "      <th>TP_pp</th>\n",
       "      <th>PR_1_D</th>\n",
       "      <th>PR_O_D</th>\n",
       "      <th>C_AuM</th>\n",
       "      <th>marca_default</th>\n",
       "    </tr>\n",
       "  </thead>\n",
       "  <tbody>\n",
       "    <tr>\n",
       "      <th>0</th>\n",
       "      <td>174229</td>\n",
       "      <td>00000004010930006874794</td>\n",
       "      <td>2023-09-01</td>\n",
       "      <td>90</td>\n",
       "      <td>6600000.0</td>\n",
       "      <td>90.0</td>\n",
       "      <td>90.0</td>\n",
       "      <td>0</td>\n",
       "      <td>1</td>\n",
       "      <td>1</td>\n",
       "      <td>0</td>\n",
       "      <td>0</td>\n",
       "      <td>0</td>\n",
       "    </tr>\n",
       "    <tr>\n",
       "      <th>1</th>\n",
       "      <td>176459</td>\n",
       "      <td>00000004010930005632276</td>\n",
       "      <td>2023-09-01</td>\n",
       "      <td>60</td>\n",
       "      <td>5600000.0</td>\n",
       "      <td>60.0</td>\n",
       "      <td>60.0</td>\n",
       "      <td>0</td>\n",
       "      <td>1</td>\n",
       "      <td>0</td>\n",
       "      <td>0</td>\n",
       "      <td>0</td>\n",
       "      <td>0</td>\n",
       "    </tr>\n",
       "    <tr>\n",
       "      <th>2</th>\n",
       "      <td>179090</td>\n",
       "      <td>00000004010930006505158</td>\n",
       "      <td>2023-09-01</td>\n",
       "      <td>21</td>\n",
       "      <td>2700000.0</td>\n",
       "      <td>0.0</td>\n",
       "      <td>0.0</td>\n",
       "      <td>0</td>\n",
       "      <td>0</td>\n",
       "      <td>0</td>\n",
       "      <td>0</td>\n",
       "      <td>1</td>\n",
       "      <td>1</td>\n",
       "    </tr>\n",
       "    <tr>\n",
       "      <th>3</th>\n",
       "      <td>190685</td>\n",
       "      <td>00000004010930004539852</td>\n",
       "      <td>2023-09-01</td>\n",
       "      <td>90</td>\n",
       "      <td>1100000.0</td>\n",
       "      <td>90.0</td>\n",
       "      <td>90.0</td>\n",
       "      <td>0</td>\n",
       "      <td>1</td>\n",
       "      <td>0</td>\n",
       "      <td>0</td>\n",
       "      <td>0</td>\n",
       "      <td>0</td>\n",
       "    </tr>\n",
       "    <tr>\n",
       "      <th>4</th>\n",
       "      <td>192428</td>\n",
       "      <td>00000004010930006899866</td>\n",
       "      <td>2023-09-01</td>\n",
       "      <td>0</td>\n",
       "      <td>2770000.0</td>\n",
       "      <td>0.0</td>\n",
       "      <td>0.0</td>\n",
       "      <td>1</td>\n",
       "      <td>0</td>\n",
       "      <td>1</td>\n",
       "      <td>0</td>\n",
       "      <td>0</td>\n",
       "      <td>0</td>\n",
       "    </tr>\n",
       "    <tr>\n",
       "      <th>...</th>\n",
       "      <td>...</td>\n",
       "      <td>...</td>\n",
       "      <td>...</td>\n",
       "      <td>...</td>\n",
       "      <td>...</td>\n",
       "      <td>...</td>\n",
       "      <td>...</td>\n",
       "      <td>...</td>\n",
       "      <td>...</td>\n",
       "      <td>...</td>\n",
       "      <td>...</td>\n",
       "      <td>...</td>\n",
       "      <td>...</td>\n",
       "    </tr>\n",
       "    <tr>\n",
       "      <th>114314</th>\n",
       "      <td>2000003225</td>\n",
       "      <td>00000004010939000832344</td>\n",
       "      <td>2023-09-01</td>\n",
       "      <td>11</td>\n",
       "      <td>800000.0</td>\n",
       "      <td>0.0</td>\n",
       "      <td>0.0</td>\n",
       "      <td>0</td>\n",
       "      <td>0</td>\n",
       "      <td>0</td>\n",
       "      <td>1</td>\n",
       "      <td>0</td>\n",
       "      <td>1</td>\n",
       "    </tr>\n",
       "    <tr>\n",
       "      <th>114315</th>\n",
       "      <td>2000003235</td>\n",
       "      <td>00000004010939001184869</td>\n",
       "      <td>2023-09-01</td>\n",
       "      <td>42</td>\n",
       "      <td>400000.0</td>\n",
       "      <td>12.0</td>\n",
       "      <td>12.0</td>\n",
       "      <td>1</td>\n",
       "      <td>0</td>\n",
       "      <td>0</td>\n",
       "      <td>1</td>\n",
       "      <td>0</td>\n",
       "      <td>0</td>\n",
       "    </tr>\n",
       "    <tr>\n",
       "      <th>114316</th>\n",
       "      <td>2000003730</td>\n",
       "      <td>00000004010939000726215</td>\n",
       "      <td>2023-09-01</td>\n",
       "      <td>89</td>\n",
       "      <td>1110000.0</td>\n",
       "      <td>59.0</td>\n",
       "      <td>28.0</td>\n",
       "      <td>0</td>\n",
       "      <td>0</td>\n",
       "      <td>0</td>\n",
       "      <td>1</td>\n",
       "      <td>1</td>\n",
       "      <td>1</td>\n",
       "    </tr>\n",
       "    <tr>\n",
       "      <th>114317</th>\n",
       "      <td>2000004879</td>\n",
       "      <td>00000004010939000727668</td>\n",
       "      <td>2023-09-01</td>\n",
       "      <td>0</td>\n",
       "      <td>800000.0</td>\n",
       "      <td>0.0</td>\n",
       "      <td>12.0</td>\n",
       "      <td>0</td>\n",
       "      <td>0</td>\n",
       "      <td>0</td>\n",
       "      <td>1</td>\n",
       "      <td>0</td>\n",
       "      <td>1</td>\n",
       "    </tr>\n",
       "    <tr>\n",
       "      <th>114318</th>\n",
       "      <td>2000005158</td>\n",
       "      <td>00000004010939001317204</td>\n",
       "      <td>2023-09-01</td>\n",
       "      <td>30</td>\n",
       "      <td>700000.0</td>\n",
       "      <td>30.0</td>\n",
       "      <td>30.0</td>\n",
       "      <td>0</td>\n",
       "      <td>1</td>\n",
       "      <td>0</td>\n",
       "      <td>1</td>\n",
       "      <td>0</td>\n",
       "      <td>0</td>\n",
       "    </tr>\n",
       "  </tbody>\n",
       "</table>\n",
       "<p>114319 rows × 13 columns</p>\n",
       "</div>"
      ],
      "text/plain": [
       "        IDENTIFICACION           NUMERO_TARJETA fecha_corte  dias_sistema  \\\n",
       "0               174229  00000004010930006874794  2023-09-01            90   \n",
       "1               176459  00000004010930005632276  2023-09-01            60   \n",
       "2               179090  00000004010930006505158  2023-09-01            21   \n",
       "3               190685  00000004010930004539852  2023-09-01            90   \n",
       "4               192428  00000004010930006899866  2023-09-01             0   \n",
       "...                ...                      ...         ...           ...   \n",
       "114314      2000003225  00000004010939000832344  2023-09-01            11   \n",
       "114315      2000003235  00000004010939001184869  2023-09-01            42   \n",
       "114316      2000003730  00000004010939000726215  2023-09-01            89   \n",
       "114317      2000004879  00000004010939000727668  2023-09-01             0   \n",
       "114318      2000005158  00000004010939001317204  2023-09-01            30   \n",
       "\n",
       "             CUPO  mora_1_a  mora_2_a  P_MP6  TP_pp  PR_1_D  PR_O_D  C_AuM  \\\n",
       "0       6600000.0      90.0      90.0      0      1       1       0      0   \n",
       "1       5600000.0      60.0      60.0      0      1       0       0      0   \n",
       "2       2700000.0       0.0       0.0      0      0       0       0      1   \n",
       "3       1100000.0      90.0      90.0      0      1       0       0      0   \n",
       "4       2770000.0       0.0       0.0      1      0       1       0      0   \n",
       "...           ...       ...       ...    ...    ...     ...     ...    ...   \n",
       "114314   800000.0       0.0       0.0      0      0       0       1      0   \n",
       "114315   400000.0      12.0      12.0      1      0       0       1      0   \n",
       "114316  1110000.0      59.0      28.0      0      0       0       1      1   \n",
       "114317   800000.0       0.0      12.0      0      0       0       1      0   \n",
       "114318   700000.0      30.0      30.0      0      1       0       1      0   \n",
       "\n",
       "        marca_default  \n",
       "0                   0  \n",
       "1                   0  \n",
       "2                   1  \n",
       "3                   0  \n",
       "4                   0  \n",
       "...               ...  \n",
       "114314              1  \n",
       "114315              0  \n",
       "114316              1  \n",
       "114317              1  \n",
       "114318              0  \n",
       "\n",
       "[114319 rows x 13 columns]"
      ]
     },
     "execution_count": 176,
     "metadata": {},
     "output_type": "execute_result"
    }
   ],
   "source": [
    "df_filt_Septiembre_2023"
   ]
  },
  {
   "cell_type": "code",
   "execution_count": 181,
   "id": "5c7cb3bc-b573-4cb2-9f3d-3c9f3b66108e",
   "metadata": {},
   "outputs": [
    {
     "data": {
      "image/png": "[encoded data removed]",
      "text/plain": [
       "<Figure size 600x400 with 1 Axes>"
      ]
     },
     "metadata": {},
     "output_type": "display_data"
    }
   ],
   "source": [
    "import seaborn as sns\n",
    "import matplotlib.pyplot as plt\n",
    "\n",
    "# Obtener los conteos de cada combinación de categorías\n",
    "counts = df_filt_Septiembre_2023.groupby(['P_MP6', 'marca_default']).size().reset_index(name='count')\n",
    "\n",
    "# Calcular las frecuencias relativas\n",
    "counts['proportion'] = counts.groupby('P_MP6')['count'].transform(lambda x: x / x.sum())\n",
    "\n",
    "# Configurar el tamaño del gráfico\n",
    "plt.figure(figsize=(6, 4))\n",
    "\n",
    "# Crear el gráfico de barras proporcionales utilizando barplot de Seaborn\n",
    "sns.barplot(data=counts, x='P_MP6', y='proportion',palette=['darkblue', 'darkgreen'], hue='marca_default')\n",
    "\n",
    "# Personalizar el gráfico\n",
    "plt.xlabel('P_MP6')\n",
    "plt.ylabel('Proporción')\n",
    "plt.title('Gráfico de barras proporcionales P_MP6')\n",
    "\n",
    "# Mostrar el gráfico\n",
    "plt.show()"
   ]
  },
  {
   "cell_type": "code",
   "execution_count": 182,
   "id": "e7b9b12e-5693-422c-a604-e16405e893a3",
   "metadata": {},
   "outputs": [
    {
     "data": {
      "text/html": [
       "<div>\n",
       "<style scoped>\n",
       "    .dataframe tbody tr th:only-of-type {\n",
       "        vertical-align: middle;\n",
       "    }\n",
       "\n",
       "    .dataframe tbody tr th {\n",
       "        vertical-align: top;\n",
       "    }\n",
       "\n",
       "    .dataframe thead th {\n",
       "        text-align: right;\n",
       "    }\n",
       "</style>\n",
       "<table border=\"1\" class=\"dataframe\">\n",
       "  <thead>\n",
       "    <tr style=\"text-align: right;\">\n",
       "      <th></th>\n",
       "      <th>P_MP6</th>\n",
       "      <th>marca_default</th>\n",
       "      <th>count</th>\n",
       "      <th>proportion</th>\n",
       "    </tr>\n",
       "  </thead>\n",
       "  <tbody>\n",
       "    <tr>\n",
       "      <th>0</th>\n",
       "      <td>0</td>\n",
       "      <td>0</td>\n",
       "      <td>35805</td>\n",
       "      <td>0.691684</td>\n",
       "    </tr>\n",
       "    <tr>\n",
       "      <th>1</th>\n",
       "      <td>0</td>\n",
       "      <td>1</td>\n",
       "      <td>15960</td>\n",
       "      <td>0.308316</td>\n",
       "    </tr>\n",
       "    <tr>\n",
       "      <th>2</th>\n",
       "      <td>1</td>\n",
       "      <td>0</td>\n",
       "      <td>50910</td>\n",
       "      <td>0.813857</td>\n",
       "    </tr>\n",
       "    <tr>\n",
       "      <th>3</th>\n",
       "      <td>1</td>\n",
       "      <td>1</td>\n",
       "      <td>11644</td>\n",
       "      <td>0.186143</td>\n",
       "    </tr>\n",
       "  </tbody>\n",
       "</table>\n",
       "</div>"
      ],
      "text/plain": [
       "   P_MP6  marca_default  count  proportion\n",
       "0      0              0  35805    0.691684\n",
       "1      0              1  15960    0.308316\n",
       "2      1              0  50910    0.813857\n",
       "3      1              1  11644    0.186143"
      ]
     },
     "execution_count": 182,
     "metadata": {},
     "output_type": "execute_result"
    }
   ],
   "source": [
    "counts"
   ]
  },
  {
   "cell_type": "code",
   "execution_count": 188,
   "id": "0fa657a0-5349-4776-853a-bfb8052c88c0",
   "metadata": {},
   "outputs": [
    {
     "data": {
      "image/png": "[encoded data removed]",
      "text/plain": [
       "<Figure size 600x400 with 1 Axes>"
      ]
     },
     "metadata": {},
     "output_type": "display_data"
    }
   ],
   "source": [
    "# Obtener los conteos de cada combinación de categorías\n",
    "counts = df_filt_Septiembre_2023.groupby(['TP_pp', 'marca_default']).size().reset_index(name='count')\n",
    "\n",
    "# Calcular las frecuencias relativas\n",
    "counts['proportion'] = counts.groupby('TP_pp')['count'].transform(lambda x: x / x.sum())\n",
    "\n",
    "# Configurar el tamaño del gráfico\n",
    "plt.figure(figsize=(6, 4))\n",
    "\n",
    "# Crear el gráfico de barras proporcionales utilizando barplot de Seaborn\n",
    "sns.barplot(data=counts, x='TP_pp', y='proportion',palette=['darkblue', 'darkgreen'], hue='marca_default')\n",
    "\n",
    "# Personalizar el gráfico\n",
    "plt.xlabel('TP_pp')\n",
    "plt.ylabel('Proporción')\n",
    "plt.title('Gráfico de barras proporcionales TP_pp')\n",
    "\n",
    "# Mostrar el gráfico\n",
    "plt.show()"
   ]
  },
  {
   "cell_type": "code",
   "execution_count": 190,
   "id": "f16de539-a8cc-4c4f-9681-97a8c741983c",
   "metadata": {},
   "outputs": [
    {
     "data": {
      "text/html": [
       "<div>\n",
       "<style scoped>\n",
       "    .dataframe tbody tr th:only-of-type {\n",
       "        vertical-align: middle;\n",
       "    }\n",
       "\n",
       "    .dataframe tbody tr th {\n",
       "        vertical-align: top;\n",
       "    }\n",
       "\n",
       "    .dataframe thead th {\n",
       "        text-align: right;\n",
       "    }\n",
       "</style>\n",
       "<table border=\"1\" class=\"dataframe\">\n",
       "  <thead>\n",
       "    <tr style=\"text-align: right;\">\n",
       "      <th></th>\n",
       "      <th>TP_pp</th>\n",
       "      <th>marca_default</th>\n",
       "      <th>count</th>\n",
       "      <th>proportion</th>\n",
       "    </tr>\n",
       "  </thead>\n",
       "  <tbody>\n",
       "    <tr>\n",
       "      <th>0</th>\n",
       "      <td>0</td>\n",
       "      <td>0</td>\n",
       "      <td>52289</td>\n",
       "      <td>0.686514</td>\n",
       "    </tr>\n",
       "    <tr>\n",
       "      <th>1</th>\n",
       "      <td>0</td>\n",
       "      <td>1</td>\n",
       "      <td>23877</td>\n",
       "      <td>0.313486</td>\n",
       "    </tr>\n",
       "    <tr>\n",
       "      <th>2</th>\n",
       "      <td>1</td>\n",
       "      <td>0</td>\n",
       "      <td>34426</td>\n",
       "      <td>0.902314</td>\n",
       "    </tr>\n",
       "    <tr>\n",
       "      <th>3</th>\n",
       "      <td>1</td>\n",
       "      <td>1</td>\n",
       "      <td>3727</td>\n",
       "      <td>0.097686</td>\n",
       "    </tr>\n",
       "  </tbody>\n",
       "</table>\n",
       "</div>"
      ],
      "text/plain": [
       "   TP_pp  marca_default  count  proportion\n",
       "0      0              0  52289    0.686514\n",
       "1      0              1  23877    0.313486\n",
       "2      1              0  34426    0.902314\n",
       "3      1              1   3727    0.097686"
      ]
     },
     "execution_count": 190,
     "metadata": {},
     "output_type": "execute_result"
    }
   ],
   "source": [
    "counts"
   ]
  },
  {
   "cell_type": "code",
   "execution_count": 191,
   "id": "d3ac328a-d0c1-4dbb-a91b-df570738dfe6",
   "metadata": {},
   "outputs": [
    {
     "data": {
      "image/png": "[encoded data removed]",
      "text/plain": [
       "<Figure size 600x400 with 1 Axes>"
      ]
     },
     "metadata": {},
     "output_type": "display_data"
    }
   ],
   "source": [
    "# Obtener los conteos de cada combinación de categorías\n",
    "counts = df_filt_Septiembre_2023.groupby(['PR_1_D', 'marca_default']).size().reset_index(name='count')\n",
    "\n",
    "# Calcular las frecuencias relativas\n",
    "counts['proportion'] = counts.groupby('PR_1_D')['count'].transform(lambda x: x / x.sum())\n",
    "\n",
    "# Configurar el tamaño del gráfico\n",
    "plt.figure(figsize=(6, 4))\n",
    "\n",
    "# Crear el gráfico de barras proporcionales utilizando barplot de Seaborn\n",
    "sns.barplot(data=counts, x='PR_1_D', y='proportion',palette=['darkblue', 'darkgreen'], hue='marca_default')\n",
    "\n",
    "# Personalizar el gráfico\n",
    "plt.xlabel('PR_1_D')\n",
    "plt.ylabel('Proporción')\n",
    "plt.title('Gráfico de barras proporcionales PR_1_D')\n",
    "\n",
    "# Mostrar el gráfico\n",
    "plt.show()"
   ]
  },
  {
   "cell_type": "code",
   "execution_count": 192,
   "id": "90fc138f-6483-4b3b-9dff-c1e1c0f57556",
   "metadata": {},
   "outputs": [
    {
     "data": {
      "text/html": [
       "<div>\n",
       "<style scoped>\n",
       "    .dataframe tbody tr th:only-of-type {\n",
       "        vertical-align: middle;\n",
       "    }\n",
       "\n",
       "    .dataframe tbody tr th {\n",
       "        vertical-align: top;\n",
       "    }\n",
       "\n",
       "    .dataframe thead th {\n",
       "        text-align: right;\n",
       "    }\n",
       "</style>\n",
       "<table border=\"1\" class=\"dataframe\">\n",
       "  <thead>\n",
       "    <tr style=\"text-align: right;\">\n",
       "      <th></th>\n",
       "      <th>PR_1_D</th>\n",
       "      <th>marca_default</th>\n",
       "      <th>count</th>\n",
       "      <th>proportion</th>\n",
       "    </tr>\n",
       "  </thead>\n",
       "  <tbody>\n",
       "    <tr>\n",
       "      <th>0</th>\n",
       "      <td>0</td>\n",
       "      <td>0</td>\n",
       "      <td>47985</td>\n",
       "      <td>0.732954</td>\n",
       "    </tr>\n",
       "    <tr>\n",
       "      <th>1</th>\n",
       "      <td>0</td>\n",
       "      <td>1</td>\n",
       "      <td>17483</td>\n",
       "      <td>0.267046</td>\n",
       "    </tr>\n",
       "    <tr>\n",
       "      <th>2</th>\n",
       "      <td>1</td>\n",
       "      <td>0</td>\n",
       "      <td>38730</td>\n",
       "      <td>0.792819</td>\n",
       "    </tr>\n",
       "    <tr>\n",
       "      <th>3</th>\n",
       "      <td>1</td>\n",
       "      <td>1</td>\n",
       "      <td>10121</td>\n",
       "      <td>0.207181</td>\n",
       "    </tr>\n",
       "  </tbody>\n",
       "</table>\n",
       "</div>"
      ],
      "text/plain": [
       "   PR_1_D  marca_default  count  proportion\n",
       "0       0              0  47985    0.732954\n",
       "1       0              1  17483    0.267046\n",
       "2       1              0  38730    0.792819\n",
       "3       1              1  10121    0.207181"
      ]
     },
     "execution_count": 192,
     "metadata": {},
     "output_type": "execute_result"
    }
   ],
   "source": [
    "counts"
   ]
  },
  {
   "cell_type": "code",
   "execution_count": 193,
   "id": "261a4cff-1d2e-4ca8-81a7-a96219ef09cc",
   "metadata": {},
   "outputs": [
    {
     "data": {
      "image/png": "[encoded data removed]",
      "text/plain": [
       "<Figure size 600x400 with 1 Axes>"
      ]
     },
     "metadata": {},
     "output_type": "display_data"
    }
   ],
   "source": [
    "# Obtener los conteos de cada combinación de categorías\n",
    "counts = df_filt_Septiembre_2023.groupby(['PR_O_D', 'marca_default']).size().reset_index(name='count')\n",
    "\n",
    "# Calcular las frecuencias relativas\n",
    "counts['proportion'] = counts.groupby('PR_O_D')['count'].transform(lambda x: x / x.sum())\n",
    "\n",
    "# Configurar el tamaño del gráfico\n",
    "plt.figure(figsize=(6, 4))\n",
    "\n",
    "# Crear el gráfico de barras proporcionales utilizando barplot de Seaborn\n",
    "sns.barplot(data=counts, x='PR_O_D', y='proportion',palette=['darkblue', 'darkgreen'], hue='marca_default')\n",
    "\n",
    "# Personalizar el gráfico\n",
    "plt.xlabel('PR_O_D')\n",
    "plt.ylabel('Proporción')\n",
    "plt.title('Gráfico de barras proporcionales PR_O_D')\n",
    "\n",
    "# Mostrar el gráfico\n",
    "plt.show()"
   ]
  },
  {
   "cell_type": "code",
   "execution_count": 194,
   "id": "0543bb45-93ef-4877-b3da-58f83b668a99",
   "metadata": {},
   "outputs": [
    {
     "data": {
      "text/html": [
       "<div>\n",
       "<style scoped>\n",
       "    .dataframe tbody tr th:only-of-type {\n",
       "        vertical-align: middle;\n",
       "    }\n",
       "\n",
       "    .dataframe tbody tr th {\n",
       "        vertical-align: top;\n",
       "    }\n",
       "\n",
       "    .dataframe thead th {\n",
       "        text-align: right;\n",
       "    }\n",
       "</style>\n",
       "<table border=\"1\" class=\"dataframe\">\n",
       "  <thead>\n",
       "    <tr style=\"text-align: right;\">\n",
       "      <th></th>\n",
       "      <th>PR_O_D</th>\n",
       "      <th>marca_default</th>\n",
       "      <th>count</th>\n",
       "      <th>proportion</th>\n",
       "    </tr>\n",
       "  </thead>\n",
       "  <tbody>\n",
       "    <tr>\n",
       "      <th>0</th>\n",
       "      <td>0</td>\n",
       "      <td>0</td>\n",
       "      <td>75523</td>\n",
       "      <td>0.761935</td>\n",
       "    </tr>\n",
       "    <tr>\n",
       "      <th>1</th>\n",
       "      <td>0</td>\n",
       "      <td>1</td>\n",
       "      <td>23597</td>\n",
       "      <td>0.238065</td>\n",
       "    </tr>\n",
       "    <tr>\n",
       "      <th>2</th>\n",
       "      <td>1</td>\n",
       "      <td>0</td>\n",
       "      <td>11192</td>\n",
       "      <td>0.736364</td>\n",
       "    </tr>\n",
       "    <tr>\n",
       "      <th>3</th>\n",
       "      <td>1</td>\n",
       "      <td>1</td>\n",
       "      <td>4007</td>\n",
       "      <td>0.263636</td>\n",
       "    </tr>\n",
       "  </tbody>\n",
       "</table>\n",
       "</div>"
      ],
      "text/plain": [
       "   PR_O_D  marca_default  count  proportion\n",
       "0       0              0  75523    0.761935\n",
       "1       0              1  23597    0.238065\n",
       "2       1              0  11192    0.736364\n",
       "3       1              1   4007    0.263636"
      ]
     },
     "execution_count": 194,
     "metadata": {},
     "output_type": "execute_result"
    }
   ],
   "source": [
    "counts"
   ]
  },
  {
   "cell_type": "code",
   "execution_count": 195,
   "id": "e1ca687b-e828-4b69-b8d0-f46f5de37d98",
   "metadata": {},
   "outputs": [
    {
     "data": {
      "image/png": "[encoded data removed]",
      "text/plain": [
       "<Figure size 600x400 with 1 Axes>"
      ]
     },
     "metadata": {},
     "output_type": "display_data"
    }
   ],
   "source": [
    "# Obtener los conteos de cada combinación de categorías\n",
    "counts = df_filt_Septiembre_2023.groupby(['C_AuM', 'marca_default']).size().reset_index(name='count')\n",
    "\n",
    "# Calcular las frecuencias relativas\n",
    "counts['proportion'] = counts.groupby('C_AuM')['count'].transform(lambda x: x / x.sum())\n",
    "\n",
    "# Configurar el tamaño del gráfico\n",
    "plt.figure(figsize=(6, 4))\n",
    "\n",
    "# Crear el gráfico de barras proporcionales utilizando barplot de Seaborn\n",
    "sns.barplot(data=counts, x='C_AuM', y='proportion',palette=['darkblue', 'darkgreen'], hue='marca_default')\n",
    "\n",
    "# Personalizar el gráfico\n",
    "plt.xlabel('C_AuM')\n",
    "plt.ylabel('Proporción')\n",
    "plt.title('Gráfico de barras proporcionales C_AuM')\n",
    "\n",
    "# Mostrar el gráfico\n",
    "plt.show()"
   ]
  },
  {
   "cell_type": "code",
   "execution_count": 196,
   "id": "91b29e3d-0f99-49e7-8cbd-960c07d0bd64",
   "metadata": {},
   "outputs": [
    {
     "data": {
      "text/html": [
       "<div>\n",
       "<style scoped>\n",
       "    .dataframe tbody tr th:only-of-type {\n",
       "        vertical-align: middle;\n",
       "    }\n",
       "\n",
       "    .dataframe tbody tr th {\n",
       "        vertical-align: top;\n",
       "    }\n",
       "\n",
       "    .dataframe thead th {\n",
       "        text-align: right;\n",
       "    }\n",
       "</style>\n",
       "<table border=\"1\" class=\"dataframe\">\n",
       "  <thead>\n",
       "    <tr style=\"text-align: right;\">\n",
       "      <th></th>\n",
       "      <th>C_AuM</th>\n",
       "      <th>marca_default</th>\n",
       "      <th>count</th>\n",
       "      <th>proportion</th>\n",
       "    </tr>\n",
       "  </thead>\n",
       "  <tbody>\n",
       "    <tr>\n",
       "      <th>0</th>\n",
       "      <td>0</td>\n",
       "      <td>0</td>\n",
       "      <td>72115</td>\n",
       "      <td>0.799776</td>\n",
       "    </tr>\n",
       "    <tr>\n",
       "      <th>1</th>\n",
       "      <td>0</td>\n",
       "      <td>1</td>\n",
       "      <td>18054</td>\n",
       "      <td>0.200224</td>\n",
       "    </tr>\n",
       "    <tr>\n",
       "      <th>2</th>\n",
       "      <td>1</td>\n",
       "      <td>0</td>\n",
       "      <td>14600</td>\n",
       "      <td>0.604555</td>\n",
       "    </tr>\n",
       "    <tr>\n",
       "      <th>3</th>\n",
       "      <td>1</td>\n",
       "      <td>1</td>\n",
       "      <td>9550</td>\n",
       "      <td>0.395445</td>\n",
       "    </tr>\n",
       "  </tbody>\n",
       "</table>\n",
       "</div>"
      ],
      "text/plain": [
       "   C_AuM  marca_default  count  proportion\n",
       "0      0              0  72115    0.799776\n",
       "1      0              1  18054    0.200224\n",
       "2      1              0  14600    0.604555\n",
       "3      1              1   9550    0.395445"
      ]
     },
     "execution_count": 196,
     "metadata": {},
     "output_type": "execute_result"
    }
   ],
   "source": [
    "counts"
   ]
  },
  {
   "cell_type": "code",
   "execution_count": 204,
   "id": "a989939f-8d84-44a5-9458-885361649803",
   "metadata": {},
   "outputs": [
    {
     "name": "stderr",
     "output_type": "stream",
     "text": [
      "C:\\Users\\damartinezp\\AppData\\Roaming\\Python\\Python39\\site-packages\\pandas\\core\\arraylike.py:399: RuntimeWarning: divide by zero encountered in log\n",
      "  result = getattr(ufunc, method)(*inputs, **kwargs)\n"
     ]
    }
   ],
   "source": [
    "df_filt_Septiembre_2023['mora_1_a_log']=np.log(df_filt_Septiembre_2023['mora_1_a'])\n",
    "df_filt_Septiembre_2023['mora_2_a_log']=np.log(df_filt_Septiembre_2023['mora_2_a'])\n",
    "df_filt_Septiembre_2023['dias_sistema_log']=np.log(df_filt_Septiembre_2023['dias_sistema'])"
   ]
  },
  {
   "cell_type": "code",
   "execution_count": 205,
   "id": "5a534d4b-9345-4984-966a-cf7621e46e4d",
   "metadata": {},
   "outputs": [
    {
     "data": {
      "text/plain": [
       "<AxesSubplot:xlabel='CUPO', ylabel='Count'>"
      ]
     },
     "execution_count": 205,
     "metadata": {},
     "output_type": "execute_result"
    },
    {
     "data": {
      "image/png": "[encoded data removed]",
      "text/plain": [
       "<Figure size 1400x700 with 4 Axes>"
      ]
     },
     "metadata": {},
     "output_type": "display_data"
    }
   ],
   "source": [
    "fig, axs = plt.subplots(2, 2, figsize=(14, 7))\n",
    "\n",
    "sns.histplot(df_filt_Septiembre_2023, x='mora_1_a_log', hue='marca_default', kde=True, palette=['darkblue', 'darkgreen'], ax=axs[0, 0])\n",
    "sns.histplot(df_filt_Septiembre_2023, x='mora_2_a_log', hue='marca_default', kde=True, palette=['darkblue', 'darkgreen'], ax=axs[0, 1])\n",
    "sns.histplot(df_filt_Septiembre_2023, x='dias_sistema_log', hue='marca_default', kde=True, palette=['darkblue', 'darkgreen'], ax=axs[1, 0])\n",
    "sns.histplot(df_filt_Septiembre_2023, x='CUPO', hue='marca_default', kde=True, palette=['darkblue', 'darkgreen'], ax=axs[1, 1])"
   ]
  },
  {
   "cell_type": "code",
   "execution_count": 210,
   "id": "21883081-4632-484d-8a31-5eb0c772c57c",
   "metadata": {},
   "outputs": [
    {
     "data": {
      "text/html": [
       "<div>\n",
       "<style scoped>\n",
       "    .dataframe tbody tr th:only-of-type {\n",
       "        vertical-align: middle;\n",
       "    }\n",
       "\n",
       "    .dataframe tbody tr th {\n",
       "        vertical-align: top;\n",
       "    }\n",
       "\n",
       "    .dataframe thead th {\n",
       "        text-align: right;\n",
       "    }\n",
       "</style>\n",
       "<table border=\"1\" class=\"dataframe\">\n",
       "  <thead>\n",
       "    <tr style=\"text-align: right;\">\n",
       "      <th></th>\n",
       "      <th>count</th>\n",
       "      <th>mean</th>\n",
       "      <th>std</th>\n",
       "      <th>min</th>\n",
       "      <th>25%</th>\n",
       "      <th>50%</th>\n",
       "      <th>75%</th>\n",
       "      <th>max</th>\n",
       "    </tr>\n",
       "  </thead>\n",
       "  <tbody>\n",
       "    <tr>\n",
       "      <th>dias_sistema</th>\n",
       "      <td>114319.0</td>\n",
       "      <td>21.81</td>\n",
       "      <td>29.35</td>\n",
       "      <td>0.0</td>\n",
       "      <td>0.0</td>\n",
       "      <td>0.0</td>\n",
       "      <td>42.0</td>\n",
       "      <td>90.0</td>\n",
       "    </tr>\n",
       "    <tr>\n",
       "      <th>CUPO</th>\n",
       "      <td>114319.0</td>\n",
       "      <td>3038449.44</td>\n",
       "      <td>2003123.93</td>\n",
       "      <td>50000.0</td>\n",
       "      <td>1300000.0</td>\n",
       "      <td>2555000.0</td>\n",
       "      <td>4800000.0</td>\n",
       "      <td>6600000.0</td>\n",
       "    </tr>\n",
       "    <tr>\n",
       "      <th>mora_1_a</th>\n",
       "      <td>114319.0</td>\n",
       "      <td>17.75</td>\n",
       "      <td>27.69</td>\n",
       "      <td>0.0</td>\n",
       "      <td>0.0</td>\n",
       "      <td>0.0</td>\n",
       "      <td>28.0</td>\n",
       "      <td>120.0</td>\n",
       "    </tr>\n",
       "    <tr>\n",
       "      <th>mora_2_a</th>\n",
       "      <td>114319.0</td>\n",
       "      <td>18.43</td>\n",
       "      <td>31.89</td>\n",
       "      <td>0.0</td>\n",
       "      <td>0.0</td>\n",
       "      <td>0.0</td>\n",
       "      <td>28.0</td>\n",
       "      <td>150.0</td>\n",
       "    </tr>\n",
       "  </tbody>\n",
       "</table>\n",
       "</div>"
      ],
      "text/plain": [
       "                 count        mean         std      min        25%        50%  \\\n",
       "dias_sistema  114319.0       21.81       29.35      0.0        0.0        0.0   \n",
       "CUPO          114319.0  3038449.44  2003123.93  50000.0  1300000.0  2555000.0   \n",
       "mora_1_a      114319.0       17.75       27.69      0.0        0.0        0.0   \n",
       "mora_2_a      114319.0       18.43       31.89      0.0        0.0        0.0   \n",
       "\n",
       "                    75%        max  \n",
       "dias_sistema       42.0       90.0  \n",
       "CUPO          4800000.0  6600000.0  \n",
       "mora_1_a           28.0      120.0  \n",
       "mora_2_a           28.0      150.0  "
      ]
     },
     "execution_count": 210,
     "metadata": {},
     "output_type": "execute_result"
    }
   ],
   "source": [
    "df_filt_Septiembre_2023[cuantis].describe().T.round(2)"
   ]
  }
 ],
 "metadata": {
  "kernelspec": {
   "display_name": "Python 3 (ipykernel)",
   "language": "python",
   "name": "python3"
  },
  "language_info": {
   "codemirror_mode": {
    "name": "ipython",
    "version": 3
   },
   "file_extension": ".py",
   "mimetype": "text/x-python",
   "name": "python",
   "nbconvert_exporter": "python",
   "pygments_lexer": "ipython3",
   "version": "3.11.4"
  }
 },
 "nbformat": 4,
 "nbformat_minor": 5
}
