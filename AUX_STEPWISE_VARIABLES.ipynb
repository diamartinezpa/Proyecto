{
 "cells": [
  {
   "cell_type": "code",
   "execution_count": 1,
   "id": "7d6d2e43-a6d4-4bfe-86f8-b1b3a084efc2",
   "metadata": {},
   "outputs": [],
   "source": [
    "import warnings; \n",
    "warnings.simplefilter('ignore')\n",
    "from IPython.core.interactiveshell import InteractiveShell\n",
    "InteractiveShell.ast_node_interactivity = \"all\""
   ]
  },
  {
   "cell_type": "code",
   "execution_count": 2,
   "id": "d115559e-8e34-4e6a-8aa6-22e90e367446",
   "metadata": {},
   "outputs": [],
   "source": [
    "#import rpy2.robjects as robjects\n",
    "import json\n",
    "import pandas as pd\n",
    "import numpy as np\n",
    "import os\n",
    "\n",
    "import datetime as dt\n",
    "import seaborn as sb\n",
    "\n",
    "import scipy as sp\n",
    "import scipy.stats as stats\n",
    "\n",
    "import matplotlib as mpl\n",
    "import matplotlib.pylab as plb\n",
    "import matplotlib.pyplot as plt\n",
    "from matplotlib.pylab import rcParams\n",
    "rcParams['figure.figsize'] = 10, 10\n",
    "from pandas.plotting import register_matplotlib_converters\n",
    "import plotly.express as px\n",
    "import plotly.graph_objects as go\n",
    "import random\n",
    "\n",
    "\n",
    "from pandas.plotting import scatter_matrix\n",
    "register_matplotlib_converters()\n",
    "\n",
    "import statsmodels.api as sm\n",
    "from statsmodels.graphics.tsaplots import plot_acf\n",
    "from statsmodels.tsa.stattools import acf\n",
    "from statsmodels.tsa.arima.model import ARIMA\n",
    "from statsmodels.tsa.api import ExponentialSmoothing, SimpleExpSmoothing, Holt\n",
    "from statsmodels.tsa.seasonal import seasonal_decompose\n",
    "from statsmodels.stats.stattools import durbin_watson\n",
    "import statsmodels.formula.api as smf\n",
    "\n",
    "from sklearn.linear_model import LinearRegression\n",
    "from sklearn.metrics import mean_squared_error\n",
    "from sklearn.model_selection import train_test_split\n"
   ]
  },
  {
   "cell_type": "code",
   "execution_count": 3,
   "id": "f05148dc-4052-45a4-9451-0e8e5e27a8df",
   "metadata": {},
   "outputs": [],
   "source": [
    "def forward_selected(data, response):\n",
    "    \"\"\"Linear model designed by forward selection.\n",
    "\n",
    "    Parameters:\n",
    "    -----------\n",
    "    data : pandas DataFrame with all possible predictors and response\n",
    "\n",
    "    response: string, name of response column in data\n",
    "\n",
    "    Returns:\n",
    "    --------\n",
    "    model: an \"optimal\" fitted statsmodels linear model\n",
    "           with an intercept\n",
    "           selected by forward selection\n",
    "           evaluated by adjusted R-squared\n",
    "    \"\"\"\n",
    "    remaining = set(data.columns)\n",
    "    remaining.remove(response)\n",
    "    selected = []\n",
    "    current_score, best_new_score = 0.0, 0.0\n",
    "    while remaining and current_score == best_new_score:\n",
    "        scores_with_candidates = []\n",
    "        for candidate in remaining:\n",
    "            formula = \"{} ~ {} + 1\".format(response,\n",
    "                                           ' + '.join(selected + [candidate]))\n",
    "            score = smf.ols(formula, data).fit().rsquared_adj\n",
    "            scores_with_candidates.append((score, candidate))\n",
    "        scores_with_candidates.sort()\n",
    "        best_new_score, best_candidate = scores_with_candidates.pop()\n",
    "        if current_score < best_new_score:\n",
    "            remaining.remove(best_candidate)\n",
    "            selected.append(best_candidate)\n",
    "            current_score = best_new_score\n",
    "    formula = \"{} ~ {} + 1\".format(response,\n",
    "                                   ' + '.join(selected))\n",
    "    model = smf.ols(formula, data).fit()\n",
    "    return model\n",
    "\n",
    "def forward_regression(X, y,\n",
    "                       threshold_in,\n",
    "                       verbose=False):\n",
    "    initial_list = []\n",
    "    included = list(initial_list)\n",
    "    while True:\n",
    "        changed=False\n",
    "        excluded = list(set(X.columns)-set(included))\n",
    "        new_pval = pd.Series(index=excluded)\n",
    "        for new_column in excluded:\n",
    "            model = sm.OLS(y, sm.add_constant(pd.DataFrame(X[included+[new_column]]))).fit()\n",
    "            new_pval[new_column] = model.pvalues[new_column]\n",
    "        best_pval = new_pval.min()\n",
    "        if best_pval < threshold_in:\n",
    "            best_feature = new_pval.idxmin()\n",
    "            included.append(best_feature)\n",
    "            changed=True\n",
    "            if verbose:\n",
    "                print('Add  {:30} with p-value {:.6}'.format(best_feature, best_pval))\n",
    "\n",
    "        if not changed:\n",
    "            break\n",
    "\n",
    "    return included\n",
    "\n",
    "def backward_regression(X, y,\n",
    "                           threshold_out,\n",
    "                           verbose=False):\n",
    "    included=list(X.columns)\n",
    "    while True:\n",
    "        changed=False\n",
    "        model = sm.OLS(y, sm.add_constant(pd.DataFrame(X[included]))).fit()\n",
    "        # use all coefs except intercept\n",
    "        pvalues = model.pvalues.iloc[1:]\n",
    "        worst_pval = pvalues.max() # null if pvalues is empty\n",
    "        if worst_pval > threshold_out:\n",
    "            changed=True\n",
    "            worst_feature = pvalues.idxmax()\n",
    "            included.remove(worst_feature)\n",
    "            if verbose:\n",
    "                print('Drop {:30} with p-value {:.6}'.format(worst_feature, worst_pval))\n",
    "        if not changed:\n",
    "            break\n",
    "    return included\n",
    "\n",
    "def forward_selected(data, response):\n",
    "    \"\"\"Linear model designed by forward selection.\n",
    "\n",
    "    Parameters:\n",
    "    -----------\n",
    "    data : pandas DataFrame with all possible predictors and response\n",
    "\n",
    "    response: string, name of response column in data\n",
    "\n",
    "    Returns:\n",
    "    --------\n",
    "    model: an \"optimal\" fitted statsmodels linear model\n",
    "           with an intercept\n",
    "           selected by forward selection\n",
    "           evaluated by adjusted R-squared\n",
    "    \"\"\"\n",
    "    remaining = set(data.columns)\n",
    "    remaining.remove(response)\n",
    "    selected = []\n",
    "    current_score, best_new_score = 0.0, 0.0\n",
    "    while remaining and current_score == best_new_score:\n",
    "        scores_with_candidates = []\n",
    "        for candidate in remaining:\n",
    "            formula = \"{} ~ {} + 1\".format(response,\n",
    "                                           ' + '.join(selected + [candidate]))\n",
    "            score = smf.ols(formula, data).fit().rsquared_adj\n",
    "            scores_with_candidates.append((score, candidate))\n",
    "        scores_with_candidates.sort()\n",
    "        best_new_score, best_candidate = scores_with_candidates.pop()\n",
    "        if current_score < best_new_score:\n",
    "            remaining.remove(best_candidate)\n",
    "            selected.append(best_candidate)\n",
    "            current_score = best_new_score\n",
    "    formula = \"{} ~ {} + 1\".format(response,\n",
    "                                   ' + '.join(selected))\n",
    "    model = smf.ols(formula, data).fit()\n",
    "    return model\n",
    "\n",
    "def forward_regression(X, y,\n",
    "                       threshold_in,\n",
    "                       verbose=False):\n",
    "    initial_list = []\n",
    "    included = list(initial_list)\n",
    "    while True:\n",
    "        changed=False\n",
    "        excluded = list(set(X.columns)-set(included))\n",
    "        new_pval = pd.Series(index=excluded)\n",
    "        for new_column in excluded:\n",
    "            model = sm.OLS(y, sm.add_constant(pd.DataFrame(X[included+[new_column]]))).fit()\n",
    "            new_pval[new_column] = model.pvalues[new_column]\n",
    "        best_pval = new_pval.min()\n",
    "        if best_pval < threshold_in:\n",
    "            best_feature = new_pval.idxmin()\n",
    "            included.append(best_feature)\n",
    "            changed=True\n",
    "            if verbose:\n",
    "                print('Add  {:30} with p-value {:.6}'.format(best_feature, best_pval))\n",
    "\n",
    "        if not changed:\n",
    "            break\n",
    "\n",
    "    return included\n",
    "\n",
    "def backward_regression(X, y,\n",
    "                           threshold_out,\n",
    "                           verbose=False):\n",
    "    included=list(X.columns)\n",
    "    while True:\n",
    "        changed=False\n",
    "        model = sm.OLS(y, sm.add_constant(pd.DataFrame(X[included]))).fit()\n",
    "        # use all coefs except intercept\n",
    "        pvalues = model.pvalues.iloc[1:]\n",
    "        worst_pval = pvalues.max() # null if pvalues is empty\n",
    "        if worst_pval > threshold_out:\n",
    "            changed=True\n",
    "            worst_feature = pvalues.idxmax()\n",
    "            included.remove(worst_feature)\n",
    "            if verbose:\n",
    "                print('Drop {:30} with p-value {:.6}'.format(worst_feature, worst_pval))\n",
    "        if not changed:\n",
    "            break\n",
    "    return included"
   ]
  },
  {
   "cell_type": "code",
   "execution_count": 4,
   "id": "4730061f-e588-4f7e-b452-c4a676d2f7e0",
   "metadata": {},
   "outputs": [
    {
     "ename": "KeyboardInterrupt",
     "evalue": "",
     "output_type": "error",
     "traceback": [
      "\u001b[1;31m---------------------------------------------------------------------------\u001b[0m",
      "\u001b[1;31mKeyboardInterrupt\u001b[0m                         Traceback (most recent call last)",
      "\u001b[1;32m~\\AppData\\Local\\Temp\\ipykernel_15076\\4235193525.py\u001b[0m in \u001b[0;36m<module>\u001b[1;34m\u001b[0m\n\u001b[1;32m----> 1\u001b[1;33m \u001b[0mdf\u001b[0m \u001b[1;33m=\u001b[0m \u001b[0mpd\u001b[0m\u001b[1;33m.\u001b[0m\u001b[0mread_excel\u001b[0m\u001b[1;33m(\u001b[0m\u001b[1;34m'EXPERIMENTO.xlsx'\u001b[0m\u001b[1;33m)\u001b[0m\u001b[1;33m\u001b[0m\u001b[1;33m\u001b[0m\u001b[0m\n\u001b[0m\u001b[0;32m      2\u001b[0m \u001b[1;31m#df = pd.read_excel('DATASET_FINAL_2.xlsx')\u001b[0m\u001b[1;33m\u001b[0m\u001b[1;33m\u001b[0m\u001b[0m\n\u001b[0;32m      3\u001b[0m \u001b[0mdf\u001b[0m \u001b[1;33m=\u001b[0m \u001b[0mpd\u001b[0m\u001b[1;33m.\u001b[0m\u001b[0mread_excel\u001b[0m\u001b[1;33m(\u001b[0m\u001b[1;34m'CALIFICAR_ABRIL_JULIO.xlsx'\u001b[0m\u001b[1;33m)\u001b[0m\u001b[1;33m\u001b[0m\u001b[1;33m\u001b[0m\u001b[0m\n\u001b[0;32m      4\u001b[0m \u001b[0mdf\u001b[0m \u001b[1;33m=\u001b[0m \u001b[0mpd\u001b[0m\u001b[1;33m.\u001b[0m\u001b[0mDataFrame\u001b[0m\u001b[1;33m(\u001b[0m\u001b[0mdf\u001b[0m\u001b[1;33m)\u001b[0m\u001b[1;33m\u001b[0m\u001b[1;33m\u001b[0m\u001b[0m\n",
      "\u001b[1;32mC:\\ProgramData\\Anaconda3\\lib\\site-packages\\pandas\\util\\_decorators.py\u001b[0m in \u001b[0;36mwrapper\u001b[1;34m(*args, **kwargs)\u001b[0m\n\u001b[0;32m    309\u001b[0m                     \u001b[0mstacklevel\u001b[0m\u001b[1;33m=\u001b[0m\u001b[0mstacklevel\u001b[0m\u001b[1;33m,\u001b[0m\u001b[1;33m\u001b[0m\u001b[1;33m\u001b[0m\u001b[0m\n\u001b[0;32m    310\u001b[0m                 )\n\u001b[1;32m--> 311\u001b[1;33m             \u001b[1;32mreturn\u001b[0m \u001b[0mfunc\u001b[0m\u001b[1;33m(\u001b[0m\u001b[1;33m*\u001b[0m\u001b[0margs\u001b[0m\u001b[1;33m,\u001b[0m \u001b[1;33m**\u001b[0m\u001b[0mkwargs\u001b[0m\u001b[1;33m)\u001b[0m\u001b[1;33m\u001b[0m\u001b[1;33m\u001b[0m\u001b[0m\n\u001b[0m\u001b[0;32m    312\u001b[0m \u001b[1;33m\u001b[0m\u001b[0m\n\u001b[0;32m    313\u001b[0m         \u001b[1;32mreturn\u001b[0m \u001b[0mwrapper\u001b[0m\u001b[1;33m\u001b[0m\u001b[1;33m\u001b[0m\u001b[0m\n",
      "\u001b[1;32mC:\\ProgramData\\Anaconda3\\lib\\site-packages\\pandas\\io\\excel\\_base.py\u001b[0m in \u001b[0;36mread_excel\u001b[1;34m(io, sheet_name, header, names, index_col, usecols, squeeze, dtype, engine, converters, true_values, false_values, skiprows, nrows, na_values, keep_default_na, na_filter, verbose, parse_dates, date_parser, thousands, decimal, comment, skipfooter, convert_float, mangle_dupe_cols, storage_options)\u001b[0m\n\u001b[0;32m    463\u001b[0m \u001b[1;33m\u001b[0m\u001b[0m\n\u001b[0;32m    464\u001b[0m     \u001b[1;32mtry\u001b[0m\u001b[1;33m:\u001b[0m\u001b[1;33m\u001b[0m\u001b[1;33m\u001b[0m\u001b[0m\n\u001b[1;32m--> 465\u001b[1;33m         data = io.parse(\n\u001b[0m\u001b[0;32m    466\u001b[0m             \u001b[0msheet_name\u001b[0m\u001b[1;33m=\u001b[0m\u001b[0msheet_name\u001b[0m\u001b[1;33m,\u001b[0m\u001b[1;33m\u001b[0m\u001b[1;33m\u001b[0m\u001b[0m\n\u001b[0;32m    467\u001b[0m             \u001b[0mheader\u001b[0m\u001b[1;33m=\u001b[0m\u001b[0mheader\u001b[0m\u001b[1;33m,\u001b[0m\u001b[1;33m\u001b[0m\u001b[1;33m\u001b[0m\u001b[0m\n",
      "\u001b[1;32mC:\\ProgramData\\Anaconda3\\lib\\site-packages\\pandas\\io\\excel\\_base.py\u001b[0m in \u001b[0;36mparse\u001b[1;34m(self, sheet_name, header, names, index_col, usecols, squeeze, converters, true_values, false_values, skiprows, nrows, na_values, parse_dates, date_parser, thousands, comment, skipfooter, convert_float, mangle_dupe_cols, **kwds)\u001b[0m\n\u001b[0;32m   1456\u001b[0m             \u001b[0mDataFrame\u001b[0m \u001b[1;32mfrom\u001b[0m \u001b[0mthe\u001b[0m \u001b[0mpassed\u001b[0m \u001b[1;32min\u001b[0m \u001b[0mExcel\u001b[0m \u001b[0mfile\u001b[0m\u001b[1;33m.\u001b[0m\u001b[1;33m\u001b[0m\u001b[1;33m\u001b[0m\u001b[0m\n\u001b[0;32m   1457\u001b[0m         \"\"\"\n\u001b[1;32m-> 1458\u001b[1;33m         return self._reader.parse(\n\u001b[0m\u001b[0;32m   1459\u001b[0m             \u001b[0msheet_name\u001b[0m\u001b[1;33m=\u001b[0m\u001b[0msheet_name\u001b[0m\u001b[1;33m,\u001b[0m\u001b[1;33m\u001b[0m\u001b[1;33m\u001b[0m\u001b[0m\n\u001b[0;32m   1460\u001b[0m             \u001b[0mheader\u001b[0m\u001b[1;33m=\u001b[0m\u001b[0mheader\u001b[0m\u001b[1;33m,\u001b[0m\u001b[1;33m\u001b[0m\u001b[1;33m\u001b[0m\u001b[0m\n",
      "\u001b[1;32mC:\\ProgramData\\Anaconda3\\lib\\site-packages\\pandas\\io\\excel\\_base.py\u001b[0m in \u001b[0;36mparse\u001b[1;34m(self, sheet_name, header, names, index_col, usecols, squeeze, dtype, true_values, false_values, skiprows, nrows, na_values, verbose, parse_dates, date_parser, thousands, decimal, comment, skipfooter, convert_float, mangle_dupe_cols, **kwds)\u001b[0m\n\u001b[0;32m    636\u001b[0m                 \u001b[0msheet\u001b[0m \u001b[1;33m=\u001b[0m \u001b[0mself\u001b[0m\u001b[1;33m.\u001b[0m\u001b[0mget_sheet_by_index\u001b[0m\u001b[1;33m(\u001b[0m\u001b[0masheetname\u001b[0m\u001b[1;33m)\u001b[0m\u001b[1;33m\u001b[0m\u001b[1;33m\u001b[0m\u001b[0m\n\u001b[0;32m    637\u001b[0m \u001b[1;33m\u001b[0m\u001b[0m\n\u001b[1;32m--> 638\u001b[1;33m             \u001b[0mdata\u001b[0m \u001b[1;33m=\u001b[0m \u001b[0mself\u001b[0m\u001b[1;33m.\u001b[0m\u001b[0mget_sheet_data\u001b[0m\u001b[1;33m(\u001b[0m\u001b[0msheet\u001b[0m\u001b[1;33m,\u001b[0m \u001b[0mconvert_float\u001b[0m\u001b[1;33m)\u001b[0m\u001b[1;33m\u001b[0m\u001b[1;33m\u001b[0m\u001b[0m\n\u001b[0m\u001b[0;32m    639\u001b[0m             \u001b[1;32mif\u001b[0m \u001b[0mhasattr\u001b[0m\u001b[1;33m(\u001b[0m\u001b[0msheet\u001b[0m\u001b[1;33m,\u001b[0m \u001b[1;34m\"close\"\u001b[0m\u001b[1;33m)\u001b[0m\u001b[1;33m:\u001b[0m\u001b[1;33m\u001b[0m\u001b[1;33m\u001b[0m\u001b[0m\n\u001b[0;32m    640\u001b[0m                 \u001b[1;31m# pyxlsb opens two TemporaryFiles\u001b[0m\u001b[1;33m\u001b[0m\u001b[1;33m\u001b[0m\u001b[0m\n",
      "\u001b[1;32mC:\\ProgramData\\Anaconda3\\lib\\site-packages\\pandas\\io\\excel\\_openpyxl.py\u001b[0m in \u001b[0;36mget_sheet_data\u001b[1;34m(self, sheet, convert_float)\u001b[0m\n\u001b[0;32m    579\u001b[0m         \u001b[0mdata\u001b[0m\u001b[1;33m:\u001b[0m \u001b[0mlist\u001b[0m\u001b[1;33m[\u001b[0m\u001b[0mlist\u001b[0m\u001b[1;33m[\u001b[0m\u001b[0mScalar\u001b[0m\u001b[1;33m]\u001b[0m\u001b[1;33m]\u001b[0m \u001b[1;33m=\u001b[0m \u001b[1;33m[\u001b[0m\u001b[1;33m]\u001b[0m\u001b[1;33m\u001b[0m\u001b[1;33m\u001b[0m\u001b[0m\n\u001b[0;32m    580\u001b[0m         \u001b[0mlast_row_with_data\u001b[0m \u001b[1;33m=\u001b[0m \u001b[1;33m-\u001b[0m\u001b[1;36m1\u001b[0m\u001b[1;33m\u001b[0m\u001b[1;33m\u001b[0m\u001b[0m\n\u001b[1;32m--> 581\u001b[1;33m         \u001b[1;32mfor\u001b[0m \u001b[0mrow_number\u001b[0m\u001b[1;33m,\u001b[0m \u001b[0mrow\u001b[0m \u001b[1;32min\u001b[0m \u001b[0menumerate\u001b[0m\u001b[1;33m(\u001b[0m\u001b[0msheet\u001b[0m\u001b[1;33m.\u001b[0m\u001b[0mrows\u001b[0m\u001b[1;33m)\u001b[0m\u001b[1;33m:\u001b[0m\u001b[1;33m\u001b[0m\u001b[1;33m\u001b[0m\u001b[0m\n\u001b[0m\u001b[0;32m    582\u001b[0m             \u001b[0mconverted_row\u001b[0m \u001b[1;33m=\u001b[0m \u001b[1;33m[\u001b[0m\u001b[0mself\u001b[0m\u001b[1;33m.\u001b[0m\u001b[0m_convert_cell\u001b[0m\u001b[1;33m(\u001b[0m\u001b[0mcell\u001b[0m\u001b[1;33m,\u001b[0m \u001b[0mconvert_float\u001b[0m\u001b[1;33m)\u001b[0m \u001b[1;32mfor\u001b[0m \u001b[0mcell\u001b[0m \u001b[1;32min\u001b[0m \u001b[0mrow\u001b[0m\u001b[1;33m]\u001b[0m\u001b[1;33m\u001b[0m\u001b[1;33m\u001b[0m\u001b[0m\n\u001b[0;32m    583\u001b[0m             \u001b[1;32mwhile\u001b[0m \u001b[0mconverted_row\u001b[0m \u001b[1;32mand\u001b[0m \u001b[0mconverted_row\u001b[0m\u001b[1;33m[\u001b[0m\u001b[1;33m-\u001b[0m\u001b[1;36m1\u001b[0m\u001b[1;33m]\u001b[0m \u001b[1;33m==\u001b[0m \u001b[1;34m\"\"\u001b[0m\u001b[1;33m:\u001b[0m\u001b[1;33m\u001b[0m\u001b[1;33m\u001b[0m\u001b[0m\n",
      "\u001b[1;32mC:\\ProgramData\\Anaconda3\\lib\\site-packages\\openpyxl\\worksheet\\_read_only.py\u001b[0m in \u001b[0;36m_cells_by_row\u001b[1;34m(self, min_col, min_row, max_col, max_row, values_only)\u001b[0m\n\u001b[0;32m     77\u001b[0m                                  \u001b[0mdata_only\u001b[0m\u001b[1;33m=\u001b[0m\u001b[0mself\u001b[0m\u001b[1;33m.\u001b[0m\u001b[0mparent\u001b[0m\u001b[1;33m.\u001b[0m\u001b[0mdata_only\u001b[0m\u001b[1;33m,\u001b[0m \u001b[0mepoch\u001b[0m\u001b[1;33m=\u001b[0m\u001b[0mself\u001b[0m\u001b[1;33m.\u001b[0m\u001b[0mparent\u001b[0m\u001b[1;33m.\u001b[0m\u001b[0mepoch\u001b[0m\u001b[1;33m,\u001b[0m\u001b[1;33m\u001b[0m\u001b[1;33m\u001b[0m\u001b[0m\n\u001b[0;32m     78\u001b[0m                                  date_formats=self.parent._date_formats)\n\u001b[1;32m---> 79\u001b[1;33m         \u001b[1;32mfor\u001b[0m \u001b[0midx\u001b[0m\u001b[1;33m,\u001b[0m \u001b[0mrow\u001b[0m \u001b[1;32min\u001b[0m \u001b[0mparser\u001b[0m\u001b[1;33m.\u001b[0m\u001b[0mparse\u001b[0m\u001b[1;33m(\u001b[0m\u001b[1;33m)\u001b[0m\u001b[1;33m:\u001b[0m\u001b[1;33m\u001b[0m\u001b[1;33m\u001b[0m\u001b[0m\n\u001b[0m\u001b[0;32m     80\u001b[0m             \u001b[1;32mif\u001b[0m \u001b[0mmax_row\u001b[0m \u001b[1;32mis\u001b[0m \u001b[1;32mnot\u001b[0m \u001b[1;32mNone\u001b[0m \u001b[1;32mand\u001b[0m \u001b[0midx\u001b[0m \u001b[1;33m>\u001b[0m \u001b[0mmax_row\u001b[0m\u001b[1;33m:\u001b[0m\u001b[1;33m\u001b[0m\u001b[1;33m\u001b[0m\u001b[0m\n\u001b[0;32m     81\u001b[0m                 \u001b[1;32mbreak\u001b[0m\u001b[1;33m\u001b[0m\u001b[1;33m\u001b[0m\u001b[0m\n",
      "\u001b[1;32mC:\\ProgramData\\Anaconda3\\lib\\site-packages\\openpyxl\\worksheet\\_reader.cp39-win_amd64.pyd\u001b[0m in \u001b[0;36mparse\u001b[1;34m()\u001b[0m\n",
      "\u001b[1;32mC:\\ProgramData\\Anaconda3\\lib\\xml\\etree\\ElementTree.py\u001b[0m in \u001b[0;36miterator\u001b[1;34m(source)\u001b[0m\n\u001b[0;32m   1258\u001b[0m                 \u001b[1;32mif\u001b[0m \u001b[1;32mnot\u001b[0m \u001b[0mdata\u001b[0m\u001b[1;33m:\u001b[0m\u001b[1;33m\u001b[0m\u001b[1;33m\u001b[0m\u001b[0m\n\u001b[0;32m   1259\u001b[0m                     \u001b[1;32mbreak\u001b[0m\u001b[1;33m\u001b[0m\u001b[1;33m\u001b[0m\u001b[0m\n\u001b[1;32m-> 1260\u001b[1;33m                 \u001b[0mpullparser\u001b[0m\u001b[1;33m.\u001b[0m\u001b[0mfeed\u001b[0m\u001b[1;33m(\u001b[0m\u001b[0mdata\u001b[0m\u001b[1;33m)\u001b[0m\u001b[1;33m\u001b[0m\u001b[1;33m\u001b[0m\u001b[0m\n\u001b[0m\u001b[0;32m   1261\u001b[0m             \u001b[0mroot\u001b[0m \u001b[1;33m=\u001b[0m \u001b[0mpullparser\u001b[0m\u001b[1;33m.\u001b[0m\u001b[0m_close_and_return_root\u001b[0m\u001b[1;33m(\u001b[0m\u001b[1;33m)\u001b[0m\u001b[1;33m\u001b[0m\u001b[1;33m\u001b[0m\u001b[0m\n\u001b[0;32m   1262\u001b[0m             \u001b[1;32myield\u001b[0m \u001b[1;32mfrom\u001b[0m \u001b[0mpullparser\u001b[0m\u001b[1;33m.\u001b[0m\u001b[0mread_events\u001b[0m\u001b[1;33m(\u001b[0m\u001b[1;33m)\u001b[0m\u001b[1;33m\u001b[0m\u001b[1;33m\u001b[0m\u001b[0m\n",
      "\u001b[1;32mC:\\ProgramData\\Anaconda3\\lib\\xml\\etree\\ElementTree.py\u001b[0m in \u001b[0;36mfeed\u001b[1;34m(self, data)\u001b[0m\n\u001b[0;32m   1296\u001b[0m         \u001b[1;32mif\u001b[0m \u001b[0mdata\u001b[0m\u001b[1;33m:\u001b[0m\u001b[1;33m\u001b[0m\u001b[1;33m\u001b[0m\u001b[0m\n\u001b[0;32m   1297\u001b[0m             \u001b[1;32mtry\u001b[0m\u001b[1;33m:\u001b[0m\u001b[1;33m\u001b[0m\u001b[1;33m\u001b[0m\u001b[0m\n\u001b[1;32m-> 1298\u001b[1;33m                 \u001b[0mself\u001b[0m\u001b[1;33m.\u001b[0m\u001b[0m_parser\u001b[0m\u001b[1;33m.\u001b[0m\u001b[0mfeed\u001b[0m\u001b[1;33m(\u001b[0m\u001b[0mdata\u001b[0m\u001b[1;33m)\u001b[0m\u001b[1;33m\u001b[0m\u001b[1;33m\u001b[0m\u001b[0m\n\u001b[0m\u001b[0;32m   1299\u001b[0m             \u001b[1;32mexcept\u001b[0m \u001b[0mSyntaxError\u001b[0m \u001b[1;32mas\u001b[0m \u001b[0mexc\u001b[0m\u001b[1;33m:\u001b[0m\u001b[1;33m\u001b[0m\u001b[1;33m\u001b[0m\u001b[0m\n\u001b[0;32m   1300\u001b[0m                 \u001b[0mself\u001b[0m\u001b[1;33m.\u001b[0m\u001b[0m_events_queue\u001b[0m\u001b[1;33m.\u001b[0m\u001b[0mappend\u001b[0m\u001b[1;33m(\u001b[0m\u001b[0mexc\u001b[0m\u001b[1;33m)\u001b[0m\u001b[1;33m\u001b[0m\u001b[1;33m\u001b[0m\u001b[0m\n",
      "\u001b[1;32mC:\\ProgramData\\Anaconda3\\lib\\xml\\etree\\ElementTree.py\u001b[0m in \u001b[0;36mfeed\u001b[1;34m(self, data)\u001b[0m\n\u001b[0;32m   1715\u001b[0m         \u001b[1;34m\"\"\"Feed encoded data to parser.\"\"\"\u001b[0m\u001b[1;33m\u001b[0m\u001b[1;33m\u001b[0m\u001b[0m\n\u001b[0;32m   1716\u001b[0m         \u001b[1;32mtry\u001b[0m\u001b[1;33m:\u001b[0m\u001b[1;33m\u001b[0m\u001b[1;33m\u001b[0m\u001b[0m\n\u001b[1;32m-> 1717\u001b[1;33m             \u001b[0mself\u001b[0m\u001b[1;33m.\u001b[0m\u001b[0mparser\u001b[0m\u001b[1;33m.\u001b[0m\u001b[0mParse\u001b[0m\u001b[1;33m(\u001b[0m\u001b[0mdata\u001b[0m\u001b[1;33m,\u001b[0m \u001b[1;32mFalse\u001b[0m\u001b[1;33m)\u001b[0m\u001b[1;33m\u001b[0m\u001b[1;33m\u001b[0m\u001b[0m\n\u001b[0m\u001b[0;32m   1718\u001b[0m         \u001b[1;32mexcept\u001b[0m \u001b[0mself\u001b[0m\u001b[1;33m.\u001b[0m\u001b[0m_error\u001b[0m \u001b[1;32mas\u001b[0m \u001b[0mv\u001b[0m\u001b[1;33m:\u001b[0m\u001b[1;33m\u001b[0m\u001b[1;33m\u001b[0m\u001b[0m\n\u001b[0;32m   1719\u001b[0m             \u001b[0mself\u001b[0m\u001b[1;33m.\u001b[0m\u001b[0m_raiseerror\u001b[0m\u001b[1;33m(\u001b[0m\u001b[0mv\u001b[0m\u001b[1;33m)\u001b[0m\u001b[1;33m\u001b[0m\u001b[1;33m\u001b[0m\u001b[0m\n",
      "\u001b[1;32mc:\\users\\builder-admin\\appdata\\local\\temp\\abs_da_fnqccyg\\croots\\recipe\\python-split_1661469486984\\work\\modules\\pyexpat.c\u001b[0m in \u001b[0;36mEndElement\u001b[1;34m()\u001b[0m\n",
      "\u001b[1;32mC:\\ProgramData\\Anaconda3\\lib\\xml\\etree\\ElementTree.py\u001b[0m in \u001b[0;36mhandler\u001b[1;34m(tag, event, append, end)\u001b[0m\n\u001b[0;32m   1584\u001b[0m                 \u001b[0mparser\u001b[0m\u001b[1;33m.\u001b[0m\u001b[0mStartElementHandler\u001b[0m \u001b[1;33m=\u001b[0m \u001b[0mhandler\u001b[0m\u001b[1;33m\u001b[0m\u001b[1;33m\u001b[0m\u001b[0m\n\u001b[0;32m   1585\u001b[0m             \u001b[1;32melif\u001b[0m \u001b[0mevent_name\u001b[0m \u001b[1;33m==\u001b[0m \u001b[1;34m\"end\"\u001b[0m\u001b[1;33m:\u001b[0m\u001b[1;33m\u001b[0m\u001b[1;33m\u001b[0m\u001b[0m\n\u001b[1;32m-> 1586\u001b[1;33m                 def handler(tag, event=event_name, append=append,\n\u001b[0m\u001b[0;32m   1587\u001b[0m                             end=self._end):\n\u001b[0;32m   1588\u001b[0m                     \u001b[0mappend\u001b[0m\u001b[1;33m(\u001b[0m\u001b[1;33m(\u001b[0m\u001b[0mevent\u001b[0m\u001b[1;33m,\u001b[0m \u001b[0mend\u001b[0m\u001b[1;33m(\u001b[0m\u001b[0mtag\u001b[0m\u001b[1;33m)\u001b[0m\u001b[1;33m)\u001b[0m\u001b[1;33m)\u001b[0m\u001b[1;33m\u001b[0m\u001b[1;33m\u001b[0m\u001b[0m\n",
      "\u001b[1;31mKeyboardInterrupt\u001b[0m: "
     ]
    }
   ],
   "source": [
    "df = pd.read_excel('EXPERIMENTO.xlsx')\n",
    "#df = pd.read_excel('DATASET_FINAL_2.xlsx')\n",
    "#df2 = pd.read_excel('CALIFICAR_ABRIL_JULIO.xlsx')\n",
    "df = pd.DataFrame(df)"
   ]
  },
  {
   "cell_type": "code",
   "execution_count": 105,
   "id": "4fd10d1c-d65c-4fe2-bef5-ae5a0783d93a",
   "metadata": {},
   "outputs": [],
   "source": [
    "# Obtener los nombres de las columnas como una lista\n",
    "nombres_columnas = list(df.columns)"
   ]
  },
  {
   "cell_type": "code",
   "execution_count": 106,
   "id": "e207ce2c-6790-4bd7-92ec-d1ee1f3b78eb",
   "metadata": {},
   "outputs": [
    {
     "data": {
      "text/plain": [
       "['TIPO_VINCULACION_1',\n",
       " 'NUMERO_HIJOS_1_TIPO_VINCULACION_1',\n",
       " 'EDAD_3_TIPO_VINCULACION_1',\n",
       " 'TIPO_VIVIENDA_1_TIPO_VINCULACION_1',\n",
       " 'ANTIGUEDAD_NEGOCIO_1_TIPO_VINCULACION_1',\n",
       " 'TIPO_VIVIENDA_1',\n",
       " 'SCORE_3_TIPO_VINCULACION_1',\n",
       " 'TIPO_VIVIENDA_1_EDAD_3',\n",
       " 'SCORE_1_ACTIVOS_TOTAL_1',\n",
       " 'SCORE_1',\n",
       " 'VENTAS_2_TIPO_VINCULACION_1',\n",
       " 'ACTIVOS_TOTAL_1',\n",
       " 'RAZON_PASIVOS_ACTIVOS_2_TIPO_VINCULACION_1',\n",
       " 'CIUDAD_1_ACTIVOS_TOTAL_1',\n",
       " 'SCORE_1_TOTAL_PASIVOS_1',\n",
       " 'ACTIVOS_TOTAL_2_TIPO_VINCULACION_1',\n",
       " 'TOTAL_PASIVOS_1_ACTIVOS_TOTAL_1',\n",
       " 'ESTADO_CIVIL_1_ACTIVOS_TOTAL_1',\n",
       " 'SCORE_4',\n",
       " 'VENTAS_2_ACTIVOS_TOTAL_1',\n",
       " 'ANTIGUEDAD_NEGOCIO_1',\n",
       " 'ACTIVOS_TOTAL_3',\n",
       " 'ACTIVOS_TOTAL_1_TIPO_VIVIENDA_3',\n",
       " 'ANTIGUEDAD_NEGOCIO_1_EDAD_3',\n",
       " 'SCORE_4_EDAD_3',\n",
       " 'TIPO_VIVIENDA_1_RAZON_PASIVOS_ACTIVOS_2',\n",
       " 'NUMERO_HIJOS_1_EDAD_3',\n",
       " 'SCORE_3',\n",
       " 'SCORE_3_EDAD_3',\n",
       " 'CIUDAD_1_TIPO_VINCULACION_1',\n",
       " 'ESTADO_CIVIL_3_TIPO_VINCULACION_1',\n",
       " 'SCORE_4_TIPO_VINCULACION_1',\n",
       " 'TIPO_VIVIENDA_3',\n",
       " 'EDAD_3',\n",
       " 'SCORE_1_TIPO_VIVIENDA_3',\n",
       " 'TOTAL_PASIVOS_2_TIPO_VINCULACION_1',\n",
       " 'ACTIVOS_TOTAL_1_GENERO_1',\n",
       " 'VENTAS_2_TIPO_VIVIENDA_3',\n",
       " 'ACTIVOS_TOTAL_3_EDAD_3',\n",
       " 'SCORE_1_GENERO_1',\n",
       " 'ESTADO_CIVIL_1_TOTAL_PASIVOS_1',\n",
       " 'TOTAL_PASIVOS_1_TIPO_VIVIENDA_3',\n",
       " 'TOTAL_PASIVOS_1_TIPO_VINCULACION_1',\n",
       " 'ESTADO_CIVIL_1_TIPO_VIVIENDA_3',\n",
       " 'TIPO_VIVIENDA_1_ESTADO_CIVIL_3',\n",
       " 'CIUDAD_1_TOTAL_PASIVOS_1',\n",
       " 'CIIU_2_ACTIVOS_TOTAL_1',\n",
       " 'ANTIGUEDAD_NEGOCIO_1_RAZON_PASIVOS_ACTIVOS_2',\n",
       " 'ESTADO_CIVIL_1_TIPO_VINCULACION_1',\n",
       " 'ACTIVOS_TOTAL_3_TIPO_VINCULACION_1',\n",
       " 'ANTIGUEDAD_NEGOCIO_1_ESTADO_CIVIL_3',\n",
       " 'ACTIVOS_TOTAL_3_RAZON_PASIVOS_ACTIVOS_2',\n",
       " 'SCORE_4_RAZON_PASIVOS_ACTIVOS_2',\n",
       " 'EDAD_2_ACTIVOS_TOTAL_1',\n",
       " 'ESTADO_CIVIL_3',\n",
       " 'RAZON_PASIVOS_ACTIVOS_2_EDAD_3',\n",
       " 'EDAD_3_ESTADO_CIVIL_3',\n",
       " 'NUMERO_HIJOS_1_ESTADO_CIVIL_3',\n",
       " 'NUMERO_HIJOS_1',\n",
       " 'CIUDAD_1_TIPO_VIVIENDA_3',\n",
       " 'ACTIVOS_TOTAL_2_EDAD_3',\n",
       " 'GENERO_1_TIPO_VINCULACION_1',\n",
       " 'VENTAS_2_TOTAL_PASIVOS_1',\n",
       " 'CIIU_2_TOTAL_PASIVOS_1',\n",
       " 'TOTAL_PASIVOS_1',\n",
       " 'CIIU_2_TIPO_VINCULACION_1',\n",
       " 'EDAD_1_ACTIVOS_TOTAL_1',\n",
       " 'TIPO_VIVIENDA_3_GENERO_1',\n",
       " 'EDAD_1',\n",
       " 'ESTADO_CIVIL_1_GENERO_1',\n",
       " 'EDAD_2_TIPO_VIVIENDA_3',\n",
       " 'SCORE_2_ACTIVOS_TOTAL_1',\n",
       " 'SCORE_3_RAZON_PASIVOS_ACTIVOS_2',\n",
       " 'ACTIVOS_TOTAL_3_GENERO_1',\n",
       " 'TOTAL_PASIVOS_2_EDAD_3',\n",
       " 'ESTADO_CIVIL_1',\n",
       " 'CIIU_2_TIPO_VIVIENDA_3',\n",
       " 'SCORE_3_ESTADO_CIVIL_3',\n",
       " 'SCORE_2_TIPO_VIVIENDA_3',\n",
       " 'CIUDAD_3_TIPO_VINCULACION_1',\n",
       " 'TOTAL_PASIVOS_3_TIPO_VINCULACION_1',\n",
       " 'CIUDAD_3_EDAD_3',\n",
       " 'TOTAL_PASIVOS_1_GENERO_1',\n",
       " 'EDAD_1_TOTAL_PASIVOS_1',\n",
       " 'NUMERO_HIJOS_1_RAZON_PASIVOS_ACTIVOS_2',\n",
       " 'SCORE_4_ESTADO_CIVIL_3',\n",
       " 'ACTIVOS_TOTAL_1_TIPO_VINCULACION_1',\n",
       " 'CIIU_6',\n",
       " 'ACTIVOS_TOTAL_2_ESTADO_CIVIL_3',\n",
       " 'TOTAL_PASIVOS_3',\n",
       " 'RAZON_PASIVOS_ACTIVOS_2_ESTADO_CIVIL_3',\n",
       " 'CIIU_6_EDAD_3',\n",
       " 'ACTIVOS_TOTAL_2',\n",
       " 'EDAD_2_TOTAL_PASIVOS_1',\n",
       " 'TOTAL_PASIVOS_3_EDAD_3',\n",
       " 'TOTAL_PASIVOS_2_RAZON_PASIVOS_ACTIVOS_2',\n",
       " 'VENTAS_2_ESTADO_CIVIL_3',\n",
       " 'TIPO_VIVIENDA_1_GENERO_1',\n",
       " 'EDAD_2_TIPO_VINCULACION_1',\n",
       " 'SCORE_2_TOTAL_PASIVOS_1',\n",
       " 'EDAD_2',\n",
       " 'CIIU_2_GENERO_1',\n",
       " 'SCORE_1_RAZON_PASIVOS_ACTIVOS_2',\n",
       " 'SCORE_2',\n",
       " 'SCORE_2_GENERO_1',\n",
       " 'TOTAL_PASIVOS_3_RAZON_PASIVOS_ACTIVOS_2',\n",
       " 'TOTAL_PASIVOS_2_ESTADO_CIVIL_3',\n",
       " 'SCORE_4_TOTAL_PASIVOS_1',\n",
       " 'ACTIVOS_TOTAL_3_ESTADO_CIVIL_3',\n",
       " 'SCORE_4_GENERO_1',\n",
       " 'CIIU_6_TIPO_VINCULACION_1',\n",
       " 'VENTAS_2_GENERO_1',\n",
       " 'CIUDAD_3_ESTADO_CIVIL_3',\n",
       " 'EVENTO']"
      ]
     },
     "execution_count": 106,
     "metadata": {},
     "output_type": "execute_result"
    }
   ],
   "source": [
    "nombres_columnas"
   ]
  },
  {
   "cell_type": "code",
   "execution_count": 107,
   "id": "ee13cd7a-52e6-4658-a9d8-863a4f99a5b9",
   "metadata": {},
   "outputs": [],
   "source": [
    "variables=[\"EVENTO\",\"CIUDAD_3_EDAD_3\",\n",
    "\"SCORE_3\",\n",
    "\"SCORE_4\",\n",
    "\"EDAD_3_TIPO_VINCULACION_1\",\n",
    "\"SCORE_1\",\n",
    "\"TOTAL_PASIVOS_1_ACTIVOS_TOTAL_1\",\n",
    "\"ANTIGUEDAD_NEGOCIO_1\",\n",
    "\"ACTIVOS_TOTAL_3\",\n",
    "\"NUMERO_HIJOS_1_EDAD_3\",\n",
    "\"ESTADO_CIVIL_1_TIPO_VINCULACION_1\",\n",
    "\"CIUDAD_1_TIPO_VIVIENDA_3\",\n",
    "\"TOTAL_PASIVOS_2_RAZON_PASIVOS_ACTIVOS_2\",\n",
    "\"EDAD_2_TIPO_VINCULACION_1\",\n",
    "\"CIUDAD_1_ACTIVOS_TOTAL_1\",\n",
    "\"TIPO_VIVIENDA_3\",\n",
    "\"ACTIVOS_TOTAL_3_EDAD_3\",\n",
    "\"CIUDAD_1_TOTAL_PASIVOS_1\",\n",
    "\"CIIU_2_TOTAL_PASIVOS_1\",\n",
    "\"ACTIVOS_TOTAL_3_GENERO_1\",\n",
    "\"ESTADO_CIVIL_1\",\n",
    "\"ANTIGUEDAD_NEGOCIO_1_TIPO_VINCULACION_1\",\n",
    "\"TIPO_VIVIENDA_1\",\n",
    "\"NUMERO_HIJOS_1\",\n",
    "\"ACTIVOS_TOTAL_2_EDAD_3\",\n",
    "\"TOTAL_PASIVOS_1\",\n",
    "\"CIUDAD_3_TIPO_VINCULACION_1\",\n",
    "\"NUMERO_HIJOS_1_RAZON_PASIVOS_ACTIVOS_2\",\n",
    "\"CIIU_2_GENERO_1\"]\n"
   ]
  },
  {
   "cell_type": "code",
   "execution_count": 102,
   "id": "2392c465-a240-4662-9e84-b968ec272c3a",
   "metadata": {},
   "outputs": [],
   "source": [
    "continuas=['VENTAS','SCORE','RAZON_PASIVOS_ACTIVOS', 'EDAD', 'ANTIGUEDAD_NEGOCIO', 'TOTAL_PASIVOS', 'ACTIVOS_TOTAL']\n",
    "\n",
    "categoricas=['EVENTO',\"TIPO_VINCULACION_1\",\n",
    "\"TIPO_VIVIENDA_1\", \"EDAD_2\", \"SCORE_2\", \"CIIU_2\", \"SCORE_3\", \"SCORE_4\",\"ANTIGUEDAD_NEGOCIO_1\",\"SCORE_1\", \n",
    "\"CIIU_6\",\"ACTIVOS_TOTAL_1\",\"GENERO_1\",'ESTADO_CIVIL_3','EDAD_3','TOTAL_PASIVOS_3', 'RAZON_PASIVOS_ACTIVOS_2']\n",
    "\n",
    "categoricas_2=[\"EVENTO\", \n",
    "'TIPO_DE_VIVIENDA', 'TIPO_VINCULACION', 'CIUDAD',\n",
    "'CIIU', 'GENERO', 'ESTADO_CIVIL','TIPO_VINCULACION_1',\n",
    " 'TIPO_VIVIENDA_1',\n",
    " 'SCORE_1',\n",
    " 'ACTIVOS_TOTAL_1',\n",
    " 'SCORE_4',\n",
    " 'ANTIGUEDAD_NEGOCIO_1',\n",
    " 'ACTIVOS_TOTAL_3',\n",
    " 'SCORE_3',\n",
    " 'EDAD_3',\n",
    " 'TIPO_VIVIENDA_3',\n",
    " 'ESTADO_CIVIL_3',\n",
    " 'NUMERO_HIJOS_1',\n",
    " 'EDAD_1',\n",
    " 'TOTAL_PASIVOS_1',\n",
    " 'ESTADO_CIVIL_1',\n",
    " 'ACTIVOS_TOTAL_2',\n",
    " 'CIIU_6',\n",
    " 'TOTAL_PASIVOS_3',\n",
    " 'SCORE_2',\n",
    " 'EDAD_2',\n",
    " 'CIIU_2',\n",
    " 'CIUDAD_1',\n",
    " 'CIUDAD_3',\n",
    " 'GENERO_1',\n",
    " 'VENTAS_2',\n",
    " 'TOTAL_PASIVOS_2',\n",
    " 'RAZON_PASIVOS_ACTIVOS_2',\n",
    "\"ANTIGUEDAD_NEGOCIO_1\", \n",
    "\"SCORE_1\",\"CIIU_6\", \n",
    "\"EDAD_3:TOTAL_PASIVOS_1\",\n",
    "\"TIPO_VINCULACION_1:CIUDAD_3\", \n",
    "\"ACTIVOS_TOTAL_1:CIUDAD_3\",\n",
    "\"ACTIVOS_TOTAL_1:VENTAS_2\", \n",
    "\"TIPO_VINCULACION_1:TOTAL_PASIVOS_1\",\n",
    "\"ACTIVOS_TOTAL_1:TIPO_VIVIENDA_3\", \n",
    "\"TIPO_VIVIENDA_1:SCORE_3\",\n",
    "\"ESTADO_CIVIL_3:TOTAL_PASIVOS_1\", \n",
    "\"GENERO_1:EDAD_3\",\n",
    "\"TIPO_VIVIENDA_1:CIUDAD_3\", \n",
    "\"RAZON_PASIVOS_ACTIVOS_1:EDAD_1\", \n",
    "\"ESTADO_CIVIL_3:TOTAL_PASIVOS_2\"]\n",
    "\n",
    "\n",
    "variables=categoricas\n",
    "variables2=categoricas_2+continuas\n"
   ]
  },
  {
   "cell_type": "code",
   "execution_count": 108,
   "id": "c6808bcc-e74a-4e43-9159-dcd153fc6125",
   "metadata": {},
   "outputs": [
    {
     "data": {
      "text/plain": [
       "['EVENTO',\n",
       " 'CIUDAD_3_EDAD_3',\n",
       " 'SCORE_3',\n",
       " 'SCORE_4',\n",
       " 'EDAD_3_TIPO_VINCULACION_1',\n",
       " 'SCORE_1',\n",
       " 'TOTAL_PASIVOS_1_ACTIVOS_TOTAL_1',\n",
       " 'ANTIGUEDAD_NEGOCIO_1',\n",
       " 'ACTIVOS_TOTAL_3',\n",
       " 'NUMERO_HIJOS_1_EDAD_3',\n",
       " 'ESTADO_CIVIL_1_TIPO_VINCULACION_1',\n",
       " 'CIUDAD_1_TIPO_VIVIENDA_3',\n",
       " 'TOTAL_PASIVOS_2_RAZON_PASIVOS_ACTIVOS_2',\n",
       " 'EDAD_2_TIPO_VINCULACION_1',\n",
       " 'CIUDAD_1_ACTIVOS_TOTAL_1',\n",
       " 'TIPO_VIVIENDA_3',\n",
       " 'ACTIVOS_TOTAL_3_EDAD_3',\n",
       " 'CIUDAD_1_TOTAL_PASIVOS_1',\n",
       " 'CIIU_2_TOTAL_PASIVOS_1',\n",
       " 'ACTIVOS_TOTAL_3_GENERO_1',\n",
       " 'ESTADO_CIVIL_1',\n",
       " 'ANTIGUEDAD_NEGOCIO_1_TIPO_VINCULACION_1',\n",
       " 'TIPO_VIVIENDA_1',\n",
       " 'NUMERO_HIJOS_1',\n",
       " 'ACTIVOS_TOTAL_2_EDAD_3',\n",
       " 'TOTAL_PASIVOS_1',\n",
       " 'CIUDAD_3_TIPO_VINCULACION_1',\n",
       " 'NUMERO_HIJOS_1_RAZON_PASIVOS_ACTIVOS_2',\n",
       " 'CIIU_2_GENERO_1']"
      ]
     },
     "execution_count": 108,
     "metadata": {},
     "output_type": "execute_result"
    }
   ],
   "source": [
    "variables"
   ]
  },
  {
   "cell_type": "code",
   "execution_count": 100,
   "id": "0228ff99-106b-4e70-9545-3f9630e7ae36",
   "metadata": {},
   "outputs": [
    {
     "data": {
      "text/plain": [
       "['EVENTO',\n",
       " 'TIPO_DE_VIVIENDA',\n",
       " 'TIPO_VINCULACION',\n",
       " 'CIUDAD',\n",
       " 'CIIU',\n",
       " 'GENERO',\n",
       " 'ESTADO_CIVIL',\n",
       " 'TIPO_VINCULACION_1',\n",
       " 'TIPO_VIVIENDA_1',\n",
       " 'SCORE_1',\n",
       " 'ACTIVOS_TOTAL_1',\n",
       " 'SCORE_4',\n",
       " 'ANTIGUEDAD_NEGOCIO_1',\n",
       " 'ACTIVOS_TOTAL_3',\n",
       " 'SCORE_3',\n",
       " 'EDAD_3',\n",
       " 'TIPO_VIVIENDA_3',\n",
       " 'ESTADO_CIVIL_3',\n",
       " 'NUMERO_HIJOS_1',\n",
       " 'EDAD_1',\n",
       " 'TOTAL_PASIVOS_1',\n",
       " 'ESTADO_CIVIL_1',\n",
       " 'ACTIVOS_TOTAL_2',\n",
       " 'CIIU_6',\n",
       " 'TOTAL_PASIVOS_3',\n",
       " 'SCORE_2',\n",
       " 'EDAD_2',\n",
       " 'CIIU_2',\n",
       " 'CIUDAD_1',\n",
       " 'CIUDAD_3',\n",
       " 'GENERO_1',\n",
       " 'VENTAS_2',\n",
       " 'TOTAL_PASIVOS_2',\n",
       " 'RAZON_PASIVOS_ACTIVOS_2',\n",
       " 'ANTIGUEDAD_NEGOCIO_1',\n",
       " 'SCORE_1',\n",
       " 'CIIU_6',\n",
       " 'EDAD_3:TOTAL_PASIVOS_1',\n",
       " 'TIPO_VINCULACION_1:CIUDAD_3',\n",
       " 'ACTIVOS_TOTAL_1:CIUDAD_3',\n",
       " 'ACTIVOS_TOTAL_1:VENTAS_2',\n",
       " 'TIPO_VINCULACION_1:TOTAL_PASIVOS_1',\n",
       " 'ACTIVOS_TOTAL_1:TIPO_VIVIENDA_3',\n",
       " 'TIPO_VIVIENDA_1:SCORE_3',\n",
       " 'ESTADO_CIVIL_3:TOTAL_PASIVOS_1',\n",
       " 'GENERO_1:EDAD_3',\n",
       " 'TIPO_VIVIENDA_1:CIUDAD_3',\n",
       " 'RAZON_PASIVOS_ACTIVOS_1:EDAD_1',\n",
       " 'ESTADO_CIVIL_3:TOTAL_PASIVOS_2',\n",
       " 'VENTAS',\n",
       " 'SCORE',\n",
       " 'RAZON_PASIVOS_ACTIVOS',\n",
       " 'EDAD',\n",
       " 'ANTIGUEDAD_NEGOCIO',\n",
       " 'TOTAL_PASIVOS',\n",
       " 'ACTIVOS_TOTAL']"
      ]
     },
     "execution_count": 100,
     "metadata": {},
     "output_type": "execute_result"
    }
   ],
   "source": [
    "variables2"
   ]
  },
  {
   "cell_type": "code",
   "execution_count": 51,
   "id": "ccb13dc6-f032-423b-8b11-eeb12db1c075",
   "metadata": {},
   "outputs": [],
   "source": [
    "df1 = df[variables]\n",
    "\n",
    "# Crear interacciones de GENERO_1 con las demás variables y ESTADO_CIVIL_2 con las demás variables\n",
    "interactions = df1.copy()\n",
    "\n",
    "for var in variables:\n",
    "    if var != 'EVENTO' and var != 'TIPO_VINCULACION_1':\n",
    "        interactions[f'TIPO_VINCULACION_1:{var}'] = df1['TIPO_VINCULACION_1'] * df1[var]\n",
    "    \n",
    "    if var != 'EVENTO' and var != 'ACTIVOS_TOTAL_1':\n",
    "        interactions[f'ACTIVOS_TOTAL_1:{var}'] = df1['ACTIVOS_TOTAL_1'] * df1[var]\n",
    "        \n",
    "    if var != 'EVENTO' and var != 'TIPO_VIVIENDA_1':\n",
    "        interactions[f'TIPO_VIVIENDA_1:{var}'] = df1['TIPO_VIVIENDA_1'] * df1[var]\n",
    "    \n",
    "    if var != 'EVENTO' and var != 'GENERO_1':\n",
    "        interactions[f'GENERO_1:{var}'] = df1['GENERO_1'] * df1[var]\n",
    "    \n",
    "    if var != 'EVENTO' and var != 'ESTADO_CIVIL_3':\n",
    "        interactions[f'ESTADO_CIVIL_3:{var}'] = df1['ESTADO_CIVIL_3'] * df1[var]\n",
    "    \n",
    "    if var != 'EVENTO' and var != 'EDAD_3':\n",
    "        interactions[f'EDAD_3:{var}'] = df1['EDAD_3'] * df1[var]\n",
    "        \n",
    "    if var != 'EVENTO' and var != 'TOTAL_PASIVOS_3':\n",
    "        interactions[f'TOTAL_PASIVOS_3:{var}'] = df1['TOTAL_PASIVOS_3'] * df1[var]\n",
    "        \n",
    "    if var != 'EVENTO' and var != 'RAZON_PASIVOS_ACTIVOS_2':\n",
    "        interactions[f'RAZON_PASIVOS_ACTIVOS_2:{var}'] = df1['RAZON_PASIVOS_ACTIVOS_2'] * df1[var]"
   ]
  },
  {
   "cell_type": "code",
   "execution_count": 52,
   "id": "e8902302-8c3d-4165-9a42-bb250097ff3d",
   "metadata": {},
   "outputs": [],
   "source": [
    "variables=list(interactions.columns)"
   ]
  },
  {
   "cell_type": "code",
   "execution_count": 123,
   "id": "35ba1968-610a-44bd-ab75-1e7a3f1ca7bc",
   "metadata": {},
   "outputs": [
    {
     "data": {
      "text/plain": [
       "['EVENTO',\n",
       " 'CIUDAD_3_EDAD_3',\n",
       " 'SCORE_3',\n",
       " 'SCORE_4',\n",
       " 'EDAD_3_TIPO_VINCULACION_1',\n",
       " 'SCORE_1',\n",
       " 'TOTAL_PASIVOS_1_ACTIVOS_TOTAL_1',\n",
       " 'ANTIGUEDAD_NEGOCIO_1',\n",
       " 'ACTIVOS_TOTAL_3',\n",
       " 'NUMERO_HIJOS_1_EDAD_3',\n",
       " 'ESTADO_CIVIL_1_TIPO_VINCULACION_1',\n",
       " 'CIUDAD_1_TIPO_VIVIENDA_3',\n",
       " 'TOTAL_PASIVOS_2_RAZON_PASIVOS_ACTIVOS_2',\n",
       " 'EDAD_2_TIPO_VINCULACION_1',\n",
       " 'CIUDAD_1_ACTIVOS_TOTAL_1',\n",
       " 'TIPO_VIVIENDA_3',\n",
       " 'ACTIVOS_TOTAL_3_EDAD_3',\n",
       " 'CIUDAD_1_TOTAL_PASIVOS_1',\n",
       " 'CIIU_2_TOTAL_PASIVOS_1',\n",
       " 'ACTIVOS_TOTAL_3_GENERO_1',\n",
       " 'ESTADO_CIVIL_1',\n",
       " 'ANTIGUEDAD_NEGOCIO_1_TIPO_VINCULACION_1',\n",
       " 'TIPO_VIVIENDA_1',\n",
       " 'NUMERO_HIJOS_1',\n",
       " 'ACTIVOS_TOTAL_2_EDAD_3',\n",
       " 'TOTAL_PASIVOS_1',\n",
       " 'CIUDAD_3_TIPO_VINCULACION_1',\n",
       " 'NUMERO_HIJOS_1_RAZON_PASIVOS_ACTIVOS_2',\n",
       " 'CIIU_2_GENERO_1']"
      ]
     },
     "execution_count": 123,
     "metadata": {},
     "output_type": "execute_result"
    }
   ],
   "source": [
    "variables"
   ]
  },
  {
   "cell_type": "code",
   "execution_count": 126,
   "id": "e09d6970-67fd-4087-897a-1c1d1b37ac2a",
   "metadata": {},
   "outputs": [],
   "source": [
    "df1 = df[variables]"
   ]
  },
  {
   "cell_type": "code",
   "execution_count": 135,
   "id": "9a7410ff-3327-48f8-a399-678e9ffe0a68",
   "metadata": {},
   "outputs": [],
   "source": [
    "X=pd.DataFrame(df1,columns= variables)\n",
    "# Suponiendo que 'df' es tu dataframe y 'variables' es una lista con los nombres de las variables\n",
    "X = df1.drop(columns=['EVENTO'])"
   ]
  },
  {
   "cell_type": "code",
   "execution_count": 136,
   "id": "006bc020-b2e6-4a0c-b488-9487d3a72a70",
   "metadata": {},
   "outputs": [],
   "source": [
    "y1=df['EVENTO']"
   ]
  },
  {
   "cell_type": "code",
   "execution_count": 139,
   "id": "b7cfceb4-5f58-47f7-bd5f-4d7a6edcd1c0",
   "metadata": {},
   "outputs": [],
   "source": [
    "L1=backward_regression(X, y1, 0.05, verbose=False)"
   ]
  },
  {
   "cell_type": "code",
   "execution_count": 140,
   "id": "4ad5125e-8426-4ca1-8055-4300a4efac0d",
   "metadata": {},
   "outputs": [
    {
     "data": {
      "text/plain": [
       "['CIUDAD_3_EDAD_3',\n",
       " 'SCORE_3',\n",
       " 'SCORE_4',\n",
       " 'EDAD_3_TIPO_VINCULACION_1',\n",
       " 'SCORE_1',\n",
       " 'TOTAL_PASIVOS_1_ACTIVOS_TOTAL_1',\n",
       " 'ANTIGUEDAD_NEGOCIO_1',\n",
       " 'ACTIVOS_TOTAL_3',\n",
       " 'ESTADO_CIVIL_1_TIPO_VINCULACION_1',\n",
       " 'CIUDAD_1_TIPO_VIVIENDA_3',\n",
       " 'TOTAL_PASIVOS_2_RAZON_PASIVOS_ACTIVOS_2',\n",
       " 'EDAD_2_TIPO_VINCULACION_1',\n",
       " 'CIUDAD_1_ACTIVOS_TOTAL_1',\n",
       " 'TIPO_VIVIENDA_3',\n",
       " 'CIUDAD_1_TOTAL_PASIVOS_1',\n",
       " 'ESTADO_CIVIL_1',\n",
       " 'ANTIGUEDAD_NEGOCIO_1_TIPO_VINCULACION_1',\n",
       " 'TIPO_VIVIENDA_1',\n",
       " 'TOTAL_PASIVOS_1',\n",
       " 'CIUDAD_3_TIPO_VINCULACION_1',\n",
       " 'CIIU_2_GENERO_1']"
      ]
     },
     "execution_count": 140,
     "metadata": {},
     "output_type": "execute_result"
    }
   ],
   "source": [
    "L1"
   ]
  },
  {
   "cell_type": "code",
   "execution_count": 141,
   "id": "7a3d9dd8-21cc-4120-920c-f6c53165d19f",
   "metadata": {},
   "outputs": [],
   "source": [
    "L2=forward_regression(X, y1, 0.05, verbose=False)"
   ]
  },
  {
   "cell_type": "code",
   "execution_count": 142,
   "id": "90aa11ad-32c5-45e6-a875-94eb1e7f2c04",
   "metadata": {},
   "outputs": [
    {
     "data": {
      "text/plain": [
       "['EDAD_3_TIPO_VINCULACION_1',\n",
       " 'SCORE_1',\n",
       " 'TIPO_VIVIENDA_1',\n",
       " 'EDAD_2_TIPO_VINCULACION_1',\n",
       " 'CIUDAD_1_ACTIVOS_TOTAL_1',\n",
       " 'SCORE_4',\n",
       " 'SCORE_3',\n",
       " 'ACTIVOS_TOTAL_3',\n",
       " 'CIIU_2_GENERO_1',\n",
       " 'TIPO_VIVIENDA_3',\n",
       " 'ANTIGUEDAD_NEGOCIO_1',\n",
       " 'ESTADO_CIVIL_1',\n",
       " 'ESTADO_CIVIL_1_TIPO_VINCULACION_1',\n",
       " 'CIUDAD_3_EDAD_3',\n",
       " 'ANTIGUEDAD_NEGOCIO_1_TIPO_VINCULACION_1',\n",
       " 'CIUDAD_1_TIPO_VIVIENDA_3',\n",
       " 'CIUDAD_3_TIPO_VINCULACION_1']"
      ]
     },
     "execution_count": 142,
     "metadata": {},
     "output_type": "execute_result"
    }
   ],
   "source": [
    "L2"
   ]
  },
  {
   "cell_type": "code",
   "execution_count": 94,
   "id": "773ce45a-ef90-4b87-9691-352ebeb2bb69",
   "metadata": {},
   "outputs": [],
   "source": [
    "X['EVENTO']=df['EVENTO']\n",
    "X['CREDITO']=df['CREDITO']\n",
    "X['IDENTIFICACION']=df['IDENTIFICACION']\n",
    "X['SCORE']=df['SCORE']\n",
    "#X['MES_PERFILAMIENTO']=df['MES_PERFILAMIENTO']"
   ]
  },
  {
   "cell_type": "code",
   "execution_count": 95,
   "id": "5d015e4e-27f2-4960-8df2-86c6a45fc067",
   "metadata": {},
   "outputs": [
    {
     "data": {
      "text/html": [
       "<div>\n",
       "<style scoped>\n",
       "    .dataframe tbody tr th:only-of-type {\n",
       "        vertical-align: middle;\n",
       "    }\n",
       "\n",
       "    .dataframe tbody tr th {\n",
       "        vertical-align: top;\n",
       "    }\n",
       "\n",
       "    .dataframe thead th {\n",
       "        text-align: right;\n",
       "    }\n",
       "</style>\n",
       "<table border=\"1\" class=\"dataframe\">\n",
       "  <thead>\n",
       "    <tr style=\"text-align: right;\">\n",
       "      <th></th>\n",
       "      <th>EVENTO</th>\n",
       "      <th>TIPO_VINCULACION_1</th>\n",
       "      <th>TIPO_VIVIENDA_1</th>\n",
       "      <th>EDAD_2</th>\n",
       "      <th>SCORE_2</th>\n",
       "      <th>CIIU_2</th>\n",
       "      <th>SCORE_3</th>\n",
       "      <th>ANTIGUEDAD_NEGOCIO_1</th>\n",
       "      <th>SCORE_1</th>\n",
       "      <th>CIIU_6</th>\n",
       "      <th>ACTIVOS_TOTAL_1</th>\n",
       "      <th>GENERO_1</th>\n",
       "      <th>ESTADO_CIVIL_3</th>\n",
       "      <th>EDAD_3</th>\n",
       "      <th>TOTAL_PASIVOS_3</th>\n",
       "      <th>RAZON_PASIVOS_ACTIVOS_2</th>\n",
       "      <th>CREDITO</th>\n",
       "      <th>IDENTIFICACION</th>\n",
       "      <th>SCORE</th>\n",
       "    </tr>\n",
       "  </thead>\n",
       "  <tbody>\n",
       "    <tr>\n",
       "      <th>0</th>\n",
       "      <td>0</td>\n",
       "      <td>1</td>\n",
       "      <td>0</td>\n",
       "      <td>0</td>\n",
       "      <td>1</td>\n",
       "      <td>1</td>\n",
       "      <td>0</td>\n",
       "      <td>1</td>\n",
       "      <td>0</td>\n",
       "      <td>0</td>\n",
       "      <td>0</td>\n",
       "      <td>1</td>\n",
       "      <td>1</td>\n",
       "      <td>1</td>\n",
       "      <td>0</td>\n",
       "      <td>1</td>\n",
       "      <td>80000068188</td>\n",
       "      <td>93366264</td>\n",
       "      <td>656</td>\n",
       "    </tr>\n",
       "    <tr>\n",
       "      <th>1</th>\n",
       "      <td>0</td>\n",
       "      <td>1</td>\n",
       "      <td>1</td>\n",
       "      <td>0</td>\n",
       "      <td>0</td>\n",
       "      <td>0</td>\n",
       "      <td>1</td>\n",
       "      <td>1</td>\n",
       "      <td>0</td>\n",
       "      <td>0</td>\n",
       "      <td>0</td>\n",
       "      <td>1</td>\n",
       "      <td>0</td>\n",
       "      <td>1</td>\n",
       "      <td>0</td>\n",
       "      <td>0</td>\n",
       "      <td>80000068192</td>\n",
       "      <td>13537087</td>\n",
       "      <td>712</td>\n",
       "    </tr>\n",
       "    <tr>\n",
       "      <th>2</th>\n",
       "      <td>0</td>\n",
       "      <td>1</td>\n",
       "      <td>1</td>\n",
       "      <td>0</td>\n",
       "      <td>1</td>\n",
       "      <td>0</td>\n",
       "      <td>0</td>\n",
       "      <td>1</td>\n",
       "      <td>0</td>\n",
       "      <td>1</td>\n",
       "      <td>0</td>\n",
       "      <td>0</td>\n",
       "      <td>0</td>\n",
       "      <td>1</td>\n",
       "      <td>0</td>\n",
       "      <td>1</td>\n",
       "      <td>80000068193</td>\n",
       "      <td>35510406</td>\n",
       "      <td>620</td>\n",
       "    </tr>\n",
       "    <tr>\n",
       "      <th>3</th>\n",
       "      <td>0</td>\n",
       "      <td>0</td>\n",
       "      <td>1</td>\n",
       "      <td>1</td>\n",
       "      <td>0</td>\n",
       "      <td>0</td>\n",
       "      <td>1</td>\n",
       "      <td>0</td>\n",
       "      <td>0</td>\n",
       "      <td>0</td>\n",
       "      <td>0</td>\n",
       "      <td>0</td>\n",
       "      <td>0</td>\n",
       "      <td>0</td>\n",
       "      <td>0</td>\n",
       "      <td>1</td>\n",
       "      <td>80000068195</td>\n",
       "      <td>40079073</td>\n",
       "      <td>776</td>\n",
       "    </tr>\n",
       "    <tr>\n",
       "      <th>4</th>\n",
       "      <td>0</td>\n",
       "      <td>0</td>\n",
       "      <td>0</td>\n",
       "      <td>0</td>\n",
       "      <td>1</td>\n",
       "      <td>0</td>\n",
       "      <td>0</td>\n",
       "      <td>0</td>\n",
       "      <td>0</td>\n",
       "      <td>0</td>\n",
       "      <td>1</td>\n",
       "      <td>0</td>\n",
       "      <td>0</td>\n",
       "      <td>1</td>\n",
       "      <td>0</td>\n",
       "      <td>0</td>\n",
       "      <td>80000068196</td>\n",
       "      <td>40784068</td>\n",
       "      <td>607</td>\n",
       "    </tr>\n",
       "    <tr>\n",
       "      <th>...</th>\n",
       "      <td>...</td>\n",
       "      <td>...</td>\n",
       "      <td>...</td>\n",
       "      <td>...</td>\n",
       "      <td>...</td>\n",
       "      <td>...</td>\n",
       "      <td>...</td>\n",
       "      <td>...</td>\n",
       "      <td>...</td>\n",
       "      <td>...</td>\n",
       "      <td>...</td>\n",
       "      <td>...</td>\n",
       "      <td>...</td>\n",
       "      <td>...</td>\n",
       "      <td>...</td>\n",
       "      <td>...</td>\n",
       "      <td>...</td>\n",
       "      <td>...</td>\n",
       "      <td>...</td>\n",
       "    </tr>\n",
       "    <tr>\n",
       "      <th>19000</th>\n",
       "      <td>0</td>\n",
       "      <td>1</td>\n",
       "      <td>1</td>\n",
       "      <td>0</td>\n",
       "      <td>0</td>\n",
       "      <td>1</td>\n",
       "      <td>1</td>\n",
       "      <td>1</td>\n",
       "      <td>0</td>\n",
       "      <td>0</td>\n",
       "      <td>0</td>\n",
       "      <td>1</td>\n",
       "      <td>0</td>\n",
       "      <td>1</td>\n",
       "      <td>1</td>\n",
       "      <td>0</td>\n",
       "      <td>80000098292</td>\n",
       "      <td>78026774</td>\n",
       "      <td>785</td>\n",
       "    </tr>\n",
       "    <tr>\n",
       "      <th>19001</th>\n",
       "      <td>0</td>\n",
       "      <td>0</td>\n",
       "      <td>0</td>\n",
       "      <td>0</td>\n",
       "      <td>0</td>\n",
       "      <td>0</td>\n",
       "      <td>1</td>\n",
       "      <td>1</td>\n",
       "      <td>0</td>\n",
       "      <td>0</td>\n",
       "      <td>1</td>\n",
       "      <td>1</td>\n",
       "      <td>1</td>\n",
       "      <td>1</td>\n",
       "      <td>0</td>\n",
       "      <td>0</td>\n",
       "      <td>80000098293</td>\n",
       "      <td>6884451</td>\n",
       "      <td>764</td>\n",
       "    </tr>\n",
       "    <tr>\n",
       "      <th>19002</th>\n",
       "      <td>1</td>\n",
       "      <td>0</td>\n",
       "      <td>0</td>\n",
       "      <td>0</td>\n",
       "      <td>1</td>\n",
       "      <td>0</td>\n",
       "      <td>0</td>\n",
       "      <td>1</td>\n",
       "      <td>0</td>\n",
       "      <td>0</td>\n",
       "      <td>0</td>\n",
       "      <td>1</td>\n",
       "      <td>1</td>\n",
       "      <td>1</td>\n",
       "      <td>1</td>\n",
       "      <td>0</td>\n",
       "      <td>80000098294</td>\n",
       "      <td>6301768</td>\n",
       "      <td>634</td>\n",
       "    </tr>\n",
       "    <tr>\n",
       "      <th>19003</th>\n",
       "      <td>0</td>\n",
       "      <td>1</td>\n",
       "      <td>1</td>\n",
       "      <td>0</td>\n",
       "      <td>0</td>\n",
       "      <td>0</td>\n",
       "      <td>1</td>\n",
       "      <td>1</td>\n",
       "      <td>0</td>\n",
       "      <td>1</td>\n",
       "      <td>0</td>\n",
       "      <td>0</td>\n",
       "      <td>0</td>\n",
       "      <td>1</td>\n",
       "      <td>0</td>\n",
       "      <td>1</td>\n",
       "      <td>80000098295</td>\n",
       "      <td>36999459</td>\n",
       "      <td>803</td>\n",
       "    </tr>\n",
       "    <tr>\n",
       "      <th>19004</th>\n",
       "      <td>1</td>\n",
       "      <td>0</td>\n",
       "      <td>0</td>\n",
       "      <td>0</td>\n",
       "      <td>1</td>\n",
       "      <td>0</td>\n",
       "      <td>0</td>\n",
       "      <td>0</td>\n",
       "      <td>0</td>\n",
       "      <td>0</td>\n",
       "      <td>1</td>\n",
       "      <td>0</td>\n",
       "      <td>0</td>\n",
       "      <td>1</td>\n",
       "      <td>0</td>\n",
       "      <td>0</td>\n",
       "      <td>80000098297</td>\n",
       "      <td>66861536</td>\n",
       "      <td>671</td>\n",
       "    </tr>\n",
       "  </tbody>\n",
       "</table>\n",
       "<p>19005 rows × 19 columns</p>\n",
       "</div>"
      ],
      "text/plain": [
       "       EVENTO  TIPO_VINCULACION_1  TIPO_VIVIENDA_1  EDAD_2  SCORE_2  CIIU_2  \\\n",
       "0           0                   1                0       0        1       1   \n",
       "1           0                   1                1       0        0       0   \n",
       "2           0                   1                1       0        1       0   \n",
       "3           0                   0                1       1        0       0   \n",
       "4           0                   0                0       0        1       0   \n",
       "...       ...                 ...              ...     ...      ...     ...   \n",
       "19000       0                   1                1       0        0       1   \n",
       "19001       0                   0                0       0        0       0   \n",
       "19002       1                   0                0       0        1       0   \n",
       "19003       0                   1                1       0        0       0   \n",
       "19004       1                   0                0       0        1       0   \n",
       "\n",
       "       SCORE_3  ANTIGUEDAD_NEGOCIO_1  SCORE_1  CIIU_6  ACTIVOS_TOTAL_1  \\\n",
       "0            0                     1        0       0                0   \n",
       "1            1                     1        0       0                0   \n",
       "2            0                     1        0       1                0   \n",
       "3            1                     0        0       0                0   \n",
       "4            0                     0        0       0                1   \n",
       "...        ...                   ...      ...     ...              ...   \n",
       "19000        1                     1        0       0                0   \n",
       "19001        1                     1        0       0                1   \n",
       "19002        0                     1        0       0                0   \n",
       "19003        1                     1        0       1                0   \n",
       "19004        0                     0        0       0                1   \n",
       "\n",
       "       GENERO_1  ESTADO_CIVIL_3  EDAD_3  TOTAL_PASIVOS_3  \\\n",
       "0             1               1       1                0   \n",
       "1             1               0       1                0   \n",
       "2             0               0       1                0   \n",
       "3             0               0       0                0   \n",
       "4             0               0       1                0   \n",
       "...         ...             ...     ...              ...   \n",
       "19000         1               0       1                1   \n",
       "19001         1               1       1                0   \n",
       "19002         1               1       1                1   \n",
       "19003         0               0       1                0   \n",
       "19004         0               0       1                0   \n",
       "\n",
       "       RAZON_PASIVOS_ACTIVOS_2      CREDITO  IDENTIFICACION  SCORE  \n",
       "0                            1  80000068188        93366264    656  \n",
       "1                            0  80000068192        13537087    712  \n",
       "2                            1  80000068193        35510406    620  \n",
       "3                            1  80000068195        40079073    776  \n",
       "4                            0  80000068196        40784068    607  \n",
       "...                        ...          ...             ...    ...  \n",
       "19000                        0  80000098292        78026774    785  \n",
       "19001                        0  80000098293         6884451    764  \n",
       "19002                        0  80000098294         6301768    634  \n",
       "19003                        1  80000098295        36999459    803  \n",
       "19004                        0  80000098297        66861536    671  \n",
       "\n",
       "[19005 rows x 19 columns]"
      ]
     },
     "execution_count": 95,
     "metadata": {},
     "output_type": "execute_result"
    }
   ],
   "source": [
    "X"
   ]
  },
  {
   "cell_type": "code",
   "execution_count": null,
   "id": "ffb2e7b8-3345-4245-8b99-fa86775f5956",
   "metadata": {},
   "outputs": [],
   "source": [
    "#X.to_excel('BASE_INTERACCIONES.xlsx', index=False)\n",
    "#X.to_excel('BASE_INTERACCIONES_CALIF2.xlsx', index=False)"
   ]
  },
  {
   "cell_type": "code",
   "execution_count": null,
   "id": "7a99f6cb-0f13-4473-82ac-2ff99ffc2f98",
   "metadata": {},
   "outputs": [],
   "source": []
  },
  {
   "cell_type": "markdown",
   "id": "79e99e5e-9bb7-4f1e-a9ac-3d23a74c86d6",
   "metadata": {},
   "source": [
    "##### Se toman las variables que de acuerdo al IV tienen una potencia de predictividad alta y media"
   ]
  },
  {
   "cell_type": "markdown",
   "id": "e75670f5-2370-41d6-8a41-b35c2691e66b",
   "metadata": {},
   "source": [
    "###### Metodología)\n",
    "###### 1) Aplicar un Backward con la función 2) por la cantidad de variables, tomando en principio las variables originales sin lags junto con sus variabilidades."
   ]
  },
  {
   "cell_type": "code",
   "execution_count": 78,
   "id": "0efaf11b-f8ec-4cdf-a08b-c2dfb511801c",
   "metadata": {},
   "outputs": [],
   "source": [
    "df1=pd.DataFrame(df,columns= variables2)\n",
    "#df1.describe()"
   ]
  },
  {
   "cell_type": "code",
   "execution_count": 75,
   "id": "6bd98547-d67c-4ceb-a1af-dd4c62110761",
   "metadata": {},
   "outputs": [
    {
     "data": {
      "text/plain": [
       "['EVENTO',\n",
       " 'TIPO_DE_VIVIENDA',\n",
       " 'TIPO_VINCULACION',\n",
       " 'CIUDAD',\n",
       " 'CIIU',\n",
       " 'GENERO',\n",
       " 'ESTADO_CIVIL',\n",
       " 'TIPO_VINCULACION_1',\n",
       " 'TIPO_VIVIENDA_1',\n",
       " 'SCORE_1',\n",
       " 'ACTIVOS_TOTAL_1',\n",
       " 'SCORE_4',\n",
       " 'ANTIGUEDAD_NEGOCIO_1',\n",
       " 'ACTIVOS_TOTAL_3',\n",
       " 'SCORE_3',\n",
       " 'EDAD_3',\n",
       " 'TIPO_VIVIENDA_3',\n",
       " 'ESTADO_CIVIL_3',\n",
       " 'NUMERO_HIJOS_1',\n",
       " 'EDAD_1',\n",
       " 'TOTAL_PASIVOS_1',\n",
       " 'ESTADO_CIVIL_1',\n",
       " 'ACTIVOS_TOTAL_2',\n",
       " 'CIIU_6',\n",
       " 'TOTAL_PASIVOS_3',\n",
       " 'SCORE_2',\n",
       " 'EDAD_2',\n",
       " 'CIIU_2',\n",
       " 'CIUDAD_1',\n",
       " 'CIUDAD_3',\n",
       " 'GENERO_1',\n",
       " 'VENTAS_2',\n",
       " 'TOTAL_PASIVOS_2',\n",
       " 'RAZON_PASIVOS_ACTIVOS_2',\n",
       " 'ANTIGUEDAD_NEGOCIO_1',\n",
       " 'SCORE_1',\n",
       " 'CIIU_6',\n",
       " 'EDAD_3:TOTAL_PASIVOS_1',\n",
       " 'TIPO_VINCULACION_1:CIUDAD_3',\n",
       " 'ACTIVOS_TOTAL_1:CIUDAD_3',\n",
       " 'ACTIVOS_TOTAL_1:VENTAS_2',\n",
       " 'TIPO_VINCULACION_1:TOTAL_PASIVOS_1',\n",
       " 'ACTIVOS_TOTAL_1:TIPO_VIVIENDA_3',\n",
       " 'TIPO_VIVIENDA_1:SCORE_3',\n",
       " 'ESTADO_CIVIL_3:TOTAL_PASIVOS_1',\n",
       " 'GENERO_1:EDAD_3',\n",
       " 'TIPO_VIVIENDA_1:CIUDAD_3',\n",
       " 'RAZON_PASIVOS_ACTIVOS_1:EDAD_1',\n",
       " 'ESTADO_CIVIL_3:TOTAL_PASIVOS_2',\n",
       " 'VENTAS',\n",
       " 'SCORE',\n",
       " 'RAZON_PASIVOS_ACTIVOS',\n",
       " 'EDAD',\n",
       " 'ANTIGUEDAD_NEGOCIO',\n",
       " 'TOTAL_PASIVOS',\n",
       " 'ACTIVOS_TOTAL']"
      ]
     },
     "execution_count": 79,
     "metadata": {},
     "output_type": "execute_result"
    }
   ],
   "source": [
    "df1.list(df1.columns)"
   ]
  },
  {
   "cell_type": "markdown",
   "id": "6c18aa6d-4b6c-4b39-a96b-4c62f8e734b3",
   "metadata": {},
   "source": [
    "### Análisis de correlación "
   ]
  },
  {
   "cell_type": "code",
   "execution_count": 71,
   "id": "8f41eddb-d3c1-4819-8436-02b103c6c69d",
   "metadata": {},
   "outputs": [],
   "source": [
    "X=pd.DataFrame(df,columns= continuas)"
   ]
  },
  {
   "cell_type": "code",
   "execution_count": 72,
   "id": "8f87abc3-4eda-4f4b-9035-3e6df9c2a668",
   "metadata": {},
   "outputs": [
    {
     "data": {
      "text/html": [
       "<div>\n",
       "<style scoped>\n",
       "    .dataframe tbody tr th:only-of-type {\n",
       "        vertical-align: middle;\n",
       "    }\n",
       "\n",
       "    .dataframe tbody tr th {\n",
       "        vertical-align: top;\n",
       "    }\n",
       "\n",
       "    .dataframe thead th {\n",
       "        text-align: right;\n",
       "    }\n",
       "</style>\n",
       "<table border=\"1\" class=\"dataframe\">\n",
       "  <thead>\n",
       "    <tr style=\"text-align: right;\">\n",
       "      <th></th>\n",
       "      <th>VENTAS</th>\n",
       "      <th>SCORE</th>\n",
       "      <th>RAZON_PASIVOS_ACTIVOS</th>\n",
       "      <th>EDAD</th>\n",
       "      <th>ANTIGUEDAD_NEGOCIO</th>\n",
       "      <th>TOTAL_PASIVOS</th>\n",
       "      <th>ACTIVOS_TOTAL</th>\n",
       "    </tr>\n",
       "  </thead>\n",
       "  <tbody>\n",
       "    <tr>\n",
       "      <th>VENTAS</th>\n",
       "      <td>100.0</td>\n",
       "      <td>10.0</td>\n",
       "      <td>-0.0</td>\n",
       "      <td>1.0</td>\n",
       "      <td>8.0</td>\n",
       "      <td>40.0</td>\n",
       "      <td>39.0</td>\n",
       "    </tr>\n",
       "    <tr>\n",
       "      <th>SCORE</th>\n",
       "      <td>10.0</td>\n",
       "      <td>100.0</td>\n",
       "      <td>-0.0</td>\n",
       "      <td>33.0</td>\n",
       "      <td>21.0</td>\n",
       "      <td>14.0</td>\n",
       "      <td>19.0</td>\n",
       "    </tr>\n",
       "    <tr>\n",
       "      <th>RAZON_PASIVOS_ACTIVOS</th>\n",
       "      <td>-0.0</td>\n",
       "      <td>-0.0</td>\n",
       "      <td>100.0</td>\n",
       "      <td>1.0</td>\n",
       "      <td>-0.0</td>\n",
       "      <td>-0.0</td>\n",
       "      <td>-1.0</td>\n",
       "    </tr>\n",
       "    <tr>\n",
       "      <th>EDAD</th>\n",
       "      <td>1.0</td>\n",
       "      <td>33.0</td>\n",
       "      <td>1.0</td>\n",
       "      <td>100.0</td>\n",
       "      <td>53.0</td>\n",
       "      <td>16.0</td>\n",
       "      <td>23.0</td>\n",
       "    </tr>\n",
       "    <tr>\n",
       "      <th>ANTIGUEDAD_NEGOCIO</th>\n",
       "      <td>8.0</td>\n",
       "      <td>21.0</td>\n",
       "      <td>-0.0</td>\n",
       "      <td>53.0</td>\n",
       "      <td>100.0</td>\n",
       "      <td>17.0</td>\n",
       "      <td>23.0</td>\n",
       "    </tr>\n",
       "    <tr>\n",
       "      <th>TOTAL_PASIVOS</th>\n",
       "      <td>40.0</td>\n",
       "      <td>14.0</td>\n",
       "      <td>-0.0</td>\n",
       "      <td>16.0</td>\n",
       "      <td>17.0</td>\n",
       "      <td>100.0</td>\n",
       "      <td>54.0</td>\n",
       "    </tr>\n",
       "    <tr>\n",
       "      <th>ACTIVOS_TOTAL</th>\n",
       "      <td>39.0</td>\n",
       "      <td>19.0</td>\n",
       "      <td>-1.0</td>\n",
       "      <td>23.0</td>\n",
       "      <td>23.0</td>\n",
       "      <td>54.0</td>\n",
       "      <td>100.0</td>\n",
       "    </tr>\n",
       "  </tbody>\n",
       "</table>\n",
       "</div>"
      ],
      "text/plain": [
       "                       VENTAS  SCORE  RAZON_PASIVOS_ACTIVOS   EDAD  \\\n",
       "VENTAS                  100.0   10.0                   -0.0    1.0   \n",
       "SCORE                    10.0  100.0                   -0.0   33.0   \n",
       "RAZON_PASIVOS_ACTIVOS    -0.0   -0.0                  100.0    1.0   \n",
       "EDAD                      1.0   33.0                    1.0  100.0   \n",
       "ANTIGUEDAD_NEGOCIO        8.0   21.0                   -0.0   53.0   \n",
       "TOTAL_PASIVOS            40.0   14.0                   -0.0   16.0   \n",
       "ACTIVOS_TOTAL            39.0   19.0                   -1.0   23.0   \n",
       "\n",
       "                       ANTIGUEDAD_NEGOCIO  TOTAL_PASIVOS  ACTIVOS_TOTAL  \n",
       "VENTAS                                8.0           40.0           39.0  \n",
       "SCORE                                21.0           14.0           19.0  \n",
       "RAZON_PASIVOS_ACTIVOS                -0.0           -0.0           -1.0  \n",
       "EDAD                                 53.0           16.0           23.0  \n",
       "ANTIGUEDAD_NEGOCIO                  100.0           17.0           23.0  \n",
       "TOTAL_PASIVOS                        17.0          100.0           54.0  \n",
       "ACTIVOS_TOTAL                        23.0           54.0          100.0  "
      ]
     },
     "execution_count": 72,
     "metadata": {},
     "output_type": "execute_result"
    },
    {
     "data": {
      "image/png": "[encoded data removed]",
      "text/plain": [
       "<Figure size 900x900 with 2 Axes>"
      ]
     },
     "metadata": {},
     "output_type": "display_data"
    }
   ],
   "source": [
    "cmap = sb.color_palette(\"crest\", as_cmap=True)\n",
    "round(X.corr(),2)*100\n",
    "fig, ax = plt.subplots(figsize=(9, 9))\n",
    "heatmap=sb.heatmap(X.corr(), annot=True, cmap=cmap)\n",
    "#heatmap.get_figure().savefig(\"C:/Users/damartinezp/Documents/Proyectos Borrador/PD_C1/Descriptivas/heatmap.png\")"
   ]
  },
  {
   "cell_type": "markdown",
   "id": "22cb512d-8fbd-4172-8660-ad3421c2f8e1",
   "metadata": {},
   "source": [
    "### Descriptiva dataset"
   ]
  },
  {
   "cell_type": "code",
   "execution_count": 6,
   "id": "b94f464c-970f-4212-93ee-f05c4f75962f",
   "metadata": {},
   "outputs": [],
   "source": [
    "df = pd.read_excel('EXPERIMENTO.xlsx')\n",
    "#df = pd.read_excel('DATASET_FINAL_2.xlsx')\n",
    "df2 = pd.read_excel('CALIFICAR_ABRIL_JULIO.xlsx')\n",
    "df = pd.DataFrame(df)\n",
    "df2 = pd.DataFrame(df2)"
   ]
  },
  {
   "cell_type": "code",
   "execution_count": 122,
   "id": "70f55d4d-5ba7-4a8a-a6b8-9fa7a34a2e8d",
   "metadata": {},
   "outputs": [
    {
     "data": {
      "text/plain": [
       "['CREDITO',\n",
       " 'TIPO_IDENTIFICACION',\n",
       " 'IDENTIFICACION',\n",
       " 'EVENTO',\n",
       " 'SCORE',\n",
       " 'EDAD',\n",
       " 'NUMERO_HIJOS',\n",
       " 'PERSONAS_A_CARGO',\n",
       " 'EXPERIENCIA_ACTIVIDAD',\n",
       " 'ANTIGUEDAD_NEGOCIO',\n",
       " 'TIEMPO_LOCAL',\n",
       " 'TIEMPO_VIVIR_VIVIENDA',\n",
       " 'VENTAS',\n",
       " 'COSTO_DE_VENTAS',\n",
       " 'UTILIDAD_BRUTA',\n",
       " 'REMUNERACION_PERSONAL',\n",
       " 'CUOTAS_FINANCIERAS',\n",
       " 'TOTAL_GASTOS',\n",
       " 'UTILIDAD_MICROEMPRESA',\n",
       " 'INGRESOS_FAMILIARES',\n",
       " 'EGRESOS_FAMILIARES',\n",
       " 'BANCOS',\n",
       " 'ACTIVOS_TOTAL',\n",
       " 'OBLIGACIONES_FINANCIERAS',\n",
       " 'TOTAL_PASIVOS',\n",
       " 'TOTAL_PATRIMONIO',\n",
       " 'TIPO_VINCULACION',\n",
       " 'ESTRATO',\n",
       " 'GENERO',\n",
       " 'ESTADO_CIVIL',\n",
       " 'TIPO_DE_VIVIENDA',\n",
       " 'CIUDAD',\n",
       " 'CIIU',\n",
       " 'DESTINO_CREDITO',\n",
       " 'FECHA_PERFILAMIENTO',\n",
       " 'RAZON_PASIVOS_ACTIVOS',\n",
       " 'MES_PERFILAMIENTO',\n",
       " 'SCORE_1',\n",
       " 'SCORE_2',\n",
       " 'SCORE_3',\n",
       " 'SCORE_4',\n",
       " 'TIPO_VINCULACION_1',\n",
       " 'TIPO_VIVIENDA_1',\n",
       " 'TIPO_VIVIENDA_2',\n",
       " 'TIPO_VIVIENDA_3',\n",
       " 'ACTIVOS_TOTAL_1',\n",
       " 'ACTIVOS_TOTAL_2',\n",
       " 'ACTIVOS_TOTAL_3',\n",
       " 'EDAD_1',\n",
       " 'EDAD_2',\n",
       " 'EDAD_3',\n",
       " 'ANTIGUEDAD_NEGOCIO_1',\n",
       " 'CIIU_1',\n",
       " 'CIIU_2',\n",
       " 'CIIU_3',\n",
       " 'CIIU_4',\n",
       " 'CIIU_5',\n",
       " 'CIIU_6',\n",
       " 'ESTADO_CIVIL_1',\n",
       " 'ESTADO_CIVIL_2',\n",
       " 'ESTADO_CIVIL_3',\n",
       " 'TOTAL_PASIVOS_1',\n",
       " 'TOTAL_PASIVOS_2',\n",
       " 'TOTAL_PASIVOS_3',\n",
       " 'NUMERO_HIJOS_1',\n",
       " 'RAZON_PASIVOS_ACTIVOS_1',\n",
       " 'RAZON_PASIVOS_ACTIVOS_2',\n",
       " 'RAZON_PASIVOS_ACTIVOS_3',\n",
       " 'RAZON_PASIVOS_ACTIVOS_4',\n",
       " 'CIUDAD_1',\n",
       " 'CIUDAD_2',\n",
       " 'CIUDAD_3',\n",
       " 'VENTAS_1',\n",
       " 'VENTAS_2',\n",
       " 'VENTAS_3',\n",
       " 'VENTAS_4',\n",
       " 'GENERO_1',\n",
       " 'TIPO_VIVIENDA_1_TIPO_VINCULACION_1',\n",
       " 'SCORE_1_TIPO_VINCULACION_1',\n",
       " 'ACTIVOS_TOTAL_1_TIPO_VINCULACION_1',\n",
       " 'SCORE_4_TIPO_VINCULACION_1',\n",
       " 'ANTIGUEDAD_NEGOCIO_1_TIPO_VINCULACION_1',\n",
       " 'ACTIVOS_TOTAL_3_TIPO_VINCULACION_1',\n",
       " 'SCORE_3_TIPO_VINCULACION_1',\n",
       " 'EDAD_3_TIPO_VINCULACION_1',\n",
       " 'TIPO_VIVIENDA_3_TIPO_VINCULACION_1',\n",
       " 'ESTADO_CIVIL_3_TIPO_VINCULACION_1',\n",
       " 'NUMERO_HIJOS_1_TIPO_VINCULACION_1',\n",
       " 'EDAD_1_TIPO_VINCULACION_1',\n",
       " 'TOTAL_PASIVOS_1_TIPO_VINCULACION_1',\n",
       " 'ESTADO_CIVIL_1_TIPO_VINCULACION_1',\n",
       " 'ACTIVOS_TOTAL_2_TIPO_VINCULACION_1',\n",
       " 'CIIU_6_TIPO_VINCULACION_1',\n",
       " 'TOTAL_PASIVOS_3_TIPO_VINCULACION_1',\n",
       " 'SCORE_2_TIPO_VINCULACION_1',\n",
       " 'EDAD_2_TIPO_VINCULACION_1',\n",
       " 'CIIU_2_TIPO_VINCULACION_1',\n",
       " 'CIUDAD_1_TIPO_VINCULACION_1',\n",
       " 'CIUDAD_3_TIPO_VINCULACION_1',\n",
       " 'GENERO_1_TIPO_VINCULACION_1',\n",
       " 'VENTAS_2_TIPO_VINCULACION_1',\n",
       " 'TOTAL_PASIVOS_2_TIPO_VINCULACION_1',\n",
       " 'RAZON_PASIVOS_ACTIVOS_2_TIPO_VINCULACION_1',\n",
       " 'TIPO_VIVIENDA_1_GENERO_1',\n",
       " 'SCORE_1_GENERO_1',\n",
       " 'ACTIVOS_TOTAL_1_GENERO_1',\n",
       " 'SCORE_4_GENERO_1',\n",
       " 'ANTIGUEDAD_NEGOCIO_1_GENERO_1',\n",
       " 'ACTIVOS_TOTAL_3_GENERO_1',\n",
       " 'SCORE_3_GENERO_1',\n",
       " 'EDAD_3_GENERO_1',\n",
       " 'TIPO_VIVIENDA_3_GENERO_1',\n",
       " 'ESTADO_CIVIL_3_GENERO_1',\n",
       " 'NUMERO_HIJOS_1_GENERO_1',\n",
       " 'EDAD_1_GENERO_1',\n",
       " 'TOTAL_PASIVOS_1_GENERO_1',\n",
       " 'ESTADO_CIVIL_1_GENERO_1',\n",
       " 'ACTIVOS_TOTAL_2_GENERO_1',\n",
       " 'CIIU_6_GENERO_1',\n",
       " 'TOTAL_PASIVOS_3_GENERO_1',\n",
       " 'SCORE_2_GENERO_1',\n",
       " 'EDAD_2_GENERO_1',\n",
       " 'CIIU_2_GENERO_1',\n",
       " 'CIUDAD_1_GENERO_1',\n",
       " 'CIUDAD_3_GENERO_1',\n",
       " 'VENTAS_2_GENERO_1',\n",
       " 'TOTAL_PASIVOS_2_GENERO_1',\n",
       " 'RAZON_PASIVOS_ACTIVOS_2_GENERO_1',\n",
       " 'TIPO_VIVIENDA_1_ESTADO_CIVIL_3',\n",
       " 'SCORE_1_ESTADO_CIVIL_3',\n",
       " 'ACTIVOS_TOTAL_1_ESTADO_CIVIL_3',\n",
       " 'SCORE_4_ESTADO_CIVIL_3',\n",
       " 'ANTIGUEDAD_NEGOCIO_1_ESTADO_CIVIL_3',\n",
       " 'ACTIVOS_TOTAL_3_ESTADO_CIVIL_3',\n",
       " 'SCORE_3_ESTADO_CIVIL_3',\n",
       " 'EDAD_3_ESTADO_CIVIL_3',\n",
       " 'TIPO_VIVIENDA_3_ESTADO_CIVIL_3',\n",
       " 'NUMERO_HIJOS_1_ESTADO_CIVIL_3',\n",
       " 'EDAD_1_ESTADO_CIVIL_3',\n",
       " 'TOTAL_PASIVOS_1_ESTADO_CIVIL_3',\n",
       " 'ESTADO_CIVIL_1_ESTADO_CIVIL_3',\n",
       " 'ACTIVOS_TOTAL_2_ESTADO_CIVIL_3',\n",
       " 'CIIU_6_ESTADO_CIVIL_3',\n",
       " 'TOTAL_PASIVOS_3_ESTADO_CIVIL_3',\n",
       " 'SCORE_2_ESTADO_CIVIL_3',\n",
       " 'EDAD_2_ESTADO_CIVIL_3',\n",
       " 'CIIU_2_ESTADO_CIVIL_3',\n",
       " 'CIUDAD_1_ESTADO_CIVIL_3',\n",
       " 'CIUDAD_3_ESTADO_CIVIL_3',\n",
       " 'VENTAS_2_ESTADO_CIVIL_3',\n",
       " 'TOTAL_PASIVOS_2_ESTADO_CIVIL_3',\n",
       " 'RAZON_PASIVOS_ACTIVOS_2_ESTADO_CIVIL_3',\n",
       " 'TIPO_VIVIENDA_1_EDAD_3',\n",
       " 'SCORE_1_EDAD_3',\n",
       " 'ACTIVOS_TOTAL_1_EDAD_3',\n",
       " 'SCORE_4_EDAD_3',\n",
       " 'ANTIGUEDAD_NEGOCIO_1_EDAD_3',\n",
       " 'ACTIVOS_TOTAL_3_EDAD_3',\n",
       " 'SCORE_3_EDAD_3',\n",
       " 'TIPO_VIVIENDA_3_EDAD_3',\n",
       " 'NUMERO_HIJOS_1_EDAD_3',\n",
       " 'EDAD_1_EDAD_3',\n",
       " 'TOTAL_PASIVOS_1_EDAD_3',\n",
       " 'ESTADO_CIVIL_1_EDAD_3',\n",
       " 'ACTIVOS_TOTAL_2_EDAD_3',\n",
       " 'CIIU_6_EDAD_3',\n",
       " 'TOTAL_PASIVOS_3_EDAD_3',\n",
       " 'SCORE_2_EDAD_3',\n",
       " 'EDAD_2_EDAD_3',\n",
       " 'CIIU_2_EDAD_3',\n",
       " 'CIUDAD_1_EDAD_3',\n",
       " 'CIUDAD_3_EDAD_3',\n",
       " 'VENTAS_2_EDAD_3',\n",
       " 'TOTAL_PASIVOS_2_EDAD_3',\n",
       " 'RAZON_PASIVOS_ACTIVOS_2_EDAD_3',\n",
       " 'TIPO_VIVIENDA_1_TIPO_VIVIENDA_3',\n",
       " 'SCORE_1_TIPO_VIVIENDA_3',\n",
       " 'ACTIVOS_TOTAL_1_TIPO_VIVIENDA_3',\n",
       " 'SCORE_4_TIPO_VIVIENDA_3',\n",
       " 'ANTIGUEDAD_NEGOCIO_1_TIPO_VIVIENDA_3',\n",
       " 'ACTIVOS_TOTAL_3_TIPO_VIVIENDA_3',\n",
       " 'SCORE_3_TIPO_VIVIENDA_3',\n",
       " 'NUMERO_HIJOS_1_TIPO_VIVIENDA_3',\n",
       " 'EDAD_1_TIPO_VIVIENDA_3',\n",
       " 'TOTAL_PASIVOS_1_TIPO_VIVIENDA_3',\n",
       " 'ESTADO_CIVIL_1_TIPO_VIVIENDA_3',\n",
       " 'ACTIVOS_TOTAL_2_TIPO_VIVIENDA_3',\n",
       " 'CIIU_6_TIPO_VIVIENDA_3',\n",
       " 'TOTAL_PASIVOS_3_TIPO_VIVIENDA_3',\n",
       " 'SCORE_2_TIPO_VIVIENDA_3',\n",
       " 'EDAD_2_TIPO_VIVIENDA_3',\n",
       " 'CIIU_2_TIPO_VIVIENDA_3',\n",
       " 'CIUDAD_1_TIPO_VIVIENDA_3',\n",
       " 'CIUDAD_3_TIPO_VIVIENDA_3',\n",
       " 'VENTAS_2_TIPO_VIVIENDA_3',\n",
       " 'TOTAL_PASIVOS_2_TIPO_VIVIENDA_3',\n",
       " 'RAZON_PASIVOS_ACTIVOS_2_TIPO_VIVIENDA_3',\n",
       " 'TIPO_VIVIENDA_1_ACTIVOS_TOTAL_1',\n",
       " 'SCORE_1_ACTIVOS_TOTAL_1',\n",
       " 'SCORE_4_ACTIVOS_TOTAL_1',\n",
       " 'ANTIGUEDAD_NEGOCIO_1_ACTIVOS_TOTAL_1',\n",
       " 'ACTIVOS_TOTAL_3_ACTIVOS_TOTAL_1',\n",
       " 'SCORE_3_ACTIVOS_TOTAL_1',\n",
       " 'NUMERO_HIJOS_1_ACTIVOS_TOTAL_1',\n",
       " 'EDAD_1_ACTIVOS_TOTAL_1',\n",
       " 'TOTAL_PASIVOS_1_ACTIVOS_TOTAL_1',\n",
       " 'ESTADO_CIVIL_1_ACTIVOS_TOTAL_1',\n",
       " 'ACTIVOS_TOTAL_2_ACTIVOS_TOTAL_1',\n",
       " 'CIIU_6_ACTIVOS_TOTAL_1',\n",
       " 'TOTAL_PASIVOS_3_ACTIVOS_TOTAL_1',\n",
       " 'SCORE_2_ACTIVOS_TOTAL_1',\n",
       " 'EDAD_2_ACTIVOS_TOTAL_1',\n",
       " 'CIIU_2_ACTIVOS_TOTAL_1',\n",
       " 'CIUDAD_1_ACTIVOS_TOTAL_1',\n",
       " 'CIUDAD_3_ACTIVOS_TOTAL_1',\n",
       " 'VENTAS_2_ACTIVOS_TOTAL_1',\n",
       " 'TOTAL_PASIVOS_2_ACTIVOS_TOTAL_1',\n",
       " 'RAZON_PASIVOS_ACTIVOS_2_ACTIVOS_TOTAL_1',\n",
       " 'TIPO_VIVIENDA_1_TOTAL_PASIVOS_1',\n",
       " 'SCORE_1_TOTAL_PASIVOS_1',\n",
       " 'SCORE_4_TOTAL_PASIVOS_1',\n",
       " 'ANTIGUEDAD_NEGOCIO_1_TOTAL_PASIVOS_1',\n",
       " 'ACTIVOS_TOTAL_3_TOTAL_PASIVOS_1',\n",
       " 'SCORE_3_TOTAL_PASIVOS_1',\n",
       " 'NUMERO_HIJOS_1_TOTAL_PASIVOS_1',\n",
       " 'EDAD_1_TOTAL_PASIVOS_1',\n",
       " 'ESTADO_CIVIL_1_TOTAL_PASIVOS_1',\n",
       " 'ACTIVOS_TOTAL_2_TOTAL_PASIVOS_1',\n",
       " 'CIIU_6_TOTAL_PASIVOS_1',\n",
       " 'TOTAL_PASIVOS_3_TOTAL_PASIVOS_1',\n",
       " 'SCORE_2_TOTAL_PASIVOS_1',\n",
       " 'EDAD_2_TOTAL_PASIVOS_1',\n",
       " 'CIIU_2_TOTAL_PASIVOS_1',\n",
       " 'CIUDAD_1_TOTAL_PASIVOS_1',\n",
       " 'CIUDAD_3_TOTAL_PASIVOS_1',\n",
       " 'VENTAS_2_TOTAL_PASIVOS_1',\n",
       " 'TOTAL_PASIVOS_2_TOTAL_PASIVOS_1',\n",
       " 'RAZON_PASIVOS_ACTIVOS_2_TOTAL_PASIVOS_1',\n",
       " 'TIPO_VIVIENDA_1_RAZON_PASIVOS_ACTIVOS_2',\n",
       " 'SCORE_1_RAZON_PASIVOS_ACTIVOS_2',\n",
       " 'SCORE_4_RAZON_PASIVOS_ACTIVOS_2',\n",
       " 'ANTIGUEDAD_NEGOCIO_1_RAZON_PASIVOS_ACTIVOS_2',\n",
       " 'ACTIVOS_TOTAL_3_RAZON_PASIVOS_ACTIVOS_2',\n",
       " 'SCORE_3_RAZON_PASIVOS_ACTIVOS_2',\n",
       " 'NUMERO_HIJOS_1_RAZON_PASIVOS_ACTIVOS_2',\n",
       " 'EDAD_1_RAZON_PASIVOS_ACTIVOS_2',\n",
       " 'ESTADO_CIVIL_1_RAZON_PASIVOS_ACTIVOS_2',\n",
       " 'ACTIVOS_TOTAL_2_RAZON_PASIVOS_ACTIVOS_2',\n",
       " 'CIIU_6_RAZON_PASIVOS_ACTIVOS_2',\n",
       " 'TOTAL_PASIVOS_3_RAZON_PASIVOS_ACTIVOS_2',\n",
       " 'SCORE_2_RAZON_PASIVOS_ACTIVOS_2',\n",
       " 'EDAD_2_RAZON_PASIVOS_ACTIVOS_2',\n",
       " 'CIIU_2_RAZON_PASIVOS_ACTIVOS_2',\n",
       " 'CIUDAD_1_RAZON_PASIVOS_ACTIVOS_2',\n",
       " 'CIUDAD_3_RAZON_PASIVOS_ACTIVOS_2',\n",
       " 'VENTAS_2_RAZON_PASIVOS_ACTIVOS_2',\n",
       " 'TOTAL_PASIVOS_2_RAZON_PASIVOS_ACTIVOS_2']"
      ]
     },
     "execution_count": 122,
     "metadata": {},
     "output_type": "execute_result"
    }
   ],
   "source": [
    "list(df2.columns)"
   ]
  },
  {
   "cell_type": "code",
   "execution_count": 7,
   "id": "bbdb7923-f499-474c-9475-8e23f639b4b7",
   "metadata": {},
   "outputs": [],
   "source": [
    "variables=['EVENTO', 'ACTIVOS_TOTAL_3',\n",
    " 'ANTIGUEDAD_NEGOCIO_1',\n",
    " 'ANTIGUEDAD_NEGOCIO_1_TIPO_VINCULACION_1',\n",
    " 'CIIU_2_GENERO_1',\n",
    " 'CIUDAD_1_ACTIVOS_TOTAL_1',\n",
    " 'CIUDAD_1_TIPO_VIVIENDA_3',\n",
    " 'CIUDAD_1_TOTAL_PASIVOS_1',\n",
    " 'CIUDAD_3_EDAD_3',\n",
    " 'CIUDAD_3_TIPO_VINCULACION_1',\n",
    " 'EDAD_2_TIPO_VINCULACION_1',\n",
    " 'EDAD_3_TIPO_VINCULACION_1',\n",
    " 'ESTADO_CIVIL_1',\n",
    " 'ESTADO_CIVIL_1_TIPO_VINCULACION_1',\n",
    " 'SCORE_1',\n",
    " 'SCORE_3',\n",
    " 'SCORE_4',\n",
    " 'TIPO_VIVIENDA_1',\n",
    " 'TIPO_VIVIENDA_3',\n",
    " 'TOTAL_PASIVOS_1',\n",
    " #'TOTAL_PASIVOS_1_ACTIVOS_TOTAL_1',\n",
    " 'TOTAL_PASIVOS_2_RAZON_PASIVOS_ACTIVOS_2']\n",
    "\n",
    "lista=['EVENTO', 'ACTIVOS_TOTAL_3',\n",
    " 'ANTIGUEDAD_NEGOCIO_1',\n",
    " 'ANTIGUEDAD_NEGOCIO_1_TIPO_VINCULACION_1',\n",
    " 'CIIU_2_GENERO_1',\n",
    " 'CIUDAD_1_ACTIVOS_TOTAL_1',\n",
    " 'CIUDAD_1_TIPO_VIVIENDA_3',\n",
    " 'CIUDAD_1_TOTAL_PASIVOS_1',\n",
    " 'CIUDAD_3_EDAD_3',\n",
    " 'CIUDAD_3_TIPO_VINCULACION_1',\n",
    " 'EDAD_2_TIPO_VINCULACION_1',\n",
    " 'EDAD_3_TIPO_VINCULACION_1',\n",
    " 'ESTADO_CIVIL_1',\n",
    " 'ESTADO_CIVIL_1_TIPO_VINCULACION_1',\n",
    " 'SCORE_1',\n",
    " 'SCORE_3',\n",
    " 'SCORE_4',\n",
    " 'TIPO_VIVIENDA_1',\n",
    " 'TIPO_VIVIENDA_3',\n",
    " 'TOTAL_PASIVOS_1',\n",
    " #'TOTAL_PASIVOS_1_ACTIVOS_TOTAL_1',\n",
    " 'TOTAL_PASIVOS_2_RAZON_PASIVOS_ACTIVOS_2']"
   ]
  },
  {
   "cell_type": "code",
   "execution_count": 9,
   "id": "cdb1098c-d731-4020-a38c-f1546684716f",
   "metadata": {},
   "outputs": [],
   "source": [
    "#Solo cuando vaya a concatenar correr este código\n",
    "df1=df[variables]\n",
    "df3=df2[variables]\n",
    "\n",
    "df_concatenado = pd.concat([df1, df3], axis=0)\n",
    "df1=df_concatenado"
   ]
  },
  {
   "cell_type": "code",
   "execution_count": 13,
   "id": "9e32cc44-30cc-4513-b7f7-ec0755478fe2",
   "metadata": {},
   "outputs": [
    {
     "data": {
      "text/html": [
       "<div>\n",
       "<style scoped>\n",
       "    .dataframe tbody tr th:only-of-type {\n",
       "        vertical-align: middle;\n",
       "    }\n",
       "\n",
       "    .dataframe tbody tr th {\n",
       "        vertical-align: top;\n",
       "    }\n",
       "\n",
       "    .dataframe thead th {\n",
       "        text-align: right;\n",
       "    }\n",
       "</style>\n",
       "<table border=\"1\" class=\"dataframe\">\n",
       "  <thead>\n",
       "    <tr style=\"text-align: right;\">\n",
       "      <th></th>\n",
       "      <th>EVENTO</th>\n",
       "      <th>ACTIVOS_TOTAL_3</th>\n",
       "      <th>ANTIGUEDAD_NEGOCIO_1</th>\n",
       "      <th>ANTIGUEDAD_NEGOCIO_1_TIPO_VINCULACION_1</th>\n",
       "      <th>CIIU_2_GENERO_1</th>\n",
       "      <th>CIUDAD_1_ACTIVOS_TOTAL_1</th>\n",
       "      <th>CIUDAD_1_TIPO_VIVIENDA_3</th>\n",
       "      <th>CIUDAD_1_TOTAL_PASIVOS_1</th>\n",
       "      <th>CIUDAD_3_EDAD_3</th>\n",
       "      <th>CIUDAD_3_TIPO_VINCULACION_1</th>\n",
       "      <th>...</th>\n",
       "      <th>EDAD_3_TIPO_VINCULACION_1</th>\n",
       "      <th>ESTADO_CIVIL_1</th>\n",
       "      <th>ESTADO_CIVIL_1_TIPO_VINCULACION_1</th>\n",
       "      <th>SCORE_1</th>\n",
       "      <th>SCORE_3</th>\n",
       "      <th>SCORE_4</th>\n",
       "      <th>TIPO_VIVIENDA_1</th>\n",
       "      <th>TIPO_VIVIENDA_3</th>\n",
       "      <th>TOTAL_PASIVOS_1</th>\n",
       "      <th>TOTAL_PASIVOS_2_RAZON_PASIVOS_ACTIVOS_2</th>\n",
       "    </tr>\n",
       "  </thead>\n",
       "  <tbody>\n",
       "    <tr>\n",
       "      <th>0</th>\n",
       "      <td>0</td>\n",
       "      <td>1</td>\n",
       "      <td>1</td>\n",
       "      <td>1</td>\n",
       "      <td>1</td>\n",
       "      <td>0</td>\n",
       "      <td>0</td>\n",
       "      <td>0</td>\n",
       "      <td>0</td>\n",
       "      <td>0</td>\n",
       "      <td>...</td>\n",
       "      <td>1</td>\n",
       "      <td>0</td>\n",
       "      <td>0</td>\n",
       "      <td>0</td>\n",
       "      <td>0</td>\n",
       "      <td>0</td>\n",
       "      <td>0</td>\n",
       "      <td>0</td>\n",
       "      <td>0</td>\n",
       "      <td>1</td>\n",
       "    </tr>\n",
       "    <tr>\n",
       "      <th>1</th>\n",
       "      <td>0</td>\n",
       "      <td>0</td>\n",
       "      <td>1</td>\n",
       "      <td>1</td>\n",
       "      <td>0</td>\n",
       "      <td>0</td>\n",
       "      <td>0</td>\n",
       "      <td>0</td>\n",
       "      <td>1</td>\n",
       "      <td>1</td>\n",
       "      <td>...</td>\n",
       "      <td>1</td>\n",
       "      <td>1</td>\n",
       "      <td>1</td>\n",
       "      <td>0</td>\n",
       "      <td>1</td>\n",
       "      <td>0</td>\n",
       "      <td>1</td>\n",
       "      <td>0</td>\n",
       "      <td>1</td>\n",
       "      <td>0</td>\n",
       "    </tr>\n",
       "    <tr>\n",
       "      <th>2</th>\n",
       "      <td>0</td>\n",
       "      <td>1</td>\n",
       "      <td>1</td>\n",
       "      <td>1</td>\n",
       "      <td>0</td>\n",
       "      <td>0</td>\n",
       "      <td>0</td>\n",
       "      <td>0</td>\n",
       "      <td>0</td>\n",
       "      <td>0</td>\n",
       "      <td>...</td>\n",
       "      <td>1</td>\n",
       "      <td>0</td>\n",
       "      <td>0</td>\n",
       "      <td>0</td>\n",
       "      <td>0</td>\n",
       "      <td>0</td>\n",
       "      <td>1</td>\n",
       "      <td>0</td>\n",
       "      <td>0</td>\n",
       "      <td>1</td>\n",
       "    </tr>\n",
       "    <tr>\n",
       "      <th>3</th>\n",
       "      <td>0</td>\n",
       "      <td>0</td>\n",
       "      <td>0</td>\n",
       "      <td>0</td>\n",
       "      <td>0</td>\n",
       "      <td>0</td>\n",
       "      <td>0</td>\n",
       "      <td>0</td>\n",
       "      <td>0</td>\n",
       "      <td>0</td>\n",
       "      <td>...</td>\n",
       "      <td>0</td>\n",
       "      <td>0</td>\n",
       "      <td>0</td>\n",
       "      <td>0</td>\n",
       "      <td>1</td>\n",
       "      <td>0</td>\n",
       "      <td>1</td>\n",
       "      <td>0</td>\n",
       "      <td>0</td>\n",
       "      <td>1</td>\n",
       "    </tr>\n",
       "    <tr>\n",
       "      <th>4</th>\n",
       "      <td>0</td>\n",
       "      <td>0</td>\n",
       "      <td>0</td>\n",
       "      <td>0</td>\n",
       "      <td>0</td>\n",
       "      <td>0</td>\n",
       "      <td>0</td>\n",
       "      <td>0</td>\n",
       "      <td>1</td>\n",
       "      <td>0</td>\n",
       "      <td>...</td>\n",
       "      <td>0</td>\n",
       "      <td>1</td>\n",
       "      <td>0</td>\n",
       "      <td>0</td>\n",
       "      <td>0</td>\n",
       "      <td>0</td>\n",
       "      <td>0</td>\n",
       "      <td>0</td>\n",
       "      <td>0</td>\n",
       "      <td>0</td>\n",
       "    </tr>\n",
       "    <tr>\n",
       "      <th>...</th>\n",
       "      <td>...</td>\n",
       "      <td>...</td>\n",
       "      <td>...</td>\n",
       "      <td>...</td>\n",
       "      <td>...</td>\n",
       "      <td>...</td>\n",
       "      <td>...</td>\n",
       "      <td>...</td>\n",
       "      <td>...</td>\n",
       "      <td>...</td>\n",
       "      <td>...</td>\n",
       "      <td>...</td>\n",
       "      <td>...</td>\n",
       "      <td>...</td>\n",
       "      <td>...</td>\n",
       "      <td>...</td>\n",
       "      <td>...</td>\n",
       "      <td>...</td>\n",
       "      <td>...</td>\n",
       "      <td>...</td>\n",
       "      <td>...</td>\n",
       "    </tr>\n",
       "    <tr>\n",
       "      <th>1305</th>\n",
       "      <td>0</td>\n",
       "      <td>0</td>\n",
       "      <td>1</td>\n",
       "      <td>1</td>\n",
       "      <td>0</td>\n",
       "      <td>0</td>\n",
       "      <td>0</td>\n",
       "      <td>0</td>\n",
       "      <td>1</td>\n",
       "      <td>1</td>\n",
       "      <td>...</td>\n",
       "      <td>1</td>\n",
       "      <td>0</td>\n",
       "      <td>0</td>\n",
       "      <td>0</td>\n",
       "      <td>0</td>\n",
       "      <td>0</td>\n",
       "      <td>0</td>\n",
       "      <td>1</td>\n",
       "      <td>0</td>\n",
       "      <td>0</td>\n",
       "    </tr>\n",
       "    <tr>\n",
       "      <th>1306</th>\n",
       "      <td>0</td>\n",
       "      <td>0</td>\n",
       "      <td>1</td>\n",
       "      <td>1</td>\n",
       "      <td>0</td>\n",
       "      <td>1</td>\n",
       "      <td>0</td>\n",
       "      <td>0</td>\n",
       "      <td>0</td>\n",
       "      <td>0</td>\n",
       "      <td>...</td>\n",
       "      <td>0</td>\n",
       "      <td>1</td>\n",
       "      <td>1</td>\n",
       "      <td>0</td>\n",
       "      <td>1</td>\n",
       "      <td>0</td>\n",
       "      <td>1</td>\n",
       "      <td>0</td>\n",
       "      <td>0</td>\n",
       "      <td>0</td>\n",
       "    </tr>\n",
       "    <tr>\n",
       "      <th>1307</th>\n",
       "      <td>0</td>\n",
       "      <td>0</td>\n",
       "      <td>1</td>\n",
       "      <td>1</td>\n",
       "      <td>1</td>\n",
       "      <td>0</td>\n",
       "      <td>0</td>\n",
       "      <td>0</td>\n",
       "      <td>1</td>\n",
       "      <td>1</td>\n",
       "      <td>...</td>\n",
       "      <td>1</td>\n",
       "      <td>1</td>\n",
       "      <td>1</td>\n",
       "      <td>0</td>\n",
       "      <td>1</td>\n",
       "      <td>0</td>\n",
       "      <td>1</td>\n",
       "      <td>0</td>\n",
       "      <td>1</td>\n",
       "      <td>0</td>\n",
       "    </tr>\n",
       "    <tr>\n",
       "      <th>1308</th>\n",
       "      <td>0</td>\n",
       "      <td>0</td>\n",
       "      <td>0</td>\n",
       "      <td>0</td>\n",
       "      <td>1</td>\n",
       "      <td>0</td>\n",
       "      <td>0</td>\n",
       "      <td>0</td>\n",
       "      <td>0</td>\n",
       "      <td>1</td>\n",
       "      <td>...</td>\n",
       "      <td>0</td>\n",
       "      <td>1</td>\n",
       "      <td>1</td>\n",
       "      <td>0</td>\n",
       "      <td>1</td>\n",
       "      <td>0</td>\n",
       "      <td>0</td>\n",
       "      <td>1</td>\n",
       "      <td>1</td>\n",
       "      <td>0</td>\n",
       "    </tr>\n",
       "    <tr>\n",
       "      <th>1309</th>\n",
       "      <td>0</td>\n",
       "      <td>0</td>\n",
       "      <td>1</td>\n",
       "      <td>1</td>\n",
       "      <td>0</td>\n",
       "      <td>0</td>\n",
       "      <td>0</td>\n",
       "      <td>1</td>\n",
       "      <td>0</td>\n",
       "      <td>0</td>\n",
       "      <td>...</td>\n",
       "      <td>1</td>\n",
       "      <td>0</td>\n",
       "      <td>0</td>\n",
       "      <td>0</td>\n",
       "      <td>1</td>\n",
       "      <td>0</td>\n",
       "      <td>1</td>\n",
       "      <td>0</td>\n",
       "      <td>1</td>\n",
       "      <td>0</td>\n",
       "    </tr>\n",
       "  </tbody>\n",
       "</table>\n",
       "<p>20315 rows × 21 columns</p>\n",
       "</div>"
      ],
      "text/plain": [
       "      EVENTO  ACTIVOS_TOTAL_3  ANTIGUEDAD_NEGOCIO_1  \\\n",
       "0          0                1                     1   \n",
       "1          0                0                     1   \n",
       "2          0                1                     1   \n",
       "3          0                0                     0   \n",
       "4          0                0                     0   \n",
       "...      ...              ...                   ...   \n",
       "1305       0                0                     1   \n",
       "1306       0                0                     1   \n",
       "1307       0                0                     1   \n",
       "1308       0                0                     0   \n",
       "1309       0                0                     1   \n",
       "\n",
       "      ANTIGUEDAD_NEGOCIO_1_TIPO_VINCULACION_1  CIIU_2_GENERO_1  \\\n",
       "0                                           1                1   \n",
       "1                                           1                0   \n",
       "2                                           1                0   \n",
       "3                                           0                0   \n",
       "4                                           0                0   \n",
       "...                                       ...              ...   \n",
       "1305                                        1                0   \n",
       "1306                                        1                0   \n",
       "1307                                        1                1   \n",
       "1308                                        0                1   \n",
       "1309                                        1                0   \n",
       "\n",
       "      CIUDAD_1_ACTIVOS_TOTAL_1  CIUDAD_1_TIPO_VIVIENDA_3  \\\n",
       "0                            0                         0   \n",
       "1                            0                         0   \n",
       "2                            0                         0   \n",
       "3                            0                         0   \n",
       "4                            0                         0   \n",
       "...                        ...                       ...   \n",
       "1305                         0                         0   \n",
       "1306                         1                         0   \n",
       "1307                         0                         0   \n",
       "1308                         0                         0   \n",
       "1309                         0                         0   \n",
       "\n",
       "      CIUDAD_1_TOTAL_PASIVOS_1  CIUDAD_3_EDAD_3  CIUDAD_3_TIPO_VINCULACION_1  \\\n",
       "0                            0                0                            0   \n",
       "1                            0                1                            1   \n",
       "2                            0                0                            0   \n",
       "3                            0                0                            0   \n",
       "4                            0                1                            0   \n",
       "...                        ...              ...                          ...   \n",
       "1305                         0                1                            1   \n",
       "1306                         0                0                            0   \n",
       "1307                         0                1                            1   \n",
       "1308                         0                0                            1   \n",
       "1309                         1                0                            0   \n",
       "\n",
       "      ...  EDAD_3_TIPO_VINCULACION_1  ESTADO_CIVIL_1  \\\n",
       "0     ...                          1               0   \n",
       "1     ...                          1               1   \n",
       "2     ...                          1               0   \n",
       "3     ...                          0               0   \n",
       "4     ...                          0               1   \n",
       "...   ...                        ...             ...   \n",
       "1305  ...                          1               0   \n",
       "1306  ...                          0               1   \n",
       "1307  ...                          1               1   \n",
       "1308  ...                          0               1   \n",
       "1309  ...                          1               0   \n",
       "\n",
       "      ESTADO_CIVIL_1_TIPO_VINCULACION_1  SCORE_1  SCORE_3  SCORE_4  \\\n",
       "0                                     0        0        0        0   \n",
       "1                                     1        0        1        0   \n",
       "2                                     0        0        0        0   \n",
       "3                                     0        0        1        0   \n",
       "4                                     0        0        0        0   \n",
       "...                                 ...      ...      ...      ...   \n",
       "1305                                  0        0        0        0   \n",
       "1306                                  1        0        1        0   \n",
       "1307                                  1        0        1        0   \n",
       "1308                                  1        0        1        0   \n",
       "1309                                  0        0        1        0   \n",
       "\n",
       "      TIPO_VIVIENDA_1  TIPO_VIVIENDA_3  TOTAL_PASIVOS_1  \\\n",
       "0                   0                0                0   \n",
       "1                   1                0                1   \n",
       "2                   1                0                0   \n",
       "3                   1                0                0   \n",
       "4                   0                0                0   \n",
       "...               ...              ...              ...   \n",
       "1305                0                1                0   \n",
       "1306                1                0                0   \n",
       "1307                1                0                1   \n",
       "1308                0                1                1   \n",
       "1309                1                0                1   \n",
       "\n",
       "      TOTAL_PASIVOS_2_RAZON_PASIVOS_ACTIVOS_2  \n",
       "0                                           1  \n",
       "1                                           0  \n",
       "2                                           1  \n",
       "3                                           1  \n",
       "4                                           0  \n",
       "...                                       ...  \n",
       "1305                                        0  \n",
       "1306                                        0  \n",
       "1307                                        0  \n",
       "1308                                        0  \n",
       "1309                                        0  \n",
       "\n",
       "[20315 rows x 21 columns]"
      ]
     },
     "execution_count": 13,
     "metadata": {},
     "output_type": "execute_result"
    }
   ],
   "source": [
    "df1"
   ]
  },
  {
   "cell_type": "code",
   "execution_count": 77,
   "id": "0b2b476c-7b19-493a-b9cb-1993ed000240",
   "metadata": {},
   "outputs": [
    {
     "data": {
      "text/plain": [
       "<Figure size 600x400 with 0 Axes>"
      ]
     },
     "execution_count": 77,
     "metadata": {},
     "output_type": "execute_result"
    },
    {
     "data": {
      "text/plain": [
       "<AxesSubplot:xlabel='ACTIVOS_TOTAL_3', ylabel='proportion'>"
      ]
     },
     "execution_count": 77,
     "metadata": {},
     "output_type": "execute_result"
    },
    {
     "data": {
      "text/plain": [
       "Text(0.5, 0, 'ACTIVOS TOTALES MAYORES A 112.6 SMLV')"
      ]
     },
     "execution_count": 77,
     "metadata": {},
     "output_type": "execute_result"
    },
    {
     "data": {
      "text/plain": [
       "Text(0, 0.5, 'Proporción')"
      ]
     },
     "execution_count": 77,
     "metadata": {},
     "output_type": "execute_result"
    },
    {
     "data": {
      "text/plain": [
       "Text(0.5, 1.0, 'Gráfico de barras proporcionales')"
      ]
     },
     "execution_count": 77,
     "metadata": {},
     "output_type": "execute_result"
    },
    {
     "data": {
      "image/png": "[encoded data removed]",
      "text/plain": [
       "<Figure size 600x400 with 1 Axes>"
      ]
     },
     "metadata": {},
     "output_type": "display_data"
    }
   ],
   "source": [
    "import seaborn as sns\n",
    "import matplotlib.pyplot as plt\n",
    "\n",
    "# Obtener los conteos de cada combinación de categorías\n",
    "counts = df1.groupby(['ACTIVOS_TOTAL_3', 'EVENTO']).size().reset_index(name='count')\n",
    "\n",
    "# Calcular las frecuencias relativas\n",
    "counts['proportion'] = counts.groupby('ACTIVOS_TOTAL_3')['count'].transform(lambda x: x / x.sum())\n",
    "\n",
    "# Configurar el tamaño del gráfico\n",
    "plt.figure(figsize=(6, 4))\n",
    "\n",
    "# Crear el gráfico de barras proporcionales utilizando barplot de Seaborn\n",
    "sns.barplot(data=counts, x=\"ACTIVOS_TOTAL_3\", y='proportion', palette=['darkblue', 'darkviolet'], hue='EVENTO')\n",
    "\n",
    "# Personalizar el gráfico\n",
    "plt.xlabel('ACTIVOS TOTALES MAYORES A 112.6 SMLV')\n",
    "plt.ylabel('Proporción')\n",
    "plt.title('Gráfico de barras proporcionales')\n",
    "\n",
    "# Mostrar el gráfico\n",
    "plt.show()"
   ]
  },
  {
   "cell_type": "code",
   "execution_count": 78,
   "id": "fcce0ff7-591d-414c-bf22-f19d139486a1",
   "metadata": {},
   "outputs": [
    {
     "data": {
      "text/html": [
       "<div>\n",
       "<style scoped>\n",
       "    .dataframe tbody tr th:only-of-type {\n",
       "        vertical-align: middle;\n",
       "    }\n",
       "\n",
       "    .dataframe tbody tr th {\n",
       "        vertical-align: top;\n",
       "    }\n",
       "\n",
       "    .dataframe thead th {\n",
       "        text-align: right;\n",
       "    }\n",
       "</style>\n",
       "<table border=\"1\" class=\"dataframe\">\n",
       "  <thead>\n",
       "    <tr style=\"text-align: right;\">\n",
       "      <th></th>\n",
       "      <th>ACTIVOS_TOTAL_3</th>\n",
       "      <th>EVENTO</th>\n",
       "      <th>count</th>\n",
       "      <th>proportion</th>\n",
       "    </tr>\n",
       "  </thead>\n",
       "  <tbody>\n",
       "    <tr>\n",
       "      <th>0</th>\n",
       "      <td>0</td>\n",
       "      <td>0</td>\n",
       "      <td>12854</td>\n",
       "      <td>0.705992</td>\n",
       "    </tr>\n",
       "    <tr>\n",
       "      <th>1</th>\n",
       "      <td>0</td>\n",
       "      <td>1</td>\n",
       "      <td>5353</td>\n",
       "      <td>0.294008</td>\n",
       "    </tr>\n",
       "    <tr>\n",
       "      <th>2</th>\n",
       "      <td>1</td>\n",
       "      <td>0</td>\n",
       "      <td>1827</td>\n",
       "      <td>0.866698</td>\n",
       "    </tr>\n",
       "    <tr>\n",
       "      <th>3</th>\n",
       "      <td>1</td>\n",
       "      <td>1</td>\n",
       "      <td>281</td>\n",
       "      <td>0.133302</td>\n",
       "    </tr>\n",
       "  </tbody>\n",
       "</table>\n",
       "</div>"
      ],
      "text/plain": [
       "   ACTIVOS_TOTAL_3  EVENTO  count  proportion\n",
       "0                0       0  12854    0.705992\n",
       "1                0       1   5353    0.294008\n",
       "2                1       0   1827    0.866698\n",
       "3                1       1    281    0.133302"
      ]
     },
     "execution_count": 78,
     "metadata": {},
     "output_type": "execute_result"
    }
   ],
   "source": [
    "counts"
   ]
  },
  {
   "cell_type": "code",
   "execution_count": 79,
   "id": "d279479c-e543-4589-836b-546c724266f8",
   "metadata": {},
   "outputs": [
    {
     "data": {
      "text/plain": [
       "<Figure size 600x400 with 0 Axes>"
      ]
     },
     "execution_count": 79,
     "metadata": {},
     "output_type": "execute_result"
    },
    {
     "data": {
      "text/plain": [
       "<AxesSubplot:xlabel='ANTIGUEDAD_NEGOCIO_1', ylabel='proportion'>"
      ]
     },
     "execution_count": 79,
     "metadata": {},
     "output_type": "execute_result"
    },
    {
     "data": {
      "text/plain": [
       "Text(0.5, 0, 'ANTIGUEDAD NEGOCIO MAYOR A 60 MESES')"
      ]
     },
     "execution_count": 79,
     "metadata": {},
     "output_type": "execute_result"
    },
    {
     "data": {
      "text/plain": [
       "Text(0, 0.5, 'Proporción')"
      ]
     },
     "execution_count": 79,
     "metadata": {},
     "output_type": "execute_result"
    },
    {
     "data": {
      "text/plain": [
       "Text(0.5, 1.0, 'Gráfico de barras proporcionales')"
      ]
     },
     "execution_count": 79,
     "metadata": {},
     "output_type": "execute_result"
    },
    {
     "data": {
      "image/png": "[encoded data removed]",
      "text/plain": [
       "<Figure size 600x400 with 1 Axes>"
      ]
     },
     "metadata": {},
     "output_type": "display_data"
    }
   ],
   "source": [
    "counts = df1.groupby(['ANTIGUEDAD_NEGOCIO_1', 'EVENTO']).size().reset_index(name='count')\n",
    "\n",
    "# Calcular las frecuencias relativas\n",
    "counts['proportion'] = counts.groupby('ANTIGUEDAD_NEGOCIO_1')['count'].transform(lambda x: x / x.sum())\n",
    "\n",
    "# Configurar el tamaño del gráfico\n",
    "plt.figure(figsize=(6, 4))\n",
    "\n",
    "# Crear el gráfico de barras proporcionales utilizando barplot de Seaborn\n",
    "sns.barplot(data=counts, x=\"ANTIGUEDAD_NEGOCIO_1\", y='proportion', palette=['darkblue', 'darkviolet'], hue='EVENTO')\n",
    "\n",
    "# Personalizar el gráfico\n",
    "plt.xlabel('ANTIGUEDAD NEGOCIO MAYOR A 60 MESES')\n",
    "plt.ylabel('Proporción')\n",
    "plt.title('Gráfico de barras proporcionales')\n",
    "\n",
    "# Mostrar el gráfico\n",
    "plt.show()"
   ]
  },
  {
   "cell_type": "code",
   "execution_count": 80,
   "id": "7e9c46e4-60de-4069-9f8c-a99803d28694",
   "metadata": {},
   "outputs": [
    {
     "data": {
      "text/html": [
       "<div>\n",
       "<style scoped>\n",
       "    .dataframe tbody tr th:only-of-type {\n",
       "        vertical-align: middle;\n",
       "    }\n",
       "\n",
       "    .dataframe tbody tr th {\n",
       "        vertical-align: top;\n",
       "    }\n",
       "\n",
       "    .dataframe thead th {\n",
       "        text-align: right;\n",
       "    }\n",
       "</style>\n",
       "<table border=\"1\" class=\"dataframe\">\n",
       "  <thead>\n",
       "    <tr style=\"text-align: right;\">\n",
       "      <th></th>\n",
       "      <th>ANTIGUEDAD_NEGOCIO_1</th>\n",
       "      <th>EVENTO</th>\n",
       "      <th>count</th>\n",
       "      <th>proportion</th>\n",
       "    </tr>\n",
       "  </thead>\n",
       "  <tbody>\n",
       "    <tr>\n",
       "      <th>0</th>\n",
       "      <td>0</td>\n",
       "      <td>0</td>\n",
       "      <td>5849</td>\n",
       "      <td>0.660755</td>\n",
       "    </tr>\n",
       "    <tr>\n",
       "      <th>1</th>\n",
       "      <td>0</td>\n",
       "      <td>1</td>\n",
       "      <td>3003</td>\n",
       "      <td>0.339245</td>\n",
       "    </tr>\n",
       "    <tr>\n",
       "      <th>2</th>\n",
       "      <td>1</td>\n",
       "      <td>0</td>\n",
       "      <td>8832</td>\n",
       "      <td>0.770479</td>\n",
       "    </tr>\n",
       "    <tr>\n",
       "      <th>3</th>\n",
       "      <td>1</td>\n",
       "      <td>1</td>\n",
       "      <td>2631</td>\n",
       "      <td>0.229521</td>\n",
       "    </tr>\n",
       "  </tbody>\n",
       "</table>\n",
       "</div>"
      ],
      "text/plain": [
       "   ANTIGUEDAD_NEGOCIO_1  EVENTO  count  proportion\n",
       "0                     0       0   5849    0.660755\n",
       "1                     0       1   3003    0.339245\n",
       "2                     1       0   8832    0.770479\n",
       "3                     1       1   2631    0.229521"
      ]
     },
     "execution_count": 80,
     "metadata": {},
     "output_type": "execute_result"
    }
   ],
   "source": [
    "counts"
   ]
  },
  {
   "cell_type": "code",
   "execution_count": 81,
   "id": "778bf043-6da7-4ba1-8c38-6440a1793028",
   "metadata": {},
   "outputs": [
    {
     "data": {
      "text/plain": [
       "<Figure size 600x400 with 0 Axes>"
      ]
     },
     "execution_count": 81,
     "metadata": {},
     "output_type": "execute_result"
    },
    {
     "data": {
      "text/plain": [
       "<AxesSubplot:xlabel='ANTIGUEDAD_NEGOCIO_1_TIPO_VINCULACION_1', ylabel='proportion'>"
      ]
     },
     "execution_count": 81,
     "metadata": {},
     "output_type": "execute_result"
    },
    {
     "data": {
      "text/plain": [
       "Text(0.5, 0, 'ANTIGUEDAD NEGOCIO MAYOR A 60 MESES Y RENOVACIÓN')"
      ]
     },
     "execution_count": 81,
     "metadata": {},
     "output_type": "execute_result"
    },
    {
     "data": {
      "text/plain": [
       "Text(0, 0.5, 'Proporción')"
      ]
     },
     "execution_count": 81,
     "metadata": {},
     "output_type": "execute_result"
    },
    {
     "data": {
      "text/plain": [
       "Text(0.5, 1.0, 'Gráfico de barras proporcionales')"
      ]
     },
     "execution_count": 81,
     "metadata": {},
     "output_type": "execute_result"
    },
    {
     "data": {
      "image/png": "[encoded data removed]",
      "text/plain": [
       "<Figure size 600x400 with 1 Axes>"
      ]
     },
     "metadata": {},
     "output_type": "display_data"
    }
   ],
   "source": [
    "# Obtener los conteos de cada combinación de categorías\n",
    "counts = df1.groupby(['ANTIGUEDAD_NEGOCIO_1_TIPO_VINCULACION_1', 'EVENTO']).size().reset_index(name='count')\n",
    "\n",
    "# Calcular las frecuencias relativas\n",
    "counts['proportion'] = counts.groupby('ANTIGUEDAD_NEGOCIO_1_TIPO_VINCULACION_1')['count'].transform(lambda x: x / x.sum())\n",
    "\n",
    "# Configurar el tamaño del gráfico\n",
    "plt.figure(figsize=(6, 4))\n",
    "\n",
    "# Crear el gráfico de barras proporcionales utilizando barplot de Seaborn\n",
    "sns.barplot(data=counts, x=\"ANTIGUEDAD_NEGOCIO_1_TIPO_VINCULACION_1\", y='proportion', palette=['darkblue', 'darkviolet'], hue='EVENTO')\n",
    "\n",
    "# Personalizar el gráfico\n",
    "plt.xlabel('ANTIGUEDAD NEGOCIO MAYOR A 60 MESES Y RENOVACIÓN')\n",
    "plt.ylabel('Proporción')\n",
    "plt.title('Gráfico de barras proporcionales')\n",
    "\n",
    "# Mostrar el gráfico\n",
    "plt.show()"
   ]
  },
  {
   "cell_type": "code",
   "execution_count": 82,
   "id": "a9baae41-402a-4f0d-baee-4a70475509c0",
   "metadata": {},
   "outputs": [
    {
     "data": {
      "text/html": [
       "<div>\n",
       "<style scoped>\n",
       "    .dataframe tbody tr th:only-of-type {\n",
       "        vertical-align: middle;\n",
       "    }\n",
       "\n",
       "    .dataframe tbody tr th {\n",
       "        vertical-align: top;\n",
       "    }\n",
       "\n",
       "    .dataframe thead th {\n",
       "        text-align: right;\n",
       "    }\n",
       "</style>\n",
       "<table border=\"1\" class=\"dataframe\">\n",
       "  <thead>\n",
       "    <tr style=\"text-align: right;\">\n",
       "      <th></th>\n",
       "      <th>ANTIGUEDAD_NEGOCIO_1_TIPO_VINCULACION_1</th>\n",
       "      <th>EVENTO</th>\n",
       "      <th>count</th>\n",
       "      <th>proportion</th>\n",
       "    </tr>\n",
       "  </thead>\n",
       "  <tbody>\n",
       "    <tr>\n",
       "      <th>0</th>\n",
       "      <td>0</td>\n",
       "      <td>0</td>\n",
       "      <td>10492</td>\n",
       "      <td>0.682762</td>\n",
       "    </tr>\n",
       "    <tr>\n",
       "      <th>1</th>\n",
       "      <td>0</td>\n",
       "      <td>1</td>\n",
       "      <td>4875</td>\n",
       "      <td>0.317238</td>\n",
       "    </tr>\n",
       "    <tr>\n",
       "      <th>2</th>\n",
       "      <td>1</td>\n",
       "      <td>0</td>\n",
       "      <td>4189</td>\n",
       "      <td>0.846605</td>\n",
       "    </tr>\n",
       "    <tr>\n",
       "      <th>3</th>\n",
       "      <td>1</td>\n",
       "      <td>1</td>\n",
       "      <td>759</td>\n",
       "      <td>0.153395</td>\n",
       "    </tr>\n",
       "  </tbody>\n",
       "</table>\n",
       "</div>"
      ],
      "text/plain": [
       "   ANTIGUEDAD_NEGOCIO_1_TIPO_VINCULACION_1  EVENTO  count  proportion\n",
       "0                                        0       0  10492    0.682762\n",
       "1                                        0       1   4875    0.317238\n",
       "2                                        1       0   4189    0.846605\n",
       "3                                        1       1    759    0.153395"
      ]
     },
     "execution_count": 82,
     "metadata": {},
     "output_type": "execute_result"
    }
   ],
   "source": [
    "counts"
   ]
  },
  {
   "cell_type": "code",
   "execution_count": 83,
   "id": "c05f780b-3963-40aa-919c-e60e0bac4389",
   "metadata": {},
   "outputs": [
    {
     "data": {
      "text/plain": [
       "<Figure size 600x400 with 0 Axes>"
      ]
     },
     "execution_count": 83,
     "metadata": {},
     "output_type": "execute_result"
    },
    {
     "data": {
      "text/plain": [
       "<AxesSubplot:xlabel='CIIU_2_GENERO_1', ylabel='proportion'>"
      ]
     },
     "execution_count": 83,
     "metadata": {},
     "output_type": "execute_result"
    },
    {
     "data": {
      "text/plain": [
       "Text(0.5, 0, 'CIIU ALTA FREC. PROPORCION MALOS>=27% Y MASCULINO')"
      ]
     },
     "execution_count": 83,
     "metadata": {},
     "output_type": "execute_result"
    },
    {
     "data": {
      "text/plain": [
       "Text(0, 0.5, 'Proporción')"
      ]
     },
     "execution_count": 83,
     "metadata": {},
     "output_type": "execute_result"
    },
    {
     "data": {
      "text/plain": [
       "Text(0.5, 1.0, 'Gráfico de barras proporcionales')"
      ]
     },
     "execution_count": 83,
     "metadata": {},
     "output_type": "execute_result"
    },
    {
     "data": {
      "image/png": "[encoded data removed]",
      "text/plain": [
       "<Figure size 600x400 with 1 Axes>"
      ]
     },
     "metadata": {},
     "output_type": "display_data"
    }
   ],
   "source": [
    "# Obtener los conteos de cada combinación de categorías\n",
    "counts = df1.groupby(['CIIU_2_GENERO_1', 'EVENTO']).size().reset_index(name='count')\n",
    "\n",
    "# Calcular las frecuencias relativas\n",
    "counts['proportion'] = counts.groupby('CIIU_2_GENERO_1')['count'].transform(lambda x: x / x.sum())\n",
    "\n",
    "# Configurar el tamaño del gráfico\n",
    "plt.figure(figsize=(6, 4))\n",
    "\n",
    "# Crear el gráfico de barras proporcionales utilizando barplot de Seaborn\n",
    "sns.barplot(data=counts, x=\"CIIU_2_GENERO_1\", y='proportion', palette=['darkblue', 'darkviolet'], hue='EVENTO')\n",
    "\n",
    "# Personalizar el gráfico\n",
    "plt.xlabel('CIIU ALTA FREC. PROPORCION MALOS>=27% Y MASCULINO')\n",
    "plt.ylabel('Proporción')\n",
    "plt.title('Gráfico de barras proporcionales')\n",
    "\n",
    "# Mostrar el gráfico\n",
    "plt.show()"
   ]
  },
  {
   "cell_type": "code",
   "execution_count": 84,
   "id": "858b8e25-7629-4545-becf-fc5a1db4a503",
   "metadata": {},
   "outputs": [
    {
     "data": {
      "text/html": [
       "<div>\n",
       "<style scoped>\n",
       "    .dataframe tbody tr th:only-of-type {\n",
       "        vertical-align: middle;\n",
       "    }\n",
       "\n",
       "    .dataframe tbody tr th {\n",
       "        vertical-align: top;\n",
       "    }\n",
       "\n",
       "    .dataframe thead th {\n",
       "        text-align: right;\n",
       "    }\n",
       "</style>\n",
       "<table border=\"1\" class=\"dataframe\">\n",
       "  <thead>\n",
       "    <tr style=\"text-align: right;\">\n",
       "      <th></th>\n",
       "      <th>CIIU_2_GENERO_1</th>\n",
       "      <th>EVENTO</th>\n",
       "      <th>count</th>\n",
       "      <th>proportion</th>\n",
       "    </tr>\n",
       "  </thead>\n",
       "  <tbody>\n",
       "    <tr>\n",
       "      <th>0</th>\n",
       "      <td>0</td>\n",
       "      <td>0</td>\n",
       "      <td>12493</td>\n",
       "      <td>0.736746</td>\n",
       "    </tr>\n",
       "    <tr>\n",
       "      <th>1</th>\n",
       "      <td>0</td>\n",
       "      <td>1</td>\n",
       "      <td>4464</td>\n",
       "      <td>0.263254</td>\n",
       "    </tr>\n",
       "    <tr>\n",
       "      <th>2</th>\n",
       "      <td>1</td>\n",
       "      <td>0</td>\n",
       "      <td>2188</td>\n",
       "      <td>0.651578</td>\n",
       "    </tr>\n",
       "    <tr>\n",
       "      <th>3</th>\n",
       "      <td>1</td>\n",
       "      <td>1</td>\n",
       "      <td>1170</td>\n",
       "      <td>0.348422</td>\n",
       "    </tr>\n",
       "  </tbody>\n",
       "</table>\n",
       "</div>"
      ],
      "text/plain": [
       "   CIIU_2_GENERO_1  EVENTO  count  proportion\n",
       "0                0       0  12493    0.736746\n",
       "1                0       1   4464    0.263254\n",
       "2                1       0   2188    0.651578\n",
       "3                1       1   1170    0.348422"
      ]
     },
     "execution_count": 84,
     "metadata": {},
     "output_type": "execute_result"
    }
   ],
   "source": [
    "counts"
   ]
  },
  {
   "cell_type": "code",
   "execution_count": 85,
   "id": "f395def6-5e2f-47a4-8b2d-a8fe77657d2b",
   "metadata": {},
   "outputs": [
    {
     "data": {
      "text/plain": [
       "<Figure size 600x400 with 0 Axes>"
      ]
     },
     "execution_count": 85,
     "metadata": {},
     "output_type": "execute_result"
    },
    {
     "data": {
      "text/plain": [
       "<AxesSubplot:xlabel='CIUDAD_1_ACTIVOS_TOTAL_1', ylabel='proportion'>"
      ]
     },
     "execution_count": 85,
     "metadata": {},
     "output_type": "execute_result"
    },
    {
     "data": {
      "text/plain": [
       "Text(0.5, 0, 'CIUDAD:BOGOTA, BUCARAMANGA, IBAGUE, MONTERIA, SINCELEJO,\\n VALLEDUPAR Y ACTIVOS TOTAL<=22.02 SMLV')"
      ]
     },
     "execution_count": 85,
     "metadata": {},
     "output_type": "execute_result"
    },
    {
     "data": {
      "text/plain": [
       "Text(0, 0.5, 'Proporción')"
      ]
     },
     "execution_count": 85,
     "metadata": {},
     "output_type": "execute_result"
    },
    {
     "data": {
      "text/plain": [
       "Text(0.5, 1.0, 'Gráfico de barras proporcionales')"
      ]
     },
     "execution_count": 85,
     "metadata": {},
     "output_type": "execute_result"
    },
    {
     "data": {
      "image/png": "[encoded data removed]",
      "text/plain": [
       "<Figure size 600x400 with 1 Axes>"
      ]
     },
     "metadata": {},
     "output_type": "display_data"
    }
   ],
   "source": [
    "# Obtener los conteos de cada combinación de categorías\n",
    "counts = df1.groupby(['CIUDAD_1_ACTIVOS_TOTAL_1', 'EVENTO']).size().reset_index(name='count')\n",
    "\n",
    "# Calcular las frecuencias relativas\n",
    "counts['proportion'] = counts.groupby('CIUDAD_1_ACTIVOS_TOTAL_1')['count'].transform(lambda x: x / x.sum())\n",
    "\n",
    "# Configurar el tamaño del gráfico\n",
    "plt.figure(figsize=(6, 4))\n",
    "\n",
    "# Crear el gráfico de barras proporcionales utilizando barplot de Seaborn\n",
    "sns.barplot(data=counts, x=\"CIUDAD_1_ACTIVOS_TOTAL_1\", y='proportion', palette=['darkblue', 'darkviolet'], hue='EVENTO')\n",
    "\n",
    "# Personalizar el gráfico\n",
    "plt.xlabel('CIUDAD:BOGOTA, BUCARAMANGA, IBAGUE, MONTERIA, SINCELEJO,\\n VALLEDUPAR Y ACTIVOS TOTAL<=22.02 SMLV')\n",
    "plt.ylabel('Proporción')\n",
    "plt.title('Gráfico de barras proporcionales')\n",
    "\n",
    "# Mostrar el gráfico\n",
    "plt.show()"
   ]
  },
  {
   "cell_type": "code",
   "execution_count": 86,
   "id": "8bff9562-a324-4a19-a8d2-442a9f6ab254",
   "metadata": {},
   "outputs": [
    {
     "data": {
      "text/html": [
       "<div>\n",
       "<style scoped>\n",
       "    .dataframe tbody tr th:only-of-type {\n",
       "        vertical-align: middle;\n",
       "    }\n",
       "\n",
       "    .dataframe tbody tr th {\n",
       "        vertical-align: top;\n",
       "    }\n",
       "\n",
       "    .dataframe thead th {\n",
       "        text-align: right;\n",
       "    }\n",
       "</style>\n",
       "<table border=\"1\" class=\"dataframe\">\n",
       "  <thead>\n",
       "    <tr style=\"text-align: right;\">\n",
       "      <th></th>\n",
       "      <th>CIUDAD_1_ACTIVOS_TOTAL_1</th>\n",
       "      <th>EVENTO</th>\n",
       "      <th>count</th>\n",
       "      <th>proportion</th>\n",
       "    </tr>\n",
       "  </thead>\n",
       "  <tbody>\n",
       "    <tr>\n",
       "      <th>0</th>\n",
       "      <td>0</td>\n",
       "      <td>0</td>\n",
       "      <td>11165</td>\n",
       "      <td>0.759679</td>\n",
       "    </tr>\n",
       "    <tr>\n",
       "      <th>1</th>\n",
       "      <td>0</td>\n",
       "      <td>1</td>\n",
       "      <td>3532</td>\n",
       "      <td>0.240321</td>\n",
       "    </tr>\n",
       "    <tr>\n",
       "      <th>2</th>\n",
       "      <td>1</td>\n",
       "      <td>0</td>\n",
       "      <td>3516</td>\n",
       "      <td>0.625845</td>\n",
       "    </tr>\n",
       "    <tr>\n",
       "      <th>3</th>\n",
       "      <td>1</td>\n",
       "      <td>1</td>\n",
       "      <td>2102</td>\n",
       "      <td>0.374155</td>\n",
       "    </tr>\n",
       "  </tbody>\n",
       "</table>\n",
       "</div>"
      ],
      "text/plain": [
       "   CIUDAD_1_ACTIVOS_TOTAL_1  EVENTO  count  proportion\n",
       "0                         0       0  11165    0.759679\n",
       "1                         0       1   3532    0.240321\n",
       "2                         1       0   3516    0.625845\n",
       "3                         1       1   2102    0.374155"
      ]
     },
     "execution_count": 86,
     "metadata": {},
     "output_type": "execute_result"
    }
   ],
   "source": [
    "counts"
   ]
  },
  {
   "cell_type": "code",
   "execution_count": 87,
   "id": "11b8c91f-4a0d-4f5d-b4ac-951d3cf46586",
   "metadata": {},
   "outputs": [
    {
     "data": {
      "text/plain": [
       "<Figure size 600x400 with 0 Axes>"
      ]
     },
     "execution_count": 87,
     "metadata": {},
     "output_type": "execute_result"
    },
    {
     "data": {
      "text/plain": [
       "<AxesSubplot:xlabel='CIUDAD_1_TIPO_VIVIENDA_3', ylabel='proportion'>"
      ]
     },
     "execution_count": 87,
     "metadata": {},
     "output_type": "execute_result"
    },
    {
     "data": {
      "text/plain": [
       "Text(0.5, 0, 'CIUDAD:BOGOTA, BUCARAMANGA, IBAGUE, MONTERIA,\\n SINCELEJO, VALLEDUPAR Y VIVIENDA ARRENDADA')"
      ]
     },
     "execution_count": 87,
     "metadata": {},
     "output_type": "execute_result"
    },
    {
     "data": {
      "text/plain": [
       "Text(0, 0.5, 'Proporción')"
      ]
     },
     "execution_count": 87,
     "metadata": {},
     "output_type": "execute_result"
    },
    {
     "data": {
      "text/plain": [
       "Text(0.5, 1.0, 'Gráfico de barras proporcionales')"
      ]
     },
     "execution_count": 87,
     "metadata": {},
     "output_type": "execute_result"
    },
    {
     "data": {
      "image/png": "[encoded data removed]",
      "text/plain": [
       "<Figure size 600x400 with 1 Axes>"
      ]
     },
     "metadata": {},
     "output_type": "display_data"
    }
   ],
   "source": [
    "# Obtener los conteos de cada combinación de categorías\n",
    "counts = df1.groupby(['CIUDAD_1_TIPO_VIVIENDA_3', 'EVENTO']).size().reset_index(name='count')\n",
    "\n",
    "# Calcular las frecuencias relativas\n",
    "counts['proportion'] = counts.groupby('CIUDAD_1_TIPO_VIVIENDA_3')['count'].transform(lambda x: x / x.sum())\n",
    "\n",
    "# Configurar el tamaño del gráfico\n",
    "plt.figure(figsize=(6, 4))\n",
    "\n",
    "# Crear el gráfico de barras proporcionales utilizando barplot de Seaborn\n",
    "sns.barplot(data=counts, x=\"CIUDAD_1_TIPO_VIVIENDA_3\", y='proportion', palette=['darkblue', 'darkviolet'], hue='EVENTO')\n",
    "\n",
    "# Personalizar el gráfico\n",
    "plt.xlabel('CIUDAD:BOGOTA, BUCARAMANGA, IBAGUE, MONTERIA,\\n SINCELEJO, VALLEDUPAR Y VIVIENDA ARRENDADA')\n",
    "plt.ylabel('Proporción')\n",
    "plt.title('Gráfico de barras proporcionales')\n",
    "\n",
    "# Mostrar el gráfico\n",
    "plt.show()"
   ]
  },
  {
   "cell_type": "code",
   "execution_count": 88,
   "id": "af84d5f5-dcec-479c-b8d4-bc2eef58ae3f",
   "metadata": {},
   "outputs": [
    {
     "data": {
      "text/html": [
       "<div>\n",
       "<style scoped>\n",
       "    .dataframe tbody tr th:only-of-type {\n",
       "        vertical-align: middle;\n",
       "    }\n",
       "\n",
       "    .dataframe tbody tr th {\n",
       "        vertical-align: top;\n",
       "    }\n",
       "\n",
       "    .dataframe thead th {\n",
       "        text-align: right;\n",
       "    }\n",
       "</style>\n",
       "<table border=\"1\" class=\"dataframe\">\n",
       "  <thead>\n",
       "    <tr style=\"text-align: right;\">\n",
       "      <th></th>\n",
       "      <th>CIUDAD_1_TIPO_VIVIENDA_3</th>\n",
       "      <th>EVENTO</th>\n",
       "      <th>count</th>\n",
       "      <th>proportion</th>\n",
       "    </tr>\n",
       "  </thead>\n",
       "  <tbody>\n",
       "    <tr>\n",
       "      <th>0</th>\n",
       "      <td>0</td>\n",
       "      <td>0</td>\n",
       "      <td>12422</td>\n",
       "      <td>0.742454</td>\n",
       "    </tr>\n",
       "    <tr>\n",
       "      <th>1</th>\n",
       "      <td>0</td>\n",
       "      <td>1</td>\n",
       "      <td>4309</td>\n",
       "      <td>0.257546</td>\n",
       "    </tr>\n",
       "    <tr>\n",
       "      <th>2</th>\n",
       "      <td>1</td>\n",
       "      <td>0</td>\n",
       "      <td>2259</td>\n",
       "      <td>0.630301</td>\n",
       "    </tr>\n",
       "    <tr>\n",
       "      <th>3</th>\n",
       "      <td>1</td>\n",
       "      <td>1</td>\n",
       "      <td>1325</td>\n",
       "      <td>0.369699</td>\n",
       "    </tr>\n",
       "  </tbody>\n",
       "</table>\n",
       "</div>"
      ],
      "text/plain": [
       "   CIUDAD_1_TIPO_VIVIENDA_3  EVENTO  count  proportion\n",
       "0                         0       0  12422    0.742454\n",
       "1                         0       1   4309    0.257546\n",
       "2                         1       0   2259    0.630301\n",
       "3                         1       1   1325    0.369699"
      ]
     },
     "execution_count": 88,
     "metadata": {},
     "output_type": "execute_result"
    }
   ],
   "source": [
    "counts"
   ]
  },
  {
   "cell_type": "code",
   "execution_count": 89,
   "id": "25f9313b-f458-461a-9cdc-50be7ffb80fd",
   "metadata": {},
   "outputs": [
    {
     "data": {
      "text/plain": [
       "<Figure size 600x400 with 0 Axes>"
      ]
     },
     "execution_count": 89,
     "metadata": {},
     "output_type": "execute_result"
    },
    {
     "data": {
      "text/plain": [
       "<AxesSubplot:xlabel='CIUDAD_1_TOTAL_PASIVOS_1', ylabel='proportion'>"
      ]
     },
     "execution_count": 89,
     "metadata": {},
     "output_type": "execute_result"
    },
    {
     "data": {
      "text/plain": [
       "Text(0.5, 0, 'CIUDAD:BOGOTA, BUCARAMANGA, IBAGUE, MONTERIA,\\n SINCELEJO, VALLEDUPAR Y TOTAL PASIVOS <= 2.89 SMLV')"
      ]
     },
     "execution_count": 89,
     "metadata": {},
     "output_type": "execute_result"
    },
    {
     "data": {
      "text/plain": [
       "Text(0, 0.5, 'Proporción')"
      ]
     },
     "execution_count": 89,
     "metadata": {},
     "output_type": "execute_result"
    },
    {
     "data": {
      "text/plain": [
       "Text(0.5, 1.0, 'Gráfico de barras proporcionales')"
      ]
     },
     "execution_count": 89,
     "metadata": {},
     "output_type": "execute_result"
    },
    {
     "data": {
      "image/png": "[encoded data removed]",
      "text/plain": [
       "<Figure size 600x400 with 1 Axes>"
      ]
     },
     "metadata": {},
     "output_type": "display_data"
    }
   ],
   "source": [
    "counts = df1.groupby(['CIUDAD_1_TOTAL_PASIVOS_1', 'EVENTO']).size().reset_index(name='count')\n",
    "\n",
    "# Calcular las frecuencias relativas\n",
    "counts['proportion'] = counts.groupby('CIUDAD_1_TOTAL_PASIVOS_1')['count'].transform(lambda x: x / x.sum())\n",
    "\n",
    "# Configurar el tamaño del gráfico\n",
    "plt.figure(figsize=(6, 4))\n",
    "\n",
    "# Crear el gráfico de barras proporcionales utilizando barplot de Seaborn\n",
    "sns.barplot(data=counts, x=\"CIUDAD_1_TOTAL_PASIVOS_1\", y='proportion', palette=['darkblue', 'darkviolet'], hue='EVENTO')\n",
    "\n",
    "# Personalizar el gráfico\n",
    "plt.xlabel('CIUDAD:BOGOTA, BUCARAMANGA, IBAGUE, MONTERIA,\\n SINCELEJO, VALLEDUPAR Y TOTAL PASIVOS <= 2.89 SMLV')\n",
    "plt.ylabel('Proporción')\n",
    "plt.title('Gráfico de barras proporcionales')\n",
    "\n",
    "# Mostrar el gráfico\n",
    "plt.show()"
   ]
  },
  {
   "cell_type": "code",
   "execution_count": 90,
   "id": "2a14194f-27d0-48a4-bc27-89e4a5c9c092",
   "metadata": {},
   "outputs": [
    {
     "data": {
      "text/html": [
       "<div>\n",
       "<style scoped>\n",
       "    .dataframe tbody tr th:only-of-type {\n",
       "        vertical-align: middle;\n",
       "    }\n",
       "\n",
       "    .dataframe tbody tr th {\n",
       "        vertical-align: top;\n",
       "    }\n",
       "\n",
       "    .dataframe thead th {\n",
       "        text-align: right;\n",
       "    }\n",
       "</style>\n",
       "<table border=\"1\" class=\"dataframe\">\n",
       "  <thead>\n",
       "    <tr style=\"text-align: right;\">\n",
       "      <th></th>\n",
       "      <th>CIUDAD_1_TOTAL_PASIVOS_1</th>\n",
       "      <th>EVENTO</th>\n",
       "      <th>count</th>\n",
       "      <th>proportion</th>\n",
       "    </tr>\n",
       "  </thead>\n",
       "  <tbody>\n",
       "    <tr>\n",
       "      <th>0</th>\n",
       "      <td>0</td>\n",
       "      <td>0</td>\n",
       "      <td>11009</td>\n",
       "      <td>0.752495</td>\n",
       "    </tr>\n",
       "    <tr>\n",
       "      <th>1</th>\n",
       "      <td>0</td>\n",
       "      <td>1</td>\n",
       "      <td>3621</td>\n",
       "      <td>0.247505</td>\n",
       "    </tr>\n",
       "    <tr>\n",
       "      <th>2</th>\n",
       "      <td>1</td>\n",
       "      <td>0</td>\n",
       "      <td>3672</td>\n",
       "      <td>0.645910</td>\n",
       "    </tr>\n",
       "    <tr>\n",
       "      <th>3</th>\n",
       "      <td>1</td>\n",
       "      <td>1</td>\n",
       "      <td>2013</td>\n",
       "      <td>0.354090</td>\n",
       "    </tr>\n",
       "  </tbody>\n",
       "</table>\n",
       "</div>"
      ],
      "text/plain": [
       "   CIUDAD_1_TOTAL_PASIVOS_1  EVENTO  count  proportion\n",
       "0                         0       0  11009    0.752495\n",
       "1                         0       1   3621    0.247505\n",
       "2                         1       0   3672    0.645910\n",
       "3                         1       1   2013    0.354090"
      ]
     },
     "execution_count": 90,
     "metadata": {},
     "output_type": "execute_result"
    }
   ],
   "source": [
    "counts"
   ]
  },
  {
   "cell_type": "code",
   "execution_count": 91,
   "id": "059d22f7-cc3a-4de2-8b31-be868beec312",
   "metadata": {},
   "outputs": [
    {
     "data": {
      "text/plain": [
       "<Figure size 600x400 with 0 Axes>"
      ]
     },
     "execution_count": 91,
     "metadata": {},
     "output_type": "execute_result"
    },
    {
     "data": {
      "text/plain": [
       "<AxesSubplot:xlabel='CIUDAD_3_EDAD_3', ylabel='proportion'>"
      ]
     },
     "execution_count": 91,
     "metadata": {},
     "output_type": "execute_result"
    },
    {
     "data": {
      "text/plain": [
       "Text(0.5, 0, 'CIUDAD: CUCUTA, FLORENCIA, NEIVA Y EDAD > 41 ')"
      ]
     },
     "execution_count": 91,
     "metadata": {},
     "output_type": "execute_result"
    },
    {
     "data": {
      "text/plain": [
       "Text(0, 0.5, 'Proporción')"
      ]
     },
     "execution_count": 91,
     "metadata": {},
     "output_type": "execute_result"
    },
    {
     "data": {
      "text/plain": [
       "Text(0.5, 1.0, 'Gráfico de barras proporcionales')"
      ]
     },
     "execution_count": 91,
     "metadata": {},
     "output_type": "execute_result"
    },
    {
     "data": {
      "image/png": "[encoded data removed]",
      "text/plain": [
       "<Figure size 600x400 with 1 Axes>"
      ]
     },
     "metadata": {},
     "output_type": "display_data"
    }
   ],
   "source": [
    "# Obtener los conteos de cada combinación de categorías\n",
    "counts = df1.groupby(['CIUDAD_3_EDAD_3', 'EVENTO']).size().reset_index(name='count')\n",
    "\n",
    "# Calcular las frecuencias relativas\n",
    "counts['proportion'] = counts.groupby('CIUDAD_3_EDAD_3')['count'].transform(lambda x: x / x.sum())\n",
    "\n",
    "# Configurar el tamaño del gráfico\n",
    "plt.figure(figsize=(6, 4))\n",
    "\n",
    "# Crear el gráfico de barras proporcionales utilizando barplot de Seaborn\n",
    "sns.barplot(data=counts, x=\"CIUDAD_3_EDAD_3\", y='proportion', palette=['darkblue', 'darkviolet'], hue='EVENTO')\n",
    "\n",
    "# Personalizar el gráfico\n",
    "plt.xlabel('CIUDAD: CUCUTA, FLORENCIA, NEIVA Y EDAD > 41 ')\n",
    "plt.ylabel('Proporción')\n",
    "plt.title('Gráfico de barras proporcionales')\n",
    "\n",
    "# Mostrar el gráfico\n",
    "plt.show()"
   ]
  },
  {
   "cell_type": "code",
   "execution_count": 92,
   "id": "d748258c-e375-4891-9c4c-6d4958503e17",
   "metadata": {},
   "outputs": [
    {
     "data": {
      "text/html": [
       "<div>\n",
       "<style scoped>\n",
       "    .dataframe tbody tr th:only-of-type {\n",
       "        vertical-align: middle;\n",
       "    }\n",
       "\n",
       "    .dataframe tbody tr th {\n",
       "        vertical-align: top;\n",
       "    }\n",
       "\n",
       "    .dataframe thead th {\n",
       "        text-align: right;\n",
       "    }\n",
       "</style>\n",
       "<table border=\"1\" class=\"dataframe\">\n",
       "  <thead>\n",
       "    <tr style=\"text-align: right;\">\n",
       "      <th></th>\n",
       "      <th>CIUDAD_3_EDAD_3</th>\n",
       "      <th>EVENTO</th>\n",
       "      <th>count</th>\n",
       "      <th>proportion</th>\n",
       "    </tr>\n",
       "  </thead>\n",
       "  <tbody>\n",
       "    <tr>\n",
       "      <th>0</th>\n",
       "      <td>0</td>\n",
       "      <td>0</td>\n",
       "      <td>12955</td>\n",
       "      <td>0.711149</td>\n",
       "    </tr>\n",
       "    <tr>\n",
       "      <th>1</th>\n",
       "      <td>0</td>\n",
       "      <td>1</td>\n",
       "      <td>5262</td>\n",
       "      <td>0.288851</td>\n",
       "    </tr>\n",
       "    <tr>\n",
       "      <th>2</th>\n",
       "      <td>1</td>\n",
       "      <td>0</td>\n",
       "      <td>1726</td>\n",
       "      <td>0.822688</td>\n",
       "    </tr>\n",
       "    <tr>\n",
       "      <th>3</th>\n",
       "      <td>1</td>\n",
       "      <td>1</td>\n",
       "      <td>372</td>\n",
       "      <td>0.177312</td>\n",
       "    </tr>\n",
       "  </tbody>\n",
       "</table>\n",
       "</div>"
      ],
      "text/plain": [
       "   CIUDAD_3_EDAD_3  EVENTO  count  proportion\n",
       "0                0       0  12955    0.711149\n",
       "1                0       1   5262    0.288851\n",
       "2                1       0   1726    0.822688\n",
       "3                1       1    372    0.177312"
      ]
     },
     "execution_count": 92,
     "metadata": {},
     "output_type": "execute_result"
    }
   ],
   "source": [
    "counts"
   ]
  },
  {
   "cell_type": "code",
   "execution_count": 93,
   "id": "8bc6c850-93f5-4327-af7f-bb208ac25066",
   "metadata": {},
   "outputs": [
    {
     "data": {
      "text/plain": [
       "<Figure size 600x400 with 0 Axes>"
      ]
     },
     "execution_count": 93,
     "metadata": {},
     "output_type": "execute_result"
    },
    {
     "data": {
      "text/plain": [
       "<AxesSubplot:xlabel='CIUDAD_3_TIPO_VINCULACION_1', ylabel='proportion'>"
      ]
     },
     "execution_count": 93,
     "metadata": {},
     "output_type": "execute_result"
    },
    {
     "data": {
      "text/plain": [
       "Text(0.5, 0, 'CIUDAD: CUCUTA, FLORENCIA, NEIVA Y RENOVACIÓN')"
      ]
     },
     "execution_count": 93,
     "metadata": {},
     "output_type": "execute_result"
    },
    {
     "data": {
      "text/plain": [
       "Text(0, 0.5, 'Proporción')"
      ]
     },
     "execution_count": 93,
     "metadata": {},
     "output_type": "execute_result"
    },
    {
     "data": {
      "text/plain": [
       "Text(0.5, 1.0, 'Gráfico de barras proporcionales')"
      ]
     },
     "execution_count": 93,
     "metadata": {},
     "output_type": "execute_result"
    },
    {
     "data": {
      "image/png": "[encoded data removed]",
      "text/plain": [
       "<Figure size 600x400 with 1 Axes>"
      ]
     },
     "metadata": {},
     "output_type": "display_data"
    }
   ],
   "source": [
    "# Obtener los conteos de cada combinación de categorías\n",
    "counts = df1.groupby(['CIUDAD_3_TIPO_VINCULACION_1', 'EVENTO']).size().reset_index(name='count')\n",
    "\n",
    "# Calcular las frecuencias relativas\n",
    "counts['proportion'] = counts.groupby('CIUDAD_3_TIPO_VINCULACION_1')['count'].transform(lambda x: x / x.sum())\n",
    "\n",
    "# Configurar el tamaño del gráfico\n",
    "plt.figure(figsize=(6, 4))\n",
    "\n",
    "# Crear el gráfico de barras proporcionales utilizando barplot de Seaborn\n",
    "sns.barplot(data=counts, x=\"CIUDAD_3_TIPO_VINCULACION_1\", y='proportion', palette=['darkblue', 'darkviolet'], hue='EVENTO')\n",
    "\n",
    "# Personalizar el gráfico\n",
    "plt.xlabel('CIUDAD: CUCUTA, FLORENCIA, NEIVA Y RENOVACIÓN')\n",
    "plt.ylabel('Proporción')\n",
    "plt.title('Gráfico de barras proporcionales')\n",
    "\n",
    "# Mostrar el gráfico\n",
    "plt.show()"
   ]
  },
  {
   "cell_type": "code",
   "execution_count": 94,
   "id": "8c829bc3-0c7b-4880-a114-8918fa761144",
   "metadata": {},
   "outputs": [
    {
     "data": {
      "text/html": [
       "<div>\n",
       "<style scoped>\n",
       "    .dataframe tbody tr th:only-of-type {\n",
       "        vertical-align: middle;\n",
       "    }\n",
       "\n",
       "    .dataframe tbody tr th {\n",
       "        vertical-align: top;\n",
       "    }\n",
       "\n",
       "    .dataframe thead th {\n",
       "        text-align: right;\n",
       "    }\n",
       "</style>\n",
       "<table border=\"1\" class=\"dataframe\">\n",
       "  <thead>\n",
       "    <tr style=\"text-align: right;\">\n",
       "      <th></th>\n",
       "      <th>CIUDAD_3_TIPO_VINCULACION_1</th>\n",
       "      <th>EVENTO</th>\n",
       "      <th>count</th>\n",
       "      <th>proportion</th>\n",
       "    </tr>\n",
       "  </thead>\n",
       "  <tbody>\n",
       "    <tr>\n",
       "      <th>0</th>\n",
       "      <td>0</td>\n",
       "      <td>0</td>\n",
       "      <td>13240</td>\n",
       "      <td>0.712249</td>\n",
       "    </tr>\n",
       "    <tr>\n",
       "      <th>1</th>\n",
       "      <td>0</td>\n",
       "      <td>1</td>\n",
       "      <td>5349</td>\n",
       "      <td>0.287751</td>\n",
       "    </tr>\n",
       "    <tr>\n",
       "      <th>2</th>\n",
       "      <td>1</td>\n",
       "      <td>0</td>\n",
       "      <td>1441</td>\n",
       "      <td>0.834878</td>\n",
       "    </tr>\n",
       "    <tr>\n",
       "      <th>3</th>\n",
       "      <td>1</td>\n",
       "      <td>1</td>\n",
       "      <td>285</td>\n",
       "      <td>0.165122</td>\n",
       "    </tr>\n",
       "  </tbody>\n",
       "</table>\n",
       "</div>"
      ],
      "text/plain": [
       "   CIUDAD_3_TIPO_VINCULACION_1  EVENTO  count  proportion\n",
       "0                            0       0  13240    0.712249\n",
       "1                            0       1   5349    0.287751\n",
       "2                            1       0   1441    0.834878\n",
       "3                            1       1    285    0.165122"
      ]
     },
     "execution_count": 94,
     "metadata": {},
     "output_type": "execute_result"
    }
   ],
   "source": [
    "counts"
   ]
  },
  {
   "cell_type": "code",
   "execution_count": 95,
   "id": "7b7c5c67-e5e7-48c4-b06c-c8b004ca16f9",
   "metadata": {},
   "outputs": [
    {
     "data": {
      "text/plain": [
       "<Figure size 600x400 with 0 Axes>"
      ]
     },
     "execution_count": 95,
     "metadata": {},
     "output_type": "execute_result"
    },
    {
     "data": {
      "text/plain": [
       "<AxesSubplot:xlabel='EDAD_2_TIPO_VINCULACION_1', ylabel='proportion'>"
      ]
     },
     "execution_count": 95,
     "metadata": {},
     "output_type": "execute_result"
    },
    {
     "data": {
      "text/plain": [
       "Text(0.5, 0, '22< EDAD <= 41 Y RENOVACIÓN')"
      ]
     },
     "execution_count": 95,
     "metadata": {},
     "output_type": "execute_result"
    },
    {
     "data": {
      "text/plain": [
       "Text(0, 0.5, 'Proporción')"
      ]
     },
     "execution_count": 95,
     "metadata": {},
     "output_type": "execute_result"
    },
    {
     "data": {
      "text/plain": [
       "Text(0.5, 1.0, 'Gráfico de barras proporcionales')"
      ]
     },
     "execution_count": 95,
     "metadata": {},
     "output_type": "execute_result"
    },
    {
     "data": {
      "image/png": "[encoded data removed]",
      "text/plain": [
       "<Figure size 600x400 with 1 Axes>"
      ]
     },
     "metadata": {},
     "output_type": "display_data"
    }
   ],
   "source": [
    "# Obtener los conteos de cada combinación de categorías\n",
    "counts = df1.groupby(['EDAD_2_TIPO_VINCULACION_1', 'EVENTO']).size().reset_index(name='count')\n",
    "\n",
    "# Calcular las frecuencias relativas\n",
    "counts['proportion'] = counts.groupby('EDAD_2_TIPO_VINCULACION_1')['count'].transform(lambda x: x / x.sum())\n",
    "\n",
    "# Configurar el tamaño del gráfico\n",
    "plt.figure(figsize=(6, 4))\n",
    "\n",
    "# Crear el gráfico de barras proporcionales utilizando barplot de Seaborn\n",
    "sns.barplot(data=counts, x=\"EDAD_2_TIPO_VINCULACION_1\", y='proportion', palette=['darkblue', 'darkviolet'], hue='EVENTO')\n",
    "\n",
    "# Personalizar el gráfico\n",
    "plt.xlabel('22< EDAD <= 41 Y RENOVACIÓN')\n",
    "plt.ylabel('Proporción')\n",
    "plt.title('Gráfico de barras proporcionales')\n",
    "\n",
    "# Mostrar el gráfico\n",
    "plt.show()"
   ]
  },
  {
   "cell_type": "code",
   "execution_count": 96,
   "id": "90d648d3-140a-4fc6-b327-992383413780",
   "metadata": {},
   "outputs": [
    {
     "data": {
      "text/html": [
       "<div>\n",
       "<style scoped>\n",
       "    .dataframe tbody tr th:only-of-type {\n",
       "        vertical-align: middle;\n",
       "    }\n",
       "\n",
       "    .dataframe tbody tr th {\n",
       "        vertical-align: top;\n",
       "    }\n",
       "\n",
       "    .dataframe thead th {\n",
       "        text-align: right;\n",
       "    }\n",
       "</style>\n",
       "<table border=\"1\" class=\"dataframe\">\n",
       "  <thead>\n",
       "    <tr style=\"text-align: right;\">\n",
       "      <th></th>\n",
       "      <th>EDAD_2_TIPO_VINCULACION_1</th>\n",
       "      <th>EVENTO</th>\n",
       "      <th>count</th>\n",
       "      <th>proportion</th>\n",
       "    </tr>\n",
       "  </thead>\n",
       "  <tbody>\n",
       "    <tr>\n",
       "      <th>0</th>\n",
       "      <td>0</td>\n",
       "      <td>0</td>\n",
       "      <td>12671</td>\n",
       "      <td>0.710975</td>\n",
       "    </tr>\n",
       "    <tr>\n",
       "      <th>1</th>\n",
       "      <td>0</td>\n",
       "      <td>1</td>\n",
       "      <td>5151</td>\n",
       "      <td>0.289025</td>\n",
       "    </tr>\n",
       "    <tr>\n",
       "      <th>2</th>\n",
       "      <td>1</td>\n",
       "      <td>0</td>\n",
       "      <td>2010</td>\n",
       "      <td>0.806258</td>\n",
       "    </tr>\n",
       "    <tr>\n",
       "      <th>3</th>\n",
       "      <td>1</td>\n",
       "      <td>1</td>\n",
       "      <td>483</td>\n",
       "      <td>0.193742</td>\n",
       "    </tr>\n",
       "  </tbody>\n",
       "</table>\n",
       "</div>"
      ],
      "text/plain": [
       "   EDAD_2_TIPO_VINCULACION_1  EVENTO  count  proportion\n",
       "0                          0       0  12671    0.710975\n",
       "1                          0       1   5151    0.289025\n",
       "2                          1       0   2010    0.806258\n",
       "3                          1       1    483    0.193742"
      ]
     },
     "execution_count": 96,
     "metadata": {},
     "output_type": "execute_result"
    }
   ],
   "source": [
    "counts"
   ]
  },
  {
   "cell_type": "code",
   "execution_count": 97,
   "id": "af0c0c33-2909-4206-8d46-3ddae7525659",
   "metadata": {},
   "outputs": [
    {
     "data": {
      "text/plain": [
       "<Figure size 600x400 with 0 Axes>"
      ]
     },
     "execution_count": 97,
     "metadata": {},
     "output_type": "execute_result"
    },
    {
     "data": {
      "text/plain": [
       "<AxesSubplot:xlabel='EDAD_3_TIPO_VINCULACION_1', ylabel='proportion'>"
      ]
     },
     "execution_count": 97,
     "metadata": {},
     "output_type": "execute_result"
    },
    {
     "data": {
      "text/plain": [
       "Text(0.5, 0, 'EDAD > 41 Y RENOVACIÓN')"
      ]
     },
     "execution_count": 97,
     "metadata": {},
     "output_type": "execute_result"
    },
    {
     "data": {
      "text/plain": [
       "Text(0, 0.5, 'Proporción')"
      ]
     },
     "execution_count": 97,
     "metadata": {},
     "output_type": "execute_result"
    },
    {
     "data": {
      "text/plain": [
       "Text(0.5, 1.0, 'Gráfico de barras proporcionales')"
      ]
     },
     "execution_count": 97,
     "metadata": {},
     "output_type": "execute_result"
    },
    {
     "data": {
      "image/png": "[encoded data removed]",
      "text/plain": [
       "<Figure size 600x400 with 1 Axes>"
      ]
     },
     "metadata": {},
     "output_type": "display_data"
    }
   ],
   "source": [
    "# Obtener los conteos de cada combinación de categorías\n",
    "counts = df1.groupby(['EDAD_3_TIPO_VINCULACION_1', 'EVENTO']).size().reset_index(name='count')\n",
    "\n",
    "# Calcular las frecuencias relativas\n",
    "counts['proportion'] = counts.groupby('EDAD_3_TIPO_VINCULACION_1')['count'].transform(lambda x: x / x.sum())\n",
    "\n",
    "# Configurar el tamaño del gráfico\n",
    "plt.figure(figsize=(6, 4))\n",
    "\n",
    "# Crear el gráfico de barras proporcionales utilizando barplot de Seaborn\n",
    "sns.barplot(data=counts, x=\"EDAD_3_TIPO_VINCULACION_1\", y='proportion', palette=['darkblue', 'darkviolet'], hue='EVENTO')\n",
    "\n",
    "# Personalizar el gráfico\n",
    "plt.xlabel('EDAD > 41 Y RENOVACIÓN')\n",
    "plt.ylabel('Proporción')\n",
    "plt.title('Gráfico de barras proporcionales')\n",
    "\n",
    "# Mostrar el gráfico\n",
    "plt.show()"
   ]
  },
  {
   "cell_type": "code",
   "execution_count": 98,
   "id": "b8a034c9-8c3f-4e54-931f-0e88e1492c22",
   "metadata": {},
   "outputs": [
    {
     "data": {
      "text/html": [
       "<div>\n",
       "<style scoped>\n",
       "    .dataframe tbody tr th:only-of-type {\n",
       "        vertical-align: middle;\n",
       "    }\n",
       "\n",
       "    .dataframe tbody tr th {\n",
       "        vertical-align: top;\n",
       "    }\n",
       "\n",
       "    .dataframe thead th {\n",
       "        text-align: right;\n",
       "    }\n",
       "</style>\n",
       "<table border=\"1\" class=\"dataframe\">\n",
       "  <thead>\n",
       "    <tr style=\"text-align: right;\">\n",
       "      <th></th>\n",
       "      <th>EDAD_3_TIPO_VINCULACION_1</th>\n",
       "      <th>EVENTO</th>\n",
       "      <th>count</th>\n",
       "      <th>proportion</th>\n",
       "    </tr>\n",
       "  </thead>\n",
       "  <tbody>\n",
       "    <tr>\n",
       "      <th>0</th>\n",
       "      <td>0</td>\n",
       "      <td>0</td>\n",
       "      <td>10513</td>\n",
       "      <td>0.682352</td>\n",
       "    </tr>\n",
       "    <tr>\n",
       "      <th>1</th>\n",
       "      <td>0</td>\n",
       "      <td>1</td>\n",
       "      <td>4894</td>\n",
       "      <td>0.317648</td>\n",
       "    </tr>\n",
       "    <tr>\n",
       "      <th>2</th>\n",
       "      <td>1</td>\n",
       "      <td>0</td>\n",
       "      <td>4168</td>\n",
       "      <td>0.849226</td>\n",
       "    </tr>\n",
       "    <tr>\n",
       "      <th>3</th>\n",
       "      <td>1</td>\n",
       "      <td>1</td>\n",
       "      <td>740</td>\n",
       "      <td>0.150774</td>\n",
       "    </tr>\n",
       "  </tbody>\n",
       "</table>\n",
       "</div>"
      ],
      "text/plain": [
       "   EDAD_3_TIPO_VINCULACION_1  EVENTO  count  proportion\n",
       "0                          0       0  10513    0.682352\n",
       "1                          0       1   4894    0.317648\n",
       "2                          1       0   4168    0.849226\n",
       "3                          1       1    740    0.150774"
      ]
     },
     "execution_count": 98,
     "metadata": {},
     "output_type": "execute_result"
    }
   ],
   "source": [
    "counts"
   ]
  },
  {
   "cell_type": "code",
   "execution_count": 99,
   "id": "8fd5ce10-070f-47d5-b834-17707a5a730e",
   "metadata": {},
   "outputs": [
    {
     "data": {
      "text/plain": [
       "<Figure size 600x400 with 0 Axes>"
      ]
     },
     "execution_count": 99,
     "metadata": {},
     "output_type": "execute_result"
    },
    {
     "data": {
      "text/plain": [
       "<AxesSubplot:xlabel='ESTADO_CIVIL_1', ylabel='proportion'>"
      ]
     },
     "execution_count": 99,
     "metadata": {},
     "output_type": "execute_result"
    },
    {
     "data": {
      "text/plain": [
       "Text(0.5, 0, 'ESTADO CIVIL: SOLTERO,DIVORCIADO, SEPARADO')"
      ]
     },
     "execution_count": 99,
     "metadata": {},
     "output_type": "execute_result"
    },
    {
     "data": {
      "text/plain": [
       "Text(0, 0.5, 'Proporción')"
      ]
     },
     "execution_count": 99,
     "metadata": {},
     "output_type": "execute_result"
    },
    {
     "data": {
      "text/plain": [
       "Text(0.5, 1.0, 'Gráfico de barras proporcionales')"
      ]
     },
     "execution_count": 99,
     "metadata": {},
     "output_type": "execute_result"
    },
    {
     "data": {
      "image/png": "[encoded data removed]",
      "text/plain": [
       "<Figure size 600x400 with 1 Axes>"
      ]
     },
     "metadata": {},
     "output_type": "display_data"
    }
   ],
   "source": [
    "counts = df1.groupby(['ESTADO_CIVIL_1', 'EVENTO']).size().reset_index(name='count')\n",
    "\n",
    "# Calcular las frecuencias relativas\n",
    "counts['proportion'] = counts.groupby('ESTADO_CIVIL_1')['count'].transform(lambda x: x / x.sum())\n",
    "\n",
    "# Configurar el tamaño del gráfico\n",
    "plt.figure(figsize=(6, 4))\n",
    "\n",
    "# Crear el gráfico de barras proporcionales utilizando barplot de Seaborn\n",
    "sns.barplot(data=counts, x=\"ESTADO_CIVIL_1\", y='proportion', palette=['darkblue', 'darkviolet'], hue='EVENTO')\n",
    "\n",
    "# Personalizar el gráfico\n",
    "plt.xlabel('ESTADO CIVIL: SOLTERO,DIVORCIADO, SEPARADO')\n",
    "plt.ylabel('Proporción')\n",
    "plt.title('Gráfico de barras proporcionales')\n",
    "\n",
    "# Mostrar el gráfico\n",
    "plt.show()"
   ]
  },
  {
   "cell_type": "code",
   "execution_count": 100,
   "id": "e7b5d5e1-4009-46a5-b88c-211be4aab16d",
   "metadata": {},
   "outputs": [
    {
     "data": {
      "text/html": [
       "<div>\n",
       "<style scoped>\n",
       "    .dataframe tbody tr th:only-of-type {\n",
       "        vertical-align: middle;\n",
       "    }\n",
       "\n",
       "    .dataframe tbody tr th {\n",
       "        vertical-align: top;\n",
       "    }\n",
       "\n",
       "    .dataframe thead th {\n",
       "        text-align: right;\n",
       "    }\n",
       "</style>\n",
       "<table border=\"1\" class=\"dataframe\">\n",
       "  <thead>\n",
       "    <tr style=\"text-align: right;\">\n",
       "      <th></th>\n",
       "      <th>ESTADO_CIVIL_1</th>\n",
       "      <th>EVENTO</th>\n",
       "      <th>count</th>\n",
       "      <th>proportion</th>\n",
       "    </tr>\n",
       "  </thead>\n",
       "  <tbody>\n",
       "    <tr>\n",
       "      <th>0</th>\n",
       "      <td>0</td>\n",
       "      <td>0</td>\n",
       "      <td>7900</td>\n",
       "      <td>0.760054</td>\n",
       "    </tr>\n",
       "    <tr>\n",
       "      <th>1</th>\n",
       "      <td>0</td>\n",
       "      <td>1</td>\n",
       "      <td>2494</td>\n",
       "      <td>0.239946</td>\n",
       "    </tr>\n",
       "    <tr>\n",
       "      <th>2</th>\n",
       "      <td>1</td>\n",
       "      <td>0</td>\n",
       "      <td>6781</td>\n",
       "      <td>0.683500</td>\n",
       "    </tr>\n",
       "    <tr>\n",
       "      <th>3</th>\n",
       "      <td>1</td>\n",
       "      <td>1</td>\n",
       "      <td>3140</td>\n",
       "      <td>0.316500</td>\n",
       "    </tr>\n",
       "  </tbody>\n",
       "</table>\n",
       "</div>"
      ],
      "text/plain": [
       "   ESTADO_CIVIL_1  EVENTO  count  proportion\n",
       "0               0       0   7900    0.760054\n",
       "1               0       1   2494    0.239946\n",
       "2               1       0   6781    0.683500\n",
       "3               1       1   3140    0.316500"
      ]
     },
     "execution_count": 100,
     "metadata": {},
     "output_type": "execute_result"
    }
   ],
   "source": [
    "counts"
   ]
  },
  {
   "cell_type": "code",
   "execution_count": 101,
   "id": "14fa82b3-f77f-450b-87b3-be8931dda092",
   "metadata": {},
   "outputs": [
    {
     "data": {
      "text/plain": [
       "<Figure size 600x400 with 0 Axes>"
      ]
     },
     "execution_count": 101,
     "metadata": {},
     "output_type": "execute_result"
    },
    {
     "data": {
      "text/plain": [
       "<AxesSubplot:xlabel='ESTADO_CIVIL_1_TIPO_VINCULACION_1', ylabel='proportion'>"
      ]
     },
     "execution_count": 101,
     "metadata": {},
     "output_type": "execute_result"
    },
    {
     "data": {
      "text/plain": [
       "Text(0.5, 0, 'ESTADO CIVIL: SOLTERO,DIVORCIADO, SEPARADO Y RENOVACIÓN')"
      ]
     },
     "execution_count": 101,
     "metadata": {},
     "output_type": "execute_result"
    },
    {
     "data": {
      "text/plain": [
       "Text(0, 0.5, 'Proporción')"
      ]
     },
     "execution_count": 101,
     "metadata": {},
     "output_type": "execute_result"
    },
    {
     "data": {
      "text/plain": [
       "Text(0.5, 1.0, 'Gráfico de barras proporcionales')"
      ]
     },
     "execution_count": 101,
     "metadata": {},
     "output_type": "execute_result"
    },
    {
     "data": {
      "image/png": "[encoded data removed]",
      "text/plain": [
       "<Figure size 600x400 with 1 Axes>"
      ]
     },
     "metadata": {},
     "output_type": "display_data"
    }
   ],
   "source": [
    "counts = df1.groupby(['ESTADO_CIVIL_1_TIPO_VINCULACION_1', 'EVENTO']).size().reset_index(name='count')\n",
    "\n",
    "# Calcular las frecuencias relativas\n",
    "counts['proportion'] = counts.groupby('ESTADO_CIVIL_1_TIPO_VINCULACION_1')['count'].transform(lambda x: x / x.sum())\n",
    "\n",
    "# Configurar el tamaño del gráfico\n",
    "plt.figure(figsize=(6, 4))\n",
    "\n",
    "# Crear el gráfico de barras proporcionales utilizando barplot de Seaborn\n",
    "sns.barplot(data=counts, x=\"ESTADO_CIVIL_1_TIPO_VINCULACION_1\", y='proportion', palette=['darkblue', 'darkviolet'], hue='EVENTO')\n",
    "\n",
    "# Personalizar el gráfico\n",
    "plt.xlabel('ESTADO CIVIL: SOLTERO,DIVORCIADO, SEPARADO Y RENOVACIÓN')\n",
    "plt.ylabel('Proporción')\n",
    "plt.title('Gráfico de barras proporcionales')\n",
    "\n",
    "# Mostrar el gráfico\n",
    "plt.show()"
   ]
  },
  {
   "cell_type": "code",
   "execution_count": 102,
   "id": "461ee378-7547-4abf-b4db-ab7455c09732",
   "metadata": {},
   "outputs": [
    {
     "data": {
      "text/html": [
       "<div>\n",
       "<style scoped>\n",
       "    .dataframe tbody tr th:only-of-type {\n",
       "        vertical-align: middle;\n",
       "    }\n",
       "\n",
       "    .dataframe tbody tr th {\n",
       "        vertical-align: top;\n",
       "    }\n",
       "\n",
       "    .dataframe thead th {\n",
       "        text-align: right;\n",
       "    }\n",
       "</style>\n",
       "<table border=\"1\" class=\"dataframe\">\n",
       "  <thead>\n",
       "    <tr style=\"text-align: right;\">\n",
       "      <th></th>\n",
       "      <th>ESTADO_CIVIL_1_TIPO_VINCULACION_1</th>\n",
       "      <th>EVENTO</th>\n",
       "      <th>count</th>\n",
       "      <th>proportion</th>\n",
       "    </tr>\n",
       "  </thead>\n",
       "  <tbody>\n",
       "    <tr>\n",
       "      <th>0</th>\n",
       "      <td>0</td>\n",
       "      <td>0</td>\n",
       "      <td>12173</td>\n",
       "      <td>0.70466</td>\n",
       "    </tr>\n",
       "    <tr>\n",
       "      <th>1</th>\n",
       "      <td>0</td>\n",
       "      <td>1</td>\n",
       "      <td>5102</td>\n",
       "      <td>0.29534</td>\n",
       "    </tr>\n",
       "    <tr>\n",
       "      <th>2</th>\n",
       "      <td>1</td>\n",
       "      <td>0</td>\n",
       "      <td>2508</td>\n",
       "      <td>0.82500</td>\n",
       "    </tr>\n",
       "    <tr>\n",
       "      <th>3</th>\n",
       "      <td>1</td>\n",
       "      <td>1</td>\n",
       "      <td>532</td>\n",
       "      <td>0.17500</td>\n",
       "    </tr>\n",
       "  </tbody>\n",
       "</table>\n",
       "</div>"
      ],
      "text/plain": [
       "   ESTADO_CIVIL_1_TIPO_VINCULACION_1  EVENTO  count  proportion\n",
       "0                                  0       0  12173     0.70466\n",
       "1                                  0       1   5102     0.29534\n",
       "2                                  1       0   2508     0.82500\n",
       "3                                  1       1    532     0.17500"
      ]
     },
     "execution_count": 102,
     "metadata": {},
     "output_type": "execute_result"
    }
   ],
   "source": [
    "counts"
   ]
  },
  {
   "cell_type": "code",
   "execution_count": 103,
   "id": "3ad7da76-f2af-4c8c-86c9-364ac0f50cb1",
   "metadata": {},
   "outputs": [
    {
     "data": {
      "text/plain": [
       "<Figure size 600x400 with 0 Axes>"
      ]
     },
     "execution_count": 103,
     "metadata": {},
     "output_type": "execute_result"
    },
    {
     "data": {
      "text/plain": [
       "<AxesSubplot:xlabel='SCORE_1', ylabel='proportion'>"
      ]
     },
     "execution_count": 103,
     "metadata": {},
     "output_type": "execute_result"
    },
    {
     "data": {
      "text/plain": [
       "Text(0.5, 0, 'SCORE <= 575')"
      ]
     },
     "execution_count": 103,
     "metadata": {},
     "output_type": "execute_result"
    },
    {
     "data": {
      "text/plain": [
       "Text(0, 0.5, 'Proporción')"
      ]
     },
     "execution_count": 103,
     "metadata": {},
     "output_type": "execute_result"
    },
    {
     "data": {
      "text/plain": [
       "Text(0.5, 1.0, 'Gráfico de barras proporcionales')"
      ]
     },
     "execution_count": 103,
     "metadata": {},
     "output_type": "execute_result"
    },
    {
     "data": {
      "image/png": "[encoded data removed]",
      "text/plain": [
       "<Figure size 600x400 with 1 Axes>"
      ]
     },
     "metadata": {},
     "output_type": "display_data"
    }
   ],
   "source": [
    "# Obtener los conteos de cada combinación de categorías\n",
    "counts = df1.groupby(['SCORE_1', 'EVENTO']).size().reset_index(name='count')\n",
    "\n",
    "# Calcular las frecuencias relativas\n",
    "counts['proportion'] = counts.groupby('SCORE_1')['count'].transform(lambda x: x / x.sum())\n",
    "\n",
    "# Configurar el tamaño del gráfico\n",
    "plt.figure(figsize=(6, 4))\n",
    "\n",
    "# Crear el gráfico de barras proporcionales utilizando barplot de Seaborn\n",
    "sns.barplot(data=counts, x=\"SCORE_1\", y='proportion', palette=['darkblue', 'darkviolet'], hue='EVENTO')\n",
    "\n",
    "# Personalizar el gráfico\n",
    "plt.xlabel('SCORE <= 575')\n",
    "plt.ylabel('Proporción')\n",
    "plt.title('Gráfico de barras proporcionales')\n",
    "\n",
    "# Mostrar el gráfico\n",
    "plt.show()"
   ]
  },
  {
   "cell_type": "code",
   "execution_count": 104,
   "id": "8cf0a1f6-6e5e-4409-a459-22abe531ed8e",
   "metadata": {},
   "outputs": [
    {
     "data": {
      "text/html": [
       "<div>\n",
       "<style scoped>\n",
       "    .dataframe tbody tr th:only-of-type {\n",
       "        vertical-align: middle;\n",
       "    }\n",
       "\n",
       "    .dataframe tbody tr th {\n",
       "        vertical-align: top;\n",
       "    }\n",
       "\n",
       "    .dataframe thead th {\n",
       "        text-align: right;\n",
       "    }\n",
       "</style>\n",
       "<table border=\"1\" class=\"dataframe\">\n",
       "  <thead>\n",
       "    <tr style=\"text-align: right;\">\n",
       "      <th></th>\n",
       "      <th>SCORE_1</th>\n",
       "      <th>EVENTO</th>\n",
       "      <th>count</th>\n",
       "      <th>proportion</th>\n",
       "    </tr>\n",
       "  </thead>\n",
       "  <tbody>\n",
       "    <tr>\n",
       "      <th>0</th>\n",
       "      <td>0</td>\n",
       "      <td>0</td>\n",
       "      <td>13048</td>\n",
       "      <td>0.749239</td>\n",
       "    </tr>\n",
       "    <tr>\n",
       "      <th>1</th>\n",
       "      <td>0</td>\n",
       "      <td>1</td>\n",
       "      <td>4367</td>\n",
       "      <td>0.250761</td>\n",
       "    </tr>\n",
       "    <tr>\n",
       "      <th>2</th>\n",
       "      <td>1</td>\n",
       "      <td>0</td>\n",
       "      <td>1633</td>\n",
       "      <td>0.563103</td>\n",
       "    </tr>\n",
       "    <tr>\n",
       "      <th>3</th>\n",
       "      <td>1</td>\n",
       "      <td>1</td>\n",
       "      <td>1267</td>\n",
       "      <td>0.436897</td>\n",
       "    </tr>\n",
       "  </tbody>\n",
       "</table>\n",
       "</div>"
      ],
      "text/plain": [
       "   SCORE_1  EVENTO  count  proportion\n",
       "0        0       0  13048    0.749239\n",
       "1        0       1   4367    0.250761\n",
       "2        1       0   1633    0.563103\n",
       "3        1       1   1267    0.436897"
      ]
     },
     "execution_count": 104,
     "metadata": {},
     "output_type": "execute_result"
    }
   ],
   "source": [
    "counts"
   ]
  },
  {
   "cell_type": "code",
   "execution_count": 105,
   "id": "f40d3fd6-f1ee-4626-8f2f-dfa6458025a2",
   "metadata": {},
   "outputs": [
    {
     "data": {
      "text/plain": [
       "<Figure size 600x400 with 0 Axes>"
      ]
     },
     "execution_count": 105,
     "metadata": {},
     "output_type": "execute_result"
    },
    {
     "data": {
      "text/plain": [
       "<AxesSubplot:xlabel='SCORE_3', ylabel='proportion'>"
      ]
     },
     "execution_count": 105,
     "metadata": {},
     "output_type": "execute_result"
    },
    {
     "data": {
      "text/plain": [
       "Text(0.5, 0, '684 < SCORE <= 830')"
      ]
     },
     "execution_count": 105,
     "metadata": {},
     "output_type": "execute_result"
    },
    {
     "data": {
      "text/plain": [
       "Text(0, 0.5, 'Proporción')"
      ]
     },
     "execution_count": 105,
     "metadata": {},
     "output_type": "execute_result"
    },
    {
     "data": {
      "text/plain": [
       "Text(0.5, 1.0, 'Gráfico de barras proporcionales')"
      ]
     },
     "execution_count": 105,
     "metadata": {},
     "output_type": "execute_result"
    },
    {
     "data": {
      "image/png": "[encoded data removed]",
      "text/plain": [
       "<Figure size 600x400 with 1 Axes>"
      ]
     },
     "metadata": {},
     "output_type": "display_data"
    }
   ],
   "source": [
    "# Obtener los conteos de cada combinación de categorías\n",
    "counts = df1.groupby(['SCORE_3', 'EVENTO']).size().reset_index(name='count')\n",
    "\n",
    "# Calcular las frecuencias relativas\n",
    "counts['proportion'] = counts.groupby('SCORE_3')['count'].transform(lambda x: x / x.sum())\n",
    "\n",
    "# Configurar el tamaño del gráfico\n",
    "plt.figure(figsize=(6, 4))\n",
    "\n",
    "# Crear el gráfico de barras proporcionales utilizando barplot de Seaborn\n",
    "sns.barplot(data=counts, x=\"SCORE_3\", y='proportion', palette=['darkblue', 'darkviolet'], hue='EVENTO')\n",
    "\n",
    "# Personalizar el gráfico\n",
    "plt.xlabel('684 < SCORE <= 830')\n",
    "plt.ylabel('Proporción')\n",
    "plt.title('Gráfico de barras proporcionales')\n",
    "\n",
    "# Mostrar el gráfico\n",
    "plt.show()"
   ]
  },
  {
   "cell_type": "code",
   "execution_count": 106,
   "id": "01c66382-ef19-4094-8553-7f50f21fad51",
   "metadata": {},
   "outputs": [
    {
     "data": {
      "text/html": [
       "<div>\n",
       "<style scoped>\n",
       "    .dataframe tbody tr th:only-of-type {\n",
       "        vertical-align: middle;\n",
       "    }\n",
       "\n",
       "    .dataframe tbody tr th {\n",
       "        vertical-align: top;\n",
       "    }\n",
       "\n",
       "    .dataframe thead th {\n",
       "        text-align: right;\n",
       "    }\n",
       "</style>\n",
       "<table border=\"1\" class=\"dataframe\">\n",
       "  <thead>\n",
       "    <tr style=\"text-align: right;\">\n",
       "      <th></th>\n",
       "      <th>SCORE_3</th>\n",
       "      <th>EVENTO</th>\n",
       "      <th>count</th>\n",
       "      <th>proportion</th>\n",
       "    </tr>\n",
       "  </thead>\n",
       "  <tbody>\n",
       "    <tr>\n",
       "      <th>0</th>\n",
       "      <td>0</td>\n",
       "      <td>0</td>\n",
       "      <td>8168</td>\n",
       "      <td>0.681519</td>\n",
       "    </tr>\n",
       "    <tr>\n",
       "      <th>1</th>\n",
       "      <td>0</td>\n",
       "      <td>1</td>\n",
       "      <td>3817</td>\n",
       "      <td>0.318481</td>\n",
       "    </tr>\n",
       "    <tr>\n",
       "      <th>2</th>\n",
       "      <td>1</td>\n",
       "      <td>0</td>\n",
       "      <td>6513</td>\n",
       "      <td>0.781873</td>\n",
       "    </tr>\n",
       "    <tr>\n",
       "      <th>3</th>\n",
       "      <td>1</td>\n",
       "      <td>1</td>\n",
       "      <td>1817</td>\n",
       "      <td>0.218127</td>\n",
       "    </tr>\n",
       "  </tbody>\n",
       "</table>\n",
       "</div>"
      ],
      "text/plain": [
       "   SCORE_3  EVENTO  count  proportion\n",
       "0        0       0   8168    0.681519\n",
       "1        0       1   3817    0.318481\n",
       "2        1       0   6513    0.781873\n",
       "3        1       1   1817    0.218127"
      ]
     },
     "execution_count": 106,
     "metadata": {},
     "output_type": "execute_result"
    }
   ],
   "source": [
    "counts"
   ]
  },
  {
   "cell_type": "code",
   "execution_count": 107,
   "id": "9b01278d-691e-4187-983c-6109cee81de4",
   "metadata": {},
   "outputs": [
    {
     "data": {
      "text/plain": [
       "<Figure size 600x400 with 0 Axes>"
      ]
     },
     "execution_count": 107,
     "metadata": {},
     "output_type": "execute_result"
    },
    {
     "data": {
      "text/plain": [
       "<AxesSubplot:xlabel='SCORE_4', ylabel='proportion'>"
      ]
     },
     "execution_count": 107,
     "metadata": {},
     "output_type": "execute_result"
    },
    {
     "data": {
      "text/plain": [
       "Text(0.5, 0, 'SCORE > 830')"
      ]
     },
     "execution_count": 107,
     "metadata": {},
     "output_type": "execute_result"
    },
    {
     "data": {
      "text/plain": [
       "Text(0, 0.5, 'Proporción')"
      ]
     },
     "execution_count": 107,
     "metadata": {},
     "output_type": "execute_result"
    },
    {
     "data": {
      "text/plain": [
       "Text(0.5, 1.0, 'Gráfico de barras proporcionales')"
      ]
     },
     "execution_count": 107,
     "metadata": {},
     "output_type": "execute_result"
    },
    {
     "data": {
      "image/png": "[encoded data removed]",
      "text/plain": [
       "<Figure size 600x400 with 1 Axes>"
      ]
     },
     "metadata": {},
     "output_type": "display_data"
    }
   ],
   "source": [
    "# Obtener los conteos de cada combinación de categorías\n",
    "counts = df1.groupby(['SCORE_4', 'EVENTO']).size().reset_index(name='count')\n",
    "\n",
    "# Calcular las frecuencias relativas\n",
    "counts['proportion'] = counts.groupby('SCORE_4')['count'].transform(lambda x: x / x.sum())\n",
    "\n",
    "# Configurar el tamaño del gráfico\n",
    "plt.figure(figsize=(6, 4))\n",
    "\n",
    "# Crear el gráfico de barras proporcionales utilizando barplot de Seaborn\n",
    "sns.barplot(data=counts, x=\"SCORE_4\", y='proportion', palette=['darkblue', 'darkviolet'], hue='EVENTO')\n",
    "\n",
    "# Personalizar el gráfico\n",
    "plt.xlabel('SCORE > 830')\n",
    "plt.ylabel('Proporción')\n",
    "plt.title('Gráfico de barras proporcionales')\n",
    "\n",
    "# Mostrar el gráfico\n",
    "plt.show()"
   ]
  },
  {
   "cell_type": "code",
   "execution_count": 108,
   "id": "b2dbe227-adfd-4b1f-8a9c-9378be7c5793",
   "metadata": {},
   "outputs": [
    {
     "data": {
      "text/html": [
       "<div>\n",
       "<style scoped>\n",
       "    .dataframe tbody tr th:only-of-type {\n",
       "        vertical-align: middle;\n",
       "    }\n",
       "\n",
       "    .dataframe tbody tr th {\n",
       "        vertical-align: top;\n",
       "    }\n",
       "\n",
       "    .dataframe thead th {\n",
       "        text-align: right;\n",
       "    }\n",
       "</style>\n",
       "<table border=\"1\" class=\"dataframe\">\n",
       "  <thead>\n",
       "    <tr style=\"text-align: right;\">\n",
       "      <th></th>\n",
       "      <th>SCORE_4</th>\n",
       "      <th>EVENTO</th>\n",
       "      <th>count</th>\n",
       "      <th>proportion</th>\n",
       "    </tr>\n",
       "  </thead>\n",
       "  <tbody>\n",
       "    <tr>\n",
       "      <th>0</th>\n",
       "      <td>0</td>\n",
       "      <td>0</td>\n",
       "      <td>12926</td>\n",
       "      <td>0.705876</td>\n",
       "    </tr>\n",
       "    <tr>\n",
       "      <th>1</th>\n",
       "      <td>0</td>\n",
       "      <td>1</td>\n",
       "      <td>5386</td>\n",
       "      <td>0.294124</td>\n",
       "    </tr>\n",
       "    <tr>\n",
       "      <th>2</th>\n",
       "      <td>1</td>\n",
       "      <td>0</td>\n",
       "      <td>1755</td>\n",
       "      <td>0.876186</td>\n",
       "    </tr>\n",
       "    <tr>\n",
       "      <th>3</th>\n",
       "      <td>1</td>\n",
       "      <td>1</td>\n",
       "      <td>248</td>\n",
       "      <td>0.123814</td>\n",
       "    </tr>\n",
       "  </tbody>\n",
       "</table>\n",
       "</div>"
      ],
      "text/plain": [
       "   SCORE_4  EVENTO  count  proportion\n",
       "0        0       0  12926    0.705876\n",
       "1        0       1   5386    0.294124\n",
       "2        1       0   1755    0.876186\n",
       "3        1       1    248    0.123814"
      ]
     },
     "execution_count": 108,
     "metadata": {},
     "output_type": "execute_result"
    }
   ],
   "source": [
    "counts"
   ]
  },
  {
   "cell_type": "code",
   "execution_count": 109,
   "id": "4b8b3ba8-a911-4105-ac8f-65a8733d8b64",
   "metadata": {},
   "outputs": [
    {
     "data": {
      "text/plain": [
       "<Figure size 600x400 with 0 Axes>"
      ]
     },
     "execution_count": 109,
     "metadata": {},
     "output_type": "execute_result"
    },
    {
     "data": {
      "text/plain": [
       "<AxesSubplot:xlabel='TIPO_VIVIENDA_1', ylabel='proportion'>"
      ]
     },
     "execution_count": 109,
     "metadata": {},
     "output_type": "execute_result"
    },
    {
     "data": {
      "text/plain": [
       "Text(0.5, 0, 'TIPO DE VIVIENDA: PROPIA')"
      ]
     },
     "execution_count": 109,
     "metadata": {},
     "output_type": "execute_result"
    },
    {
     "data": {
      "text/plain": [
       "Text(0, 0.5, 'Proporción')"
      ]
     },
     "execution_count": 109,
     "metadata": {},
     "output_type": "execute_result"
    },
    {
     "data": {
      "text/plain": [
       "Text(0.5, 1.0, 'Gráfico de barras proporcionales')"
      ]
     },
     "execution_count": 109,
     "metadata": {},
     "output_type": "execute_result"
    },
    {
     "data": {
      "image/png": "[encoded data removed]",
      "text/plain": [
       "<Figure size 600x400 with 1 Axes>"
      ]
     },
     "metadata": {},
     "output_type": "display_data"
    }
   ],
   "source": [
    "# Obtener los conteos de cada combinación de categorías\n",
    "counts = df1.groupby(['TIPO_VIVIENDA_1', 'EVENTO']).size().reset_index(name='count')\n",
    "\n",
    "# Calcular las frecuencias relativas\n",
    "counts['proportion'] = counts.groupby('TIPO_VIVIENDA_1')['count'].transform(lambda x: x / x.sum())\n",
    "\n",
    "# Configurar el tamaño del gráfico\n",
    "plt.figure(figsize=(6, 4))\n",
    "\n",
    "# Crear el gráfico de barras proporcionales utilizando barplot de Seaborn\n",
    "sns.barplot(data=counts, x=\"TIPO_VIVIENDA_1\", y='proportion', palette=['darkblue', 'darkviolet'], hue='EVENTO')\n",
    "\n",
    "# Personalizar el gráfico\n",
    "plt.xlabel('TIPO DE VIVIENDA: PROPIA')\n",
    "plt.ylabel('Proporción')\n",
    "plt.title('Gráfico de barras proporcionales')\n",
    "\n",
    "# Mostrar el gráfico\n",
    "plt.show()"
   ]
  },
  {
   "cell_type": "code",
   "execution_count": 110,
   "id": "d274dcfe-64a4-4367-968d-d4d1b05a7baf",
   "metadata": {},
   "outputs": [
    {
     "data": {
      "text/html": [
       "<div>\n",
       "<style scoped>\n",
       "    .dataframe tbody tr th:only-of-type {\n",
       "        vertical-align: middle;\n",
       "    }\n",
       "\n",
       "    .dataframe tbody tr th {\n",
       "        vertical-align: top;\n",
       "    }\n",
       "\n",
       "    .dataframe thead th {\n",
       "        text-align: right;\n",
       "    }\n",
       "</style>\n",
       "<table border=\"1\" class=\"dataframe\">\n",
       "  <thead>\n",
       "    <tr style=\"text-align: right;\">\n",
       "      <th></th>\n",
       "      <th>TIPO_VIVIENDA_1</th>\n",
       "      <th>EVENTO</th>\n",
       "      <th>count</th>\n",
       "      <th>proportion</th>\n",
       "    </tr>\n",
       "  </thead>\n",
       "  <tbody>\n",
       "    <tr>\n",
       "      <th>0</th>\n",
       "      <td>0</td>\n",
       "      <td>0</td>\n",
       "      <td>8783</td>\n",
       "      <td>0.672563</td>\n",
       "    </tr>\n",
       "    <tr>\n",
       "      <th>1</th>\n",
       "      <td>0</td>\n",
       "      <td>1</td>\n",
       "      <td>4276</td>\n",
       "      <td>0.327437</td>\n",
       "    </tr>\n",
       "    <tr>\n",
       "      <th>2</th>\n",
       "      <td>1</td>\n",
       "      <td>0</td>\n",
       "      <td>5898</td>\n",
       "      <td>0.812845</td>\n",
       "    </tr>\n",
       "    <tr>\n",
       "      <th>3</th>\n",
       "      <td>1</td>\n",
       "      <td>1</td>\n",
       "      <td>1358</td>\n",
       "      <td>0.187155</td>\n",
       "    </tr>\n",
       "  </tbody>\n",
       "</table>\n",
       "</div>"
      ],
      "text/plain": [
       "   TIPO_VIVIENDA_1  EVENTO  count  proportion\n",
       "0                0       0   8783    0.672563\n",
       "1                0       1   4276    0.327437\n",
       "2                1       0   5898    0.812845\n",
       "3                1       1   1358    0.187155"
      ]
     },
     "execution_count": 110,
     "metadata": {},
     "output_type": "execute_result"
    }
   ],
   "source": [
    "counts"
   ]
  },
  {
   "cell_type": "code",
   "execution_count": 111,
   "id": "f974f932-fe77-4a2d-8163-42de4ceeba5d",
   "metadata": {},
   "outputs": [
    {
     "data": {
      "text/plain": [
       "<Figure size 600x400 with 0 Axes>"
      ]
     },
     "execution_count": 111,
     "metadata": {},
     "output_type": "execute_result"
    },
    {
     "data": {
      "text/plain": [
       "<AxesSubplot:xlabel='TIPO_VIVIENDA_3', ylabel='proportion'>"
      ]
     },
     "execution_count": 111,
     "metadata": {},
     "output_type": "execute_result"
    },
    {
     "data": {
      "text/plain": [
       "Text(0.5, 0, 'TIPO DE VIVIENDA: ARRENDADA')"
      ]
     },
     "execution_count": 111,
     "metadata": {},
     "output_type": "execute_result"
    },
    {
     "data": {
      "text/plain": [
       "Text(0, 0.5, 'Proporción')"
      ]
     },
     "execution_count": 111,
     "metadata": {},
     "output_type": "execute_result"
    },
    {
     "data": {
      "text/plain": [
       "Text(0.5, 1.0, 'Gráfico de barras proporcionales')"
      ]
     },
     "execution_count": 111,
     "metadata": {},
     "output_type": "execute_result"
    },
    {
     "data": {
      "image/png": "[encoded data removed]",
      "text/plain": [
       "<Figure size 600x400 with 1 Axes>"
      ]
     },
     "metadata": {},
     "output_type": "display_data"
    }
   ],
   "source": [
    "# Obtener los conteos de cada combinación de categorías\n",
    "counts = df1.groupby(['TIPO_VIVIENDA_3', 'EVENTO']).size().reset_index(name='count')\n",
    "\n",
    "# Calcular las frecuencias relativas\n",
    "counts['proportion'] = counts.groupby('TIPO_VIVIENDA_3')['count'].transform(lambda x: x / x.sum())\n",
    "\n",
    "# Configurar el tamaño del gráfico\n",
    "plt.figure(figsize=(6, 4))\n",
    "\n",
    "# Crear el gráfico de barras proporcionales utilizando barplot de Seaborn\n",
    "sns.barplot(data=counts, x=\"TIPO_VIVIENDA_3\", y='proportion', palette=['darkblue', 'darkviolet'], hue='EVENTO')\n",
    "\n",
    "# Personalizar el gráfico\n",
    "plt.xlabel('TIPO DE VIVIENDA: ARRENDADA')\n",
    "plt.ylabel('Proporción')\n",
    "plt.title('Gráfico de barras proporcionales')\n",
    "\n",
    "# Mostrar el gráfico\n",
    "plt.show()"
   ]
  },
  {
   "cell_type": "code",
   "execution_count": 112,
   "id": "7c4383cf-a9a4-4d91-9e0b-a96fbd1f64a9",
   "metadata": {},
   "outputs": [
    {
     "data": {
      "text/html": [
       "<div>\n",
       "<style scoped>\n",
       "    .dataframe tbody tr th:only-of-type {\n",
       "        vertical-align: middle;\n",
       "    }\n",
       "\n",
       "    .dataframe tbody tr th {\n",
       "        vertical-align: top;\n",
       "    }\n",
       "\n",
       "    .dataframe thead th {\n",
       "        text-align: right;\n",
       "    }\n",
       "</style>\n",
       "<table border=\"1\" class=\"dataframe\">\n",
       "  <thead>\n",
       "    <tr style=\"text-align: right;\">\n",
       "      <th></th>\n",
       "      <th>TIPO_VIVIENDA_3</th>\n",
       "      <th>EVENTO</th>\n",
       "      <th>count</th>\n",
       "      <th>proportion</th>\n",
       "    </tr>\n",
       "  </thead>\n",
       "  <tbody>\n",
       "    <tr>\n",
       "      <th>0</th>\n",
       "      <td>0</td>\n",
       "      <td>0</td>\n",
       "      <td>10827</td>\n",
       "      <td>0.755337</td>\n",
       "    </tr>\n",
       "    <tr>\n",
       "      <th>1</th>\n",
       "      <td>0</td>\n",
       "      <td>1</td>\n",
       "      <td>3507</td>\n",
       "      <td>0.244663</td>\n",
       "    </tr>\n",
       "    <tr>\n",
       "      <th>2</th>\n",
       "      <td>1</td>\n",
       "      <td>0</td>\n",
       "      <td>3854</td>\n",
       "      <td>0.644374</td>\n",
       "    </tr>\n",
       "    <tr>\n",
       "      <th>3</th>\n",
       "      <td>1</td>\n",
       "      <td>1</td>\n",
       "      <td>2127</td>\n",
       "      <td>0.355626</td>\n",
       "    </tr>\n",
       "  </tbody>\n",
       "</table>\n",
       "</div>"
      ],
      "text/plain": [
       "   TIPO_VIVIENDA_3  EVENTO  count  proportion\n",
       "0                0       0  10827    0.755337\n",
       "1                0       1   3507    0.244663\n",
       "2                1       0   3854    0.644374\n",
       "3                1       1   2127    0.355626"
      ]
     },
     "execution_count": 112,
     "metadata": {},
     "output_type": "execute_result"
    }
   ],
   "source": [
    "counts"
   ]
  },
  {
   "cell_type": "code",
   "execution_count": 113,
   "id": "cd3d8de9-b5b0-47dd-9506-92cd006a0648",
   "metadata": {},
   "outputs": [
    {
     "data": {
      "text/plain": [
       "<Figure size 600x400 with 0 Axes>"
      ]
     },
     "execution_count": 113,
     "metadata": {},
     "output_type": "execute_result"
    },
    {
     "data": {
      "text/plain": [
       "<AxesSubplot:xlabel='TOTAL_PASIVOS_1', ylabel='proportion'>"
      ]
     },
     "execution_count": 113,
     "metadata": {},
     "output_type": "execute_result"
    },
    {
     "data": {
      "text/plain": [
       "Text(0.5, 0, 'TOTAL PASIVOS <= 2.89')"
      ]
     },
     "execution_count": 113,
     "metadata": {},
     "output_type": "execute_result"
    },
    {
     "data": {
      "text/plain": [
       "Text(0, 0.5, 'Proporción')"
      ]
     },
     "execution_count": 113,
     "metadata": {},
     "output_type": "execute_result"
    },
    {
     "data": {
      "text/plain": [
       "Text(0.5, 1.0, 'Gráfico de barras proporcionales')"
      ]
     },
     "execution_count": 113,
     "metadata": {},
     "output_type": "execute_result"
    },
    {
     "data": {
      "image/png": "[encoded data removed]",
      "text/plain": [
       "<Figure size 600x400 with 1 Axes>"
      ]
     },
     "metadata": {},
     "output_type": "display_data"
    }
   ],
   "source": [
    "# Obtener los conteos de cada combinación de categorías\n",
    "counts = df1.groupby(['TOTAL_PASIVOS_1', 'EVENTO']).size().reset_index(name='count')\n",
    "\n",
    "# Calcular las frecuencias relativas\n",
    "counts['proportion'] = counts.groupby('TOTAL_PASIVOS_1')['count'].transform(lambda x: x / x.sum())\n",
    "\n",
    "# Configurar el tamaño del gráfico\n",
    "plt.figure(figsize=(6, 4))\n",
    "\n",
    "# Crear el gráfico de barras proporcionales utilizando barplot de Seaborn\n",
    "sns.barplot(data=counts, x=\"TOTAL_PASIVOS_1\", y='proportion', palette=['darkblue', 'darkviolet'], hue='EVENTO')\n",
    "\n",
    "# Personalizar el gráfico\n",
    "plt.xlabel('TOTAL PASIVOS <= 2.89')\n",
    "plt.ylabel('Proporción')\n",
    "plt.title('Gráfico de barras proporcionales')\n",
    "\n",
    "# Mostrar el gráfico\n",
    "plt.show()"
   ]
  },
  {
   "cell_type": "code",
   "execution_count": 114,
   "id": "65006e42-8129-4336-93b3-18ccad03a676",
   "metadata": {},
   "outputs": [
    {
     "data": {
      "text/html": [
       "<div>\n",
       "<style scoped>\n",
       "    .dataframe tbody tr th:only-of-type {\n",
       "        vertical-align: middle;\n",
       "    }\n",
       "\n",
       "    .dataframe tbody tr th {\n",
       "        vertical-align: top;\n",
       "    }\n",
       "\n",
       "    .dataframe thead th {\n",
       "        text-align: right;\n",
       "    }\n",
       "</style>\n",
       "<table border=\"1\" class=\"dataframe\">\n",
       "  <thead>\n",
       "    <tr style=\"text-align: right;\">\n",
       "      <th></th>\n",
       "      <th>TOTAL_PASIVOS_1</th>\n",
       "      <th>EVENTO</th>\n",
       "      <th>count</th>\n",
       "      <th>proportion</th>\n",
       "    </tr>\n",
       "  </thead>\n",
       "  <tbody>\n",
       "    <tr>\n",
       "      <th>0</th>\n",
       "      <td>0</td>\n",
       "      <td>0</td>\n",
       "      <td>7784</td>\n",
       "      <td>0.762315</td>\n",
       "    </tr>\n",
       "    <tr>\n",
       "      <th>1</th>\n",
       "      <td>0</td>\n",
       "      <td>1</td>\n",
       "      <td>2427</td>\n",
       "      <td>0.237685</td>\n",
       "    </tr>\n",
       "    <tr>\n",
       "      <th>2</th>\n",
       "      <td>1</td>\n",
       "      <td>0</td>\n",
       "      <td>6897</td>\n",
       "      <td>0.682601</td>\n",
       "    </tr>\n",
       "    <tr>\n",
       "      <th>3</th>\n",
       "      <td>1</td>\n",
       "      <td>1</td>\n",
       "      <td>3207</td>\n",
       "      <td>0.317399</td>\n",
       "    </tr>\n",
       "  </tbody>\n",
       "</table>\n",
       "</div>"
      ],
      "text/plain": [
       "   TOTAL_PASIVOS_1  EVENTO  count  proportion\n",
       "0                0       0   7784    0.762315\n",
       "1                0       1   2427    0.237685\n",
       "2                1       0   6897    0.682601\n",
       "3                1       1   3207    0.317399"
      ]
     },
     "execution_count": 114,
     "metadata": {},
     "output_type": "execute_result"
    }
   ],
   "source": [
    "counts"
   ]
  },
  {
   "cell_type": "code",
   "execution_count": 117,
   "id": "bdca1751-b59a-4367-8983-5c733f054025",
   "metadata": {},
   "outputs": [
    {
     "data": {
      "text/plain": [
       "<Figure size 600x400 with 0 Axes>"
      ]
     },
     "execution_count": 117,
     "metadata": {},
     "output_type": "execute_result"
    },
    {
     "data": {
      "text/plain": [
       "<AxesSubplot:xlabel='TOTAL_PASIVOS_2_RAZON_PASIVOS_ACTIVOS_2', ylabel='proportion'>"
      ]
     },
     "execution_count": 117,
     "metadata": {},
     "output_type": "execute_result"
    },
    {
     "data": {
      "text/plain": [
       "Text(0.5, 0, '2.89 < TOTAL_PASIVOS <= 28 SMLV Y \\n 0.01612 < RAZÓN PASIVOS ACTIVOS <= 0.34681')"
      ]
     },
     "execution_count": 117,
     "metadata": {},
     "output_type": "execute_result"
    },
    {
     "data": {
      "text/plain": [
       "Text(0, 0.5, 'Proporción')"
      ]
     },
     "execution_count": 117,
     "metadata": {},
     "output_type": "execute_result"
    },
    {
     "data": {
      "text/plain": [
       "Text(0.5, 1.0, 'Gráfico de barras proporcionales')"
      ]
     },
     "execution_count": 117,
     "metadata": {},
     "output_type": "execute_result"
    },
    {
     "data": {
      "image/png": "[encoded data removed]",
      "text/plain": [
       "<Figure size 600x400 with 1 Axes>"
      ]
     },
     "metadata": {},
     "output_type": "display_data"
    }
   ],
   "source": [
    "# Obtener los conteos de cada combinación de categorías\n",
    "counts = df1.groupby(['TOTAL_PASIVOS_2_RAZON_PASIVOS_ACTIVOS_2', 'EVENTO']).size().reset_index(name='count')\n",
    "\n",
    "# Calcular las frecuencias relativas\n",
    "counts['proportion'] = counts.groupby('TOTAL_PASIVOS_2_RAZON_PASIVOS_ACTIVOS_2')['count'].transform(lambda x: x / x.sum())\n",
    "\n",
    "# Configurar el tamaño del gráfico\n",
    "plt.figure(figsize=(6, 4))\n",
    "\n",
    "# Crear el gráfico de barras proporcionales utilizando barplot de Seaborn\n",
    "sns.barplot(data=counts, x=\"TOTAL_PASIVOS_2_RAZON_PASIVOS_ACTIVOS_2\", y='proportion', palette=['darkblue', 'darkviolet'], hue='EVENTO')\n",
    "\n",
    "# Personalizar el gráfico\n",
    "plt.xlabel('2.89 < TOTAL_PASIVOS <= 28 SMLV Y \\n 0.01612 < RAZÓN PASIVOS ACTIVOS <= 0.34681')\n",
    "plt.ylabel('Proporción')\n",
    "plt.title('Gráfico de barras proporcionales')\n",
    "\n",
    "# Mostrar el gráfico\n",
    "plt.show()"
   ]
  },
  {
   "cell_type": "code",
   "execution_count": 116,
   "id": "b6ae8479-5906-4c06-8d28-2caebf2905d2",
   "metadata": {},
   "outputs": [
    {
     "data": {
      "text/html": [
       "<div>\n",
       "<style scoped>\n",
       "    .dataframe tbody tr th:only-of-type {\n",
       "        vertical-align: middle;\n",
       "    }\n",
       "\n",
       "    .dataframe tbody tr th {\n",
       "        vertical-align: top;\n",
       "    }\n",
       "\n",
       "    .dataframe thead th {\n",
       "        text-align: right;\n",
       "    }\n",
       "</style>\n",
       "<table border=\"1\" class=\"dataframe\">\n",
       "  <thead>\n",
       "    <tr style=\"text-align: right;\">\n",
       "      <th></th>\n",
       "      <th>TOTAL_PASIVOS_2_RAZON_PASIVOS_ACTIVOS_2</th>\n",
       "      <th>EVENTO</th>\n",
       "      <th>count</th>\n",
       "      <th>proportion</th>\n",
       "    </tr>\n",
       "  </thead>\n",
       "  <tbody>\n",
       "    <tr>\n",
       "      <th>0</th>\n",
       "      <td>0</td>\n",
       "      <td>0</td>\n",
       "      <td>11008</td>\n",
       "      <td>0.705460</td>\n",
       "    </tr>\n",
       "    <tr>\n",
       "      <th>1</th>\n",
       "      <td>0</td>\n",
       "      <td>1</td>\n",
       "      <td>4596</td>\n",
       "      <td>0.294540</td>\n",
       "    </tr>\n",
       "    <tr>\n",
       "      <th>2</th>\n",
       "      <td>1</td>\n",
       "      <td>0</td>\n",
       "      <td>3673</td>\n",
       "      <td>0.779665</td>\n",
       "    </tr>\n",
       "    <tr>\n",
       "      <th>3</th>\n",
       "      <td>1</td>\n",
       "      <td>1</td>\n",
       "      <td>1038</td>\n",
       "      <td>0.220335</td>\n",
       "    </tr>\n",
       "  </tbody>\n",
       "</table>\n",
       "</div>"
      ],
      "text/plain": [
       "   TOTAL_PASIVOS_2_RAZON_PASIVOS_ACTIVOS_2  EVENTO  count  proportion\n",
       "0                                        0       0  11008    0.705460\n",
       "1                                        0       1   4596    0.294540\n",
       "2                                        1       0   3673    0.779665\n",
       "3                                        1       1   1038    0.220335"
      ]
     },
     "execution_count": 116,
     "metadata": {},
     "output_type": "execute_result"
    }
   ],
   "source": [
    "counts"
   ]
  },
  {
   "cell_type": "code",
   "execution_count": null,
   "id": "95edc252-99a8-4a40-9505-78a6f105b13c",
   "metadata": {},
   "outputs": [],
   "source": []
  },
  {
   "cell_type": "code",
   "execution_count": 84,
   "id": "43ebdf59-a9ce-458e-abec-07c1b6a8ccda",
   "metadata": {},
   "outputs": [],
   "source": [
    "df1['SCORE_log']=np.log(df1['SCORE'])\n",
    "#df['mora_2_a_log']=np.log(df['mora_2_a'])\n",
    "#df['DIAS_SISTEMA_log']=np.log(df['DIAS_SISTEMA'])\n",
    "#df['CUPO_log']=np.log(df['CUPO'])\n",
    "#df1['saldo_capital_202202_log']=np.log(df1['saldo_capital_202202'])\n",
    "#df1['edad_log']=np.log(df1['edad'])"
   ]
  },
  {
   "cell_type": "code",
   "execution_count": 86,
   "id": "d1ef72c6-5627-43bf-9f50-d9458e6bdf41",
   "metadata": {},
   "outputs": [
    {
     "data": {
      "text/plain": [
       "0        6.486161\n",
       "1        6.568078\n",
       "2        6.429719\n",
       "3        6.654153\n",
       "4        6.408529\n",
       "           ...   \n",
       "19000    6.665684\n",
       "19001    6.638568\n",
       "19002    6.452049\n",
       "19003    6.688355\n",
       "19004    6.508769\n",
       "Name: SCORE_log, Length: 19005, dtype: float64"
      ]
     },
     "execution_count": 86,
     "metadata": {},
     "output_type": "execute_result"
    }
   ],
   "source": [
    "df1['SCORE_log']"
   ]
  },
  {
   "cell_type": "code",
   "execution_count": 87,
   "id": "d122340e-f692-4d5a-a5cc-0fdbd3bcc361",
   "metadata": {},
   "outputs": [
    {
     "ename": "ValueError",
     "evalue": "Could not interpret value `SCORE_log` for parameter `x`",
     "output_type": "error",
     "traceback": [
      "\u001b[1;31m---------------------------------------------------------------------------\u001b[0m",
      "\u001b[1;31mValueError\u001b[0m                                Traceback (most recent call last)",
      "\u001b[1;32m~\\AppData\\Local\\Temp\\ipykernel_26944\\3629350073.py\u001b[0m in \u001b[0;36m<module>\u001b[1;34m\u001b[0m\n\u001b[0;32m      1\u001b[0m \u001b[0mfig\u001b[0m\u001b[1;33m,\u001b[0m \u001b[0maxs\u001b[0m \u001b[1;33m=\u001b[0m \u001b[0mplt\u001b[0m\u001b[1;33m.\u001b[0m\u001b[0msubplots\u001b[0m\u001b[1;33m(\u001b[0m\u001b[1;36m2\u001b[0m\u001b[1;33m,\u001b[0m \u001b[1;36m2\u001b[0m\u001b[1;33m,\u001b[0m \u001b[0mfigsize\u001b[0m\u001b[1;33m=\u001b[0m\u001b[1;33m(\u001b[0m\u001b[1;36m14\u001b[0m\u001b[1;33m,\u001b[0m \u001b[1;36m7\u001b[0m\u001b[1;33m)\u001b[0m\u001b[1;33m)\u001b[0m\u001b[1;33m\u001b[0m\u001b[1;33m\u001b[0m\u001b[0m\n\u001b[0;32m      2\u001b[0m \u001b[1;33m\u001b[0m\u001b[0m\n\u001b[1;32m----> 3\u001b[1;33m \u001b[0msb\u001b[0m\u001b[1;33m.\u001b[0m\u001b[0mhistplot\u001b[0m\u001b[1;33m(\u001b[0m\u001b[0mdf\u001b[0m\u001b[1;33m=\u001b[0m\u001b[0mdf1\u001b[0m\u001b[1;33m,\u001b[0m \u001b[0mx\u001b[0m\u001b[1;33m=\u001b[0m\u001b[1;34m'SCORE_log'\u001b[0m\u001b[1;33m,\u001b[0m \u001b[0mhue\u001b[0m\u001b[1;33m=\u001b[0m\u001b[1;34m'EVENTO'\u001b[0m\u001b[1;33m,\u001b[0m \u001b[0mkde\u001b[0m\u001b[1;33m=\u001b[0m\u001b[1;32mTrue\u001b[0m\u001b[1;33m,\u001b[0m \u001b[0mpalette\u001b[0m\u001b[1;33m=\u001b[0m\u001b[1;33m[\u001b[0m\u001b[1;34m'darkblue'\u001b[0m\u001b[1;33m,\u001b[0m \u001b[1;34m'darkgreen'\u001b[0m\u001b[1;33m]\u001b[0m\u001b[1;33m,\u001b[0m \u001b[0max\u001b[0m\u001b[1;33m=\u001b[0m\u001b[0maxs\u001b[0m\u001b[1;33m[\u001b[0m\u001b[1;36m0\u001b[0m\u001b[1;33m,\u001b[0m \u001b[1;36m0\u001b[0m\u001b[1;33m]\u001b[0m\u001b[1;33m)\u001b[0m\u001b[1;33m\u001b[0m\u001b[1;33m\u001b[0m\u001b[0m\n\u001b[0m\u001b[0;32m      4\u001b[0m \u001b[0msb\u001b[0m\u001b[1;33m.\u001b[0m\u001b[0mhistplot\u001b[0m\u001b[1;33m(\u001b[0m\u001b[0mdf\u001b[0m\u001b[1;33m=\u001b[0m\u001b[0mdf1\u001b[0m\u001b[1;33m,\u001b[0m \u001b[0mx\u001b[0m\u001b[1;33m=\u001b[0m\u001b[1;34m'VENTAS'\u001b[0m\u001b[1;33m,\u001b[0m \u001b[0mhue\u001b[0m\u001b[1;33m=\u001b[0m\u001b[1;34m'EVENTO'\u001b[0m\u001b[1;33m,\u001b[0m \u001b[0mkde\u001b[0m\u001b[1;33m=\u001b[0m\u001b[1;32mTrue\u001b[0m\u001b[1;33m,\u001b[0m \u001b[0mpalette\u001b[0m\u001b[1;33m=\u001b[0m\u001b[1;33m[\u001b[0m\u001b[1;34m'darkblue'\u001b[0m\u001b[1;33m,\u001b[0m \u001b[1;34m'darkgreen'\u001b[0m\u001b[1;33m]\u001b[0m\u001b[1;33m,\u001b[0m \u001b[0max\u001b[0m\u001b[1;33m=\u001b[0m\u001b[0maxs\u001b[0m\u001b[1;33m[\u001b[0m\u001b[1;36m0\u001b[0m\u001b[1;33m,\u001b[0m \u001b[1;36m1\u001b[0m\u001b[1;33m]\u001b[0m\u001b[1;33m)\u001b[0m\u001b[1;33m\u001b[0m\u001b[1;33m\u001b[0m\u001b[0m\n\u001b[0;32m      5\u001b[0m \u001b[0msb\u001b[0m\u001b[1;33m.\u001b[0m\u001b[0mhistplot\u001b[0m\u001b[1;33m(\u001b[0m\u001b[0mdf\u001b[0m\u001b[1;33m=\u001b[0m\u001b[0mdf1\u001b[0m\u001b[1;33m,\u001b[0m \u001b[0mx\u001b[0m\u001b[1;33m=\u001b[0m\u001b[1;34m'RAZON_PASIVOS_ACTIVOS'\u001b[0m\u001b[1;33m,\u001b[0m \u001b[0mhue\u001b[0m\u001b[1;33m=\u001b[0m\u001b[1;34m'EVENTO'\u001b[0m\u001b[1;33m,\u001b[0m \u001b[0mkde\u001b[0m\u001b[1;33m=\u001b[0m\u001b[1;32mTrue\u001b[0m\u001b[1;33m,\u001b[0m \u001b[0mpalette\u001b[0m\u001b[1;33m=\u001b[0m\u001b[1;33m[\u001b[0m\u001b[1;34m'darkblue'\u001b[0m\u001b[1;33m,\u001b[0m \u001b[1;34m'darkgreen'\u001b[0m\u001b[1;33m]\u001b[0m\u001b[1;33m,\u001b[0m \u001b[0max\u001b[0m\u001b[1;33m=\u001b[0m\u001b[0maxs\u001b[0m\u001b[1;33m[\u001b[0m\u001b[1;36m1\u001b[0m\u001b[1;33m,\u001b[0m \u001b[1;36m0\u001b[0m\u001b[1;33m]\u001b[0m\u001b[1;33m)\u001b[0m\u001b[1;33m\u001b[0m\u001b[1;33m\u001b[0m\u001b[0m\n",
      "\u001b[1;32mC:\\ProgramData\\Anaconda3\\lib\\site-packages\\seaborn\\distributions.py\u001b[0m in \u001b[0;36mhistplot\u001b[1;34m(data, x, y, hue, weights, stat, bins, binwidth, binrange, discrete, cumulative, common_bins, common_norm, multiple, element, fill, shrink, kde, kde_kws, line_kws, thresh, pthresh, pmax, cbar, cbar_ax, cbar_kws, palette, hue_order, hue_norm, color, log_scale, legend, ax, **kwargs)\u001b[0m\n\u001b[0;32m   1428\u001b[0m ):\n\u001b[0;32m   1429\u001b[0m \u001b[1;33m\u001b[0m\u001b[0m\n\u001b[1;32m-> 1430\u001b[1;33m     p = _DistributionPlotter(\n\u001b[0m\u001b[0;32m   1431\u001b[0m         \u001b[0mdata\u001b[0m\u001b[1;33m=\u001b[0m\u001b[0mdata\u001b[0m\u001b[1;33m,\u001b[0m\u001b[1;33m\u001b[0m\u001b[1;33m\u001b[0m\u001b[0m\n\u001b[0;32m   1432\u001b[0m         \u001b[0mvariables\u001b[0m\u001b[1;33m=\u001b[0m\u001b[0m_DistributionPlotter\u001b[0m\u001b[1;33m.\u001b[0m\u001b[0mget_semantics\u001b[0m\u001b[1;33m(\u001b[0m\u001b[0mlocals\u001b[0m\u001b[1;33m(\u001b[0m\u001b[1;33m)\u001b[0m\u001b[1;33m)\u001b[0m\u001b[1;33m\u001b[0m\u001b[1;33m\u001b[0m\u001b[0m\n",
      "\u001b[1;32mC:\\ProgramData\\Anaconda3\\lib\\site-packages\\seaborn\\distributions.py\u001b[0m in \u001b[0;36m__init__\u001b[1;34m(self, data, variables)\u001b[0m\n\u001b[0;32m    109\u001b[0m     ):\n\u001b[0;32m    110\u001b[0m \u001b[1;33m\u001b[0m\u001b[0m\n\u001b[1;32m--> 111\u001b[1;33m         \u001b[0msuper\u001b[0m\u001b[1;33m(\u001b[0m\u001b[1;33m)\u001b[0m\u001b[1;33m.\u001b[0m\u001b[0m__init__\u001b[0m\u001b[1;33m(\u001b[0m\u001b[0mdata\u001b[0m\u001b[1;33m=\u001b[0m\u001b[0mdata\u001b[0m\u001b[1;33m,\u001b[0m \u001b[0mvariables\u001b[0m\u001b[1;33m=\u001b[0m\u001b[0mvariables\u001b[0m\u001b[1;33m)\u001b[0m\u001b[1;33m\u001b[0m\u001b[1;33m\u001b[0m\u001b[0m\n\u001b[0m\u001b[0;32m    112\u001b[0m \u001b[1;33m\u001b[0m\u001b[0m\n\u001b[0;32m    113\u001b[0m     \u001b[1;33m@\u001b[0m\u001b[0mproperty\u001b[0m\u001b[1;33m\u001b[0m\u001b[1;33m\u001b[0m\u001b[0m\n",
      "\u001b[1;32mC:\\ProgramData\\Anaconda3\\lib\\site-packages\\seaborn\\_core.py\u001b[0m in \u001b[0;36m__init__\u001b[1;34m(self, data, variables)\u001b[0m\n\u001b[0;32m    603\u001b[0m     \u001b[1;32mdef\u001b[0m \u001b[0m__init__\u001b[0m\u001b[1;33m(\u001b[0m\u001b[0mself\u001b[0m\u001b[1;33m,\u001b[0m \u001b[0mdata\u001b[0m\u001b[1;33m=\u001b[0m\u001b[1;32mNone\u001b[0m\u001b[1;33m,\u001b[0m \u001b[0mvariables\u001b[0m\u001b[1;33m=\u001b[0m\u001b[1;33m{\u001b[0m\u001b[1;33m}\u001b[0m\u001b[1;33m)\u001b[0m\u001b[1;33m:\u001b[0m\u001b[1;33m\u001b[0m\u001b[1;33m\u001b[0m\u001b[0m\n\u001b[0;32m    604\u001b[0m \u001b[1;33m\u001b[0m\u001b[0m\n\u001b[1;32m--> 605\u001b[1;33m         \u001b[0mself\u001b[0m\u001b[1;33m.\u001b[0m\u001b[0massign_variables\u001b[0m\u001b[1;33m(\u001b[0m\u001b[0mdata\u001b[0m\u001b[1;33m,\u001b[0m \u001b[0mvariables\u001b[0m\u001b[1;33m)\u001b[0m\u001b[1;33m\u001b[0m\u001b[1;33m\u001b[0m\u001b[0m\n\u001b[0m\u001b[0;32m    606\u001b[0m \u001b[1;33m\u001b[0m\u001b[0m\n\u001b[0;32m    607\u001b[0m         \u001b[1;32mfor\u001b[0m \u001b[0mvar\u001b[0m\u001b[1;33m,\u001b[0m \u001b[0mcls\u001b[0m \u001b[1;32min\u001b[0m \u001b[0mself\u001b[0m\u001b[1;33m.\u001b[0m\u001b[0m_semantic_mappings\u001b[0m\u001b[1;33m.\u001b[0m\u001b[0mitems\u001b[0m\u001b[1;33m(\u001b[0m\u001b[1;33m)\u001b[0m\u001b[1;33m:\u001b[0m\u001b[1;33m\u001b[0m\u001b[1;33m\u001b[0m\u001b[0m\n",
      "\u001b[1;32mC:\\ProgramData\\Anaconda3\\lib\\site-packages\\seaborn\\_core.py\u001b[0m in \u001b[0;36massign_variables\u001b[1;34m(self, data, variables)\u001b[0m\n\u001b[0;32m    666\u001b[0m         \u001b[1;32melse\u001b[0m\u001b[1;33m:\u001b[0m\u001b[1;33m\u001b[0m\u001b[1;33m\u001b[0m\u001b[0m\n\u001b[0;32m    667\u001b[0m             \u001b[0mself\u001b[0m\u001b[1;33m.\u001b[0m\u001b[0minput_format\u001b[0m \u001b[1;33m=\u001b[0m \u001b[1;34m\"long\"\u001b[0m\u001b[1;33m\u001b[0m\u001b[1;33m\u001b[0m\u001b[0m\n\u001b[1;32m--> 668\u001b[1;33m             plot_data, variables = self._assign_variables_longform(\n\u001b[0m\u001b[0;32m    669\u001b[0m                 \u001b[0mdata\u001b[0m\u001b[1;33m,\u001b[0m \u001b[1;33m**\u001b[0m\u001b[0mvariables\u001b[0m\u001b[1;33m,\u001b[0m\u001b[1;33m\u001b[0m\u001b[1;33m\u001b[0m\u001b[0m\n\u001b[0;32m    670\u001b[0m             )\n",
      "\u001b[1;32mC:\\ProgramData\\Anaconda3\\lib\\site-packages\\seaborn\\_core.py\u001b[0m in \u001b[0;36m_assign_variables_longform\u001b[1;34m(self, data, **kwargs)\u001b[0m\n\u001b[0;32m    901\u001b[0m \u001b[1;33m\u001b[0m\u001b[0m\n\u001b[0;32m    902\u001b[0m                 \u001b[0merr\u001b[0m \u001b[1;33m=\u001b[0m \u001b[1;34mf\"Could not interpret value `{val}` for parameter `{key}`\"\u001b[0m\u001b[1;33m\u001b[0m\u001b[1;33m\u001b[0m\u001b[0m\n\u001b[1;32m--> 903\u001b[1;33m                 \u001b[1;32mraise\u001b[0m \u001b[0mValueError\u001b[0m\u001b[1;33m(\u001b[0m\u001b[0merr\u001b[0m\u001b[1;33m)\u001b[0m\u001b[1;33m\u001b[0m\u001b[1;33m\u001b[0m\u001b[0m\n\u001b[0m\u001b[0;32m    904\u001b[0m \u001b[1;33m\u001b[0m\u001b[0m\n\u001b[0;32m    905\u001b[0m             \u001b[1;32melse\u001b[0m\u001b[1;33m:\u001b[0m\u001b[1;33m\u001b[0m\u001b[1;33m\u001b[0m\u001b[0m\n",
      "\u001b[1;31mValueError\u001b[0m: Could not interpret value `SCORE_log` for parameter `x`"
     ]
    },
    {
     "data": {
      "image/png": "[encoded data removed]",
      "text/plain": [
       "<Figure size 1400x700 with 4 Axes>"
      ]
     },
     "metadata": {},
     "output_type": "display_data"
    }
   ],
   "source": [
    "fig, axs = plt.subplots(2, 2, figsize=(14, 7))\n",
    "\n",
    "sb.histplot(df=df1, x='SCORE_log', hue='EVENTO', kde=True, palette=['darkblue', 'darkgreen'], ax=axs[0, 0])\n",
    "sb.histplot(df=df1, x='VENTAS', hue='EVENTO', kde=True, palette=['darkblue', 'darkgreen'], ax=axs[0, 1])\n",
    "sb.histplot(df=df1, x='RAZON_PASIVOS_ACTIVOS', hue='EVENTO', kde=True, palette=['darkblue', 'darkgreen'], ax=axs[1, 0])\n",
    "sb.histplot(df=df1, x='EDAD', hue='EVENTO', kde=True, palette=['darkblue', 'darkgreen'], ax=axs[1, 1])"
   ]
  },
  {
   "cell_type": "code",
   "execution_count": null,
   "id": "52015f81-b61f-444f-8447-8ae5bb9e709f",
   "metadata": {},
   "outputs": [],
   "source": [
    "sb.set_theme(style=\"whitegrid\")\n",
    "penguins = sb.load_dfset(\"penguins\")"
   ]
  },
  {
   "cell_type": "code",
   "execution_count": null,
   "id": "b6fe1ca9-6f4e-4d39-a8c1-2d91cbee0148",
   "metadata": {},
   "outputs": [],
   "source": [
    "from sklearn.preprocessing import LabelEncoder, MinMaxScaler"
   ]
  },
  {
   "cell_type": "code",
   "execution_count": null,
   "id": "824effc4-c945-46a4-abe4-ba6a4a4b3856",
   "metadata": {},
   "outputs": [],
   "source": [
    "df1=df[variables3]"
   ]
  },
  {
   "cell_type": "code",
   "execution_count": null,
   "id": "21a55ffd-9e50-403e-8463-19fd7f27de48",
   "metadata": {},
   "outputs": [],
   "source": [
    "import seaborn as sns\n",
    "import matplotlib.pyplot as plt\n",
    "\n",
    "# Obtener los conteos de cada combinación de categorías\n",
    "counts = df1.groupby(['FRANJA_0_D', 'evento']).size().reset_index(name='count')\n",
    "\n",
    "# Calcular las frecuencias relativas\n",
    "counts['proportion'] = counts.groupby('FRANJA_0_D')['count'].transform(lambda x: x / x.sum())\n",
    "\n",
    "# Configurar el tamaño del gráfico\n",
    "plt.figure(figsize=(6, 4))\n",
    "\n",
    "# Crear el gráfico de barras proporcionales utilizando barplot de Seaborn\n",
    "sns.barplot(df=counts, x='FRANJA_0_D', y='proportion',palette=['darkblue', 'darkgreen'], hue='evento')\n",
    "\n",
    "# Personalizar el gráfico\n",
    "plt.xlabel('FRANJA_0_D')\n",
    "plt.ylabel('Proporción')\n",
    "plt.title('Gráfico de barras proporcionales')\n",
    "\n",
    "# Mostrar el gráfico\n",
    "plt.show()"
   ]
  },
  {
   "cell_type": "code",
   "execution_count": null,
   "id": "b32c816c-2330-4120-8174-724919db0348",
   "metadata": {},
   "outputs": [],
   "source": [
    "counts.to_excel('C:/Users/damartinezp/Documents/Proyectos Borrador/PD_C1/202205_modelo/Descriptivas/FRANJA_0_D_frec_rta.xlsx', index=True)"
   ]
  },
  {
   "cell_type": "code",
   "execution_count": null,
   "id": "c5e06594-3bd1-42ca-b988-9f91969f623d",
   "metadata": {},
   "outputs": [],
   "source": [
    "import seaborn as sns\n",
    "import matplotlib.pyplot as plt\n",
    "\n",
    "# Obtener los conteos de cada combinación de categorías\n",
    "counts = df1.groupby(['TP_pp', 'evento']).size().reset_index(name='count')\n",
    "\n",
    "# Calcular las frecuencias relativas\n",
    "counts['proportion'] = counts.groupby('TP_pp')['count'].transform(lambda x: x / x.sum())\n",
    "\n",
    "# Configurar el tamaño del gráfico\n",
    "plt.figure(figsize=(6, 4))\n",
    "\n",
    "# Crear el gráfico de barras proporcionales utilizando barplot de Seaborn\n",
    "sns.barplot(df=counts, x='TP_pp', y='proportion',palette=['darkblue', 'darkgreen'], hue='evento')\n",
    "\n",
    "# Personalizar el gráfico\n",
    "plt.xlabel('TP_pp')\n",
    "plt.ylabel('Proporción')\n",
    "plt.title('Gráfico de barras proporcionales')\n",
    "\n",
    "# Mostrar el gráfico\n",
    "plt.show()"
   ]
  },
  {
   "cell_type": "code",
   "execution_count": null,
   "id": "c73f45be-438f-42a3-875f-d22cbead25b8",
   "metadata": {},
   "outputs": [],
   "source": [
    "counts.to_excel('C:/Users/damartinezp/Documents/Proyectos Borrador/PD_C1/202205_modelo/Descriptivas/TP_pp_frec_rta.xlsx', index=True)"
   ]
  },
  {
   "cell_type": "code",
   "execution_count": null,
   "id": "259b0b60-e5fa-4343-8dcd-dc7503bc7afb",
   "metadata": {},
   "outputs": [],
   "source": [
    "import seaborn as sns\n",
    "import matplotlib.pyplot as plt\n",
    "\n",
    "# Obtener los conteos de cada combinación de categorías\n",
    "counts = df1.groupby(['FRANJA_31_90_D', 'evento']).size().reset_index(name='count')\n",
    "\n",
    "# Calcular las frecuencias relativas\n",
    "counts['proportion'] = counts.groupby('FRANJA_31_90_D')['count'].transform(lambda x: x / x.sum())\n",
    "\n",
    "# Configurar el tamaño del gráfico\n",
    "plt.figure(figsize=(6, 4))\n",
    "\n",
    "# Crear el gráfico de barras proporcionales utilizando barplot de Seaborn\n",
    "sns.barplot(df=counts, x='FRANJA_31_90_D', y='proportion',palette=['darkblue', 'darkgreen'], hue='evento')\n",
    "\n",
    "# Personalizar el gráfico\n",
    "plt.xlabel('FRANJA_31_90_D')\n",
    "plt.ylabel('Proporción')\n",
    "plt.title('Gráfico de barras proporcionales')\n",
    "\n",
    "# Mostrar el gráfico\n",
    "plt.show()"
   ]
  },
  {
   "cell_type": "code",
   "execution_count": null,
   "id": "c2859e16-e712-472f-865a-2f3084785709",
   "metadata": {},
   "outputs": [],
   "source": [
    "counts.to_excel('C:/Users/damartinezp/Documents/Proyectos Borrador/PD_C1/202205_modelo/Descriptivas/FRANJA_31_90_D_frec_rta.xlsx', index=True)"
   ]
  },
  {
   "cell_type": "code",
   "execution_count": null,
   "id": "84389a6a-9fdb-46fd-bb86-c1b222583f12",
   "metadata": {},
   "outputs": [],
   "source": [
    "import seaborn as sns\n",
    "import matplotlib.pyplot as plt\n",
    "\n",
    "# Obtener los conteos de cada combinación de categorías\n",
    "counts = df1.groupby(['PR_O_D', 'evento']).size().reset_index(name='count')\n",
    "\n",
    "# Calcular las frecuencias relativas\n",
    "counts['proportion'] = counts.groupby('PR_O_D')['count'].transform(lambda x: x / x.sum())\n",
    "\n",
    "# Configurar el tamaño del gráfico\n",
    "plt.figure(figsize=(6, 4))\n",
    "\n",
    "# Crear el gráfico de barras proporcionales utilizando barplot de Seaborn\n",
    "sns.barplot(df=counts, x='PR_O_D', y='proportion',palette=['darkblue', 'darkgreen'], hue='evento')\n",
    "\n",
    "# Personalizar el gráfico\n",
    "plt.xlabel('PR_O_D')\n",
    "plt.ylabel('Proporción')\n",
    "plt.title('Gráfico de barras proporcionales')\n",
    "\n",
    "# Mostrar el gráfico\n",
    "plt.show()"
   ]
  },
  {
   "cell_type": "code",
   "execution_count": null,
   "id": "93b59712-57b8-4180-accb-df993481bcbf",
   "metadata": {},
   "outputs": [],
   "source": [
    "counts.to_excel('C:/Users/damartinezp/Documents/Proyectos Borrador/PD_C1/202205_modelo/Descriptivas/PR_O_D_frec_rta.xlsx', index=True)"
   ]
  },
  {
   "cell_type": "code",
   "execution_count": null,
   "id": "f54314e6-fefd-4b1c-bbe2-5fb6610038db",
   "metadata": {},
   "outputs": [],
   "source": [
    "import seaborn as sns\n",
    "import matplotlib.pyplot as plt\n",
    "\n",
    "# Obtener los conteos de cada combinación de categorías\n",
    "counts = df1.groupby(['PR_1_D', 'evento']).size().reset_index(name='count')\n",
    "\n",
    "# Calcular las frecuencias relativas\n",
    "counts['proportion'] = counts.groupby('PR_1_D')['count'].transform(lambda x: x / x.sum())\n",
    "\n",
    "# Configurar el tamaño del gráfico\n",
    "plt.figure(figsize=(6, 4))\n",
    "\n",
    "# Crear el gráfico de barras proporcionales utilizando barplot de Seaborn\n",
    "sns.barplot(df=counts, x='PR_1_D', y='proportion', palette=['darkblue', 'darkgreen'], hue='evento')\n",
    "\n",
    "# Personalizar el gráfico\n",
    "plt.xlabel('PR_1_D')\n",
    "plt.ylabel('Proporción')\n",
    "plt.title('Gráfico de barras proporcionales')\n",
    "\n",
    "# Mostrar el gráfico\n",
    "plt.show()"
   ]
  },
  {
   "cell_type": "code",
   "execution_count": null,
   "id": "351d508b-7a98-401b-a52a-a3f1e4bcc980",
   "metadata": {},
   "outputs": [],
   "source": [
    "counts.to_excel('C:/Users/damartinezp/Documents/Proyectos Borrador/PD_C1/202205_modelo/Descriptivas/PR_1_D_frec_rta.xlsx', index=True)"
   ]
  },
  {
   "cell_type": "code",
   "execution_count": null,
   "id": "e93057cd-a432-4da4-b449-26bf421ec17b",
   "metadata": {},
   "outputs": [],
   "source": [
    "import seaborn as sns\n",
    "import matplotlib.pyplot as plt\n",
    "\n",
    "# Obtener los conteos de cada combinación de categorías\n",
    "counts = df1.groupby(['P_MP6', 'evento']).size().reset_index(name='count')\n",
    "\n",
    "# Calcular las frecuencias relativas\n",
    "counts['proportion'] = counts.groupby('P_MP6')['count'].transform(lambda x: x / x.sum())\n",
    "\n",
    "# Configurar el tamaño del gráfico\n",
    "plt.figure(figsize=(6, 4))\n",
    "\n",
    "# Crear el gráfico de barras proporcionales utilizando barplot de Seaborn\n",
    "sns.barplot(df=counts, x='P_MP6', y='proportion', palette=['darkblue', 'darkgreen'], hue='evento')\n",
    "\n",
    "# Personalizar el gráfico\n",
    "plt.xlabel('P_MP6')\n",
    "plt.ylabel('Proporción')\n",
    "plt.title('Gráfico de barras proporcionales')\n",
    "\n",
    "# Mostrar el gráfico\n",
    "plt.show()"
   ]
  },
  {
   "cell_type": "code",
   "execution_count": null,
   "id": "ef602572-72bc-4852-874c-ec4488a9abda",
   "metadata": {},
   "outputs": [],
   "source": [
    "counts.to_excel('C:/Users/damartinezp/Documents/Proyectos Borrador/PD_C1/202205_modelo/Descriptivas/P_MP6_frec_rta.xlsx', index=True)"
   ]
  },
  {
   "cell_type": "code",
   "execution_count": null,
   "id": "0deeb0e3-d423-4e6b-a5b0-cd5130540b50",
   "metadata": {},
   "outputs": [],
   "source": [
    "import seaborn as sns\n",
    "import matplotlib.pyplot as plt\n",
    "\n",
    "# Obtener los conteos de cada combinación de categorías\n",
    "counts = df1.groupby([\"P_Dis\", 'evento']).size().reset_index(name='count')\n",
    "\n",
    "# Calcular las frecuencias relativas\n",
    "counts['proportion'] = counts.groupby(\"P_Dis\")['count'].transform(lambda x: x / x.sum())\n",
    "\n",
    "# Configurar el tamaño del gráfico\n",
    "plt.figure(figsize=(6, 4))\n",
    "\n",
    "# Crear el gráfico de barras proporcionales utilizando barplot de Seaborn\n",
    "sns.barplot(df=counts, x=\"P_Dis\", y='proportion', palette=['darkblue', 'darkgreen'], hue='evento')\n",
    "\n",
    "# Personalizar el gráfico\n",
    "plt.xlabel(\"P_Dis\")\n",
    "plt.ylabel('Proporción')\n",
    "plt.title('Gráfico de barras proporcionales')\n",
    "\n",
    "# Mostrar el gráfico\n",
    "plt.show()"
   ]
  },
  {
   "cell_type": "code",
   "execution_count": null,
   "id": "7342d559-42eb-4d6a-a8ed-ef288645c2ba",
   "metadata": {},
   "outputs": [],
   "source": [
    "counts.to_excel('C:/Users/damartinezp/Documents/Proyectos Borrador/PD_C1/202205_modelo/Descriptivas/P_Dis_frec_rta.xlsx', index=True)"
   ]
  },
  {
   "cell_type": "code",
   "execution_count": null,
   "id": "74ec4062-b948-46b6-9a7f-776ca70936eb",
   "metadata": {},
   "outputs": [],
   "source": [
    "import seaborn as sns\n",
    "import matplotlib.pyplot as plt\n",
    "\n",
    "# Obtener los conteos de cada combinación de categorías\n",
    "counts = df1.groupby([\"PR_AGRUP\", 'evento']).size().reset_index(name='count')\n",
    "\n",
    "# Calcular las frecuencias relativas\n",
    "counts['proportion'] = counts.groupby(\"PR_AGRUP\")['count'].transform(lambda x: x / x.sum())\n",
    "\n",
    "# Configurar el tamaño del gráfico\n",
    "plt.figure(figsize=(6, 4))\n",
    "\n",
    "# Crear el gráfico de barras proporcionales utilizando barplot de Seaborn\n",
    "sns.barplot(df=counts, x=\"PR_AGRUP\", y='proportion', palette=['darkblue', 'darkgreen'], hue='evento')\n",
    "\n",
    "# Personalizar el gráfico\n",
    "plt.xlabel(\"PR_AGRUP\")\n",
    "plt.ylabel('Proporción')\n",
    "plt.title('Gráfico de barras proporcionales')\n",
    "\n",
    "# Mostrar el gráfico\n",
    "plt.show()"
   ]
  },
  {
   "cell_type": "code",
   "execution_count": null,
   "id": "74581f55-a496-4cd6-9605-2254712383b5",
   "metadata": {},
   "outputs": [],
   "source": [
    "counts.to_excel('C:/Users/damartinezp/Documents/Proyectos Borrador/PD_C1/202205_modelo/Descriptivas/PR_AGRUP_frec_rta.xlsx', index=True)"
   ]
  },
  {
   "cell_type": "code",
   "execution_count": null,
   "id": "f561e71a-1eb1-4b77-96b2-455259c10d19",
   "metadata": {},
   "outputs": [],
   "source": [
    "import seaborn as sns\n",
    "import matplotlib.pyplot as plt\n",
    "\n",
    "# Obtener los conteos de cada combinación de categorías\n",
    "counts = df1.groupby(['C_AuM', 'evento']).size().reset_index(name='count')\n",
    "\n",
    "# Calcular las frecuencias relativas\n",
    "counts['proportion'] = counts.groupby('C_AuM')['count'].transform(lambda x: x / x.sum())\n",
    "\n",
    "# Configurar el tamaño del gráfico\n",
    "plt.figure(figsize=(6, 4))\n",
    "\n",
    "# Crear el gráfico de barras proporcionales utilizando barplot de Seaborn\n",
    "sns.barplot(df=counts, x='C_AuM', y='proportion', palette=['darkblue', 'darkgreen'], hue='evento')\n",
    "\n",
    "# Personalizar el gráfico\n",
    "plt.xlabel('C_AuM')\n",
    "plt.ylabel('Proporción')\n",
    "plt.title('Gráfico de barras proporcionales')\n",
    "\n",
    "# Mostrar el gráfico\n",
    "plt.show()"
   ]
  },
  {
   "cell_type": "code",
   "execution_count": null,
   "id": "bd16f66d-8939-4e4c-95e8-2612d8862dfd",
   "metadata": {},
   "outputs": [],
   "source": [
    "counts.to_excel('C:/Users/damartinezp/Documents/Proyectos Borrador/PD_C1/202205_modelo/Descriptivas/C_AuM_frec_rta.xlsx', index=True)"
   ]
  },
  {
   "cell_type": "markdown",
   "id": "7c213a16-37b2-420c-932e-a0c6744d34ad",
   "metadata": {},
   "source": [
    "## Descriptiva PD CrediUno"
   ]
  },
  {
   "cell_type": "code",
   "execution_count": null,
   "id": "bffa83a1-67a1-4b67-a282-b7f114e973c0",
   "metadata": {},
   "outputs": [],
   "source": [
    "df = pd.read_excel(\"C:/Users/damartinezp/Documents/Proyectos Borrador/PD_C1/Resumen_PD_C1.xlsx\")"
   ]
  },
  {
   "cell_type": "code",
   "execution_count": null,
   "id": "1e8ec41c-0444-40bd-847b-4f960b2e7ee4",
   "metadata": {},
   "outputs": [],
   "source": [
    "df.Fecha=pd.to_datetime(df.Fecha)\n",
    "df1=df.set_index('Fecha')#indica que la serie es mensual\n",
    "PD_C1=df1['PD_C1']##Convertir en serie de tiempo\n",
    "PD_C1=PD_C1.dropna()"
   ]
  },
  {
   "cell_type": "code",
   "execution_count": null,
   "id": "8b9fb9cf-860b-43e7-9e74-45018ecc84b2",
   "metadata": {},
   "outputs": [],
   "source": [
    "PD_C1=pd.dfFrame(PD_C1)"
   ]
  },
  {
   "cell_type": "code",
   "execution_count": null,
   "id": "04702507-e1e7-49a1-9d3b-9f3bc86bf2c1",
   "metadata": {},
   "outputs": [],
   "source": [
    "plt.rc('font', size=12)\n",
    "fig, ax = plt.subplots(figsize=(10, 6))\n",
    "ax.plot(PD_C1, color='b', label='PD_C1')\n",
    "ax.set_xlabel('Mes')\n",
    "ax.set_title('PD CREDIUNO 2017-2022')\n",
    "ax.grid(True)\n",
    "ax.legend(loc='upper left');"
   ]
  },
  {
   "cell_type": "code",
   "execution_count": null,
   "id": "43b36777-d57b-44e6-b90b-766bf2adcd35",
   "metadata": {},
   "outputs": [],
   "source": []
  }
 ],
 "metadata": {
  "kernelspec": {
   "display_name": "Python 3 (ipykernel)",
   "language": "python",
   "name": "python3"
  },
  "language_info": {
   "codemirror_mode": {
    "name": "ipython",
    "version": 3
   },
   "file_extension": ".py",
   "mimetype": "text/x-python",
   "name": "python",
   "nbconvert_exporter": "python",
   "pygments_lexer": "ipython3",
   "version": "3.11.4"
  }
 },
 "nbformat": 4,
 "nbformat_minor": 5
}
