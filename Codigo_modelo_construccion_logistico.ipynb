{
 "cells": [
  {
   "cell_type": "code",
   "execution_count": 4,
   "id": "dda5710e-cd46-464a-988f-41d4f9e180d3",
   "metadata": {},
   "outputs": [],
   "source": [
    "from matplotlib import pyplot as plt\n",
    "import pickle\n",
    "import random\n",
    "import seaborn as sns\n",
    "import pandas as pd                                 #Procesamiento de datos.\n",
    "import numpy as np                                  #Álgebra lineal.\n",
    "import math                                         #Para calcular función piso y techo.\n",
    "import seaborn as sns\n",
    "import joblib\n",
    "seed=42\n",
    "random.seed(seed)\n",
    "np.random.seed(seed)\n",
    "\n",
    "from sklearn import model_selection \n",
    "from sklearn.preprocessing import MinMaxScaler, LabelEncoder\n",
    "from sklearn.model_selection import train_test_split, cross_validate, StratifiedKFold, cross_val_predict\n",
    "from sklearn.linear_model import LogisticRegression\n",
    "from sklearn.metrics import accuracy_score, precision_score, recall_score, f1_score, roc_auc_score, log_loss, confusion_matrix\n",
    "\n",
    "#from imblearn.under_sampling import RandomUnderSampler\n",
    "#from imblearn.over_sampling import SMOTE, RandomOverSampler"
   ]
  },
  {
   "cell_type": "code",
   "execution_count": 5,
   "id": "7c72dcf5-c093-4edb-b015-efbb7de48da2",
   "metadata": {},
   "outputs": [],
   "source": [
    "df_Mayo_2023 = pd.read_excel(\"C:/Users/damartinezp/OneDrive - BAN100 S.A/Documentos/Proyectos Borrador/PD_C1/2024_modelo/datos_202305.xlsx\")"
   ]
  },
  {
   "cell_type": "code",
   "execution_count": 6,
   "id": "d1c28dbf-032a-4436-86a7-338c85559990",
   "metadata": {},
   "outputs": [],
   "source": [
    "df_Junio_2023 = pd.read_excel(\"C:/Users/damartinezp/OneDrive - BAN100 S.A/Documentos/Proyectos Borrador/PD_C1/2024_modelo/datos_202306.xlsx\")"
   ]
  },
  {
   "cell_type": "code",
   "execution_count": 7,
   "id": "26d75517-c1a3-4585-9548-03627292fb43",
   "metadata": {},
   "outputs": [],
   "source": [
    "df_Julio_2023 = pd.read_excel(\"C:/Users/damartinezp/OneDrive - BAN100 S.A/Documentos/Proyectos Borrador/PD_C1/2024_modelo/datos_202307.xlsx\")"
   ]
  },
  {
   "cell_type": "code",
   "execution_count": 8,
   "id": "7577830a-982f-45fb-8d11-75317a67007c",
   "metadata": {},
   "outputs": [],
   "source": [
    "df_Agosto_2023 = pd.read_excel(\"C:/Users/damartinezp/OneDrive - BAN100 S.A/Documentos/Proyectos Borrador/PD_C1/2024_modelo/datos_202308.xlsx\")"
   ]
  },
  {
   "cell_type": "code",
   "execution_count": 9,
   "id": "b4ce4f27-22e4-4591-9ef4-3cabcd964cc8",
   "metadata": {},
   "outputs": [],
   "source": [
    "df_Septiembre_2023 = pd.read_excel(\"C:/Users/damartinezp/OneDrive - BAN100 S.A/Documentos/Proyectos Borrador/PD_C1/2024_modelo/datos_202309.xlsx\")"
   ]
  },
  {
   "cell_type": "code",
   "execution_count": 209,
   "id": "952e55e8-4c71-4bd2-8f48-3c9cb262d908",
   "metadata": {},
   "outputs": [],
   "source": [
    "cast_dias_sistema_Mayo_2023=df_Mayo_2023[df_Mayo_2023['dias_sistema']>90]\n",
    "cast_dias_sistema_1m_a_Mayo_2023=df_Mayo_2023[df_Mayo_2023['mora_1_a']>120]\n",
    "cast_dias_sistema_2m_a_Mayo_2023=df_Mayo_2023[df_Mayo_2023['mora_2_a']>150]\n",
    "df_filt_Mayo_2023=df_Mayo_2023[df_Mayo_2023['dias_sistema']<=90]\n",
    "df_filt_Mayo_2023=df_filt_Mayo_2023[df_filt_Mayo_2023['mora_1_a']<=120]\n",
    "df_filt_Mayo_2023=df_filt_Mayo_2023[df_filt_Mayo_2023['mora_2_a']<=150]\n",
    "percentil_99 = np.percentile(df_filt_Mayo_2023['CUPO'], 99)\n",
    "cupo_mayor_Mayo_2023=df_filt_Mayo_2023[df_filt_Mayo_2023['CUPO'] > percentil_99]\n",
    "df_filt_Mayo_2023['CUPO'] = df_filt_Mayo_2023['CUPO'].apply(lambda x: percentil_99 if x >= percentil_99 else x)\n",
    "df_filt_Mayo_2023 = df_filt_Mayo_2023.reset_index(drop=True)"
   ]
  },
  {
   "cell_type": "code",
   "execution_count": 210,
   "id": "1398a500-e748-4877-bc05-7f88e4a52965",
   "metadata": {},
   "outputs": [],
   "source": [
    "cast_dias_sistema_Junio_2023=df_Junio_2023[df_Junio_2023['dias_sistema']>90]\n",
    "cast_dias_sistema_1m_a_Junio_2023=df_Junio_2023[df_Junio_2023['mora_1_a']>120]\n",
    "cast_dias_sistema_2m_a_Junio_2023=df_Junio_2023[df_Junio_2023['mora_2_a']>150]\n",
    "df_filt_Junio_2023=df_Junio_2023[df_Junio_2023['dias_sistema']<=90]\n",
    "df_filt_Junio_2023=df_filt_Junio_2023[df_filt_Junio_2023['mora_1_a']<=120]\n",
    "df_filt_Junio_2023=df_filt_Junio_2023[df_filt_Junio_2023['mora_2_a']<=150]\n",
    "percentil_99 = np.percentile(df_filt_Junio_2023['CUPO'], 99)\n",
    "cupo_mayor_Junio_2023=df_filt_Junio_2023[df_filt_Junio_2023['CUPO'] > percentil_99]\n",
    "df_filt_Junio_2023['CUPO'] = df_filt_Junio_2023['CUPO'].apply(lambda x: percentil_99 if x >= percentil_99 else x)\n",
    "df_filt_Junio_2023 = df_filt_Junio_2023.reset_index(drop=True)\n",
    "\n",
    "                                        \n",
    "cast_dias_sistema_Julio_2023=df_Julio_2023[df_Julio_2023['dias_sistema']>90]\n",
    "cast_dias_sistema_1m_a_Julio_2023=df_Julio_2023[df_Julio_2023['mora_1_a']>120]\n",
    "cast_dias_sistema_2m_a_Julio_2023=df_Julio_2023[df_Julio_2023['mora_2_a']>150]\n",
    "df_filt_Julio_2023=df_Julio_2023[df_Julio_2023['dias_sistema']<=90]\n",
    "df_filt_Julio_2023=df_filt_Julio_2023[df_filt_Julio_2023['mora_1_a']<=120]\n",
    "df_filt_Julio_2023=df_filt_Julio_2023[df_filt_Julio_2023['mora_2_a']<=150]\n",
    "percentil_99 = np.percentile(df_filt_Julio_2023['CUPO'], 99)\n",
    "cupo_mayor_Julio_2023=df_filt_Julio_2023[df_filt_Julio_2023['CUPO'] > percentil_99]\n",
    "df_filt_Julio_2023['CUPO'] = df_filt_Julio_2023['CUPO'].apply(lambda x: percentil_99 if x >= percentil_99 else x)\n",
    "df_filt_Julio_2023 = df_filt_Julio_2023.reset_index(drop=True)\n",
    "\n",
    "\n",
    "cast_dias_sistema_Agosto_2023=df_Agosto_2023[df_Agosto_2023['dias_sistema']>90]\n",
    "cast_dias_sistema_1m_a_Agosto_2023=df_Agosto_2023[df_Agosto_2023['mora_1_a']>120]\n",
    "cast_dias_sistema_2m_a_Agosto_2023=df_Agosto_2023[df_Agosto_2023['mora_2_a']>150]\n",
    "df_filt_Agosto_2023=df_Agosto_2023[df_Agosto_2023['dias_sistema']<=90]\n",
    "df_filt_Agosto_2023=df_filt_Agosto_2023[df_filt_Agosto_2023['mora_1_a']<=120]\n",
    "df_filt_Agosto_2023=df_filt_Agosto_2023[df_filt_Agosto_2023['mora_2_a']<=150]\n",
    "percentil_99 = np.percentile(df_filt_Agosto_2023['CUPO'], 99)\n",
    "cupo_mayor_Agosto_2023=df_filt_Agosto_2023[df_filt_Agosto_2023['CUPO'] > percentil_99]\n",
    "df_filt_Agosto_2023['CUPO'] = df_filt_Agosto_2023['CUPO'].apply(lambda x: percentil_99 if x >= percentil_99 else x)\n",
    "df_filt_Agosto_2023 = df_filt_Agosto_2023.reset_index(drop=True)\n",
    "\n",
    "cast_dias_sistema_Septiembre_2023=df_Septiembre_2023[df_Septiembre_2023['dias_sistema']>90]\n",
    "cast_dias_sistema_1m_a_Septiembre_2023=df_Septiembre_2023[df_Septiembre_2023['mora_1_a']>120]\n",
    "cast_dias_sistema_2m_a_Septiembre_2023=df_Septiembre_2023[df_Septiembre_2023['mora_2_a']>150]\n",
    "df_filt_Septiembre_2023=df_Septiembre_2023[df_Septiembre_2023['dias_sistema']<=90]\n",
    "df_filt_Septiembre_2023=df_filt_Septiembre_2023[df_filt_Septiembre_2023['mora_1_a']<=120]\n",
    "df_filt_Septiembre_2023=df_filt_Septiembre_2023[df_filt_Septiembre_2023['mora_2_a']<=150]\n",
    "percentil_99 = np.percentile(df_filt_Septiembre_2023['CUPO'], 99)\n",
    "cupo_mayor_Septiembre_2023=df_filt_Septiembre_2023[df_filt_Septiembre_2023['CUPO'] > percentil_99]\n",
    "df_filt_Septiembre_2023['CUPO'] = df_filt_Septiembre_2023['CUPO'].apply(lambda x: percentil_99 if x >= percentil_99 else x)\n",
    "df_filt_Septiembre_2023 = df_filt_Septiembre_2023.reset_index(drop=True)"
   ]
  },
  {
   "cell_type": "code",
   "execution_count": 211,
   "id": "bd8fc671-904b-4e07-965c-26f811f7c6c4",
   "metadata": {},
   "outputs": [
    {
     "data": {
      "text/plain": [
       "marca_default\n",
       "0    101528\n",
       "1     47824\n",
       "Name: count, dtype: int64"
      ]
     },
     "execution_count": 211,
     "metadata": {},
     "output_type": "execute_result"
    }
   ],
   "source": [
    "df_filt_Mayo_2023['marca_default'].value_counts()"
   ]
  },
  {
   "cell_type": "code",
   "execution_count": 212,
   "id": "8a0e1194-e158-4708-9118-b95261ce2d0a",
   "metadata": {},
   "outputs": [
    {
     "data": {
      "text/plain": [
       "marca_default\n",
       "0    0.67979\n",
       "1    0.32021\n",
       "Name: count, dtype: float64"
      ]
     },
     "execution_count": 212,
     "metadata": {},
     "output_type": "execute_result"
    }
   ],
   "source": [
    "df_filt_Mayo_2023['marca_default'].value_counts()/len(df_filt_Mayo_2023)"
   ]
  },
  {
   "cell_type": "code",
   "execution_count": 213,
   "id": "b9834825-d4cb-4df4-91a0-3898e794e988",
   "metadata": {},
   "outputs": [
    {
     "name": "stdout",
     "output_type": "stream",
     "text": [
      "Total de individuos filtrados:\n",
      " 8020\n"
     ]
    }
   ],
   "source": [
    "print(\"Total de individuos filtrados:\\n\",(len(df_Mayo_2023)-len(df_filt_Mayo_2023)))"
   ]
  },
  {
   "cell_type": "markdown",
   "id": "355eefa9-0536-4d00-a4e2-3639104d18b2",
   "metadata": {},
   "source": [
    "#### Variables a tener en cuenta"
   ]
  },
  {
   "cell_type": "code",
   "execution_count": 323,
   "id": "b3e73e86-9457-478b-af14-6bfe42f5d4df",
   "metadata": {},
   "outputs": [
    {
     "data": {
      "text/html": [
       "<div>\n",
       "<style scoped>\n",
       "    .dataframe tbody tr th:only-of-type {\n",
       "        vertical-align: middle;\n",
       "    }\n",
       "\n",
       "    .dataframe tbody tr th {\n",
       "        vertical-align: top;\n",
       "    }\n",
       "\n",
       "    .dataframe thead th {\n",
       "        text-align: right;\n",
       "    }\n",
       "</style>\n",
       "<table border=\"1\" class=\"dataframe\">\n",
       "  <thead>\n",
       "    <tr style=\"text-align: right;\">\n",
       "      <th></th>\n",
       "      <th>dias_sistema</th>\n",
       "      <th>P_MP6</th>\n",
       "      <th>TP_pp</th>\n",
       "      <th>CUPO</th>\n",
       "      <th>mora_1_a</th>\n",
       "      <th>PR_O_D</th>\n",
       "      <th>mora_2_a</th>\n",
       "      <th>C_AuM</th>\n",
       "      <th>PR_1_D</th>\n",
       "      <th>marca_default</th>\n",
       "    </tr>\n",
       "  </thead>\n",
       "  <tbody>\n",
       "    <tr>\n",
       "      <th>count</th>\n",
       "      <td>149352.000000</td>\n",
       "      <td>149352.000000</td>\n",
       "      <td>149352.000000</td>\n",
       "      <td>1.493520e+05</td>\n",
       "      <td>149352.000000</td>\n",
       "      <td>149352.000000</td>\n",
       "      <td>149352.000000</td>\n",
       "      <td>149352.000000</td>\n",
       "      <td>149352.000000</td>\n",
       "      <td>149352.000000</td>\n",
       "    </tr>\n",
       "    <tr>\n",
       "      <th>mean</th>\n",
       "      <td>16.096684</td>\n",
       "      <td>0.651602</td>\n",
       "      <td>0.211668</td>\n",
       "      <td>2.918076e+06</td>\n",
       "      <td>14.772691</td>\n",
       "      <td>0.201464</td>\n",
       "      <td>13.051710</td>\n",
       "      <td>0.162609</td>\n",
       "      <td>0.384280</td>\n",
       "      <td>0.320210</td>\n",
       "    </tr>\n",
       "    <tr>\n",
       "      <th>std</th>\n",
       "      <td>26.313760</td>\n",
       "      <td>0.476465</td>\n",
       "      <td>0.408492</td>\n",
       "      <td>1.982800e+06</td>\n",
       "      <td>26.313752</td>\n",
       "      <td>0.401095</td>\n",
       "      <td>25.884611</td>\n",
       "      <td>0.369010</td>\n",
       "      <td>0.486426</td>\n",
       "      <td>0.466559</td>\n",
       "    </tr>\n",
       "    <tr>\n",
       "      <th>min</th>\n",
       "      <td>0.000000</td>\n",
       "      <td>0.000000</td>\n",
       "      <td>0.000000</td>\n",
       "      <td>5.000000e+04</td>\n",
       "      <td>0.000000</td>\n",
       "      <td>0.000000</td>\n",
       "      <td>0.000000</td>\n",
       "      <td>0.000000</td>\n",
       "      <td>0.000000</td>\n",
       "      <td>0.000000</td>\n",
       "    </tr>\n",
       "    <tr>\n",
       "      <th>25%</th>\n",
       "      <td>0.000000</td>\n",
       "      <td>0.000000</td>\n",
       "      <td>0.000000</td>\n",
       "      <td>1.200000e+06</td>\n",
       "      <td>0.000000</td>\n",
       "      <td>0.000000</td>\n",
       "      <td>0.000000</td>\n",
       "      <td>0.000000</td>\n",
       "      <td>0.000000</td>\n",
       "      <td>0.000000</td>\n",
       "    </tr>\n",
       "    <tr>\n",
       "      <th>50%</th>\n",
       "      <td>0.000000</td>\n",
       "      <td>1.000000</td>\n",
       "      <td>0.000000</td>\n",
       "      <td>2.440000e+06</td>\n",
       "      <td>0.000000</td>\n",
       "      <td>0.000000</td>\n",
       "      <td>0.000000</td>\n",
       "      <td>0.000000</td>\n",
       "      <td>0.000000</td>\n",
       "      <td>0.000000</td>\n",
       "    </tr>\n",
       "    <tr>\n",
       "      <th>75%</th>\n",
       "      <td>22.000000</td>\n",
       "      <td>1.000000</td>\n",
       "      <td>0.000000</td>\n",
       "      <td>4.500000e+06</td>\n",
       "      <td>21.000000</td>\n",
       "      <td>0.000000</td>\n",
       "      <td>12.000000</td>\n",
       "      <td>0.000000</td>\n",
       "      <td>1.000000</td>\n",
       "      <td>1.000000</td>\n",
       "    </tr>\n",
       "    <tr>\n",
       "      <th>max</th>\n",
       "      <td>90.000000</td>\n",
       "      <td>1.000000</td>\n",
       "      <td>1.000000</td>\n",
       "      <td>6.600000e+06</td>\n",
       "      <td>119.000000</td>\n",
       "      <td>1.000000</td>\n",
       "      <td>150.000000</td>\n",
       "      <td>1.000000</td>\n",
       "      <td>1.000000</td>\n",
       "      <td>1.000000</td>\n",
       "    </tr>\n",
       "  </tbody>\n",
       "</table>\n",
       "</div>"
      ],
      "text/plain": [
       "        dias_sistema          P_MP6          TP_pp          CUPO  \\\n",
       "count  149352.000000  149352.000000  149352.000000  1.493520e+05   \n",
       "mean       16.096684       0.651602       0.211668  2.918076e+06   \n",
       "std        26.313760       0.476465       0.408492  1.982800e+06   \n",
       "min         0.000000       0.000000       0.000000  5.000000e+04   \n",
       "25%         0.000000       0.000000       0.000000  1.200000e+06   \n",
       "50%         0.000000       1.000000       0.000000  2.440000e+06   \n",
       "75%        22.000000       1.000000       0.000000  4.500000e+06   \n",
       "max        90.000000       1.000000       1.000000  6.600000e+06   \n",
       "\n",
       "            mora_1_a         PR_O_D       mora_2_a          C_AuM  \\\n",
       "count  149352.000000  149352.000000  149352.000000  149352.000000   \n",
       "mean       14.772691       0.201464      13.051710       0.162609   \n",
       "std        26.313752       0.401095      25.884611       0.369010   \n",
       "min         0.000000       0.000000       0.000000       0.000000   \n",
       "25%         0.000000       0.000000       0.000000       0.000000   \n",
       "50%         0.000000       0.000000       0.000000       0.000000   \n",
       "75%        21.000000       0.000000      12.000000       0.000000   \n",
       "max       119.000000       1.000000     150.000000       1.000000   \n",
       "\n",
       "              PR_1_D  marca_default  \n",
       "count  149352.000000  149352.000000  \n",
       "mean        0.384280       0.320210  \n",
       "std         0.486426       0.466559  \n",
       "min         0.000000       0.000000  \n",
       "25%         0.000000       0.000000  \n",
       "50%         0.000000       0.000000  \n",
       "75%         1.000000       1.000000  \n",
       "max         1.000000       1.000000  "
      ]
     },
     "execution_count": 323,
     "metadata": {},
     "output_type": "execute_result"
    }
   ],
   "source": [
    "variables3=['dias_sistema','P_MP6','TP_pp','CUPO','mora_1_a','PR_O_D','mora_2_a','C_AuM','PR_1_D','marca_default']\n",
    "cuantis=[\"dias_sistema\", \"CUPO\", \"mora_1_a\", \"mora_2_a\"]\n",
    "cualis=[\"marca_default\", \"P_MP6\", \"TP_pp\", \"PR_O_D\",\"C_AuM\", \"PR_1_D\"]\n",
    "#OPCIÓN DE SELECCIÓN DE VARIABLES DE ACUERDO AL STEPWISE\n",
    "df1=df_filt_Mayo_2023[variables3]\n",
    "df1.describe()"
   ]
  },
  {
   "cell_type": "code",
   "execution_count": 324,
   "id": "0606a190-d1e1-44e2-9140-7034e5456708",
   "metadata": {},
   "outputs": [
    {
     "name": "stdout",
     "output_type": "stream",
     "text": [
      "marca_default\n",
      "0    101528\n",
      "1     47824\n",
      "Name: count, dtype: int64\n"
     ]
    },
    {
     "name": "stderr",
     "output_type": "stream",
     "text": [
      "C:\\Users\\damartinezp\\AppData\\Local\\Temp\\ipykernel_25084\\2366377065.py:2: SettingWithCopyWarning: \n",
      "A value is trying to be set on a copy of a slice from a DataFrame.\n",
      "Try using .loc[row_indexer,col_indexer] = value instead\n",
      "\n",
      "See the caveats in the documentation: https://pandas.pydata.org/pandas-docs/stable/user_guide/indexing.html#returning-a-view-versus-a-copy\n",
      "  df1[cuantis] = scaler.fit_transform(df1[cuantis])\n"
     ]
    }
   ],
   "source": [
    "scaler = MinMaxScaler()\n",
    "df1[cuantis] = scaler.fit_transform(df1[cuantis])\n",
    "\n",
    "###Esta linea guarda el escalador para las variables cuantitativas, para ser usado en los datasets a calificar\n",
    "joblib.dump(scaler, 'escalador_minmax_modelo_log.pkl') \n",
    "\n",
    "for i in cualis:\n",
    "    labelencoder = LabelEncoder()\n",
    "    df1.loc[:, i] = labelencoder.fit_transform(df1[i])\n",
    "    \n",
    "print(df1['marca_default'].value_counts())\n",
    "\n",
    "X=df1.drop(columns=[\"marca_default\"])\n",
    "y=df1[\"marca_default\"]\n",
    "\n",
    "train_size=0.8\n",
    "train, test = model_selection.train_test_split(df1,train_size=int(train_size*len(df1)), stratify=df1['marca_default'], random_state=seed)"
   ]
  },
  {
   "cell_type": "markdown",
   "id": "650886ab-3ce8-4d9f-a13d-64c0325653fa",
   "metadata": {},
   "source": [
    "#### Tamaños de dataset de entrenamiento y test con el respectivo evento."
   ]
  },
  {
   "cell_type": "code",
   "execution_count": 325,
   "id": "7e1792e1-9d96-4f0b-9f55-3650be8c7de9",
   "metadata": {},
   "outputs": [
    {
     "name": "stdout",
     "output_type": "stream",
     "text": [
      "Tamaño en entrenamiento:\n",
      " 119481\n",
      "Tamaño en test:\n",
      " 29871\n"
     ]
    }
   ],
   "source": [
    "print(\"Tamaño en entrenamiento:\\n\",len(train))\n",
    "print(\"Tamaño en test:\\n\",len(test))"
   ]
  },
  {
   "cell_type": "code",
   "execution_count": 326,
   "id": "874d4f9a-aed4-49f9-a072-09dd99d805c6",
   "metadata": {},
   "outputs": [
    {
     "name": "stdout",
     "output_type": "stream",
     "text": [
      "Evento en entrenamiento:\n",
      " marca_default\n",
      "0    81222\n",
      "1    38259\n",
      "Name: count, dtype: int64\n",
      "\n",
      "Evento en test:\n",
      " marca_default\n",
      "0    20306\n",
      "1     9565\n",
      "Name: count, dtype: int64\n"
     ]
    }
   ],
   "source": [
    "print(\"Evento en entrenamiento:\\n\",train['marca_default'].value_counts())\n",
    "print(\"\\nEvento en test:\\n\",test['marca_default'].value_counts())"
   ]
  },
  {
   "cell_type": "code",
   "execution_count": 327,
   "id": "be81df96-0573-4dcb-b0db-7e7fbed8c23a",
   "metadata": {},
   "outputs": [],
   "source": [
    "#\"Comprobación de datos faltantes\"\n",
    "#df1.isna().sum()"
   ]
  },
  {
   "cell_type": "code",
   "execution_count": 328,
   "id": "e14a24cd-13fd-45c8-a9bc-fbf0569a81b0",
   "metadata": {
    "id": "YFzsmxFnnmwz"
   },
   "outputs": [],
   "source": [
    "#Métricas de evaluación de manera manual\n",
    "def calMetrics(cm):\n",
    "  #Se toman de esta forma los valores para que la clase positiva sea {1}\n",
    "  TN = cm[0,0]\n",
    "  TP = cm[1,1]\n",
    "  FN = cm[1,0]\n",
    "  FP = cm[0,1]\n",
    "  acc = round(((TP + TN) / (TP + TN + FP + FN))*100,2)          #Accuracy\n",
    "  err = round((1 - ((TP + TN) / (TP + TN + FP + FN)))*100,2)    #Tasa de error \n",
    "  se = round((TP / (TP + FN))*100,2)                            #Sensibilidad o Recall\n",
    "  sp = round((TN / ( TN + FP))*100,2)                          #Especificidad \n",
    "  prec = round((TP / (TP + FP))*100,2)                          #Precision\n",
    "  FPR = round((FP / (FP + TN))*100,2)                           #Tasa de falsos positivos\n",
    "  return acc,err,se,sp,prec,FPR\n",
    "\n",
    "#Métricas de evaluación con librerias \n",
    "def calMetrics2(y_val, y_pred_labels):\n",
    "    accuracy = accuracy_score(y_val, y_pred_labels)\n",
    "    precision = precision_score(y_val, y_pred_labels)\n",
    "    recall = recall_score(y_val, y_pred_labels)\n",
    "    f1 = round(f1_score(y_val, y_pred_labels)*100,2)\n",
    "    roc_auc = round(roc_auc_score(y_val, y_pred_labels)*100,2)\n",
    "    logloss = round(log_loss(y_val, y_pred_labels),2)\n",
    "    conf_matrix = confusion_matrix(y_val, y_pred_labels)\n",
    "    return accuracy,precision,recall,f1,roc_auc,logloss"
   ]
  },
  {
   "cell_type": "markdown",
   "id": "f56253bf-822a-4bf7-a6f9-bdf97d4bdb63",
   "metadata": {},
   "source": [
    "#### Entrenamiento con 10 fold, validación cruzada"
   ]
  },
  {
   "cell_type": "code",
   "execution_count": 329,
   "id": "279601b2-1758-47fd-bb14-3649bf9a0e15",
   "metadata": {},
   "outputs": [
    {
     "name": "stdout",
     "output_type": "stream",
     "text": [
      "     Acc    Err     Re     Sp    Pre   FPR     F1  ROC_AUC  Log_Loss\n",
      "0  75.40  24.60  36.67  93.59  72.88  6.41  48.79    65.13      8.87\n",
      "1  76.26  23.74  38.45  93.66  73.61  6.34  50.51    66.05      8.56\n",
      "2  74.82  25.18  36.91  93.25  72.64  6.75  48.95    65.08      9.07\n",
      "3  75.21  24.79  37.69  93.50  73.87  6.50  49.92    65.60      8.94\n",
      "4  75.40  24.60  36.92  93.69  73.55  6.31  49.16    65.30      8.87\n",
      "5  76.22  23.78  37.53  94.05  74.38  5.95  49.89    65.79      8.57\n",
      "6  76.05  23.95  37.47  93.89  73.94  6.11  49.74    65.68      8.63\n",
      "7  75.20  24.80  37.04  93.43  72.94  6.57  49.13    65.24      8.94\n",
      "8  75.34  24.66  37.46  93.53  73.56  6.47  49.64    65.50      8.89\n",
      "9  75.66  24.34  36.21  93.48  71.48  6.52  48.07    64.84      8.77\n"
     ]
    },
    {
     "data": {
      "text/plain": [
       "Acc         75.556\n",
       "Err         24.444\n",
       "Re          37.235\n",
       "Sp          93.607\n",
       "Pre         73.285\n",
       "FPR          6.393\n",
       "F1          49.380\n",
       "ROC_AUC     65.421\n",
       "Log_Loss     8.811\n",
       "Name: mean, dtype: float64"
      ]
     },
     "execution_count": 329,
     "metadata": {},
     "output_type": "execute_result"
    }
   ],
   "source": [
    "import os\n",
    "num_folds=10\n",
    "kfold=StratifiedKFold(n_splits=num_folds, shuffle=False)\n",
    "\n",
    "save_dir = 'saved_model0_Mayo/Logistic/'\n",
    "os.makedirs(save_dir, exist_ok=True)  # Crea el directorio si no existe\n",
    "\n",
    "np.random.seed(seed)\n",
    "indices = np.random.permutation(len(train))\n",
    "\n",
    "matrixLogistic=pd.DataFrame()\n",
    "fold_no=1\n",
    "for train_idx, val_idx in kfold.split(train, train['marca_default']):\n",
    "    \n",
    "    train_indices = indices[train_idx]\n",
    "    val_indices = indices[val_idx]\n",
    "    train_matrix=train.drop(['marca_default'], axis=1)\n",
    "    \n",
    "    X_train, X_val = train_matrix.iloc[train_indices], train_matrix.iloc[val_indices]\n",
    "    y_train, y_val = train['marca_default'].iloc[train_indices], train['marca_default'].iloc[val_indices]\n",
    "    \n",
    "    model=LogisticRegression(max_iter=1000)\n",
    "    model.fit(X_train, y_train)\n",
    "    \n",
    "    y_pred_proba=pd.DataFrame(model.predict_proba(X_val))[1]\n",
    "    threshold=0.5 #Umbral de clasificación\n",
    "    y_pred_labels= np.where(y_pred_proba>=threshold,1,0)\n",
    "    \n",
    "    cm=confusion_matrix(y_val, y_pred_labels)\n",
    "    \n",
    "    acc, err, se, sp, prec, FPR =calMetrics(cm)\n",
    "    \n",
    "    accuracy, precision, recall, f1, roc_auc, logloss=calMetrics2(y_val, y_pred_labels)\n",
    "    \n",
    "    matrix={\n",
    "        \"Acc\": acc,\n",
    "        \"Err\": err,\n",
    "        \"Re\": se,\n",
    "        \"Sp\": sp,\n",
    "        \"Pre\": prec,\n",
    "        \"FPR\": FPR,\n",
    "        \"F1\":f1,\n",
    "        \"ROC_AUC\": roc_auc,\n",
    "        \"Log_Loss\": logloss\n",
    "    }\n",
    "    matrixLogistic = pd.concat([matrixLogistic, pd.DataFrame([matrix])], ignore_index=True)\n",
    "    \n",
    "    \n",
    "    with open(f'saved_model0_Mayo/Logistic/{fold_no}.model', 'wb') as file:\n",
    "        pickle.dump(model, file)\n",
    "    \n",
    "    fold_no +=1\n",
    "\n",
    "print(matrixLogistic)\n",
    "\n",
    "matrixLogistic.describe().loc['mean']"
   ]
  },
  {
   "cell_type": "markdown",
   "id": "dfcc7529-475f-4584-b954-ffd575982fc2",
   "metadata": {},
   "source": [
    "### Variable salida y predicciones "
   ]
  },
  {
   "cell_type": "code",
   "execution_count": 331,
   "id": "b43a9816-e11e-4f09-964b-5c6b06040a8c",
   "metadata": {},
   "outputs": [
    {
     "name": "stdout",
     "output_type": "stream",
     "text": [
      "Optimization terminated successfully.\n",
      "         Current function value: 0.611202\n",
      "         Iterations 6\n",
      "                           Logit Regression Results                           \n",
      "==============================================================================\n",
      "Dep. Variable:          marca_default   No. Observations:               149352\n",
      "Model:                          Logit   Df Residuals:                   149347\n",
      "Method:                           MLE   Df Model:                            4\n",
      "Date:                Wed, 19 Feb 2025   Pseudo R-squ.:                 0.02524\n",
      "Time:                        11:32:28   Log-Likelihood:                -91284.\n",
      "converged:                       True   LL-Null:                       -93648.\n",
      "Covariance Type:            nonrobust   LLR p-value:                     0.000\n",
      "================================================================================\n",
      "                   coef    std err          z      P>|z|      [0.025      0.975]\n",
      "--------------------------------------------------------------------------------\n",
      "const           -1.0036      0.011    -93.650      0.000      -1.025      -0.983\n",
      "dias_sistema     0.8325      0.026     31.838      0.000       0.781       0.884\n",
      "CUPO             0.1665      0.019      8.963      0.000       0.130       0.203\n",
      "mora_1_a         1.7191      0.054     31.941      0.000       1.614       1.825\n",
      "mora_2_a        -2.4439      0.064    -37.981      0.000      -2.570      -2.318\n",
      "================================================================================\n"
     ]
    }
   ],
   "source": [
    "import statsmodels.api as sm\n",
    "import seaborn as sns\n",
    "import matplotlib.pyplot as plt\n",
    "\n",
    "X = df1[cuantis]\n",
    "y = df1['marca_default']\n",
    "\n",
    "# Añadir la constante para el intercepto\n",
    "X = sm.add_constant(X)\n",
    "\n",
    "# Ajustar el modelo logístico\n",
    "model = sm.Logit(y, X).fit()\n",
    "\n",
    "# Ver los resultados del modelo\n",
    "print(model.summary())"
   ]
  },
  {
   "cell_type": "markdown",
   "id": "c505809e-e207-4a79-9c8e-560b772b706d",
   "metadata": {},
   "source": [
    "### Validación de multicolinealidad"
   ]
  },
  {
   "cell_type": "code",
   "execution_count": 342,
   "id": "c5c0c9f4-e388-4327-9938-5003056b6675",
   "metadata": {},
   "outputs": [
    {
     "name": "stdout",
     "output_type": "stream",
     "text": [
      "Valores VIF:\n",
      "\n",
      "       Variable  VIF\n",
      "0  dias_sistema  2.9\n",
      "1          CUPO  3.2\n",
      "2      mora_1_a  5.0\n",
      "3      mora_2_a  3.3\n",
      "4         P_MP6  2.7\n",
      "5         TP_pp  1.6\n",
      "6        PR_O_D  1.4\n",
      "7         C_AuM  1.4\n",
      "8        PR_1_D  2.1\n"
     ]
    }
   ],
   "source": [
    "from statsmodels.stats.outliers_influence import variance_inflation_factor\n",
    "\n",
    "X = df1[cuantis+cualis]\n",
    "X= X.drop([\"marca_default\"], axis=1)\n",
    "y = df1['marca_default']\n",
    "\n",
    "vif = pd.DataFrame()\n",
    "vif[\"Variable\"] = X.columns\n",
    "vif[\"VIF\"] = [variance_inflation_factor(X.values, i) for i in range(X.shape[1])]\n",
    "\n",
    "print(\"Valores VIF:\\n\")\n",
    "print(vif.round(1))"
   ]
  },
  {
   "cell_type": "markdown",
   "id": "8bb48083-29be-4289-a71b-f93dc2df6d9d",
   "metadata": {},
   "source": [
    "## Test Modelo Logístico"
   ]
  },
  {
   "cell_type": "markdown",
   "id": "e5239c15-f5c2-4031-8ca8-3ab4f9339aa9",
   "metadata": {},
   "source": [
    "### Backtest Mayo (Train y Test)"
   ]
  },
  {
   "cell_type": "code",
   "execution_count": 226,
   "id": "3f628ef6-0f7d-46be-b32f-383772d9030d",
   "metadata": {},
   "outputs": [],
   "source": [
    "from matplotlib import pyplot as plt\n",
    "import pickle\n",
    "import random\n",
    "import seaborn as sns\n",
    "import pandas as pd                                 #Procesamiento de datos.\n",
    "import numpy as np                                  #Álgebra lineal.\n",
    "import math                                         #Para calcular función piso y techo.\n",
    "import seaborn as sns\n",
    "import joblib\n",
    "scaler_cargado = joblib.load('escalador_minmax_modelo_log.pkl')\n",
    "seed=42\n",
    "random.seed(seed)\n",
    "np.random.seed(seed)\n",
    "\n",
    "from sklearn import model_selection \n",
    "from sklearn.preprocessing import MinMaxScaler, LabelEncoder\n",
    "from sklearn.model_selection import train_test_split, cross_validate, StratifiedKFold, cross_val_predict\n",
    "from sklearn.linear_model import LogisticRegression\n",
    "from sklearn.metrics import accuracy_score, precision_score, recall_score, f1_score, roc_auc_score, log_loss, confusion_matrix\n",
    "\n",
    "#from imblearn.under_sampling import RandomUnderSampler\n",
    "#from imblearn.over_sampling import SMOTE, RandomOverSampler"
   ]
  },
  {
   "cell_type": "code",
   "execution_count": 227,
   "id": "8ddf403f-2bfa-4075-a2a4-dae05e388541",
   "metadata": {},
   "outputs": [],
   "source": [
    "df1=df_filt_Mayo_2023[variables3]"
   ]
  },
  {
   "cell_type": "code",
   "execution_count": 228,
   "id": "a6b28a3d-ed23-4b12-b969-f0246f4ac964",
   "metadata": {},
   "outputs": [
    {
     "name": "stdout",
     "output_type": "stream",
     "text": [
      "marca_default\n",
      "0    101528\n",
      "1     47824\n",
      "Name: count, dtype: int64\n"
     ]
    }
   ],
   "source": [
    "print(df1['marca_default'].value_counts())"
   ]
  },
  {
   "cell_type": "code",
   "execution_count": 229,
   "id": "46c7e5e8-6d66-41b9-b0c0-6831313d01b5",
   "metadata": {},
   "outputs": [
    {
     "name": "stderr",
     "output_type": "stream",
     "text": [
      "C:\\Users\\damartinezp\\AppData\\Local\\Temp\\ipykernel_25084\\3216320702.py:1: SettingWithCopyWarning: \n",
      "A value is trying to be set on a copy of a slice from a DataFrame.\n",
      "Try using .loc[row_indexer,col_indexer] = value instead\n",
      "\n",
      "See the caveats in the documentation: https://pandas.pydata.org/pandas-docs/stable/user_guide/indexing.html#returning-a-view-versus-a-copy\n",
      "  df1[cuantis] = scaler_cargado.fit_transform(df1[cuantis])\n"
     ]
    }
   ],
   "source": [
    "df1[cuantis] = scaler_cargado.fit_transform(df1[cuantis])\n",
    "for i in cualis:\n",
    "    labelencoder = LabelEncoder()\n",
    "    df1.loc[:, i] = labelencoder.fit_transform(df1[i])\n",
    "\n",
    "X=df1.drop(columns=[\"marca_default\"])\n",
    "y=df1[\"marca_default\"]\n",
    "\n",
    "train_size=0.8\n",
    "#train, test2 = model_selection.train_test_split(df2,train_size=int(train_size*len(df2)), stratify=df2['marca_default'], random_state=seed)\n",
    "train, test = model_selection.train_test_split(df1,train_size=int(train_size*len(df1)), stratify=df1['marca_default'], random_state=seed)"
   ]
  },
  {
   "cell_type": "code",
   "execution_count": 230,
   "id": "9dad2164-52e7-4f85-9e51-433d22184365",
   "metadata": {},
   "outputs": [],
   "source": [
    "#Métricas de evaluación:\n",
    "def calMetrics(cm):\n",
    "  #Se toman de esta forma los valores para que la clase positiva sea {1}\n",
    "  TN = cm[0,0]\n",
    "  TP = cm[1,1]\n",
    "  FN = cm[1,0]\n",
    "  FP = cm[0,1]\n",
    "  acc = round(((TP + TN) / (TP + TN + FP + FN))*100,2)          #Accuracy\n",
    "  err = round((1 - ((TP + TN) / (TP + TN + FP + FN)))*100,2)    #Tasa de error \n",
    "  se = round((TP / (TP + FN))*100,2)                            #Sensibilidad o Recall\n",
    "  sp = round((TN / ( TN + FP))*100,2)                          #Especificidad \n",
    "  prec = round((TP / (TP + FP))*100,2)                          #Precision\n",
    "  FPR = round((FP / (FP + TN))*100,2)                           #Tasa de falsos positivos\n",
    "  return acc,err,se,sp,prec,FPR\n",
    "\n",
    "#Métricas de evaluación con librerias \n",
    "def calMetrics2(y_val, y_pred_labels):\n",
    "    accuracy = accuracy_score(y_val, y_pred_labels)\n",
    "    precision = precision_score(y_val, y_pred_labels)\n",
    "    recall = recall_score(y_val, y_pred_labels)\n",
    "    f1 = round(f1_score(y_val, y_pred_labels)*100,2)\n",
    "    roc_auc = round(roc_auc_score(y_val, y_pred_labels)*100,2)\n",
    "    logloss = round(log_loss(y_val, y_pred_labels),2)\n",
    "    conf_matrix = confusion_matrix(y_val, y_pred_labels)\n",
    "    return accuracy,precision,recall,f1,roc_auc,logloss"
   ]
  },
  {
   "cell_type": "markdown",
   "id": "4ff58010-489b-47bc-a7c1-045a920cab96",
   "metadata": {},
   "source": [
    "### Cargando el modelo"
   ]
  },
  {
   "cell_type": "code",
   "execution_count": 388,
   "id": "b0092024-401b-4be4-8957-7d2fa06bc600",
   "metadata": {},
   "outputs": [],
   "source": [
    "model_path_1 = f'saved_model0_Mayo/Logistic/1.model'\n",
    "model_path_2 = f'saved_model0_Mayo/Logistic/2.model'\n",
    "model_path_3 = f'saved_model0_Mayo/Logistic/3.model'\n",
    "model_path_4 = f'saved_model0_Mayo/Logistic/4.model'\n",
    "model_path_5 = f'saved_model0_Mayo/Logistic/5.model'\n",
    "model_path_6 = f'saved_model0_Mayo/Logistic/6.model'\n",
    "model_path_7 = f'saved_model0_Mayo/Logistic/7.model'\n",
    "model_path_8 = f'saved_model0_Mayo/Logistic/8.model'\n",
    "model_path_9 = f'saved_model0_Mayo/Logistic/9.model'\n",
    "model_path_10 = f'saved_model0_Mayo/Logistic/10.model'\n",
    "\n",
    "with open(model_path_1, 'rb') as file:\n",
    "    model_1 = pickle.load(file)\n",
    "with open(model_path_2, 'rb') as file:\n",
    "    model_2 = pickle.load(file)\n",
    "with open(model_path_3, 'rb') as file:\n",
    "    model_3 = pickle.load(file)\n",
    "with open(model_path_4, 'rb') as file:\n",
    "    model_4 = pickle.load(file)\n",
    "with open(model_path_5, 'rb') as file:\n",
    "    model_5 = pickle.load(file)\n",
    "with open(model_path_6, 'rb') as file:\n",
    "    model_6 = pickle.load(file)\n",
    "with open(model_path_7, 'rb') as file:\n",
    "    model_7 = pickle.load(file)\n",
    "with open(model_path_8, 'rb') as file:\n",
    "    model_8 = pickle.load(file)\n",
    "with open(model_path_9, 'rb') as file:\n",
    "    model_9 = pickle.load(file)\n",
    "with open(model_path_10, 'rb') as file:\n",
    "    model_10 = pickle.load(file)"
   ]
  },
  {
   "cell_type": "code",
   "execution_count": 389,
   "id": "9398f720-fcf0-44a8-9fa2-8c51a4ae61ff",
   "metadata": {},
   "outputs": [
    {
     "name": "stdout",
     "output_type": "stream",
     "text": [
      "Weights for each variables is a follows...\n",
      "dias_sistema    1.411164\n",
      "CUPO           -0.920072\n",
      "mora_1_a       -1.754162\n",
      "mora_2_a        0.552347\n",
      "P_MP6          -0.713004\n",
      "TP_pp           0.133845\n",
      "PR_O_D         -0.471735\n",
      "C_AuM           1.261508\n",
      "PR_1_D         -0.436952\n",
      "dtype: float64\n",
      "Intercepto: -0.32244390409607326\n"
     ]
    }
   ],
   "source": [
    "weights = pd.Series(model_1.coef_[0], index=X.columns.values)\n",
    "print(\"Weights for each variables is a follows...\")\n",
    "print(weights)\n",
    "print(\"Intercepto:\", model_1.intercept_[0])"
   ]
  },
  {
   "cell_type": "code",
   "execution_count": 390,
   "id": "3510ba99-640b-47c7-8bf6-1183a09ffd1e",
   "metadata": {},
   "outputs": [],
   "source": [
    "X_test = train.drop(columns=[\"marca_default\"])\n",
    "y_test = train[\"marca_default\"]"
   ]
  },
  {
   "cell_type": "code",
   "execution_count": 391,
   "id": "083434d9-f8a7-454a-9d32-8b032f079734",
   "metadata": {},
   "outputs": [],
   "source": [
    "X_test = X_test.reset_index(drop=True)\n",
    "y_test = y_test.reset_index(drop=True)\n",
    "#X_train = X_train.reset_index(drop=True)\n",
    "#y_train = y_train.reset_index(drop=True)"
   ]
  },
  {
   "cell_type": "code",
   "execution_count": 392,
   "id": "b4435f3d-1518-43e1-a137-64990e6af8f1",
   "metadata": {},
   "outputs": [
    {
     "name": "stdout",
     "output_type": "stream",
     "text": [
      "Cantidad de datos con registros faltantes en alguna de las variables: 0\n",
      "\n",
      "\n",
      " Cantidad de datos con registros completos: 119481\n"
     ]
    }
   ],
   "source": [
    "registros_completos = X_test.dropna()\n",
    "registros_faltantes = X_test[X_test.isnull().any(axis=1)]\n",
    "print(\"Cantidad de datos con registros faltantes en alguna de las variables:\", len(registros_faltantes))\n",
    "print(\"\\n\\n Cantidad de datos con registros completos:\", len(registros_completos))"
   ]
  },
  {
   "cell_type": "code",
   "execution_count": 393,
   "id": "7a26c85a-b48f-4c14-83bd-f5b2f459a38b",
   "metadata": {},
   "outputs": [],
   "source": [
    "proba=0.5"
   ]
  },
  {
   "cell_type": "code",
   "execution_count": 394,
   "id": "93c6fb28-45a8-45ff-b982-96c698220666",
   "metadata": {},
   "outputs": [],
   "source": [
    "y_pred_proba_1 = model_1.predict_proba(X_test)[:,1]\n",
    "y_pred_proba_2 = model_2.predict_proba(X_test)[:,1]\n",
    "y_pred_proba_3 = model_3.predict_proba(X_test)[:,1]\n",
    "y_pred_proba_4 = model_4.predict_proba(X_test)[:,1]\n",
    "y_pred_proba_5 = model_5.predict_proba(X_test)[:,1]\n",
    "y_pred_proba_6 = model_6.predict_proba(X_test)[:,1]\n",
    "y_pred_proba_7 = model_7.predict_proba(X_test)[:,1]\n",
    "y_pred_proba_8 = model_8.predict_proba(X_test)[:,1]\n",
    "y_pred_proba_9 = model_9.predict_proba(X_test)[:,1]\n",
    "y_pred_proba_10 = model_10.predict_proba(X_test)[:,1]\n",
    "\n",
    "y_pred_proba=(y_pred_proba_1+y_pred_proba_2+y_pred_proba_3+y_pred_proba_4+y_pred_proba_5+y_pred_proba_6\n",
    "             +y_pred_proba_7+y_pred_proba_8+y_pred_proba_9+y_pred_proba_10)/10\n",
    "\n",
    "y_pred_labels = (y_pred_proba > proba).astype(int)"
   ]
  },
  {
   "cell_type": "code",
   "execution_count": 395,
   "id": "4a3b5544-fb6c-4d52-b2a1-0b63fbfb8df9",
   "metadata": {},
   "outputs": [
    {
     "data": {
      "text/html": [
       "<div>\n",
       "<style scoped>\n",
       "    .dataframe tbody tr th:only-of-type {\n",
       "        vertical-align: middle;\n",
       "    }\n",
       "\n",
       "    .dataframe tbody tr th {\n",
       "        vertical-align: top;\n",
       "    }\n",
       "\n",
       "    .dataframe thead th {\n",
       "        text-align: right;\n",
       "    }\n",
       "</style>\n",
       "<table border=\"1\" class=\"dataframe\">\n",
       "  <thead>\n",
       "    <tr style=\"text-align: right;\">\n",
       "      <th></th>\n",
       "      <th>count</th>\n",
       "      <th>mean</th>\n",
       "      <th>std</th>\n",
       "      <th>min</th>\n",
       "      <th>25%</th>\n",
       "      <th>50%</th>\n",
       "      <th>75%</th>\n",
       "      <th>max</th>\n",
       "    </tr>\n",
       "  </thead>\n",
       "  <tbody>\n",
       "    <tr>\n",
       "      <th>0</th>\n",
       "      <td>119481.0</td>\n",
       "      <td>0.320218</td>\n",
       "      <td>0.200868</td>\n",
       "      <td>0.028703</td>\n",
       "      <td>0.199203</td>\n",
       "      <td>0.253835</td>\n",
       "      <td>0.372203</td>\n",
       "      <td>0.927802</td>\n",
       "    </tr>\n",
       "  </tbody>\n",
       "</table>\n",
       "</div>"
      ],
      "text/plain": [
       "      count      mean       std       min       25%       50%       75%  \\\n",
       "0  119481.0  0.320218  0.200868  0.028703  0.199203  0.253835  0.372203   \n",
       "\n",
       "        max  \n",
       "0  0.927802  "
      ]
     },
     "execution_count": 395,
     "metadata": {},
     "output_type": "execute_result"
    }
   ],
   "source": [
    "pd.DataFrame(y_pred_proba).describe().T"
   ]
  },
  {
   "cell_type": "code",
   "execution_count": 396,
   "id": "ad1f0637-07d7-4d22-af96-e91e0bd845b1",
   "metadata": {},
   "outputs": [],
   "source": [
    "cm=confusion_matrix(y_test, y_pred_labels)\n",
    "\n",
    "acc, err, se, sp, prec, FPR =calMetrics(cm)\n",
    "accuracy, precision, recall, f1, roc_auc, logloss=calMetrics2(y_test, y_pred_labels)\n",
    "    \n",
    "matrix={\n",
    "        \"Acc\": acc,\n",
    "        \"Err\": err,\n",
    "        \"Re\": se,\n",
    "        \"Sp\": sp,\n",
    "        \"Pre\": prec,\n",
    "        \"FPR\": FPR,\n",
    "        \"F1\":f1,\n",
    "        \"ROC_AUC\": roc_auc,\n",
    "        \"Log_Loss\": logloss\n",
    "    }"
   ]
  },
  {
   "cell_type": "code",
   "execution_count": 397,
   "id": "76e6157d-5693-4f0e-9348-27ed4192d2de",
   "metadata": {},
   "outputs": [
    {
     "data": {
      "text/plain": [
       "{'Acc': 75.55,\n",
       " 'Err': 24.45,\n",
       " 'Re': 37.22,\n",
       " 'Sp': 93.61,\n",
       " 'Pre': 73.28,\n",
       " 'FPR': 6.39,\n",
       " 'F1': 49.37,\n",
       " 'ROC_AUC': 65.41,\n",
       " 'Log_Loss': 8.81}"
      ]
     },
     "execution_count": 397,
     "metadata": {},
     "output_type": "execute_result"
    }
   ],
   "source": [
    "matrix"
   ]
  },
  {
   "cell_type": "code",
   "execution_count": 398,
   "id": "a09f2066-40cd-4927-a5d9-1abe5df19433",
   "metadata": {},
   "outputs": [
    {
     "data": {
      "text/plain": [
       "<AxesSubplot:>"
      ]
     },
     "execution_count": 398,
     "metadata": {},
     "output_type": "execute_result"
    },
    {
     "data": {
      "image/png": "[encoded data removed]",
      "text/plain": [
       "<Figure size 640x480 with 2 Axes>"
      ]
     },
     "metadata": {},
     "output_type": "display_data"
    }
   ],
   "source": [
    "cm = confusion_matrix(y_test, y_pred_labels)\n",
    "sns.heatmap(cm, annot=True, cmap='viridis', fmt='g')"
   ]
  },
  {
   "cell_type": "code",
   "execution_count": 399,
   "id": "60f6fafa-98f3-439f-aaf9-919281e4a9ba",
   "metadata": {},
   "outputs": [],
   "source": [
    "df_output = pd.DataFrame({\"puntaje\": y_pred_proba, \"marca_default\": y_test})\n",
    "df_output.insert(0, \"V1\", range(1, len(df_output) + 1))\n",
    "df_output.to_csv(\"C:/Users/damartinezp/OneDrive - BAN100 S.A/Documentos/Proyectos Borrador/PD_TuCrédito/2024_modelo/train_logistic_202305.csv\")"
   ]
  },
  {
   "cell_type": "code",
   "execution_count": 400,
   "id": "02efbcce-9686-47c0-846a-de7a8c0cfb67",
   "metadata": {},
   "outputs": [
    {
     "name": "stdout",
     "output_type": "stream",
     "text": [
      "marca_default\n",
      "0    81222\n",
      "1    38259\n",
      "Name: count, dtype: int64\n"
     ]
    }
   ],
   "source": [
    "print(df_output['marca_default'].value_counts())"
   ]
  },
  {
   "cell_type": "code",
   "execution_count": 401,
   "id": "65e146bc-2206-4bb8-a81d-5dddedb2b3d4",
   "metadata": {},
   "outputs": [],
   "source": [
    "deciles = np.percentile(y_pred_proba, [10, 20, 30, 40, 50, 60, 70, 80, 90,100])\n",
    "inferior=0\n",
    "superior=1\n",
    "deciles = np.append(inferior,deciles)\n",
    "deciles[-1]=superior\n",
    "# Asignar deciles a cada fila basado en el puntaje\n",
    "df_output[\"decil\"] = pd.cut(df_output[\"puntaje\"], bins=deciles, labels=False, include_lowest=True)\n",
    "# Crear una lista de los intervalos de los deciles\n",
    "intervalos = []\n",
    "for i in range(len(deciles) - 1):\n",
    "    intervalos.append(f\"{deciles[i]} - {deciles[i+1]}\")"
   ]
  },
  {
   "cell_type": "code",
   "execution_count": 402,
   "id": "8c682702-256a-4e90-a2c4-ad34e3084eff",
   "metadata": {},
   "outputs": [],
   "source": [
    "# Calcular el número de eventos y no eventos para cada intervalo de decil\n",
    "eventos = []\n",
    "no_eventos = []\n",
    "for i in range(len(deciles) - 1):\n",
    "    intervalo = df_output[(df_output['puntaje'] >= deciles[i]) & (df_output['puntaje'] < deciles[i+1])]\n",
    "    eventos.append(intervalo['marca_default'].sum())\n",
    "    no_eventos.append(len(intervalo) - intervalo['marca_default'].sum())\n",
    "eventos.reverse()\n",
    "no_eventos.reverse()\n",
    "    \n",
    "# Calcular el total de eventos y no eventos\n",
    "total_eventos = df_output['marca_default'].sum()\n",
    "total_no_eventos = len(df_output) - df_output['marca_default'].sum()\n",
    "total_bin = [x + y for x, y in zip(eventos,no_eventos)]\n",
    "df1 = {'Min': np.flip(deciles[0:len(deciles)-1]).tolist(),\n",
    "        'Max': np.flip(deciles[1:len(deciles)]).tolist(),\n",
    "        '0': no_eventos,\n",
    "        '1': eventos,\n",
    "        'total': total_bin}\n",
    "df_resultado = pd.DataFrame(df1)"
   ]
  },
  {
   "cell_type": "code",
   "execution_count": 403,
   "id": "41ca9e2c-461d-4247-9452-721f1bc6fc26",
   "metadata": {},
   "outputs": [
    {
     "data": {
      "text/html": [
       "<div>\n",
       "<style scoped>\n",
       "    .dataframe tbody tr th:only-of-type {\n",
       "        vertical-align: middle;\n",
       "    }\n",
       "\n",
       "    .dataframe tbody tr th {\n",
       "        vertical-align: top;\n",
       "    }\n",
       "\n",
       "    .dataframe thead th {\n",
       "        text-align: right;\n",
       "    }\n",
       "</style>\n",
       "<table border=\"1\" class=\"dataframe\">\n",
       "  <thead>\n",
       "    <tr style=\"text-align: right;\">\n",
       "      <th></th>\n",
       "      <th>Min</th>\n",
       "      <th>Max</th>\n",
       "      <th>0</th>\n",
       "      <th>1</th>\n",
       "      <th>total</th>\n",
       "    </tr>\n",
       "  </thead>\n",
       "  <tbody>\n",
       "    <tr>\n",
       "      <th>0</th>\n",
       "      <td>0.679562</td>\n",
       "      <td>1.000000</td>\n",
       "      <td>2855</td>\n",
       "      <td>9094</td>\n",
       "      <td>11949</td>\n",
       "    </tr>\n",
       "    <tr>\n",
       "      <th>1</th>\n",
       "      <td>0.432845</td>\n",
       "      <td>0.679562</td>\n",
       "      <td>4340</td>\n",
       "      <td>7608</td>\n",
       "      <td>11948</td>\n",
       "    </tr>\n",
       "    <tr>\n",
       "      <th>2</th>\n",
       "      <td>0.325155</td>\n",
       "      <td>0.432845</td>\n",
       "      <td>5545</td>\n",
       "      <td>6412</td>\n",
       "      <td>11957</td>\n",
       "    </tr>\n",
       "    <tr>\n",
       "      <th>3</th>\n",
       "      <td>0.279980</td>\n",
       "      <td>0.325155</td>\n",
       "      <td>8393</td>\n",
       "      <td>3680</td>\n",
       "      <td>12073</td>\n",
       "    </tr>\n",
       "    <tr>\n",
       "      <th>4</th>\n",
       "      <td>0.253835</td>\n",
       "      <td>0.279980</td>\n",
       "      <td>9467</td>\n",
       "      <td>2528</td>\n",
       "      <td>11995</td>\n",
       "    </tr>\n",
       "    <tr>\n",
       "      <th>5</th>\n",
       "      <td>0.236146</td>\n",
       "      <td>0.253835</td>\n",
       "      <td>9492</td>\n",
       "      <td>2275</td>\n",
       "      <td>11767</td>\n",
       "    </tr>\n",
       "    <tr>\n",
       "      <th>6</th>\n",
       "      <td>0.213646</td>\n",
       "      <td>0.236146</td>\n",
       "      <td>9824</td>\n",
       "      <td>2151</td>\n",
       "      <td>11975</td>\n",
       "    </tr>\n",
       "    <tr>\n",
       "      <th>7</th>\n",
       "      <td>0.185070</td>\n",
       "      <td>0.213646</td>\n",
       "      <td>10533</td>\n",
       "      <td>1408</td>\n",
       "      <td>11941</td>\n",
       "    </tr>\n",
       "    <tr>\n",
       "      <th>8</th>\n",
       "      <td>0.155327</td>\n",
       "      <td>0.185070</td>\n",
       "      <td>11179</td>\n",
       "      <td>917</td>\n",
       "      <td>12096</td>\n",
       "    </tr>\n",
       "    <tr>\n",
       "      <th>9</th>\n",
       "      <td>0.000000</td>\n",
       "      <td>0.155327</td>\n",
       "      <td>9594</td>\n",
       "      <td>2186</td>\n",
       "      <td>11780</td>\n",
       "    </tr>\n",
       "  </tbody>\n",
       "</table>\n",
       "</div>"
      ],
      "text/plain": [
       "        Min       Max      0     1  total\n",
       "0  0.679562  1.000000   2855  9094  11949\n",
       "1  0.432845  0.679562   4340  7608  11948\n",
       "2  0.325155  0.432845   5545  6412  11957\n",
       "3  0.279980  0.325155   8393  3680  12073\n",
       "4  0.253835  0.279980   9467  2528  11995\n",
       "5  0.236146  0.253835   9492  2275  11767\n",
       "6  0.213646  0.236146   9824  2151  11975\n",
       "7  0.185070  0.213646  10533  1408  11941\n",
       "8  0.155327  0.185070  11179   917  12096\n",
       "9  0.000000  0.155327   9594  2186  11780"
      ]
     },
     "execution_count": 403,
     "metadata": {},
     "output_type": "execute_result"
    }
   ],
   "source": [
    "df_resultado"
   ]
  },
  {
   "cell_type": "code",
   "execution_count": 404,
   "id": "d18bd090-2984-4388-acea-aaf61f0eb1eb",
   "metadata": {},
   "outputs": [],
   "source": [
    "deciles_train_06=deciles"
   ]
  },
  {
   "cell_type": "markdown",
   "id": "5bb14417-463d-4460-8b47-33613cee38ea",
   "metadata": {},
   "source": [
    "### Test"
   ]
  },
  {
   "cell_type": "code",
   "execution_count": 405,
   "id": "22452fe9-e5bf-4770-a875-d78ab956567e",
   "metadata": {},
   "outputs": [],
   "source": [
    "X_test = test.drop(columns=[\"marca_default\"])\n",
    "y_test = test[\"marca_default\"]"
   ]
  },
  {
   "cell_type": "code",
   "execution_count": 406,
   "id": "7cdc84ac-7d12-4ec3-b9a2-4f2312c2098d",
   "metadata": {},
   "outputs": [],
   "source": [
    "X_test = X_test.reset_index(drop=True)\n",
    "y_test = y_test.reset_index(drop=True)"
   ]
  },
  {
   "cell_type": "code",
   "execution_count": 407,
   "id": "e4c7aefa-3795-41a5-ae1f-a5fe31d897a8",
   "metadata": {},
   "outputs": [],
   "source": [
    "y_pred_proba_1 = model_1.predict_proba(X_test)[:,1]\n",
    "y_pred_proba_2 = model_2.predict_proba(X_test)[:,1]\n",
    "y_pred_proba_3 = model_3.predict_proba(X_test)[:,1]\n",
    "y_pred_proba_4 = model_4.predict_proba(X_test)[:,1]\n",
    "y_pred_proba_5 = model_5.predict_proba(X_test)[:,1]\n",
    "y_pred_proba_6 = model_6.predict_proba(X_test)[:,1]\n",
    "y_pred_proba_7 = model_7.predict_proba(X_test)[:,1]\n",
    "y_pred_proba_8 = model_8.predict_proba(X_test)[:,1]\n",
    "y_pred_proba_9 = model_9.predict_proba(X_test)[:,1]\n",
    "y_pred_proba_10 = model_10.predict_proba(X_test)[:,1]\n",
    "\n",
    "y_pred_proba=(y_pred_proba_1+y_pred_proba_2+y_pred_proba_3+y_pred_proba_4+y_pred_proba_5+y_pred_proba_6\n",
    "             +y_pred_proba_7+y_pred_proba_8+y_pred_proba_9+y_pred_proba_10)/10\n",
    "\n",
    "y_pred_labels = (y_pred_proba > proba).astype(int)"
   ]
  },
  {
   "cell_type": "code",
   "execution_count": 408,
   "id": "4b82bf6e-79d2-4a47-bfda-b4fe9e0c1d7d",
   "metadata": {},
   "outputs": [
    {
     "data": {
      "text/html": [
       "<div>\n",
       "<style scoped>\n",
       "    .dataframe tbody tr th:only-of-type {\n",
       "        vertical-align: middle;\n",
       "    }\n",
       "\n",
       "    .dataframe tbody tr th {\n",
       "        vertical-align: top;\n",
       "    }\n",
       "\n",
       "    .dataframe thead th {\n",
       "        text-align: right;\n",
       "    }\n",
       "</style>\n",
       "<table border=\"1\" class=\"dataframe\">\n",
       "  <thead>\n",
       "    <tr style=\"text-align: right;\">\n",
       "      <th></th>\n",
       "      <th>count</th>\n",
       "      <th>mean</th>\n",
       "      <th>std</th>\n",
       "      <th>min</th>\n",
       "      <th>25%</th>\n",
       "      <th>50%</th>\n",
       "      <th>75%</th>\n",
       "      <th>max</th>\n",
       "    </tr>\n",
       "  </thead>\n",
       "  <tbody>\n",
       "    <tr>\n",
       "      <th>0</th>\n",
       "      <td>29871.0</td>\n",
       "      <td>0.319755</td>\n",
       "      <td>0.200591</td>\n",
       "      <td>0.028726</td>\n",
       "      <td>0.198936</td>\n",
       "      <td>0.254143</td>\n",
       "      <td>0.372223</td>\n",
       "      <td>0.929463</td>\n",
       "    </tr>\n",
       "  </tbody>\n",
       "</table>\n",
       "</div>"
      ],
      "text/plain": [
       "     count      mean       std       min       25%       50%       75%  \\\n",
       "0  29871.0  0.319755  0.200591  0.028726  0.198936  0.254143  0.372223   \n",
       "\n",
       "        max  \n",
       "0  0.929463  "
      ]
     },
     "execution_count": 408,
     "metadata": {},
     "output_type": "execute_result"
    }
   ],
   "source": [
    "pd.DataFrame(y_pred_proba).describe().T"
   ]
  },
  {
   "cell_type": "code",
   "execution_count": 409,
   "id": "e176186c-5ee0-47d7-b02c-98c76fa26c5c",
   "metadata": {},
   "outputs": [],
   "source": [
    "cm=confusion_matrix(y_test, y_pred_labels)\n",
    "\n",
    "acc, err, se, sp, prec, FPR =calMetrics(cm)\n",
    "accuracy, precision, recall, f1, roc_auc, logloss=calMetrics2(y_test, y_pred_labels)\n",
    "    \n",
    "matrix={\n",
    "        \"Acc\": acc,\n",
    "        \"Err\": err,\n",
    "        \"Re\": se,\n",
    "        \"Sp\": sp,\n",
    "        \"Pre\": prec,\n",
    "        \"FPR\": FPR,\n",
    "        \"F1\":f1,\n",
    "        \"ROC_AUC\": roc_auc,\n",
    "        \"Log_Loss\": logloss\n",
    "    }"
   ]
  },
  {
   "cell_type": "code",
   "execution_count": 410,
   "id": "71ba70b4-1cc4-410c-baa1-a257e8d77931",
   "metadata": {},
   "outputs": [
    {
     "data": {
      "text/plain": [
       "{'Acc': 75.43,\n",
       " 'Err': 24.57,\n",
       " 'Re': 36.75,\n",
       " 'Sp': 93.66,\n",
       " 'Pre': 73.18,\n",
       " 'FPR': 6.34,\n",
       " 'F1': 48.93,\n",
       " 'ROC_AUC': 65.2,\n",
       " 'Log_Loss': 8.85}"
      ]
     },
     "execution_count": 410,
     "metadata": {},
     "output_type": "execute_result"
    }
   ],
   "source": [
    "matrix"
   ]
  },
  {
   "cell_type": "code",
   "execution_count": 411,
   "id": "ab966deb-bb24-43ad-8caf-f22682b41679",
   "metadata": {},
   "outputs": [
    {
     "data": {
      "text/plain": [
       "<AxesSubplot:>"
      ]
     },
     "execution_count": 411,
     "metadata": {},
     "output_type": "execute_result"
    },
    {
     "data": {
      "image/png": "[encoded data removed]",
      "text/plain": [
       "<Figure size 640x480 with 2 Axes>"
      ]
     },
     "metadata": {},
     "output_type": "display_data"
    }
   ],
   "source": [
    "cm = confusion_matrix(y_test, y_pred_labels)\n",
    "sns.heatmap(cm, annot=True, cmap='viridis', fmt='g')"
   ]
  },
  {
   "cell_type": "code",
   "execution_count": 412,
   "id": "839a066e-f306-4b27-a695-453c6193afcc",
   "metadata": {},
   "outputs": [],
   "source": [
    "df_output = pd.DataFrame({\"puntaje\": y_pred_proba, \"marca_default\": y_test})\n",
    "df_output.insert(0, \"V1\", range(1, len(df_output) + 1))\n",
    "df_output.to_csv(\"C:/Users/damartinezp/OneDrive - BAN100 S.A/Documentos/Proyectos Borrador/PD_TuCrédito/2024_modelo/test_logistic_202305.csv\")"
   ]
  },
  {
   "cell_type": "code",
   "execution_count": 413,
   "id": "5bc34ba1-f451-4e2e-afc1-41defcc70afd",
   "metadata": {},
   "outputs": [
    {
     "data": {
      "text/html": [
       "<div>\n",
       "<style scoped>\n",
       "    .dataframe tbody tr th:only-of-type {\n",
       "        vertical-align: middle;\n",
       "    }\n",
       "\n",
       "    .dataframe tbody tr th {\n",
       "        vertical-align: top;\n",
       "    }\n",
       "\n",
       "    .dataframe thead th {\n",
       "        text-align: right;\n",
       "    }\n",
       "</style>\n",
       "<table border=\"1\" class=\"dataframe\">\n",
       "  <thead>\n",
       "    <tr style=\"text-align: right;\">\n",
       "      <th></th>\n",
       "      <th>V1</th>\n",
       "      <th>puntaje</th>\n",
       "      <th>marca_default</th>\n",
       "    </tr>\n",
       "  </thead>\n",
       "  <tbody>\n",
       "    <tr>\n",
       "      <th>0</th>\n",
       "      <td>1</td>\n",
       "      <td>0.298879</td>\n",
       "      <td>0</td>\n",
       "    </tr>\n",
       "    <tr>\n",
       "      <th>1</th>\n",
       "      <td>2</td>\n",
       "      <td>0.134801</td>\n",
       "      <td>0</td>\n",
       "    </tr>\n",
       "    <tr>\n",
       "      <th>2</th>\n",
       "      <td>3</td>\n",
       "      <td>0.601566</td>\n",
       "      <td>0</td>\n",
       "    </tr>\n",
       "    <tr>\n",
       "      <th>3</th>\n",
       "      <td>4</td>\n",
       "      <td>0.233067</td>\n",
       "      <td>1</td>\n",
       "    </tr>\n",
       "    <tr>\n",
       "      <th>4</th>\n",
       "      <td>5</td>\n",
       "      <td>0.579152</td>\n",
       "      <td>1</td>\n",
       "    </tr>\n",
       "    <tr>\n",
       "      <th>...</th>\n",
       "      <td>...</td>\n",
       "      <td>...</td>\n",
       "      <td>...</td>\n",
       "    </tr>\n",
       "    <tr>\n",
       "      <th>29866</th>\n",
       "      <td>29867</td>\n",
       "      <td>0.585225</td>\n",
       "      <td>1</td>\n",
       "    </tr>\n",
       "    <tr>\n",
       "      <th>29867</th>\n",
       "      <td>29868</td>\n",
       "      <td>0.409189</td>\n",
       "      <td>0</td>\n",
       "    </tr>\n",
       "    <tr>\n",
       "      <th>29868</th>\n",
       "      <td>29869</td>\n",
       "      <td>0.285061</td>\n",
       "      <td>0</td>\n",
       "    </tr>\n",
       "    <tr>\n",
       "      <th>29869</th>\n",
       "      <td>29870</td>\n",
       "      <td>0.259204</td>\n",
       "      <td>1</td>\n",
       "    </tr>\n",
       "    <tr>\n",
       "      <th>29870</th>\n",
       "      <td>29871</td>\n",
       "      <td>0.145050</td>\n",
       "      <td>0</td>\n",
       "    </tr>\n",
       "  </tbody>\n",
       "</table>\n",
       "<p>29871 rows × 3 columns</p>\n",
       "</div>"
      ],
      "text/plain": [
       "          V1   puntaje  marca_default\n",
       "0          1  0.298879              0\n",
       "1          2  0.134801              0\n",
       "2          3  0.601566              0\n",
       "3          4  0.233067              1\n",
       "4          5  0.579152              1\n",
       "...      ...       ...            ...\n",
       "29866  29867  0.585225              1\n",
       "29867  29868  0.409189              0\n",
       "29868  29869  0.285061              0\n",
       "29869  29870  0.259204              1\n",
       "29870  29871  0.145050              0\n",
       "\n",
       "[29871 rows x 3 columns]"
      ]
     },
     "execution_count": 413,
     "metadata": {},
     "output_type": "execute_result"
    }
   ],
   "source": [
    "df_output"
   ]
  },
  {
   "cell_type": "code",
   "execution_count": 414,
   "id": "aef4296a-df19-4428-944f-aa2a5fa7788b",
   "metadata": {},
   "outputs": [
    {
     "name": "stdout",
     "output_type": "stream",
     "text": [
      "marca_default\n",
      "0    20306\n",
      "1     9565\n",
      "Name: count, dtype: int64\n"
     ]
    }
   ],
   "source": [
    "print(df_output['marca_default'].value_counts())"
   ]
  },
  {
   "cell_type": "code",
   "execution_count": 415,
   "id": "49068c3c-cc88-4aff-ad56-2948cfe1cdf4",
   "metadata": {},
   "outputs": [],
   "source": [
    "deciles = deciles_train_06"
   ]
  },
  {
   "cell_type": "code",
   "execution_count": 416,
   "id": "9602b1e5-646e-4a3c-9cfd-5b2f122de62a",
   "metadata": {},
   "outputs": [],
   "source": [
    "# Calcular el número de eventos y no eventos para cada intervalo de decil\n",
    "eventos = []\n",
    "no_eventos = []\n",
    "for i in range(len(deciles) - 1):\n",
    "    intervalo = df_output[(df_output['puntaje'] >= deciles[i]) & (df_output['puntaje'] < deciles[i+1])]\n",
    "    eventos.append(intervalo['marca_default'].sum())\n",
    "    no_eventos.append(len(intervalo) - intervalo['marca_default'].sum())\n",
    "eventos.reverse()\n",
    "no_eventos.reverse()\n",
    "    \n",
    "# Calcular el total de eventos y no eventos\n",
    "total_eventos = df_output['marca_default'].sum()\n",
    "total_no_eventos = len(df_output) - df_output['marca_default'].sum()\n",
    "total_bin = [x + y for x, y in zip(eventos,no_eventos)]\n",
    "df1 = {'Min': np.flip(deciles[0:len(deciles)-1]).tolist(),\n",
    "        'Max': np.flip(deciles[1:len(deciles)]).tolist(),\n",
    "        '0': no_eventos,\n",
    "        '1': eventos,\n",
    "        'total': total_bin}\n",
    "df_resultado = pd.DataFrame(df1)"
   ]
  },
  {
   "cell_type": "code",
   "execution_count": 417,
   "id": "da23f9af-847f-4b6a-aba4-cbb4f96cc7b2",
   "metadata": {},
   "outputs": [
    {
     "data": {
      "text/html": [
       "<div>\n",
       "<style scoped>\n",
       "    .dataframe tbody tr th:only-of-type {\n",
       "        vertical-align: middle;\n",
       "    }\n",
       "\n",
       "    .dataframe tbody tr th {\n",
       "        vertical-align: top;\n",
       "    }\n",
       "\n",
       "    .dataframe thead th {\n",
       "        text-align: right;\n",
       "    }\n",
       "</style>\n",
       "<table border=\"1\" class=\"dataframe\">\n",
       "  <thead>\n",
       "    <tr style=\"text-align: right;\">\n",
       "      <th></th>\n",
       "      <th>Min</th>\n",
       "      <th>Max</th>\n",
       "      <th>0</th>\n",
       "      <th>1</th>\n",
       "      <th>total</th>\n",
       "    </tr>\n",
       "  </thead>\n",
       "  <tbody>\n",
       "    <tr>\n",
       "      <th>0</th>\n",
       "      <td>0.679562</td>\n",
       "      <td>1.000000</td>\n",
       "      <td>729</td>\n",
       "      <td>2216</td>\n",
       "      <td>2945</td>\n",
       "    </tr>\n",
       "    <tr>\n",
       "      <th>1</th>\n",
       "      <td>0.432845</td>\n",
       "      <td>0.679562</td>\n",
       "      <td>1101</td>\n",
       "      <td>1922</td>\n",
       "      <td>3023</td>\n",
       "    </tr>\n",
       "    <tr>\n",
       "      <th>2</th>\n",
       "      <td>0.325155</td>\n",
       "      <td>0.432845</td>\n",
       "      <td>1412</td>\n",
       "      <td>1610</td>\n",
       "      <td>3022</td>\n",
       "    </tr>\n",
       "    <tr>\n",
       "      <th>3</th>\n",
       "      <td>0.279980</td>\n",
       "      <td>0.325155</td>\n",
       "      <td>2100</td>\n",
       "      <td>987</td>\n",
       "      <td>3087</td>\n",
       "    </tr>\n",
       "    <tr>\n",
       "      <th>4</th>\n",
       "      <td>0.253835</td>\n",
       "      <td>0.279980</td>\n",
       "      <td>2309</td>\n",
       "      <td>654</td>\n",
       "      <td>2963</td>\n",
       "    </tr>\n",
       "    <tr>\n",
       "      <th>5</th>\n",
       "      <td>0.236146</td>\n",
       "      <td>0.253835</td>\n",
       "      <td>2321</td>\n",
       "      <td>548</td>\n",
       "      <td>2869</td>\n",
       "    </tr>\n",
       "    <tr>\n",
       "      <th>6</th>\n",
       "      <td>0.213646</td>\n",
       "      <td>0.236146</td>\n",
       "      <td>2478</td>\n",
       "      <td>493</td>\n",
       "      <td>2971</td>\n",
       "    </tr>\n",
       "    <tr>\n",
       "      <th>7</th>\n",
       "      <td>0.185070</td>\n",
       "      <td>0.213646</td>\n",
       "      <td>2635</td>\n",
       "      <td>323</td>\n",
       "      <td>2958</td>\n",
       "    </tr>\n",
       "    <tr>\n",
       "      <th>8</th>\n",
       "      <td>0.155327</td>\n",
       "      <td>0.185070</td>\n",
       "      <td>2772</td>\n",
       "      <td>258</td>\n",
       "      <td>3030</td>\n",
       "    </tr>\n",
       "    <tr>\n",
       "      <th>9</th>\n",
       "      <td>0.000000</td>\n",
       "      <td>0.155327</td>\n",
       "      <td>2449</td>\n",
       "      <td>554</td>\n",
       "      <td>3003</td>\n",
       "    </tr>\n",
       "  </tbody>\n",
       "</table>\n",
       "</div>"
      ],
      "text/plain": [
       "        Min       Max     0     1  total\n",
       "0  0.679562  1.000000   729  2216   2945\n",
       "1  0.432845  0.679562  1101  1922   3023\n",
       "2  0.325155  0.432845  1412  1610   3022\n",
       "3  0.279980  0.325155  2100   987   3087\n",
       "4  0.253835  0.279980  2309   654   2963\n",
       "5  0.236146  0.253835  2321   548   2869\n",
       "6  0.213646  0.236146  2478   493   2971\n",
       "7  0.185070  0.213646  2635   323   2958\n",
       "8  0.155327  0.185070  2772   258   3030\n",
       "9  0.000000  0.155327  2449   554   3003"
      ]
     },
     "execution_count": 417,
     "metadata": {},
     "output_type": "execute_result"
    }
   ],
   "source": [
    "df_resultado"
   ]
  },
  {
   "cell_type": "markdown",
   "id": "c02ebac5-5a3e-4833-8e12-9faf9bf59615",
   "metadata": {},
   "source": [
    "## Backtest Junio"
   ]
  },
  {
   "cell_type": "code",
   "execution_count": 418,
   "id": "46a936f2-5b76-4655-bab0-81b5378495e8",
   "metadata": {},
   "outputs": [],
   "source": [
    "df1=df_filt_Junio_2023[variables3]"
   ]
  },
  {
   "cell_type": "code",
   "execution_count": 419,
   "id": "0313978a-d89a-4f42-a4ce-7137438534a0",
   "metadata": {},
   "outputs": [
    {
     "name": "stderr",
     "output_type": "stream",
     "text": [
      "C:\\Users\\damartinezp\\AppData\\Local\\Temp\\ipykernel_25084\\4061222233.py:1: SettingWithCopyWarning: \n",
      "A value is trying to be set on a copy of a slice from a DataFrame.\n",
      "Try using .loc[row_indexer,col_indexer] = value instead\n",
      "\n",
      "See the caveats in the documentation: https://pandas.pydata.org/pandas-docs/stable/user_guide/indexing.html#returning-a-view-versus-a-copy\n",
      "  df1[cuantis] = scaler_cargado.fit_transform(df1[cuantis])\n"
     ]
    }
   ],
   "source": [
    "df1[cuantis] = scaler_cargado.fit_transform(df1[cuantis])\n",
    "for i in cualis:\n",
    "    labelencoder = LabelEncoder()\n",
    "    df1.loc[:, i] = labelencoder.fit_transform(df1[i])\n",
    "\n",
    "\n",
    "X=df1.drop(columns=[\"marca_default\"])\n",
    "y=df1[\"marca_default\"]\n",
    "\n",
    "#train_size=0.8\n",
    "#train, test2 = model_selection.train_test_split(df2,train_size=int(train_size*len(df2)), stratify=df2['marca_default'], random_state=seed)\n",
    "#train, test = model_selection.train_test_split(df1,train_size=int(train_size*len(df1)), stratify=df1['marca_default'], random_state=seed)"
   ]
  },
  {
   "cell_type": "code",
   "execution_count": 420,
   "id": "408685e0-4ed9-4dfd-b453-95e81ca955b3",
   "metadata": {},
   "outputs": [],
   "source": [
    "X_test = X\n",
    "y_test = y\n",
    "\n",
    "X_test = X_test.reset_index(drop=True)\n",
    "y_test = y_test.reset_index(drop=True)"
   ]
  },
  {
   "cell_type": "code",
   "execution_count": 421,
   "id": "52e67d5d-a8fe-49a3-a1ad-7c88a854d114",
   "metadata": {},
   "outputs": [],
   "source": [
    "y_pred_proba_1 = model_1.predict_proba(X_test)[:,1]\n",
    "y_pred_proba_2 = model_2.predict_proba(X_test)[:,1]\n",
    "y_pred_proba_3 = model_3.predict_proba(X_test)[:,1]\n",
    "y_pred_proba_4 = model_4.predict_proba(X_test)[:,1]\n",
    "y_pred_proba_5 = model_5.predict_proba(X_test)[:,1]\n",
    "y_pred_proba_6 = model_6.predict_proba(X_test)[:,1]\n",
    "y_pred_proba_7 = model_7.predict_proba(X_test)[:,1]\n",
    "y_pred_proba_8 = model_8.predict_proba(X_test)[:,1]\n",
    "y_pred_proba_9 = model_9.predict_proba(X_test)[:,1]\n",
    "y_pred_proba_10 = model_10.predict_proba(X_test)[:,1]\n",
    "\n",
    "y_pred_proba=(y_pred_proba_1+y_pred_proba_2+y_pred_proba_3+y_pred_proba_4+y_pred_proba_5+y_pred_proba_6\n",
    "             +y_pred_proba_7+y_pred_proba_8+y_pred_proba_9+y_pred_proba_10)/10\n",
    "\n",
    "y_pred_labels = (y_pred_proba > proba).astype(int)"
   ]
  },
  {
   "cell_type": "code",
   "execution_count": 422,
   "id": "bb1aa277-ab1a-4409-a4f5-afc8a81b562e",
   "metadata": {},
   "outputs": [
    {
     "data": {
      "text/html": [
       "<div>\n",
       "<style scoped>\n",
       "    .dataframe tbody tr th:only-of-type {\n",
       "        vertical-align: middle;\n",
       "    }\n",
       "\n",
       "    .dataframe tbody tr th {\n",
       "        vertical-align: top;\n",
       "    }\n",
       "\n",
       "    .dataframe thead th {\n",
       "        text-align: right;\n",
       "    }\n",
       "</style>\n",
       "<table border=\"1\" class=\"dataframe\">\n",
       "  <thead>\n",
       "    <tr style=\"text-align: right;\">\n",
       "      <th></th>\n",
       "      <th>count</th>\n",
       "      <th>mean</th>\n",
       "      <th>std</th>\n",
       "      <th>min</th>\n",
       "      <th>25%</th>\n",
       "      <th>50%</th>\n",
       "      <th>75%</th>\n",
       "      <th>max</th>\n",
       "    </tr>\n",
       "  </thead>\n",
       "  <tbody>\n",
       "    <tr>\n",
       "      <th>0</th>\n",
       "      <td>147862.0</td>\n",
       "      <td>0.34005</td>\n",
       "      <td>0.21121</td>\n",
       "      <td>0.027071</td>\n",
       "      <td>0.201613</td>\n",
       "      <td>0.263559</td>\n",
       "      <td>0.435895</td>\n",
       "      <td>0.928644</td>\n",
       "    </tr>\n",
       "  </tbody>\n",
       "</table>\n",
       "</div>"
      ],
      "text/plain": [
       "      count     mean      std       min       25%       50%       75%  \\\n",
       "0  147862.0  0.34005  0.21121  0.027071  0.201613  0.263559  0.435895   \n",
       "\n",
       "        max  \n",
       "0  0.928644  "
      ]
     },
     "execution_count": 422,
     "metadata": {},
     "output_type": "execute_result"
    }
   ],
   "source": [
    "pd.DataFrame(y_pred_proba).describe().T"
   ]
  },
  {
   "cell_type": "code",
   "execution_count": 423,
   "id": "2a0465c7-a041-43f2-93b1-994fb7b030c2",
   "metadata": {},
   "outputs": [],
   "source": [
    "cm=confusion_matrix(y_test, y_pred_labels)\n",
    "\n",
    "acc, err, se, sp, prec, FPR =calMetrics(cm)\n",
    "accuracy, precision, recall, f1, roc_auc, logloss=calMetrics2(y_test, y_pred_labels)\n",
    "    \n",
    "matrix={\n",
    "        \"Acc\": acc,\n",
    "        \"Err\": err,\n",
    "        \"Re\": se,\n",
    "        \"Sp\": sp,\n",
    "        \"Pre\": prec,\n",
    "        \"FPR\": FPR,\n",
    "        \"F1\":f1,\n",
    "        \"ROC_AUC\": roc_auc,\n",
    "        \"Log_Loss\": logloss\n",
    "    }"
   ]
  },
  {
   "cell_type": "code",
   "execution_count": 424,
   "id": "aa612c77-6f68-4002-ada8-92ce6c23415e",
   "metadata": {},
   "outputs": [
    {
     "data": {
      "text/plain": [
       "{'Acc': 77.74,\n",
       " 'Err': 22.26,\n",
       " 'Re': 47.68,\n",
       " 'Sp': 90.46,\n",
       " 'Pre': 67.91,\n",
       " 'FPR': 9.54,\n",
       " 'F1': 56.02,\n",
       " 'ROC_AUC': 69.07,\n",
       " 'Log_Loss': 8.02}"
      ]
     },
     "execution_count": 424,
     "metadata": {},
     "output_type": "execute_result"
    }
   ],
   "source": [
    "matrix"
   ]
  },
  {
   "cell_type": "code",
   "execution_count": 425,
   "id": "074c07ad-1e95-4c0d-8223-1fb7e6f01b0c",
   "metadata": {},
   "outputs": [
    {
     "data": {
      "text/plain": [
       "<AxesSubplot:>"
      ]
     },
     "execution_count": 425,
     "metadata": {},
     "output_type": "execute_result"
    },
    {
     "data": {
      "image/png": "[encoded data removed]",
      "text/plain": [
       "<Figure size 640x480 with 2 Axes>"
      ]
     },
     "metadata": {},
     "output_type": "display_data"
    }
   ],
   "source": [
    "cm = confusion_matrix(y_test, y_pred_labels)\n",
    "sns.heatmap(cm, annot=True, cmap='viridis', fmt='g')"
   ]
  },
  {
   "cell_type": "code",
   "execution_count": 426,
   "id": "451351b4-95f4-4d3c-a534-2537ddc82637",
   "metadata": {},
   "outputs": [],
   "source": [
    "df_output = pd.DataFrame({\"puntaje\": y_pred_proba, \"marca_default\": y_test})\n",
    "df_output.insert(0, \"V1\", range(1, len(df_output) + 1))\n",
    "df_output.to_csv(\"C:/Users/damartinezp/OneDrive - BAN100 S.A/Documentos/Proyectos Borrador/PD_TuCrédito/2024_modelo/datos_salida_logistic_202306.csv\")"
   ]
  },
  {
   "cell_type": "code",
   "execution_count": 427,
   "id": "13ed16e9-2da0-4ebd-817b-56dc4c8e3856",
   "metadata": {},
   "outputs": [
    {
     "data": {
      "text/html": [
       "<div>\n",
       "<style scoped>\n",
       "    .dataframe tbody tr th:only-of-type {\n",
       "        vertical-align: middle;\n",
       "    }\n",
       "\n",
       "    .dataframe tbody tr th {\n",
       "        vertical-align: top;\n",
       "    }\n",
       "\n",
       "    .dataframe thead th {\n",
       "        text-align: right;\n",
       "    }\n",
       "</style>\n",
       "<table border=\"1\" class=\"dataframe\">\n",
       "  <thead>\n",
       "    <tr style=\"text-align: right;\">\n",
       "      <th></th>\n",
       "      <th>V1</th>\n",
       "      <th>puntaje</th>\n",
       "      <th>marca_default</th>\n",
       "    </tr>\n",
       "  </thead>\n",
       "  <tbody>\n",
       "    <tr>\n",
       "      <th>0</th>\n",
       "      <td>1</td>\n",
       "      <td>0.202591</td>\n",
       "      <td>0</td>\n",
       "    </tr>\n",
       "    <tr>\n",
       "      <th>1</th>\n",
       "      <td>2</td>\n",
       "      <td>0.227688</td>\n",
       "      <td>0</td>\n",
       "    </tr>\n",
       "    <tr>\n",
       "      <th>2</th>\n",
       "      <td>3</td>\n",
       "      <td>0.854168</td>\n",
       "      <td>1</td>\n",
       "    </tr>\n",
       "    <tr>\n",
       "      <th>3</th>\n",
       "      <td>4</td>\n",
       "      <td>0.285690</td>\n",
       "      <td>0</td>\n",
       "    </tr>\n",
       "    <tr>\n",
       "      <th>4</th>\n",
       "      <td>5</td>\n",
       "      <td>0.732464</td>\n",
       "      <td>1</td>\n",
       "    </tr>\n",
       "    <tr>\n",
       "      <th>...</th>\n",
       "      <td>...</td>\n",
       "      <td>...</td>\n",
       "      <td>...</td>\n",
       "    </tr>\n",
       "    <tr>\n",
       "      <th>147857</th>\n",
       "      <td>147858</td>\n",
       "      <td>0.355871</td>\n",
       "      <td>0</td>\n",
       "    </tr>\n",
       "    <tr>\n",
       "      <th>147858</th>\n",
       "      <td>147859</td>\n",
       "      <td>0.683341</td>\n",
       "      <td>1</td>\n",
       "    </tr>\n",
       "    <tr>\n",
       "      <th>147859</th>\n",
       "      <td>147860</td>\n",
       "      <td>0.283308</td>\n",
       "      <td>0</td>\n",
       "    </tr>\n",
       "    <tr>\n",
       "      <th>147860</th>\n",
       "      <td>147861</td>\n",
       "      <td>0.295334</td>\n",
       "      <td>1</td>\n",
       "    </tr>\n",
       "    <tr>\n",
       "      <th>147861</th>\n",
       "      <td>147862</td>\n",
       "      <td>0.155327</td>\n",
       "      <td>0</td>\n",
       "    </tr>\n",
       "  </tbody>\n",
       "</table>\n",
       "<p>147862 rows × 3 columns</p>\n",
       "</div>"
      ],
      "text/plain": [
       "            V1   puntaje  marca_default\n",
       "0            1  0.202591              0\n",
       "1            2  0.227688              0\n",
       "2            3  0.854168              1\n",
       "3            4  0.285690              0\n",
       "4            5  0.732464              1\n",
       "...        ...       ...            ...\n",
       "147857  147858  0.355871              0\n",
       "147858  147859  0.683341              1\n",
       "147859  147860  0.283308              0\n",
       "147860  147861  0.295334              1\n",
       "147861  147862  0.155327              0\n",
       "\n",
       "[147862 rows x 3 columns]"
      ]
     },
     "execution_count": 427,
     "metadata": {},
     "output_type": "execute_result"
    }
   ],
   "source": [
    "df_output"
   ]
  },
  {
   "cell_type": "code",
   "execution_count": 428,
   "id": "a0613f5d-bd70-49b3-b398-3231ca78c17c",
   "metadata": {},
   "outputs": [
    {
     "name": "stdout",
     "output_type": "stream",
     "text": [
      "marca_default\n",
      "0    103882\n",
      "1     43980\n",
      "Name: count, dtype: int64\n"
     ]
    }
   ],
   "source": [
    "print(df_output['marca_default'].value_counts())"
   ]
  },
  {
   "cell_type": "code",
   "execution_count": 429,
   "id": "557c14e0-a653-4143-80c0-f0c8171d79e2",
   "metadata": {},
   "outputs": [],
   "source": [
    "deciles = deciles_train_06"
   ]
  },
  {
   "cell_type": "code",
   "execution_count": 430,
   "id": "dcb4cdb1-8008-4ce9-8fe9-c8758d76d09f",
   "metadata": {},
   "outputs": [],
   "source": [
    "# Calcular el número de eventos y no eventos para cada intervalo de decil\n",
    "eventos = []\n",
    "no_eventos = []\n",
    "for i in range(len(deciles) - 1):\n",
    "    intervalo = df_output[(df_output['puntaje'] >= deciles[i]) & (df_output['puntaje'] < deciles[i+1])]\n",
    "    eventos.append(intervalo['marca_default'].sum())\n",
    "    no_eventos.append(len(intervalo) - intervalo['marca_default'].sum())\n",
    "eventos.reverse()\n",
    "no_eventos.reverse()\n",
    "    \n",
    "# Calcular el total de eventos y no eventos\n",
    "total_eventos = df_output['marca_default'].sum()\n",
    "total_no_eventos = len(df_output) - df_output['marca_default'].sum()\n",
    "total_bin = [x + y for x, y in zip(eventos,no_eventos)]\n",
    "df1 = {'Min': np.flip(deciles[0:len(deciles)-1]).tolist(),\n",
    "        'Max': np.flip(deciles[1:len(deciles)]).tolist(),\n",
    "        '0': no_eventos,\n",
    "        '1': eventos,\n",
    "        'total': total_bin}\n",
    "df_resultado = pd.DataFrame(df1)"
   ]
  },
  {
   "cell_type": "code",
   "execution_count": 431,
   "id": "c4d8e052-b519-45a3-9057-5bf2c9467d9c",
   "metadata": {},
   "outputs": [
    {
     "data": {
      "text/html": [
       "<div>\n",
       "<style scoped>\n",
       "    .dataframe tbody tr th:only-of-type {\n",
       "        vertical-align: middle;\n",
       "    }\n",
       "\n",
       "    .dataframe tbody tr th {\n",
       "        vertical-align: top;\n",
       "    }\n",
       "\n",
       "    .dataframe thead th {\n",
       "        text-align: right;\n",
       "    }\n",
       "</style>\n",
       "<table border=\"1\" class=\"dataframe\">\n",
       "  <thead>\n",
       "    <tr style=\"text-align: right;\">\n",
       "      <th></th>\n",
       "      <th>Min</th>\n",
       "      <th>Max</th>\n",
       "      <th>0</th>\n",
       "      <th>1</th>\n",
       "      <th>total</th>\n",
       "    </tr>\n",
       "  </thead>\n",
       "  <tbody>\n",
       "    <tr>\n",
       "      <th>0</th>\n",
       "      <td>0.679562</td>\n",
       "      <td>1.000000</td>\n",
       "      <td>4502</td>\n",
       "      <td>13306</td>\n",
       "      <td>17808</td>\n",
       "    </tr>\n",
       "    <tr>\n",
       "      <th>1</th>\n",
       "      <td>0.432845</td>\n",
       "      <td>0.679562</td>\n",
       "      <td>9300</td>\n",
       "      <td>10105</td>\n",
       "      <td>19405</td>\n",
       "    </tr>\n",
       "    <tr>\n",
       "      <th>2</th>\n",
       "      <td>0.325155</td>\n",
       "      <td>0.432845</td>\n",
       "      <td>9275</td>\n",
       "      <td>4992</td>\n",
       "      <td>14267</td>\n",
       "    </tr>\n",
       "    <tr>\n",
       "      <th>3</th>\n",
       "      <td>0.279980</td>\n",
       "      <td>0.325155</td>\n",
       "      <td>10188</td>\n",
       "      <td>4011</td>\n",
       "      <td>14199</td>\n",
       "    </tr>\n",
       "    <tr>\n",
       "      <th>4</th>\n",
       "      <td>0.253835</td>\n",
       "      <td>0.279980</td>\n",
       "      <td>11437</td>\n",
       "      <td>2970</td>\n",
       "      <td>14407</td>\n",
       "    </tr>\n",
       "    <tr>\n",
       "      <th>5</th>\n",
       "      <td>0.236146</td>\n",
       "      <td>0.253835</td>\n",
       "      <td>10658</td>\n",
       "      <td>1861</td>\n",
       "      <td>12519</td>\n",
       "    </tr>\n",
       "    <tr>\n",
       "      <th>6</th>\n",
       "      <td>0.213646</td>\n",
       "      <td>0.236146</td>\n",
       "      <td>10944</td>\n",
       "      <td>1602</td>\n",
       "      <td>12546</td>\n",
       "    </tr>\n",
       "    <tr>\n",
       "      <th>7</th>\n",
       "      <td>0.185070</td>\n",
       "      <td>0.213646</td>\n",
       "      <td>12800</td>\n",
       "      <td>1443</td>\n",
       "      <td>14243</td>\n",
       "    </tr>\n",
       "    <tr>\n",
       "      <th>8</th>\n",
       "      <td>0.155327</td>\n",
       "      <td>0.185070</td>\n",
       "      <td>12913</td>\n",
       "      <td>897</td>\n",
       "      <td>13810</td>\n",
       "    </tr>\n",
       "    <tr>\n",
       "      <th>9</th>\n",
       "      <td>0.000000</td>\n",
       "      <td>0.155327</td>\n",
       "      <td>11865</td>\n",
       "      <td>2793</td>\n",
       "      <td>14658</td>\n",
       "    </tr>\n",
       "  </tbody>\n",
       "</table>\n",
       "</div>"
      ],
      "text/plain": [
       "        Min       Max      0      1  total\n",
       "0  0.679562  1.000000   4502  13306  17808\n",
       "1  0.432845  0.679562   9300  10105  19405\n",
       "2  0.325155  0.432845   9275   4992  14267\n",
       "3  0.279980  0.325155  10188   4011  14199\n",
       "4  0.253835  0.279980  11437   2970  14407\n",
       "5  0.236146  0.253835  10658   1861  12519\n",
       "6  0.213646  0.236146  10944   1602  12546\n",
       "7  0.185070  0.213646  12800   1443  14243\n",
       "8  0.155327  0.185070  12913    897  13810\n",
       "9  0.000000  0.155327  11865   2793  14658"
      ]
     },
     "execution_count": 431,
     "metadata": {},
     "output_type": "execute_result"
    }
   ],
   "source": [
    "df_resultado"
   ]
  },
  {
   "cell_type": "markdown",
   "id": "d8503e35-c969-4089-9492-4aadafa654c8",
   "metadata": {},
   "source": [
    "## Backtest Julio"
   ]
  },
  {
   "cell_type": "code",
   "execution_count": 432,
   "id": "a4ff2982-26bc-435e-a7c6-77f0b6b4aa87",
   "metadata": {},
   "outputs": [],
   "source": [
    "df1=df_filt_Julio_2023[variables3]"
   ]
  },
  {
   "cell_type": "code",
   "execution_count": 433,
   "id": "7c54e70d-adc6-4d85-80b3-870afa568b77",
   "metadata": {},
   "outputs": [
    {
     "name": "stderr",
     "output_type": "stream",
     "text": [
      "C:\\Users\\damartinezp\\AppData\\Local\\Temp\\ipykernel_25084\\4061222233.py:1: SettingWithCopyWarning: \n",
      "A value is trying to be set on a copy of a slice from a DataFrame.\n",
      "Try using .loc[row_indexer,col_indexer] = value instead\n",
      "\n",
      "See the caveats in the documentation: https://pandas.pydata.org/pandas-docs/stable/user_guide/indexing.html#returning-a-view-versus-a-copy\n",
      "  df1[cuantis] = scaler_cargado.fit_transform(df1[cuantis])\n"
     ]
    }
   ],
   "source": [
    "df1[cuantis] = scaler_cargado.fit_transform(df1[cuantis])\n",
    "for i in cualis:\n",
    "    labelencoder = LabelEncoder()\n",
    "    df1.loc[:, i] = labelencoder.fit_transform(df1[i])\n",
    "\n",
    "\n",
    "X=df1.drop(columns=[\"marca_default\"])\n",
    "y=df1[\"marca_default\"]\n",
    "\n",
    "#train_size=0.8\n",
    "#train, test2 = model_selection.train_test_split(df2,train_size=int(train_size*len(df2)), stratify=df2['marca_default'], random_state=seed)\n",
    "#train, test = model_selection.train_test_split(df1,train_size=int(train_size*len(df1)), stratify=df1['marca_default'], random_state=seed)"
   ]
  },
  {
   "cell_type": "code",
   "execution_count": 434,
   "id": "ca19c3e1-0140-47ae-833b-4b2e6e95c463",
   "metadata": {},
   "outputs": [],
   "source": [
    "X_test = X\n",
    "y_test = y\n",
    "\n",
    "X_test = X_test.reset_index(drop=True)\n",
    "y_test = y_test.reset_index(drop=True)"
   ]
  },
  {
   "cell_type": "code",
   "execution_count": 435,
   "id": "c8359aa9-dabd-4601-b4c5-15a5c8b954a4",
   "metadata": {},
   "outputs": [],
   "source": [
    "y_pred_proba_1 = model_1.predict_proba(X_test)[:,1]\n",
    "y_pred_proba_2 = model_2.predict_proba(X_test)[:,1]\n",
    "y_pred_proba_3 = model_3.predict_proba(X_test)[:,1]\n",
    "y_pred_proba_4 = model_4.predict_proba(X_test)[:,1]\n",
    "y_pred_proba_5 = model_5.predict_proba(X_test)[:,1]\n",
    "y_pred_proba_6 = model_6.predict_proba(X_test)[:,1]\n",
    "y_pred_proba_7 = model_7.predict_proba(X_test)[:,1]\n",
    "y_pred_proba_8 = model_8.predict_proba(X_test)[:,1]\n",
    "y_pred_proba_9 = model_9.predict_proba(X_test)[:,1]\n",
    "y_pred_proba_10 = model_10.predict_proba(X_test)[:,1]\n",
    "\n",
    "y_pred_proba=(y_pred_proba_1+y_pred_proba_2+y_pred_proba_3+y_pred_proba_4+y_pred_proba_5+y_pred_proba_6\n",
    "             +y_pred_proba_7+y_pred_proba_8+y_pred_proba_9+y_pred_proba_10)/10\n",
    "\n",
    "y_pred_labels = (y_pred_proba > proba).astype(int)"
   ]
  },
  {
   "cell_type": "code",
   "execution_count": 436,
   "id": "ed6bad89-152c-464b-9206-002bbd65a95d",
   "metadata": {},
   "outputs": [
    {
     "data": {
      "text/html": [
       "<div>\n",
       "<style scoped>\n",
       "    .dataframe tbody tr th:only-of-type {\n",
       "        vertical-align: middle;\n",
       "    }\n",
       "\n",
       "    .dataframe tbody tr th {\n",
       "        vertical-align: top;\n",
       "    }\n",
       "\n",
       "    .dataframe thead th {\n",
       "        text-align: right;\n",
       "    }\n",
       "</style>\n",
       "<table border=\"1\" class=\"dataframe\">\n",
       "  <thead>\n",
       "    <tr style=\"text-align: right;\">\n",
       "      <th></th>\n",
       "      <th>count</th>\n",
       "      <th>mean</th>\n",
       "      <th>std</th>\n",
       "      <th>min</th>\n",
       "      <th>25%</th>\n",
       "      <th>50%</th>\n",
       "      <th>75%</th>\n",
       "      <th>max</th>\n",
       "    </tr>\n",
       "  </thead>\n",
       "  <tbody>\n",
       "    <tr>\n",
       "      <th>0</th>\n",
       "      <td>139654.0</td>\n",
       "      <td>0.34053</td>\n",
       "      <td>0.213266</td>\n",
       "      <td>0.026889</td>\n",
       "      <td>0.199457</td>\n",
       "      <td>0.26183</td>\n",
       "      <td>0.456195</td>\n",
       "      <td>0.929463</td>\n",
       "    </tr>\n",
       "  </tbody>\n",
       "</table>\n",
       "</div>"
      ],
      "text/plain": [
       "      count     mean       std       min       25%      50%       75%  \\\n",
       "0  139654.0  0.34053  0.213266  0.026889  0.199457  0.26183  0.456195   \n",
       "\n",
       "        max  \n",
       "0  0.929463  "
      ]
     },
     "execution_count": 436,
     "metadata": {},
     "output_type": "execute_result"
    }
   ],
   "source": [
    "pd.DataFrame(y_pred_proba).describe().T"
   ]
  },
  {
   "cell_type": "code",
   "execution_count": 437,
   "id": "2bec37ed-5007-4753-aaad-7f861ff66800",
   "metadata": {},
   "outputs": [],
   "source": [
    "cm=confusion_matrix(y_test, y_pred_labels)\n",
    "\n",
    "acc, err, se, sp, prec, FPR =calMetrics(cm)\n",
    "accuracy, precision, recall, f1, roc_auc, logloss=calMetrics2(y_test, y_pred_labels)\n",
    "    \n",
    "matrix={\n",
    "        \"Acc\": acc,\n",
    "        \"Err\": err,\n",
    "        \"Re\": se,\n",
    "        \"Sp\": sp,\n",
    "        \"Pre\": prec,\n",
    "        \"FPR\": FPR,\n",
    "        \"F1\":f1,\n",
    "        \"ROC_AUC\": roc_auc,\n",
    "        \"Log_Loss\": logloss\n",
    "    }"
   ]
  },
  {
   "cell_type": "code",
   "execution_count": 438,
   "id": "2a3d9dfc-0980-4a94-9619-062081e928be",
   "metadata": {},
   "outputs": [
    {
     "data": {
      "text/plain": [
       "{'Acc': 76.37,\n",
       " 'Err': 23.63,\n",
       " 'Re': 44.36,\n",
       " 'Sp': 89.68,\n",
       " 'Pre': 64.14,\n",
       " 'FPR': 10.32,\n",
       " 'F1': 52.45,\n",
       " 'ROC_AUC': 67.02,\n",
       " 'Log_Loss': 8.52}"
      ]
     },
     "execution_count": 438,
     "metadata": {},
     "output_type": "execute_result"
    }
   ],
   "source": [
    "matrix"
   ]
  },
  {
   "cell_type": "code",
   "execution_count": 439,
   "id": "0c73f453-ce4c-4536-95bc-fe4dba5a38ad",
   "metadata": {},
   "outputs": [
    {
     "data": {
      "text/plain": [
       "<AxesSubplot:>"
      ]
     },
     "execution_count": 439,
     "metadata": {},
     "output_type": "execute_result"
    },
    {
     "data": {
      "image/png": "[encoded data removed]",
      "text/plain": [
       "<Figure size 640x480 with 2 Axes>"
      ]
     },
     "metadata": {},
     "output_type": "display_data"
    }
   ],
   "source": [
    "cm = confusion_matrix(y_test, y_pred_labels)\n",
    "sns.heatmap(cm, annot=True, cmap='viridis', fmt='g')"
   ]
  },
  {
   "cell_type": "code",
   "execution_count": 440,
   "id": "29c60b5e-a206-4894-82ce-8d18d88db04e",
   "metadata": {},
   "outputs": [],
   "source": [
    "df_output = pd.DataFrame({\"puntaje\": y_pred_proba, \"marca_default\": y_test})\n",
    "df_output.insert(0, \"V1\", range(1, len(df_output) + 1))\n",
    "df_output.to_csv(\"C:/Users/damartinezp/OneDrive - BAN100 S.A/Documentos/Proyectos Borrador/PD_TuCrédito/2024_modelo/datos_salida_logistic_202307.csv\")"
   ]
  },
  {
   "cell_type": "code",
   "execution_count": 441,
   "id": "72da19ef-0346-4ea6-a243-810d7f014cb0",
   "metadata": {},
   "outputs": [
    {
     "data": {
      "text/html": [
       "<div>\n",
       "<style scoped>\n",
       "    .dataframe tbody tr th:only-of-type {\n",
       "        vertical-align: middle;\n",
       "    }\n",
       "\n",
       "    .dataframe tbody tr th {\n",
       "        vertical-align: top;\n",
       "    }\n",
       "\n",
       "    .dataframe thead th {\n",
       "        text-align: right;\n",
       "    }\n",
       "</style>\n",
       "<table border=\"1\" class=\"dataframe\">\n",
       "  <thead>\n",
       "    <tr style=\"text-align: right;\">\n",
       "      <th></th>\n",
       "      <th>V1</th>\n",
       "      <th>puntaje</th>\n",
       "      <th>marca_default</th>\n",
       "    </tr>\n",
       "  </thead>\n",
       "  <tbody>\n",
       "    <tr>\n",
       "      <th>0</th>\n",
       "      <td>1</td>\n",
       "      <td>0.202591</td>\n",
       "      <td>0</td>\n",
       "    </tr>\n",
       "    <tr>\n",
       "      <th>1</th>\n",
       "      <td>2</td>\n",
       "      <td>0.227688</td>\n",
       "      <td>0</td>\n",
       "    </tr>\n",
       "    <tr>\n",
       "      <th>2</th>\n",
       "      <td>3</td>\n",
       "      <td>0.685054</td>\n",
       "      <td>1</td>\n",
       "    </tr>\n",
       "    <tr>\n",
       "      <th>3</th>\n",
       "      <td>4</td>\n",
       "      <td>0.285690</td>\n",
       "      <td>0</td>\n",
       "    </tr>\n",
       "    <tr>\n",
       "      <th>4</th>\n",
       "      <td>5</td>\n",
       "      <td>0.469739</td>\n",
       "      <td>1</td>\n",
       "    </tr>\n",
       "    <tr>\n",
       "      <th>...</th>\n",
       "      <td>...</td>\n",
       "      <td>...</td>\n",
       "      <td>...</td>\n",
       "    </tr>\n",
       "    <tr>\n",
       "      <th>139649</th>\n",
       "      <td>139650</td>\n",
       "      <td>0.639924</td>\n",
       "      <td>1</td>\n",
       "    </tr>\n",
       "    <tr>\n",
       "      <th>139650</th>\n",
       "      <td>139651</td>\n",
       "      <td>0.291648</td>\n",
       "      <td>0</td>\n",
       "    </tr>\n",
       "    <tr>\n",
       "      <th>139651</th>\n",
       "      <td>139652</td>\n",
       "      <td>0.807623</td>\n",
       "      <td>0</td>\n",
       "    </tr>\n",
       "    <tr>\n",
       "      <th>139652</th>\n",
       "      <td>139653</td>\n",
       "      <td>0.582936</td>\n",
       "      <td>1</td>\n",
       "    </tr>\n",
       "    <tr>\n",
       "      <th>139653</th>\n",
       "      <td>139654</td>\n",
       "      <td>0.155327</td>\n",
       "      <td>0</td>\n",
       "    </tr>\n",
       "  </tbody>\n",
       "</table>\n",
       "<p>139654 rows × 3 columns</p>\n",
       "</div>"
      ],
      "text/plain": [
       "            V1   puntaje  marca_default\n",
       "0            1  0.202591              0\n",
       "1            2  0.227688              0\n",
       "2            3  0.685054              1\n",
       "3            4  0.285690              0\n",
       "4            5  0.469739              1\n",
       "...        ...       ...            ...\n",
       "139649  139650  0.639924              1\n",
       "139650  139651  0.291648              0\n",
       "139651  139652  0.807623              0\n",
       "139652  139653  0.582936              1\n",
       "139653  139654  0.155327              0\n",
       "\n",
       "[139654 rows x 3 columns]"
      ]
     },
     "execution_count": 441,
     "metadata": {},
     "output_type": "execute_result"
    }
   ],
   "source": [
    "df_output"
   ]
  },
  {
   "cell_type": "code",
   "execution_count": 442,
   "id": "386df036-854d-4363-a449-700bd34d1449",
   "metadata": {},
   "outputs": [
    {
     "name": "stdout",
     "output_type": "stream",
     "text": [
      "marca_default\n",
      "0    98630\n",
      "1    41024\n",
      "Name: count, dtype: int64\n"
     ]
    }
   ],
   "source": [
    "print(df_output['marca_default'].value_counts())"
   ]
  },
  {
   "cell_type": "code",
   "execution_count": 443,
   "id": "92ce1d18-bbef-46a2-9d7c-d0c5afba89b7",
   "metadata": {},
   "outputs": [],
   "source": [
    "deciles = deciles_train_06"
   ]
  },
  {
   "cell_type": "code",
   "execution_count": 444,
   "id": "c60e4692-3c82-4dc0-b0f7-0b4c51ad810d",
   "metadata": {},
   "outputs": [],
   "source": [
    "# Calcular el número de eventos y no eventos para cada intervalo de decil\n",
    "eventos = []\n",
    "no_eventos = []\n",
    "for i in range(len(deciles) - 1):\n",
    "    intervalo = df_output[(df_output['puntaje'] >= deciles[i]) & (df_output['puntaje'] < deciles[i+1])]\n",
    "    eventos.append(intervalo['marca_default'].sum())\n",
    "    no_eventos.append(len(intervalo) - intervalo['marca_default'].sum())\n",
    "eventos.reverse()\n",
    "no_eventos.reverse()\n",
    "    \n",
    "# Calcular el total de eventos y no eventos\n",
    "total_eventos = df_output['marca_default'].sum()\n",
    "total_no_eventos = len(df_output) - df_output['marca_default'].sum()\n",
    "total_bin = [x + y for x, y in zip(eventos,no_eventos)]\n",
    "df1 = {'Min': np.flip(deciles[0:len(deciles)-1]).tolist(),\n",
    "        'Max': np.flip(deciles[1:len(deciles)]).tolist(),\n",
    "        '0': no_eventos,\n",
    "        '1': eventos,\n",
    "        'total': total_bin}\n",
    "df_resultado = pd.DataFrame(df1)"
   ]
  },
  {
   "cell_type": "code",
   "execution_count": 445,
   "id": "9c8e6d7d-fa8e-4dfd-b4a9-dc07acd48277",
   "metadata": {},
   "outputs": [
    {
     "data": {
      "text/html": [
       "<div>\n",
       "<style scoped>\n",
       "    .dataframe tbody tr th:only-of-type {\n",
       "        vertical-align: middle;\n",
       "    }\n",
       "\n",
       "    .dataframe tbody tr th {\n",
       "        vertical-align: top;\n",
       "    }\n",
       "\n",
       "    .dataframe thead th {\n",
       "        text-align: right;\n",
       "    }\n",
       "</style>\n",
       "<table border=\"1\" class=\"dataframe\">\n",
       "  <thead>\n",
       "    <tr style=\"text-align: right;\">\n",
       "      <th></th>\n",
       "      <th>Min</th>\n",
       "      <th>Max</th>\n",
       "      <th>0</th>\n",
       "      <th>1</th>\n",
       "      <th>total</th>\n",
       "    </tr>\n",
       "  </thead>\n",
       "  <tbody>\n",
       "    <tr>\n",
       "      <th>0</th>\n",
       "      <td>0.679562</td>\n",
       "      <td>1.000000</td>\n",
       "      <td>3804</td>\n",
       "      <td>11932</td>\n",
       "      <td>15736</td>\n",
       "    </tr>\n",
       "    <tr>\n",
       "      <th>1</th>\n",
       "      <td>0.432845</td>\n",
       "      <td>0.679562</td>\n",
       "      <td>12191</td>\n",
       "      <td>10684</td>\n",
       "      <td>22875</td>\n",
       "    </tr>\n",
       "    <tr>\n",
       "      <th>2</th>\n",
       "      <td>0.325155</td>\n",
       "      <td>0.432845</td>\n",
       "      <td>5942</td>\n",
       "      <td>5225</td>\n",
       "      <td>11167</td>\n",
       "    </tr>\n",
       "    <tr>\n",
       "      <th>3</th>\n",
       "      <td>0.279980</td>\n",
       "      <td>0.325155</td>\n",
       "      <td>9341</td>\n",
       "      <td>2981</td>\n",
       "      <td>12322</td>\n",
       "    </tr>\n",
       "    <tr>\n",
       "      <th>4</th>\n",
       "      <td>0.253835</td>\n",
       "      <td>0.279980</td>\n",
       "      <td>10429</td>\n",
       "      <td>1833</td>\n",
       "      <td>12262</td>\n",
       "    </tr>\n",
       "    <tr>\n",
       "      <th>5</th>\n",
       "      <td>0.236146</td>\n",
       "      <td>0.253835</td>\n",
       "      <td>10108</td>\n",
       "      <td>1637</td>\n",
       "      <td>11745</td>\n",
       "    </tr>\n",
       "    <tr>\n",
       "      <th>6</th>\n",
       "      <td>0.213646</td>\n",
       "      <td>0.236146</td>\n",
       "      <td>10354</td>\n",
       "      <td>1653</td>\n",
       "      <td>12007</td>\n",
       "    </tr>\n",
       "    <tr>\n",
       "      <th>7</th>\n",
       "      <td>0.185070</td>\n",
       "      <td>0.213646</td>\n",
       "      <td>12409</td>\n",
       "      <td>1314</td>\n",
       "      <td>13723</td>\n",
       "    </tr>\n",
       "    <tr>\n",
       "      <th>8</th>\n",
       "      <td>0.155327</td>\n",
       "      <td>0.185070</td>\n",
       "      <td>11971</td>\n",
       "      <td>834</td>\n",
       "      <td>12805</td>\n",
       "    </tr>\n",
       "    <tr>\n",
       "      <th>9</th>\n",
       "      <td>0.000000</td>\n",
       "      <td>0.155327</td>\n",
       "      <td>12081</td>\n",
       "      <td>2931</td>\n",
       "      <td>15012</td>\n",
       "    </tr>\n",
       "  </tbody>\n",
       "</table>\n",
       "</div>"
      ],
      "text/plain": [
       "        Min       Max      0      1  total\n",
       "0  0.679562  1.000000   3804  11932  15736\n",
       "1  0.432845  0.679562  12191  10684  22875\n",
       "2  0.325155  0.432845   5942   5225  11167\n",
       "3  0.279980  0.325155   9341   2981  12322\n",
       "4  0.253835  0.279980  10429   1833  12262\n",
       "5  0.236146  0.253835  10108   1637  11745\n",
       "6  0.213646  0.236146  10354   1653  12007\n",
       "7  0.185070  0.213646  12409   1314  13723\n",
       "8  0.155327  0.185070  11971    834  12805\n",
       "9  0.000000  0.155327  12081   2931  15012"
      ]
     },
     "execution_count": 445,
     "metadata": {},
     "output_type": "execute_result"
    }
   ],
   "source": [
    "df_resultado"
   ]
  },
  {
   "cell_type": "markdown",
   "id": "03b1a690-fe5b-4481-ae64-3a6b26522a9b",
   "metadata": {},
   "source": [
    "## Backetest Agosto"
   ]
  },
  {
   "cell_type": "code",
   "execution_count": 446,
   "id": "16e13640-360c-46c2-b70b-bf4d2b13460a",
   "metadata": {},
   "outputs": [],
   "source": [
    "df1=df_filt_Agosto_2023[variables3]"
   ]
  },
  {
   "cell_type": "code",
   "execution_count": 447,
   "id": "93bf04f7-247e-42ad-b83e-890a20cbfbad",
   "metadata": {},
   "outputs": [
    {
     "name": "stderr",
     "output_type": "stream",
     "text": [
      "C:\\Users\\damartinezp\\AppData\\Local\\Temp\\ipykernel_25084\\2737950152.py:1: SettingWithCopyWarning: \n",
      "A value is trying to be set on a copy of a slice from a DataFrame.\n",
      "Try using .loc[row_indexer,col_indexer] = value instead\n",
      "\n",
      "See the caveats in the documentation: https://pandas.pydata.org/pandas-docs/stable/user_guide/indexing.html#returning-a-view-versus-a-copy\n",
      "  df1[cuantis] = scaler_cargado.fit_transform(df1[cuantis])\n"
     ]
    }
   ],
   "source": [
    "df1[cuantis] = scaler_cargado.fit_transform(df1[cuantis])\n",
    "for i in cualis:\n",
    "    labelencoder = LabelEncoder()\n",
    "    df1.loc[:, i] = labelencoder.fit_transform(df1[i])\n",
    "\n",
    "X=df1.drop(columns=[\"marca_default\"])\n",
    "y=df1[\"marca_default\"]\n",
    "\n",
    "#train_size=0.8\n",
    "#train, test2 = model_selection.train_test_split(df2,train_size=int(train_size*len(df2)), stratify=df2['marca_default'], random_state=seed)\n",
    "#train, test = model_selection.train_test_split(df1,train_size=int(train_size*len(df1)), stratify=df1['marca_default'], random_state=seed)"
   ]
  },
  {
   "cell_type": "code",
   "execution_count": 448,
   "id": "a03a8d7f-bbcc-434a-b07e-957c00f93847",
   "metadata": {},
   "outputs": [],
   "source": [
    "X_test = X\n",
    "y_test = y\n",
    "\n",
    "X_test = X_test.reset_index(drop=True)\n",
    "y_test = y_test.reset_index(drop=True)"
   ]
  },
  {
   "cell_type": "code",
   "execution_count": 449,
   "id": "086644b3-583e-49af-82f1-045fa11463c7",
   "metadata": {},
   "outputs": [],
   "source": [
    "y_pred_proba_1 = model_1.predict_proba(X_test)[:,1]\n",
    "y_pred_proba_2 = model_2.predict_proba(X_test)[:,1]\n",
    "y_pred_proba_3 = model_3.predict_proba(X_test)[:,1]\n",
    "y_pred_proba_4 = model_4.predict_proba(X_test)[:,1]\n",
    "y_pred_proba_5 = model_5.predict_proba(X_test)[:,1]\n",
    "y_pred_proba_6 = model_6.predict_proba(X_test)[:,1]\n",
    "y_pred_proba_7 = model_7.predict_proba(X_test)[:,1]\n",
    "y_pred_proba_8 = model_8.predict_proba(X_test)[:,1]\n",
    "y_pred_proba_9 = model_9.predict_proba(X_test)[:,1]\n",
    "y_pred_proba_10 = model_10.predict_proba(X_test)[:,1]\n",
    "\n",
    "y_pred_proba=(y_pred_proba_1+y_pred_proba_2+y_pred_proba_3+y_pred_proba_4+y_pred_proba_5+y_pred_proba_6\n",
    "             +y_pred_proba_7+y_pred_proba_8+y_pred_proba_9+y_pred_proba_10)/10\n",
    "\n",
    "y_pred_labels = (y_pred_proba > proba).astype(int)"
   ]
  },
  {
   "cell_type": "code",
   "execution_count": 450,
   "id": "957ea440-94b5-48a0-a535-5abcb7c11329",
   "metadata": {},
   "outputs": [
    {
     "data": {
      "text/html": [
       "<div>\n",
       "<style scoped>\n",
       "    .dataframe tbody tr th:only-of-type {\n",
       "        vertical-align: middle;\n",
       "    }\n",
       "\n",
       "    .dataframe tbody tr th {\n",
       "        vertical-align: top;\n",
       "    }\n",
       "\n",
       "    .dataframe thead th {\n",
       "        text-align: right;\n",
       "    }\n",
       "</style>\n",
       "<table border=\"1\" class=\"dataframe\">\n",
       "  <thead>\n",
       "    <tr style=\"text-align: right;\">\n",
       "      <th></th>\n",
       "      <th>count</th>\n",
       "      <th>mean</th>\n",
       "      <th>std</th>\n",
       "      <th>min</th>\n",
       "      <th>25%</th>\n",
       "      <th>50%</th>\n",
       "      <th>75%</th>\n",
       "      <th>max</th>\n",
       "    </tr>\n",
       "  </thead>\n",
       "  <tbody>\n",
       "    <tr>\n",
       "      <th>0</th>\n",
       "      <td>133181.0</td>\n",
       "      <td>0.320622</td>\n",
       "      <td>0.197988</td>\n",
       "      <td>0.02483</td>\n",
       "      <td>0.194593</td>\n",
       "      <td>0.256535</td>\n",
       "      <td>0.401402</td>\n",
       "      <td>0.929818</td>\n",
       "    </tr>\n",
       "  </tbody>\n",
       "</table>\n",
       "</div>"
      ],
      "text/plain": [
       "      count      mean       std      min       25%       50%       75%  \\\n",
       "0  133181.0  0.320622  0.197988  0.02483  0.194593  0.256535  0.401402   \n",
       "\n",
       "        max  \n",
       "0  0.929818  "
      ]
     },
     "execution_count": 450,
     "metadata": {},
     "output_type": "execute_result"
    }
   ],
   "source": [
    "pd.DataFrame(y_pred_proba).describe().T"
   ]
  },
  {
   "cell_type": "code",
   "execution_count": 451,
   "id": "8010d7cc-5be1-4d39-a182-84a3cd1ce739",
   "metadata": {},
   "outputs": [],
   "source": [
    "cm=confusion_matrix(y_test, y_pred_labels)\n",
    "\n",
    "acc, err, se, sp, prec, FPR =calMetrics(cm)\n",
    "accuracy, precision, recall, f1, roc_auc, logloss=calMetrics2(y_test, y_pred_labels)\n",
    "    \n",
    "matrix={\n",
    "        \"Acc\": acc,\n",
    "        \"Err\": err,\n",
    "        \"Re\": se,\n",
    "        \"Sp\": sp,\n",
    "        \"Pre\": prec,\n",
    "        \"FPR\": FPR,\n",
    "        \"F1\":f1,\n",
    "        \"ROC_AUC\": roc_auc,\n",
    "        \"Log_Loss\": logloss\n",
    "    }"
   ]
  },
  {
   "cell_type": "code",
   "execution_count": 452,
   "id": "20033c69-0d56-4abd-8e52-0608fd0d4557",
   "metadata": {},
   "outputs": [
    {
     "data": {
      "text/plain": [
       "{'Acc': 76.27,\n",
       " 'Err': 23.73,\n",
       " 'Re': 38.88,\n",
       " 'Sp': 89.86,\n",
       " 'Pre': 58.21,\n",
       " 'FPR': 10.14,\n",
       " 'F1': 46.62,\n",
       " 'ROC_AUC': 64.37,\n",
       " 'Log_Loss': 8.55}"
      ]
     },
     "execution_count": 452,
     "metadata": {},
     "output_type": "execute_result"
    }
   ],
   "source": [
    "matrix"
   ]
  },
  {
   "cell_type": "code",
   "execution_count": 453,
   "id": "cbe03348-9174-49a4-ac4f-33e7d462260d",
   "metadata": {},
   "outputs": [
    {
     "data": {
      "text/plain": [
       "<AxesSubplot:>"
      ]
     },
     "execution_count": 453,
     "metadata": {},
     "output_type": "execute_result"
    },
    {
     "data": {
      "image/png": "[encoded data removed]",
      "text/plain": [
       "<Figure size 640x480 with 2 Axes>"
      ]
     },
     "metadata": {},
     "output_type": "display_data"
    }
   ],
   "source": [
    "cm = confusion_matrix(y_test, y_pred_labels)\n",
    "sns.heatmap(cm, annot=True, cmap='viridis', fmt='g')"
   ]
  },
  {
   "cell_type": "code",
   "execution_count": 454,
   "id": "964cbb38-2952-49b9-b438-c94ab5e32e31",
   "metadata": {},
   "outputs": [],
   "source": [
    "df_output = pd.DataFrame({\"puntaje\": y_pred_proba, \"marca_default\": y_test})\n",
    "df_output.insert(0, \"V1\", range(1, len(df_output) + 1))\n",
    "df_output.to_csv(\"C:/Users/damartinezp/OneDrive - BAN100 S.A/Documentos/Proyectos Borrador/PD_TuCrédito/2024_modelo/datos_salida_logistic_202308.csv\")"
   ]
  },
  {
   "cell_type": "code",
   "execution_count": 455,
   "id": "c7da93a0-a843-4626-bb66-191fb69035f8",
   "metadata": {},
   "outputs": [
    {
     "data": {
      "text/html": [
       "<div>\n",
       "<style scoped>\n",
       "    .dataframe tbody tr th:only-of-type {\n",
       "        vertical-align: middle;\n",
       "    }\n",
       "\n",
       "    .dataframe tbody tr th {\n",
       "        vertical-align: top;\n",
       "    }\n",
       "\n",
       "    .dataframe thead th {\n",
       "        text-align: right;\n",
       "    }\n",
       "</style>\n",
       "<table border=\"1\" class=\"dataframe\">\n",
       "  <thead>\n",
       "    <tr style=\"text-align: right;\">\n",
       "      <th></th>\n",
       "      <th>V1</th>\n",
       "      <th>puntaje</th>\n",
       "      <th>marca_default</th>\n",
       "    </tr>\n",
       "  </thead>\n",
       "  <tbody>\n",
       "    <tr>\n",
       "      <th>0</th>\n",
       "      <td>1</td>\n",
       "      <td>0.202978</td>\n",
       "      <td>0</td>\n",
       "    </tr>\n",
       "    <tr>\n",
       "      <th>1</th>\n",
       "      <td>2</td>\n",
       "      <td>0.227970</td>\n",
       "      <td>0</td>\n",
       "    </tr>\n",
       "    <tr>\n",
       "      <th>2</th>\n",
       "      <td>3</td>\n",
       "      <td>0.727188</td>\n",
       "      <td>1</td>\n",
       "    </tr>\n",
       "    <tr>\n",
       "      <th>3</th>\n",
       "      <td>4</td>\n",
       "      <td>0.285690</td>\n",
       "      <td>0</td>\n",
       "    </tr>\n",
       "    <tr>\n",
       "      <th>4</th>\n",
       "      <td>5</td>\n",
       "      <td>0.349264</td>\n",
       "      <td>1</td>\n",
       "    </tr>\n",
       "    <tr>\n",
       "      <th>...</th>\n",
       "      <td>...</td>\n",
       "      <td>...</td>\n",
       "      <td>...</td>\n",
       "    </tr>\n",
       "    <tr>\n",
       "      <th>133176</th>\n",
       "      <td>133177</td>\n",
       "      <td>0.709645</td>\n",
       "      <td>1</td>\n",
       "    </tr>\n",
       "    <tr>\n",
       "      <th>133177</th>\n",
       "      <td>133178</td>\n",
       "      <td>0.277627</td>\n",
       "      <td>0</td>\n",
       "    </tr>\n",
       "    <tr>\n",
       "      <th>133178</th>\n",
       "      <td>133179</td>\n",
       "      <td>0.861509</td>\n",
       "      <td>1</td>\n",
       "    </tr>\n",
       "    <tr>\n",
       "      <th>133179</th>\n",
       "      <td>133180</td>\n",
       "      <td>0.735428</td>\n",
       "      <td>1</td>\n",
       "    </tr>\n",
       "    <tr>\n",
       "      <th>133180</th>\n",
       "      <td>133181</td>\n",
       "      <td>0.155431</td>\n",
       "      <td>0</td>\n",
       "    </tr>\n",
       "  </tbody>\n",
       "</table>\n",
       "<p>133181 rows × 3 columns</p>\n",
       "</div>"
      ],
      "text/plain": [
       "            V1   puntaje  marca_default\n",
       "0            1  0.202978              0\n",
       "1            2  0.227970              0\n",
       "2            3  0.727188              1\n",
       "3            4  0.285690              0\n",
       "4            5  0.349264              1\n",
       "...        ...       ...            ...\n",
       "133176  133177  0.709645              1\n",
       "133177  133178  0.277627              0\n",
       "133178  133179  0.861509              1\n",
       "133179  133180  0.735428              1\n",
       "133180  133181  0.155431              0\n",
       "\n",
       "[133181 rows x 3 columns]"
      ]
     },
     "execution_count": 455,
     "metadata": {},
     "output_type": "execute_result"
    }
   ],
   "source": [
    "df_output"
   ]
  },
  {
   "cell_type": "code",
   "execution_count": 456,
   "id": "6300a743-608a-4bba-87de-eb98cb8e591f",
   "metadata": {},
   "outputs": [
    {
     "name": "stdout",
     "output_type": "stream",
     "text": [
      "marca_default\n",
      "0    97687\n",
      "1    35494\n",
      "Name: count, dtype: int64\n"
     ]
    }
   ],
   "source": [
    "print(df_output['marca_default'].value_counts())"
   ]
  },
  {
   "cell_type": "code",
   "execution_count": 457,
   "id": "5a3f75ee-7ef1-48b3-8759-cb0b92da9c7b",
   "metadata": {},
   "outputs": [],
   "source": [
    "deciles = deciles_train_06"
   ]
  },
  {
   "cell_type": "code",
   "execution_count": 458,
   "id": "55fdb898-f05e-46c9-8d4c-318ac205f719",
   "metadata": {},
   "outputs": [],
   "source": [
    "# Calcular el número de eventos y no eventos para cada intervalo de decil\n",
    "eventos = []\n",
    "no_eventos = []\n",
    "for i in range(len(deciles) - 1):\n",
    "    intervalo = df_output[(df_output['puntaje'] >= deciles[i]) & (df_output['puntaje'] < deciles[i+1])]\n",
    "    eventos.append(intervalo['marca_default'].sum())\n",
    "    no_eventos.append(len(intervalo) - intervalo['marca_default'].sum())\n",
    "eventos.reverse()\n",
    "no_eventos.reverse()\n",
    "    \n",
    "# Calcular el total de eventos y no eventos\n",
    "total_eventos = df_output['marca_default'].sum()\n",
    "total_no_eventos = len(df_output) - df_output['marca_default'].sum()\n",
    "total_bin = [x + y for x, y in zip(eventos,no_eventos)]\n",
    "df1 = {'Min': np.flip(deciles[0:len(deciles)-1]).tolist(),\n",
    "        'Max': np.flip(deciles[1:len(deciles)]).tolist(),\n",
    "        '0': no_eventos,\n",
    "        '1': eventos,\n",
    "        'total': total_bin}\n",
    "df_resultado = pd.DataFrame(df1)"
   ]
  },
  {
   "cell_type": "code",
   "execution_count": 459,
   "id": "bb44bdfa-e471-416f-934d-32a052ebbf1f",
   "metadata": {},
   "outputs": [
    {
     "data": {
      "text/html": [
       "<div>\n",
       "<style scoped>\n",
       "    .dataframe tbody tr th:only-of-type {\n",
       "        vertical-align: middle;\n",
       "    }\n",
       "\n",
       "    .dataframe tbody tr th {\n",
       "        vertical-align: top;\n",
       "    }\n",
       "\n",
       "    .dataframe thead th {\n",
       "        text-align: right;\n",
       "    }\n",
       "</style>\n",
       "<table border=\"1\" class=\"dataframe\">\n",
       "  <thead>\n",
       "    <tr style=\"text-align: right;\">\n",
       "      <th></th>\n",
       "      <th>Min</th>\n",
       "      <th>Max</th>\n",
       "      <th>0</th>\n",
       "      <th>1</th>\n",
       "      <th>total</th>\n",
       "    </tr>\n",
       "  </thead>\n",
       "  <tbody>\n",
       "    <tr>\n",
       "      <th>0</th>\n",
       "      <td>0.679562</td>\n",
       "      <td>1.000000</td>\n",
       "      <td>4112</td>\n",
       "      <td>8917</td>\n",
       "      <td>13029</td>\n",
       "    </tr>\n",
       "    <tr>\n",
       "      <th>1</th>\n",
       "      <td>0.432845</td>\n",
       "      <td>0.679562</td>\n",
       "      <td>10155</td>\n",
       "      <td>6712</td>\n",
       "      <td>16867</td>\n",
       "    </tr>\n",
       "    <tr>\n",
       "      <th>2</th>\n",
       "      <td>0.325155</td>\n",
       "      <td>0.432845</td>\n",
       "      <td>6977</td>\n",
       "      <td>5863</td>\n",
       "      <td>12840</td>\n",
       "    </tr>\n",
       "    <tr>\n",
       "      <th>3</th>\n",
       "      <td>0.279980</td>\n",
       "      <td>0.325155</td>\n",
       "      <td>9299</td>\n",
       "      <td>4156</td>\n",
       "      <td>13455</td>\n",
       "    </tr>\n",
       "    <tr>\n",
       "      <th>4</th>\n",
       "      <td>0.253835</td>\n",
       "      <td>0.279980</td>\n",
       "      <td>9982</td>\n",
       "      <td>2056</td>\n",
       "      <td>12038</td>\n",
       "    </tr>\n",
       "    <tr>\n",
       "      <th>5</th>\n",
       "      <td>0.236146</td>\n",
       "      <td>0.253835</td>\n",
       "      <td>9498</td>\n",
       "      <td>1669</td>\n",
       "      <td>11167</td>\n",
       "    </tr>\n",
       "    <tr>\n",
       "      <th>6</th>\n",
       "      <td>0.213646</td>\n",
       "      <td>0.236146</td>\n",
       "      <td>9901</td>\n",
       "      <td>1575</td>\n",
       "      <td>11476</td>\n",
       "    </tr>\n",
       "    <tr>\n",
       "      <th>7</th>\n",
       "      <td>0.185070</td>\n",
       "      <td>0.213646</td>\n",
       "      <td>12255</td>\n",
       "      <td>1207</td>\n",
       "      <td>13462</td>\n",
       "    </tr>\n",
       "    <tr>\n",
       "      <th>8</th>\n",
       "      <td>0.155327</td>\n",
       "      <td>0.185070</td>\n",
       "      <td>12278</td>\n",
       "      <td>814</td>\n",
       "      <td>13092</td>\n",
       "    </tr>\n",
       "    <tr>\n",
       "      <th>9</th>\n",
       "      <td>0.000000</td>\n",
       "      <td>0.155327</td>\n",
       "      <td>13230</td>\n",
       "      <td>2525</td>\n",
       "      <td>15755</td>\n",
       "    </tr>\n",
       "  </tbody>\n",
       "</table>\n",
       "</div>"
      ],
      "text/plain": [
       "        Min       Max      0     1  total\n",
       "0  0.679562  1.000000   4112  8917  13029\n",
       "1  0.432845  0.679562  10155  6712  16867\n",
       "2  0.325155  0.432845   6977  5863  12840\n",
       "3  0.279980  0.325155   9299  4156  13455\n",
       "4  0.253835  0.279980   9982  2056  12038\n",
       "5  0.236146  0.253835   9498  1669  11167\n",
       "6  0.213646  0.236146   9901  1575  11476\n",
       "7  0.185070  0.213646  12255  1207  13462\n",
       "8  0.155327  0.185070  12278   814  13092\n",
       "9  0.000000  0.155327  13230  2525  15755"
      ]
     },
     "execution_count": 459,
     "metadata": {},
     "output_type": "execute_result"
    }
   ],
   "source": [
    "df_resultado"
   ]
  },
  {
   "cell_type": "markdown",
   "id": "b7ca7442-4c39-42bf-a969-51eecae2cc48",
   "metadata": {},
   "source": [
    "## Backtest Septiembre"
   ]
  },
  {
   "cell_type": "code",
   "execution_count": 460,
   "id": "494f266a-71c9-4f43-8c77-d1e21c1a22fe",
   "metadata": {},
   "outputs": [],
   "source": [
    "df1=df_filt_Septiembre_2023[variables3]"
   ]
  },
  {
   "cell_type": "code",
   "execution_count": 461,
   "id": "b05878cc-3cac-4293-8bf0-df90096941ff",
   "metadata": {},
   "outputs": [
    {
     "name": "stderr",
     "output_type": "stream",
     "text": [
      "C:\\Users\\damartinezp\\AppData\\Local\\Temp\\ipykernel_25084\\2737950152.py:1: SettingWithCopyWarning: \n",
      "A value is trying to be set on a copy of a slice from a DataFrame.\n",
      "Try using .loc[row_indexer,col_indexer] = value instead\n",
      "\n",
      "See the caveats in the documentation: https://pandas.pydata.org/pandas-docs/stable/user_guide/indexing.html#returning-a-view-versus-a-copy\n",
      "  df1[cuantis] = scaler_cargado.fit_transform(df1[cuantis])\n"
     ]
    }
   ],
   "source": [
    "df1[cuantis] = scaler_cargado.fit_transform(df1[cuantis])\n",
    "for i in cualis:\n",
    "    labelencoder = LabelEncoder()\n",
    "    df1.loc[:, i] = labelencoder.fit_transform(df1[i])\n",
    "\n",
    "X=df1.drop(columns=[\"marca_default\"])\n",
    "y=df1[\"marca_default\"]\n",
    "\n",
    "#train_size=0.8\n",
    "#train, test2 = model_selection.train_test_split(df2,train_size=int(train_size*len(df2)), stratify=df2['marca_default'], random_state=seed)\n",
    "#train, test = model_selection.train_test_split(df1,train_size=int(train_size*len(df1)), stratify=df1['marca_default'], random_state=seed)"
   ]
  },
  {
   "cell_type": "code",
   "execution_count": 462,
   "id": "0322536a-6541-43c1-bcc7-cba5bcdfee7b",
   "metadata": {},
   "outputs": [],
   "source": [
    "X_test = X\n",
    "y_test = y\n",
    "\n",
    "X_test = X_test.reset_index(drop=True)\n",
    "y_test = y_test.reset_index(drop=True)"
   ]
  },
  {
   "cell_type": "code",
   "execution_count": 463,
   "id": "1140bed9-224e-43b2-8a51-6a84d56879b1",
   "metadata": {},
   "outputs": [],
   "source": [
    "y_pred_proba_1 = model_1.predict_proba(X_test)[:,1]\n",
    "y_pred_proba_2 = model_2.predict_proba(X_test)[:,1]\n",
    "y_pred_proba_3 = model_3.predict_proba(X_test)[:,1]\n",
    "y_pred_proba_4 = model_4.predict_proba(X_test)[:,1]\n",
    "y_pred_proba_5 = model_5.predict_proba(X_test)[:,1]\n",
    "y_pred_proba_6 = model_6.predict_proba(X_test)[:,1]\n",
    "y_pred_proba_7 = model_7.predict_proba(X_test)[:,1]\n",
    "y_pred_proba_8 = model_8.predict_proba(X_test)[:,1]\n",
    "y_pred_proba_9 = model_9.predict_proba(X_test)[:,1]\n",
    "y_pred_proba_10 = model_10.predict_proba(X_test)[:,1]\n",
    "\n",
    "y_pred_proba=(y_pred_proba_1+y_pred_proba_2+y_pred_proba_3+y_pred_proba_4+y_pred_proba_5+y_pred_proba_6\n",
    "             +y_pred_proba_7+y_pred_proba_8+y_pred_proba_9+y_pred_proba_10)/10\n",
    "\n",
    "y_pred_labels = (y_pred_proba > proba).astype(int)"
   ]
  },
  {
   "cell_type": "code",
   "execution_count": 464,
   "id": "7df69c67-ac51-4c1c-a00e-d39b79603841",
   "metadata": {},
   "outputs": [
    {
     "data": {
      "text/html": [
       "<div>\n",
       "<style scoped>\n",
       "    .dataframe tbody tr th:only-of-type {\n",
       "        vertical-align: middle;\n",
       "    }\n",
       "\n",
       "    .dataframe tbody tr th {\n",
       "        vertical-align: top;\n",
       "    }\n",
       "\n",
       "    .dataframe thead th {\n",
       "        text-align: right;\n",
       "    }\n",
       "</style>\n",
       "<table border=\"1\" class=\"dataframe\">\n",
       "  <thead>\n",
       "    <tr style=\"text-align: right;\">\n",
       "      <th></th>\n",
       "      <th>count</th>\n",
       "      <th>mean</th>\n",
       "      <th>std</th>\n",
       "      <th>min</th>\n",
       "      <th>25%</th>\n",
       "      <th>50%</th>\n",
       "      <th>75%</th>\n",
       "      <th>max</th>\n",
       "    </tr>\n",
       "  </thead>\n",
       "  <tbody>\n",
       "    <tr>\n",
       "      <th>0</th>\n",
       "      <td>114319.0</td>\n",
       "      <td>0.169307</td>\n",
       "      <td>0.375024</td>\n",
       "      <td>0.0</td>\n",
       "      <td>0.0</td>\n",
       "      <td>0.0</td>\n",
       "      <td>0.0</td>\n",
       "      <td>1.0</td>\n",
       "    </tr>\n",
       "  </tbody>\n",
       "</table>\n",
       "</div>"
      ],
      "text/plain": [
       "      count      mean       std  min  25%  50%  75%  max\n",
       "0  114319.0  0.169307  0.375024  0.0  0.0  0.0  0.0  1.0"
      ]
     },
     "execution_count": 464,
     "metadata": {},
     "output_type": "execute_result"
    }
   ],
   "source": [
    "pd.DataFrame(y_pred_labels).describe().T"
   ]
  },
  {
   "cell_type": "code",
   "execution_count": 465,
   "id": "b89ad20f-538c-4c9c-aa06-ebf4511fb37d",
   "metadata": {},
   "outputs": [
    {
     "data": {
      "text/html": [
       "<div>\n",
       "<style scoped>\n",
       "    .dataframe tbody tr th:only-of-type {\n",
       "        vertical-align: middle;\n",
       "    }\n",
       "\n",
       "    .dataframe tbody tr th {\n",
       "        vertical-align: top;\n",
       "    }\n",
       "\n",
       "    .dataframe thead th {\n",
       "        text-align: right;\n",
       "    }\n",
       "</style>\n",
       "<table border=\"1\" class=\"dataframe\">\n",
       "  <thead>\n",
       "    <tr style=\"text-align: right;\">\n",
       "      <th></th>\n",
       "      <th>count</th>\n",
       "      <th>mean</th>\n",
       "      <th>std</th>\n",
       "      <th>min</th>\n",
       "      <th>25%</th>\n",
       "      <th>50%</th>\n",
       "      <th>75%</th>\n",
       "      <th>max</th>\n",
       "    </tr>\n",
       "  </thead>\n",
       "  <tbody>\n",
       "    <tr>\n",
       "      <th>0</th>\n",
       "      <td>114319.0</td>\n",
       "      <td>0.319916</td>\n",
       "      <td>0.200776</td>\n",
       "      <td>0.026488</td>\n",
       "      <td>0.188497</td>\n",
       "      <td>0.252256</td>\n",
       "      <td>0.425659</td>\n",
       "      <td>0.926585</td>\n",
       "    </tr>\n",
       "  </tbody>\n",
       "</table>\n",
       "</div>"
      ],
      "text/plain": [
       "      count      mean       std       min       25%       50%       75%  \\\n",
       "0  114319.0  0.319916  0.200776  0.026488  0.188497  0.252256  0.425659   \n",
       "\n",
       "        max  \n",
       "0  0.926585  "
      ]
     },
     "execution_count": 465,
     "metadata": {},
     "output_type": "execute_result"
    }
   ],
   "source": [
    "pd.DataFrame(y_pred_proba).describe().T"
   ]
  },
  {
   "cell_type": "code",
   "execution_count": 466,
   "id": "ce542e15-42f2-4a57-8619-4824ad0367aa",
   "metadata": {},
   "outputs": [],
   "source": [
    "cm=confusion_matrix(y_test, y_pred_labels)\n",
    "\n",
    "acc, err, se, sp, prec, FPR =calMetrics(cm)\n",
    "accuracy, precision, recall, f1, roc_auc, logloss=calMetrics2(y_test, y_pred_labels)\n",
    "    \n",
    "matrix={\n",
    "        \"Acc\": acc,\n",
    "        \"Err\": err,\n",
    "        \"Re\": se,\n",
    "        \"Sp\": sp,\n",
    "        \"Pre\": prec,\n",
    "        \"FPR\": FPR,\n",
    "        \"F1\":f1,\n",
    "        \"ROC_AUC\": roc_auc,\n",
    "        \"Log_Loss\": logloss\n",
    "    }"
   ]
  },
  {
   "cell_type": "code",
   "execution_count": 467,
   "id": "54156151-fe71-4240-bcb5-60607ba88099",
   "metadata": {},
   "outputs": [
    {
     "data": {
      "text/plain": [
       "{'Acc': 78.25,\n",
       " 'Err': 21.75,\n",
       " 'Re': 40.03,\n",
       " 'Sp': 90.42,\n",
       " 'Pre': 57.09,\n",
       " 'FPR': 9.58,\n",
       " 'F1': 47.06,\n",
       " 'ROC_AUC': 65.23,\n",
       " 'Log_Loss': 7.84}"
      ]
     },
     "execution_count": 467,
     "metadata": {},
     "output_type": "execute_result"
    }
   ],
   "source": [
    "matrix"
   ]
  },
  {
   "cell_type": "code",
   "execution_count": 468,
   "id": "d12e3be7-07c4-43ef-a27b-0996eb02686d",
   "metadata": {},
   "outputs": [
    {
     "data": {
      "text/plain": [
       "<AxesSubplot:>"
      ]
     },
     "execution_count": 468,
     "metadata": {},
     "output_type": "execute_result"
    },
    {
     "data": {
      "image/png": "[encoded data removed]",
      "text/plain": [
       "<Figure size 640x480 with 2 Axes>"
      ]
     },
     "metadata": {},
     "output_type": "display_data"
    }
   ],
   "source": [
    "cm = confusion_matrix(y_test, y_pred_labels)\n",
    "sns.heatmap(cm, annot=True, cmap='viridis', fmt='g')"
   ]
  },
  {
   "cell_type": "code",
   "execution_count": 469,
   "id": "007ebc16-0b7f-40fa-b2fb-9f435747f5f0",
   "metadata": {},
   "outputs": [],
   "source": [
    "df_output = pd.DataFrame({\"puntaje\": y_pred_proba, \"marca_default\": y_test})\n",
    "df_output.insert(0, \"V1\", range(1, len(df_output) + 1))\n",
    "df_output.to_csv(\"C:/Users/damartinezp/OneDrive - BAN100 S.A/Documentos/Proyectos Borrador/PD_TuCrédito/2024_modelo/datos_salida_logistic_202309.csv\")"
   ]
  },
  {
   "cell_type": "code",
   "execution_count": 470,
   "id": "99183dea-1440-4471-98f7-2805157817c1",
   "metadata": {},
   "outputs": [
    {
     "data": {
      "text/html": [
       "<div>\n",
       "<style scoped>\n",
       "    .dataframe tbody tr th:only-of-type {\n",
       "        vertical-align: middle;\n",
       "    }\n",
       "\n",
       "    .dataframe tbody tr th {\n",
       "        vertical-align: top;\n",
       "    }\n",
       "\n",
       "    .dataframe thead th {\n",
       "        text-align: right;\n",
       "    }\n",
       "</style>\n",
       "<table border=\"1\" class=\"dataframe\">\n",
       "  <thead>\n",
       "    <tr style=\"text-align: right;\">\n",
       "      <th></th>\n",
       "      <th>V1</th>\n",
       "      <th>puntaje</th>\n",
       "      <th>marca_default</th>\n",
       "    </tr>\n",
       "  </thead>\n",
       "  <tbody>\n",
       "    <tr>\n",
       "      <th>0</th>\n",
       "      <td>1</td>\n",
       "      <td>0.203293</td>\n",
       "      <td>0</td>\n",
       "    </tr>\n",
       "    <tr>\n",
       "      <th>1</th>\n",
       "      <td>2</td>\n",
       "      <td>0.228198</td>\n",
       "      <td>0</td>\n",
       "    </tr>\n",
       "    <tr>\n",
       "      <th>2</th>\n",
       "      <td>3</td>\n",
       "      <td>0.814185</td>\n",
       "      <td>1</td>\n",
       "    </tr>\n",
       "    <tr>\n",
       "      <th>3</th>\n",
       "      <td>4</td>\n",
       "      <td>0.198812</td>\n",
       "      <td>0</td>\n",
       "    </tr>\n",
       "    <tr>\n",
       "      <th>4</th>\n",
       "      <td>5</td>\n",
       "      <td>0.190680</td>\n",
       "      <td>0</td>\n",
       "    </tr>\n",
       "    <tr>\n",
       "      <th>...</th>\n",
       "      <td>...</td>\n",
       "      <td>...</td>\n",
       "      <td>...</td>\n",
       "    </tr>\n",
       "    <tr>\n",
       "      <th>114314</th>\n",
       "      <td>114315</td>\n",
       "      <td>0.511622</td>\n",
       "      <td>1</td>\n",
       "    </tr>\n",
       "    <tr>\n",
       "      <th>114315</th>\n",
       "      <td>114316</td>\n",
       "      <td>0.371591</td>\n",
       "      <td>0</td>\n",
       "    </tr>\n",
       "    <tr>\n",
       "      <th>114316</th>\n",
       "      <td>114317</td>\n",
       "      <td>0.892523</td>\n",
       "      <td>1</td>\n",
       "    </tr>\n",
       "    <tr>\n",
       "      <th>114317</th>\n",
       "      <td>114318</td>\n",
       "      <td>0.459034</td>\n",
       "      <td>1</td>\n",
       "    </tr>\n",
       "    <tr>\n",
       "      <th>114318</th>\n",
       "      <td>114319</td>\n",
       "      <td>0.155517</td>\n",
       "      <td>0</td>\n",
       "    </tr>\n",
       "  </tbody>\n",
       "</table>\n",
       "<p>114319 rows × 3 columns</p>\n",
       "</div>"
      ],
      "text/plain": [
       "            V1   puntaje  marca_default\n",
       "0            1  0.203293              0\n",
       "1            2  0.228198              0\n",
       "2            3  0.814185              1\n",
       "3            4  0.198812              0\n",
       "4            5  0.190680              0\n",
       "...        ...       ...            ...\n",
       "114314  114315  0.511622              1\n",
       "114315  114316  0.371591              0\n",
       "114316  114317  0.892523              1\n",
       "114317  114318  0.459034              1\n",
       "114318  114319  0.155517              0\n",
       "\n",
       "[114319 rows x 3 columns]"
      ]
     },
     "execution_count": 470,
     "metadata": {},
     "output_type": "execute_result"
    }
   ],
   "source": [
    "df_output"
   ]
  },
  {
   "cell_type": "code",
   "execution_count": 471,
   "id": "3b886ea9-87df-4d76-b04c-5f2f245eee4c",
   "metadata": {},
   "outputs": [
    {
     "name": "stdout",
     "output_type": "stream",
     "text": [
      "marca_default\n",
      "0    86715\n",
      "1    27604\n",
      "Name: count, dtype: int64\n"
     ]
    }
   ],
   "source": [
    "print(df_output['marca_default'].value_counts())"
   ]
  },
  {
   "cell_type": "code",
   "execution_count": 472,
   "id": "d123dc2e-a56e-41a5-8a89-dbeb6f1ebfbe",
   "metadata": {},
   "outputs": [],
   "source": [
    "deciles = deciles_train_06"
   ]
  },
  {
   "cell_type": "code",
   "execution_count": 473,
   "id": "4edff97c-7687-4fa6-8a5f-ae952174da70",
   "metadata": {},
   "outputs": [],
   "source": [
    "# Calcular el número de eventos y no eventos para cada intervalo de decil\n",
    "eventos = []\n",
    "no_eventos = []\n",
    "for i in range(len(deciles) - 1):\n",
    "    intervalo = df_output[(df_output['puntaje'] >= deciles[i]) & (df_output['puntaje'] < deciles[i+1])]\n",
    "    eventos.append(intervalo['marca_default'].sum())\n",
    "    no_eventos.append(len(intervalo) - intervalo['marca_default'].sum())\n",
    "eventos.reverse()\n",
    "no_eventos.reverse()\n",
    "    \n",
    "# Calcular el total de eventos y no eventos\n",
    "total_eventos = df_output['marca_default'].sum()\n",
    "total_no_eventos = len(df_output) - df_output['marca_default'].sum()\n",
    "total_bin = [x + y for x, y in zip(eventos,no_eventos)]\n",
    "df1 = {'Min': np.flip(deciles[0:len(deciles)-1]).tolist(),\n",
    "        'Max': np.flip(deciles[1:len(deciles)]).tolist(),\n",
    "        '0': no_eventos,\n",
    "        '1': eventos,\n",
    "        'total': total_bin}\n",
    "df_resultado = pd.DataFrame(df1)"
   ]
  },
  {
   "cell_type": "code",
   "execution_count": 474,
   "id": "82a64933-6652-42a5-a17e-191a5a3ad1bb",
   "metadata": {},
   "outputs": [
    {
     "data": {
      "text/html": [
       "<div>\n",
       "<style scoped>\n",
       "    .dataframe tbody tr th:only-of-type {\n",
       "        vertical-align: middle;\n",
       "    }\n",
       "\n",
       "    .dataframe tbody tr th {\n",
       "        vertical-align: top;\n",
       "    }\n",
       "\n",
       "    .dataframe thead th {\n",
       "        text-align: right;\n",
       "    }\n",
       "</style>\n",
       "<table border=\"1\" class=\"dataframe\">\n",
       "  <thead>\n",
       "    <tr style=\"text-align: right;\">\n",
       "      <th></th>\n",
       "      <th>Min</th>\n",
       "      <th>Max</th>\n",
       "      <th>0</th>\n",
       "      <th>1</th>\n",
       "      <th>total</th>\n",
       "    </tr>\n",
       "  </thead>\n",
       "  <tbody>\n",
       "    <tr>\n",
       "      <th>0</th>\n",
       "      <td>0.679562</td>\n",
       "      <td>1.000000</td>\n",
       "      <td>3677</td>\n",
       "      <td>6198</td>\n",
       "      <td>9875</td>\n",
       "    </tr>\n",
       "    <tr>\n",
       "      <th>1</th>\n",
       "      <td>0.432845</td>\n",
       "      <td>0.679562</td>\n",
       "      <td>9385</td>\n",
       "      <td>7915</td>\n",
       "      <td>17300</td>\n",
       "    </tr>\n",
       "    <tr>\n",
       "      <th>2</th>\n",
       "      <td>0.325155</td>\n",
       "      <td>0.432845</td>\n",
       "      <td>7310</td>\n",
       "      <td>4668</td>\n",
       "      <td>11978</td>\n",
       "    </tr>\n",
       "    <tr>\n",
       "      <th>3</th>\n",
       "      <td>0.279980</td>\n",
       "      <td>0.325155</td>\n",
       "      <td>6522</td>\n",
       "      <td>1985</td>\n",
       "      <td>8507</td>\n",
       "    </tr>\n",
       "    <tr>\n",
       "      <th>4</th>\n",
       "      <td>0.253835</td>\n",
       "      <td>0.279980</td>\n",
       "      <td>7354</td>\n",
       "      <td>1697</td>\n",
       "      <td>9051</td>\n",
       "    </tr>\n",
       "    <tr>\n",
       "      <th>5</th>\n",
       "      <td>0.236146</td>\n",
       "      <td>0.253835</td>\n",
       "      <td>8035</td>\n",
       "      <td>1057</td>\n",
       "      <td>9092</td>\n",
       "    </tr>\n",
       "    <tr>\n",
       "      <th>6</th>\n",
       "      <td>0.213646</td>\n",
       "      <td>0.236146</td>\n",
       "      <td>8835</td>\n",
       "      <td>899</td>\n",
       "      <td>9734</td>\n",
       "    </tr>\n",
       "    <tr>\n",
       "      <th>7</th>\n",
       "      <td>0.185070</td>\n",
       "      <td>0.213646</td>\n",
       "      <td>11121</td>\n",
       "      <td>787</td>\n",
       "      <td>11908</td>\n",
       "    </tr>\n",
       "    <tr>\n",
       "      <th>8</th>\n",
       "      <td>0.155327</td>\n",
       "      <td>0.185070</td>\n",
       "      <td>11405</td>\n",
       "      <td>522</td>\n",
       "      <td>11927</td>\n",
       "    </tr>\n",
       "    <tr>\n",
       "      <th>9</th>\n",
       "      <td>0.000000</td>\n",
       "      <td>0.155327</td>\n",
       "      <td>13071</td>\n",
       "      <td>1876</td>\n",
       "      <td>14947</td>\n",
       "    </tr>\n",
       "  </tbody>\n",
       "</table>\n",
       "</div>"
      ],
      "text/plain": [
       "        Min       Max      0     1  total\n",
       "0  0.679562  1.000000   3677  6198   9875\n",
       "1  0.432845  0.679562   9385  7915  17300\n",
       "2  0.325155  0.432845   7310  4668  11978\n",
       "3  0.279980  0.325155   6522  1985   8507\n",
       "4  0.253835  0.279980   7354  1697   9051\n",
       "5  0.236146  0.253835   8035  1057   9092\n",
       "6  0.213646  0.236146   8835   899   9734\n",
       "7  0.185070  0.213646  11121   787  11908\n",
       "8  0.155327  0.185070  11405   522  11927\n",
       "9  0.000000  0.155327  13071  1876  14947"
      ]
     },
     "execution_count": 474,
     "metadata": {},
     "output_type": "execute_result"
    }
   ],
   "source": [
    "df_resultado"
   ]
  },
  {
   "cell_type": "markdown",
   "id": "ad60f90b-ba81-426b-aa13-9ef19c987fdb",
   "metadata": {},
   "source": [
    "### Coeficientes del modelo"
   ]
  },
  {
   "cell_type": "code",
   "execution_count": 386,
   "id": "a2d93140-7692-4366-9a59-c0efe2c239e9",
   "metadata": {},
   "outputs": [
    {
     "data": {
      "text/plain": [
       "array([-0.31711393])"
      ]
     },
     "execution_count": 386,
     "metadata": {},
     "output_type": "execute_result"
    }
   ],
   "source": [
    "model_8.intercept_"
   ]
  },
  {
   "cell_type": "code",
   "execution_count": 387,
   "id": "a810acaf-7440-4537-a941-d7d4668d474b",
   "metadata": {},
   "outputs": [
    {
     "data": {
      "text/plain": [
       "array([ 1.4036224 , -0.92993152, -1.76948464,  0.54927106, -0.68422796,\n",
       "        0.14698258, -0.48605881,  1.24040463, -0.42893507])"
      ]
     },
     "execution_count": 387,
     "metadata": {},
     "output_type": "execute_result"
    }
   ],
   "source": [
    "model_8.coef_[0]"
   ]
  }
 ],
 "metadata": {
  "kernelspec": {
   "display_name": "Python 3 (ipykernel)",
   "language": "python",
   "name": "python3"
  },
  "language_info": {
   "codemirror_mode": {
    "name": "ipython",
    "version": 3
   },
   "file_extension": ".py",
   "mimetype": "text/x-python",
   "name": "python",
   "nbconvert_exporter": "python",
   "pygments_lexer": "ipython3",
   "version": "3.11.4"
  }
 },
 "nbformat": 4,
 "nbformat_minor": 5
}
